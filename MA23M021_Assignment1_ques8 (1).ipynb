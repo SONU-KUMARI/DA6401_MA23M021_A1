{
  "nbformat": 4,
  "nbformat_minor": 0,
  "metadata": {
    "colab": {
      "provenance": []
    },
    "kernelspec": {
      "name": "python3",
      "display_name": "Python 3"
    },
    "language_info": {
      "name": "python"
    }
  },
  "cells": [
    {
      "cell_type": "code",
      "execution_count": null,
      "metadata": {
        "colab": {
          "base_uri": "https://localhost:8080/"
        },
        "id": "uoGF6WZY_2kQ",
        "outputId": "8e9eb682-adeb-499e-a2fe-95840fa88255"
      },
      "outputs": [
        {
          "output_type": "stream",
          "name": "stderr",
          "text": [
            "\u001b[34m\u001b[1mwandb\u001b[0m: Using wandb-core as the SDK backend.  Please refer to https://wandb.me/wandb-core for more information.\n",
            "\u001b[34m\u001b[1mwandb\u001b[0m: \u001b[33mWARNING\u001b[0m If you're specifying your api key in code, ensure this code is not shared publicly.\n",
            "\u001b[34m\u001b[1mwandb\u001b[0m: \u001b[33mWARNING\u001b[0m Consider setting the WANDB_API_KEY environment variable, or running `wandb login` from the command line.\n",
            "\u001b[34m\u001b[1mwandb\u001b[0m: No netrc file found, creating one.\n",
            "\u001b[34m\u001b[1mwandb\u001b[0m: Appending key for api.wandb.ai to your netrc file: /root/.netrc\n",
            "\u001b[34m\u001b[1mwandb\u001b[0m: Currently logged in as: \u001b[33mma23m021\u001b[0m (\u001b[33mma23m021-iit-madras\u001b[0m) to \u001b[32mhttps://api.wandb.ai\u001b[0m. Use \u001b[1m`wandb login --relogin`\u001b[0m to force relogin\n"
          ]
        },
        {
          "output_type": "execute_result",
          "data": {
            "text/plain": [
              "True"
            ]
          },
          "metadata": {},
          "execution_count": 1
        }
      ],
      "source": [
        "import wandb\n",
        "import random\n",
        "from types import SimpleNamespace\n",
        "wandb.finish()\n",
        "wandb.login(key = 'b5d1fbca9d5170f54415e9c5a70ef09cee7a0aec')"
      ]
    },
    {
      "cell_type": "code",
      "source": [
        "from keras.datasets import fashion_mnist\n",
        "import numpy as np\n",
        "import numpy as np\n",
        "import matplotlib.pyplot as plt\n",
        "from keras.datasets import fashion_mnist\n",
        "from sklearn.model_selection import train_test_split\n",
        "\n",
        "# fashion-MNIST dataset..................\n",
        "(x_train, y_train), (x_test, y_test) = fashion_mnist.load_data()\n",
        "\n",
        "# normalizing input data...............\n",
        "x_train = x_train.reshape(x_train.shape[0], -1) / 255.0\n",
        "x_test = x_test.reshape(x_test.shape[0], -1) / 255.0\n",
        "\n",
        "x_train, x_valid, y_train, y_valid = train_test_split(x_train, y_train, test_size=0.2, random_state=42)\n",
        "\n",
        "# One-hot encoding function.............................\n",
        "def onehot_encoding(y, num_classes=10):\n",
        "    return np.eye(num_classes)[y]\n",
        "\n",
        "# Activation functions................\n",
        "def relu(x):\n",
        "    return np.maximum(0, x)\n",
        "\n",
        "def softmax(x):\n",
        "    exp_x = np.exp(x - np.max(x, axis=1, keepdims=True))\n",
        "    return exp_x / np.sum(exp_x, axis=1, keepdims=True)\n",
        "\n",
        "def relu_derivative(x):\n",
        "    return (x > 0).astype(float)\n",
        "\n",
        "# initializing weights and biases.......................................\n",
        "def param_init(input_size, num_hidden_layers, num_neurons, output_size=10, init_method='xavier'):\n",
        "    layers = [input_size] + [num_neurons] * num_hidden_layers + [output_size]\n",
        "    weights = {}\n",
        "    biases = {}\n",
        "\n",
        "    # initialization choices.......................................\n",
        "    for i in range(1, len(layers)):\n",
        "        if init_method == 'xavier':\n",
        "            weights[f'W{i}'] = np.random.randn(layers[i - 1], layers[i]) * np.sqrt(2 / layers[i - 1])\n",
        "        elif init_method == 'random':\n",
        "            weights[f'W{i}'] = np.random.randn(layers[i - 1], layers[i]) * 0.01\n",
        "        else:\n",
        "            raise ValueError(\"Invalid init_method! Use 'xavier' or 'random'.\")\n",
        "\n",
        "        biases[f'b{i}'] = np.zeros((1, layers[i]))\n",
        "\n",
        "    return weights, biases\n",
        "\n",
        "\n",
        "# Define activation functions\n",
        "def sigmoid(x):\n",
        "    return 1 / (1 + np.exp(-x))\n",
        "\n",
        "def tanh(x):\n",
        "    return np.tanh(x)\n",
        "\n",
        "def relu(x):\n",
        "    return np.maximum(0, x)\n",
        "\n",
        "def softmax(x):\n",
        "    exp_x = np.exp(x - np.max(x, axis=1, keepdims=True))\n",
        "    return exp_x / np.sum(exp_x, axis=1, keepdims=True)\n",
        "\n",
        "# forward propagation........................................\n",
        "def forwardd_propagation_(x, num_hidden_layers, num_neurons, weights=None, biases=None, output_size=10, activation_func='sigmoid'):\n",
        "    input_size = x.shape[1]\n",
        "    # initializing the parameters that is weights and bias.........................\n",
        "    if weights is None or biases is None:\n",
        "        weights, biases = param_init(input_size, num_hidden_layers, num_neurons, output_size)\n",
        "\n",
        "    activations = {0: x}\n",
        "    z_values = {}\n",
        "# updation loop.......................................\n",
        "    for i in range(1, len(weights) + 1):\n",
        "        z_values[i] = np.dot(activations[i - 1], weights[f'W{i}']) + biases[f'b{i}']\n",
        "        if i < len(weights):\n",
        "            if activation_func == 'relu':\n",
        "                activations[i] = relu(z_values[i])\n",
        "            elif activation_func == 'tanh':\n",
        "                activations[i] = tanh(z_values[i])\n",
        "            else:\n",
        "                activations[i] = sigmoid(z_values[i])\n",
        "        else:\n",
        "            activations[i] = softmax(z_values[i])\n",
        "\n",
        "    return activations[len(weights)], activations, z_values, weights, biases\n",
        "\n",
        "\n",
        "# Define activation function derivatives.........................\n",
        "def relu_derivative(x):\n",
        "    return np.where(x > 0, 1, 0)\n",
        "\n",
        "def sigmoid_derivative(x):\n",
        "    sig = 1 / (1 + np.exp(-x))\n",
        "    return sig * (1 - sig)\n",
        "\n",
        "def tanh_derivative(x):\n",
        "    return 1 - np.tanh(x) ** 2\n",
        "\n",
        "# Updated backward propagation....................................\n",
        "def backwardd_propagation_(y, activations, z_values, weights, activation_function):\n",
        "    grads = {}\n",
        "    m = y.shape[0]\n",
        "\n",
        "    def get_derivative(activation_func):\n",
        "        if activation_func == 'relu':\n",
        "            return relu_derivative\n",
        "        elif activation_func == 'sigmoid':\n",
        "            return sigmoid_derivative\n",
        "        elif activation_func == 'tanh':\n",
        "            return tanh_derivative\n",
        "\n",
        "    hidden_derivative = get_derivative(activation_function)\n",
        "\n",
        "    dz = activations[len(weights)] - y\n",
        "\n",
        "    # Gradient calculation loop.................................\n",
        "    for i in reversed(range(1, len(weights) + 1)):\n",
        "        grads[f\"dW{i}\"] = np.dot(activations[i-1].T, dz) / m\n",
        "        grads[f\"db{i}\"] = np.sum(dz, axis=0, keepdims=True) / m\n",
        "        if i > 1:\n",
        "            dz = np.dot(dz, weights[f'W{i}'].T) * hidden_derivative(z_values[i-1])\n",
        "\n",
        "    return grads\n",
        "\n",
        "\n",
        "# Update weights and bias using gradient descent..............................\n",
        "def update_paramss_(weights, biases, grads, learningg_rate_):\n",
        "    for i in range(1, len(weights) + 1):\n",
        "        weights[f'W{i}'] -= learningg_rate_ * grads[f\"dW{i}\"]\n",
        "        biases[f'b{i}'] -= learningg_rate_ * grads[f\"db{i}\"]\n",
        "    return weights, biases\n",
        "\n",
        "y_hat, _, _, _, _ = forwardd_propagation_(\n",
        "    x=x_train,\n",
        "    num_hidden_layers=3,\n",
        "    num_neurons=128,\n",
        "    activation_func='relu'\n",
        ")\n",
        "\n",
        "\n",
        "# printing probabilities and shape......................................\n",
        "print(\"Probabilities:\\n\", y_hat[0])\n",
        "print(\"Shape:\", y_hat.shape)"
      ],
      "metadata": {
        "colab": {
          "base_uri": "https://localhost:8080/"
        },
        "id": "di5y9xjZAa6V",
        "outputId": "036e9b8c-50a3-4392-9d5f-28648324d8f3"
      },
      "execution_count": null,
      "outputs": [
        {
          "output_type": "stream",
          "name": "stdout",
          "text": [
            "Downloading data from https://storage.googleapis.com/tensorflow/tf-keras-datasets/train-labels-idx1-ubyte.gz\n",
            "\u001b[1m29515/29515\u001b[0m \u001b[32m━━━━━━━━━━━━━━━━━━━━\u001b[0m\u001b[37m\u001b[0m \u001b[1m0s\u001b[0m 0us/step\n",
            "Downloading data from https://storage.googleapis.com/tensorflow/tf-keras-datasets/train-images-idx3-ubyte.gz\n",
            "\u001b[1m26421880/26421880\u001b[0m \u001b[32m━━━━━━━━━━━━━━━━━━━━\u001b[0m\u001b[37m\u001b[0m \u001b[1m0s\u001b[0m 0us/step\n",
            "Downloading data from https://storage.googleapis.com/tensorflow/tf-keras-datasets/t10k-labels-idx1-ubyte.gz\n",
            "\u001b[1m5148/5148\u001b[0m \u001b[32m━━━━━━━━━━━━━━━━━━━━\u001b[0m\u001b[37m\u001b[0m \u001b[1m0s\u001b[0m 0us/step\n",
            "Downloading data from https://storage.googleapis.com/tensorflow/tf-keras-datasets/t10k-images-idx3-ubyte.gz\n",
            "\u001b[1m4422102/4422102\u001b[0m \u001b[32m━━━━━━━━━━━━━━━━━━━━\u001b[0m\u001b[37m\u001b[0m \u001b[1m0s\u001b[0m 0us/step\n",
            "Probabilities:\n",
            " [0.09345313 0.08493351 0.13893631 0.14191379 0.06422201 0.10989648\n",
            " 0.13660777 0.04972838 0.07500006 0.10530856]\n",
            "Shape: (48000, 10)\n"
          ]
        }
      ]
    },
    {
      "cell_type": "code",
      "source": [
        "\n",
        "# fashion-MNIST dataset...............................\n",
        "(X_train, y_train), (X_test, y_test) = fashion_mnist.load_data()\n",
        "\n",
        "# Normalize pixel values.........................\n",
        "X_train = X_train.astype(np.float32) / 255.0\n",
        "X_test = X_test.astype(np.float32) / 255.0\n",
        "\n",
        "# flattening images.................................\n",
        "X_train = X_train.reshape(X_train.shape[0], -1)\n",
        "X_test = X_test.reshape(X_test.shape[0], -1)\n",
        "\n",
        "# One-hot encode labels.........................\n",
        "y_train = onehot_encoding(y_train)\n",
        "y_test = onehot_encoding(y_test)\n",
        "'''\n",
        "y_train = encoder.fit_transform(y_train.reshape(-1, 1))\n",
        "y_test = encoder.transform(y_test.reshape(-1, 1))'''\n",
        "\n",
        "# Split data.................................\n",
        "X_train, X_valid, y_train, y_valid = train_test_split(X_train, y_train, test_size=0.2, random_state=42)\n",
        "\n",
        "\n",
        "\n",
        "# function for stochastic gradient optimizer .........................\n",
        "def sgd(weights, biases, gradients, params):\n",
        "    lr = params.get(\"learningg_rate_\", 0.01)\n",
        "    for i in range(1, len(weights) + 1):\n",
        "        weights[f\"W{i}\"] -= lr * gradients[f\"dW{i}\"]\n",
        "        biases[f\"b{i}\"] -= lr * gradients[f\"db{i}\"]\n",
        "    return weights, biases\n",
        "\n",
        "\n",
        "\n",
        "# function for Adam optimizer ..............................\n",
        "def adam(weights, biases, gradients, params):\n",
        "    lr, beta1, beta2, epsilon = params.get(\"learningg_rate_\", 0.001), 0.9, 0.999, 1e-8\n",
        "\n",
        "    # Initializing momentum and velocity dictionaries.............................\n",
        "    m_w = params.setdefault(\"m_w\", {f\"W{i}\": np.zeros_like(weights[f\"W{i}\"]) for i in range(1, len(weights) + 1)})\n",
        "    v_w = params.setdefault(\"v_w\", {f\"W{i}\": np.zeros_like(weights[f\"W{i}\"]) for i in range(1, len(weights) + 1)})\n",
        "    m_b = params.setdefault(\"m_b\", {f\"b{i}\": np.zeros_like(biases[f\"b{i}\"]) for i in range(1, len(biases) + 1)})\n",
        "    v_b = params.setdefault(\"v_b\", {f\"b{i}\": np.zeros_like(biases[f\"b{i}\"]) for i in range(1, len(biases) + 1)})\n",
        "    t = params.setdefault(\"t\", 0) + 1\n",
        "\n",
        "    for i in range(1, len(weights) + 1):\n",
        "        w_key, b_key = f\"W{i}\", f\"b{i}\"\n",
        "\n",
        "        m_w[w_key] = beta1 * m_w[w_key] + (1 - beta1) * gradients[f'd{w_key}']\n",
        "        v_w[w_key] = beta2 * v_w[w_key] + (1 - beta2) * (gradients[f'd{w_key}'] ** 2)\n",
        "        m_b[b_key] = beta1 * m_b[b_key] + (1 - beta1) * gradients[f'd{b_key}']\n",
        "        v_b[b_key] = beta2 * v_b[b_key] + (1 - beta2) * (gradients[f'd{b_key}'] ** 2)\n",
        "\n",
        "        m_w_hat, v_w_hat = m_w[w_key] / (1 - beta1**t), v_w[w_key] / (1 - beta2**t)\n",
        "        m_b_hat, v_b_hat = m_b[b_key] / (1 - beta1**t), v_b[b_key] / (1 - beta2**t)\n",
        "\n",
        "        # Updateing  weights and biases...............................\n",
        "        weights[w_key] -= lr * m_w_hat / (np.sqrt(v_w_hat) + epsilon)\n",
        "        biases[b_key] -= lr * m_b_hat / (np.sqrt(v_b_hat) + epsilon)\n",
        "\n",
        "    params[\"t\"] = t  # Update timestep\n",
        "    return weights, biases\n",
        "\n",
        "#function for momentum optimizer ..............................\n",
        "def momentum(weights, biases, gradients, params):\n",
        "    lr, beta = params.get(\"learningg_rate_\", 0.01), params.get(\"beta\", 0.9)\n",
        "    v_w = params.setdefault(\"v_w\", {f\"W{i}\": np.zeros_like(weights[f\"W{i}\"]) for i in range(1, len(weights) + 1)})\n",
        "    v_b = params.setdefault(\"v_b\", {f\"b{i}\": np.zeros_like(biases[f\"b{i}\"]) for i in range(1, len(biases) + 1)})\n",
        "    for i in range(1, len(weights) + 1):\n",
        "        w_key_, b_key_ = f\"W{i}\", f\"b{i}\"\n",
        "        v_w[w_key_] = beta * v_w[w_key_] + (1 - beta) * gradients[f\"dW{i}\"]\n",
        "        v_b[b_key_] = beta * v_b[b_key_] + (1 - beta) * gradients[f\"db{i}\"]\n",
        "        weights[w_key_] -= lr * v_w[w_key_]\n",
        "        biases[b_key_] -= lr * v_b[b_key_]\n",
        "    return weights, biases\n",
        "\n",
        "\n",
        "# function for neaterov optimizer ..............................\n",
        "def nesterov(weights, biases, gradients, params):\n",
        "    lr, mu = params.get(\"learningg_rate_\", 0.01), 0.9\n",
        "    v_w = params.setdefault(\"v_w\", {f\"W{i}\": np.zeros_like(weights[f\"W{i}\"]) for i in range(1, len(weights) + 1)})\n",
        "    v_b = params.setdefault(\"v_b\", {f\"b{i}\": np.zeros_like(biases[f\"b{i}\"]) for i in range(1, len(biases) + 1)})\n",
        "\n",
        "    for i in range(1, len(weights) + 1):\n",
        "        v_w[f\"W{i}\"] = mu * v_w[f\"W{i}\"] + lr * gradients[f\"dW{i}\"]\n",
        "        v_b[f\"b{i}\"] = mu * v_b[f\"b{i}\"] + lr * gradients[f\"db{i}\"]\n",
        "        weights[f\"W{i}\"] -= v_w[f\"W{i}\"]   # updating weights\n",
        "        biases[f\"b{i}\"] -= v_b[f\"b{i}\"]\n",
        "    return weights, biases\n",
        "\n",
        "#function for rmsprop optimizer ..............................\n",
        "def rmsprop(weights, biases, gradients, params):\n",
        "    lr, beta, epsilon = params.get(\"learningg_rate_\", 0.001), 0.9, 1e-8\n",
        "    s_w = params.setdefault(\"s_w\", {f\"W{i}\": np.zeros_like(weights[f\"W{i}\"]) for i in range(1, len(weights) + 1)})\n",
        "    s_b = params.setdefault(\"s_b\", {f\"b{i}\": np.zeros_like(biases[f\"b{i}\"]) for i in range(1, len(biases) + 1)})\n",
        "\n",
        "    for i in range(1, len(weights) + 1):\n",
        "        s_w[f\"W{i}\"] = beta * s_w[f\"W{i}\"] + (1 - beta) * gradients[f\"dW{i}\"]**2\n",
        "        s_b[f\"b{i}\"] = beta * s_b[f\"b{i}\"] + (1 - beta) * gradients[f\"db{i}\"]**2\n",
        "        weights[f\"W{i}\"] -= lr * gradients[f\"dW{i}\"] / (np.sqrt(s_w[f\"W{i}\"]) + epsilon)\n",
        "        biases[f\"b{i}\"] -= lr * gradients[f\"db{i}\"] / (np.sqrt(s_b[f\"b{i}\"]) + epsilon)\n",
        "    return weights, biases\n",
        "\n",
        "#function for nadam optimizer ..............................\n",
        "def nadam(weights, biases, gradients, params):\n",
        "    lr, beta1, beta2, epsilon = params.get(\"learningg_rate_\", 0.001), 0.9, 0.999, 1e-8\n",
        "\n",
        "    # Initialize momentum and velocity dictionaries...............................\n",
        "    m_w = params.setdefault(\"m_w\", {f\"W{i}\": np.zeros_like(weights[f\"W{i}\"]) for i in range(1, len(weights) + 1)})\n",
        "    v_w = params.setdefault(\"v_w\", {f\"W{i}\": np.zeros_like(weights[f\"W{i}\"]) for i in range(1, len(weights) + 1)})\n",
        "    m_b = params.setdefault(\"m_b\", {f\"b{i}\": np.zeros_like(biases[f\"b{i}\"]) for i in range(1, len(biases) + 1)})\n",
        "    v_b = params.setdefault(\"v_b\", {f\"b{i}\": np.zeros_like(biases[f\"b{i}\"]) for i in range(1, len(biases) + 1)})\n",
        "    t = params.setdefault(\"t\", 0) + 1\n",
        "\n",
        "    for i in range(1, len(weights) + 1):\n",
        "        w_key, b_key = f\"W{i}\", f\"b{i}\"\n",
        "\n",
        "        # Updating biased first moment estimate-momentum part............................\n",
        "        m_w[w_key] = beta1 * m_w[w_key] + (1 - beta1) * gradients[f\"dW{i}\"]\n",
        "        m_b[b_key] = beta1 * m_b[b_key] + (1 - beta1) * gradients[f\"db{i}\"]\n",
        "\n",
        "        # Updating biased second moment estimate-RMSProp part...............................\n",
        "        v_w[w_key] = beta2 * v_w[w_key] + (1 - beta2) * (gradients[f\"dW{i}\"] ** 2)\n",
        "        v_b[b_key] = beta2 * v_b[b_key] + (1 - beta2) * (gradients[f\"db{i}\"] ** 2)\n",
        "\n",
        "        # estimates of Bias-corrected first and second moments............................\n",
        "        m_w_hat = m_w[w_key] / (1 - beta1**t)\n",
        "        v_w_hat = v_w[w_key] / (1 - beta2**t)\n",
        "        m_b_hat = m_b[b_key] / (1 - beta1**t)\n",
        "        v_b_hat = v_b[b_key] / (1 - beta2**t)\n",
        "\n",
        "        # Nesterov momentum:............................\n",
        "        m_w_nesterov = beta1 * m_w_hat + (1 - beta1) * gradients[f\"dW{i}\"]\n",
        "        m_b_nesterov = beta1 * m_b_hat + (1 - beta1) * gradients[f\"db{i}\"]\n",
        "\n",
        "        # Updating weights and biases using Nadam...................\n",
        "        weights[w_key] -= lr * m_w_nesterov / (np.sqrt(v_w_hat) + epsilon)\n",
        "        biases[b_key] -= lr * m_b_nesterov / (np.sqrt(v_b_hat) + epsilon)\n",
        "\n",
        "    params[\"t\"] = t\n",
        "    return weights, biases\n",
        "\n",
        "\n",
        "\n"
      ],
      "metadata": {
        "id": "JituypN1Aa8I"
      },
      "execution_count": null,
      "outputs": []
    },
    {
      "cell_type": "code",
      "source": [
        "\n",
        "\n",
        "\n",
        "def training_model(X_train, Y_train, X_valid, Y_valid, num_hidden_layers, num_neurons, num_epochs=20, batch_size=32,\n",
        "                   learningg_rate_=0.01, optimizer='adam', init_method='xavier', activation_func='relu',\n",
        "                   loss_type='cross_entropy'):\n",
        "    if Y_train.ndim == 1:\n",
        "        Y_train = onehot_encoding(Y_train)\n",
        "    if Y_valid.ndim == 1:\n",
        "        Y_valid = onehot_encoding(Y_valid)\n",
        "\n",
        "    # Initialize weights and biases\n",
        "    input_size = X_train.shape[1]\n",
        "    weights, biases = param_init(input_size, num_hidden_layers, num_neurons, init_method=init_method)\n",
        "\n",
        "    # Optimizer parameters\n",
        "    optimizer_params = {\n",
        "        \"learningg_rate_\": learningg_rate_,\n",
        "        \"beta\": 0.9,\n",
        "        \"beta1\": 0.9,\n",
        "        \"beta2\": 0.999,\n",
        "        \"eps\": 1e-8\n",
        "    }\n",
        "\n",
        "    # Choose optimizer function\n",
        "    optimizer_func = {\n",
        "        'adam': adam, 'sgd': sgd, 'momentum': momentum,\n",
        "        'nesterov': nesterov, 'rmsprop': rmsprop, 'nadam': nadam\n",
        "    }.get(optimizer, adam)\n",
        "\n",
        "    num_samples = X_train.shape[0]\n",
        "    num_batches = num_samples // batch_size\n",
        "\n",
        "    # Training loop\n",
        "    for epoch in range(num_epochs):\n",
        "        perm = np.random.permutation(num_samples)\n",
        "        X_train, Y_train = X_train[perm], Y_train[perm]\n",
        "\n",
        "        epoch_loss = 0\n",
        "        for i in range(num_batches):\n",
        "            batch_X = X_train[i * batch_size:(i + 1) * batch_size]\n",
        "            batch_Y = Y_train[i * batch_size:(i + 1) * batch_size]\n",
        "\n",
        "            # Forward pass\n",
        "            probs, activations, z_values, weights, biases = forwardd_propagation_(\n",
        "                batch_X, num_hidden_layers, num_neurons, weights, biases, activation_func\n",
        "            )\n",
        "\n",
        "            # Compute loss based on loss_type\n",
        "            if loss_type == \"cross_entropy\":\n",
        "                batch_loss = -np.mean(np.sum(batch_Y * np.log(probs + 1e-8), axis=1))\n",
        "            elif loss_type == \"mse\":\n",
        "                batch_loss = np.mean(np.sum((batch_Y - probs) ** 2, axis=1))\n",
        "            else:\n",
        "                raise ValueError(f\"Unsupported loss type: {loss_type}\")\n",
        "\n",
        "            epoch_loss += batch_loss\n",
        "\n",
        "            # Backward pass and update weights\n",
        "            grads = backwardd_propagation_(batch_Y, activations, z_values, weights, activation_func)\n",
        "            weights, biases = optimizer_func(weights, biases, grads, optimizer_params)\n",
        "\n",
        "        # Validation phase\n",
        "        valid_probs, _, _, _, _ = forwardd_propagation_(\n",
        "            X_valid, num_hidden_layers, num_neurons, weights, biases, activation_func\n",
        "        )\n",
        "\n",
        "        # Validation loss and accuracy\n",
        "        if loss_type == \"cross_entropy\":\n",
        "            validation_loss_value = -np.mean(np.sum(Y_valid * np.log(valid_probs + 1e-8), axis=1))\n",
        "        elif loss_type == \"mse\":\n",
        "            validation_loss_value = np.mean(np.sum((Y_valid - valid_probs) ** 2, axis=1))\n",
        "\n",
        "        val_accuracy_value = np.mean(np.argmax(valid_probs, axis=1) == np.argmax(Y_valid, axis=1))\n",
        "\n",
        "        # Log to wandb\n",
        "        wandb.log({\n",
        "            \"epoch\": epoch + 1,\n",
        "            \"train_loss\": epoch_loss / num_batches,\n",
        "            \"val_loss\": validation_loss_value,\n",
        "            \"val_accuracy\": val_accuracy_value,\n",
        "            \"loss_type\": loss_type\n",
        "        })\n",
        "\n",
        "        print(f\"Epoch {epoch + 1}/{num_epochs}, {loss_type} - Train Loss: {epoch_loss / num_batches:.4f}, \"\n",
        "              f\"Val Loss: {validation_loss_value:.4f}, Val Accuracy: {val_accuracy_value:.4f}\")\n",
        "\n",
        "    return weights, biases\n"
      ],
      "metadata": {
        "id": "fDtVGuGg_6dO"
      },
      "execution_count": null,
      "outputs": []
    },
    {
      "cell_type": "code",
      "source": [
        "sweep_config = {\n",
        "    \"method\": \"bayes\",\n",
        "    \"metric\": {\"name\": \"val_loss\", \"goal\": \"minimize\"},\n",
        "    \"parameters\": {\n",
        "        \"epochs\": {\"values\": [5, 10]},\n",
        "        \"num_hidden_layers\": {\"values\": [3, 4, 5]},\n",
        "        \"hidden_layer_size\": {\"values\": [32, 64, 128]},\n",
        "        \"learningg_rate_\": {\"values\": [1e-3, 1e-4]},\n",
        "        \"optimizer\": {\"values\": [\"sgd\", \"momentum\", \"nesterov\", \"rmsprop\", \"adam\", \"nadam\"]},\n",
        "        \"batch_size\": {\"values\": [16, 32, 64]},\n",
        "        \"weight_initialization\": {\"values\": [\"random\", \"xavier\"]},\n",
        "        \"activation_function\": {\"values\": [\"relu\", \"sigmoid\", \"tanh\"]}\n",
        "    }\n",
        "}\n",
        "\n",
        "# Cross-Entropy Sweep\n",
        "sweep_config_ce = sweep_config.copy()\n",
        "sweep_config_ce['parameters']['loss_type'] = {\"value\": \"cross_entropy\"}\n",
        "print(\"Creating Cross-Entropy Sweep...\")\n",
        "sweep_id_ce = wandb.sweep(sweep=sweep_config_ce, project='MA23M021_A1_Q8_CROSS')\n",
        "print(\"Cross-Entropy Sweep ID:\", sweep_id_ce)"
      ],
      "metadata": {
        "colab": {
          "base_uri": "https://localhost:8080/"
        },
        "id": "wKTWlyyoADEy",
        "outputId": "c44f47a2-2f9e-4151-d15a-d3a5a08eb5b6"
      },
      "execution_count": null,
      "outputs": [
        {
          "output_type": "stream",
          "name": "stdout",
          "text": [
            "Creating Cross-Entropy Sweep...\n",
            "Create sweep with ID: e8rqj5nt\n",
            "Sweep URL: https://wandb.ai/ma23m021-iit-madras/MA23M021_A1_Q8_CROSS/sweeps/e8rqj5nt\n",
            "Cross-Entropy Sweep ID: e8rqj5nt\n"
          ]
        }
      ]
    },
    {
      "cell_type": "code",
      "source": [
        "def main_():\n",
        "    run = wandb.init(project='MA23M021_A1_Q8_CROSS', reinit=True)  # Specify the project name\n",
        "    config = wandb.config\n",
        "\n",
        "    # Train the model\n",
        "    weights, biases = training_model(\n",
        "        X_train=X_train,\n",
        "        Y_train=y_train,\n",
        "        X_valid=X_valid,\n",
        "        Y_valid=y_valid,\n",
        "        num_hidden_layers=config.num_hidden_layers,\n",
        "        num_neurons=config.hidden_layer_size,\n",
        "        num_epochs=config.epochs,\n",
        "        batch_size=config.batch_size,\n",
        "        learningg_rate_=config.learningg_rate_,\n",
        "        optimizer=config.optimizer,\n",
        "        init_method=config.weight_initialization,\n",
        "        activation_func=config.activation_function,\n",
        "        loss_type=config.loss_type\n",
        "    )\n",
        "\n",
        "    wandb.finish()  # Finish the run properly\n",
        "\n",
        "\n"
      ],
      "metadata": {
        "id": "EV-YFpRKAV7b"
      },
      "execution_count": null,
      "outputs": []
    },
    {
      "cell_type": "code",
      "source": [
        "# Cross-Entropy Sweep\n",
        "wandb.agent(sweep_id_ce, function=main_, count=50)\n",
        "\n"
      ],
      "metadata": {
        "colab": {
          "base_uri": "https://localhost:8080/",
          "height": 1000
        },
        "id": "1TIxheHBAV9E",
        "outputId": "76edd5ff-4454-49a8-f0df-3e214a596d18"
      },
      "execution_count": null,
      "outputs": [
        {
          "output_type": "stream",
          "name": "stderr",
          "text": [
            "\u001b[34m\u001b[1mwandb\u001b[0m: Agent Starting Run: yxa5kzia with config:\n",
            "\u001b[34m\u001b[1mwandb\u001b[0m: \tactivation_function: sigmoid\n",
            "\u001b[34m\u001b[1mwandb\u001b[0m: \tbatch_size: 16\n",
            "\u001b[34m\u001b[1mwandb\u001b[0m: \tepochs: 10\n",
            "\u001b[34m\u001b[1mwandb\u001b[0m: \thidden_layer_size: 64\n",
            "\u001b[34m\u001b[1mwandb\u001b[0m: \tlearningg_rate_: 0.001\n",
            "\u001b[34m\u001b[1mwandb\u001b[0m: \tloss_type: cross_entropy\n",
            "\u001b[34m\u001b[1mwandb\u001b[0m: \tnum_hidden_layers: 5\n",
            "\u001b[34m\u001b[1mwandb\u001b[0m: \toptimizer: sgd\n",
            "\u001b[34m\u001b[1mwandb\u001b[0m: \tweight_initialization: xavier\n"
          ]
        },
        {
          "output_type": "display_data",
          "data": {
            "text/plain": [
              "<IPython.core.display.HTML object>"
            ],
            "text/html": [
              "Ignoring project 'MA23M021_A1_Q8_CROSS' when running a sweep."
            ]
          },
          "metadata": {}
        },
        {
          "output_type": "display_data",
          "data": {
            "text/plain": [
              "<IPython.core.display.HTML object>"
            ],
            "text/html": [
              "Tracking run with wandb version 0.19.7"
            ]
          },
          "metadata": {}
        },
        {
          "output_type": "display_data",
          "data": {
            "text/plain": [
              "<IPython.core.display.HTML object>"
            ],
            "text/html": [
              "Run data is saved locally in <code>/content/wandb/run-20250309_130838-yxa5kzia</code>"
            ]
          },
          "metadata": {}
        },
        {
          "output_type": "display_data",
          "data": {
            "text/plain": [
              "<IPython.core.display.HTML object>"
            ],
            "text/html": [
              "Syncing run <strong><a href='https://wandb.ai/ma23m021-iit-madras/MA23M021_A1_Q8_CROSS/runs/yxa5kzia' target=\"_blank\">lucky-sweep-1</a></strong> to <a href='https://wandb.ai/ma23m021-iit-madras/MA23M021_A1_Q8_CROSS' target=\"_blank\">Weights & Biases</a> (<a href='https://wandb.me/developer-guide' target=\"_blank\">docs</a>)<br>Sweep page: <a href='https://wandb.ai/ma23m021-iit-madras/MA23M021_A1_Q8_CROSS/sweeps/64kuh29x' target=\"_blank\">https://wandb.ai/ma23m021-iit-madras/MA23M021_A1_Q8_CROSS/sweeps/64kuh29x</a>"
            ]
          },
          "metadata": {}
        },
        {
          "output_type": "display_data",
          "data": {
            "text/plain": [
              "<IPython.core.display.HTML object>"
            ],
            "text/html": [
              " View project at <a href='https://wandb.ai/ma23m021-iit-madras/MA23M021_A1_Q8_CROSS' target=\"_blank\">https://wandb.ai/ma23m021-iit-madras/MA23M021_A1_Q8_CROSS</a>"
            ]
          },
          "metadata": {}
        },
        {
          "output_type": "display_data",
          "data": {
            "text/plain": [
              "<IPython.core.display.HTML object>"
            ],
            "text/html": [
              " View sweep at <a href='https://wandb.ai/ma23m021-iit-madras/MA23M021_A1_Q8_CROSS/sweeps/64kuh29x' target=\"_blank\">https://wandb.ai/ma23m021-iit-madras/MA23M021_A1_Q8_CROSS/sweeps/64kuh29x</a>"
            ]
          },
          "metadata": {}
        },
        {
          "output_type": "display_data",
          "data": {
            "text/plain": [
              "<IPython.core.display.HTML object>"
            ],
            "text/html": [
              " View run at <a href='https://wandb.ai/ma23m021-iit-madras/MA23M021_A1_Q8_CROSS/runs/yxa5kzia' target=\"_blank\">https://wandb.ai/ma23m021-iit-madras/MA23M021_A1_Q8_CROSS/runs/yxa5kzia</a>"
            ]
          },
          "metadata": {}
        },
        {
          "output_type": "stream",
          "name": "stdout",
          "text": [
            "Epoch 1/10, cross_entropy - Train Loss: 2.3239, Val Loss: 2.3025, Val Accuracy: 0.0987\n",
            "Epoch 2/10, cross_entropy - Train Loss: 2.3026, Val Loss: 2.3023, Val Accuracy: 0.1004\n",
            "Epoch 3/10, cross_entropy - Train Loss: 2.3024, Val Loss: 2.3022, Val Accuracy: 0.1016\n",
            "Epoch 4/10, cross_entropy - Train Loss: 2.3024, Val Loss: 2.3020, Val Accuracy: 0.1498\n",
            "Epoch 5/10, cross_entropy - Train Loss: 2.3023, Val Loss: 2.3023, Val Accuracy: 0.1086\n",
            "Epoch 6/10, cross_entropy - Train Loss: 2.3022, Val Loss: 2.3023, Val Accuracy: 0.0998\n",
            "Epoch 7/10, cross_entropy - Train Loss: 2.3021, Val Loss: 2.3019, Val Accuracy: 0.0987\n",
            "Epoch 8/10, cross_entropy - Train Loss: 2.3020, Val Loss: 2.3018, Val Accuracy: 0.2075\n",
            "Epoch 9/10, cross_entropy - Train Loss: 2.3018, Val Loss: 2.3017, Val Accuracy: 0.1009\n",
            "Epoch 10/10, cross_entropy - Train Loss: 2.3018, Val Loss: 2.3016, Val Accuracy: 0.1003\n"
          ]
        },
        {
          "output_type": "display_data",
          "data": {
            "text/plain": [
              "<IPython.core.display.HTML object>"
            ],
            "text/html": []
          },
          "metadata": {}
        },
        {
          "output_type": "display_data",
          "data": {
            "text/plain": [
              "<IPython.core.display.HTML object>"
            ],
            "text/html": [
              "<br>    <style><br>        .wandb-row {<br>            display: flex;<br>            flex-direction: row;<br>            flex-wrap: wrap;<br>            justify-content: flex-start;<br>            width: 100%;<br>        }<br>        .wandb-col {<br>            display: flex;<br>            flex-direction: column;<br>            flex-basis: 100%;<br>            flex: 1;<br>            padding: 10px;<br>        }<br>    </style><br><div class=\"wandb-row\"><div class=\"wandb-col\"><h3>Run history:</h3><br/><table class=\"wandb\"><tr><td>epoch</td><td>▁▂▃▃▄▅▆▆▇█</td></tr><tr><td>train_loss</td><td>█▁▁▁▁▁▁▁▁▁</td></tr><tr><td>val_accuracy</td><td>▁▁▁▄▂▁▁█▁▁</td></tr><tr><td>val_loss</td><td>█▇▅▄▇▆▃▃▂▁</td></tr></table><br/></div><div class=\"wandb-col\"><h3>Run summary:</h3><br/><table class=\"wandb\"><tr><td>epoch</td><td>10</td></tr><tr><td>loss_type</td><td>cross_entropy</td></tr><tr><td>train_loss</td><td>2.30177</td></tr><tr><td>val_accuracy</td><td>0.10025</td></tr><tr><td>val_loss</td><td>2.3016</td></tr></table><br/></div></div>"
            ]
          },
          "metadata": {}
        },
        {
          "output_type": "display_data",
          "data": {
            "text/plain": [
              "<IPython.core.display.HTML object>"
            ],
            "text/html": [
              " View run <strong style=\"color:#cdcd00\">lucky-sweep-1</strong> at: <a href='https://wandb.ai/ma23m021-iit-madras/MA23M021_A1_Q8_CROSS/runs/yxa5kzia' target=\"_blank\">https://wandb.ai/ma23m021-iit-madras/MA23M021_A1_Q8_CROSS/runs/yxa5kzia</a><br> View project at: <a href='https://wandb.ai/ma23m021-iit-madras/MA23M021_A1_Q8_CROSS' target=\"_blank\">https://wandb.ai/ma23m021-iit-madras/MA23M021_A1_Q8_CROSS</a><br>Synced 5 W&B file(s), 0 media file(s), 0 artifact file(s) and 0 other file(s)"
            ]
          },
          "metadata": {}
        },
        {
          "output_type": "display_data",
          "data": {
            "text/plain": [
              "<IPython.core.display.HTML object>"
            ],
            "text/html": [
              "Find logs at: <code>./wandb/run-20250309_130838-yxa5kzia/logs</code>"
            ]
          },
          "metadata": {}
        },
        {
          "output_type": "stream",
          "name": "stderr",
          "text": [
            "\u001b[34m\u001b[1mwandb\u001b[0m: Agent Starting Run: rk41ovil with config:\n",
            "\u001b[34m\u001b[1mwandb\u001b[0m: \tactivation_function: sigmoid\n",
            "\u001b[34m\u001b[1mwandb\u001b[0m: \tbatch_size: 16\n",
            "\u001b[34m\u001b[1mwandb\u001b[0m: \tepochs: 10\n",
            "\u001b[34m\u001b[1mwandb\u001b[0m: \thidden_layer_size: 128\n",
            "\u001b[34m\u001b[1mwandb\u001b[0m: \tlearningg_rate_: 0.0001\n",
            "\u001b[34m\u001b[1mwandb\u001b[0m: \tloss_type: cross_entropy\n",
            "\u001b[34m\u001b[1mwandb\u001b[0m: \tnum_hidden_layers: 4\n",
            "\u001b[34m\u001b[1mwandb\u001b[0m: \toptimizer: adam\n",
            "\u001b[34m\u001b[1mwandb\u001b[0m: \tweight_initialization: xavier\n"
          ]
        },
        {
          "output_type": "display_data",
          "data": {
            "text/plain": [
              "<IPython.core.display.HTML object>"
            ],
            "text/html": [
              "Ignoring project 'MA23M021_A1_Q8_CROSS' when running a sweep."
            ]
          },
          "metadata": {}
        },
        {
          "output_type": "display_data",
          "data": {
            "text/plain": [
              "<IPython.core.display.HTML object>"
            ],
            "text/html": [
              "Tracking run with wandb version 0.19.7"
            ]
          },
          "metadata": {}
        },
        {
          "output_type": "display_data",
          "data": {
            "text/plain": [
              "<IPython.core.display.HTML object>"
            ],
            "text/html": [
              "Run data is saved locally in <code>/content/wandb/run-20250309_130939-rk41ovil</code>"
            ]
          },
          "metadata": {}
        },
        {
          "output_type": "display_data",
          "data": {
            "text/plain": [
              "<IPython.core.display.HTML object>"
            ],
            "text/html": [
              "Syncing run <strong><a href='https://wandb.ai/ma23m021-iit-madras/MA23M021_A1_Q8_CROSS/runs/rk41ovil' target=\"_blank\">absurd-sweep-2</a></strong> to <a href='https://wandb.ai/ma23m021-iit-madras/MA23M021_A1_Q8_CROSS' target=\"_blank\">Weights & Biases</a> (<a href='https://wandb.me/developer-guide' target=\"_blank\">docs</a>)<br>Sweep page: <a href='https://wandb.ai/ma23m021-iit-madras/MA23M021_A1_Q8_CROSS/sweeps/64kuh29x' target=\"_blank\">https://wandb.ai/ma23m021-iit-madras/MA23M021_A1_Q8_CROSS/sweeps/64kuh29x</a>"
            ]
          },
          "metadata": {}
        },
        {
          "output_type": "display_data",
          "data": {
            "text/plain": [
              "<IPython.core.display.HTML object>"
            ],
            "text/html": [
              " View project at <a href='https://wandb.ai/ma23m021-iit-madras/MA23M021_A1_Q8_CROSS' target=\"_blank\">https://wandb.ai/ma23m021-iit-madras/MA23M021_A1_Q8_CROSS</a>"
            ]
          },
          "metadata": {}
        },
        {
          "output_type": "display_data",
          "data": {
            "text/plain": [
              "<IPython.core.display.HTML object>"
            ],
            "text/html": [
              " View sweep at <a href='https://wandb.ai/ma23m021-iit-madras/MA23M021_A1_Q8_CROSS/sweeps/64kuh29x' target=\"_blank\">https://wandb.ai/ma23m021-iit-madras/MA23M021_A1_Q8_CROSS/sweeps/64kuh29x</a>"
            ]
          },
          "metadata": {}
        },
        {
          "output_type": "display_data",
          "data": {
            "text/plain": [
              "<IPython.core.display.HTML object>"
            ],
            "text/html": [
              " View run at <a href='https://wandb.ai/ma23m021-iit-madras/MA23M021_A1_Q8_CROSS/runs/rk41ovil' target=\"_blank\">https://wandb.ai/ma23m021-iit-madras/MA23M021_A1_Q8_CROSS/runs/rk41ovil</a>"
            ]
          },
          "metadata": {}
        },
        {
          "output_type": "stream",
          "name": "stdout",
          "text": [
            "Epoch 1/10, cross_entropy - Train Loss: 1.4544, Val Loss: 0.9100, Val Accuracy: 0.6893\n",
            "Epoch 2/10, cross_entropy - Train Loss: 0.7260, Val Loss: 0.6360, Val Accuracy: 0.7626\n",
            "Epoch 3/10, cross_entropy - Train Loss: 0.5813, Val Loss: 0.5508, Val Accuracy: 0.7903\n",
            "Epoch 4/10, cross_entropy - Train Loss: 0.5197, Val Loss: 0.5002, Val Accuracy: 0.8191\n",
            "Epoch 5/10, cross_entropy - Train Loss: 0.4732, Val Loss: 0.4723, Val Accuracy: 0.8334\n",
            "Epoch 6/10, cross_entropy - Train Loss: 0.4414, Val Loss: 0.4385, Val Accuracy: 0.8433\n",
            "Epoch 7/10, cross_entropy - Train Loss: 0.4192, Val Loss: 0.4195, Val Accuracy: 0.8504\n",
            "Epoch 8/10, cross_entropy - Train Loss: 0.4016, Val Loss: 0.4077, Val Accuracy: 0.8548\n",
            "Epoch 9/10, cross_entropy - Train Loss: 0.3878, Val Loss: 0.3958, Val Accuracy: 0.8577\n",
            "Epoch 10/10, cross_entropy - Train Loss: 0.3748, Val Loss: 0.3876, Val Accuracy: 0.8600\n"
          ]
        },
        {
          "output_type": "display_data",
          "data": {
            "text/plain": [
              "<IPython.core.display.HTML object>"
            ],
            "text/html": []
          },
          "metadata": {}
        },
        {
          "output_type": "display_data",
          "data": {
            "text/plain": [
              "<IPython.core.display.HTML object>"
            ],
            "text/html": [
              "<br>    <style><br>        .wandb-row {<br>            display: flex;<br>            flex-direction: row;<br>            flex-wrap: wrap;<br>            justify-content: flex-start;<br>            width: 100%;<br>        }<br>        .wandb-col {<br>            display: flex;<br>            flex-direction: column;<br>            flex-basis: 100%;<br>            flex: 1;<br>            padding: 10px;<br>        }<br>    </style><br><div class=\"wandb-row\"><div class=\"wandb-col\"><h3>Run history:</h3><br/><table class=\"wandb\"><tr><td>epoch</td><td>▁▂▃▃▄▅▆▆▇█</td></tr><tr><td>train_loss</td><td>█▃▂▂▂▁▁▁▁▁</td></tr><tr><td>val_accuracy</td><td>▁▄▅▆▇▇████</td></tr><tr><td>val_loss</td><td>█▄▃▃▂▂▁▁▁▁</td></tr></table><br/></div><div class=\"wandb-col\"><h3>Run summary:</h3><br/><table class=\"wandb\"><tr><td>epoch</td><td>10</td></tr><tr><td>loss_type</td><td>cross_entropy</td></tr><tr><td>train_loss</td><td>0.37477</td></tr><tr><td>val_accuracy</td><td>0.86</td></tr><tr><td>val_loss</td><td>0.38763</td></tr></table><br/></div></div>"
            ]
          },
          "metadata": {}
        },
        {
          "output_type": "display_data",
          "data": {
            "text/plain": [
              "<IPython.core.display.HTML object>"
            ],
            "text/html": [
              " View run <strong style=\"color:#cdcd00\">absurd-sweep-2</strong> at: <a href='https://wandb.ai/ma23m021-iit-madras/MA23M021_A1_Q8_CROSS/runs/rk41ovil' target=\"_blank\">https://wandb.ai/ma23m021-iit-madras/MA23M021_A1_Q8_CROSS/runs/rk41ovil</a><br> View project at: <a href='https://wandb.ai/ma23m021-iit-madras/MA23M021_A1_Q8_CROSS' target=\"_blank\">https://wandb.ai/ma23m021-iit-madras/MA23M021_A1_Q8_CROSS</a><br>Synced 5 W&B file(s), 0 media file(s), 0 artifact file(s) and 0 other file(s)"
            ]
          },
          "metadata": {}
        },
        {
          "output_type": "display_data",
          "data": {
            "text/plain": [
              "<IPython.core.display.HTML object>"
            ],
            "text/html": [
              "Find logs at: <code>./wandb/run-20250309_130939-rk41ovil/logs</code>"
            ]
          },
          "metadata": {}
        },
        {
          "output_type": "stream",
          "name": "stderr",
          "text": [
            "\u001b[34m\u001b[1mwandb\u001b[0m: Agent Starting Run: nc02slth with config:\n",
            "\u001b[34m\u001b[1mwandb\u001b[0m: \tactivation_function: relu\n",
            "\u001b[34m\u001b[1mwandb\u001b[0m: \tbatch_size: 32\n",
            "\u001b[34m\u001b[1mwandb\u001b[0m: \tepochs: 10\n",
            "\u001b[34m\u001b[1mwandb\u001b[0m: \thidden_layer_size: 64\n",
            "\u001b[34m\u001b[1mwandb\u001b[0m: \tlearningg_rate_: 0.001\n",
            "\u001b[34m\u001b[1mwandb\u001b[0m: \tloss_type: cross_entropy\n",
            "\u001b[34m\u001b[1mwandb\u001b[0m: \tnum_hidden_layers: 3\n",
            "\u001b[34m\u001b[1mwandb\u001b[0m: \toptimizer: momentum\n",
            "\u001b[34m\u001b[1mwandb\u001b[0m: \tweight_initialization: random\n"
          ]
        },
        {
          "output_type": "display_data",
          "data": {
            "text/plain": [
              "<IPython.core.display.HTML object>"
            ],
            "text/html": [
              "Ignoring project 'MA23M021_A1_Q8_CROSS' when running a sweep."
            ]
          },
          "metadata": {}
        },
        {
          "output_type": "display_data",
          "data": {
            "text/plain": [
              "<IPython.core.display.HTML object>"
            ],
            "text/html": [
              "Tracking run with wandb version 0.19.7"
            ]
          },
          "metadata": {}
        },
        {
          "output_type": "display_data",
          "data": {
            "text/plain": [
              "<IPython.core.display.HTML object>"
            ],
            "text/html": [
              "Run data is saved locally in <code>/content/wandb/run-20250309_131302-nc02slth</code>"
            ]
          },
          "metadata": {}
        },
        {
          "output_type": "display_data",
          "data": {
            "text/plain": [
              "<IPython.core.display.HTML object>"
            ],
            "text/html": [
              "Syncing run <strong><a href='https://wandb.ai/ma23m021-iit-madras/MA23M021_A1_Q8_CROSS/runs/nc02slth' target=\"_blank\">solar-sweep-3</a></strong> to <a href='https://wandb.ai/ma23m021-iit-madras/MA23M021_A1_Q8_CROSS' target=\"_blank\">Weights & Biases</a> (<a href='https://wandb.me/developer-guide' target=\"_blank\">docs</a>)<br>Sweep page: <a href='https://wandb.ai/ma23m021-iit-madras/MA23M021_A1_Q8_CROSS/sweeps/64kuh29x' target=\"_blank\">https://wandb.ai/ma23m021-iit-madras/MA23M021_A1_Q8_CROSS/sweeps/64kuh29x</a>"
            ]
          },
          "metadata": {}
        },
        {
          "output_type": "display_data",
          "data": {
            "text/plain": [
              "<IPython.core.display.HTML object>"
            ],
            "text/html": [
              " View project at <a href='https://wandb.ai/ma23m021-iit-madras/MA23M021_A1_Q8_CROSS' target=\"_blank\">https://wandb.ai/ma23m021-iit-madras/MA23M021_A1_Q8_CROSS</a>"
            ]
          },
          "metadata": {}
        },
        {
          "output_type": "display_data",
          "data": {
            "text/plain": [
              "<IPython.core.display.HTML object>"
            ],
            "text/html": [
              " View sweep at <a href='https://wandb.ai/ma23m021-iit-madras/MA23M021_A1_Q8_CROSS/sweeps/64kuh29x' target=\"_blank\">https://wandb.ai/ma23m021-iit-madras/MA23M021_A1_Q8_CROSS/sweeps/64kuh29x</a>"
            ]
          },
          "metadata": {}
        },
        {
          "output_type": "display_data",
          "data": {
            "text/plain": [
              "<IPython.core.display.HTML object>"
            ],
            "text/html": [
              " View run at <a href='https://wandb.ai/ma23m021-iit-madras/MA23M021_A1_Q8_CROSS/runs/nc02slth' target=\"_blank\">https://wandb.ai/ma23m021-iit-madras/MA23M021_A1_Q8_CROSS/runs/nc02slth</a>"
            ]
          },
          "metadata": {}
        },
        {
          "output_type": "stream",
          "name": "stdout",
          "text": [
            "Epoch 1/10, cross_entropy - Train Loss: 2.3028, Val Loss: 2.3027, Val Accuracy: 0.0966\n",
            "Epoch 2/10, cross_entropy - Train Loss: 2.3028, Val Loss: 2.3027, Val Accuracy: 0.0966\n",
            "Epoch 3/10, cross_entropy - Train Loss: 2.3028, Val Loss: 2.3026, Val Accuracy: 0.0987\n",
            "Epoch 4/10, cross_entropy - Train Loss: 2.3027, Val Loss: 2.3027, Val Accuracy: 0.1004\n",
            "Epoch 5/10, cross_entropy - Train Loss: 2.3028, Val Loss: 2.3027, Val Accuracy: 0.0966\n",
            "Epoch 6/10, cross_entropy - Train Loss: 2.3028, Val Loss: 2.3027, Val Accuracy: 0.0966\n",
            "Epoch 7/10, cross_entropy - Train Loss: 2.3028, Val Loss: 2.3027, Val Accuracy: 0.0966\n",
            "Epoch 8/10, cross_entropy - Train Loss: 2.3028, Val Loss: 2.3026, Val Accuracy: 0.1015\n",
            "Epoch 9/10, cross_entropy - Train Loss: 2.3027, Val Loss: 2.3027, Val Accuracy: 0.1009\n",
            "Epoch 10/10, cross_entropy - Train Loss: 2.3028, Val Loss: 2.3027, Val Accuracy: 0.0966\n"
          ]
        },
        {
          "output_type": "display_data",
          "data": {
            "text/plain": [
              "<IPython.core.display.HTML object>"
            ],
            "text/html": []
          },
          "metadata": {}
        },
        {
          "output_type": "display_data",
          "data": {
            "text/plain": [
              "<IPython.core.display.HTML object>"
            ],
            "text/html": [
              "<br>    <style><br>        .wandb-row {<br>            display: flex;<br>            flex-direction: row;<br>            flex-wrap: wrap;<br>            justify-content: flex-start;<br>            width: 100%;<br>        }<br>        .wandb-col {<br>            display: flex;<br>            flex-direction: column;<br>            flex-basis: 100%;<br>            flex: 1;<br>            padding: 10px;<br>        }<br>    </style><br><div class=\"wandb-row\"><div class=\"wandb-col\"><h3>Run history:</h3><br/><table class=\"wandb\"><tr><td>epoch</td><td>▁▂▃▃▄▅▆▆▇█</td></tr><tr><td>train_loss</td><td>█▄▆▁▆▄▅▅▃▇</td></tr><tr><td>val_accuracy</td><td>▁▁▄▆▁▁▁█▇▁</td></tr><tr><td>val_loss</td><td>▇▅▃█▆▅▄▁▆▇</td></tr></table><br/></div><div class=\"wandb-col\"><h3>Run summary:</h3><br/><table class=\"wandb\"><tr><td>epoch</td><td>10</td></tr><tr><td>loss_type</td><td>cross_entropy</td></tr><tr><td>train_loss</td><td>2.30278</td></tr><tr><td>val_accuracy</td><td>0.09658</td></tr><tr><td>val_loss</td><td>2.30272</td></tr></table><br/></div></div>"
            ]
          },
          "metadata": {}
        },
        {
          "output_type": "display_data",
          "data": {
            "text/plain": [
              "<IPython.core.display.HTML object>"
            ],
            "text/html": [
              " View run <strong style=\"color:#cdcd00\">solar-sweep-3</strong> at: <a href='https://wandb.ai/ma23m021-iit-madras/MA23M021_A1_Q8_CROSS/runs/nc02slth' target=\"_blank\">https://wandb.ai/ma23m021-iit-madras/MA23M021_A1_Q8_CROSS/runs/nc02slth</a><br> View project at: <a href='https://wandb.ai/ma23m021-iit-madras/MA23M021_A1_Q8_CROSS' target=\"_blank\">https://wandb.ai/ma23m021-iit-madras/MA23M021_A1_Q8_CROSS</a><br>Synced 5 W&B file(s), 0 media file(s), 0 artifact file(s) and 0 other file(s)"
            ]
          },
          "metadata": {}
        },
        {
          "output_type": "display_data",
          "data": {
            "text/plain": [
              "<IPython.core.display.HTML object>"
            ],
            "text/html": [
              "Find logs at: <code>./wandb/run-20250309_131302-nc02slth/logs</code>"
            ]
          },
          "metadata": {}
        },
        {
          "output_type": "stream",
          "name": "stderr",
          "text": [
            "\u001b[34m\u001b[1mwandb\u001b[0m: Agent Starting Run: pvaqyvo5 with config:\n",
            "\u001b[34m\u001b[1mwandb\u001b[0m: \tactivation_function: sigmoid\n",
            "\u001b[34m\u001b[1mwandb\u001b[0m: \tbatch_size: 16\n",
            "\u001b[34m\u001b[1mwandb\u001b[0m: \tepochs: 5\n",
            "\u001b[34m\u001b[1mwandb\u001b[0m: \thidden_layer_size: 64\n",
            "\u001b[34m\u001b[1mwandb\u001b[0m: \tlearningg_rate_: 0.0001\n",
            "\u001b[34m\u001b[1mwandb\u001b[0m: \tloss_type: cross_entropy\n",
            "\u001b[34m\u001b[1mwandb\u001b[0m: \tnum_hidden_layers: 5\n",
            "\u001b[34m\u001b[1mwandb\u001b[0m: \toptimizer: momentum\n",
            "\u001b[34m\u001b[1mwandb\u001b[0m: \tweight_initialization: random\n"
          ]
        },
        {
          "output_type": "display_data",
          "data": {
            "text/plain": [
              "<IPython.core.display.HTML object>"
            ],
            "text/html": [
              "Ignoring project 'MA23M021_A1_Q8_CROSS' when running a sweep."
            ]
          },
          "metadata": {}
        },
        {
          "output_type": "display_data",
          "data": {
            "text/plain": [
              "<IPython.core.display.HTML object>"
            ],
            "text/html": [
              "Tracking run with wandb version 0.19.7"
            ]
          },
          "metadata": {}
        },
        {
          "output_type": "display_data",
          "data": {
            "text/plain": [
              "<IPython.core.display.HTML object>"
            ],
            "text/html": [
              "Run data is saved locally in <code>/content/wandb/run-20250309_131343-pvaqyvo5</code>"
            ]
          },
          "metadata": {}
        },
        {
          "output_type": "display_data",
          "data": {
            "text/plain": [
              "<IPython.core.display.HTML object>"
            ],
            "text/html": [
              "Syncing run <strong><a href='https://wandb.ai/ma23m021-iit-madras/MA23M021_A1_Q8_CROSS/runs/pvaqyvo5' target=\"_blank\">deft-sweep-4</a></strong> to <a href='https://wandb.ai/ma23m021-iit-madras/MA23M021_A1_Q8_CROSS' target=\"_blank\">Weights & Biases</a> (<a href='https://wandb.me/developer-guide' target=\"_blank\">docs</a>)<br>Sweep page: <a href='https://wandb.ai/ma23m021-iit-madras/MA23M021_A1_Q8_CROSS/sweeps/64kuh29x' target=\"_blank\">https://wandb.ai/ma23m021-iit-madras/MA23M021_A1_Q8_CROSS/sweeps/64kuh29x</a>"
            ]
          },
          "metadata": {}
        },
        {
          "output_type": "display_data",
          "data": {
            "text/plain": [
              "<IPython.core.display.HTML object>"
            ],
            "text/html": [
              " View project at <a href='https://wandb.ai/ma23m021-iit-madras/MA23M021_A1_Q8_CROSS' target=\"_blank\">https://wandb.ai/ma23m021-iit-madras/MA23M021_A1_Q8_CROSS</a>"
            ]
          },
          "metadata": {}
        },
        {
          "output_type": "display_data",
          "data": {
            "text/plain": [
              "<IPython.core.display.HTML object>"
            ],
            "text/html": [
              " View sweep at <a href='https://wandb.ai/ma23m021-iit-madras/MA23M021_A1_Q8_CROSS/sweeps/64kuh29x' target=\"_blank\">https://wandb.ai/ma23m021-iit-madras/MA23M021_A1_Q8_CROSS/sweeps/64kuh29x</a>"
            ]
          },
          "metadata": {}
        },
        {
          "output_type": "display_data",
          "data": {
            "text/plain": [
              "<IPython.core.display.HTML object>"
            ],
            "text/html": [
              " View run at <a href='https://wandb.ai/ma23m021-iit-madras/MA23M021_A1_Q8_CROSS/runs/pvaqyvo5' target=\"_blank\">https://wandb.ai/ma23m021-iit-madras/MA23M021_A1_Q8_CROSS/runs/pvaqyvo5</a>"
            ]
          },
          "metadata": {}
        },
        {
          "output_type": "stream",
          "name": "stdout",
          "text": [
            "Epoch 1/5, cross_entropy - Train Loss: 2.3031, Val Loss: 2.3027, Val Accuracy: 0.1002\n",
            "Epoch 2/5, cross_entropy - Train Loss: 2.3028, Val Loss: 2.3026, Val Accuracy: 0.1002\n",
            "Epoch 3/5, cross_entropy - Train Loss: 2.3027, Val Loss: 2.3026, Val Accuracy: 0.1002\n",
            "Epoch 4/5, cross_entropy - Train Loss: 2.3027, Val Loss: 2.3026, Val Accuracy: 0.1002\n",
            "Epoch 5/5, cross_entropy - Train Loss: 2.3026, Val Loss: 2.3026, Val Accuracy: 0.0987\n"
          ]
        },
        {
          "output_type": "display_data",
          "data": {
            "text/plain": [
              "<IPython.core.display.HTML object>"
            ],
            "text/html": []
          },
          "metadata": {}
        },
        {
          "output_type": "display_data",
          "data": {
            "text/plain": [
              "<IPython.core.display.HTML object>"
            ],
            "text/html": [
              "<br>    <style><br>        .wandb-row {<br>            display: flex;<br>            flex-direction: row;<br>            flex-wrap: wrap;<br>            justify-content: flex-start;<br>            width: 100%;<br>        }<br>        .wandb-col {<br>            display: flex;<br>            flex-direction: column;<br>            flex-basis: 100%;<br>            flex: 1;<br>            padding: 10px;<br>        }<br>    </style><br><div class=\"wandb-row\"><div class=\"wandb-col\"><h3>Run history:</h3><br/><table class=\"wandb\"><tr><td>epoch</td><td>▁▃▅▆█</td></tr><tr><td>train_loss</td><td>█▄▂▁▁</td></tr><tr><td>val_accuracy</td><td>████▁</td></tr><tr><td>val_loss</td><td>█▂▁▁▂</td></tr></table><br/></div><div class=\"wandb-col\"><h3>Run summary:</h3><br/><table class=\"wandb\"><tr><td>epoch</td><td>5</td></tr><tr><td>loss_type</td><td>cross_entropy</td></tr><tr><td>train_loss</td><td>2.30263</td></tr><tr><td>val_accuracy</td><td>0.09867</td></tr><tr><td>val_loss</td><td>2.30261</td></tr></table><br/></div></div>"
            ]
          },
          "metadata": {}
        },
        {
          "output_type": "display_data",
          "data": {
            "text/plain": [
              "<IPython.core.display.HTML object>"
            ],
            "text/html": [
              " View run <strong style=\"color:#cdcd00\">deft-sweep-4</strong> at: <a href='https://wandb.ai/ma23m021-iit-madras/MA23M021_A1_Q8_CROSS/runs/pvaqyvo5' target=\"_blank\">https://wandb.ai/ma23m021-iit-madras/MA23M021_A1_Q8_CROSS/runs/pvaqyvo5</a><br> View project at: <a href='https://wandb.ai/ma23m021-iit-madras/MA23M021_A1_Q8_CROSS' target=\"_blank\">https://wandb.ai/ma23m021-iit-madras/MA23M021_A1_Q8_CROSS</a><br>Synced 5 W&B file(s), 0 media file(s), 0 artifact file(s) and 0 other file(s)"
            ]
          },
          "metadata": {}
        },
        {
          "output_type": "display_data",
          "data": {
            "text/plain": [
              "<IPython.core.display.HTML object>"
            ],
            "text/html": [
              "Find logs at: <code>./wandb/run-20250309_131343-pvaqyvo5/logs</code>"
            ]
          },
          "metadata": {}
        },
        {
          "output_type": "stream",
          "name": "stderr",
          "text": [
            "\u001b[34m\u001b[1mwandb\u001b[0m: Agent Starting Run: hccn5vz8 with config:\n",
            "\u001b[34m\u001b[1mwandb\u001b[0m: \tactivation_function: tanh\n",
            "\u001b[34m\u001b[1mwandb\u001b[0m: \tbatch_size: 16\n",
            "\u001b[34m\u001b[1mwandb\u001b[0m: \tepochs: 10\n",
            "\u001b[34m\u001b[1mwandb\u001b[0m: \thidden_layer_size: 128\n",
            "\u001b[34m\u001b[1mwandb\u001b[0m: \tlearningg_rate_: 0.0001\n",
            "\u001b[34m\u001b[1mwandb\u001b[0m: \tloss_type: cross_entropy\n",
            "\u001b[34m\u001b[1mwandb\u001b[0m: \tnum_hidden_layers: 4\n",
            "\u001b[34m\u001b[1mwandb\u001b[0m: \toptimizer: nadam\n",
            "\u001b[34m\u001b[1mwandb\u001b[0m: \tweight_initialization: xavier\n"
          ]
        },
        {
          "output_type": "display_data",
          "data": {
            "text/plain": [
              "<IPython.core.display.HTML object>"
            ],
            "text/html": [
              "Ignoring project 'MA23M021_A1_Q8_CROSS' when running a sweep."
            ]
          },
          "metadata": {}
        },
        {
          "output_type": "display_data",
          "data": {
            "text/plain": [
              "<IPython.core.display.HTML object>"
            ],
            "text/html": [
              "Tracking run with wandb version 0.19.7"
            ]
          },
          "metadata": {}
        },
        {
          "output_type": "display_data",
          "data": {
            "text/plain": [
              "<IPython.core.display.HTML object>"
            ],
            "text/html": [
              "Run data is saved locally in <code>/content/wandb/run-20250309_131424-hccn5vz8</code>"
            ]
          },
          "metadata": {}
        },
        {
          "output_type": "display_data",
          "data": {
            "text/plain": [
              "<IPython.core.display.HTML object>"
            ],
            "text/html": [
              "Syncing run <strong><a href='https://wandb.ai/ma23m021-iit-madras/MA23M021_A1_Q8_CROSS/runs/hccn5vz8' target=\"_blank\">tough-sweep-5</a></strong> to <a href='https://wandb.ai/ma23m021-iit-madras/MA23M021_A1_Q8_CROSS' target=\"_blank\">Weights & Biases</a> (<a href='https://wandb.me/developer-guide' target=\"_blank\">docs</a>)<br>Sweep page: <a href='https://wandb.ai/ma23m021-iit-madras/MA23M021_A1_Q8_CROSS/sweeps/64kuh29x' target=\"_blank\">https://wandb.ai/ma23m021-iit-madras/MA23M021_A1_Q8_CROSS/sweeps/64kuh29x</a>"
            ]
          },
          "metadata": {}
        },
        {
          "output_type": "display_data",
          "data": {
            "text/plain": [
              "<IPython.core.display.HTML object>"
            ],
            "text/html": [
              " View project at <a href='https://wandb.ai/ma23m021-iit-madras/MA23M021_A1_Q8_CROSS' target=\"_blank\">https://wandb.ai/ma23m021-iit-madras/MA23M021_A1_Q8_CROSS</a>"
            ]
          },
          "metadata": {}
        },
        {
          "output_type": "display_data",
          "data": {
            "text/plain": [
              "<IPython.core.display.HTML object>"
            ],
            "text/html": [
              " View sweep at <a href='https://wandb.ai/ma23m021-iit-madras/MA23M021_A1_Q8_CROSS/sweeps/64kuh29x' target=\"_blank\">https://wandb.ai/ma23m021-iit-madras/MA23M021_A1_Q8_CROSS/sweeps/64kuh29x</a>"
            ]
          },
          "metadata": {}
        },
        {
          "output_type": "display_data",
          "data": {
            "text/plain": [
              "<IPython.core.display.HTML object>"
            ],
            "text/html": [
              " View run at <a href='https://wandb.ai/ma23m021-iit-madras/MA23M021_A1_Q8_CROSS/runs/hccn5vz8' target=\"_blank\">https://wandb.ai/ma23m021-iit-madras/MA23M021_A1_Q8_CROSS/runs/hccn5vz8</a>"
            ]
          },
          "metadata": {}
        },
        {
          "output_type": "stream",
          "name": "stdout",
          "text": [
            "Epoch 1/10, cross_entropy - Train Loss: 1.5073, Val Loss: 0.9596, Val Accuracy: 0.7036\n",
            "Epoch 2/10, cross_entropy - Train Loss: 0.7566, Val Loss: 0.6338, Val Accuracy: 0.7917\n",
            "Epoch 3/10, cross_entropy - Train Loss: 0.5616, Val Loss: 0.5217, Val Accuracy: 0.8252\n",
            "Epoch 4/10, cross_entropy - Train Loss: 0.4876, Val Loss: 0.4773, Val Accuracy: 0.8344\n",
            "Epoch 5/10, cross_entropy - Train Loss: 0.4528, Val Loss: 0.4512, Val Accuracy: 0.8403\n",
            "Epoch 6/10, cross_entropy - Train Loss: 0.4297, Val Loss: 0.4283, Val Accuracy: 0.8492\n",
            "Epoch 7/10, cross_entropy - Train Loss: 0.4123, Val Loss: 0.4140, Val Accuracy: 0.8557\n",
            "Epoch 8/10, cross_entropy - Train Loss: 0.3979, Val Loss: 0.4100, Val Accuracy: 0.8568\n",
            "Epoch 9/10, cross_entropy - Train Loss: 0.3861, Val Loss: 0.3893, Val Accuracy: 0.8619\n",
            "Epoch 10/10, cross_entropy - Train Loss: 0.3749, Val Loss: 0.3799, Val Accuracy: 0.8657\n"
          ]
        },
        {
          "output_type": "display_data",
          "data": {
            "text/plain": [
              "<IPython.core.display.HTML object>"
            ],
            "text/html": []
          },
          "metadata": {}
        },
        {
          "output_type": "display_data",
          "data": {
            "text/plain": [
              "<IPython.core.display.HTML object>"
            ],
            "text/html": [
              "<br>    <style><br>        .wandb-row {<br>            display: flex;<br>            flex-direction: row;<br>            flex-wrap: wrap;<br>            justify-content: flex-start;<br>            width: 100%;<br>        }<br>        .wandb-col {<br>            display: flex;<br>            flex-direction: column;<br>            flex-basis: 100%;<br>            flex: 1;<br>            padding: 10px;<br>        }<br>    </style><br><div class=\"wandb-row\"><div class=\"wandb-col\"><h3>Run history:</h3><br/><table class=\"wandb\"><tr><td>epoch</td><td>▁▂▃▃▄▅▆▆▇█</td></tr><tr><td>train_loss</td><td>█▃▂▂▁▁▁▁▁▁</td></tr><tr><td>val_accuracy</td><td>▁▅▆▇▇▇████</td></tr><tr><td>val_loss</td><td>█▄▃▂▂▂▁▁▁▁</td></tr></table><br/></div><div class=\"wandb-col\"><h3>Run summary:</h3><br/><table class=\"wandb\"><tr><td>epoch</td><td>10</td></tr><tr><td>loss_type</td><td>cross_entropy</td></tr><tr><td>train_loss</td><td>0.3749</td></tr><tr><td>val_accuracy</td><td>0.86567</td></tr><tr><td>val_loss</td><td>0.37992</td></tr></table><br/></div></div>"
            ]
          },
          "metadata": {}
        },
        {
          "output_type": "display_data",
          "data": {
            "text/plain": [
              "<IPython.core.display.HTML object>"
            ],
            "text/html": [
              " View run <strong style=\"color:#cdcd00\">tough-sweep-5</strong> at: <a href='https://wandb.ai/ma23m021-iit-madras/MA23M021_A1_Q8_CROSS/runs/hccn5vz8' target=\"_blank\">https://wandb.ai/ma23m021-iit-madras/MA23M021_A1_Q8_CROSS/runs/hccn5vz8</a><br> View project at: <a href='https://wandb.ai/ma23m021-iit-madras/MA23M021_A1_Q8_CROSS' target=\"_blank\">https://wandb.ai/ma23m021-iit-madras/MA23M021_A1_Q8_CROSS</a><br>Synced 5 W&B file(s), 0 media file(s), 0 artifact file(s) and 0 other file(s)"
            ]
          },
          "metadata": {}
        },
        {
          "output_type": "display_data",
          "data": {
            "text/plain": [
              "<IPython.core.display.HTML object>"
            ],
            "text/html": [
              "Find logs at: <code>./wandb/run-20250309_131424-hccn5vz8/logs</code>"
            ]
          },
          "metadata": {}
        },
        {
          "output_type": "stream",
          "name": "stderr",
          "text": [
            "\u001b[34m\u001b[1mwandb\u001b[0m: Agent Starting Run: syj9n25i with config:\n",
            "\u001b[34m\u001b[1mwandb\u001b[0m: \tactivation_function: tanh\n",
            "\u001b[34m\u001b[1mwandb\u001b[0m: \tbatch_size: 64\n",
            "\u001b[34m\u001b[1mwandb\u001b[0m: \tepochs: 10\n",
            "\u001b[34m\u001b[1mwandb\u001b[0m: \thidden_layer_size: 64\n",
            "\u001b[34m\u001b[1mwandb\u001b[0m: \tlearningg_rate_: 0.0001\n",
            "\u001b[34m\u001b[1mwandb\u001b[0m: \tloss_type: cross_entropy\n",
            "\u001b[34m\u001b[1mwandb\u001b[0m: \tnum_hidden_layers: 4\n",
            "\u001b[34m\u001b[1mwandb\u001b[0m: \toptimizer: nadam\n",
            "\u001b[34m\u001b[1mwandb\u001b[0m: \tweight_initialization: xavier\n"
          ]
        },
        {
          "output_type": "display_data",
          "data": {
            "text/plain": [
              "<IPython.core.display.HTML object>"
            ],
            "text/html": [
              "Ignoring project 'MA23M021_A1_Q8_CROSS' when running a sweep."
            ]
          },
          "metadata": {}
        },
        {
          "output_type": "display_data",
          "data": {
            "text/plain": [
              "<IPython.core.display.HTML object>"
            ],
            "text/html": [
              "Tracking run with wandb version 0.19.7"
            ]
          },
          "metadata": {}
        },
        {
          "output_type": "display_data",
          "data": {
            "text/plain": [
              "<IPython.core.display.HTML object>"
            ],
            "text/html": [
              "Run data is saved locally in <code>/content/wandb/run-20250309_131817-syj9n25i</code>"
            ]
          },
          "metadata": {}
        },
        {
          "output_type": "display_data",
          "data": {
            "text/plain": [
              "<IPython.core.display.HTML object>"
            ],
            "text/html": [
              "Syncing run <strong><a href='https://wandb.ai/ma23m021-iit-madras/MA23M021_A1_Q8_CROSS/runs/syj9n25i' target=\"_blank\">fluent-sweep-6</a></strong> to <a href='https://wandb.ai/ma23m021-iit-madras/MA23M021_A1_Q8_CROSS' target=\"_blank\">Weights & Biases</a> (<a href='https://wandb.me/developer-guide' target=\"_blank\">docs</a>)<br>Sweep page: <a href='https://wandb.ai/ma23m021-iit-madras/MA23M021_A1_Q8_CROSS/sweeps/64kuh29x' target=\"_blank\">https://wandb.ai/ma23m021-iit-madras/MA23M021_A1_Q8_CROSS/sweeps/64kuh29x</a>"
            ]
          },
          "metadata": {}
        },
        {
          "output_type": "display_data",
          "data": {
            "text/plain": [
              "<IPython.core.display.HTML object>"
            ],
            "text/html": [
              " View project at <a href='https://wandb.ai/ma23m021-iit-madras/MA23M021_A1_Q8_CROSS' target=\"_blank\">https://wandb.ai/ma23m021-iit-madras/MA23M021_A1_Q8_CROSS</a>"
            ]
          },
          "metadata": {}
        },
        {
          "output_type": "display_data",
          "data": {
            "text/plain": [
              "<IPython.core.display.HTML object>"
            ],
            "text/html": [
              " View sweep at <a href='https://wandb.ai/ma23m021-iit-madras/MA23M021_A1_Q8_CROSS/sweeps/64kuh29x' target=\"_blank\">https://wandb.ai/ma23m021-iit-madras/MA23M021_A1_Q8_CROSS/sweeps/64kuh29x</a>"
            ]
          },
          "metadata": {}
        },
        {
          "output_type": "display_data",
          "data": {
            "text/plain": [
              "<IPython.core.display.HTML object>"
            ],
            "text/html": [
              " View run at <a href='https://wandb.ai/ma23m021-iit-madras/MA23M021_A1_Q8_CROSS/runs/syj9n25i' target=\"_blank\">https://wandb.ai/ma23m021-iit-madras/MA23M021_A1_Q8_CROSS/runs/syj9n25i</a>"
            ]
          },
          "metadata": {}
        },
        {
          "output_type": "stream",
          "name": "stdout",
          "text": [
            "Epoch 1/10, cross_entropy - Train Loss: 2.1760, Val Loss: 1.9552, Val Accuracy: 0.4593\n",
            "Epoch 2/10, cross_entropy - Train Loss: 1.7349, Val Loss: 1.5500, Val Accuracy: 0.5452\n",
            "Epoch 3/10, cross_entropy - Train Loss: 1.3898, Val Loss: 1.2565, Val Accuracy: 0.6258\n",
            "Epoch 4/10, cross_entropy - Train Loss: 1.1385, Val Loss: 1.0476, Val Accuracy: 0.7085\n",
            "Epoch 5/10, cross_entropy - Train Loss: 0.9609, Val Loss: 0.8972, Val Accuracy: 0.7537\n",
            "Epoch 6/10, cross_entropy - Train Loss: 0.8236, Val Loss: 0.7736, Val Accuracy: 0.7794\n",
            "Epoch 7/10, cross_entropy - Train Loss: 0.7138, Val Loss: 0.6816, Val Accuracy: 0.7982\n",
            "Epoch 8/10, cross_entropy - Train Loss: 0.6362, Val Loss: 0.6186, Val Accuracy: 0.8087\n",
            "Epoch 9/10, cross_entropy - Train Loss: 0.5832, Val Loss: 0.5747, Val Accuracy: 0.8152\n",
            "Epoch 10/10, cross_entropy - Train Loss: 0.5463, Val Loss: 0.5426, Val Accuracy: 0.8214\n"
          ]
        },
        {
          "output_type": "display_data",
          "data": {
            "text/plain": [
              "<IPython.core.display.HTML object>"
            ],
            "text/html": []
          },
          "metadata": {}
        },
        {
          "output_type": "display_data",
          "data": {
            "text/plain": [
              "<IPython.core.display.HTML object>"
            ],
            "text/html": [
              "<br>    <style><br>        .wandb-row {<br>            display: flex;<br>            flex-direction: row;<br>            flex-wrap: wrap;<br>            justify-content: flex-start;<br>            width: 100%;<br>        }<br>        .wandb-col {<br>            display: flex;<br>            flex-direction: column;<br>            flex-basis: 100%;<br>            flex: 1;<br>            padding: 10px;<br>        }<br>    </style><br><div class=\"wandb-row\"><div class=\"wandb-col\"><h3>Run history:</h3><br/><table class=\"wandb\"><tr><td>epoch</td><td>▁▂▃▃▄▅▆▆▇█</td></tr><tr><td>train_loss</td><td>█▆▅▄▃▂▂▁▁▁</td></tr><tr><td>val_accuracy</td><td>▁▃▄▆▇▇████</td></tr><tr><td>val_loss</td><td>█▆▅▄▃▂▂▁▁▁</td></tr></table><br/></div><div class=\"wandb-col\"><h3>Run summary:</h3><br/><table class=\"wandb\"><tr><td>epoch</td><td>10</td></tr><tr><td>loss_type</td><td>cross_entropy</td></tr><tr><td>train_loss</td><td>0.54629</td></tr><tr><td>val_accuracy</td><td>0.82142</td></tr><tr><td>val_loss</td><td>0.54257</td></tr></table><br/></div></div>"
            ]
          },
          "metadata": {}
        },
        {
          "output_type": "display_data",
          "data": {
            "text/plain": [
              "<IPython.core.display.HTML object>"
            ],
            "text/html": [
              " View run <strong style=\"color:#cdcd00\">fluent-sweep-6</strong> at: <a href='https://wandb.ai/ma23m021-iit-madras/MA23M021_A1_Q8_CROSS/runs/syj9n25i' target=\"_blank\">https://wandb.ai/ma23m021-iit-madras/MA23M021_A1_Q8_CROSS/runs/syj9n25i</a><br> View project at: <a href='https://wandb.ai/ma23m021-iit-madras/MA23M021_A1_Q8_CROSS' target=\"_blank\">https://wandb.ai/ma23m021-iit-madras/MA23M021_A1_Q8_CROSS</a><br>Synced 5 W&B file(s), 0 media file(s), 0 artifact file(s) and 0 other file(s)"
            ]
          },
          "metadata": {}
        },
        {
          "output_type": "display_data",
          "data": {
            "text/plain": [
              "<IPython.core.display.HTML object>"
            ],
            "text/html": [
              "Find logs at: <code>./wandb/run-20250309_131817-syj9n25i/logs</code>"
            ]
          },
          "metadata": {}
        },
        {
          "output_type": "stream",
          "name": "stderr",
          "text": [
            "\u001b[34m\u001b[1mwandb\u001b[0m: Agent Starting Run: utmgweob with config:\n",
            "\u001b[34m\u001b[1mwandb\u001b[0m: \tactivation_function: tanh\n",
            "\u001b[34m\u001b[1mwandb\u001b[0m: \tbatch_size: 64\n",
            "\u001b[34m\u001b[1mwandb\u001b[0m: \tepochs: 5\n",
            "\u001b[34m\u001b[1mwandb\u001b[0m: \thidden_layer_size: 128\n",
            "\u001b[34m\u001b[1mwandb\u001b[0m: \tlearningg_rate_: 0.0001\n",
            "\u001b[34m\u001b[1mwandb\u001b[0m: \tloss_type: cross_entropy\n",
            "\u001b[34m\u001b[1mwandb\u001b[0m: \tnum_hidden_layers: 3\n",
            "\u001b[34m\u001b[1mwandb\u001b[0m: \toptimizer: nadam\n",
            "\u001b[34m\u001b[1mwandb\u001b[0m: \tweight_initialization: xavier\n"
          ]
        },
        {
          "output_type": "display_data",
          "data": {
            "text/plain": [
              "<IPython.core.display.HTML object>"
            ],
            "text/html": [
              "Ignoring project 'MA23M021_A1_Q8_CROSS' when running a sweep."
            ]
          },
          "metadata": {}
        },
        {
          "output_type": "display_data",
          "data": {
            "text/plain": [
              "<IPython.core.display.HTML object>"
            ],
            "text/html": [
              "Tracking run with wandb version 0.19.7"
            ]
          },
          "metadata": {}
        },
        {
          "output_type": "display_data",
          "data": {
            "text/plain": [
              "<IPython.core.display.HTML object>"
            ],
            "text/html": [
              "Run data is saved locally in <code>/content/wandb/run-20250309_131913-utmgweob</code>"
            ]
          },
          "metadata": {}
        },
        {
          "output_type": "display_data",
          "data": {
            "text/plain": [
              "<IPython.core.display.HTML object>"
            ],
            "text/html": [
              "Syncing run <strong><a href='https://wandb.ai/ma23m021-iit-madras/MA23M021_A1_Q8_CROSS/runs/utmgweob' target=\"_blank\">lemon-sweep-7</a></strong> to <a href='https://wandb.ai/ma23m021-iit-madras/MA23M021_A1_Q8_CROSS' target=\"_blank\">Weights & Biases</a> (<a href='https://wandb.me/developer-guide' target=\"_blank\">docs</a>)<br>Sweep page: <a href='https://wandb.ai/ma23m021-iit-madras/MA23M021_A1_Q8_CROSS/sweeps/64kuh29x' target=\"_blank\">https://wandb.ai/ma23m021-iit-madras/MA23M021_A1_Q8_CROSS/sweeps/64kuh29x</a>"
            ]
          },
          "metadata": {}
        },
        {
          "output_type": "display_data",
          "data": {
            "text/plain": [
              "<IPython.core.display.HTML object>"
            ],
            "text/html": [
              " View project at <a href='https://wandb.ai/ma23m021-iit-madras/MA23M021_A1_Q8_CROSS' target=\"_blank\">https://wandb.ai/ma23m021-iit-madras/MA23M021_A1_Q8_CROSS</a>"
            ]
          },
          "metadata": {}
        },
        {
          "output_type": "display_data",
          "data": {
            "text/plain": [
              "<IPython.core.display.HTML object>"
            ],
            "text/html": [
              " View sweep at <a href='https://wandb.ai/ma23m021-iit-madras/MA23M021_A1_Q8_CROSS/sweeps/64kuh29x' target=\"_blank\">https://wandb.ai/ma23m021-iit-madras/MA23M021_A1_Q8_CROSS/sweeps/64kuh29x</a>"
            ]
          },
          "metadata": {}
        },
        {
          "output_type": "display_data",
          "data": {
            "text/plain": [
              "<IPython.core.display.HTML object>"
            ],
            "text/html": [
              " View run at <a href='https://wandb.ai/ma23m021-iit-madras/MA23M021_A1_Q8_CROSS/runs/utmgweob' target=\"_blank\">https://wandb.ai/ma23m021-iit-madras/MA23M021_A1_Q8_CROSS/runs/utmgweob</a>"
            ]
          },
          "metadata": {}
        },
        {
          "output_type": "stream",
          "name": "stdout",
          "text": [
            "Epoch 1/5, cross_entropy - Train Loss: 1.9632, Val Loss: 1.4610, Val Accuracy: 0.6260\n",
            "Epoch 2/5, cross_entropy - Train Loss: 1.1538, Val Loss: 0.9508, Val Accuracy: 0.7276\n",
            "Epoch 3/5, cross_entropy - Train Loss: 0.8259, Val Loss: 0.7449, Val Accuracy: 0.7762\n",
            "Epoch 4/5, cross_entropy - Train Loss: 0.6716, Val Loss: 0.6292, Val Accuracy: 0.8081\n",
            "Epoch 5/5, cross_entropy - Train Loss: 0.5806, Val Loss: 0.5577, Val Accuracy: 0.8221\n"
          ]
        },
        {
          "output_type": "display_data",
          "data": {
            "text/plain": [
              "<IPython.core.display.HTML object>"
            ],
            "text/html": []
          },
          "metadata": {}
        },
        {
          "output_type": "display_data",
          "data": {
            "text/plain": [
              "<IPython.core.display.HTML object>"
            ],
            "text/html": [
              "<br>    <style><br>        .wandb-row {<br>            display: flex;<br>            flex-direction: row;<br>            flex-wrap: wrap;<br>            justify-content: flex-start;<br>            width: 100%;<br>        }<br>        .wandb-col {<br>            display: flex;<br>            flex-direction: column;<br>            flex-basis: 100%;<br>            flex: 1;<br>            padding: 10px;<br>        }<br>    </style><br><div class=\"wandb-row\"><div class=\"wandb-col\"><h3>Run history:</h3><br/><table class=\"wandb\"><tr><td>epoch</td><td>▁▃▅▆█</td></tr><tr><td>train_loss</td><td>█▄▂▁▁</td></tr><tr><td>val_accuracy</td><td>▁▅▆██</td></tr><tr><td>val_loss</td><td>█▄▂▂▁</td></tr></table><br/></div><div class=\"wandb-col\"><h3>Run summary:</h3><br/><table class=\"wandb\"><tr><td>epoch</td><td>5</td></tr><tr><td>loss_type</td><td>cross_entropy</td></tr><tr><td>train_loss</td><td>0.58057</td></tr><tr><td>val_accuracy</td><td>0.82208</td></tr><tr><td>val_loss</td><td>0.55771</td></tr></table><br/></div></div>"
            ]
          },
          "metadata": {}
        },
        {
          "output_type": "display_data",
          "data": {
            "text/plain": [
              "<IPython.core.display.HTML object>"
            ],
            "text/html": [
              " View run <strong style=\"color:#cdcd00\">lemon-sweep-7</strong> at: <a href='https://wandb.ai/ma23m021-iit-madras/MA23M021_A1_Q8_CROSS/runs/utmgweob' target=\"_blank\">https://wandb.ai/ma23m021-iit-madras/MA23M021_A1_Q8_CROSS/runs/utmgweob</a><br> View project at: <a href='https://wandb.ai/ma23m021-iit-madras/MA23M021_A1_Q8_CROSS' target=\"_blank\">https://wandb.ai/ma23m021-iit-madras/MA23M021_A1_Q8_CROSS</a><br>Synced 5 W&B file(s), 0 media file(s), 0 artifact file(s) and 0 other file(s)"
            ]
          },
          "metadata": {}
        },
        {
          "output_type": "display_data",
          "data": {
            "text/plain": [
              "<IPython.core.display.HTML object>"
            ],
            "text/html": [
              "Find logs at: <code>./wandb/run-20250309_131913-utmgweob/logs</code>"
            ]
          },
          "metadata": {}
        },
        {
          "output_type": "stream",
          "name": "stderr",
          "text": [
            "\u001b[34m\u001b[1mwandb\u001b[0m: Agent Starting Run: pmtdbypc with config:\n",
            "\u001b[34m\u001b[1mwandb\u001b[0m: \tactivation_function: relu\n",
            "\u001b[34m\u001b[1mwandb\u001b[0m: \tbatch_size: 64\n",
            "\u001b[34m\u001b[1mwandb\u001b[0m: \tepochs: 5\n",
            "\u001b[34m\u001b[1mwandb\u001b[0m: \thidden_layer_size: 128\n",
            "\u001b[34m\u001b[1mwandb\u001b[0m: \tlearningg_rate_: 0.0001\n",
            "\u001b[34m\u001b[1mwandb\u001b[0m: \tloss_type: cross_entropy\n",
            "\u001b[34m\u001b[1mwandb\u001b[0m: \tnum_hidden_layers: 3\n",
            "\u001b[34m\u001b[1mwandb\u001b[0m: \toptimizer: nadam\n",
            "\u001b[34m\u001b[1mwandb\u001b[0m: \tweight_initialization: xavier\n"
          ]
        },
        {
          "output_type": "display_data",
          "data": {
            "text/plain": [
              "<IPython.core.display.HTML object>"
            ],
            "text/html": [
              "Ignoring project 'MA23M021_A1_Q8_CROSS' when running a sweep."
            ]
          },
          "metadata": {}
        },
        {
          "output_type": "display_data",
          "data": {
            "text/plain": [
              "<IPython.core.display.HTML object>"
            ],
            "text/html": [
              "Tracking run with wandb version 0.19.7"
            ]
          },
          "metadata": {}
        },
        {
          "output_type": "display_data",
          "data": {
            "text/plain": [
              "<IPython.core.display.HTML object>"
            ],
            "text/html": [
              "Run data is saved locally in <code>/content/wandb/run-20250309_131959-pmtdbypc</code>"
            ]
          },
          "metadata": {}
        },
        {
          "output_type": "display_data",
          "data": {
            "text/plain": [
              "<IPython.core.display.HTML object>"
            ],
            "text/html": [
              "Syncing run <strong><a href='https://wandb.ai/ma23m021-iit-madras/MA23M021_A1_Q8_CROSS/runs/pmtdbypc' target=\"_blank\">celestial-sweep-8</a></strong> to <a href='https://wandb.ai/ma23m021-iit-madras/MA23M021_A1_Q8_CROSS' target=\"_blank\">Weights & Biases</a> (<a href='https://wandb.me/developer-guide' target=\"_blank\">docs</a>)<br>Sweep page: <a href='https://wandb.ai/ma23m021-iit-madras/MA23M021_A1_Q8_CROSS/sweeps/64kuh29x' target=\"_blank\">https://wandb.ai/ma23m021-iit-madras/MA23M021_A1_Q8_CROSS/sweeps/64kuh29x</a>"
            ]
          },
          "metadata": {}
        },
        {
          "output_type": "display_data",
          "data": {
            "text/plain": [
              "<IPython.core.display.HTML object>"
            ],
            "text/html": [
              " View project at <a href='https://wandb.ai/ma23m021-iit-madras/MA23M021_A1_Q8_CROSS' target=\"_blank\">https://wandb.ai/ma23m021-iit-madras/MA23M021_A1_Q8_CROSS</a>"
            ]
          },
          "metadata": {}
        },
        {
          "output_type": "display_data",
          "data": {
            "text/plain": [
              "<IPython.core.display.HTML object>"
            ],
            "text/html": [
              " View sweep at <a href='https://wandb.ai/ma23m021-iit-madras/MA23M021_A1_Q8_CROSS/sweeps/64kuh29x' target=\"_blank\">https://wandb.ai/ma23m021-iit-madras/MA23M021_A1_Q8_CROSS/sweeps/64kuh29x</a>"
            ]
          },
          "metadata": {}
        },
        {
          "output_type": "display_data",
          "data": {
            "text/plain": [
              "<IPython.core.display.HTML object>"
            ],
            "text/html": [
              " View run at <a href='https://wandb.ai/ma23m021-iit-madras/MA23M021_A1_Q8_CROSS/runs/pmtdbypc' target=\"_blank\">https://wandb.ai/ma23m021-iit-madras/MA23M021_A1_Q8_CROSS/runs/pmtdbypc</a>"
            ]
          },
          "metadata": {}
        },
        {
          "output_type": "stream",
          "name": "stdout",
          "text": [
            "Epoch 1/5, cross_entropy - Train Loss: 2.2680, Val Loss: 2.1675, Val Accuracy: 0.4017\n",
            "Epoch 2/5, cross_entropy - Train Loss: 2.1052, Val Loss: 2.0627, Val Accuracy: 0.3192\n",
            "Epoch 3/5, cross_entropy - Train Loss: 2.0225, Val Loss: 1.9889, Val Accuracy: 0.3382\n",
            "Epoch 4/5, cross_entropy - Train Loss: 1.9522, Val Loss: 1.9219, Val Accuracy: 0.3048\n",
            "Epoch 5/5, cross_entropy - Train Loss: 1.8917, Val Loss: 1.8639, Val Accuracy: 0.3031\n"
          ]
        },
        {
          "output_type": "display_data",
          "data": {
            "text/plain": [
              "<IPython.core.display.HTML object>"
            ],
            "text/html": []
          },
          "metadata": {}
        },
        {
          "output_type": "display_data",
          "data": {
            "text/plain": [
              "<IPython.core.display.HTML object>"
            ],
            "text/html": [
              "<br>    <style><br>        .wandb-row {<br>            display: flex;<br>            flex-direction: row;<br>            flex-wrap: wrap;<br>            justify-content: flex-start;<br>            width: 100%;<br>        }<br>        .wandb-col {<br>            display: flex;<br>            flex-direction: column;<br>            flex-basis: 100%;<br>            flex: 1;<br>            padding: 10px;<br>        }<br>    </style><br><div class=\"wandb-row\"><div class=\"wandb-col\"><h3>Run history:</h3><br/><table class=\"wandb\"><tr><td>epoch</td><td>▁▃▅▆█</td></tr><tr><td>train_loss</td><td>█▅▃▂▁</td></tr><tr><td>val_accuracy</td><td>█▂▃▁▁</td></tr><tr><td>val_loss</td><td>█▆▄▂▁</td></tr></table><br/></div><div class=\"wandb-col\"><h3>Run summary:</h3><br/><table class=\"wandb\"><tr><td>epoch</td><td>5</td></tr><tr><td>loss_type</td><td>cross_entropy</td></tr><tr><td>train_loss</td><td>1.89166</td></tr><tr><td>val_accuracy</td><td>0.30308</td></tr><tr><td>val_loss</td><td>1.86393</td></tr></table><br/></div></div>"
            ]
          },
          "metadata": {}
        },
        {
          "output_type": "display_data",
          "data": {
            "text/plain": [
              "<IPython.core.display.HTML object>"
            ],
            "text/html": [
              " View run <strong style=\"color:#cdcd00\">celestial-sweep-8</strong> at: <a href='https://wandb.ai/ma23m021-iit-madras/MA23M021_A1_Q8_CROSS/runs/pmtdbypc' target=\"_blank\">https://wandb.ai/ma23m021-iit-madras/MA23M021_A1_Q8_CROSS/runs/pmtdbypc</a><br> View project at: <a href='https://wandb.ai/ma23m021-iit-madras/MA23M021_A1_Q8_CROSS' target=\"_blank\">https://wandb.ai/ma23m021-iit-madras/MA23M021_A1_Q8_CROSS</a><br>Synced 5 W&B file(s), 0 media file(s), 0 artifact file(s) and 0 other file(s)"
            ]
          },
          "metadata": {}
        },
        {
          "output_type": "display_data",
          "data": {
            "text/plain": [
              "<IPython.core.display.HTML object>"
            ],
            "text/html": [
              "Find logs at: <code>./wandb/run-20250309_131959-pmtdbypc/logs</code>"
            ]
          },
          "metadata": {}
        },
        {
          "output_type": "stream",
          "name": "stderr",
          "text": [
            "\u001b[34m\u001b[1mwandb\u001b[0m: Agent Starting Run: 7bg5v5qe with config:\n",
            "\u001b[34m\u001b[1mwandb\u001b[0m: \tactivation_function: tanh\n",
            "\u001b[34m\u001b[1mwandb\u001b[0m: \tbatch_size: 16\n",
            "\u001b[34m\u001b[1mwandb\u001b[0m: \tepochs: 10\n",
            "\u001b[34m\u001b[1mwandb\u001b[0m: \thidden_layer_size: 128\n",
            "\u001b[34m\u001b[1mwandb\u001b[0m: \tlearningg_rate_: 0.0001\n",
            "\u001b[34m\u001b[1mwandb\u001b[0m: \tloss_type: cross_entropy\n",
            "\u001b[34m\u001b[1mwandb\u001b[0m: \tnum_hidden_layers: 4\n",
            "\u001b[34m\u001b[1mwandb\u001b[0m: \toptimizer: nadam\n",
            "\u001b[34m\u001b[1mwandb\u001b[0m: \tweight_initialization: xavier\n"
          ]
        },
        {
          "output_type": "display_data",
          "data": {
            "text/plain": [
              "<IPython.core.display.HTML object>"
            ],
            "text/html": [
              "Ignoring project 'MA23M021_A1_Q8_CROSS' when running a sweep."
            ]
          },
          "metadata": {}
        },
        {
          "output_type": "display_data",
          "data": {
            "text/plain": [
              "<IPython.core.display.HTML object>"
            ],
            "text/html": [
              "Tracking run with wandb version 0.19.7"
            ]
          },
          "metadata": {}
        },
        {
          "output_type": "display_data",
          "data": {
            "text/plain": [
              "<IPython.core.display.HTML object>"
            ],
            "text/html": [
              "Run data is saved locally in <code>/content/wandb/run-20250309_132050-7bg5v5qe</code>"
            ]
          },
          "metadata": {}
        },
        {
          "output_type": "display_data",
          "data": {
            "text/plain": [
              "<IPython.core.display.HTML object>"
            ],
            "text/html": [
              "Syncing run <strong><a href='https://wandb.ai/ma23m021-iit-madras/MA23M021_A1_Q8_CROSS/runs/7bg5v5qe' target=\"_blank\">trim-sweep-9</a></strong> to <a href='https://wandb.ai/ma23m021-iit-madras/MA23M021_A1_Q8_CROSS' target=\"_blank\">Weights & Biases</a> (<a href='https://wandb.me/developer-guide' target=\"_blank\">docs</a>)<br>Sweep page: <a href='https://wandb.ai/ma23m021-iit-madras/MA23M021_A1_Q8_CROSS/sweeps/64kuh29x' target=\"_blank\">https://wandb.ai/ma23m021-iit-madras/MA23M021_A1_Q8_CROSS/sweeps/64kuh29x</a>"
            ]
          },
          "metadata": {}
        },
        {
          "output_type": "display_data",
          "data": {
            "text/plain": [
              "<IPython.core.display.HTML object>"
            ],
            "text/html": [
              " View project at <a href='https://wandb.ai/ma23m021-iit-madras/MA23M021_A1_Q8_CROSS' target=\"_blank\">https://wandb.ai/ma23m021-iit-madras/MA23M021_A1_Q8_CROSS</a>"
            ]
          },
          "metadata": {}
        },
        {
          "output_type": "display_data",
          "data": {
            "text/plain": [
              "<IPython.core.display.HTML object>"
            ],
            "text/html": [
              " View sweep at <a href='https://wandb.ai/ma23m021-iit-madras/MA23M021_A1_Q8_CROSS/sweeps/64kuh29x' target=\"_blank\">https://wandb.ai/ma23m021-iit-madras/MA23M021_A1_Q8_CROSS/sweeps/64kuh29x</a>"
            ]
          },
          "metadata": {}
        },
        {
          "output_type": "display_data",
          "data": {
            "text/plain": [
              "<IPython.core.display.HTML object>"
            ],
            "text/html": [
              " View run at <a href='https://wandb.ai/ma23m021-iit-madras/MA23M021_A1_Q8_CROSS/runs/7bg5v5qe' target=\"_blank\">https://wandb.ai/ma23m021-iit-madras/MA23M021_A1_Q8_CROSS/runs/7bg5v5qe</a>"
            ]
          },
          "metadata": {}
        },
        {
          "output_type": "stream",
          "name": "stdout",
          "text": [
            "Epoch 1/10, cross_entropy - Train Loss: 1.4815, Val Loss: 0.9410, Val Accuracy: 0.6993\n",
            "Epoch 2/10, cross_entropy - Train Loss: 0.7550, Val Loss: 0.6533, Val Accuracy: 0.7668\n",
            "Epoch 3/10, cross_entropy - Train Loss: 0.5961, Val Loss: 0.5626, Val Accuracy: 0.7871\n",
            "Epoch 4/10, cross_entropy - Train Loss: 0.5296, Val Loss: 0.5113, Val Accuracy: 0.8093\n",
            "Epoch 5/10, cross_entropy - Train Loss: 0.4809, Val Loss: 0.4669, Val Accuracy: 0.8350\n",
            "Epoch 6/10, cross_entropy - Train Loss: 0.4474, Val Loss: 0.4439, Val Accuracy: 0.8433\n",
            "Epoch 7/10, cross_entropy - Train Loss: 0.4248, Val Loss: 0.4205, Val Accuracy: 0.8520\n",
            "Epoch 8/10, cross_entropy - Train Loss: 0.4066, Val Loss: 0.4118, Val Accuracy: 0.8540\n",
            "Epoch 9/10, cross_entropy - Train Loss: 0.3924, Val Loss: 0.4010, Val Accuracy: 0.8578\n",
            "Epoch 10/10, cross_entropy - Train Loss: 0.3802, Val Loss: 0.3916, Val Accuracy: 0.8595\n"
          ]
        },
        {
          "output_type": "display_data",
          "data": {
            "text/plain": [
              "<IPython.core.display.HTML object>"
            ],
            "text/html": []
          },
          "metadata": {}
        },
        {
          "output_type": "display_data",
          "data": {
            "text/plain": [
              "<IPython.core.display.HTML object>"
            ],
            "text/html": [
              "<br>    <style><br>        .wandb-row {<br>            display: flex;<br>            flex-direction: row;<br>            flex-wrap: wrap;<br>            justify-content: flex-start;<br>            width: 100%;<br>        }<br>        .wandb-col {<br>            display: flex;<br>            flex-direction: column;<br>            flex-basis: 100%;<br>            flex: 1;<br>            padding: 10px;<br>        }<br>    </style><br><div class=\"wandb-row\"><div class=\"wandb-col\"><h3>Run history:</h3><br/><table class=\"wandb\"><tr><td>epoch</td><td>▁▂▃▃▄▅▆▆▇█</td></tr><tr><td>train_loss</td><td>█▃▂▂▂▁▁▁▁▁</td></tr><tr><td>val_accuracy</td><td>▁▄▅▆▇▇████</td></tr><tr><td>val_loss</td><td>█▄▃▃▂▂▁▁▁▁</td></tr></table><br/></div><div class=\"wandb-col\"><h3>Run summary:</h3><br/><table class=\"wandb\"><tr><td>epoch</td><td>10</td></tr><tr><td>loss_type</td><td>cross_entropy</td></tr><tr><td>train_loss</td><td>0.38016</td></tr><tr><td>val_accuracy</td><td>0.8595</td></tr><tr><td>val_loss</td><td>0.3916</td></tr></table><br/></div></div>"
            ]
          },
          "metadata": {}
        },
        {
          "output_type": "display_data",
          "data": {
            "text/plain": [
              "<IPython.core.display.HTML object>"
            ],
            "text/html": [
              " View run <strong style=\"color:#cdcd00\">trim-sweep-9</strong> at: <a href='https://wandb.ai/ma23m021-iit-madras/MA23M021_A1_Q8_CROSS/runs/7bg5v5qe' target=\"_blank\">https://wandb.ai/ma23m021-iit-madras/MA23M021_A1_Q8_CROSS/runs/7bg5v5qe</a><br> View project at: <a href='https://wandb.ai/ma23m021-iit-madras/MA23M021_A1_Q8_CROSS' target=\"_blank\">https://wandb.ai/ma23m021-iit-madras/MA23M021_A1_Q8_CROSS</a><br>Synced 5 W&B file(s), 0 media file(s), 0 artifact file(s) and 0 other file(s)"
            ]
          },
          "metadata": {}
        },
        {
          "output_type": "display_data",
          "data": {
            "text/plain": [
              "<IPython.core.display.HTML object>"
            ],
            "text/html": [
              "Find logs at: <code>./wandb/run-20250309_132050-7bg5v5qe/logs</code>"
            ]
          },
          "metadata": {}
        },
        {
          "output_type": "stream",
          "name": "stderr",
          "text": [
            "\u001b[34m\u001b[1mwandb\u001b[0m: Agent Starting Run: ju8de4ie with config:\n",
            "\u001b[34m\u001b[1mwandb\u001b[0m: \tactivation_function: tanh\n",
            "\u001b[34m\u001b[1mwandb\u001b[0m: \tbatch_size: 16\n",
            "\u001b[34m\u001b[1mwandb\u001b[0m: \tepochs: 10\n",
            "\u001b[34m\u001b[1mwandb\u001b[0m: \thidden_layer_size: 64\n",
            "\u001b[34m\u001b[1mwandb\u001b[0m: \tlearningg_rate_: 0.0001\n",
            "\u001b[34m\u001b[1mwandb\u001b[0m: \tloss_type: cross_entropy\n",
            "\u001b[34m\u001b[1mwandb\u001b[0m: \tnum_hidden_layers: 3\n",
            "\u001b[34m\u001b[1mwandb\u001b[0m: \toptimizer: nadam\n",
            "\u001b[34m\u001b[1mwandb\u001b[0m: \tweight_initialization: xavier\n"
          ]
        },
        {
          "output_type": "display_data",
          "data": {
            "text/plain": [
              "<IPython.core.display.HTML object>"
            ],
            "text/html": [
              "Ignoring project 'MA23M021_A1_Q8_CROSS' when running a sweep."
            ]
          },
          "metadata": {}
        },
        {
          "output_type": "display_data",
          "data": {
            "text/plain": [
              "<IPython.core.display.HTML object>"
            ],
            "text/html": [
              "Tracking run with wandb version 0.19.7"
            ]
          },
          "metadata": {}
        },
        {
          "output_type": "display_data",
          "data": {
            "text/plain": [
              "<IPython.core.display.HTML object>"
            ],
            "text/html": [
              "Run data is saved locally in <code>/content/wandb/run-20250309_132459-ju8de4ie</code>"
            ]
          },
          "metadata": {}
        },
        {
          "output_type": "display_data",
          "data": {
            "text/plain": [
              "<IPython.core.display.HTML object>"
            ],
            "text/html": [
              "Syncing run <strong><a href='https://wandb.ai/ma23m021-iit-madras/MA23M021_A1_Q8_CROSS/runs/ju8de4ie' target=\"_blank\">daily-sweep-10</a></strong> to <a href='https://wandb.ai/ma23m021-iit-madras/MA23M021_A1_Q8_CROSS' target=\"_blank\">Weights & Biases</a> (<a href='https://wandb.me/developer-guide' target=\"_blank\">docs</a>)<br>Sweep page: <a href='https://wandb.ai/ma23m021-iit-madras/MA23M021_A1_Q8_CROSS/sweeps/64kuh29x' target=\"_blank\">https://wandb.ai/ma23m021-iit-madras/MA23M021_A1_Q8_CROSS/sweeps/64kuh29x</a>"
            ]
          },
          "metadata": {}
        },
        {
          "output_type": "display_data",
          "data": {
            "text/plain": [
              "<IPython.core.display.HTML object>"
            ],
            "text/html": [
              " View project at <a href='https://wandb.ai/ma23m021-iit-madras/MA23M021_A1_Q8_CROSS' target=\"_blank\">https://wandb.ai/ma23m021-iit-madras/MA23M021_A1_Q8_CROSS</a>"
            ]
          },
          "metadata": {}
        },
        {
          "output_type": "display_data",
          "data": {
            "text/plain": [
              "<IPython.core.display.HTML object>"
            ],
            "text/html": [
              " View sweep at <a href='https://wandb.ai/ma23m021-iit-madras/MA23M021_A1_Q8_CROSS/sweeps/64kuh29x' target=\"_blank\">https://wandb.ai/ma23m021-iit-madras/MA23M021_A1_Q8_CROSS/sweeps/64kuh29x</a>"
            ]
          },
          "metadata": {}
        },
        {
          "output_type": "display_data",
          "data": {
            "text/plain": [
              "<IPython.core.display.HTML object>"
            ],
            "text/html": [
              " View run at <a href='https://wandb.ai/ma23m021-iit-madras/MA23M021_A1_Q8_CROSS/runs/ju8de4ie' target=\"_blank\">https://wandb.ai/ma23m021-iit-madras/MA23M021_A1_Q8_CROSS/runs/ju8de4ie</a>"
            ]
          },
          "metadata": {}
        },
        {
          "output_type": "stream",
          "name": "stdout",
          "text": [
            "Epoch 1/10, cross_entropy - Train Loss: 1.6712, Val Loss: 1.1509, Val Accuracy: 0.6714\n",
            "Epoch 2/10, cross_entropy - Train Loss: 0.9209, Val Loss: 0.7868, Val Accuracy: 0.7388\n",
            "Epoch 3/10, cross_entropy - Train Loss: 0.7021, Val Loss: 0.6465, Val Accuracy: 0.7900\n",
            "Epoch 4/10, cross_entropy - Train Loss: 0.5896, Val Loss: 0.5567, Val Accuracy: 0.8243\n",
            "Epoch 5/10, cross_entropy - Train Loss: 0.5166, Val Loss: 0.5029, Val Accuracy: 0.8318\n",
            "Epoch 6/10, cross_entropy - Train Loss: 0.4721, Val Loss: 0.4656, Val Accuracy: 0.8417\n",
            "Epoch 7/10, cross_entropy - Train Loss: 0.4442, Val Loss: 0.4455, Val Accuracy: 0.8432\n",
            "Epoch 8/10, cross_entropy - Train Loss: 0.4249, Val Loss: 0.4285, Val Accuracy: 0.8488\n",
            "Epoch 9/10, cross_entropy - Train Loss: 0.4098, Val Loss: 0.4160, Val Accuracy: 0.8522\n",
            "Epoch 10/10, cross_entropy - Train Loss: 0.3971, Val Loss: 0.4052, Val Accuracy: 0.8571\n"
          ]
        },
        {
          "output_type": "display_data",
          "data": {
            "text/plain": [
              "<IPython.core.display.HTML object>"
            ],
            "text/html": []
          },
          "metadata": {}
        },
        {
          "output_type": "display_data",
          "data": {
            "text/plain": [
              "<IPython.core.display.HTML object>"
            ],
            "text/html": [
              "<br>    <style><br>        .wandb-row {<br>            display: flex;<br>            flex-direction: row;<br>            flex-wrap: wrap;<br>            justify-content: flex-start;<br>            width: 100%;<br>        }<br>        .wandb-col {<br>            display: flex;<br>            flex-direction: column;<br>            flex-basis: 100%;<br>            flex: 1;<br>            padding: 10px;<br>        }<br>    </style><br><div class=\"wandb-row\"><div class=\"wandb-col\"><h3>Run history:</h3><br/><table class=\"wandb\"><tr><td>epoch</td><td>▁▂▃▃▄▅▆▆▇█</td></tr><tr><td>train_loss</td><td>█▄▃▂▂▁▁▁▁▁</td></tr><tr><td>val_accuracy</td><td>▁▄▅▇▇▇▇███</td></tr><tr><td>val_loss</td><td>█▅▃▂▂▂▁▁▁▁</td></tr></table><br/></div><div class=\"wandb-col\"><h3>Run summary:</h3><br/><table class=\"wandb\"><tr><td>epoch</td><td>10</td></tr><tr><td>loss_type</td><td>cross_entropy</td></tr><tr><td>train_loss</td><td>0.39714</td></tr><tr><td>val_accuracy</td><td>0.85708</td></tr><tr><td>val_loss</td><td>0.40518</td></tr></table><br/></div></div>"
            ]
          },
          "metadata": {}
        },
        {
          "output_type": "display_data",
          "data": {
            "text/plain": [
              "<IPython.core.display.HTML object>"
            ],
            "text/html": [
              " View run <strong style=\"color:#cdcd00\">daily-sweep-10</strong> at: <a href='https://wandb.ai/ma23m021-iit-madras/MA23M021_A1_Q8_CROSS/runs/ju8de4ie' target=\"_blank\">https://wandb.ai/ma23m021-iit-madras/MA23M021_A1_Q8_CROSS/runs/ju8de4ie</a><br> View project at: <a href='https://wandb.ai/ma23m021-iit-madras/MA23M021_A1_Q8_CROSS' target=\"_blank\">https://wandb.ai/ma23m021-iit-madras/MA23M021_A1_Q8_CROSS</a><br>Synced 5 W&B file(s), 0 media file(s), 0 artifact file(s) and 0 other file(s)"
            ]
          },
          "metadata": {}
        },
        {
          "output_type": "display_data",
          "data": {
            "text/plain": [
              "<IPython.core.display.HTML object>"
            ],
            "text/html": [
              "Find logs at: <code>./wandb/run-20250309_132459-ju8de4ie/logs</code>"
            ]
          },
          "metadata": {}
        },
        {
          "output_type": "stream",
          "name": "stderr",
          "text": [
            "\u001b[34m\u001b[1mwandb\u001b[0m: Agent Starting Run: v99l6jm8 with config:\n",
            "\u001b[34m\u001b[1mwandb\u001b[0m: \tactivation_function: tanh\n",
            "\u001b[34m\u001b[1mwandb\u001b[0m: \tbatch_size: 16\n",
            "\u001b[34m\u001b[1mwandb\u001b[0m: \tepochs: 5\n",
            "\u001b[34m\u001b[1mwandb\u001b[0m: \thidden_layer_size: 64\n",
            "\u001b[34m\u001b[1mwandb\u001b[0m: \tlearningg_rate_: 0.0001\n",
            "\u001b[34m\u001b[1mwandb\u001b[0m: \tloss_type: cross_entropy\n",
            "\u001b[34m\u001b[1mwandb\u001b[0m: \tnum_hidden_layers: 3\n",
            "\u001b[34m\u001b[1mwandb\u001b[0m: \toptimizer: nadam\n",
            "\u001b[34m\u001b[1mwandb\u001b[0m: \tweight_initialization: xavier\n"
          ]
        },
        {
          "output_type": "display_data",
          "data": {
            "text/plain": [
              "<IPython.core.display.HTML object>"
            ],
            "text/html": [
              "Ignoring project 'MA23M021_A1_Q8_CROSS' when running a sweep."
            ]
          },
          "metadata": {}
        },
        {
          "output_type": "display_data",
          "data": {
            "text/plain": [
              "<IPython.core.display.HTML object>"
            ],
            "text/html": [
              "Tracking run with wandb version 0.19.7"
            ]
          },
          "metadata": {}
        },
        {
          "output_type": "display_data",
          "data": {
            "text/plain": [
              "<IPython.core.display.HTML object>"
            ],
            "text/html": [
              "Run data is saved locally in <code>/content/wandb/run-20250309_132651-v99l6jm8</code>"
            ]
          },
          "metadata": {}
        },
        {
          "output_type": "display_data",
          "data": {
            "text/plain": [
              "<IPython.core.display.HTML object>"
            ],
            "text/html": [
              "Syncing run <strong><a href='https://wandb.ai/ma23m021-iit-madras/MA23M021_A1_Q8_CROSS/runs/v99l6jm8' target=\"_blank\">hopeful-sweep-11</a></strong> to <a href='https://wandb.ai/ma23m021-iit-madras/MA23M021_A1_Q8_CROSS' target=\"_blank\">Weights & Biases</a> (<a href='https://wandb.me/developer-guide' target=\"_blank\">docs</a>)<br>Sweep page: <a href='https://wandb.ai/ma23m021-iit-madras/MA23M021_A1_Q8_CROSS/sweeps/64kuh29x' target=\"_blank\">https://wandb.ai/ma23m021-iit-madras/MA23M021_A1_Q8_CROSS/sweeps/64kuh29x</a>"
            ]
          },
          "metadata": {}
        },
        {
          "output_type": "display_data",
          "data": {
            "text/plain": [
              "<IPython.core.display.HTML object>"
            ],
            "text/html": [
              " View project at <a href='https://wandb.ai/ma23m021-iit-madras/MA23M021_A1_Q8_CROSS' target=\"_blank\">https://wandb.ai/ma23m021-iit-madras/MA23M021_A1_Q8_CROSS</a>"
            ]
          },
          "metadata": {}
        },
        {
          "output_type": "display_data",
          "data": {
            "text/plain": [
              "<IPython.core.display.HTML object>"
            ],
            "text/html": [
              " View sweep at <a href='https://wandb.ai/ma23m021-iit-madras/MA23M021_A1_Q8_CROSS/sweeps/64kuh29x' target=\"_blank\">https://wandb.ai/ma23m021-iit-madras/MA23M021_A1_Q8_CROSS/sweeps/64kuh29x</a>"
            ]
          },
          "metadata": {}
        },
        {
          "output_type": "display_data",
          "data": {
            "text/plain": [
              "<IPython.core.display.HTML object>"
            ],
            "text/html": [
              " View run at <a href='https://wandb.ai/ma23m021-iit-madras/MA23M021_A1_Q8_CROSS/runs/v99l6jm8' target=\"_blank\">https://wandb.ai/ma23m021-iit-madras/MA23M021_A1_Q8_CROSS/runs/v99l6jm8</a>"
            ]
          },
          "metadata": {}
        },
        {
          "output_type": "stream",
          "name": "stdout",
          "text": [
            "Epoch 1/5, cross_entropy - Train Loss: 1.6660, Val Loss: 1.1908, Val Accuracy: 0.6555\n",
            "Epoch 2/5, cross_entropy - Train Loss: 0.9417, Val Loss: 0.7750, Val Accuracy: 0.7899\n",
            "Epoch 3/5, cross_entropy - Train Loss: 0.6657, Val Loss: 0.5986, Val Accuracy: 0.8190\n",
            "Epoch 4/5, cross_entropy - Train Loss: 0.5454, Val Loss: 0.5184, Val Accuracy: 0.8306\n",
            "Epoch 5/5, cross_entropy - Train Loss: 0.4864, Val Loss: 0.4747, Val Accuracy: 0.8391\n"
          ]
        },
        {
          "output_type": "display_data",
          "data": {
            "text/plain": [
              "<IPython.core.display.HTML object>"
            ],
            "text/html": []
          },
          "metadata": {}
        },
        {
          "output_type": "display_data",
          "data": {
            "text/plain": [
              "<IPython.core.display.HTML object>"
            ],
            "text/html": [
              "<br>    <style><br>        .wandb-row {<br>            display: flex;<br>            flex-direction: row;<br>            flex-wrap: wrap;<br>            justify-content: flex-start;<br>            width: 100%;<br>        }<br>        .wandb-col {<br>            display: flex;<br>            flex-direction: column;<br>            flex-basis: 100%;<br>            flex: 1;<br>            padding: 10px;<br>        }<br>    </style><br><div class=\"wandb-row\"><div class=\"wandb-col\"><h3>Run history:</h3><br/><table class=\"wandb\"><tr><td>epoch</td><td>▁▃▅▆█</td></tr><tr><td>train_loss</td><td>█▄▂▁▁</td></tr><tr><td>val_accuracy</td><td>▁▆▇██</td></tr><tr><td>val_loss</td><td>█▄▂▁▁</td></tr></table><br/></div><div class=\"wandb-col\"><h3>Run summary:</h3><br/><table class=\"wandb\"><tr><td>epoch</td><td>5</td></tr><tr><td>loss_type</td><td>cross_entropy</td></tr><tr><td>train_loss</td><td>0.48637</td></tr><tr><td>val_accuracy</td><td>0.83908</td></tr><tr><td>val_loss</td><td>0.47473</td></tr></table><br/></div></div>"
            ]
          },
          "metadata": {}
        },
        {
          "output_type": "display_data",
          "data": {
            "text/plain": [
              "<IPython.core.display.HTML object>"
            ],
            "text/html": [
              " View run <strong style=\"color:#cdcd00\">hopeful-sweep-11</strong> at: <a href='https://wandb.ai/ma23m021-iit-madras/MA23M021_A1_Q8_CROSS/runs/v99l6jm8' target=\"_blank\">https://wandb.ai/ma23m021-iit-madras/MA23M021_A1_Q8_CROSS/runs/v99l6jm8</a><br> View project at: <a href='https://wandb.ai/ma23m021-iit-madras/MA23M021_A1_Q8_CROSS' target=\"_blank\">https://wandb.ai/ma23m021-iit-madras/MA23M021_A1_Q8_CROSS</a><br>Synced 5 W&B file(s), 0 media file(s), 0 artifact file(s) and 0 other file(s)"
            ]
          },
          "metadata": {}
        },
        {
          "output_type": "display_data",
          "data": {
            "text/plain": [
              "<IPython.core.display.HTML object>"
            ],
            "text/html": [
              "Find logs at: <code>./wandb/run-20250309_132651-v99l6jm8/logs</code>"
            ]
          },
          "metadata": {}
        },
        {
          "output_type": "stream",
          "name": "stderr",
          "text": [
            "\u001b[34m\u001b[1mwandb\u001b[0m: Agent Starting Run: lhlna8mr with config:\n",
            "\u001b[34m\u001b[1mwandb\u001b[0m: \tactivation_function: tanh\n",
            "\u001b[34m\u001b[1mwandb\u001b[0m: \tbatch_size: 32\n",
            "\u001b[34m\u001b[1mwandb\u001b[0m: \tepochs: 10\n",
            "\u001b[34m\u001b[1mwandb\u001b[0m: \thidden_layer_size: 64\n",
            "\u001b[34m\u001b[1mwandb\u001b[0m: \tlearningg_rate_: 0.0001\n",
            "\u001b[34m\u001b[1mwandb\u001b[0m: \tloss_type: cross_entropy\n",
            "\u001b[34m\u001b[1mwandb\u001b[0m: \tnum_hidden_layers: 3\n",
            "\u001b[34m\u001b[1mwandb\u001b[0m: \toptimizer: nadam\n",
            "\u001b[34m\u001b[1mwandb\u001b[0m: \tweight_initialization: xavier\n"
          ]
        },
        {
          "output_type": "display_data",
          "data": {
            "text/plain": [
              "<IPython.core.display.HTML object>"
            ],
            "text/html": [
              "Ignoring project 'MA23M021_A1_Q8_CROSS' when running a sweep."
            ]
          },
          "metadata": {}
        },
        {
          "output_type": "display_data",
          "data": {
            "text/plain": [
              "<IPython.core.display.HTML object>"
            ],
            "text/html": [
              "Tracking run with wandb version 0.19.7"
            ]
          },
          "metadata": {}
        },
        {
          "output_type": "display_data",
          "data": {
            "text/plain": [
              "<IPython.core.display.HTML object>"
            ],
            "text/html": [
              "Run data is saved locally in <code>/content/wandb/run-20250309_132747-lhlna8mr</code>"
            ]
          },
          "metadata": {}
        },
        {
          "output_type": "display_data",
          "data": {
            "text/plain": [
              "<IPython.core.display.HTML object>"
            ],
            "text/html": [
              "Syncing run <strong><a href='https://wandb.ai/ma23m021-iit-madras/MA23M021_A1_Q8_CROSS/runs/lhlna8mr' target=\"_blank\">woven-sweep-12</a></strong> to <a href='https://wandb.ai/ma23m021-iit-madras/MA23M021_A1_Q8_CROSS' target=\"_blank\">Weights & Biases</a> (<a href='https://wandb.me/developer-guide' target=\"_blank\">docs</a>)<br>Sweep page: <a href='https://wandb.ai/ma23m021-iit-madras/MA23M021_A1_Q8_CROSS/sweeps/64kuh29x' target=\"_blank\">https://wandb.ai/ma23m021-iit-madras/MA23M021_A1_Q8_CROSS/sweeps/64kuh29x</a>"
            ]
          },
          "metadata": {}
        },
        {
          "output_type": "display_data",
          "data": {
            "text/plain": [
              "<IPython.core.display.HTML object>"
            ],
            "text/html": [
              " View project at <a href='https://wandb.ai/ma23m021-iit-madras/MA23M021_A1_Q8_CROSS' target=\"_blank\">https://wandb.ai/ma23m021-iit-madras/MA23M021_A1_Q8_CROSS</a>"
            ]
          },
          "metadata": {}
        },
        {
          "output_type": "display_data",
          "data": {
            "text/plain": [
              "<IPython.core.display.HTML object>"
            ],
            "text/html": [
              " View sweep at <a href='https://wandb.ai/ma23m021-iit-madras/MA23M021_A1_Q8_CROSS/sweeps/64kuh29x' target=\"_blank\">https://wandb.ai/ma23m021-iit-madras/MA23M021_A1_Q8_CROSS/sweeps/64kuh29x</a>"
            ]
          },
          "metadata": {}
        },
        {
          "output_type": "display_data",
          "data": {
            "text/plain": [
              "<IPython.core.display.HTML object>"
            ],
            "text/html": [
              " View run at <a href='https://wandb.ai/ma23m021-iit-madras/MA23M021_A1_Q8_CROSS/runs/lhlna8mr' target=\"_blank\">https://wandb.ai/ma23m021-iit-madras/MA23M021_A1_Q8_CROSS/runs/lhlna8mr</a>"
            ]
          },
          "metadata": {}
        },
        {
          "output_type": "stream",
          "name": "stdout",
          "text": [
            "Epoch 1/10, cross_entropy - Train Loss: 1.8985, Val Loss: 1.4675, Val Accuracy: 0.6954\n",
            "Epoch 2/10, cross_entropy - Train Loss: 1.1880, Val Loss: 0.9862, Val Accuracy: 0.7389\n",
            "Epoch 3/10, cross_entropy - Train Loss: 0.8524, Val Loss: 0.7654, Val Accuracy: 0.7737\n",
            "Epoch 4/10, cross_entropy - Train Loss: 0.6909, Val Loss: 0.6518, Val Accuracy: 0.7863\n",
            "Epoch 5/10, cross_entropy - Train Loss: 0.6056, Val Loss: 0.5874, Val Accuracy: 0.7927\n",
            "Epoch 6/10, cross_entropy - Train Loss: 0.5569, Val Loss: 0.5501, Val Accuracy: 0.8017\n",
            "Epoch 7/10, cross_entropy - Train Loss: 0.5247, Val Loss: 0.5221, Val Accuracy: 0.8080\n",
            "Epoch 8/10, cross_entropy - Train Loss: 0.5001, Val Loss: 0.5030, Val Accuracy: 0.8233\n",
            "Epoch 9/10, cross_entropy - Train Loss: 0.4799, Val Loss: 0.4823, Val Accuracy: 0.8281\n",
            "Epoch 10/10, cross_entropy - Train Loss: 0.4616, Val Loss: 0.4661, Val Accuracy: 0.8359\n"
          ]
        },
        {
          "output_type": "display_data",
          "data": {
            "text/plain": [
              "<IPython.core.display.HTML object>"
            ],
            "text/html": []
          },
          "metadata": {}
        },
        {
          "output_type": "display_data",
          "data": {
            "text/plain": [
              "<IPython.core.display.HTML object>"
            ],
            "text/html": [
              "<br>    <style><br>        .wandb-row {<br>            display: flex;<br>            flex-direction: row;<br>            flex-wrap: wrap;<br>            justify-content: flex-start;<br>            width: 100%;<br>        }<br>        .wandb-col {<br>            display: flex;<br>            flex-direction: column;<br>            flex-basis: 100%;<br>            flex: 1;<br>            padding: 10px;<br>        }<br>    </style><br><div class=\"wandb-row\"><div class=\"wandb-col\"><h3>Run history:</h3><br/><table class=\"wandb\"><tr><td>epoch</td><td>▁▂▃▃▄▅▆▆▇█</td></tr><tr><td>train_loss</td><td>█▅▃▂▂▁▁▁▁▁</td></tr><tr><td>val_accuracy</td><td>▁▃▅▆▆▆▇▇██</td></tr><tr><td>val_loss</td><td>█▅▃▂▂▂▁▁▁▁</td></tr></table><br/></div><div class=\"wandb-col\"><h3>Run summary:</h3><br/><table class=\"wandb\"><tr><td>epoch</td><td>10</td></tr><tr><td>loss_type</td><td>cross_entropy</td></tr><tr><td>train_loss</td><td>0.46162</td></tr><tr><td>val_accuracy</td><td>0.83592</td></tr><tr><td>val_loss</td><td>0.46606</td></tr></table><br/></div></div>"
            ]
          },
          "metadata": {}
        },
        {
          "output_type": "display_data",
          "data": {
            "text/plain": [
              "<IPython.core.display.HTML object>"
            ],
            "text/html": [
              " View run <strong style=\"color:#cdcd00\">woven-sweep-12</strong> at: <a href='https://wandb.ai/ma23m021-iit-madras/MA23M021_A1_Q8_CROSS/runs/lhlna8mr' target=\"_blank\">https://wandb.ai/ma23m021-iit-madras/MA23M021_A1_Q8_CROSS/runs/lhlna8mr</a><br> View project at: <a href='https://wandb.ai/ma23m021-iit-madras/MA23M021_A1_Q8_CROSS' target=\"_blank\">https://wandb.ai/ma23m021-iit-madras/MA23M021_A1_Q8_CROSS</a><br>Synced 5 W&B file(s), 0 media file(s), 0 artifact file(s) and 0 other file(s)"
            ]
          },
          "metadata": {}
        },
        {
          "output_type": "display_data",
          "data": {
            "text/plain": [
              "<IPython.core.display.HTML object>"
            ],
            "text/html": [
              "Find logs at: <code>./wandb/run-20250309_132747-lhlna8mr/logs</code>"
            ]
          },
          "metadata": {}
        },
        {
          "output_type": "stream",
          "name": "stderr",
          "text": [
            "\u001b[34m\u001b[1mwandb\u001b[0m: Agent Starting Run: 0wolc29m with config:\n",
            "\u001b[34m\u001b[1mwandb\u001b[0m: \tactivation_function: tanh\n",
            "\u001b[34m\u001b[1mwandb\u001b[0m: \tbatch_size: 16\n",
            "\u001b[34m\u001b[1mwandb\u001b[0m: \tepochs: 10\n",
            "\u001b[34m\u001b[1mwandb\u001b[0m: \thidden_layer_size: 128\n",
            "\u001b[34m\u001b[1mwandb\u001b[0m: \tlearningg_rate_: 0.0001\n",
            "\u001b[34m\u001b[1mwandb\u001b[0m: \tloss_type: cross_entropy\n",
            "\u001b[34m\u001b[1mwandb\u001b[0m: \tnum_hidden_layers: 4\n",
            "\u001b[34m\u001b[1mwandb\u001b[0m: \toptimizer: adam\n",
            "\u001b[34m\u001b[1mwandb\u001b[0m: \tweight_initialization: xavier\n"
          ]
        },
        {
          "output_type": "display_data",
          "data": {
            "text/plain": [
              "<IPython.core.display.HTML object>"
            ],
            "text/html": [
              "Ignoring project 'MA23M021_A1_Q8_CROSS' when running a sweep."
            ]
          },
          "metadata": {}
        },
        {
          "output_type": "display_data",
          "data": {
            "text/plain": [
              "<IPython.core.display.HTML object>"
            ],
            "text/html": [
              "Tracking run with wandb version 0.19.7"
            ]
          },
          "metadata": {}
        },
        {
          "output_type": "display_data",
          "data": {
            "text/plain": [
              "<IPython.core.display.HTML object>"
            ],
            "text/html": [
              "Run data is saved locally in <code>/content/wandb/run-20250309_132853-0wolc29m</code>"
            ]
          },
          "metadata": {}
        },
        {
          "output_type": "display_data",
          "data": {
            "text/plain": [
              "<IPython.core.display.HTML object>"
            ],
            "text/html": [
              "Syncing run <strong><a href='https://wandb.ai/ma23m021-iit-madras/MA23M021_A1_Q8_CROSS/runs/0wolc29m' target=\"_blank\">chocolate-sweep-13</a></strong> to <a href='https://wandb.ai/ma23m021-iit-madras/MA23M021_A1_Q8_CROSS' target=\"_blank\">Weights & Biases</a> (<a href='https://wandb.me/developer-guide' target=\"_blank\">docs</a>)<br>Sweep page: <a href='https://wandb.ai/ma23m021-iit-madras/MA23M021_A1_Q8_CROSS/sweeps/64kuh29x' target=\"_blank\">https://wandb.ai/ma23m021-iit-madras/MA23M021_A1_Q8_CROSS/sweeps/64kuh29x</a>"
            ]
          },
          "metadata": {}
        },
        {
          "output_type": "display_data",
          "data": {
            "text/plain": [
              "<IPython.core.display.HTML object>"
            ],
            "text/html": [
              " View project at <a href='https://wandb.ai/ma23m021-iit-madras/MA23M021_A1_Q8_CROSS' target=\"_blank\">https://wandb.ai/ma23m021-iit-madras/MA23M021_A1_Q8_CROSS</a>"
            ]
          },
          "metadata": {}
        },
        {
          "output_type": "display_data",
          "data": {
            "text/plain": [
              "<IPython.core.display.HTML object>"
            ],
            "text/html": [
              " View sweep at <a href='https://wandb.ai/ma23m021-iit-madras/MA23M021_A1_Q8_CROSS/sweeps/64kuh29x' target=\"_blank\">https://wandb.ai/ma23m021-iit-madras/MA23M021_A1_Q8_CROSS/sweeps/64kuh29x</a>"
            ]
          },
          "metadata": {}
        },
        {
          "output_type": "display_data",
          "data": {
            "text/plain": [
              "<IPython.core.display.HTML object>"
            ],
            "text/html": [
              " View run at <a href='https://wandb.ai/ma23m021-iit-madras/MA23M021_A1_Q8_CROSS/runs/0wolc29m' target=\"_blank\">https://wandb.ai/ma23m021-iit-madras/MA23M021_A1_Q8_CROSS/runs/0wolc29m</a>"
            ]
          },
          "metadata": {}
        },
        {
          "output_type": "stream",
          "name": "stdout",
          "text": [
            "Epoch 1/10, cross_entropy - Train Loss: 1.4791, Val Loss: 0.9095, Val Accuracy: 0.7005\n",
            "Epoch 2/10, cross_entropy - Train Loss: 0.7378, Val Loss: 0.6441, Val Accuracy: 0.7707\n",
            "Epoch 3/10, cross_entropy - Train Loss: 0.5777, Val Loss: 0.5449, Val Accuracy: 0.8114\n",
            "Epoch 4/10, cross_entropy - Train Loss: 0.5056, Val Loss: 0.4886, Val Accuracy: 0.8315\n",
            "Epoch 5/10, cross_entropy - Train Loss: 0.4666, Val Loss: 0.4619, Val Accuracy: 0.8385\n",
            "Epoch 6/10, cross_entropy - Train Loss: 0.4421, Val Loss: 0.4454, Val Accuracy: 0.8458\n",
            "Epoch 7/10, cross_entropy - Train Loss: 0.4235, Val Loss: 0.4286, Val Accuracy: 0.8502\n",
            "Epoch 8/10, cross_entropy - Train Loss: 0.4089, Val Loss: 0.4401, Val Accuracy: 0.8409\n",
            "Epoch 9/10, cross_entropy - Train Loss: 0.3949, Val Loss: 0.4063, Val Accuracy: 0.8546\n",
            "Epoch 10/10, cross_entropy - Train Loss: 0.3824, Val Loss: 0.3951, Val Accuracy: 0.8605\n"
          ]
        },
        {
          "output_type": "display_data",
          "data": {
            "text/plain": [
              "<IPython.core.display.HTML object>"
            ],
            "text/html": []
          },
          "metadata": {}
        },
        {
          "output_type": "display_data",
          "data": {
            "text/plain": [
              "<IPython.core.display.HTML object>"
            ],
            "text/html": [
              "<br>    <style><br>        .wandb-row {<br>            display: flex;<br>            flex-direction: row;<br>            flex-wrap: wrap;<br>            justify-content: flex-start;<br>            width: 100%;<br>        }<br>        .wandb-col {<br>            display: flex;<br>            flex-direction: column;<br>            flex-basis: 100%;<br>            flex: 1;<br>            padding: 10px;<br>        }<br>    </style><br><div class=\"wandb-row\"><div class=\"wandb-col\"><h3>Run history:</h3><br/><table class=\"wandb\"><tr><td>epoch</td><td>▁▂▃▃▄▅▆▆▇█</td></tr><tr><td>train_loss</td><td>█▃▂▂▂▁▁▁▁▁</td></tr><tr><td>val_accuracy</td><td>▁▄▆▇▇▇█▇██</td></tr><tr><td>val_loss</td><td>█▄▃▂▂▂▁▂▁▁</td></tr></table><br/></div><div class=\"wandb-col\"><h3>Run summary:</h3><br/><table class=\"wandb\"><tr><td>epoch</td><td>10</td></tr><tr><td>loss_type</td><td>cross_entropy</td></tr><tr><td>train_loss</td><td>0.38236</td></tr><tr><td>val_accuracy</td><td>0.8605</td></tr><tr><td>val_loss</td><td>0.39511</td></tr></table><br/></div></div>"
            ]
          },
          "metadata": {}
        },
        {
          "output_type": "display_data",
          "data": {
            "text/plain": [
              "<IPython.core.display.HTML object>"
            ],
            "text/html": [
              " View run <strong style=\"color:#cdcd00\">chocolate-sweep-13</strong> at: <a href='https://wandb.ai/ma23m021-iit-madras/MA23M021_A1_Q8_CROSS/runs/0wolc29m' target=\"_blank\">https://wandb.ai/ma23m021-iit-madras/MA23M021_A1_Q8_CROSS/runs/0wolc29m</a><br> View project at: <a href='https://wandb.ai/ma23m021-iit-madras/MA23M021_A1_Q8_CROSS' target=\"_blank\">https://wandb.ai/ma23m021-iit-madras/MA23M021_A1_Q8_CROSS</a><br>Synced 5 W&B file(s), 0 media file(s), 0 artifact file(s) and 0 other file(s)"
            ]
          },
          "metadata": {}
        },
        {
          "output_type": "display_data",
          "data": {
            "text/plain": [
              "<IPython.core.display.HTML object>"
            ],
            "text/html": [
              "Find logs at: <code>./wandb/run-20250309_132853-0wolc29m/logs</code>"
            ]
          },
          "metadata": {}
        },
        {
          "output_type": "stream",
          "name": "stderr",
          "text": [
            "\u001b[34m\u001b[1mwandb\u001b[0m: Agent Starting Run: saqr37ju with config:\n",
            "\u001b[34m\u001b[1mwandb\u001b[0m: \tactivation_function: tanh\n",
            "\u001b[34m\u001b[1mwandb\u001b[0m: \tbatch_size: 16\n",
            "\u001b[34m\u001b[1mwandb\u001b[0m: \tepochs: 10\n",
            "\u001b[34m\u001b[1mwandb\u001b[0m: \thidden_layer_size: 128\n",
            "\u001b[34m\u001b[1mwandb\u001b[0m: \tlearningg_rate_: 0.0001\n",
            "\u001b[34m\u001b[1mwandb\u001b[0m: \tloss_type: cross_entropy\n",
            "\u001b[34m\u001b[1mwandb\u001b[0m: \tnum_hidden_layers: 3\n",
            "\u001b[34m\u001b[1mwandb\u001b[0m: \toptimizer: nesterov\n",
            "\u001b[34m\u001b[1mwandb\u001b[0m: \tweight_initialization: xavier\n"
          ]
        },
        {
          "output_type": "display_data",
          "data": {
            "text/plain": [
              "<IPython.core.display.HTML object>"
            ],
            "text/html": [
              "Ignoring project 'MA23M021_A1_Q8_CROSS' when running a sweep."
            ]
          },
          "metadata": {}
        },
        {
          "output_type": "display_data",
          "data": {
            "text/plain": [
              "<IPython.core.display.HTML object>"
            ],
            "text/html": [
              "Tracking run with wandb version 0.19.7"
            ]
          },
          "metadata": {}
        },
        {
          "output_type": "display_data",
          "data": {
            "text/plain": [
              "<IPython.core.display.HTML object>"
            ],
            "text/html": [
              "Run data is saved locally in <code>/content/wandb/run-20250309_133226-saqr37ju</code>"
            ]
          },
          "metadata": {}
        },
        {
          "output_type": "display_data",
          "data": {
            "text/plain": [
              "<IPython.core.display.HTML object>"
            ],
            "text/html": [
              "Syncing run <strong><a href='https://wandb.ai/ma23m021-iit-madras/MA23M021_A1_Q8_CROSS/runs/saqr37ju' target=\"_blank\">blooming-sweep-14</a></strong> to <a href='https://wandb.ai/ma23m021-iit-madras/MA23M021_A1_Q8_CROSS' target=\"_blank\">Weights & Biases</a> (<a href='https://wandb.me/developer-guide' target=\"_blank\">docs</a>)<br>Sweep page: <a href='https://wandb.ai/ma23m021-iit-madras/MA23M021_A1_Q8_CROSS/sweeps/64kuh29x' target=\"_blank\">https://wandb.ai/ma23m021-iit-madras/MA23M021_A1_Q8_CROSS/sweeps/64kuh29x</a>"
            ]
          },
          "metadata": {}
        },
        {
          "output_type": "display_data",
          "data": {
            "text/plain": [
              "<IPython.core.display.HTML object>"
            ],
            "text/html": [
              " View project at <a href='https://wandb.ai/ma23m021-iit-madras/MA23M021_A1_Q8_CROSS' target=\"_blank\">https://wandb.ai/ma23m021-iit-madras/MA23M021_A1_Q8_CROSS</a>"
            ]
          },
          "metadata": {}
        },
        {
          "output_type": "display_data",
          "data": {
            "text/plain": [
              "<IPython.core.display.HTML object>"
            ],
            "text/html": [
              " View sweep at <a href='https://wandb.ai/ma23m021-iit-madras/MA23M021_A1_Q8_CROSS/sweeps/64kuh29x' target=\"_blank\">https://wandb.ai/ma23m021-iit-madras/MA23M021_A1_Q8_CROSS/sweeps/64kuh29x</a>"
            ]
          },
          "metadata": {}
        },
        {
          "output_type": "display_data",
          "data": {
            "text/plain": [
              "<IPython.core.display.HTML object>"
            ],
            "text/html": [
              " View run at <a href='https://wandb.ai/ma23m021-iit-madras/MA23M021_A1_Q8_CROSS/runs/saqr37ju' target=\"_blank\">https://wandb.ai/ma23m021-iit-madras/MA23M021_A1_Q8_CROSS/runs/saqr37ju</a>"
            ]
          },
          "metadata": {}
        },
        {
          "output_type": "stream",
          "name": "stdout",
          "text": [
            "Epoch 1/10, cross_entropy - Train Loss: 2.1399, Val Loss: 1.9407, Val Accuracy: 0.3877\n",
            "Epoch 2/10, cross_entropy - Train Loss: 1.7520, Val Loss: 1.5927, Val Accuracy: 0.5575\n",
            "Epoch 3/10, cross_entropy - Train Loss: 1.4586, Val Loss: 1.3515, Val Accuracy: 0.6446\n",
            "Epoch 4/10, cross_entropy - Train Loss: 1.2528, Val Loss: 1.1765, Val Accuracy: 0.6843\n",
            "Epoch 5/10, cross_entropy - Train Loss: 1.0990, Val Loss: 1.0410, Val Accuracy: 0.7217\n",
            "Epoch 6/10, cross_entropy - Train Loss: 0.9762, Val Loss: 0.9318, Val Accuracy: 0.7359\n",
            "Epoch 7/10, cross_entropy - Train Loss: 0.8771, Val Loss: 0.8430, Val Accuracy: 0.7548\n",
            "Epoch 8/10, cross_entropy - Train Loss: 0.7968, Val Loss: 0.7715, Val Accuracy: 0.7679\n",
            "Epoch 9/10, cross_entropy - Train Loss: 0.7322, Val Loss: 0.7145, Val Accuracy: 0.7820\n",
            "Epoch 10/10, cross_entropy - Train Loss: 0.6799, Val Loss: 0.6671, Val Accuracy: 0.7943\n"
          ]
        },
        {
          "output_type": "display_data",
          "data": {
            "text/plain": [
              "<IPython.core.display.HTML object>"
            ],
            "text/html": []
          },
          "metadata": {}
        },
        {
          "output_type": "display_data",
          "data": {
            "text/plain": [
              "<IPython.core.display.HTML object>"
            ],
            "text/html": [
              "<br>    <style><br>        .wandb-row {<br>            display: flex;<br>            flex-direction: row;<br>            flex-wrap: wrap;<br>            justify-content: flex-start;<br>            width: 100%;<br>        }<br>        .wandb-col {<br>            display: flex;<br>            flex-direction: column;<br>            flex-basis: 100%;<br>            flex: 1;<br>            padding: 10px;<br>        }<br>    </style><br><div class=\"wandb-row\"><div class=\"wandb-col\"><h3>Run history:</h3><br/><table class=\"wandb\"><tr><td>epoch</td><td>▁▂▃▃▄▅▆▆▇█</td></tr><tr><td>train_loss</td><td>█▆▅▄▃▂▂▂▁▁</td></tr><tr><td>val_accuracy</td><td>▁▄▅▆▇▇▇███</td></tr><tr><td>val_loss</td><td>█▆▅▄▃▂▂▂▁▁</td></tr></table><br/></div><div class=\"wandb-col\"><h3>Run summary:</h3><br/><table class=\"wandb\"><tr><td>epoch</td><td>10</td></tr><tr><td>loss_type</td><td>cross_entropy</td></tr><tr><td>train_loss</td><td>0.67989</td></tr><tr><td>val_accuracy</td><td>0.79425</td></tr><tr><td>val_loss</td><td>0.6671</td></tr></table><br/></div></div>"
            ]
          },
          "metadata": {}
        },
        {
          "output_type": "display_data",
          "data": {
            "text/plain": [
              "<IPython.core.display.HTML object>"
            ],
            "text/html": [
              " View run <strong style=\"color:#cdcd00\">blooming-sweep-14</strong> at: <a href='https://wandb.ai/ma23m021-iit-madras/MA23M021_A1_Q8_CROSS/runs/saqr37ju' target=\"_blank\">https://wandb.ai/ma23m021-iit-madras/MA23M021_A1_Q8_CROSS/runs/saqr37ju</a><br> View project at: <a href='https://wandb.ai/ma23m021-iit-madras/MA23M021_A1_Q8_CROSS' target=\"_blank\">https://wandb.ai/ma23m021-iit-madras/MA23M021_A1_Q8_CROSS</a><br>Synced 5 W&B file(s), 0 media file(s), 0 artifact file(s) and 0 other file(s)"
            ]
          },
          "metadata": {}
        },
        {
          "output_type": "display_data",
          "data": {
            "text/plain": [
              "<IPython.core.display.HTML object>"
            ],
            "text/html": [
              "Find logs at: <code>./wandb/run-20250309_133226-saqr37ju/logs</code>"
            ]
          },
          "metadata": {}
        },
        {
          "output_type": "stream",
          "name": "stderr",
          "text": [
            "\u001b[34m\u001b[1mwandb\u001b[0m: Agent Starting Run: cnfah5ak with config:\n",
            "\u001b[34m\u001b[1mwandb\u001b[0m: \tactivation_function: tanh\n",
            "\u001b[34m\u001b[1mwandb\u001b[0m: \tbatch_size: 16\n",
            "\u001b[34m\u001b[1mwandb\u001b[0m: \tepochs: 5\n",
            "\u001b[34m\u001b[1mwandb\u001b[0m: \thidden_layer_size: 128\n",
            "\u001b[34m\u001b[1mwandb\u001b[0m: \tlearningg_rate_: 0.001\n",
            "\u001b[34m\u001b[1mwandb\u001b[0m: \tloss_type: cross_entropy\n",
            "\u001b[34m\u001b[1mwandb\u001b[0m: \tnum_hidden_layers: 3\n",
            "\u001b[34m\u001b[1mwandb\u001b[0m: \toptimizer: nadam\n",
            "\u001b[34m\u001b[1mwandb\u001b[0m: \tweight_initialization: xavier\n"
          ]
        },
        {
          "output_type": "display_data",
          "data": {
            "text/plain": [
              "<IPython.core.display.HTML object>"
            ],
            "text/html": [
              "Ignoring project 'MA23M021_A1_Q8_CROSS' when running a sweep."
            ]
          },
          "metadata": {}
        },
        {
          "output_type": "display_data",
          "data": {
            "text/plain": [
              "<IPython.core.display.HTML object>"
            ],
            "text/html": [
              "Tracking run with wandb version 0.19.7"
            ]
          },
          "metadata": {}
        },
        {
          "output_type": "display_data",
          "data": {
            "text/plain": [
              "<IPython.core.display.HTML object>"
            ],
            "text/html": [
              "Run data is saved locally in <code>/content/wandb/run-20250309_133418-cnfah5ak</code>"
            ]
          },
          "metadata": {}
        },
        {
          "output_type": "display_data",
          "data": {
            "text/plain": [
              "<IPython.core.display.HTML object>"
            ],
            "text/html": [
              "Syncing run <strong><a href='https://wandb.ai/ma23m021-iit-madras/MA23M021_A1_Q8_CROSS/runs/cnfah5ak' target=\"_blank\">misunderstood-sweep-15</a></strong> to <a href='https://wandb.ai/ma23m021-iit-madras/MA23M021_A1_Q8_CROSS' target=\"_blank\">Weights & Biases</a> (<a href='https://wandb.me/developer-guide' target=\"_blank\">docs</a>)<br>Sweep page: <a href='https://wandb.ai/ma23m021-iit-madras/MA23M021_A1_Q8_CROSS/sweeps/64kuh29x' target=\"_blank\">https://wandb.ai/ma23m021-iit-madras/MA23M021_A1_Q8_CROSS/sweeps/64kuh29x</a>"
            ]
          },
          "metadata": {}
        },
        {
          "output_type": "display_data",
          "data": {
            "text/plain": [
              "<IPython.core.display.HTML object>"
            ],
            "text/html": [
              " View project at <a href='https://wandb.ai/ma23m021-iit-madras/MA23M021_A1_Q8_CROSS' target=\"_blank\">https://wandb.ai/ma23m021-iit-madras/MA23M021_A1_Q8_CROSS</a>"
            ]
          },
          "metadata": {}
        },
        {
          "output_type": "display_data",
          "data": {
            "text/plain": [
              "<IPython.core.display.HTML object>"
            ],
            "text/html": [
              " View sweep at <a href='https://wandb.ai/ma23m021-iit-madras/MA23M021_A1_Q8_CROSS/sweeps/64kuh29x' target=\"_blank\">https://wandb.ai/ma23m021-iit-madras/MA23M021_A1_Q8_CROSS/sweeps/64kuh29x</a>"
            ]
          },
          "metadata": {}
        },
        {
          "output_type": "display_data",
          "data": {
            "text/plain": [
              "<IPython.core.display.HTML object>"
            ],
            "text/html": [
              " View run at <a href='https://wandb.ai/ma23m021-iit-madras/MA23M021_A1_Q8_CROSS/runs/cnfah5ak' target=\"_blank\">https://wandb.ai/ma23m021-iit-madras/MA23M021_A1_Q8_CROSS/runs/cnfah5ak</a>"
            ]
          },
          "metadata": {}
        },
        {
          "output_type": "stream",
          "name": "stdout",
          "text": [
            "Epoch 1/5, cross_entropy - Train Loss: 0.6062, Val Loss: 0.4461, Val Accuracy: 0.8416\n",
            "Epoch 2/5, cross_entropy - Train Loss: 0.3998, Val Loss: 0.4011, Val Accuracy: 0.8522\n",
            "Epoch 3/5, cross_entropy - Train Loss: 0.3634, Val Loss: 0.3578, Val Accuracy: 0.8693\n",
            "Epoch 4/5, cross_entropy - Train Loss: 0.3411, Val Loss: 0.3593, Val Accuracy: 0.8712\n",
            "Epoch 5/5, cross_entropy - Train Loss: 0.3246, Val Loss: 0.3363, Val Accuracy: 0.8756\n"
          ]
        },
        {
          "output_type": "display_data",
          "data": {
            "text/plain": [
              "<IPython.core.display.HTML object>"
            ],
            "text/html": []
          },
          "metadata": {}
        },
        {
          "output_type": "display_data",
          "data": {
            "text/plain": [
              "<IPython.core.display.HTML object>"
            ],
            "text/html": [
              "<br>    <style><br>        .wandb-row {<br>            display: flex;<br>            flex-direction: row;<br>            flex-wrap: wrap;<br>            justify-content: flex-start;<br>            width: 100%;<br>        }<br>        .wandb-col {<br>            display: flex;<br>            flex-direction: column;<br>            flex-basis: 100%;<br>            flex: 1;<br>            padding: 10px;<br>        }<br>    </style><br><div class=\"wandb-row\"><div class=\"wandb-col\"><h3>Run history:</h3><br/><table class=\"wandb\"><tr><td>epoch</td><td>▁▃▅▆█</td></tr><tr><td>train_loss</td><td>█▃▂▁▁</td></tr><tr><td>val_accuracy</td><td>▁▃▇▇█</td></tr><tr><td>val_loss</td><td>█▅▂▂▁</td></tr></table><br/></div><div class=\"wandb-col\"><h3>Run summary:</h3><br/><table class=\"wandb\"><tr><td>epoch</td><td>5</td></tr><tr><td>loss_type</td><td>cross_entropy</td></tr><tr><td>train_loss</td><td>0.3246</td></tr><tr><td>val_accuracy</td><td>0.87558</td></tr><tr><td>val_loss</td><td>0.33628</td></tr></table><br/></div></div>"
            ]
          },
          "metadata": {}
        },
        {
          "output_type": "display_data",
          "data": {
            "text/plain": [
              "<IPython.core.display.HTML object>"
            ],
            "text/html": [
              " View run <strong style=\"color:#cdcd00\">misunderstood-sweep-15</strong> at: <a href='https://wandb.ai/ma23m021-iit-madras/MA23M021_A1_Q8_CROSS/runs/cnfah5ak' target=\"_blank\">https://wandb.ai/ma23m021-iit-madras/MA23M021_A1_Q8_CROSS/runs/cnfah5ak</a><br> View project at: <a href='https://wandb.ai/ma23m021-iit-madras/MA23M021_A1_Q8_CROSS' target=\"_blank\">https://wandb.ai/ma23m021-iit-madras/MA23M021_A1_Q8_CROSS</a><br>Synced 5 W&B file(s), 0 media file(s), 0 artifact file(s) and 0 other file(s)"
            ]
          },
          "metadata": {}
        },
        {
          "output_type": "display_data",
          "data": {
            "text/plain": [
              "<IPython.core.display.HTML object>"
            ],
            "text/html": [
              "Find logs at: <code>./wandb/run-20250309_133418-cnfah5ak/logs</code>"
            ]
          },
          "metadata": {}
        },
        {
          "output_type": "stream",
          "name": "stderr",
          "text": [
            "\u001b[34m\u001b[1mwandb\u001b[0m: Agent Starting Run: 1e31xl2e with config:\n",
            "\u001b[34m\u001b[1mwandb\u001b[0m: \tactivation_function: tanh\n",
            "\u001b[34m\u001b[1mwandb\u001b[0m: \tbatch_size: 16\n",
            "\u001b[34m\u001b[1mwandb\u001b[0m: \tepochs: 10\n",
            "\u001b[34m\u001b[1mwandb\u001b[0m: \thidden_layer_size: 128\n",
            "\u001b[34m\u001b[1mwandb\u001b[0m: \tlearningg_rate_: 0.0001\n",
            "\u001b[34m\u001b[1mwandb\u001b[0m: \tloss_type: cross_entropy\n",
            "\u001b[34m\u001b[1mwandb\u001b[0m: \tnum_hidden_layers: 3\n",
            "\u001b[34m\u001b[1mwandb\u001b[0m: \toptimizer: nadam\n",
            "\u001b[34m\u001b[1mwandb\u001b[0m: \tweight_initialization: xavier\n"
          ]
        },
        {
          "output_type": "display_data",
          "data": {
            "text/plain": [
              "<IPython.core.display.HTML object>"
            ],
            "text/html": [
              "Ignoring project 'MA23M021_A1_Q8_CROSS' when running a sweep."
            ]
          },
          "metadata": {}
        },
        {
          "output_type": "display_data",
          "data": {
            "text/plain": [
              "<IPython.core.display.HTML object>"
            ],
            "text/html": [
              "Tracking run with wandb version 0.19.7"
            ]
          },
          "metadata": {}
        },
        {
          "output_type": "display_data",
          "data": {
            "text/plain": [
              "<IPython.core.display.HTML object>"
            ],
            "text/html": [
              "Run data is saved locally in <code>/content/wandb/run-20250309_133559-1e31xl2e</code>"
            ]
          },
          "metadata": {}
        },
        {
          "output_type": "display_data",
          "data": {
            "text/plain": [
              "<IPython.core.display.HTML object>"
            ],
            "text/html": [
              "Syncing run <strong><a href='https://wandb.ai/ma23m021-iit-madras/MA23M021_A1_Q8_CROSS/runs/1e31xl2e' target=\"_blank\">lunar-sweep-16</a></strong> to <a href='https://wandb.ai/ma23m021-iit-madras/MA23M021_A1_Q8_CROSS' target=\"_blank\">Weights & Biases</a> (<a href='https://wandb.me/developer-guide' target=\"_blank\">docs</a>)<br>Sweep page: <a href='https://wandb.ai/ma23m021-iit-madras/MA23M021_A1_Q8_CROSS/sweeps/64kuh29x' target=\"_blank\">https://wandb.ai/ma23m021-iit-madras/MA23M021_A1_Q8_CROSS/sweeps/64kuh29x</a>"
            ]
          },
          "metadata": {}
        },
        {
          "output_type": "display_data",
          "data": {
            "text/plain": [
              "<IPython.core.display.HTML object>"
            ],
            "text/html": [
              " View project at <a href='https://wandb.ai/ma23m021-iit-madras/MA23M021_A1_Q8_CROSS' target=\"_blank\">https://wandb.ai/ma23m021-iit-madras/MA23M021_A1_Q8_CROSS</a>"
            ]
          },
          "metadata": {}
        },
        {
          "output_type": "display_data",
          "data": {
            "text/plain": [
              "<IPython.core.display.HTML object>"
            ],
            "text/html": [
              " View sweep at <a href='https://wandb.ai/ma23m021-iit-madras/MA23M021_A1_Q8_CROSS/sweeps/64kuh29x' target=\"_blank\">https://wandb.ai/ma23m021-iit-madras/MA23M021_A1_Q8_CROSS/sweeps/64kuh29x</a>"
            ]
          },
          "metadata": {}
        },
        {
          "output_type": "display_data",
          "data": {
            "text/plain": [
              "<IPython.core.display.HTML object>"
            ],
            "text/html": [
              " View run at <a href='https://wandb.ai/ma23m021-iit-madras/MA23M021_A1_Q8_CROSS/runs/1e31xl2e' target=\"_blank\">https://wandb.ai/ma23m021-iit-madras/MA23M021_A1_Q8_CROSS/runs/1e31xl2e</a>"
            ]
          },
          "metadata": {}
        },
        {
          "output_type": "stream",
          "name": "stdout",
          "text": [
            "Epoch 1/10, cross_entropy - Train Loss: 1.3312, Val Loss: 0.8153, Val Accuracy: 0.7368\n",
            "Epoch 2/10, cross_entropy - Train Loss: 0.6722, Val Loss: 0.5938, Val Accuracy: 0.7918\n",
            "Epoch 3/10, cross_entropy - Train Loss: 0.5368, Val Loss: 0.5077, Val Accuracy: 0.8263\n",
            "Epoch 4/10, cross_entropy - Train Loss: 0.4764, Val Loss: 0.4657, Val Accuracy: 0.8353\n",
            "Epoch 5/10, cross_entropy - Train Loss: 0.4416, Val Loss: 0.4370, Val Accuracy: 0.8448\n",
            "Epoch 6/10, cross_entropy - Train Loss: 0.4185, Val Loss: 0.4177, Val Accuracy: 0.8512\n",
            "Epoch 7/10, cross_entropy - Train Loss: 0.4006, Val Loss: 0.4026, Val Accuracy: 0.8553\n",
            "Epoch 8/10, cross_entropy - Train Loss: 0.3869, Val Loss: 0.3933, Val Accuracy: 0.8589\n",
            "Epoch 9/10, cross_entropy - Train Loss: 0.3754, Val Loss: 0.3864, Val Accuracy: 0.8604\n",
            "Epoch 10/10, cross_entropy - Train Loss: 0.3653, Val Loss: 0.3741, Val Accuracy: 0.8655\n"
          ]
        },
        {
          "output_type": "display_data",
          "data": {
            "text/plain": [
              "<IPython.core.display.HTML object>"
            ],
            "text/html": []
          },
          "metadata": {}
        },
        {
          "output_type": "display_data",
          "data": {
            "text/plain": [
              "<IPython.core.display.HTML object>"
            ],
            "text/html": [
              "<br>    <style><br>        .wandb-row {<br>            display: flex;<br>            flex-direction: row;<br>            flex-wrap: wrap;<br>            justify-content: flex-start;<br>            width: 100%;<br>        }<br>        .wandb-col {<br>            display: flex;<br>            flex-direction: column;<br>            flex-basis: 100%;<br>            flex: 1;<br>            padding: 10px;<br>        }<br>    </style><br><div class=\"wandb-row\"><div class=\"wandb-col\"><h3>Run history:</h3><br/><table class=\"wandb\"><tr><td>epoch</td><td>▁▂▃▃▄▅▆▆▇█</td></tr><tr><td>train_loss</td><td>█▃▂▂▂▁▁▁▁▁</td></tr><tr><td>val_accuracy</td><td>▁▄▆▆▇▇▇███</td></tr><tr><td>val_loss</td><td>█▄▃▂▂▂▁▁▁▁</td></tr></table><br/></div><div class=\"wandb-col\"><h3>Run summary:</h3><br/><table class=\"wandb\"><tr><td>epoch</td><td>10</td></tr><tr><td>loss_type</td><td>cross_entropy</td></tr><tr><td>train_loss</td><td>0.36535</td></tr><tr><td>val_accuracy</td><td>0.8655</td></tr><tr><td>val_loss</td><td>0.37406</td></tr></table><br/></div></div>"
            ]
          },
          "metadata": {}
        },
        {
          "output_type": "display_data",
          "data": {
            "text/plain": [
              "<IPython.core.display.HTML object>"
            ],
            "text/html": [
              " View run <strong style=\"color:#cdcd00\">lunar-sweep-16</strong> at: <a href='https://wandb.ai/ma23m021-iit-madras/MA23M021_A1_Q8_CROSS/runs/1e31xl2e' target=\"_blank\">https://wandb.ai/ma23m021-iit-madras/MA23M021_A1_Q8_CROSS/runs/1e31xl2e</a><br> View project at: <a href='https://wandb.ai/ma23m021-iit-madras/MA23M021_A1_Q8_CROSS' target=\"_blank\">https://wandb.ai/ma23m021-iit-madras/MA23M021_A1_Q8_CROSS</a><br>Synced 5 W&B file(s), 0 media file(s), 0 artifact file(s) and 0 other file(s)"
            ]
          },
          "metadata": {}
        },
        {
          "output_type": "display_data",
          "data": {
            "text/plain": [
              "<IPython.core.display.HTML object>"
            ],
            "text/html": [
              "Find logs at: <code>./wandb/run-20250309_133559-1e31xl2e/logs</code>"
            ]
          },
          "metadata": {}
        },
        {
          "output_type": "stream",
          "name": "stderr",
          "text": [
            "\u001b[34m\u001b[1mwandb\u001b[0m: Agent Starting Run: w20hq76z with config:\n",
            "\u001b[34m\u001b[1mwandb\u001b[0m: \tactivation_function: tanh\n",
            "\u001b[34m\u001b[1mwandb\u001b[0m: \tbatch_size: 16\n",
            "\u001b[34m\u001b[1mwandb\u001b[0m: \tepochs: 5\n",
            "\u001b[34m\u001b[1mwandb\u001b[0m: \thidden_layer_size: 128\n",
            "\u001b[34m\u001b[1mwandb\u001b[0m: \tlearningg_rate_: 0.001\n",
            "\u001b[34m\u001b[1mwandb\u001b[0m: \tloss_type: cross_entropy\n",
            "\u001b[34m\u001b[1mwandb\u001b[0m: \tnum_hidden_layers: 4\n",
            "\u001b[34m\u001b[1mwandb\u001b[0m: \toptimizer: nadam\n",
            "\u001b[34m\u001b[1mwandb\u001b[0m: \tweight_initialization: xavier\n"
          ]
        },
        {
          "output_type": "display_data",
          "data": {
            "text/plain": [
              "<IPython.core.display.HTML object>"
            ],
            "text/html": [
              "Ignoring project 'MA23M021_A1_Q8_CROSS' when running a sweep."
            ]
          },
          "metadata": {}
        },
        {
          "output_type": "display_data",
          "data": {
            "text/plain": [
              "<IPython.core.display.HTML object>"
            ],
            "text/html": [
              "Tracking run with wandb version 0.19.7"
            ]
          },
          "metadata": {}
        },
        {
          "output_type": "display_data",
          "data": {
            "text/plain": [
              "<IPython.core.display.HTML object>"
            ],
            "text/html": [
              "Run data is saved locally in <code>/content/wandb/run-20250309_133917-w20hq76z</code>"
            ]
          },
          "metadata": {}
        },
        {
          "output_type": "display_data",
          "data": {
            "text/plain": [
              "<IPython.core.display.HTML object>"
            ],
            "text/html": [
              "Syncing run <strong><a href='https://wandb.ai/ma23m021-iit-madras/MA23M021_A1_Q8_CROSS/runs/w20hq76z' target=\"_blank\">balmy-sweep-17</a></strong> to <a href='https://wandb.ai/ma23m021-iit-madras/MA23M021_A1_Q8_CROSS' target=\"_blank\">Weights & Biases</a> (<a href='https://wandb.me/developer-guide' target=\"_blank\">docs</a>)<br>Sweep page: <a href='https://wandb.ai/ma23m021-iit-madras/MA23M021_A1_Q8_CROSS/sweeps/64kuh29x' target=\"_blank\">https://wandb.ai/ma23m021-iit-madras/MA23M021_A1_Q8_CROSS/sweeps/64kuh29x</a>"
            ]
          },
          "metadata": {}
        },
        {
          "output_type": "display_data",
          "data": {
            "text/plain": [
              "<IPython.core.display.HTML object>"
            ],
            "text/html": [
              " View project at <a href='https://wandb.ai/ma23m021-iit-madras/MA23M021_A1_Q8_CROSS' target=\"_blank\">https://wandb.ai/ma23m021-iit-madras/MA23M021_A1_Q8_CROSS</a>"
            ]
          },
          "metadata": {}
        },
        {
          "output_type": "display_data",
          "data": {
            "text/plain": [
              "<IPython.core.display.HTML object>"
            ],
            "text/html": [
              " View sweep at <a href='https://wandb.ai/ma23m021-iit-madras/MA23M021_A1_Q8_CROSS/sweeps/64kuh29x' target=\"_blank\">https://wandb.ai/ma23m021-iit-madras/MA23M021_A1_Q8_CROSS/sweeps/64kuh29x</a>"
            ]
          },
          "metadata": {}
        },
        {
          "output_type": "display_data",
          "data": {
            "text/plain": [
              "<IPython.core.display.HTML object>"
            ],
            "text/html": [
              " View run at <a href='https://wandb.ai/ma23m021-iit-madras/MA23M021_A1_Q8_CROSS/runs/w20hq76z' target=\"_blank\">https://wandb.ai/ma23m021-iit-madras/MA23M021_A1_Q8_CROSS/runs/w20hq76z</a>"
            ]
          },
          "metadata": {}
        },
        {
          "output_type": "stream",
          "name": "stdout",
          "text": [
            "Epoch 1/5, cross_entropy - Train Loss: 0.6588, Val Loss: 0.4411, Val Accuracy: 0.8448\n",
            "Epoch 2/5, cross_entropy - Train Loss: 0.4111, Val Loss: 0.4149, Val Accuracy: 0.8482\n",
            "Epoch 3/5, cross_entropy - Train Loss: 0.3739, Val Loss: 0.3887, Val Accuracy: 0.8590\n",
            "Epoch 4/5, cross_entropy - Train Loss: 0.3496, Val Loss: 0.3652, Val Accuracy: 0.8696\n",
            "Epoch 5/5, cross_entropy - Train Loss: 0.3359, Val Loss: 0.3412, Val Accuracy: 0.8775\n"
          ]
        },
        {
          "output_type": "display_data",
          "data": {
            "text/plain": [
              "<IPython.core.display.HTML object>"
            ],
            "text/html": []
          },
          "metadata": {}
        },
        {
          "output_type": "display_data",
          "data": {
            "text/plain": [
              "<IPython.core.display.HTML object>"
            ],
            "text/html": [
              "<br>    <style><br>        .wandb-row {<br>            display: flex;<br>            flex-direction: row;<br>            flex-wrap: wrap;<br>            justify-content: flex-start;<br>            width: 100%;<br>        }<br>        .wandb-col {<br>            display: flex;<br>            flex-direction: column;<br>            flex-basis: 100%;<br>            flex: 1;<br>            padding: 10px;<br>        }<br>    </style><br><div class=\"wandb-row\"><div class=\"wandb-col\"><h3>Run history:</h3><br/><table class=\"wandb\"><tr><td>epoch</td><td>▁▃▅▆█</td></tr><tr><td>train_loss</td><td>█▃▂▁▁</td></tr><tr><td>val_accuracy</td><td>▁▂▄▆█</td></tr><tr><td>val_loss</td><td>█▆▄▃▁</td></tr></table><br/></div><div class=\"wandb-col\"><h3>Run summary:</h3><br/><table class=\"wandb\"><tr><td>epoch</td><td>5</td></tr><tr><td>loss_type</td><td>cross_entropy</td></tr><tr><td>train_loss</td><td>0.33593</td></tr><tr><td>val_accuracy</td><td>0.8775</td></tr><tr><td>val_loss</td><td>0.34118</td></tr></table><br/></div></div>"
            ]
          },
          "metadata": {}
        },
        {
          "output_type": "display_data",
          "data": {
            "text/plain": [
              "<IPython.core.display.HTML object>"
            ],
            "text/html": [
              " View run <strong style=\"color:#cdcd00\">balmy-sweep-17</strong> at: <a href='https://wandb.ai/ma23m021-iit-madras/MA23M021_A1_Q8_CROSS/runs/w20hq76z' target=\"_blank\">https://wandb.ai/ma23m021-iit-madras/MA23M021_A1_Q8_CROSS/runs/w20hq76z</a><br> View project at: <a href='https://wandb.ai/ma23m021-iit-madras/MA23M021_A1_Q8_CROSS' target=\"_blank\">https://wandb.ai/ma23m021-iit-madras/MA23M021_A1_Q8_CROSS</a><br>Synced 5 W&B file(s), 0 media file(s), 0 artifact file(s) and 0 other file(s)"
            ]
          },
          "metadata": {}
        },
        {
          "output_type": "display_data",
          "data": {
            "text/plain": [
              "<IPython.core.display.HTML object>"
            ],
            "text/html": [
              "Find logs at: <code>./wandb/run-20250309_133917-w20hq76z/logs</code>"
            ]
          },
          "metadata": {}
        },
        {
          "output_type": "stream",
          "name": "stderr",
          "text": [
            "\u001b[34m\u001b[1mwandb\u001b[0m: Agent Starting Run: zpdl2xc0 with config:\n",
            "\u001b[34m\u001b[1mwandb\u001b[0m: \tactivation_function: tanh\n",
            "\u001b[34m\u001b[1mwandb\u001b[0m: \tbatch_size: 32\n",
            "\u001b[34m\u001b[1mwandb\u001b[0m: \tepochs: 5\n",
            "\u001b[34m\u001b[1mwandb\u001b[0m: \thidden_layer_size: 32\n",
            "\u001b[34m\u001b[1mwandb\u001b[0m: \tlearningg_rate_: 0.001\n",
            "\u001b[34m\u001b[1mwandb\u001b[0m: \tloss_type: cross_entropy\n",
            "\u001b[34m\u001b[1mwandb\u001b[0m: \tnum_hidden_layers: 3\n",
            "\u001b[34m\u001b[1mwandb\u001b[0m: \toptimizer: nadam\n",
            "\u001b[34m\u001b[1mwandb\u001b[0m: \tweight_initialization: xavier\n"
          ]
        },
        {
          "output_type": "display_data",
          "data": {
            "text/plain": [
              "<IPython.core.display.HTML object>"
            ],
            "text/html": [
              "Ignoring project 'MA23M021_A1_Q8_CROSS' when running a sweep."
            ]
          },
          "metadata": {}
        },
        {
          "output_type": "display_data",
          "data": {
            "text/plain": [
              "<IPython.core.display.HTML object>"
            ],
            "text/html": [
              "Tracking run with wandb version 0.19.7"
            ]
          },
          "metadata": {}
        },
        {
          "output_type": "display_data",
          "data": {
            "text/plain": [
              "<IPython.core.display.HTML object>"
            ],
            "text/html": [
              "Run data is saved locally in <code>/content/wandb/run-20250309_134114-zpdl2xc0</code>"
            ]
          },
          "metadata": {}
        },
        {
          "output_type": "display_data",
          "data": {
            "text/plain": [
              "<IPython.core.display.HTML object>"
            ],
            "text/html": [
              "Syncing run <strong><a href='https://wandb.ai/ma23m021-iit-madras/MA23M021_A1_Q8_CROSS/runs/zpdl2xc0' target=\"_blank\">icy-sweep-18</a></strong> to <a href='https://wandb.ai/ma23m021-iit-madras/MA23M021_A1_Q8_CROSS' target=\"_blank\">Weights & Biases</a> (<a href='https://wandb.me/developer-guide' target=\"_blank\">docs</a>)<br>Sweep page: <a href='https://wandb.ai/ma23m021-iit-madras/MA23M021_A1_Q8_CROSS/sweeps/64kuh29x' target=\"_blank\">https://wandb.ai/ma23m021-iit-madras/MA23M021_A1_Q8_CROSS/sweeps/64kuh29x</a>"
            ]
          },
          "metadata": {}
        },
        {
          "output_type": "display_data",
          "data": {
            "text/plain": [
              "<IPython.core.display.HTML object>"
            ],
            "text/html": [
              " View project at <a href='https://wandb.ai/ma23m021-iit-madras/MA23M021_A1_Q8_CROSS' target=\"_blank\">https://wandb.ai/ma23m021-iit-madras/MA23M021_A1_Q8_CROSS</a>"
            ]
          },
          "metadata": {}
        },
        {
          "output_type": "display_data",
          "data": {
            "text/plain": [
              "<IPython.core.display.HTML object>"
            ],
            "text/html": [
              " View sweep at <a href='https://wandb.ai/ma23m021-iit-madras/MA23M021_A1_Q8_CROSS/sweeps/64kuh29x' target=\"_blank\">https://wandb.ai/ma23m021-iit-madras/MA23M021_A1_Q8_CROSS/sweeps/64kuh29x</a>"
            ]
          },
          "metadata": {}
        },
        {
          "output_type": "display_data",
          "data": {
            "text/plain": [
              "<IPython.core.display.HTML object>"
            ],
            "text/html": [
              " View run at <a href='https://wandb.ai/ma23m021-iit-madras/MA23M021_A1_Q8_CROSS/runs/zpdl2xc0' target=\"_blank\">https://wandb.ai/ma23m021-iit-madras/MA23M021_A1_Q8_CROSS/runs/zpdl2xc0</a>"
            ]
          },
          "metadata": {}
        },
        {
          "output_type": "stream",
          "name": "stdout",
          "text": [
            "Epoch 1/5, cross_entropy - Train Loss: 1.1322, Val Loss: 0.6035, Val Accuracy: 0.8192\n",
            "Epoch 2/5, cross_entropy - Train Loss: 0.4953, Val Loss: 0.4441, Val Accuracy: 0.8446\n",
            "Epoch 3/5, cross_entropy - Train Loss: 0.4096, Val Loss: 0.4027, Val Accuracy: 0.8589\n",
            "Epoch 4/5, cross_entropy - Train Loss: 0.3756, Val Loss: 0.3855, Val Accuracy: 0.8612\n",
            "Epoch 5/5, cross_entropy - Train Loss: 0.3549, Val Loss: 0.3760, Val Accuracy: 0.8657\n"
          ]
        },
        {
          "output_type": "display_data",
          "data": {
            "text/plain": [
              "<IPython.core.display.HTML object>"
            ],
            "text/html": []
          },
          "metadata": {}
        },
        {
          "output_type": "display_data",
          "data": {
            "text/plain": [
              "<IPython.core.display.HTML object>"
            ],
            "text/html": [
              "<br>    <style><br>        .wandb-row {<br>            display: flex;<br>            flex-direction: row;<br>            flex-wrap: wrap;<br>            justify-content: flex-start;<br>            width: 100%;<br>        }<br>        .wandb-col {<br>            display: flex;<br>            flex-direction: column;<br>            flex-basis: 100%;<br>            flex: 1;<br>            padding: 10px;<br>        }<br>    </style><br><div class=\"wandb-row\"><div class=\"wandb-col\"><h3>Run history:</h3><br/><table class=\"wandb\"><tr><td>epoch</td><td>▁▃▅▆█</td></tr><tr><td>train_loss</td><td>█▂▁▁▁</td></tr><tr><td>val_accuracy</td><td>▁▅▇▇█</td></tr><tr><td>val_loss</td><td>█▃▂▁▁</td></tr></table><br/></div><div class=\"wandb-col\"><h3>Run summary:</h3><br/><table class=\"wandb\"><tr><td>epoch</td><td>5</td></tr><tr><td>loss_type</td><td>cross_entropy</td></tr><tr><td>train_loss</td><td>0.35486</td></tr><tr><td>val_accuracy</td><td>0.86567</td></tr><tr><td>val_loss</td><td>0.37603</td></tr></table><br/></div></div>"
            ]
          },
          "metadata": {}
        },
        {
          "output_type": "display_data",
          "data": {
            "text/plain": [
              "<IPython.core.display.HTML object>"
            ],
            "text/html": [
              " View run <strong style=\"color:#cdcd00\">icy-sweep-18</strong> at: <a href='https://wandb.ai/ma23m021-iit-madras/MA23M021_A1_Q8_CROSS/runs/zpdl2xc0' target=\"_blank\">https://wandb.ai/ma23m021-iit-madras/MA23M021_A1_Q8_CROSS/runs/zpdl2xc0</a><br> View project at: <a href='https://wandb.ai/ma23m021-iit-madras/MA23M021_A1_Q8_CROSS' target=\"_blank\">https://wandb.ai/ma23m021-iit-madras/MA23M021_A1_Q8_CROSS</a><br>Synced 5 W&B file(s), 0 media file(s), 0 artifact file(s) and 0 other file(s)"
            ]
          },
          "metadata": {}
        },
        {
          "output_type": "display_data",
          "data": {
            "text/plain": [
              "<IPython.core.display.HTML object>"
            ],
            "text/html": [
              "Find logs at: <code>./wandb/run-20250309_134114-zpdl2xc0/logs</code>"
            ]
          },
          "metadata": {}
        },
        {
          "output_type": "stream",
          "name": "stderr",
          "text": [
            "\u001b[34m\u001b[1mwandb\u001b[0m: Agent Starting Run: ieuihwer with config:\n",
            "\u001b[34m\u001b[1mwandb\u001b[0m: \tactivation_function: tanh\n",
            "\u001b[34m\u001b[1mwandb\u001b[0m: \tbatch_size: 16\n",
            "\u001b[34m\u001b[1mwandb\u001b[0m: \tepochs: 5\n",
            "\u001b[34m\u001b[1mwandb\u001b[0m: \thidden_layer_size: 32\n",
            "\u001b[34m\u001b[1mwandb\u001b[0m: \tlearningg_rate_: 0.0001\n",
            "\u001b[34m\u001b[1mwandb\u001b[0m: \tloss_type: cross_entropy\n",
            "\u001b[34m\u001b[1mwandb\u001b[0m: \tnum_hidden_layers: 3\n",
            "\u001b[34m\u001b[1mwandb\u001b[0m: \toptimizer: nadam\n",
            "\u001b[34m\u001b[1mwandb\u001b[0m: \tweight_initialization: xavier\n"
          ]
        },
        {
          "output_type": "display_data",
          "data": {
            "text/plain": [
              "<IPython.core.display.HTML object>"
            ],
            "text/html": [
              "Ignoring project 'MA23M021_A1_Q8_CROSS' when running a sweep."
            ]
          },
          "metadata": {}
        },
        {
          "output_type": "display_data",
          "data": {
            "text/plain": [
              "<IPython.core.display.HTML object>"
            ],
            "text/html": [
              "Tracking run with wandb version 0.19.7"
            ]
          },
          "metadata": {}
        },
        {
          "output_type": "display_data",
          "data": {
            "text/plain": [
              "<IPython.core.display.HTML object>"
            ],
            "text/html": [
              "Run data is saved locally in <code>/content/wandb/run-20250309_134140-ieuihwer</code>"
            ]
          },
          "metadata": {}
        },
        {
          "output_type": "display_data",
          "data": {
            "text/plain": [
              "<IPython.core.display.HTML object>"
            ],
            "text/html": [
              "Syncing run <strong><a href='https://wandb.ai/ma23m021-iit-madras/MA23M021_A1_Q8_CROSS/runs/ieuihwer' target=\"_blank\">blooming-sweep-19</a></strong> to <a href='https://wandb.ai/ma23m021-iit-madras/MA23M021_A1_Q8_CROSS' target=\"_blank\">Weights & Biases</a> (<a href='https://wandb.me/developer-guide' target=\"_blank\">docs</a>)<br>Sweep page: <a href='https://wandb.ai/ma23m021-iit-madras/MA23M021_A1_Q8_CROSS/sweeps/64kuh29x' target=\"_blank\">https://wandb.ai/ma23m021-iit-madras/MA23M021_A1_Q8_CROSS/sweeps/64kuh29x</a>"
            ]
          },
          "metadata": {}
        },
        {
          "output_type": "display_data",
          "data": {
            "text/plain": [
              "<IPython.core.display.HTML object>"
            ],
            "text/html": [
              " View project at <a href='https://wandb.ai/ma23m021-iit-madras/MA23M021_A1_Q8_CROSS' target=\"_blank\">https://wandb.ai/ma23m021-iit-madras/MA23M021_A1_Q8_CROSS</a>"
            ]
          },
          "metadata": {}
        },
        {
          "output_type": "display_data",
          "data": {
            "text/plain": [
              "<IPython.core.display.HTML object>"
            ],
            "text/html": [
              " View sweep at <a href='https://wandb.ai/ma23m021-iit-madras/MA23M021_A1_Q8_CROSS/sweeps/64kuh29x' target=\"_blank\">https://wandb.ai/ma23m021-iit-madras/MA23M021_A1_Q8_CROSS/sweeps/64kuh29x</a>"
            ]
          },
          "metadata": {}
        },
        {
          "output_type": "display_data",
          "data": {
            "text/plain": [
              "<IPython.core.display.HTML object>"
            ],
            "text/html": [
              " View run at <a href='https://wandb.ai/ma23m021-iit-madras/MA23M021_A1_Q8_CROSS/runs/ieuihwer' target=\"_blank\">https://wandb.ai/ma23m021-iit-madras/MA23M021_A1_Q8_CROSS/runs/ieuihwer</a>"
            ]
          },
          "metadata": {}
        },
        {
          "output_type": "stream",
          "name": "stdout",
          "text": [
            "Epoch 1/5, cross_entropy - Train Loss: 1.9790, Val Loss: 1.6386, Val Accuracy: 0.6012\n",
            "Epoch 2/5, cross_entropy - Train Loss: 1.3570, Val Loss: 1.1295, Val Accuracy: 0.7322\n",
            "Epoch 3/5, cross_entropy - Train Loss: 0.9729, Val Loss: 0.8595, Val Accuracy: 0.7603\n",
            "Epoch 4/5, cross_entropy - Train Loss: 0.7757, Val Loss: 0.7193, Val Accuracy: 0.7829\n",
            "Epoch 5/5, cross_entropy - Train Loss: 0.6677, Val Loss: 0.6371, Val Accuracy: 0.7992\n"
          ]
        },
        {
          "output_type": "display_data",
          "data": {
            "text/plain": [
              "<IPython.core.display.HTML object>"
            ],
            "text/html": []
          },
          "metadata": {}
        },
        {
          "output_type": "display_data",
          "data": {
            "text/plain": [
              "<IPython.core.display.HTML object>"
            ],
            "text/html": [
              "<br>    <style><br>        .wandb-row {<br>            display: flex;<br>            flex-direction: row;<br>            flex-wrap: wrap;<br>            justify-content: flex-start;<br>            width: 100%;<br>        }<br>        .wandb-col {<br>            display: flex;<br>            flex-direction: column;<br>            flex-basis: 100%;<br>            flex: 1;<br>            padding: 10px;<br>        }<br>    </style><br><div class=\"wandb-row\"><div class=\"wandb-col\"><h3>Run history:</h3><br/><table class=\"wandb\"><tr><td>epoch</td><td>▁▃▅▆█</td></tr><tr><td>train_loss</td><td>█▅▃▂▁</td></tr><tr><td>val_accuracy</td><td>▁▆▇▇█</td></tr><tr><td>val_loss</td><td>█▄▃▂▁</td></tr></table><br/></div><div class=\"wandb-col\"><h3>Run summary:</h3><br/><table class=\"wandb\"><tr><td>epoch</td><td>5</td></tr><tr><td>loss_type</td><td>cross_entropy</td></tr><tr><td>train_loss</td><td>0.66773</td></tr><tr><td>val_accuracy</td><td>0.79917</td></tr><tr><td>val_loss</td><td>0.63707</td></tr></table><br/></div></div>"
            ]
          },
          "metadata": {}
        },
        {
          "output_type": "display_data",
          "data": {
            "text/plain": [
              "<IPython.core.display.HTML object>"
            ],
            "text/html": [
              " View run <strong style=\"color:#cdcd00\">blooming-sweep-19</strong> at: <a href='https://wandb.ai/ma23m021-iit-madras/MA23M021_A1_Q8_CROSS/runs/ieuihwer' target=\"_blank\">https://wandb.ai/ma23m021-iit-madras/MA23M021_A1_Q8_CROSS/runs/ieuihwer</a><br> View project at: <a href='https://wandb.ai/ma23m021-iit-madras/MA23M021_A1_Q8_CROSS' target=\"_blank\">https://wandb.ai/ma23m021-iit-madras/MA23M021_A1_Q8_CROSS</a><br>Synced 5 W&B file(s), 0 media file(s), 0 artifact file(s) and 0 other file(s)"
            ]
          },
          "metadata": {}
        },
        {
          "output_type": "display_data",
          "data": {
            "text/plain": [
              "<IPython.core.display.HTML object>"
            ],
            "text/html": [
              "Find logs at: <code>./wandb/run-20250309_134140-ieuihwer/logs</code>"
            ]
          },
          "metadata": {}
        },
        {
          "output_type": "stream",
          "name": "stderr",
          "text": [
            "\u001b[34m\u001b[1mwandb\u001b[0m: Agent Starting Run: 28vkjw4n with config:\n",
            "\u001b[34m\u001b[1mwandb\u001b[0m: \tactivation_function: tanh\n",
            "\u001b[34m\u001b[1mwandb\u001b[0m: \tbatch_size: 64\n",
            "\u001b[34m\u001b[1mwandb\u001b[0m: \tepochs: 5\n",
            "\u001b[34m\u001b[1mwandb\u001b[0m: \thidden_layer_size: 32\n",
            "\u001b[34m\u001b[1mwandb\u001b[0m: \tlearningg_rate_: 0.001\n",
            "\u001b[34m\u001b[1mwandb\u001b[0m: \tloss_type: cross_entropy\n",
            "\u001b[34m\u001b[1mwandb\u001b[0m: \tnum_hidden_layers: 4\n",
            "\u001b[34m\u001b[1mwandb\u001b[0m: \toptimizer: nadam\n",
            "\u001b[34m\u001b[1mwandb\u001b[0m: \tweight_initialization: xavier\n"
          ]
        },
        {
          "output_type": "display_data",
          "data": {
            "text/plain": [
              "<IPython.core.display.HTML object>"
            ],
            "text/html": [
              "Ignoring project 'MA23M021_A1_Q8_CROSS' when running a sweep."
            ]
          },
          "metadata": {}
        },
        {
          "output_type": "display_data",
          "data": {
            "text/plain": [
              "<IPython.core.display.HTML object>"
            ],
            "text/html": [
              "Tracking run with wandb version 0.19.7"
            ]
          },
          "metadata": {}
        },
        {
          "output_type": "display_data",
          "data": {
            "text/plain": [
              "<IPython.core.display.HTML object>"
            ],
            "text/html": [
              "Run data is saved locally in <code>/content/wandb/run-20250309_134216-28vkjw4n</code>"
            ]
          },
          "metadata": {}
        },
        {
          "output_type": "display_data",
          "data": {
            "text/plain": [
              "<IPython.core.display.HTML object>"
            ],
            "text/html": [
              "Syncing run <strong><a href='https://wandb.ai/ma23m021-iit-madras/MA23M021_A1_Q8_CROSS/runs/28vkjw4n' target=\"_blank\">graceful-sweep-20</a></strong> to <a href='https://wandb.ai/ma23m021-iit-madras/MA23M021_A1_Q8_CROSS' target=\"_blank\">Weights & Biases</a> (<a href='https://wandb.me/developer-guide' target=\"_blank\">docs</a>)<br>Sweep page: <a href='https://wandb.ai/ma23m021-iit-madras/MA23M021_A1_Q8_CROSS/sweeps/64kuh29x' target=\"_blank\">https://wandb.ai/ma23m021-iit-madras/MA23M021_A1_Q8_CROSS/sweeps/64kuh29x</a>"
            ]
          },
          "metadata": {}
        },
        {
          "output_type": "display_data",
          "data": {
            "text/plain": [
              "<IPython.core.display.HTML object>"
            ],
            "text/html": [
              " View project at <a href='https://wandb.ai/ma23m021-iit-madras/MA23M021_A1_Q8_CROSS' target=\"_blank\">https://wandb.ai/ma23m021-iit-madras/MA23M021_A1_Q8_CROSS</a>"
            ]
          },
          "metadata": {}
        },
        {
          "output_type": "display_data",
          "data": {
            "text/plain": [
              "<IPython.core.display.HTML object>"
            ],
            "text/html": [
              " View sweep at <a href='https://wandb.ai/ma23m021-iit-madras/MA23M021_A1_Q8_CROSS/sweeps/64kuh29x' target=\"_blank\">https://wandb.ai/ma23m021-iit-madras/MA23M021_A1_Q8_CROSS/sweeps/64kuh29x</a>"
            ]
          },
          "metadata": {}
        },
        {
          "output_type": "display_data",
          "data": {
            "text/plain": [
              "<IPython.core.display.HTML object>"
            ],
            "text/html": [
              " View run at <a href='https://wandb.ai/ma23m021-iit-madras/MA23M021_A1_Q8_CROSS/runs/28vkjw4n' target=\"_blank\">https://wandb.ai/ma23m021-iit-madras/MA23M021_A1_Q8_CROSS/runs/28vkjw4n</a>"
            ]
          },
          "metadata": {}
        },
        {
          "output_type": "stream",
          "name": "stdout",
          "text": [
            "Epoch 1/5, cross_entropy - Train Loss: 1.4489, Val Loss: 0.8555, Val Accuracy: 0.7240\n",
            "Epoch 2/5, cross_entropy - Train Loss: 0.6775, Val Loss: 0.6048, Val Accuracy: 0.7863\n",
            "Epoch 3/5, cross_entropy - Train Loss: 0.5256, Val Loss: 0.5100, Val Accuracy: 0.8277\n",
            "Epoch 4/5, cross_entropy - Train Loss: 0.4627, Val Loss: 0.4631, Val Accuracy: 0.8472\n",
            "Epoch 5/5, cross_entropy - Train Loss: 0.4226, Val Loss: 0.4321, Val Accuracy: 0.8543\n"
          ]
        },
        {
          "output_type": "display_data",
          "data": {
            "text/plain": [
              "<IPython.core.display.HTML object>"
            ],
            "text/html": []
          },
          "metadata": {}
        },
        {
          "output_type": "display_data",
          "data": {
            "text/plain": [
              "<IPython.core.display.HTML object>"
            ],
            "text/html": [
              "<br>    <style><br>        .wandb-row {<br>            display: flex;<br>            flex-direction: row;<br>            flex-wrap: wrap;<br>            justify-content: flex-start;<br>            width: 100%;<br>        }<br>        .wandb-col {<br>            display: flex;<br>            flex-direction: column;<br>            flex-basis: 100%;<br>            flex: 1;<br>            padding: 10px;<br>        }<br>    </style><br><div class=\"wandb-row\"><div class=\"wandb-col\"><h3>Run history:</h3><br/><table class=\"wandb\"><tr><td>epoch</td><td>▁▃▅▆█</td></tr><tr><td>train_loss</td><td>█▃▂▁▁</td></tr><tr><td>val_accuracy</td><td>▁▄▇██</td></tr><tr><td>val_loss</td><td>█▄▂▂▁</td></tr></table><br/></div><div class=\"wandb-col\"><h3>Run summary:</h3><br/><table class=\"wandb\"><tr><td>epoch</td><td>5</td></tr><tr><td>loss_type</td><td>cross_entropy</td></tr><tr><td>train_loss</td><td>0.42259</td></tr><tr><td>val_accuracy</td><td>0.85433</td></tr><tr><td>val_loss</td><td>0.43215</td></tr></table><br/></div></div>"
            ]
          },
          "metadata": {}
        },
        {
          "output_type": "display_data",
          "data": {
            "text/plain": [
              "<IPython.core.display.HTML object>"
            ],
            "text/html": [
              " View run <strong style=\"color:#cdcd00\">graceful-sweep-20</strong> at: <a href='https://wandb.ai/ma23m021-iit-madras/MA23M021_A1_Q8_CROSS/runs/28vkjw4n' target=\"_blank\">https://wandb.ai/ma23m021-iit-madras/MA23M021_A1_Q8_CROSS/runs/28vkjw4n</a><br> View project at: <a href='https://wandb.ai/ma23m021-iit-madras/MA23M021_A1_Q8_CROSS' target=\"_blank\">https://wandb.ai/ma23m021-iit-madras/MA23M021_A1_Q8_CROSS</a><br>Synced 5 W&B file(s), 0 media file(s), 0 artifact file(s) and 0 other file(s)"
            ]
          },
          "metadata": {}
        },
        {
          "output_type": "display_data",
          "data": {
            "text/plain": [
              "<IPython.core.display.HTML object>"
            ],
            "text/html": [
              "Find logs at: <code>./wandb/run-20250309_134216-28vkjw4n/logs</code>"
            ]
          },
          "metadata": {}
        },
        {
          "output_type": "stream",
          "name": "stderr",
          "text": [
            "\u001b[34m\u001b[1mwandb\u001b[0m: Agent Starting Run: emk2kbpn with config:\n",
            "\u001b[34m\u001b[1mwandb\u001b[0m: \tactivation_function: tanh\n",
            "\u001b[34m\u001b[1mwandb\u001b[0m: \tbatch_size: 16\n",
            "\u001b[34m\u001b[1mwandb\u001b[0m: \tepochs: 5\n",
            "\u001b[34m\u001b[1mwandb\u001b[0m: \thidden_layer_size: 64\n",
            "\u001b[34m\u001b[1mwandb\u001b[0m: \tlearningg_rate_: 0.001\n",
            "\u001b[34m\u001b[1mwandb\u001b[0m: \tloss_type: cross_entropy\n",
            "\u001b[34m\u001b[1mwandb\u001b[0m: \tnum_hidden_layers: 3\n",
            "\u001b[34m\u001b[1mwandb\u001b[0m: \toptimizer: nadam\n",
            "\u001b[34m\u001b[1mwandb\u001b[0m: \tweight_initialization: random\n"
          ]
        },
        {
          "output_type": "display_data",
          "data": {
            "text/plain": [
              "<IPython.core.display.HTML object>"
            ],
            "text/html": [
              "Ignoring project 'MA23M021_A1_Q8_CROSS' when running a sweep."
            ]
          },
          "metadata": {}
        },
        {
          "output_type": "display_data",
          "data": {
            "text/plain": [
              "<IPython.core.display.HTML object>"
            ],
            "text/html": [
              "Tracking run with wandb version 0.19.7"
            ]
          },
          "metadata": {}
        },
        {
          "output_type": "display_data",
          "data": {
            "text/plain": [
              "<IPython.core.display.HTML object>"
            ],
            "text/html": [
              "Run data is saved locally in <code>/content/wandb/run-20250309_134236-emk2kbpn</code>"
            ]
          },
          "metadata": {}
        },
        {
          "output_type": "display_data",
          "data": {
            "text/plain": [
              "<IPython.core.display.HTML object>"
            ],
            "text/html": [
              "Syncing run <strong><a href='https://wandb.ai/ma23m021-iit-madras/MA23M021_A1_Q8_CROSS/runs/emk2kbpn' target=\"_blank\">solar-sweep-21</a></strong> to <a href='https://wandb.ai/ma23m021-iit-madras/MA23M021_A1_Q8_CROSS' target=\"_blank\">Weights & Biases</a> (<a href='https://wandb.me/developer-guide' target=\"_blank\">docs</a>)<br>Sweep page: <a href='https://wandb.ai/ma23m021-iit-madras/MA23M021_A1_Q8_CROSS/sweeps/64kuh29x' target=\"_blank\">https://wandb.ai/ma23m021-iit-madras/MA23M021_A1_Q8_CROSS/sweeps/64kuh29x</a>"
            ]
          },
          "metadata": {}
        },
        {
          "output_type": "display_data",
          "data": {
            "text/plain": [
              "<IPython.core.display.HTML object>"
            ],
            "text/html": [
              " View project at <a href='https://wandb.ai/ma23m021-iit-madras/MA23M021_A1_Q8_CROSS' target=\"_blank\">https://wandb.ai/ma23m021-iit-madras/MA23M021_A1_Q8_CROSS</a>"
            ]
          },
          "metadata": {}
        },
        {
          "output_type": "display_data",
          "data": {
            "text/plain": [
              "<IPython.core.display.HTML object>"
            ],
            "text/html": [
              " View sweep at <a href='https://wandb.ai/ma23m021-iit-madras/MA23M021_A1_Q8_CROSS/sweeps/64kuh29x' target=\"_blank\">https://wandb.ai/ma23m021-iit-madras/MA23M021_A1_Q8_CROSS/sweeps/64kuh29x</a>"
            ]
          },
          "metadata": {}
        },
        {
          "output_type": "display_data",
          "data": {
            "text/plain": [
              "<IPython.core.display.HTML object>"
            ],
            "text/html": [
              " View run at <a href='https://wandb.ai/ma23m021-iit-madras/MA23M021_A1_Q8_CROSS/runs/emk2kbpn' target=\"_blank\">https://wandb.ai/ma23m021-iit-madras/MA23M021_A1_Q8_CROSS/runs/emk2kbpn</a>"
            ]
          },
          "metadata": {}
        },
        {
          "output_type": "stream",
          "name": "stdout",
          "text": [
            "Epoch 1/5, cross_entropy - Train Loss: 1.3274, Val Loss: 0.9323, Val Accuracy: 0.5827\n",
            "Epoch 2/5, cross_entropy - Train Loss: 0.7842, Val Loss: 0.6850, Val Accuracy: 0.7442\n",
            "Epoch 3/5, cross_entropy - Train Loss: 0.5500, Val Loss: 0.4862, Val Accuracy: 0.8333\n",
            "Epoch 4/5, cross_entropy - Train Loss: 0.4477, Val Loss: 0.4483, Val Accuracy: 0.8451\n",
            "Epoch 5/5, cross_entropy - Train Loss: 0.4092, Val Loss: 0.4105, Val Accuracy: 0.8543\n"
          ]
        },
        {
          "output_type": "display_data",
          "data": {
            "text/plain": [
              "<IPython.core.display.HTML object>"
            ],
            "text/html": []
          },
          "metadata": {}
        },
        {
          "output_type": "display_data",
          "data": {
            "text/plain": [
              "<IPython.core.display.HTML object>"
            ],
            "text/html": [
              "<br>    <style><br>        .wandb-row {<br>            display: flex;<br>            flex-direction: row;<br>            flex-wrap: wrap;<br>            justify-content: flex-start;<br>            width: 100%;<br>        }<br>        .wandb-col {<br>            display: flex;<br>            flex-direction: column;<br>            flex-basis: 100%;<br>            flex: 1;<br>            padding: 10px;<br>        }<br>    </style><br><div class=\"wandb-row\"><div class=\"wandb-col\"><h3>Run history:</h3><br/><table class=\"wandb\"><tr><td>epoch</td><td>▁▃▅▆█</td></tr><tr><td>train_loss</td><td>█▄▂▁▁</td></tr><tr><td>val_accuracy</td><td>▁▅▇██</td></tr><tr><td>val_loss</td><td>█▅▂▂▁</td></tr></table><br/></div><div class=\"wandb-col\"><h3>Run summary:</h3><br/><table class=\"wandb\"><tr><td>epoch</td><td>5</td></tr><tr><td>loss_type</td><td>cross_entropy</td></tr><tr><td>train_loss</td><td>0.40917</td></tr><tr><td>val_accuracy</td><td>0.85433</td></tr><tr><td>val_loss</td><td>0.41049</td></tr></table><br/></div></div>"
            ]
          },
          "metadata": {}
        },
        {
          "output_type": "display_data",
          "data": {
            "text/plain": [
              "<IPython.core.display.HTML object>"
            ],
            "text/html": [
              " View run <strong style=\"color:#cdcd00\">solar-sweep-21</strong> at: <a href='https://wandb.ai/ma23m021-iit-madras/MA23M021_A1_Q8_CROSS/runs/emk2kbpn' target=\"_blank\">https://wandb.ai/ma23m021-iit-madras/MA23M021_A1_Q8_CROSS/runs/emk2kbpn</a><br> View project at: <a href='https://wandb.ai/ma23m021-iit-madras/MA23M021_A1_Q8_CROSS' target=\"_blank\">https://wandb.ai/ma23m021-iit-madras/MA23M021_A1_Q8_CROSS</a><br>Synced 5 W&B file(s), 0 media file(s), 0 artifact file(s) and 0 other file(s)"
            ]
          },
          "metadata": {}
        },
        {
          "output_type": "display_data",
          "data": {
            "text/plain": [
              "<IPython.core.display.HTML object>"
            ],
            "text/html": [
              "Find logs at: <code>./wandb/run-20250309_134236-emk2kbpn/logs</code>"
            ]
          },
          "metadata": {}
        },
        {
          "output_type": "stream",
          "name": "stderr",
          "text": [
            "\u001b[34m\u001b[1mwandb\u001b[0m: Agent Starting Run: 7f8um00r with config:\n",
            "\u001b[34m\u001b[1mwandb\u001b[0m: \tactivation_function: tanh\n",
            "\u001b[34m\u001b[1mwandb\u001b[0m: \tbatch_size: 16\n",
            "\u001b[34m\u001b[1mwandb\u001b[0m: \tepochs: 10\n",
            "\u001b[34m\u001b[1mwandb\u001b[0m: \thidden_layer_size: 128\n",
            "\u001b[34m\u001b[1mwandb\u001b[0m: \tlearningg_rate_: 0.0001\n",
            "\u001b[34m\u001b[1mwandb\u001b[0m: \tloss_type: cross_entropy\n",
            "\u001b[34m\u001b[1mwandb\u001b[0m: \tnum_hidden_layers: 4\n",
            "\u001b[34m\u001b[1mwandb\u001b[0m: \toptimizer: nadam\n",
            "\u001b[34m\u001b[1mwandb\u001b[0m: \tweight_initialization: xavier\n"
          ]
        },
        {
          "output_type": "display_data",
          "data": {
            "text/plain": [
              "<IPython.core.display.HTML object>"
            ],
            "text/html": [
              "Ignoring project 'MA23M021_A1_Q8_CROSS' when running a sweep."
            ]
          },
          "metadata": {}
        },
        {
          "output_type": "display_data",
          "data": {
            "text/plain": [
              "<IPython.core.display.HTML object>"
            ],
            "text/html": [
              "Tracking run with wandb version 0.19.7"
            ]
          },
          "metadata": {}
        },
        {
          "output_type": "display_data",
          "data": {
            "text/plain": [
              "<IPython.core.display.HTML object>"
            ],
            "text/html": [
              "Run data is saved locally in <code>/content/wandb/run-20250309_134333-7f8um00r</code>"
            ]
          },
          "metadata": {}
        },
        {
          "output_type": "display_data",
          "data": {
            "text/plain": [
              "<IPython.core.display.HTML object>"
            ],
            "text/html": [
              "Syncing run <strong><a href='https://wandb.ai/ma23m021-iit-madras/MA23M021_A1_Q8_CROSS/runs/7f8um00r' target=\"_blank\">avid-sweep-22</a></strong> to <a href='https://wandb.ai/ma23m021-iit-madras/MA23M021_A1_Q8_CROSS' target=\"_blank\">Weights & Biases</a> (<a href='https://wandb.me/developer-guide' target=\"_blank\">docs</a>)<br>Sweep page: <a href='https://wandb.ai/ma23m021-iit-madras/MA23M021_A1_Q8_CROSS/sweeps/64kuh29x' target=\"_blank\">https://wandb.ai/ma23m021-iit-madras/MA23M021_A1_Q8_CROSS/sweeps/64kuh29x</a>"
            ]
          },
          "metadata": {}
        },
        {
          "output_type": "display_data",
          "data": {
            "text/plain": [
              "<IPython.core.display.HTML object>"
            ],
            "text/html": [
              " View project at <a href='https://wandb.ai/ma23m021-iit-madras/MA23M021_A1_Q8_CROSS' target=\"_blank\">https://wandb.ai/ma23m021-iit-madras/MA23M021_A1_Q8_CROSS</a>"
            ]
          },
          "metadata": {}
        },
        {
          "output_type": "display_data",
          "data": {
            "text/plain": [
              "<IPython.core.display.HTML object>"
            ],
            "text/html": [
              " View sweep at <a href='https://wandb.ai/ma23m021-iit-madras/MA23M021_A1_Q8_CROSS/sweeps/64kuh29x' target=\"_blank\">https://wandb.ai/ma23m021-iit-madras/MA23M021_A1_Q8_CROSS/sweeps/64kuh29x</a>"
            ]
          },
          "metadata": {}
        },
        {
          "output_type": "display_data",
          "data": {
            "text/plain": [
              "<IPython.core.display.HTML object>"
            ],
            "text/html": [
              " View run at <a href='https://wandb.ai/ma23m021-iit-madras/MA23M021_A1_Q8_CROSS/runs/7f8um00r' target=\"_blank\">https://wandb.ai/ma23m021-iit-madras/MA23M021_A1_Q8_CROSS/runs/7f8um00r</a>"
            ]
          },
          "metadata": {}
        },
        {
          "output_type": "stream",
          "name": "stdout",
          "text": [
            "Epoch 1/10, cross_entropy - Train Loss: 1.5156, Val Loss: 0.9607, Val Accuracy: 0.7113\n",
            "Epoch 2/10, cross_entropy - Train Loss: 0.7542, Val Loss: 0.6460, Val Accuracy: 0.7692\n",
            "Epoch 3/10, cross_entropy - Train Loss: 0.5837, Val Loss: 0.5516, Val Accuracy: 0.7936\n",
            "Epoch 4/10, cross_entropy - Train Loss: 0.5153, Val Loss: 0.4954, Val Accuracy: 0.8282\n",
            "Epoch 5/10, cross_entropy - Train Loss: 0.4720, Val Loss: 0.4595, Val Accuracy: 0.8383\n",
            "Epoch 6/10, cross_entropy - Train Loss: 0.4420, Val Loss: 0.4371, Val Accuracy: 0.8447\n",
            "Epoch 7/10, cross_entropy - Train Loss: 0.4203, Val Loss: 0.4233, Val Accuracy: 0.8515\n",
            "Epoch 8/10, cross_entropy - Train Loss: 0.4030, Val Loss: 0.4063, Val Accuracy: 0.8560\n",
            "Epoch 9/10, cross_entropy - Train Loss: 0.3895, Val Loss: 0.4038, Val Accuracy: 0.8569\n",
            "Epoch 10/10, cross_entropy - Train Loss: 0.3783, Val Loss: 0.3849, Val Accuracy: 0.8628\n"
          ]
        },
        {
          "output_type": "display_data",
          "data": {
            "text/plain": [
              "<IPython.core.display.HTML object>"
            ],
            "text/html": []
          },
          "metadata": {}
        },
        {
          "output_type": "display_data",
          "data": {
            "text/plain": [
              "<IPython.core.display.HTML object>"
            ],
            "text/html": [
              "<br>    <style><br>        .wandb-row {<br>            display: flex;<br>            flex-direction: row;<br>            flex-wrap: wrap;<br>            justify-content: flex-start;<br>            width: 100%;<br>        }<br>        .wandb-col {<br>            display: flex;<br>            flex-direction: column;<br>            flex-basis: 100%;<br>            flex: 1;<br>            padding: 10px;<br>        }<br>    </style><br><div class=\"wandb-row\"><div class=\"wandb-col\"><h3>Run history:</h3><br/><table class=\"wandb\"><tr><td>epoch</td><td>▁▂▃▃▄▅▆▆▇█</td></tr><tr><td>train_loss</td><td>█▃▂▂▂▁▁▁▁▁</td></tr><tr><td>val_accuracy</td><td>▁▄▅▆▇▇▇███</td></tr><tr><td>val_loss</td><td>█▄▃▂▂▂▁▁▁▁</td></tr></table><br/></div><div class=\"wandb-col\"><h3>Run summary:</h3><br/><table class=\"wandb\"><tr><td>epoch</td><td>10</td></tr><tr><td>loss_type</td><td>cross_entropy</td></tr><tr><td>train_loss</td><td>0.37834</td></tr><tr><td>val_accuracy</td><td>0.86275</td></tr><tr><td>val_loss</td><td>0.38487</td></tr></table><br/></div></div>"
            ]
          },
          "metadata": {}
        },
        {
          "output_type": "display_data",
          "data": {
            "text/plain": [
              "<IPython.core.display.HTML object>"
            ],
            "text/html": [
              " View run <strong style=\"color:#cdcd00\">avid-sweep-22</strong> at: <a href='https://wandb.ai/ma23m021-iit-madras/MA23M021_A1_Q8_CROSS/runs/7f8um00r' target=\"_blank\">https://wandb.ai/ma23m021-iit-madras/MA23M021_A1_Q8_CROSS/runs/7f8um00r</a><br> View project at: <a href='https://wandb.ai/ma23m021-iit-madras/MA23M021_A1_Q8_CROSS' target=\"_blank\">https://wandb.ai/ma23m021-iit-madras/MA23M021_A1_Q8_CROSS</a><br>Synced 5 W&B file(s), 0 media file(s), 0 artifact file(s) and 0 other file(s)"
            ]
          },
          "metadata": {}
        },
        {
          "output_type": "display_data",
          "data": {
            "text/plain": [
              "<IPython.core.display.HTML object>"
            ],
            "text/html": [
              "Find logs at: <code>./wandb/run-20250309_134333-7f8um00r/logs</code>"
            ]
          },
          "metadata": {}
        },
        {
          "output_type": "stream",
          "name": "stderr",
          "text": [
            "\u001b[34m\u001b[1mwandb\u001b[0m: Agent Starting Run: m5zxlvoy with config:\n",
            "\u001b[34m\u001b[1mwandb\u001b[0m: \tactivation_function: tanh\n",
            "\u001b[34m\u001b[1mwandb\u001b[0m: \tbatch_size: 64\n",
            "\u001b[34m\u001b[1mwandb\u001b[0m: \tepochs: 5\n",
            "\u001b[34m\u001b[1mwandb\u001b[0m: \thidden_layer_size: 32\n",
            "\u001b[34m\u001b[1mwandb\u001b[0m: \tlearningg_rate_: 0.001\n",
            "\u001b[34m\u001b[1mwandb\u001b[0m: \tloss_type: cross_entropy\n",
            "\u001b[34m\u001b[1mwandb\u001b[0m: \tnum_hidden_layers: 3\n",
            "\u001b[34m\u001b[1mwandb\u001b[0m: \toptimizer: nadam\n",
            "\u001b[34m\u001b[1mwandb\u001b[0m: \tweight_initialization: random\n"
          ]
        },
        {
          "output_type": "display_data",
          "data": {
            "text/plain": [
              "<IPython.core.display.HTML object>"
            ],
            "text/html": [
              "Ignoring project 'MA23M021_A1_Q8_CROSS' when running a sweep."
            ]
          },
          "metadata": {}
        },
        {
          "output_type": "display_data",
          "data": {
            "text/plain": [
              "<IPython.core.display.HTML object>"
            ],
            "text/html": [
              "Tracking run with wandb version 0.19.7"
            ]
          },
          "metadata": {}
        },
        {
          "output_type": "display_data",
          "data": {
            "text/plain": [
              "<IPython.core.display.HTML object>"
            ],
            "text/html": [
              "Run data is saved locally in <code>/content/wandb/run-20250309_134726-m5zxlvoy</code>"
            ]
          },
          "metadata": {}
        },
        {
          "output_type": "display_data",
          "data": {
            "text/plain": [
              "<IPython.core.display.HTML object>"
            ],
            "text/html": [
              "Syncing run <strong><a href='https://wandb.ai/ma23m021-iit-madras/MA23M021_A1_Q8_CROSS/runs/m5zxlvoy' target=\"_blank\">good-sweep-23</a></strong> to <a href='https://wandb.ai/ma23m021-iit-madras/MA23M021_A1_Q8_CROSS' target=\"_blank\">Weights & Biases</a> (<a href='https://wandb.me/developer-guide' target=\"_blank\">docs</a>)<br>Sweep page: <a href='https://wandb.ai/ma23m021-iit-madras/MA23M021_A1_Q8_CROSS/sweeps/64kuh29x' target=\"_blank\">https://wandb.ai/ma23m021-iit-madras/MA23M021_A1_Q8_CROSS/sweeps/64kuh29x</a>"
            ]
          },
          "metadata": {}
        },
        {
          "output_type": "display_data",
          "data": {
            "text/plain": [
              "<IPython.core.display.HTML object>"
            ],
            "text/html": [
              " View project at <a href='https://wandb.ai/ma23m021-iit-madras/MA23M021_A1_Q8_CROSS' target=\"_blank\">https://wandb.ai/ma23m021-iit-madras/MA23M021_A1_Q8_CROSS</a>"
            ]
          },
          "metadata": {}
        },
        {
          "output_type": "display_data",
          "data": {
            "text/plain": [
              "<IPython.core.display.HTML object>"
            ],
            "text/html": [
              " View sweep at <a href='https://wandb.ai/ma23m021-iit-madras/MA23M021_A1_Q8_CROSS/sweeps/64kuh29x' target=\"_blank\">https://wandb.ai/ma23m021-iit-madras/MA23M021_A1_Q8_CROSS/sweeps/64kuh29x</a>"
            ]
          },
          "metadata": {}
        },
        {
          "output_type": "display_data",
          "data": {
            "text/plain": [
              "<IPython.core.display.HTML object>"
            ],
            "text/html": [
              " View run at <a href='https://wandb.ai/ma23m021-iit-madras/MA23M021_A1_Q8_CROSS/runs/m5zxlvoy' target=\"_blank\">https://wandb.ai/ma23m021-iit-madras/MA23M021_A1_Q8_CROSS/runs/m5zxlvoy</a>"
            ]
          },
          "metadata": {}
        },
        {
          "output_type": "stream",
          "name": "stdout",
          "text": [
            "Epoch 1/5, cross_entropy - Train Loss: 1.7907, Val Loss: 1.5402, Val Accuracy: 0.2910\n",
            "Epoch 2/5, cross_entropy - Train Loss: 1.4856, Val Loss: 1.4561, Val Accuracy: 0.3402\n",
            "Epoch 3/5, cross_entropy - Train Loss: 1.2858, Val Loss: 1.0977, Val Accuracy: 0.5165\n",
            "Epoch 4/5, cross_entropy - Train Loss: 1.0033, Val Loss: 0.9431, Val Accuracy: 0.6056\n",
            "Epoch 5/5, cross_entropy - Train Loss: 0.8897, Val Loss: 0.8567, Val Accuracy: 0.6612\n"
          ]
        },
        {
          "output_type": "display_data",
          "data": {
            "text/plain": [
              "<IPython.core.display.HTML object>"
            ],
            "text/html": []
          },
          "metadata": {}
        },
        {
          "output_type": "display_data",
          "data": {
            "text/plain": [
              "<IPython.core.display.HTML object>"
            ],
            "text/html": [
              "<br>    <style><br>        .wandb-row {<br>            display: flex;<br>            flex-direction: row;<br>            flex-wrap: wrap;<br>            justify-content: flex-start;<br>            width: 100%;<br>        }<br>        .wandb-col {<br>            display: flex;<br>            flex-direction: column;<br>            flex-basis: 100%;<br>            flex: 1;<br>            padding: 10px;<br>        }<br>    </style><br><div class=\"wandb-row\"><div class=\"wandb-col\"><h3>Run history:</h3><br/><table class=\"wandb\"><tr><td>epoch</td><td>▁▃▅▆█</td></tr><tr><td>train_loss</td><td>█▆▄▂▁</td></tr><tr><td>val_accuracy</td><td>▁▂▅▇█</td></tr><tr><td>val_loss</td><td>█▇▃▂▁</td></tr></table><br/></div><div class=\"wandb-col\"><h3>Run summary:</h3><br/><table class=\"wandb\"><tr><td>epoch</td><td>5</td></tr><tr><td>loss_type</td><td>cross_entropy</td></tr><tr><td>train_loss</td><td>0.88974</td></tr><tr><td>val_accuracy</td><td>0.66117</td></tr><tr><td>val_loss</td><td>0.85668</td></tr></table><br/></div></div>"
            ]
          },
          "metadata": {}
        },
        {
          "output_type": "display_data",
          "data": {
            "text/plain": [
              "<IPython.core.display.HTML object>"
            ],
            "text/html": [
              " View run <strong style=\"color:#cdcd00\">good-sweep-23</strong> at: <a href='https://wandb.ai/ma23m021-iit-madras/MA23M021_A1_Q8_CROSS/runs/m5zxlvoy' target=\"_blank\">https://wandb.ai/ma23m021-iit-madras/MA23M021_A1_Q8_CROSS/runs/m5zxlvoy</a><br> View project at: <a href='https://wandb.ai/ma23m021-iit-madras/MA23M021_A1_Q8_CROSS' target=\"_blank\">https://wandb.ai/ma23m021-iit-madras/MA23M021_A1_Q8_CROSS</a><br>Synced 5 W&B file(s), 0 media file(s), 0 artifact file(s) and 0 other file(s)"
            ]
          },
          "metadata": {}
        },
        {
          "output_type": "display_data",
          "data": {
            "text/plain": [
              "<IPython.core.display.HTML object>"
            ],
            "text/html": [
              "Find logs at: <code>./wandb/run-20250309_134726-m5zxlvoy/logs</code>"
            ]
          },
          "metadata": {}
        },
        {
          "output_type": "stream",
          "name": "stderr",
          "text": [
            "\u001b[34m\u001b[1mwandb\u001b[0m: Agent Starting Run: e920hsij with config:\n",
            "\u001b[34m\u001b[1mwandb\u001b[0m: \tactivation_function: tanh\n",
            "\u001b[34m\u001b[1mwandb\u001b[0m: \tbatch_size: 64\n",
            "\u001b[34m\u001b[1mwandb\u001b[0m: \tepochs: 5\n",
            "\u001b[34m\u001b[1mwandb\u001b[0m: \thidden_layer_size: 64\n",
            "\u001b[34m\u001b[1mwandb\u001b[0m: \tlearningg_rate_: 0.001\n",
            "\u001b[34m\u001b[1mwandb\u001b[0m: \tloss_type: cross_entropy\n",
            "\u001b[34m\u001b[1mwandb\u001b[0m: \tnum_hidden_layers: 4\n",
            "\u001b[34m\u001b[1mwandb\u001b[0m: \toptimizer: nadam\n",
            "\u001b[34m\u001b[1mwandb\u001b[0m: \tweight_initialization: xavier\n"
          ]
        },
        {
          "output_type": "display_data",
          "data": {
            "text/plain": [
              "<IPython.core.display.HTML object>"
            ],
            "text/html": [
              "Ignoring project 'MA23M021_A1_Q8_CROSS' when running a sweep."
            ]
          },
          "metadata": {}
        },
        {
          "output_type": "display_data",
          "data": {
            "text/plain": [
              "<IPython.core.display.HTML object>"
            ],
            "text/html": [
              "Tracking run with wandb version 0.19.7"
            ]
          },
          "metadata": {}
        },
        {
          "output_type": "display_data",
          "data": {
            "text/plain": [
              "<IPython.core.display.HTML object>"
            ],
            "text/html": [
              "Run data is saved locally in <code>/content/wandb/run-20250309_134746-e920hsij</code>"
            ]
          },
          "metadata": {}
        },
        {
          "output_type": "display_data",
          "data": {
            "text/plain": [
              "<IPython.core.display.HTML object>"
            ],
            "text/html": [
              "Syncing run <strong><a href='https://wandb.ai/ma23m021-iit-madras/MA23M021_A1_Q8_CROSS/runs/e920hsij' target=\"_blank\">graceful-sweep-24</a></strong> to <a href='https://wandb.ai/ma23m021-iit-madras/MA23M021_A1_Q8_CROSS' target=\"_blank\">Weights & Biases</a> (<a href='https://wandb.me/developer-guide' target=\"_blank\">docs</a>)<br>Sweep page: <a href='https://wandb.ai/ma23m021-iit-madras/MA23M021_A1_Q8_CROSS/sweeps/64kuh29x' target=\"_blank\">https://wandb.ai/ma23m021-iit-madras/MA23M021_A1_Q8_CROSS/sweeps/64kuh29x</a>"
            ]
          },
          "metadata": {}
        },
        {
          "output_type": "display_data",
          "data": {
            "text/plain": [
              "<IPython.core.display.HTML object>"
            ],
            "text/html": [
              " View project at <a href='https://wandb.ai/ma23m021-iit-madras/MA23M021_A1_Q8_CROSS' target=\"_blank\">https://wandb.ai/ma23m021-iit-madras/MA23M021_A1_Q8_CROSS</a>"
            ]
          },
          "metadata": {}
        },
        {
          "output_type": "display_data",
          "data": {
            "text/plain": [
              "<IPython.core.display.HTML object>"
            ],
            "text/html": [
              " View sweep at <a href='https://wandb.ai/ma23m021-iit-madras/MA23M021_A1_Q8_CROSS/sweeps/64kuh29x' target=\"_blank\">https://wandb.ai/ma23m021-iit-madras/MA23M021_A1_Q8_CROSS/sweeps/64kuh29x</a>"
            ]
          },
          "metadata": {}
        },
        {
          "output_type": "display_data",
          "data": {
            "text/plain": [
              "<IPython.core.display.HTML object>"
            ],
            "text/html": [
              " View run at <a href='https://wandb.ai/ma23m021-iit-madras/MA23M021_A1_Q8_CROSS/runs/e920hsij' target=\"_blank\">https://wandb.ai/ma23m021-iit-madras/MA23M021_A1_Q8_CROSS/runs/e920hsij</a>"
            ]
          },
          "metadata": {}
        },
        {
          "output_type": "stream",
          "name": "stdout",
          "text": [
            "Epoch 1/5, cross_entropy - Train Loss: 1.1024, Val Loss: 0.5949, Val Accuracy: 0.7916\n",
            "Epoch 2/5, cross_entropy - Train Loss: 0.5035, Val Loss: 0.4464, Val Accuracy: 0.8446\n",
            "Epoch 3/5, cross_entropy - Train Loss: 0.4188, Val Loss: 0.4116, Val Accuracy: 0.8555\n",
            "Epoch 4/5, cross_entropy - Train Loss: 0.3811, Val Loss: 0.4037, Val Accuracy: 0.8581\n",
            "Epoch 5/5, cross_entropy - Train Loss: 0.3578, Val Loss: 0.3675, Val Accuracy: 0.8698\n"
          ]
        },
        {
          "output_type": "display_data",
          "data": {
            "text/plain": [
              "<IPython.core.display.HTML object>"
            ],
            "text/html": []
          },
          "metadata": {}
        },
        {
          "output_type": "display_data",
          "data": {
            "text/plain": [
              "<IPython.core.display.HTML object>"
            ],
            "text/html": [
              "<br>    <style><br>        .wandb-row {<br>            display: flex;<br>            flex-direction: row;<br>            flex-wrap: wrap;<br>            justify-content: flex-start;<br>            width: 100%;<br>        }<br>        .wandb-col {<br>            display: flex;<br>            flex-direction: column;<br>            flex-basis: 100%;<br>            flex: 1;<br>            padding: 10px;<br>        }<br>    </style><br><div class=\"wandb-row\"><div class=\"wandb-col\"><h3>Run history:</h3><br/><table class=\"wandb\"><tr><td>epoch</td><td>▁▃▅▆█</td></tr><tr><td>train_loss</td><td>█▂▂▁▁</td></tr><tr><td>val_accuracy</td><td>▁▆▇▇█</td></tr><tr><td>val_loss</td><td>█▃▂▂▁</td></tr></table><br/></div><div class=\"wandb-col\"><h3>Run summary:</h3><br/><table class=\"wandb\"><tr><td>epoch</td><td>5</td></tr><tr><td>loss_type</td><td>cross_entropy</td></tr><tr><td>train_loss</td><td>0.35781</td></tr><tr><td>val_accuracy</td><td>0.86975</td></tr><tr><td>val_loss</td><td>0.36751</td></tr></table><br/></div></div>"
            ]
          },
          "metadata": {}
        },
        {
          "output_type": "display_data",
          "data": {
            "text/plain": [
              "<IPython.core.display.HTML object>"
            ],
            "text/html": [
              " View run <strong style=\"color:#cdcd00\">graceful-sweep-24</strong> at: <a href='https://wandb.ai/ma23m021-iit-madras/MA23M021_A1_Q8_CROSS/runs/e920hsij' target=\"_blank\">https://wandb.ai/ma23m021-iit-madras/MA23M021_A1_Q8_CROSS/runs/e920hsij</a><br> View project at: <a href='https://wandb.ai/ma23m021-iit-madras/MA23M021_A1_Q8_CROSS' target=\"_blank\">https://wandb.ai/ma23m021-iit-madras/MA23M021_A1_Q8_CROSS</a><br>Synced 5 W&B file(s), 0 media file(s), 0 artifact file(s) and 0 other file(s)"
            ]
          },
          "metadata": {}
        },
        {
          "output_type": "display_data",
          "data": {
            "text/plain": [
              "<IPython.core.display.HTML object>"
            ],
            "text/html": [
              "Find logs at: <code>./wandb/run-20250309_134746-e920hsij/logs</code>"
            ]
          },
          "metadata": {}
        },
        {
          "output_type": "stream",
          "name": "stderr",
          "text": [
            "\u001b[34m\u001b[1mwandb\u001b[0m: Agent Starting Run: pumlvom4 with config:\n",
            "\u001b[34m\u001b[1mwandb\u001b[0m: \tactivation_function: tanh\n",
            "\u001b[34m\u001b[1mwandb\u001b[0m: \tbatch_size: 16\n",
            "\u001b[34m\u001b[1mwandb\u001b[0m: \tepochs: 10\n",
            "\u001b[34m\u001b[1mwandb\u001b[0m: \thidden_layer_size: 64\n",
            "\u001b[34m\u001b[1mwandb\u001b[0m: \tlearningg_rate_: 0.001\n",
            "\u001b[34m\u001b[1mwandb\u001b[0m: \tloss_type: cross_entropy\n",
            "\u001b[34m\u001b[1mwandb\u001b[0m: \tnum_hidden_layers: 3\n",
            "\u001b[34m\u001b[1mwandb\u001b[0m: \toptimizer: nadam\n",
            "\u001b[34m\u001b[1mwandb\u001b[0m: \tweight_initialization: xavier\n"
          ]
        },
        {
          "output_type": "display_data",
          "data": {
            "text/plain": [
              "<IPython.core.display.HTML object>"
            ],
            "text/html": [
              "Ignoring project 'MA23M021_A1_Q8_CROSS' when running a sweep."
            ]
          },
          "metadata": {}
        },
        {
          "output_type": "display_data",
          "data": {
            "text/plain": [
              "<IPython.core.display.HTML object>"
            ],
            "text/html": [
              "Tracking run with wandb version 0.19.7"
            ]
          },
          "metadata": {}
        },
        {
          "output_type": "display_data",
          "data": {
            "text/plain": [
              "<IPython.core.display.HTML object>"
            ],
            "text/html": [
              "Run data is saved locally in <code>/content/wandb/run-20250309_134818-pumlvom4</code>"
            ]
          },
          "metadata": {}
        },
        {
          "output_type": "display_data",
          "data": {
            "text/plain": [
              "<IPython.core.display.HTML object>"
            ],
            "text/html": [
              "Syncing run <strong><a href='https://wandb.ai/ma23m021-iit-madras/MA23M021_A1_Q8_CROSS/runs/pumlvom4' target=\"_blank\">lyric-sweep-25</a></strong> to <a href='https://wandb.ai/ma23m021-iit-madras/MA23M021_A1_Q8_CROSS' target=\"_blank\">Weights & Biases</a> (<a href='https://wandb.me/developer-guide' target=\"_blank\">docs</a>)<br>Sweep page: <a href='https://wandb.ai/ma23m021-iit-madras/MA23M021_A1_Q8_CROSS/sweeps/64kuh29x' target=\"_blank\">https://wandb.ai/ma23m021-iit-madras/MA23M021_A1_Q8_CROSS/sweeps/64kuh29x</a>"
            ]
          },
          "metadata": {}
        },
        {
          "output_type": "display_data",
          "data": {
            "text/plain": [
              "<IPython.core.display.HTML object>"
            ],
            "text/html": [
              " View project at <a href='https://wandb.ai/ma23m021-iit-madras/MA23M021_A1_Q8_CROSS' target=\"_blank\">https://wandb.ai/ma23m021-iit-madras/MA23M021_A1_Q8_CROSS</a>"
            ]
          },
          "metadata": {}
        },
        {
          "output_type": "display_data",
          "data": {
            "text/plain": [
              "<IPython.core.display.HTML object>"
            ],
            "text/html": [
              " View sweep at <a href='https://wandb.ai/ma23m021-iit-madras/MA23M021_A1_Q8_CROSS/sweeps/64kuh29x' target=\"_blank\">https://wandb.ai/ma23m021-iit-madras/MA23M021_A1_Q8_CROSS/sweeps/64kuh29x</a>"
            ]
          },
          "metadata": {}
        },
        {
          "output_type": "display_data",
          "data": {
            "text/plain": [
              "<IPython.core.display.HTML object>"
            ],
            "text/html": [
              " View run at <a href='https://wandb.ai/ma23m021-iit-madras/MA23M021_A1_Q8_CROSS/runs/pumlvom4' target=\"_blank\">https://wandb.ai/ma23m021-iit-madras/MA23M021_A1_Q8_CROSS/runs/pumlvom4</a>"
            ]
          },
          "metadata": {}
        },
        {
          "output_type": "stream",
          "name": "stdout",
          "text": [
            "Epoch 1/10, cross_entropy - Train Loss: 0.7309, Val Loss: 0.4887, Val Accuracy: 0.8208\n",
            "Epoch 2/10, cross_entropy - Train Loss: 0.4164, Val Loss: 0.3940, Val Accuracy: 0.8568\n",
            "Epoch 3/10, cross_entropy - Train Loss: 0.3727, Val Loss: 0.3965, Val Accuracy: 0.8535\n",
            "Epoch 4/10, cross_entropy - Train Loss: 0.3471, Val Loss: 0.3665, Val Accuracy: 0.8648\n",
            "Epoch 5/10, cross_entropy - Train Loss: 0.3309, Val Loss: 0.3449, Val Accuracy: 0.8738\n",
            "Epoch 6/10, cross_entropy - Train Loss: 0.3169, Val Loss: 0.3386, Val Accuracy: 0.8770\n",
            "Epoch 7/10, cross_entropy - Train Loss: 0.3082, Val Loss: 0.3380, Val Accuracy: 0.8770\n",
            "Epoch 8/10, cross_entropy - Train Loss: 0.2989, Val Loss: 0.3462, Val Accuracy: 0.8712\n",
            "Epoch 9/10, cross_entropy - Train Loss: 0.2932, Val Loss: 0.3397, Val Accuracy: 0.8738\n",
            "Epoch 10/10, cross_entropy - Train Loss: 0.2861, Val Loss: 0.3329, Val Accuracy: 0.8798\n"
          ]
        },
        {
          "output_type": "display_data",
          "data": {
            "text/plain": [
              "<IPython.core.display.HTML object>"
            ],
            "text/html": []
          },
          "metadata": {}
        },
        {
          "output_type": "display_data",
          "data": {
            "text/plain": [
              "<IPython.core.display.HTML object>"
            ],
            "text/html": [
              "<br>    <style><br>        .wandb-row {<br>            display: flex;<br>            flex-direction: row;<br>            flex-wrap: wrap;<br>            justify-content: flex-start;<br>            width: 100%;<br>        }<br>        .wandb-col {<br>            display: flex;<br>            flex-direction: column;<br>            flex-basis: 100%;<br>            flex: 1;<br>            padding: 10px;<br>        }<br>    </style><br><div class=\"wandb-row\"><div class=\"wandb-col\"><h3>Run history:</h3><br/><table class=\"wandb\"><tr><td>epoch</td><td>▁▂▃▃▄▅▆▆▇█</td></tr><tr><td>train_loss</td><td>█▃▂▂▂▁▁▁▁▁</td></tr><tr><td>val_accuracy</td><td>▁▅▅▆▇██▇▇█</td></tr><tr><td>val_loss</td><td>█▄▄▃▂▁▁▂▁▁</td></tr></table><br/></div><div class=\"wandb-col\"><h3>Run summary:</h3><br/><table class=\"wandb\"><tr><td>epoch</td><td>10</td></tr><tr><td>loss_type</td><td>cross_entropy</td></tr><tr><td>train_loss</td><td>0.28607</td></tr><tr><td>val_accuracy</td><td>0.87983</td></tr><tr><td>val_loss</td><td>0.33292</td></tr></table><br/></div></div>"
            ]
          },
          "metadata": {}
        },
        {
          "output_type": "display_data",
          "data": {
            "text/plain": [
              "<IPython.core.display.HTML object>"
            ],
            "text/html": [
              " View run <strong style=\"color:#cdcd00\">lyric-sweep-25</strong> at: <a href='https://wandb.ai/ma23m021-iit-madras/MA23M021_A1_Q8_CROSS/runs/pumlvom4' target=\"_blank\">https://wandb.ai/ma23m021-iit-madras/MA23M021_A1_Q8_CROSS/runs/pumlvom4</a><br> View project at: <a href='https://wandb.ai/ma23m021-iit-madras/MA23M021_A1_Q8_CROSS' target=\"_blank\">https://wandb.ai/ma23m021-iit-madras/MA23M021_A1_Q8_CROSS</a><br>Synced 5 W&B file(s), 0 media file(s), 0 artifact file(s) and 0 other file(s)"
            ]
          },
          "metadata": {}
        },
        {
          "output_type": "display_data",
          "data": {
            "text/plain": [
              "<IPython.core.display.HTML object>"
            ],
            "text/html": [
              "Find logs at: <code>./wandb/run-20250309_134818-pumlvom4/logs</code>"
            ]
          },
          "metadata": {}
        },
        {
          "output_type": "stream",
          "name": "stderr",
          "text": [
            "\u001b[34m\u001b[1mwandb\u001b[0m: Sweep Agent: Waiting for job.\n",
            "\u001b[34m\u001b[1mwandb\u001b[0m: Job received.\n",
            "\u001b[34m\u001b[1mwandb\u001b[0m: Agent Starting Run: chyd1xim with config:\n",
            "\u001b[34m\u001b[1mwandb\u001b[0m: \tactivation_function: tanh\n",
            "\u001b[34m\u001b[1mwandb\u001b[0m: \tbatch_size: 16\n",
            "\u001b[34m\u001b[1mwandb\u001b[0m: \tepochs: 5\n",
            "\u001b[34m\u001b[1mwandb\u001b[0m: \thidden_layer_size: 32\n",
            "\u001b[34m\u001b[1mwandb\u001b[0m: \tlearningg_rate_: 0.001\n",
            "\u001b[34m\u001b[1mwandb\u001b[0m: \tloss_type: cross_entropy\n",
            "\u001b[34m\u001b[1mwandb\u001b[0m: \tnum_hidden_layers: 3\n",
            "\u001b[34m\u001b[1mwandb\u001b[0m: \toptimizer: nadam\n",
            "\u001b[34m\u001b[1mwandb\u001b[0m: \tweight_initialization: random\n"
          ]
        },
        {
          "output_type": "display_data",
          "data": {
            "text/plain": [
              "<IPython.core.display.HTML object>"
            ],
            "text/html": [
              "Ignoring project 'MA23M021_A1_Q8_CROSS' when running a sweep."
            ]
          },
          "metadata": {}
        },
        {
          "output_type": "display_data",
          "data": {
            "text/plain": [
              "<IPython.core.display.HTML object>"
            ],
            "text/html": [
              "Tracking run with wandb version 0.19.7"
            ]
          },
          "metadata": {}
        },
        {
          "output_type": "display_data",
          "data": {
            "text/plain": [
              "<IPython.core.display.HTML object>"
            ],
            "text/html": [
              "Run data is saved locally in <code>/content/wandb/run-20250309_135009-chyd1xim</code>"
            ]
          },
          "metadata": {}
        },
        {
          "output_type": "display_data",
          "data": {
            "text/plain": [
              "<IPython.core.display.HTML object>"
            ],
            "text/html": [
              "Syncing run <strong><a href='https://wandb.ai/ma23m021-iit-madras/MA23M021_A1_Q8_CROSS/runs/chyd1xim' target=\"_blank\">ruby-sweep-26</a></strong> to <a href='https://wandb.ai/ma23m021-iit-madras/MA23M021_A1_Q8_CROSS' target=\"_blank\">Weights & Biases</a> (<a href='https://wandb.me/developer-guide' target=\"_blank\">docs</a>)<br>Sweep page: <a href='https://wandb.ai/ma23m021-iit-madras/MA23M021_A1_Q8_CROSS/sweeps/64kuh29x' target=\"_blank\">https://wandb.ai/ma23m021-iit-madras/MA23M021_A1_Q8_CROSS/sweeps/64kuh29x</a>"
            ]
          },
          "metadata": {}
        },
        {
          "output_type": "display_data",
          "data": {
            "text/plain": [
              "<IPython.core.display.HTML object>"
            ],
            "text/html": [
              " View project at <a href='https://wandb.ai/ma23m021-iit-madras/MA23M021_A1_Q8_CROSS' target=\"_blank\">https://wandb.ai/ma23m021-iit-madras/MA23M021_A1_Q8_CROSS</a>"
            ]
          },
          "metadata": {}
        },
        {
          "output_type": "display_data",
          "data": {
            "text/plain": [
              "<IPython.core.display.HTML object>"
            ],
            "text/html": [
              " View sweep at <a href='https://wandb.ai/ma23m021-iit-madras/MA23M021_A1_Q8_CROSS/sweeps/64kuh29x' target=\"_blank\">https://wandb.ai/ma23m021-iit-madras/MA23M021_A1_Q8_CROSS/sweeps/64kuh29x</a>"
            ]
          },
          "metadata": {}
        },
        {
          "output_type": "display_data",
          "data": {
            "text/plain": [
              "<IPython.core.display.HTML object>"
            ],
            "text/html": [
              " View run at <a href='https://wandb.ai/ma23m021-iit-madras/MA23M021_A1_Q8_CROSS/runs/chyd1xim' target=\"_blank\">https://wandb.ai/ma23m021-iit-madras/MA23M021_A1_Q8_CROSS/runs/chyd1xim</a>"
            ]
          },
          "metadata": {}
        },
        {
          "output_type": "stream",
          "name": "stdout",
          "text": [
            "Epoch 1/5, cross_entropy - Train Loss: 1.4865, Val Loss: 1.1397, Val Accuracy: 0.5010\n",
            "Epoch 2/5, cross_entropy - Train Loss: 0.9585, Val Loss: 0.8408, Val Accuracy: 0.6918\n",
            "Epoch 3/5, cross_entropy - Train Loss: 0.7490, Val Loss: 0.7165, Val Accuracy: 0.7138\n",
            "Epoch 4/5, cross_entropy - Train Loss: 0.6584, Val Loss: 0.6466, Val Accuracy: 0.7304\n",
            "Epoch 5/5, cross_entropy - Train Loss: 0.6058, Val Loss: 0.5887, Val Accuracy: 0.7908\n"
          ]
        },
        {
          "output_type": "display_data",
          "data": {
            "text/plain": [
              "<IPython.core.display.HTML object>"
            ],
            "text/html": []
          },
          "metadata": {}
        },
        {
          "output_type": "display_data",
          "data": {
            "text/plain": [
              "<IPython.core.display.HTML object>"
            ],
            "text/html": [
              "<br>    <style><br>        .wandb-row {<br>            display: flex;<br>            flex-direction: row;<br>            flex-wrap: wrap;<br>            justify-content: flex-start;<br>            width: 100%;<br>        }<br>        .wandb-col {<br>            display: flex;<br>            flex-direction: column;<br>            flex-basis: 100%;<br>            flex: 1;<br>            padding: 10px;<br>        }<br>    </style><br><div class=\"wandb-row\"><div class=\"wandb-col\"><h3>Run history:</h3><br/><table class=\"wandb\"><tr><td>epoch</td><td>▁▃▅▆█</td></tr><tr><td>train_loss</td><td>█▄▂▁▁</td></tr><tr><td>val_accuracy</td><td>▁▆▆▇█</td></tr><tr><td>val_loss</td><td>█▄▃▂▁</td></tr></table><br/></div><div class=\"wandb-col\"><h3>Run summary:</h3><br/><table class=\"wandb\"><tr><td>epoch</td><td>5</td></tr><tr><td>loss_type</td><td>cross_entropy</td></tr><tr><td>train_loss</td><td>0.60575</td></tr><tr><td>val_accuracy</td><td>0.79083</td></tr><tr><td>val_loss</td><td>0.5887</td></tr></table><br/></div></div>"
            ]
          },
          "metadata": {}
        },
        {
          "output_type": "display_data",
          "data": {
            "text/plain": [
              "<IPython.core.display.HTML object>"
            ],
            "text/html": [
              " View run <strong style=\"color:#cdcd00\">ruby-sweep-26</strong> at: <a href='https://wandb.ai/ma23m021-iit-madras/MA23M021_A1_Q8_CROSS/runs/chyd1xim' target=\"_blank\">https://wandb.ai/ma23m021-iit-madras/MA23M021_A1_Q8_CROSS/runs/chyd1xim</a><br> View project at: <a href='https://wandb.ai/ma23m021-iit-madras/MA23M021_A1_Q8_CROSS' target=\"_blank\">https://wandb.ai/ma23m021-iit-madras/MA23M021_A1_Q8_CROSS</a><br>Synced 5 W&B file(s), 0 media file(s), 0 artifact file(s) and 0 other file(s)"
            ]
          },
          "metadata": {}
        },
        {
          "output_type": "display_data",
          "data": {
            "text/plain": [
              "<IPython.core.display.HTML object>"
            ],
            "text/html": [
              "Find logs at: <code>./wandb/run-20250309_135009-chyd1xim/logs</code>"
            ]
          },
          "metadata": {}
        },
        {
          "output_type": "stream",
          "name": "stderr",
          "text": [
            "\u001b[34m\u001b[1mwandb\u001b[0m: Agent Starting Run: lvoyj238 with config:\n",
            "\u001b[34m\u001b[1mwandb\u001b[0m: \tactivation_function: tanh\n",
            "\u001b[34m\u001b[1mwandb\u001b[0m: \tbatch_size: 32\n",
            "\u001b[34m\u001b[1mwandb\u001b[0m: \tepochs: 10\n",
            "\u001b[34m\u001b[1mwandb\u001b[0m: \thidden_layer_size: 64\n",
            "\u001b[34m\u001b[1mwandb\u001b[0m: \tlearningg_rate_: 0.001\n",
            "\u001b[34m\u001b[1mwandb\u001b[0m: \tloss_type: cross_entropy\n",
            "\u001b[34m\u001b[1mwandb\u001b[0m: \tnum_hidden_layers: 3\n",
            "\u001b[34m\u001b[1mwandb\u001b[0m: \toptimizer: nadam\n",
            "\u001b[34m\u001b[1mwandb\u001b[0m: \tweight_initialization: xavier\n"
          ]
        },
        {
          "output_type": "display_data",
          "data": {
            "text/plain": [
              "<IPython.core.display.HTML object>"
            ],
            "text/html": [
              "Ignoring project 'MA23M021_A1_Q8_CROSS' when running a sweep."
            ]
          },
          "metadata": {}
        },
        {
          "output_type": "display_data",
          "data": {
            "text/plain": [
              "<IPython.core.display.HTML object>"
            ],
            "text/html": [
              "Tracking run with wandb version 0.19.7"
            ]
          },
          "metadata": {}
        },
        {
          "output_type": "display_data",
          "data": {
            "text/plain": [
              "<IPython.core.display.HTML object>"
            ],
            "text/html": [
              "Run data is saved locally in <code>/content/wandb/run-20250309_135045-lvoyj238</code>"
            ]
          },
          "metadata": {}
        },
        {
          "output_type": "display_data",
          "data": {
            "text/plain": [
              "<IPython.core.display.HTML object>"
            ],
            "text/html": [
              "Syncing run <strong><a href='https://wandb.ai/ma23m021-iit-madras/MA23M021_A1_Q8_CROSS/runs/lvoyj238' target=\"_blank\">good-sweep-27</a></strong> to <a href='https://wandb.ai/ma23m021-iit-madras/MA23M021_A1_Q8_CROSS' target=\"_blank\">Weights & Biases</a> (<a href='https://wandb.me/developer-guide' target=\"_blank\">docs</a>)<br>Sweep page: <a href='https://wandb.ai/ma23m021-iit-madras/MA23M021_A1_Q8_CROSS/sweeps/64kuh29x' target=\"_blank\">https://wandb.ai/ma23m021-iit-madras/MA23M021_A1_Q8_CROSS/sweeps/64kuh29x</a>"
            ]
          },
          "metadata": {}
        },
        {
          "output_type": "display_data",
          "data": {
            "text/plain": [
              "<IPython.core.display.HTML object>"
            ],
            "text/html": [
              " View project at <a href='https://wandb.ai/ma23m021-iit-madras/MA23M021_A1_Q8_CROSS' target=\"_blank\">https://wandb.ai/ma23m021-iit-madras/MA23M021_A1_Q8_CROSS</a>"
            ]
          },
          "metadata": {}
        },
        {
          "output_type": "display_data",
          "data": {
            "text/plain": [
              "<IPython.core.display.HTML object>"
            ],
            "text/html": [
              " View sweep at <a href='https://wandb.ai/ma23m021-iit-madras/MA23M021_A1_Q8_CROSS/sweeps/64kuh29x' target=\"_blank\">https://wandb.ai/ma23m021-iit-madras/MA23M021_A1_Q8_CROSS/sweeps/64kuh29x</a>"
            ]
          },
          "metadata": {}
        },
        {
          "output_type": "display_data",
          "data": {
            "text/plain": [
              "<IPython.core.display.HTML object>"
            ],
            "text/html": [
              " View run at <a href='https://wandb.ai/ma23m021-iit-madras/MA23M021_A1_Q8_CROSS/runs/lvoyj238' target=\"_blank\">https://wandb.ai/ma23m021-iit-madras/MA23M021_A1_Q8_CROSS/runs/lvoyj238</a>"
            ]
          },
          "metadata": {}
        },
        {
          "output_type": "stream",
          "name": "stdout",
          "text": [
            "Epoch 1/10, cross_entropy - Train Loss: 0.8338, Val Loss: 0.4881, Val Accuracy: 0.8357\n",
            "Epoch 2/10, cross_entropy - Train Loss: 0.4332, Val Loss: 0.4249, Val Accuracy: 0.8457\n",
            "Epoch 3/10, cross_entropy - Train Loss: 0.3839, Val Loss: 0.3772, Val Accuracy: 0.8644\n",
            "Epoch 4/10, cross_entropy - Train Loss: 0.3560, Val Loss: 0.3750, Val Accuracy: 0.8686\n",
            "Epoch 5/10, cross_entropy - Train Loss: 0.3370, Val Loss: 0.3512, Val Accuracy: 0.8716\n",
            "Epoch 6/10, cross_entropy - Train Loss: 0.3222, Val Loss: 0.3435, Val Accuracy: 0.8765\n",
            "Epoch 7/10, cross_entropy - Train Loss: 0.3119, Val Loss: 0.3404, Val Accuracy: 0.8774\n",
            "Epoch 8/10, cross_entropy - Train Loss: 0.3017, Val Loss: 0.3464, Val Accuracy: 0.8759\n",
            "Epoch 9/10, cross_entropy - Train Loss: 0.2924, Val Loss: 0.3300, Val Accuracy: 0.8850\n",
            "Epoch 10/10, cross_entropy - Train Loss: 0.2839, Val Loss: 0.3323, Val Accuracy: 0.8825\n"
          ]
        },
        {
          "output_type": "display_data",
          "data": {
            "text/plain": [
              "<IPython.core.display.HTML object>"
            ],
            "text/html": []
          },
          "metadata": {}
        },
        {
          "output_type": "display_data",
          "data": {
            "text/plain": [
              "<IPython.core.display.HTML object>"
            ],
            "text/html": [
              "<br>    <style><br>        .wandb-row {<br>            display: flex;<br>            flex-direction: row;<br>            flex-wrap: wrap;<br>            justify-content: flex-start;<br>            width: 100%;<br>        }<br>        .wandb-col {<br>            display: flex;<br>            flex-direction: column;<br>            flex-basis: 100%;<br>            flex: 1;<br>            padding: 10px;<br>        }<br>    </style><br><div class=\"wandb-row\"><div class=\"wandb-col\"><h3>Run history:</h3><br/><table class=\"wandb\"><tr><td>epoch</td><td>▁▂▃▃▄▅▆▆▇█</td></tr><tr><td>train_loss</td><td>█▃▂▂▂▁▁▁▁▁</td></tr><tr><td>val_accuracy</td><td>▁▂▅▆▆▇▇▇██</td></tr><tr><td>val_loss</td><td>█▅▃▃▂▂▁▂▁▁</td></tr></table><br/></div><div class=\"wandb-col\"><h3>Run summary:</h3><br/><table class=\"wandb\"><tr><td>epoch</td><td>10</td></tr><tr><td>loss_type</td><td>cross_entropy</td></tr><tr><td>train_loss</td><td>0.28392</td></tr><tr><td>val_accuracy</td><td>0.8825</td></tr><tr><td>val_loss</td><td>0.3323</td></tr></table><br/></div></div>"
            ]
          },
          "metadata": {}
        },
        {
          "output_type": "display_data",
          "data": {
            "text/plain": [
              "<IPython.core.display.HTML object>"
            ],
            "text/html": [
              " View run <strong style=\"color:#cdcd00\">good-sweep-27</strong> at: <a href='https://wandb.ai/ma23m021-iit-madras/MA23M021_A1_Q8_CROSS/runs/lvoyj238' target=\"_blank\">https://wandb.ai/ma23m021-iit-madras/MA23M021_A1_Q8_CROSS/runs/lvoyj238</a><br> View project at: <a href='https://wandb.ai/ma23m021-iit-madras/MA23M021_A1_Q8_CROSS' target=\"_blank\">https://wandb.ai/ma23m021-iit-madras/MA23M021_A1_Q8_CROSS</a><br>Synced 5 W&B file(s), 0 media file(s), 0 artifact file(s) and 0 other file(s)"
            ]
          },
          "metadata": {}
        },
        {
          "output_type": "display_data",
          "data": {
            "text/plain": [
              "<IPython.core.display.HTML object>"
            ],
            "text/html": [
              "Find logs at: <code>./wandb/run-20250309_135045-lvoyj238/logs</code>"
            ]
          },
          "metadata": {}
        },
        {
          "output_type": "stream",
          "name": "stderr",
          "text": [
            "\u001b[34m\u001b[1mwandb\u001b[0m: Agent Starting Run: uooqk5y9 with config:\n",
            "\u001b[34m\u001b[1mwandb\u001b[0m: \tactivation_function: tanh\n",
            "\u001b[34m\u001b[1mwandb\u001b[0m: \tbatch_size: 16\n",
            "\u001b[34m\u001b[1mwandb\u001b[0m: \tepochs: 5\n",
            "\u001b[34m\u001b[1mwandb\u001b[0m: \thidden_layer_size: 64\n",
            "\u001b[34m\u001b[1mwandb\u001b[0m: \tlearningg_rate_: 0.001\n",
            "\u001b[34m\u001b[1mwandb\u001b[0m: \tloss_type: cross_entropy\n",
            "\u001b[34m\u001b[1mwandb\u001b[0m: \tnum_hidden_layers: 3\n",
            "\u001b[34m\u001b[1mwandb\u001b[0m: \toptimizer: adam\n",
            "\u001b[34m\u001b[1mwandb\u001b[0m: \tweight_initialization: random\n"
          ]
        },
        {
          "output_type": "display_data",
          "data": {
            "text/plain": [
              "<IPython.core.display.HTML object>"
            ],
            "text/html": [
              "Ignoring project 'MA23M021_A1_Q8_CROSS' when running a sweep."
            ]
          },
          "metadata": {}
        },
        {
          "output_type": "display_data",
          "data": {
            "text/plain": [
              "<IPython.core.display.HTML object>"
            ],
            "text/html": [
              "Tracking run with wandb version 0.19.7"
            ]
          },
          "metadata": {}
        },
        {
          "output_type": "display_data",
          "data": {
            "text/plain": [
              "<IPython.core.display.HTML object>"
            ],
            "text/html": [
              "Run data is saved locally in <code>/content/wandb/run-20250309_135151-uooqk5y9</code>"
            ]
          },
          "metadata": {}
        },
        {
          "output_type": "display_data",
          "data": {
            "text/plain": [
              "<IPython.core.display.HTML object>"
            ],
            "text/html": [
              "Syncing run <strong><a href='https://wandb.ai/ma23m021-iit-madras/MA23M021_A1_Q8_CROSS/runs/uooqk5y9' target=\"_blank\">fiery-sweep-28</a></strong> to <a href='https://wandb.ai/ma23m021-iit-madras/MA23M021_A1_Q8_CROSS' target=\"_blank\">Weights & Biases</a> (<a href='https://wandb.me/developer-guide' target=\"_blank\">docs</a>)<br>Sweep page: <a href='https://wandb.ai/ma23m021-iit-madras/MA23M021_A1_Q8_CROSS/sweeps/64kuh29x' target=\"_blank\">https://wandb.ai/ma23m021-iit-madras/MA23M021_A1_Q8_CROSS/sweeps/64kuh29x</a>"
            ]
          },
          "metadata": {}
        },
        {
          "output_type": "display_data",
          "data": {
            "text/plain": [
              "<IPython.core.display.HTML object>"
            ],
            "text/html": [
              " View project at <a href='https://wandb.ai/ma23m021-iit-madras/MA23M021_A1_Q8_CROSS' target=\"_blank\">https://wandb.ai/ma23m021-iit-madras/MA23M021_A1_Q8_CROSS</a>"
            ]
          },
          "metadata": {}
        },
        {
          "output_type": "display_data",
          "data": {
            "text/plain": [
              "<IPython.core.display.HTML object>"
            ],
            "text/html": [
              " View sweep at <a href='https://wandb.ai/ma23m021-iit-madras/MA23M021_A1_Q8_CROSS/sweeps/64kuh29x' target=\"_blank\">https://wandb.ai/ma23m021-iit-madras/MA23M021_A1_Q8_CROSS/sweeps/64kuh29x</a>"
            ]
          },
          "metadata": {}
        },
        {
          "output_type": "display_data",
          "data": {
            "text/plain": [
              "<IPython.core.display.HTML object>"
            ],
            "text/html": [
              " View run at <a href='https://wandb.ai/ma23m021-iit-madras/MA23M021_A1_Q8_CROSS/runs/uooqk5y9' target=\"_blank\">https://wandb.ai/ma23m021-iit-madras/MA23M021_A1_Q8_CROSS/runs/uooqk5y9</a>"
            ]
          },
          "metadata": {}
        },
        {
          "output_type": "stream",
          "name": "stdout",
          "text": [
            "Epoch 1/5, cross_entropy - Train Loss: 1.3184, Val Loss: 0.8942, Val Accuracy: 0.6098\n",
            "Epoch 2/5, cross_entropy - Train Loss: 0.7577, Val Loss: 0.6364, Val Accuracy: 0.7446\n",
            "Epoch 3/5, cross_entropy - Train Loss: 0.5594, Val Loss: 0.5416, Val Accuracy: 0.8012\n",
            "Epoch 4/5, cross_entropy - Train Loss: 0.4863, Val Loss: 0.4830, Val Accuracy: 0.8128\n",
            "Epoch 5/5, cross_entropy - Train Loss: 0.4402, Val Loss: 0.4384, Val Accuracy: 0.8501\n"
          ]
        },
        {
          "output_type": "display_data",
          "data": {
            "text/plain": [
              "<IPython.core.display.HTML object>"
            ],
            "text/html": []
          },
          "metadata": {}
        },
        {
          "output_type": "display_data",
          "data": {
            "text/plain": [
              "<IPython.core.display.HTML object>"
            ],
            "text/html": [
              "<br>    <style><br>        .wandb-row {<br>            display: flex;<br>            flex-direction: row;<br>            flex-wrap: wrap;<br>            justify-content: flex-start;<br>            width: 100%;<br>        }<br>        .wandb-col {<br>            display: flex;<br>            flex-direction: column;<br>            flex-basis: 100%;<br>            flex: 1;<br>            padding: 10px;<br>        }<br>    </style><br><div class=\"wandb-row\"><div class=\"wandb-col\"><h3>Run history:</h3><br/><table class=\"wandb\"><tr><td>epoch</td><td>▁▃▅▆█</td></tr><tr><td>train_loss</td><td>█▄▂▁▁</td></tr><tr><td>val_accuracy</td><td>▁▅▇▇█</td></tr><tr><td>val_loss</td><td>█▄▃▂▁</td></tr></table><br/></div><div class=\"wandb-col\"><h3>Run summary:</h3><br/><table class=\"wandb\"><tr><td>epoch</td><td>5</td></tr><tr><td>loss_type</td><td>cross_entropy</td></tr><tr><td>train_loss</td><td>0.44019</td></tr><tr><td>val_accuracy</td><td>0.85008</td></tr><tr><td>val_loss</td><td>0.43838</td></tr></table><br/></div></div>"
            ]
          },
          "metadata": {}
        },
        {
          "output_type": "display_data",
          "data": {
            "text/plain": [
              "<IPython.core.display.HTML object>"
            ],
            "text/html": [
              " View run <strong style=\"color:#cdcd00\">fiery-sweep-28</strong> at: <a href='https://wandb.ai/ma23m021-iit-madras/MA23M021_A1_Q8_CROSS/runs/uooqk5y9' target=\"_blank\">https://wandb.ai/ma23m021-iit-madras/MA23M021_A1_Q8_CROSS/runs/uooqk5y9</a><br> View project at: <a href='https://wandb.ai/ma23m021-iit-madras/MA23M021_A1_Q8_CROSS' target=\"_blank\">https://wandb.ai/ma23m021-iit-madras/MA23M021_A1_Q8_CROSS</a><br>Synced 5 W&B file(s), 0 media file(s), 0 artifact file(s) and 0 other file(s)"
            ]
          },
          "metadata": {}
        },
        {
          "output_type": "display_data",
          "data": {
            "text/plain": [
              "<IPython.core.display.HTML object>"
            ],
            "text/html": [
              "Find logs at: <code>./wandb/run-20250309_135151-uooqk5y9/logs</code>"
            ]
          },
          "metadata": {}
        },
        {
          "output_type": "stream",
          "name": "stderr",
          "text": [
            "\u001b[34m\u001b[1mwandb\u001b[0m: Agent Starting Run: c5l9qvm4 with config:\n",
            "\u001b[34m\u001b[1mwandb\u001b[0m: \tactivation_function: tanh\n",
            "\u001b[34m\u001b[1mwandb\u001b[0m: \tbatch_size: 16\n",
            "\u001b[34m\u001b[1mwandb\u001b[0m: \tepochs: 10\n",
            "\u001b[34m\u001b[1mwandb\u001b[0m: \thidden_layer_size: 64\n",
            "\u001b[34m\u001b[1mwandb\u001b[0m: \tlearningg_rate_: 0.001\n",
            "\u001b[34m\u001b[1mwandb\u001b[0m: \tloss_type: cross_entropy\n",
            "\u001b[34m\u001b[1mwandb\u001b[0m: \tnum_hidden_layers: 3\n",
            "\u001b[34m\u001b[1mwandb\u001b[0m: \toptimizer: nadam\n",
            "\u001b[34m\u001b[1mwandb\u001b[0m: \tweight_initialization: xavier\n"
          ]
        },
        {
          "output_type": "display_data",
          "data": {
            "text/plain": [
              "<IPython.core.display.HTML object>"
            ],
            "text/html": [
              "Ignoring project 'MA23M021_A1_Q8_CROSS' when running a sweep."
            ]
          },
          "metadata": {}
        },
        {
          "output_type": "display_data",
          "data": {
            "text/plain": [
              "<IPython.core.display.HTML object>"
            ],
            "text/html": [
              "Tracking run with wandb version 0.19.7"
            ]
          },
          "metadata": {}
        },
        {
          "output_type": "display_data",
          "data": {
            "text/plain": [
              "<IPython.core.display.HTML object>"
            ],
            "text/html": [
              "Run data is saved locally in <code>/content/wandb/run-20250309_135242-c5l9qvm4</code>"
            ]
          },
          "metadata": {}
        },
        {
          "output_type": "display_data",
          "data": {
            "text/plain": [
              "<IPython.core.display.HTML object>"
            ],
            "text/html": [
              "Syncing run <strong><a href='https://wandb.ai/ma23m021-iit-madras/MA23M021_A1_Q8_CROSS/runs/c5l9qvm4' target=\"_blank\">bright-sweep-29</a></strong> to <a href='https://wandb.ai/ma23m021-iit-madras/MA23M021_A1_Q8_CROSS' target=\"_blank\">Weights & Biases</a> (<a href='https://wandb.me/developer-guide' target=\"_blank\">docs</a>)<br>Sweep page: <a href='https://wandb.ai/ma23m021-iit-madras/MA23M021_A1_Q8_CROSS/sweeps/64kuh29x' target=\"_blank\">https://wandb.ai/ma23m021-iit-madras/MA23M021_A1_Q8_CROSS/sweeps/64kuh29x</a>"
            ]
          },
          "metadata": {}
        },
        {
          "output_type": "display_data",
          "data": {
            "text/plain": [
              "<IPython.core.display.HTML object>"
            ],
            "text/html": [
              " View project at <a href='https://wandb.ai/ma23m021-iit-madras/MA23M021_A1_Q8_CROSS' target=\"_blank\">https://wandb.ai/ma23m021-iit-madras/MA23M021_A1_Q8_CROSS</a>"
            ]
          },
          "metadata": {}
        },
        {
          "output_type": "display_data",
          "data": {
            "text/plain": [
              "<IPython.core.display.HTML object>"
            ],
            "text/html": [
              " View sweep at <a href='https://wandb.ai/ma23m021-iit-madras/MA23M021_A1_Q8_CROSS/sweeps/64kuh29x' target=\"_blank\">https://wandb.ai/ma23m021-iit-madras/MA23M021_A1_Q8_CROSS/sweeps/64kuh29x</a>"
            ]
          },
          "metadata": {}
        },
        {
          "output_type": "display_data",
          "data": {
            "text/plain": [
              "<IPython.core.display.HTML object>"
            ],
            "text/html": [
              " View run at <a href='https://wandb.ai/ma23m021-iit-madras/MA23M021_A1_Q8_CROSS/runs/c5l9qvm4' target=\"_blank\">https://wandb.ai/ma23m021-iit-madras/MA23M021_A1_Q8_CROSS/runs/c5l9qvm4</a>"
            ]
          },
          "metadata": {}
        },
        {
          "output_type": "stream",
          "name": "stdout",
          "text": [
            "Epoch 1/10, cross_entropy - Train Loss: 0.7176, Val Loss: 0.4397, Val Accuracy: 0.8428\n",
            "Epoch 2/10, cross_entropy - Train Loss: 0.4128, Val Loss: 0.3889, Val Accuracy: 0.8604\n",
            "Epoch 3/10, cross_entropy - Train Loss: 0.3707, Val Loss: 0.3631, Val Accuracy: 0.8682\n",
            "Epoch 4/10, cross_entropy - Train Loss: 0.3466, Val Loss: 0.3739, Val Accuracy: 0.8604\n",
            "Epoch 5/10, cross_entropy - Train Loss: 0.3326, Val Loss: 0.3540, Val Accuracy: 0.8718\n",
            "Epoch 6/10, cross_entropy - Train Loss: 0.3183, Val Loss: 0.3540, Val Accuracy: 0.8727\n",
            "Epoch 7/10, cross_entropy - Train Loss: 0.3107, Val Loss: 0.3447, Val Accuracy: 0.8755\n",
            "Epoch 8/10, cross_entropy - Train Loss: 0.2983, Val Loss: 0.3534, Val Accuracy: 0.8688\n",
            "Epoch 9/10, cross_entropy - Train Loss: 0.2905, Val Loss: 0.3327, Val Accuracy: 0.8802\n",
            "Epoch 10/10, cross_entropy - Train Loss: 0.2836, Val Loss: 0.3698, Val Accuracy: 0.8695\n"
          ]
        },
        {
          "output_type": "display_data",
          "data": {
            "text/plain": [
              "<IPython.core.display.HTML object>"
            ],
            "text/html": []
          },
          "metadata": {}
        },
        {
          "output_type": "display_data",
          "data": {
            "text/plain": [
              "<IPython.core.display.HTML object>"
            ],
            "text/html": [
              "<br>    <style><br>        .wandb-row {<br>            display: flex;<br>            flex-direction: row;<br>            flex-wrap: wrap;<br>            justify-content: flex-start;<br>            width: 100%;<br>        }<br>        .wandb-col {<br>            display: flex;<br>            flex-direction: column;<br>            flex-basis: 100%;<br>            flex: 1;<br>            padding: 10px;<br>        }<br>    </style><br><div class=\"wandb-row\"><div class=\"wandb-col\"><h3>Run history:</h3><br/><table class=\"wandb\"><tr><td>epoch</td><td>▁▂▃▃▄▅▆▆▇█</td></tr><tr><td>train_loss</td><td>█▃▂▂▂▂▁▁▁▁</td></tr><tr><td>val_accuracy</td><td>▁▄▆▄▆▇▇▆█▆</td></tr><tr><td>val_loss</td><td>█▅▃▄▂▂▂▂▁▃</td></tr></table><br/></div><div class=\"wandb-col\"><h3>Run summary:</h3><br/><table class=\"wandb\"><tr><td>epoch</td><td>10</td></tr><tr><td>loss_type</td><td>cross_entropy</td></tr><tr><td>train_loss</td><td>0.28358</td></tr><tr><td>val_accuracy</td><td>0.8695</td></tr><tr><td>val_loss</td><td>0.36979</td></tr></table><br/></div></div>"
            ]
          },
          "metadata": {}
        },
        {
          "output_type": "display_data",
          "data": {
            "text/plain": [
              "<IPython.core.display.HTML object>"
            ],
            "text/html": [
              " View run <strong style=\"color:#cdcd00\">bright-sweep-29</strong> at: <a href='https://wandb.ai/ma23m021-iit-madras/MA23M021_A1_Q8_CROSS/runs/c5l9qvm4' target=\"_blank\">https://wandb.ai/ma23m021-iit-madras/MA23M021_A1_Q8_CROSS/runs/c5l9qvm4</a><br> View project at: <a href='https://wandb.ai/ma23m021-iit-madras/MA23M021_A1_Q8_CROSS' target=\"_blank\">https://wandb.ai/ma23m021-iit-madras/MA23M021_A1_Q8_CROSS</a><br>Synced 5 W&B file(s), 0 media file(s), 0 artifact file(s) and 0 other file(s)"
            ]
          },
          "metadata": {}
        },
        {
          "output_type": "display_data",
          "data": {
            "text/plain": [
              "<IPython.core.display.HTML object>"
            ],
            "text/html": [
              "Find logs at: <code>./wandb/run-20250309_135242-c5l9qvm4/logs</code>"
            ]
          },
          "metadata": {}
        },
        {
          "output_type": "stream",
          "name": "stderr",
          "text": [
            "\u001b[34m\u001b[1mwandb\u001b[0m: Sweep Agent: Waiting for job.\n",
            "\u001b[34m\u001b[1mwandb\u001b[0m: Job received.\n",
            "\u001b[34m\u001b[1mwandb\u001b[0m: Agent Starting Run: qq33kdq4 with config:\n",
            "\u001b[34m\u001b[1mwandb\u001b[0m: \tactivation_function: tanh\n",
            "\u001b[34m\u001b[1mwandb\u001b[0m: \tbatch_size: 16\n",
            "\u001b[34m\u001b[1mwandb\u001b[0m: \tepochs: 10\n",
            "\u001b[34m\u001b[1mwandb\u001b[0m: \thidden_layer_size: 128\n",
            "\u001b[34m\u001b[1mwandb\u001b[0m: \tlearningg_rate_: 0.001\n",
            "\u001b[34m\u001b[1mwandb\u001b[0m: \tloss_type: cross_entropy\n",
            "\u001b[34m\u001b[1mwandb\u001b[0m: \tnum_hidden_layers: 3\n",
            "\u001b[34m\u001b[1mwandb\u001b[0m: \toptimizer: nadam\n",
            "\u001b[34m\u001b[1mwandb\u001b[0m: \tweight_initialization: xavier\n"
          ]
        },
        {
          "output_type": "display_data",
          "data": {
            "text/plain": [
              "<IPython.core.display.HTML object>"
            ],
            "text/html": [
              "Ignoring project 'MA23M021_A1_Q8_CROSS' when running a sweep."
            ]
          },
          "metadata": {}
        },
        {
          "output_type": "display_data",
          "data": {
            "text/plain": [
              "<IPython.core.display.HTML object>"
            ],
            "text/html": [
              "Tracking run with wandb version 0.19.7"
            ]
          },
          "metadata": {}
        },
        {
          "output_type": "display_data",
          "data": {
            "text/plain": [
              "<IPython.core.display.HTML object>"
            ],
            "text/html": [
              "Run data is saved locally in <code>/content/wandb/run-20250309_135433-qq33kdq4</code>"
            ]
          },
          "metadata": {}
        },
        {
          "output_type": "display_data",
          "data": {
            "text/plain": [
              "<IPython.core.display.HTML object>"
            ],
            "text/html": [
              "Syncing run <strong><a href='https://wandb.ai/ma23m021-iit-madras/MA23M021_A1_Q8_CROSS/runs/qq33kdq4' target=\"_blank\">resilient-sweep-30</a></strong> to <a href='https://wandb.ai/ma23m021-iit-madras/MA23M021_A1_Q8_CROSS' target=\"_blank\">Weights & Biases</a> (<a href='https://wandb.me/developer-guide' target=\"_blank\">docs</a>)<br>Sweep page: <a href='https://wandb.ai/ma23m021-iit-madras/MA23M021_A1_Q8_CROSS/sweeps/64kuh29x' target=\"_blank\">https://wandb.ai/ma23m021-iit-madras/MA23M021_A1_Q8_CROSS/sweeps/64kuh29x</a>"
            ]
          },
          "metadata": {}
        },
        {
          "output_type": "display_data",
          "data": {
            "text/plain": [
              "<IPython.core.display.HTML object>"
            ],
            "text/html": [
              " View project at <a href='https://wandb.ai/ma23m021-iit-madras/MA23M021_A1_Q8_CROSS' target=\"_blank\">https://wandb.ai/ma23m021-iit-madras/MA23M021_A1_Q8_CROSS</a>"
            ]
          },
          "metadata": {}
        },
        {
          "output_type": "display_data",
          "data": {
            "text/plain": [
              "<IPython.core.display.HTML object>"
            ],
            "text/html": [
              " View sweep at <a href='https://wandb.ai/ma23m021-iit-madras/MA23M021_A1_Q8_CROSS/sweeps/64kuh29x' target=\"_blank\">https://wandb.ai/ma23m021-iit-madras/MA23M021_A1_Q8_CROSS/sweeps/64kuh29x</a>"
            ]
          },
          "metadata": {}
        },
        {
          "output_type": "display_data",
          "data": {
            "text/plain": [
              "<IPython.core.display.HTML object>"
            ],
            "text/html": [
              " View run at <a href='https://wandb.ai/ma23m021-iit-madras/MA23M021_A1_Q8_CROSS/runs/qq33kdq4' target=\"_blank\">https://wandb.ai/ma23m021-iit-madras/MA23M021_A1_Q8_CROSS/runs/qq33kdq4</a>"
            ]
          },
          "metadata": {}
        },
        {
          "output_type": "stream",
          "name": "stdout",
          "text": [
            "Epoch 1/10, cross_entropy - Train Loss: 0.6090, Val Loss: 0.4164, Val Accuracy: 0.8482\n",
            "Epoch 2/10, cross_entropy - Train Loss: 0.3956, Val Loss: 0.3750, Val Accuracy: 0.8623\n",
            "Epoch 3/10, cross_entropy - Train Loss: 0.3580, Val Loss: 0.3869, Val Accuracy: 0.8564\n",
            "Epoch 4/10, cross_entropy - Train Loss: 0.3405, Val Loss: 0.3693, Val Accuracy: 0.8655\n",
            "Epoch 5/10, cross_entropy - Train Loss: 0.3224, Val Loss: 0.3570, Val Accuracy: 0.8718\n",
            "Epoch 6/10, cross_entropy - Train Loss: 0.3097, Val Loss: 0.3479, Val Accuracy: 0.8747\n",
            "Epoch 7/10, cross_entropy - Train Loss: 0.3010, Val Loss: 0.3402, Val Accuracy: 0.8754\n",
            "Epoch 8/10, cross_entropy - Train Loss: 0.2886, Val Loss: 0.3790, Val Accuracy: 0.8676\n",
            "Epoch 9/10, cross_entropy - Train Loss: 0.2812, Val Loss: 0.3304, Val Accuracy: 0.8804\n",
            "Epoch 10/10, cross_entropy - Train Loss: 0.2755, Val Loss: 0.3447, Val Accuracy: 0.8743\n"
          ]
        },
        {
          "output_type": "display_data",
          "data": {
            "text/plain": [
              "<IPython.core.display.HTML object>"
            ],
            "text/html": []
          },
          "metadata": {}
        },
        {
          "output_type": "display_data",
          "data": {
            "text/plain": [
              "<IPython.core.display.HTML object>"
            ],
            "text/html": [
              "<br>    <style><br>        .wandb-row {<br>            display: flex;<br>            flex-direction: row;<br>            flex-wrap: wrap;<br>            justify-content: flex-start;<br>            width: 100%;<br>        }<br>        .wandb-col {<br>            display: flex;<br>            flex-direction: column;<br>            flex-basis: 100%;<br>            flex: 1;<br>            padding: 10px;<br>        }<br>    </style><br><div class=\"wandb-row\"><div class=\"wandb-col\"><h3>Run history:</h3><br/><table class=\"wandb\"><tr><td>epoch</td><td>▁▂▃▃▄▅▆▆▇█</td></tr><tr><td>train_loss</td><td>█▄▃▂▂▂▂▁▁▁</td></tr><tr><td>val_accuracy</td><td>▁▄▃▅▆▇▇▅█▇</td></tr><tr><td>val_loss</td><td>█▅▆▄▃▂▂▅▁▂</td></tr></table><br/></div><div class=\"wandb-col\"><h3>Run summary:</h3><br/><table class=\"wandb\"><tr><td>epoch</td><td>10</td></tr><tr><td>loss_type</td><td>cross_entropy</td></tr><tr><td>train_loss</td><td>0.27552</td></tr><tr><td>val_accuracy</td><td>0.87433</td></tr><tr><td>val_loss</td><td>0.34471</td></tr></table><br/></div></div>"
            ]
          },
          "metadata": {}
        },
        {
          "output_type": "display_data",
          "data": {
            "text/plain": [
              "<IPython.core.display.HTML object>"
            ],
            "text/html": [
              " View run <strong style=\"color:#cdcd00\">resilient-sweep-30</strong> at: <a href='https://wandb.ai/ma23m021-iit-madras/MA23M021_A1_Q8_CROSS/runs/qq33kdq4' target=\"_blank\">https://wandb.ai/ma23m021-iit-madras/MA23M021_A1_Q8_CROSS/runs/qq33kdq4</a><br> View project at: <a href='https://wandb.ai/ma23m021-iit-madras/MA23M021_A1_Q8_CROSS' target=\"_blank\">https://wandb.ai/ma23m021-iit-madras/MA23M021_A1_Q8_CROSS</a><br>Synced 5 W&B file(s), 0 media file(s), 0 artifact file(s) and 0 other file(s)"
            ]
          },
          "metadata": {}
        },
        {
          "output_type": "display_data",
          "data": {
            "text/plain": [
              "<IPython.core.display.HTML object>"
            ],
            "text/html": [
              "Find logs at: <code>./wandb/run-20250309_135433-qq33kdq4/logs</code>"
            ]
          },
          "metadata": {}
        },
        {
          "output_type": "stream",
          "name": "stderr",
          "text": [
            "\u001b[34m\u001b[1mwandb\u001b[0m: Agent Starting Run: cr0gd541 with config:\n",
            "\u001b[34m\u001b[1mwandb\u001b[0m: \tactivation_function: tanh\n",
            "\u001b[34m\u001b[1mwandb\u001b[0m: \tbatch_size: 16\n",
            "\u001b[34m\u001b[1mwandb\u001b[0m: \tepochs: 5\n",
            "\u001b[34m\u001b[1mwandb\u001b[0m: \thidden_layer_size: 128\n",
            "\u001b[34m\u001b[1mwandb\u001b[0m: \tlearningg_rate_: 0.001\n",
            "\u001b[34m\u001b[1mwandb\u001b[0m: \tloss_type: cross_entropy\n",
            "\u001b[34m\u001b[1mwandb\u001b[0m: \tnum_hidden_layers: 4\n",
            "\u001b[34m\u001b[1mwandb\u001b[0m: \toptimizer: nadam\n",
            "\u001b[34m\u001b[1mwandb\u001b[0m: \tweight_initialization: xavier\n"
          ]
        },
        {
          "output_type": "display_data",
          "data": {
            "text/plain": [
              "<IPython.core.display.HTML object>"
            ],
            "text/html": [
              "Ignoring project 'MA23M021_A1_Q8_CROSS' when running a sweep."
            ]
          },
          "metadata": {}
        },
        {
          "output_type": "display_data",
          "data": {
            "text/plain": [
              "<IPython.core.display.HTML object>"
            ],
            "text/html": [
              "Tracking run with wandb version 0.19.7"
            ]
          },
          "metadata": {}
        },
        {
          "output_type": "display_data",
          "data": {
            "text/plain": [
              "<IPython.core.display.HTML object>"
            ],
            "text/html": [
              "Run data is saved locally in <code>/content/wandb/run-20250309_135757-cr0gd541</code>"
            ]
          },
          "metadata": {}
        },
        {
          "output_type": "display_data",
          "data": {
            "text/plain": [
              "<IPython.core.display.HTML object>"
            ],
            "text/html": [
              "Syncing run <strong><a href='https://wandb.ai/ma23m021-iit-madras/MA23M021_A1_Q8_CROSS/runs/cr0gd541' target=\"_blank\">dashing-sweep-31</a></strong> to <a href='https://wandb.ai/ma23m021-iit-madras/MA23M021_A1_Q8_CROSS' target=\"_blank\">Weights & Biases</a> (<a href='https://wandb.me/developer-guide' target=\"_blank\">docs</a>)<br>Sweep page: <a href='https://wandb.ai/ma23m021-iit-madras/MA23M021_A1_Q8_CROSS/sweeps/64kuh29x' target=\"_blank\">https://wandb.ai/ma23m021-iit-madras/MA23M021_A1_Q8_CROSS/sweeps/64kuh29x</a>"
            ]
          },
          "metadata": {}
        },
        {
          "output_type": "display_data",
          "data": {
            "text/plain": [
              "<IPython.core.display.HTML object>"
            ],
            "text/html": [
              " View project at <a href='https://wandb.ai/ma23m021-iit-madras/MA23M021_A1_Q8_CROSS' target=\"_blank\">https://wandb.ai/ma23m021-iit-madras/MA23M021_A1_Q8_CROSS</a>"
            ]
          },
          "metadata": {}
        },
        {
          "output_type": "display_data",
          "data": {
            "text/plain": [
              "<IPython.core.display.HTML object>"
            ],
            "text/html": [
              " View sweep at <a href='https://wandb.ai/ma23m021-iit-madras/MA23M021_A1_Q8_CROSS/sweeps/64kuh29x' target=\"_blank\">https://wandb.ai/ma23m021-iit-madras/MA23M021_A1_Q8_CROSS/sweeps/64kuh29x</a>"
            ]
          },
          "metadata": {}
        },
        {
          "output_type": "display_data",
          "data": {
            "text/plain": [
              "<IPython.core.display.HTML object>"
            ],
            "text/html": [
              " View run at <a href='https://wandb.ai/ma23m021-iit-madras/MA23M021_A1_Q8_CROSS/runs/cr0gd541' target=\"_blank\">https://wandb.ai/ma23m021-iit-madras/MA23M021_A1_Q8_CROSS/runs/cr0gd541</a>"
            ]
          },
          "metadata": {}
        },
        {
          "output_type": "stream",
          "name": "stdout",
          "text": [
            "Epoch 1/5, cross_entropy - Train Loss: 0.6699, Val Loss: 0.4802, Val Accuracy: 0.8339\n",
            "Epoch 2/5, cross_entropy - Train Loss: 0.4258, Val Loss: 0.4081, Val Accuracy: 0.8572\n",
            "Epoch 3/5, cross_entropy - Train Loss: 0.3820, Val Loss: 0.3715, Val Accuracy: 0.8671\n",
            "Epoch 4/5, cross_entropy - Train Loss: 0.3580, Val Loss: 0.3548, Val Accuracy: 0.8722\n",
            "Epoch 5/5, cross_entropy - Train Loss: 0.3393, Val Loss: 0.3546, Val Accuracy: 0.8728\n"
          ]
        },
        {
          "output_type": "display_data",
          "data": {
            "text/plain": [
              "<IPython.core.display.HTML object>"
            ],
            "text/html": []
          },
          "metadata": {}
        },
        {
          "output_type": "display_data",
          "data": {
            "text/plain": [
              "<IPython.core.display.HTML object>"
            ],
            "text/html": [
              "<br>    <style><br>        .wandb-row {<br>            display: flex;<br>            flex-direction: row;<br>            flex-wrap: wrap;<br>            justify-content: flex-start;<br>            width: 100%;<br>        }<br>        .wandb-col {<br>            display: flex;<br>            flex-direction: column;<br>            flex-basis: 100%;<br>            flex: 1;<br>            padding: 10px;<br>        }<br>    </style><br><div class=\"wandb-row\"><div class=\"wandb-col\"><h3>Run history:</h3><br/><table class=\"wandb\"><tr><td>epoch</td><td>▁▃▅▆█</td></tr><tr><td>train_loss</td><td>█▃▂▁▁</td></tr><tr><td>val_accuracy</td><td>▁▅▇██</td></tr><tr><td>val_loss</td><td>█▄▂▁▁</td></tr></table><br/></div><div class=\"wandb-col\"><h3>Run summary:</h3><br/><table class=\"wandb\"><tr><td>epoch</td><td>5</td></tr><tr><td>loss_type</td><td>cross_entropy</td></tr><tr><td>train_loss</td><td>0.33927</td></tr><tr><td>val_accuracy</td><td>0.87275</td></tr><tr><td>val_loss</td><td>0.35463</td></tr></table><br/></div></div>"
            ]
          },
          "metadata": {}
        },
        {
          "output_type": "display_data",
          "data": {
            "text/plain": [
              "<IPython.core.display.HTML object>"
            ],
            "text/html": [
              " View run <strong style=\"color:#cdcd00\">dashing-sweep-31</strong> at: <a href='https://wandb.ai/ma23m021-iit-madras/MA23M021_A1_Q8_CROSS/runs/cr0gd541' target=\"_blank\">https://wandb.ai/ma23m021-iit-madras/MA23M021_A1_Q8_CROSS/runs/cr0gd541</a><br> View project at: <a href='https://wandb.ai/ma23m021-iit-madras/MA23M021_A1_Q8_CROSS' target=\"_blank\">https://wandb.ai/ma23m021-iit-madras/MA23M021_A1_Q8_CROSS</a><br>Synced 5 W&B file(s), 0 media file(s), 0 artifact file(s) and 0 other file(s)"
            ]
          },
          "metadata": {}
        },
        {
          "output_type": "display_data",
          "data": {
            "text/plain": [
              "<IPython.core.display.HTML object>"
            ],
            "text/html": [
              "Find logs at: <code>./wandb/run-20250309_135757-cr0gd541/logs</code>"
            ]
          },
          "metadata": {}
        },
        {
          "output_type": "stream",
          "name": "stderr",
          "text": [
            "\u001b[34m\u001b[1mwandb\u001b[0m: Agent Starting Run: lnz0ifth with config:\n",
            "\u001b[34m\u001b[1mwandb\u001b[0m: \tactivation_function: tanh\n",
            "\u001b[34m\u001b[1mwandb\u001b[0m: \tbatch_size: 16\n",
            "\u001b[34m\u001b[1mwandb\u001b[0m: \tepochs: 5\n",
            "\u001b[34m\u001b[1mwandb\u001b[0m: \thidden_layer_size: 128\n",
            "\u001b[34m\u001b[1mwandb\u001b[0m: \tlearningg_rate_: 0.001\n",
            "\u001b[34m\u001b[1mwandb\u001b[0m: \tloss_type: cross_entropy\n",
            "\u001b[34m\u001b[1mwandb\u001b[0m: \tnum_hidden_layers: 3\n",
            "\u001b[34m\u001b[1mwandb\u001b[0m: \toptimizer: nadam\n",
            "\u001b[34m\u001b[1mwandb\u001b[0m: \tweight_initialization: xavier\n"
          ]
        },
        {
          "output_type": "display_data",
          "data": {
            "text/plain": [
              "<IPython.core.display.HTML object>"
            ],
            "text/html": [
              "Ignoring project 'MA23M021_A1_Q8_CROSS' when running a sweep."
            ]
          },
          "metadata": {}
        },
        {
          "output_type": "display_data",
          "data": {
            "text/plain": [
              "<IPython.core.display.HTML object>"
            ],
            "text/html": [
              "Tracking run with wandb version 0.19.7"
            ]
          },
          "metadata": {}
        },
        {
          "output_type": "display_data",
          "data": {
            "text/plain": [
              "<IPython.core.display.HTML object>"
            ],
            "text/html": [
              "Run data is saved locally in <code>/content/wandb/run-20250309_135959-lnz0ifth</code>"
            ]
          },
          "metadata": {}
        },
        {
          "output_type": "display_data",
          "data": {
            "text/plain": [
              "<IPython.core.display.HTML object>"
            ],
            "text/html": [
              "Syncing run <strong><a href='https://wandb.ai/ma23m021-iit-madras/MA23M021_A1_Q8_CROSS/runs/lnz0ifth' target=\"_blank\">toasty-sweep-32</a></strong> to <a href='https://wandb.ai/ma23m021-iit-madras/MA23M021_A1_Q8_CROSS' target=\"_blank\">Weights & Biases</a> (<a href='https://wandb.me/developer-guide' target=\"_blank\">docs</a>)<br>Sweep page: <a href='https://wandb.ai/ma23m021-iit-madras/MA23M021_A1_Q8_CROSS/sweeps/64kuh29x' target=\"_blank\">https://wandb.ai/ma23m021-iit-madras/MA23M021_A1_Q8_CROSS/sweeps/64kuh29x</a>"
            ]
          },
          "metadata": {}
        },
        {
          "output_type": "display_data",
          "data": {
            "text/plain": [
              "<IPython.core.display.HTML object>"
            ],
            "text/html": [
              " View project at <a href='https://wandb.ai/ma23m021-iit-madras/MA23M021_A1_Q8_CROSS' target=\"_blank\">https://wandb.ai/ma23m021-iit-madras/MA23M021_A1_Q8_CROSS</a>"
            ]
          },
          "metadata": {}
        },
        {
          "output_type": "display_data",
          "data": {
            "text/plain": [
              "<IPython.core.display.HTML object>"
            ],
            "text/html": [
              " View sweep at <a href='https://wandb.ai/ma23m021-iit-madras/MA23M021_A1_Q8_CROSS/sweeps/64kuh29x' target=\"_blank\">https://wandb.ai/ma23m021-iit-madras/MA23M021_A1_Q8_CROSS/sweeps/64kuh29x</a>"
            ]
          },
          "metadata": {}
        },
        {
          "output_type": "display_data",
          "data": {
            "text/plain": [
              "<IPython.core.display.HTML object>"
            ],
            "text/html": [
              " View run at <a href='https://wandb.ai/ma23m021-iit-madras/MA23M021_A1_Q8_CROSS/runs/lnz0ifth' target=\"_blank\">https://wandb.ai/ma23m021-iit-madras/MA23M021_A1_Q8_CROSS/runs/lnz0ifth</a>"
            ]
          },
          "metadata": {}
        },
        {
          "output_type": "stream",
          "name": "stdout",
          "text": [
            "Epoch 1/5, cross_entropy - Train Loss: 0.6046, Val Loss: 0.4470, Val Accuracy: 0.8332\n",
            "Epoch 2/5, cross_entropy - Train Loss: 0.4001, Val Loss: 0.3871, Val Accuracy: 0.8581\n",
            "Epoch 3/5, cross_entropy - Train Loss: 0.3607, Val Loss: 0.3555, Val Accuracy: 0.8688\n",
            "Epoch 4/5, cross_entropy - Train Loss: 0.3391, Val Loss: 0.3457, Val Accuracy: 0.8752\n",
            "Epoch 5/5, cross_entropy - Train Loss: 0.3248, Val Loss: 0.3596, Val Accuracy: 0.8696\n"
          ]
        },
        {
          "output_type": "display_data",
          "data": {
            "text/plain": [
              "<IPython.core.display.HTML object>"
            ],
            "text/html": []
          },
          "metadata": {}
        },
        {
          "output_type": "display_data",
          "data": {
            "text/plain": [
              "<IPython.core.display.HTML object>"
            ],
            "text/html": [
              "<br>    <style><br>        .wandb-row {<br>            display: flex;<br>            flex-direction: row;<br>            flex-wrap: wrap;<br>            justify-content: flex-start;<br>            width: 100%;<br>        }<br>        .wandb-col {<br>            display: flex;<br>            flex-direction: column;<br>            flex-basis: 100%;<br>            flex: 1;<br>            padding: 10px;<br>        }<br>    </style><br><div class=\"wandb-row\"><div class=\"wandb-col\"><h3>Run history:</h3><br/><table class=\"wandb\"><tr><td>epoch</td><td>▁▃▅▆█</td></tr><tr><td>train_loss</td><td>█▃▂▁▁</td></tr><tr><td>val_accuracy</td><td>▁▅▇█▇</td></tr><tr><td>val_loss</td><td>█▄▂▁▂</td></tr></table><br/></div><div class=\"wandb-col\"><h3>Run summary:</h3><br/><table class=\"wandb\"><tr><td>epoch</td><td>5</td></tr><tr><td>loss_type</td><td>cross_entropy</td></tr><tr><td>train_loss</td><td>0.32477</td></tr><tr><td>val_accuracy</td><td>0.86958</td></tr><tr><td>val_loss</td><td>0.35963</td></tr></table><br/></div></div>"
            ]
          },
          "metadata": {}
        },
        {
          "output_type": "display_data",
          "data": {
            "text/plain": [
              "<IPython.core.display.HTML object>"
            ],
            "text/html": [
              " View run <strong style=\"color:#cdcd00\">toasty-sweep-32</strong> at: <a href='https://wandb.ai/ma23m021-iit-madras/MA23M021_A1_Q8_CROSS/runs/lnz0ifth' target=\"_blank\">https://wandb.ai/ma23m021-iit-madras/MA23M021_A1_Q8_CROSS/runs/lnz0ifth</a><br> View project at: <a href='https://wandb.ai/ma23m021-iit-madras/MA23M021_A1_Q8_CROSS' target=\"_blank\">https://wandb.ai/ma23m021-iit-madras/MA23M021_A1_Q8_CROSS</a><br>Synced 5 W&B file(s), 0 media file(s), 0 artifact file(s) and 0 other file(s)"
            ]
          },
          "metadata": {}
        },
        {
          "output_type": "display_data",
          "data": {
            "text/plain": [
              "<IPython.core.display.HTML object>"
            ],
            "text/html": [
              "Find logs at: <code>./wandb/run-20250309_135959-lnz0ifth/logs</code>"
            ]
          },
          "metadata": {}
        },
        {
          "output_type": "stream",
          "name": "stderr",
          "text": [
            "\u001b[34m\u001b[1mwandb\u001b[0m: Sweep Agent: Waiting for job.\n",
            "\u001b[34m\u001b[1mwandb\u001b[0m: Job received.\n",
            "\u001b[34m\u001b[1mwandb\u001b[0m: Agent Starting Run: jcvzv54f with config:\n",
            "\u001b[34m\u001b[1mwandb\u001b[0m: \tactivation_function: tanh\n",
            "\u001b[34m\u001b[1mwandb\u001b[0m: \tbatch_size: 16\n",
            "\u001b[34m\u001b[1mwandb\u001b[0m: \tepochs: 5\n",
            "\u001b[34m\u001b[1mwandb\u001b[0m: \thidden_layer_size: 128\n",
            "\u001b[34m\u001b[1mwandb\u001b[0m: \tlearningg_rate_: 0.001\n",
            "\u001b[34m\u001b[1mwandb\u001b[0m: \tloss_type: cross_entropy\n",
            "\u001b[34m\u001b[1mwandb\u001b[0m: \tnum_hidden_layers: 3\n",
            "\u001b[34m\u001b[1mwandb\u001b[0m: \toptimizer: nadam\n",
            "\u001b[34m\u001b[1mwandb\u001b[0m: \tweight_initialization: random\n"
          ]
        },
        {
          "output_type": "display_data",
          "data": {
            "text/plain": [
              "<IPython.core.display.HTML object>"
            ],
            "text/html": [
              "Ignoring project 'MA23M021_A1_Q8_CROSS' when running a sweep."
            ]
          },
          "metadata": {}
        },
        {
          "output_type": "display_data",
          "data": {
            "text/plain": [
              "<IPython.core.display.HTML object>"
            ],
            "text/html": [
              "Tracking run with wandb version 0.19.7"
            ]
          },
          "metadata": {}
        },
        {
          "output_type": "display_data",
          "data": {
            "text/plain": [
              "<IPython.core.display.HTML object>"
            ],
            "text/html": [
              "Run data is saved locally in <code>/content/wandb/run-20250309_140150-jcvzv54f</code>"
            ]
          },
          "metadata": {}
        },
        {
          "output_type": "display_data",
          "data": {
            "text/plain": [
              "<IPython.core.display.HTML object>"
            ],
            "text/html": [
              "Syncing run <strong><a href='https://wandb.ai/ma23m021-iit-madras/MA23M021_A1_Q8_CROSS/runs/jcvzv54f' target=\"_blank\">dauntless-sweep-33</a></strong> to <a href='https://wandb.ai/ma23m021-iit-madras/MA23M021_A1_Q8_CROSS' target=\"_blank\">Weights & Biases</a> (<a href='https://wandb.me/developer-guide' target=\"_blank\">docs</a>)<br>Sweep page: <a href='https://wandb.ai/ma23m021-iit-madras/MA23M021_A1_Q8_CROSS/sweeps/64kuh29x' target=\"_blank\">https://wandb.ai/ma23m021-iit-madras/MA23M021_A1_Q8_CROSS/sweeps/64kuh29x</a>"
            ]
          },
          "metadata": {}
        },
        {
          "output_type": "display_data",
          "data": {
            "text/plain": [
              "<IPython.core.display.HTML object>"
            ],
            "text/html": [
              " View project at <a href='https://wandb.ai/ma23m021-iit-madras/MA23M021_A1_Q8_CROSS' target=\"_blank\">https://wandb.ai/ma23m021-iit-madras/MA23M021_A1_Q8_CROSS</a>"
            ]
          },
          "metadata": {}
        },
        {
          "output_type": "display_data",
          "data": {
            "text/plain": [
              "<IPython.core.display.HTML object>"
            ],
            "text/html": [
              " View sweep at <a href='https://wandb.ai/ma23m021-iit-madras/MA23M021_A1_Q8_CROSS/sweeps/64kuh29x' target=\"_blank\">https://wandb.ai/ma23m021-iit-madras/MA23M021_A1_Q8_CROSS/sweeps/64kuh29x</a>"
            ]
          },
          "metadata": {}
        },
        {
          "output_type": "display_data",
          "data": {
            "text/plain": [
              "<IPython.core.display.HTML object>"
            ],
            "text/html": [
              " View run at <a href='https://wandb.ai/ma23m021-iit-madras/MA23M021_A1_Q8_CROSS/runs/jcvzv54f' target=\"_blank\">https://wandb.ai/ma23m021-iit-madras/MA23M021_A1_Q8_CROSS/runs/jcvzv54f</a>"
            ]
          },
          "metadata": {}
        },
        {
          "output_type": "stream",
          "name": "stdout",
          "text": [
            "Epoch 1/5, cross_entropy - Train Loss: 1.0298, Val Loss: 0.6531, Val Accuracy: 0.7649\n",
            "Epoch 2/5, cross_entropy - Train Loss: 0.5027, Val Loss: 0.4530, Val Accuracy: 0.8398\n",
            "Epoch 3/5, cross_entropy - Train Loss: 0.4205, Val Loss: 0.4012, Val Accuracy: 0.8542\n",
            "Epoch 4/5, cross_entropy - Train Loss: 0.3832, Val Loss: 0.3712, Val Accuracy: 0.8681\n",
            "Epoch 5/5, cross_entropy - Train Loss: 0.3607, Val Loss: 0.3697, Val Accuracy: 0.8625\n"
          ]
        },
        {
          "output_type": "display_data",
          "data": {
            "text/plain": [
              "<IPython.core.display.HTML object>"
            ],
            "text/html": []
          },
          "metadata": {}
        },
        {
          "output_type": "display_data",
          "data": {
            "text/plain": [
              "<IPython.core.display.HTML object>"
            ],
            "text/html": [
              "<br>    <style><br>        .wandb-row {<br>            display: flex;<br>            flex-direction: row;<br>            flex-wrap: wrap;<br>            justify-content: flex-start;<br>            width: 100%;<br>        }<br>        .wandb-col {<br>            display: flex;<br>            flex-direction: column;<br>            flex-basis: 100%;<br>            flex: 1;<br>            padding: 10px;<br>        }<br>    </style><br><div class=\"wandb-row\"><div class=\"wandb-col\"><h3>Run history:</h3><br/><table class=\"wandb\"><tr><td>epoch</td><td>▁▃▅▆█</td></tr><tr><td>train_loss</td><td>█▂▂▁▁</td></tr><tr><td>val_accuracy</td><td>▁▆▇██</td></tr><tr><td>val_loss</td><td>█▃▂▁▁</td></tr></table><br/></div><div class=\"wandb-col\"><h3>Run summary:</h3><br/><table class=\"wandb\"><tr><td>epoch</td><td>5</td></tr><tr><td>loss_type</td><td>cross_entropy</td></tr><tr><td>train_loss</td><td>0.36074</td></tr><tr><td>val_accuracy</td><td>0.8625</td></tr><tr><td>val_loss</td><td>0.36968</td></tr></table><br/></div></div>"
            ]
          },
          "metadata": {}
        },
        {
          "output_type": "display_data",
          "data": {
            "text/plain": [
              "<IPython.core.display.HTML object>"
            ],
            "text/html": [
              " View run <strong style=\"color:#cdcd00\">dauntless-sweep-33</strong> at: <a href='https://wandb.ai/ma23m021-iit-madras/MA23M021_A1_Q8_CROSS/runs/jcvzv54f' target=\"_blank\">https://wandb.ai/ma23m021-iit-madras/MA23M021_A1_Q8_CROSS/runs/jcvzv54f</a><br> View project at: <a href='https://wandb.ai/ma23m021-iit-madras/MA23M021_A1_Q8_CROSS' target=\"_blank\">https://wandb.ai/ma23m021-iit-madras/MA23M021_A1_Q8_CROSS</a><br>Synced 5 W&B file(s), 0 media file(s), 0 artifact file(s) and 0 other file(s)"
            ]
          },
          "metadata": {}
        },
        {
          "output_type": "display_data",
          "data": {
            "text/plain": [
              "<IPython.core.display.HTML object>"
            ],
            "text/html": [
              "Find logs at: <code>./wandb/run-20250309_140150-jcvzv54f/logs</code>"
            ]
          },
          "metadata": {}
        },
        {
          "output_type": "stream",
          "name": "stderr",
          "text": [
            "\u001b[34m\u001b[1mwandb\u001b[0m: Agent Starting Run: hrp1wq4i with config:\n",
            "\u001b[34m\u001b[1mwandb\u001b[0m: \tactivation_function: tanh\n",
            "\u001b[34m\u001b[1mwandb\u001b[0m: \tbatch_size: 16\n",
            "\u001b[34m\u001b[1mwandb\u001b[0m: \tepochs: 5\n",
            "\u001b[34m\u001b[1mwandb\u001b[0m: \thidden_layer_size: 32\n",
            "\u001b[34m\u001b[1mwandb\u001b[0m: \tlearningg_rate_: 0.001\n",
            "\u001b[34m\u001b[1mwandb\u001b[0m: \tloss_type: cross_entropy\n",
            "\u001b[34m\u001b[1mwandb\u001b[0m: \tnum_hidden_layers: 3\n",
            "\u001b[34m\u001b[1mwandb\u001b[0m: \toptimizer: nadam\n",
            "\u001b[34m\u001b[1mwandb\u001b[0m: \tweight_initialization: xavier\n"
          ]
        },
        {
          "output_type": "display_data",
          "data": {
            "text/plain": [
              "<IPython.core.display.HTML object>"
            ],
            "text/html": [
              "Ignoring project 'MA23M021_A1_Q8_CROSS' when running a sweep."
            ]
          },
          "metadata": {}
        },
        {
          "output_type": "display_data",
          "data": {
            "text/plain": [
              "<IPython.core.display.HTML object>"
            ],
            "text/html": [
              "Tracking run with wandb version 0.19.7"
            ]
          },
          "metadata": {}
        },
        {
          "output_type": "display_data",
          "data": {
            "text/plain": [
              "<IPython.core.display.HTML object>"
            ],
            "text/html": [
              "Run data is saved locally in <code>/content/wandb/run-20250309_140332-hrp1wq4i</code>"
            ]
          },
          "metadata": {}
        },
        {
          "output_type": "display_data",
          "data": {
            "text/plain": [
              "<IPython.core.display.HTML object>"
            ],
            "text/html": [
              "Syncing run <strong><a href='https://wandb.ai/ma23m021-iit-madras/MA23M021_A1_Q8_CROSS/runs/hrp1wq4i' target=\"_blank\">summer-sweep-34</a></strong> to <a href='https://wandb.ai/ma23m021-iit-madras/MA23M021_A1_Q8_CROSS' target=\"_blank\">Weights & Biases</a> (<a href='https://wandb.me/developer-guide' target=\"_blank\">docs</a>)<br>Sweep page: <a href='https://wandb.ai/ma23m021-iit-madras/MA23M021_A1_Q8_CROSS/sweeps/64kuh29x' target=\"_blank\">https://wandb.ai/ma23m021-iit-madras/MA23M021_A1_Q8_CROSS/sweeps/64kuh29x</a>"
            ]
          },
          "metadata": {}
        },
        {
          "output_type": "display_data",
          "data": {
            "text/plain": [
              "<IPython.core.display.HTML object>"
            ],
            "text/html": [
              " View project at <a href='https://wandb.ai/ma23m021-iit-madras/MA23M021_A1_Q8_CROSS' target=\"_blank\">https://wandb.ai/ma23m021-iit-madras/MA23M021_A1_Q8_CROSS</a>"
            ]
          },
          "metadata": {}
        },
        {
          "output_type": "display_data",
          "data": {
            "text/plain": [
              "<IPython.core.display.HTML object>"
            ],
            "text/html": [
              " View sweep at <a href='https://wandb.ai/ma23m021-iit-madras/MA23M021_A1_Q8_CROSS/sweeps/64kuh29x' target=\"_blank\">https://wandb.ai/ma23m021-iit-madras/MA23M021_A1_Q8_CROSS/sweeps/64kuh29x</a>"
            ]
          },
          "metadata": {}
        },
        {
          "output_type": "display_data",
          "data": {
            "text/plain": [
              "<IPython.core.display.HTML object>"
            ],
            "text/html": [
              " View run at <a href='https://wandb.ai/ma23m021-iit-madras/MA23M021_A1_Q8_CROSS/runs/hrp1wq4i' target=\"_blank\">https://wandb.ai/ma23m021-iit-madras/MA23M021_A1_Q8_CROSS/runs/hrp1wq4i</a>"
            ]
          },
          "metadata": {}
        },
        {
          "output_type": "stream",
          "name": "stdout",
          "text": [
            "Epoch 1/5, cross_entropy - Train Loss: 0.9283, Val Loss: 0.5032, Val Accuracy: 0.8373\n",
            "Epoch 2/5, cross_entropy - Train Loss: 0.4460, Val Loss: 0.4221, Val Accuracy: 0.8535\n",
            "Epoch 3/5, cross_entropy - Train Loss: 0.3902, Val Loss: 0.3855, Val Accuracy: 0.8619\n",
            "Epoch 4/5, cross_entropy - Train Loss: 0.3650, Val Loss: 0.3746, Val Accuracy: 0.8650\n",
            "Epoch 5/5, cross_entropy - Train Loss: 0.3472, Val Loss: 0.3980, Val Accuracy: 0.8624\n"
          ]
        },
        {
          "output_type": "display_data",
          "data": {
            "text/plain": [
              "<IPython.core.display.HTML object>"
            ],
            "text/html": []
          },
          "metadata": {}
        },
        {
          "output_type": "display_data",
          "data": {
            "text/plain": [
              "<IPython.core.display.HTML object>"
            ],
            "text/html": [
              "<br>    <style><br>        .wandb-row {<br>            display: flex;<br>            flex-direction: row;<br>            flex-wrap: wrap;<br>            justify-content: flex-start;<br>            width: 100%;<br>        }<br>        .wandb-col {<br>            display: flex;<br>            flex-direction: column;<br>            flex-basis: 100%;<br>            flex: 1;<br>            padding: 10px;<br>        }<br>    </style><br><div class=\"wandb-row\"><div class=\"wandb-col\"><h3>Run history:</h3><br/><table class=\"wandb\"><tr><td>epoch</td><td>▁▃▅▆█</td></tr><tr><td>train_loss</td><td>█▂▂▁▁</td></tr><tr><td>val_accuracy</td><td>▁▅▇█▇</td></tr><tr><td>val_loss</td><td>█▄▂▁▂</td></tr></table><br/></div><div class=\"wandb-col\"><h3>Run summary:</h3><br/><table class=\"wandb\"><tr><td>epoch</td><td>5</td></tr><tr><td>loss_type</td><td>cross_entropy</td></tr><tr><td>train_loss</td><td>0.34717</td></tr><tr><td>val_accuracy</td><td>0.86242</td></tr><tr><td>val_loss</td><td>0.39802</td></tr></table><br/></div></div>"
            ]
          },
          "metadata": {}
        },
        {
          "output_type": "display_data",
          "data": {
            "text/plain": [
              "<IPython.core.display.HTML object>"
            ],
            "text/html": [
              " View run <strong style=\"color:#cdcd00\">summer-sweep-34</strong> at: <a href='https://wandb.ai/ma23m021-iit-madras/MA23M021_A1_Q8_CROSS/runs/hrp1wq4i' target=\"_blank\">https://wandb.ai/ma23m021-iit-madras/MA23M021_A1_Q8_CROSS/runs/hrp1wq4i</a><br> View project at: <a href='https://wandb.ai/ma23m021-iit-madras/MA23M021_A1_Q8_CROSS' target=\"_blank\">https://wandb.ai/ma23m021-iit-madras/MA23M021_A1_Q8_CROSS</a><br>Synced 5 W&B file(s), 0 media file(s), 0 artifact file(s) and 0 other file(s)"
            ]
          },
          "metadata": {}
        },
        {
          "output_type": "display_data",
          "data": {
            "text/plain": [
              "<IPython.core.display.HTML object>"
            ],
            "text/html": [
              "Find logs at: <code>./wandb/run-20250309_140332-hrp1wq4i/logs</code>"
            ]
          },
          "metadata": {}
        },
        {
          "output_type": "stream",
          "name": "stderr",
          "text": [
            "\u001b[34m\u001b[1mwandb\u001b[0m: Agent Starting Run: tijirn2o with config:\n",
            "\u001b[34m\u001b[1mwandb\u001b[0m: \tactivation_function: tanh\n",
            "\u001b[34m\u001b[1mwandb\u001b[0m: \tbatch_size: 16\n",
            "\u001b[34m\u001b[1mwandb\u001b[0m: \tepochs: 5\n",
            "\u001b[34m\u001b[1mwandb\u001b[0m: \thidden_layer_size: 32\n",
            "\u001b[34m\u001b[1mwandb\u001b[0m: \tlearningg_rate_: 0.001\n",
            "\u001b[34m\u001b[1mwandb\u001b[0m: \tloss_type: cross_entropy\n",
            "\u001b[34m\u001b[1mwandb\u001b[0m: \tnum_hidden_layers: 3\n",
            "\u001b[34m\u001b[1mwandb\u001b[0m: \toptimizer: nadam\n",
            "\u001b[34m\u001b[1mwandb\u001b[0m: \tweight_initialization: xavier\n"
          ]
        },
        {
          "output_type": "display_data",
          "data": {
            "text/plain": [
              "<IPython.core.display.HTML object>"
            ],
            "text/html": [
              "Ignoring project 'MA23M021_A1_Q8_CROSS' when running a sweep."
            ]
          },
          "metadata": {}
        },
        {
          "output_type": "display_data",
          "data": {
            "text/plain": [
              "<IPython.core.display.HTML object>"
            ],
            "text/html": [
              "Tracking run with wandb version 0.19.7"
            ]
          },
          "metadata": {}
        },
        {
          "output_type": "display_data",
          "data": {
            "text/plain": [
              "<IPython.core.display.HTML object>"
            ],
            "text/html": [
              "Run data is saved locally in <code>/content/wandb/run-20250309_140408-tijirn2o</code>"
            ]
          },
          "metadata": {}
        },
        {
          "output_type": "display_data",
          "data": {
            "text/plain": [
              "<IPython.core.display.HTML object>"
            ],
            "text/html": [
              "Syncing run <strong><a href='https://wandb.ai/ma23m021-iit-madras/MA23M021_A1_Q8_CROSS/runs/tijirn2o' target=\"_blank\">clean-sweep-35</a></strong> to <a href='https://wandb.ai/ma23m021-iit-madras/MA23M021_A1_Q8_CROSS' target=\"_blank\">Weights & Biases</a> (<a href='https://wandb.me/developer-guide' target=\"_blank\">docs</a>)<br>Sweep page: <a href='https://wandb.ai/ma23m021-iit-madras/MA23M021_A1_Q8_CROSS/sweeps/64kuh29x' target=\"_blank\">https://wandb.ai/ma23m021-iit-madras/MA23M021_A1_Q8_CROSS/sweeps/64kuh29x</a>"
            ]
          },
          "metadata": {}
        },
        {
          "output_type": "display_data",
          "data": {
            "text/plain": [
              "<IPython.core.display.HTML object>"
            ],
            "text/html": [
              " View project at <a href='https://wandb.ai/ma23m021-iit-madras/MA23M021_A1_Q8_CROSS' target=\"_blank\">https://wandb.ai/ma23m021-iit-madras/MA23M021_A1_Q8_CROSS</a>"
            ]
          },
          "metadata": {}
        },
        {
          "output_type": "display_data",
          "data": {
            "text/plain": [
              "<IPython.core.display.HTML object>"
            ],
            "text/html": [
              " View sweep at <a href='https://wandb.ai/ma23m021-iit-madras/MA23M021_A1_Q8_CROSS/sweeps/64kuh29x' target=\"_blank\">https://wandb.ai/ma23m021-iit-madras/MA23M021_A1_Q8_CROSS/sweeps/64kuh29x</a>"
            ]
          },
          "metadata": {}
        },
        {
          "output_type": "display_data",
          "data": {
            "text/plain": [
              "<IPython.core.display.HTML object>"
            ],
            "text/html": [
              " View run at <a href='https://wandb.ai/ma23m021-iit-madras/MA23M021_A1_Q8_CROSS/runs/tijirn2o' target=\"_blank\">https://wandb.ai/ma23m021-iit-madras/MA23M021_A1_Q8_CROSS/runs/tijirn2o</a>"
            ]
          },
          "metadata": {}
        },
        {
          "output_type": "stream",
          "name": "stdout",
          "text": [
            "Epoch 1/5, cross_entropy - Train Loss: 0.9383, Val Loss: 0.5326, Val Accuracy: 0.8158\n",
            "Epoch 2/5, cross_entropy - Train Loss: 0.4606, Val Loss: 0.4262, Val Accuracy: 0.8501\n",
            "Epoch 3/5, cross_entropy - Train Loss: 0.3987, Val Loss: 0.3924, Val Accuracy: 0.8611\n",
            "Epoch 4/5, cross_entropy - Train Loss: 0.3699, Val Loss: 0.3680, Val Accuracy: 0.8686\n",
            "Epoch 5/5, cross_entropy - Train Loss: 0.3510, Val Loss: 0.3679, Val Accuracy: 0.8723\n"
          ]
        },
        {
          "output_type": "display_data",
          "data": {
            "text/plain": [
              "<IPython.core.display.HTML object>"
            ],
            "text/html": []
          },
          "metadata": {}
        },
        {
          "output_type": "display_data",
          "data": {
            "text/plain": [
              "<IPython.core.display.HTML object>"
            ],
            "text/html": [
              "<br>    <style><br>        .wandb-row {<br>            display: flex;<br>            flex-direction: row;<br>            flex-wrap: wrap;<br>            justify-content: flex-start;<br>            width: 100%;<br>        }<br>        .wandb-col {<br>            display: flex;<br>            flex-direction: column;<br>            flex-basis: 100%;<br>            flex: 1;<br>            padding: 10px;<br>        }<br>    </style><br><div class=\"wandb-row\"><div class=\"wandb-col\"><h3>Run history:</h3><br/><table class=\"wandb\"><tr><td>epoch</td><td>▁▃▅▆█</td></tr><tr><td>train_loss</td><td>█▂▂▁▁</td></tr><tr><td>val_accuracy</td><td>▁▅▇██</td></tr><tr><td>val_loss</td><td>█▃▂▁▁</td></tr></table><br/></div><div class=\"wandb-col\"><h3>Run summary:</h3><br/><table class=\"wandb\"><tr><td>epoch</td><td>5</td></tr><tr><td>loss_type</td><td>cross_entropy</td></tr><tr><td>train_loss</td><td>0.35097</td></tr><tr><td>val_accuracy</td><td>0.87233</td></tr><tr><td>val_loss</td><td>0.36788</td></tr></table><br/></div></div>"
            ]
          },
          "metadata": {}
        },
        {
          "output_type": "display_data",
          "data": {
            "text/plain": [
              "<IPython.core.display.HTML object>"
            ],
            "text/html": [
              " View run <strong style=\"color:#cdcd00\">clean-sweep-35</strong> at: <a href='https://wandb.ai/ma23m021-iit-madras/MA23M021_A1_Q8_CROSS/runs/tijirn2o' target=\"_blank\">https://wandb.ai/ma23m021-iit-madras/MA23M021_A1_Q8_CROSS/runs/tijirn2o</a><br> View project at: <a href='https://wandb.ai/ma23m021-iit-madras/MA23M021_A1_Q8_CROSS' target=\"_blank\">https://wandb.ai/ma23m021-iit-madras/MA23M021_A1_Q8_CROSS</a><br>Synced 5 W&B file(s), 0 media file(s), 0 artifact file(s) and 0 other file(s)"
            ]
          },
          "metadata": {}
        },
        {
          "output_type": "display_data",
          "data": {
            "text/plain": [
              "<IPython.core.display.HTML object>"
            ],
            "text/html": [
              "Find logs at: <code>./wandb/run-20250309_140408-tijirn2o/logs</code>"
            ]
          },
          "metadata": {}
        },
        {
          "output_type": "stream",
          "name": "stderr",
          "text": [
            "\u001b[34m\u001b[1mwandb\u001b[0m: Agent Starting Run: t5z4l8s7 with config:\n",
            "\u001b[34m\u001b[1mwandb\u001b[0m: \tactivation_function: tanh\n",
            "\u001b[34m\u001b[1mwandb\u001b[0m: \tbatch_size: 16\n",
            "\u001b[34m\u001b[1mwandb\u001b[0m: \tepochs: 5\n",
            "\u001b[34m\u001b[1mwandb\u001b[0m: \thidden_layer_size: 32\n",
            "\u001b[34m\u001b[1mwandb\u001b[0m: \tlearningg_rate_: 0.001\n",
            "\u001b[34m\u001b[1mwandb\u001b[0m: \tloss_type: cross_entropy\n",
            "\u001b[34m\u001b[1mwandb\u001b[0m: \tnum_hidden_layers: 3\n",
            "\u001b[34m\u001b[1mwandb\u001b[0m: \toptimizer: nadam\n",
            "\u001b[34m\u001b[1mwandb\u001b[0m: \tweight_initialization: random\n"
          ]
        },
        {
          "output_type": "display_data",
          "data": {
            "text/plain": [
              "<IPython.core.display.HTML object>"
            ],
            "text/html": [
              "Ignoring project 'MA23M021_A1_Q8_CROSS' when running a sweep."
            ]
          },
          "metadata": {}
        },
        {
          "output_type": "display_data",
          "data": {
            "text/plain": [
              "<IPython.core.display.HTML object>"
            ],
            "text/html": [
              "Tracking run with wandb version 0.19.7"
            ]
          },
          "metadata": {}
        },
        {
          "output_type": "display_data",
          "data": {
            "text/plain": [
              "<IPython.core.display.HTML object>"
            ],
            "text/html": [
              "Run data is saved locally in <code>/content/wandb/run-20250309_140449-t5z4l8s7</code>"
            ]
          },
          "metadata": {}
        },
        {
          "output_type": "display_data",
          "data": {
            "text/plain": [
              "<IPython.core.display.HTML object>"
            ],
            "text/html": [
              "Syncing run <strong><a href='https://wandb.ai/ma23m021-iit-madras/MA23M021_A1_Q8_CROSS/runs/t5z4l8s7' target=\"_blank\">noble-sweep-36</a></strong> to <a href='https://wandb.ai/ma23m021-iit-madras/MA23M021_A1_Q8_CROSS' target=\"_blank\">Weights & Biases</a> (<a href='https://wandb.me/developer-guide' target=\"_blank\">docs</a>)<br>Sweep page: <a href='https://wandb.ai/ma23m021-iit-madras/MA23M021_A1_Q8_CROSS/sweeps/64kuh29x' target=\"_blank\">https://wandb.ai/ma23m021-iit-madras/MA23M021_A1_Q8_CROSS/sweeps/64kuh29x</a>"
            ]
          },
          "metadata": {}
        },
        {
          "output_type": "display_data",
          "data": {
            "text/plain": [
              "<IPython.core.display.HTML object>"
            ],
            "text/html": [
              " View project at <a href='https://wandb.ai/ma23m021-iit-madras/MA23M021_A1_Q8_CROSS' target=\"_blank\">https://wandb.ai/ma23m021-iit-madras/MA23M021_A1_Q8_CROSS</a>"
            ]
          },
          "metadata": {}
        },
        {
          "output_type": "display_data",
          "data": {
            "text/plain": [
              "<IPython.core.display.HTML object>"
            ],
            "text/html": [
              " View sweep at <a href='https://wandb.ai/ma23m021-iit-madras/MA23M021_A1_Q8_CROSS/sweeps/64kuh29x' target=\"_blank\">https://wandb.ai/ma23m021-iit-madras/MA23M021_A1_Q8_CROSS/sweeps/64kuh29x</a>"
            ]
          },
          "metadata": {}
        },
        {
          "output_type": "display_data",
          "data": {
            "text/plain": [
              "<IPython.core.display.HTML object>"
            ],
            "text/html": [
              " View run at <a href='https://wandb.ai/ma23m021-iit-madras/MA23M021_A1_Q8_CROSS/runs/t5z4l8s7' target=\"_blank\">https://wandb.ai/ma23m021-iit-madras/MA23M021_A1_Q8_CROSS/runs/t5z4l8s7</a>"
            ]
          },
          "metadata": {}
        },
        {
          "output_type": "stream",
          "name": "stdout",
          "text": [
            "Epoch 1/5, cross_entropy - Train Loss: 1.5878, Val Loss: 1.2286, Val Accuracy: 0.4472\n",
            "Epoch 2/5, cross_entropy - Train Loss: 1.0524, Val Loss: 0.8959, Val Accuracy: 0.6703\n",
            "Epoch 3/5, cross_entropy - Train Loss: 0.8049, Val Loss: 0.7574, Val Accuracy: 0.7174\n",
            "Epoch 4/5, cross_entropy - Train Loss: 0.6907, Val Loss: 0.7020, Val Accuracy: 0.7202\n",
            "Epoch 5/5, cross_entropy - Train Loss: 0.6031, Val Loss: 0.5732, Val Accuracy: 0.8102\n"
          ]
        },
        {
          "output_type": "display_data",
          "data": {
            "text/plain": [
              "<IPython.core.display.HTML object>"
            ],
            "text/html": []
          },
          "metadata": {}
        },
        {
          "output_type": "display_data",
          "data": {
            "text/plain": [
              "<IPython.core.display.HTML object>"
            ],
            "text/html": [
              "<br>    <style><br>        .wandb-row {<br>            display: flex;<br>            flex-direction: row;<br>            flex-wrap: wrap;<br>            justify-content: flex-start;<br>            width: 100%;<br>        }<br>        .wandb-col {<br>            display: flex;<br>            flex-direction: column;<br>            flex-basis: 100%;<br>            flex: 1;<br>            padding: 10px;<br>        }<br>    </style><br><div class=\"wandb-row\"><div class=\"wandb-col\"><h3>Run history:</h3><br/><table class=\"wandb\"><tr><td>epoch</td><td>▁▃▅▆█</td></tr><tr><td>train_loss</td><td>█▄▂▂▁</td></tr><tr><td>val_accuracy</td><td>▁▅▆▆█</td></tr><tr><td>val_loss</td><td>█▄▃▂▁</td></tr></table><br/></div><div class=\"wandb-col\"><h3>Run summary:</h3><br/><table class=\"wandb\"><tr><td>epoch</td><td>5</td></tr><tr><td>loss_type</td><td>cross_entropy</td></tr><tr><td>train_loss</td><td>0.60308</td></tr><tr><td>val_accuracy</td><td>0.81017</td></tr><tr><td>val_loss</td><td>0.5732</td></tr></table><br/></div></div>"
            ]
          },
          "metadata": {}
        },
        {
          "output_type": "display_data",
          "data": {
            "text/plain": [
              "<IPython.core.display.HTML object>"
            ],
            "text/html": [
              " View run <strong style=\"color:#cdcd00\">noble-sweep-36</strong> at: <a href='https://wandb.ai/ma23m021-iit-madras/MA23M021_A1_Q8_CROSS/runs/t5z4l8s7' target=\"_blank\">https://wandb.ai/ma23m021-iit-madras/MA23M021_A1_Q8_CROSS/runs/t5z4l8s7</a><br> View project at: <a href='https://wandb.ai/ma23m021-iit-madras/MA23M021_A1_Q8_CROSS' target=\"_blank\">https://wandb.ai/ma23m021-iit-madras/MA23M021_A1_Q8_CROSS</a><br>Synced 5 W&B file(s), 0 media file(s), 0 artifact file(s) and 0 other file(s)"
            ]
          },
          "metadata": {}
        },
        {
          "output_type": "display_data",
          "data": {
            "text/plain": [
              "<IPython.core.display.HTML object>"
            ],
            "text/html": [
              "Find logs at: <code>./wandb/run-20250309_140449-t5z4l8s7/logs</code>"
            ]
          },
          "metadata": {}
        },
        {
          "output_type": "stream",
          "name": "stderr",
          "text": [
            "\u001b[34m\u001b[1mwandb\u001b[0m: Agent Starting Run: nhzeynav with config:\n",
            "\u001b[34m\u001b[1mwandb\u001b[0m: \tactivation_function: tanh\n",
            "\u001b[34m\u001b[1mwandb\u001b[0m: \tbatch_size: 16\n",
            "\u001b[34m\u001b[1mwandb\u001b[0m: \tepochs: 5\n",
            "\u001b[34m\u001b[1mwandb\u001b[0m: \thidden_layer_size: 32\n",
            "\u001b[34m\u001b[1mwandb\u001b[0m: \tlearningg_rate_: 0.001\n",
            "\u001b[34m\u001b[1mwandb\u001b[0m: \tloss_type: cross_entropy\n",
            "\u001b[34m\u001b[1mwandb\u001b[0m: \tnum_hidden_layers: 3\n",
            "\u001b[34m\u001b[1mwandb\u001b[0m: \toptimizer: rmsprop\n",
            "\u001b[34m\u001b[1mwandb\u001b[0m: \tweight_initialization: xavier\n"
          ]
        },
        {
          "output_type": "display_data",
          "data": {
            "text/plain": [
              "<IPython.core.display.HTML object>"
            ],
            "text/html": [
              "Ignoring project 'MA23M021_A1_Q8_CROSS' when running a sweep."
            ]
          },
          "metadata": {}
        },
        {
          "output_type": "display_data",
          "data": {
            "text/plain": [
              "<IPython.core.display.HTML object>"
            ],
            "text/html": [
              "Tracking run with wandb version 0.19.7"
            ]
          },
          "metadata": {}
        },
        {
          "output_type": "display_data",
          "data": {
            "text/plain": [
              "<IPython.core.display.HTML object>"
            ],
            "text/html": [
              "Run data is saved locally in <code>/content/wandb/run-20250309_140530-nhzeynav</code>"
            ]
          },
          "metadata": {}
        },
        {
          "output_type": "display_data",
          "data": {
            "text/plain": [
              "<IPython.core.display.HTML object>"
            ],
            "text/html": [
              "Syncing run <strong><a href='https://wandb.ai/ma23m021-iit-madras/MA23M021_A1_Q8_CROSS/runs/nhzeynav' target=\"_blank\">treasured-sweep-37</a></strong> to <a href='https://wandb.ai/ma23m021-iit-madras/MA23M021_A1_Q8_CROSS' target=\"_blank\">Weights & Biases</a> (<a href='https://wandb.me/developer-guide' target=\"_blank\">docs</a>)<br>Sweep page: <a href='https://wandb.ai/ma23m021-iit-madras/MA23M021_A1_Q8_CROSS/sweeps/64kuh29x' target=\"_blank\">https://wandb.ai/ma23m021-iit-madras/MA23M021_A1_Q8_CROSS/sweeps/64kuh29x</a>"
            ]
          },
          "metadata": {}
        },
        {
          "output_type": "display_data",
          "data": {
            "text/plain": [
              "<IPython.core.display.HTML object>"
            ],
            "text/html": [
              " View project at <a href='https://wandb.ai/ma23m021-iit-madras/MA23M021_A1_Q8_CROSS' target=\"_blank\">https://wandb.ai/ma23m021-iit-madras/MA23M021_A1_Q8_CROSS</a>"
            ]
          },
          "metadata": {}
        },
        {
          "output_type": "display_data",
          "data": {
            "text/plain": [
              "<IPython.core.display.HTML object>"
            ],
            "text/html": [
              " View sweep at <a href='https://wandb.ai/ma23m021-iit-madras/MA23M021_A1_Q8_CROSS/sweeps/64kuh29x' target=\"_blank\">https://wandb.ai/ma23m021-iit-madras/MA23M021_A1_Q8_CROSS/sweeps/64kuh29x</a>"
            ]
          },
          "metadata": {}
        },
        {
          "output_type": "display_data",
          "data": {
            "text/plain": [
              "<IPython.core.display.HTML object>"
            ],
            "text/html": [
              " View run at <a href='https://wandb.ai/ma23m021-iit-madras/MA23M021_A1_Q8_CROSS/runs/nhzeynav' target=\"_blank\">https://wandb.ai/ma23m021-iit-madras/MA23M021_A1_Q8_CROSS/runs/nhzeynav</a>"
            ]
          },
          "metadata": {}
        },
        {
          "output_type": "stream",
          "name": "stdout",
          "text": [
            "Epoch 1/5, cross_entropy - Train Loss: 0.9040, Val Loss: 0.5476, Val Accuracy: 0.7921\n",
            "Epoch 2/5, cross_entropy - Train Loss: 0.4873, Val Loss: 0.4574, Val Accuracy: 0.8362\n",
            "Epoch 3/5, cross_entropy - Train Loss: 0.4237, Val Loss: 0.4110, Val Accuracy: 0.8557\n",
            "Epoch 4/5, cross_entropy - Train Loss: 0.3922, Val Loss: 0.3984, Val Accuracy: 0.8597\n",
            "Epoch 5/5, cross_entropy - Train Loss: 0.3732, Val Loss: 0.3912, Val Accuracy: 0.8633\n"
          ]
        },
        {
          "output_type": "display_data",
          "data": {
            "text/plain": [
              "<IPython.core.display.HTML object>"
            ],
            "text/html": []
          },
          "metadata": {}
        },
        {
          "output_type": "display_data",
          "data": {
            "text/plain": [
              "<IPython.core.display.HTML object>"
            ],
            "text/html": [
              "<br>    <style><br>        .wandb-row {<br>            display: flex;<br>            flex-direction: row;<br>            flex-wrap: wrap;<br>            justify-content: flex-start;<br>            width: 100%;<br>        }<br>        .wandb-col {<br>            display: flex;<br>            flex-direction: column;<br>            flex-basis: 100%;<br>            flex: 1;<br>            padding: 10px;<br>        }<br>    </style><br><div class=\"wandb-row\"><div class=\"wandb-col\"><h3>Run history:</h3><br/><table class=\"wandb\"><tr><td>epoch</td><td>▁▃▅▆█</td></tr><tr><td>train_loss</td><td>█▃▂▁▁</td></tr><tr><td>val_accuracy</td><td>▁▅▇██</td></tr><tr><td>val_loss</td><td>█▄▂▁▁</td></tr></table><br/></div><div class=\"wandb-col\"><h3>Run summary:</h3><br/><table class=\"wandb\"><tr><td>epoch</td><td>5</td></tr><tr><td>loss_type</td><td>cross_entropy</td></tr><tr><td>train_loss</td><td>0.37321</td></tr><tr><td>val_accuracy</td><td>0.86333</td></tr><tr><td>val_loss</td><td>0.39123</td></tr></table><br/></div></div>"
            ]
          },
          "metadata": {}
        },
        {
          "output_type": "display_data",
          "data": {
            "text/plain": [
              "<IPython.core.display.HTML object>"
            ],
            "text/html": [
              " View run <strong style=\"color:#cdcd00\">treasured-sweep-37</strong> at: <a href='https://wandb.ai/ma23m021-iit-madras/MA23M021_A1_Q8_CROSS/runs/nhzeynav' target=\"_blank\">https://wandb.ai/ma23m021-iit-madras/MA23M021_A1_Q8_CROSS/runs/nhzeynav</a><br> View project at: <a href='https://wandb.ai/ma23m021-iit-madras/MA23M021_A1_Q8_CROSS' target=\"_blank\">https://wandb.ai/ma23m021-iit-madras/MA23M021_A1_Q8_CROSS</a><br>Synced 5 W&B file(s), 0 media file(s), 0 artifact file(s) and 0 other file(s)"
            ]
          },
          "metadata": {}
        },
        {
          "output_type": "display_data",
          "data": {
            "text/plain": [
              "<IPython.core.display.HTML object>"
            ],
            "text/html": [
              "Find logs at: <code>./wandb/run-20250309_140530-nhzeynav/logs</code>"
            ]
          },
          "metadata": {}
        },
        {
          "output_type": "stream",
          "name": "stderr",
          "text": [
            "\u001b[34m\u001b[1mwandb\u001b[0m: Agent Starting Run: u8kmi3ts with config:\n",
            "\u001b[34m\u001b[1mwandb\u001b[0m: \tactivation_function: tanh\n",
            "\u001b[34m\u001b[1mwandb\u001b[0m: \tbatch_size: 16\n",
            "\u001b[34m\u001b[1mwandb\u001b[0m: \tepochs: 5\n",
            "\u001b[34m\u001b[1mwandb\u001b[0m: \thidden_layer_size: 32\n",
            "\u001b[34m\u001b[1mwandb\u001b[0m: \tlearningg_rate_: 0.001\n",
            "\u001b[34m\u001b[1mwandb\u001b[0m: \tloss_type: cross_entropy\n",
            "\u001b[34m\u001b[1mwandb\u001b[0m: \tnum_hidden_layers: 3\n",
            "\u001b[34m\u001b[1mwandb\u001b[0m: \toptimizer: nadam\n",
            "\u001b[34m\u001b[1mwandb\u001b[0m: \tweight_initialization: xavier\n"
          ]
        },
        {
          "output_type": "display_data",
          "data": {
            "text/plain": [
              "<IPython.core.display.HTML object>"
            ],
            "text/html": [
              "Ignoring project 'MA23M021_A1_Q8_CROSS' when running a sweep."
            ]
          },
          "metadata": {}
        },
        {
          "output_type": "display_data",
          "data": {
            "text/plain": [
              "<IPython.core.display.HTML object>"
            ],
            "text/html": [
              "Tracking run with wandb version 0.19.7"
            ]
          },
          "metadata": {}
        },
        {
          "output_type": "display_data",
          "data": {
            "text/plain": [
              "<IPython.core.display.HTML object>"
            ],
            "text/html": [
              "Run data is saved locally in <code>/content/wandb/run-20250309_140601-u8kmi3ts</code>"
            ]
          },
          "metadata": {}
        },
        {
          "output_type": "display_data",
          "data": {
            "text/plain": [
              "<IPython.core.display.HTML object>"
            ],
            "text/html": [
              "Syncing run <strong><a href='https://wandb.ai/ma23m021-iit-madras/MA23M021_A1_Q8_CROSS/runs/u8kmi3ts' target=\"_blank\">unique-sweep-38</a></strong> to <a href='https://wandb.ai/ma23m021-iit-madras/MA23M021_A1_Q8_CROSS' target=\"_blank\">Weights & Biases</a> (<a href='https://wandb.me/developer-guide' target=\"_blank\">docs</a>)<br>Sweep page: <a href='https://wandb.ai/ma23m021-iit-madras/MA23M021_A1_Q8_CROSS/sweeps/64kuh29x' target=\"_blank\">https://wandb.ai/ma23m021-iit-madras/MA23M021_A1_Q8_CROSS/sweeps/64kuh29x</a>"
            ]
          },
          "metadata": {}
        },
        {
          "output_type": "display_data",
          "data": {
            "text/plain": [
              "<IPython.core.display.HTML object>"
            ],
            "text/html": [
              " View project at <a href='https://wandb.ai/ma23m021-iit-madras/MA23M021_A1_Q8_CROSS' target=\"_blank\">https://wandb.ai/ma23m021-iit-madras/MA23M021_A1_Q8_CROSS</a>"
            ]
          },
          "metadata": {}
        },
        {
          "output_type": "display_data",
          "data": {
            "text/plain": [
              "<IPython.core.display.HTML object>"
            ],
            "text/html": [
              " View sweep at <a href='https://wandb.ai/ma23m021-iit-madras/MA23M021_A1_Q8_CROSS/sweeps/64kuh29x' target=\"_blank\">https://wandb.ai/ma23m021-iit-madras/MA23M021_A1_Q8_CROSS/sweeps/64kuh29x</a>"
            ]
          },
          "metadata": {}
        },
        {
          "output_type": "display_data",
          "data": {
            "text/plain": [
              "<IPython.core.display.HTML object>"
            ],
            "text/html": [
              " View run at <a href='https://wandb.ai/ma23m021-iit-madras/MA23M021_A1_Q8_CROSS/runs/u8kmi3ts' target=\"_blank\">https://wandb.ai/ma23m021-iit-madras/MA23M021_A1_Q8_CROSS/runs/u8kmi3ts</a>"
            ]
          },
          "metadata": {}
        },
        {
          "output_type": "stream",
          "name": "stdout",
          "text": [
            "Epoch 1/5, cross_entropy - Train Loss: 0.9275, Val Loss: 0.5226, Val Accuracy: 0.8257\n",
            "Epoch 2/5, cross_entropy - Train Loss: 0.4606, Val Loss: 0.4377, Val Accuracy: 0.8471\n",
            "Epoch 3/5, cross_entropy - Train Loss: 0.4061, Val Loss: 0.3991, Val Accuracy: 0.8576\n",
            "Epoch 4/5, cross_entropy - Train Loss: 0.3774, Val Loss: 0.3979, Val Accuracy: 0.8584\n",
            "Epoch 5/5, cross_entropy - Train Loss: 0.3598, Val Loss: 0.3875, Val Accuracy: 0.8594\n"
          ]
        },
        {
          "output_type": "display_data",
          "data": {
            "text/plain": [
              "<IPython.core.display.HTML object>"
            ],
            "text/html": []
          },
          "metadata": {}
        },
        {
          "output_type": "display_data",
          "data": {
            "text/plain": [
              "<IPython.core.display.HTML object>"
            ],
            "text/html": [
              "<br>    <style><br>        .wandb-row {<br>            display: flex;<br>            flex-direction: row;<br>            flex-wrap: wrap;<br>            justify-content: flex-start;<br>            width: 100%;<br>        }<br>        .wandb-col {<br>            display: flex;<br>            flex-direction: column;<br>            flex-basis: 100%;<br>            flex: 1;<br>            padding: 10px;<br>        }<br>    </style><br><div class=\"wandb-row\"><div class=\"wandb-col\"><h3>Run history:</h3><br/><table class=\"wandb\"><tr><td>epoch</td><td>▁▃▅▆█</td></tr><tr><td>train_loss</td><td>█▂▂▁▁</td></tr><tr><td>val_accuracy</td><td>▁▅███</td></tr><tr><td>val_loss</td><td>█▄▂▂▁</td></tr></table><br/></div><div class=\"wandb-col\"><h3>Run summary:</h3><br/><table class=\"wandb\"><tr><td>epoch</td><td>5</td></tr><tr><td>loss_type</td><td>cross_entropy</td></tr><tr><td>train_loss</td><td>0.35985</td></tr><tr><td>val_accuracy</td><td>0.85942</td></tr><tr><td>val_loss</td><td>0.38752</td></tr></table><br/></div></div>"
            ]
          },
          "metadata": {}
        },
        {
          "output_type": "display_data",
          "data": {
            "text/plain": [
              "<IPython.core.display.HTML object>"
            ],
            "text/html": [
              " View run <strong style=\"color:#cdcd00\">unique-sweep-38</strong> at: <a href='https://wandb.ai/ma23m021-iit-madras/MA23M021_A1_Q8_CROSS/runs/u8kmi3ts' target=\"_blank\">https://wandb.ai/ma23m021-iit-madras/MA23M021_A1_Q8_CROSS/runs/u8kmi3ts</a><br> View project at: <a href='https://wandb.ai/ma23m021-iit-madras/MA23M021_A1_Q8_CROSS' target=\"_blank\">https://wandb.ai/ma23m021-iit-madras/MA23M021_A1_Q8_CROSS</a><br>Synced 5 W&B file(s), 0 media file(s), 0 artifact file(s) and 0 other file(s)"
            ]
          },
          "metadata": {}
        },
        {
          "output_type": "display_data",
          "data": {
            "text/plain": [
              "<IPython.core.display.HTML object>"
            ],
            "text/html": [
              "Find logs at: <code>./wandb/run-20250309_140601-u8kmi3ts/logs</code>"
            ]
          },
          "metadata": {}
        },
        {
          "output_type": "stream",
          "name": "stderr",
          "text": [
            "\u001b[34m\u001b[1mwandb\u001b[0m: Agent Starting Run: b7rbaest with config:\n",
            "\u001b[34m\u001b[1mwandb\u001b[0m: \tactivation_function: tanh\n",
            "\u001b[34m\u001b[1mwandb\u001b[0m: \tbatch_size: 16\n",
            "\u001b[34m\u001b[1mwandb\u001b[0m: \tepochs: 5\n",
            "\u001b[34m\u001b[1mwandb\u001b[0m: \thidden_layer_size: 64\n",
            "\u001b[34m\u001b[1mwandb\u001b[0m: \tlearningg_rate_: 0.001\n",
            "\u001b[34m\u001b[1mwandb\u001b[0m: \tloss_type: cross_entropy\n",
            "\u001b[34m\u001b[1mwandb\u001b[0m: \tnum_hidden_layers: 3\n",
            "\u001b[34m\u001b[1mwandb\u001b[0m: \toptimizer: adam\n",
            "\u001b[34m\u001b[1mwandb\u001b[0m: \tweight_initialization: xavier\n"
          ]
        },
        {
          "output_type": "display_data",
          "data": {
            "text/plain": [
              "<IPython.core.display.HTML object>"
            ],
            "text/html": [
              "Ignoring project 'MA23M021_A1_Q8_CROSS' when running a sweep."
            ]
          },
          "metadata": {}
        },
        {
          "output_type": "display_data",
          "data": {
            "text/plain": [
              "<IPython.core.display.HTML object>"
            ],
            "text/html": [
              "Tracking run with wandb version 0.19.7"
            ]
          },
          "metadata": {}
        },
        {
          "output_type": "display_data",
          "data": {
            "text/plain": [
              "<IPython.core.display.HTML object>"
            ],
            "text/html": [
              "Run data is saved locally in <code>/content/wandb/run-20250309_140642-b7rbaest</code>"
            ]
          },
          "metadata": {}
        },
        {
          "output_type": "display_data",
          "data": {
            "text/plain": [
              "<IPython.core.display.HTML object>"
            ],
            "text/html": [
              "Syncing run <strong><a href='https://wandb.ai/ma23m021-iit-madras/MA23M021_A1_Q8_CROSS/runs/b7rbaest' target=\"_blank\">zany-sweep-39</a></strong> to <a href='https://wandb.ai/ma23m021-iit-madras/MA23M021_A1_Q8_CROSS' target=\"_blank\">Weights & Biases</a> (<a href='https://wandb.me/developer-guide' target=\"_blank\">docs</a>)<br>Sweep page: <a href='https://wandb.ai/ma23m021-iit-madras/MA23M021_A1_Q8_CROSS/sweeps/64kuh29x' target=\"_blank\">https://wandb.ai/ma23m021-iit-madras/MA23M021_A1_Q8_CROSS/sweeps/64kuh29x</a>"
            ]
          },
          "metadata": {}
        },
        {
          "output_type": "display_data",
          "data": {
            "text/plain": [
              "<IPython.core.display.HTML object>"
            ],
            "text/html": [
              " View project at <a href='https://wandb.ai/ma23m021-iit-madras/MA23M021_A1_Q8_CROSS' target=\"_blank\">https://wandb.ai/ma23m021-iit-madras/MA23M021_A1_Q8_CROSS</a>"
            ]
          },
          "metadata": {}
        },
        {
          "output_type": "display_data",
          "data": {
            "text/plain": [
              "<IPython.core.display.HTML object>"
            ],
            "text/html": [
              " View sweep at <a href='https://wandb.ai/ma23m021-iit-madras/MA23M021_A1_Q8_CROSS/sweeps/64kuh29x' target=\"_blank\">https://wandb.ai/ma23m021-iit-madras/MA23M021_A1_Q8_CROSS/sweeps/64kuh29x</a>"
            ]
          },
          "metadata": {}
        },
        {
          "output_type": "display_data",
          "data": {
            "text/plain": [
              "<IPython.core.display.HTML object>"
            ],
            "text/html": [
              " View run at <a href='https://wandb.ai/ma23m021-iit-madras/MA23M021_A1_Q8_CROSS/runs/b7rbaest' target=\"_blank\">https://wandb.ai/ma23m021-iit-madras/MA23M021_A1_Q8_CROSS/runs/b7rbaest</a>"
            ]
          },
          "metadata": {}
        },
        {
          "output_type": "stream",
          "name": "stdout",
          "text": [
            "Epoch 1/5, cross_entropy - Train Loss: 0.7260, Val Loss: 0.4627, Val Accuracy: 0.8379\n",
            "Epoch 2/5, cross_entropy - Train Loss: 0.4191, Val Loss: 0.4142, Val Accuracy: 0.8514\n",
            "Epoch 3/5, cross_entropy - Train Loss: 0.3745, Val Loss: 0.3700, Val Accuracy: 0.8677\n",
            "Epoch 4/5, cross_entropy - Train Loss: 0.3500, Val Loss: 0.3521, Val Accuracy: 0.8705\n",
            "Epoch 5/5, cross_entropy - Train Loss: 0.3332, Val Loss: 0.3510, Val Accuracy: 0.8728\n"
          ]
        },
        {
          "output_type": "display_data",
          "data": {
            "text/plain": [
              "<IPython.core.display.HTML object>"
            ],
            "text/html": []
          },
          "metadata": {}
        },
        {
          "output_type": "display_data",
          "data": {
            "text/plain": [
              "<IPython.core.display.HTML object>"
            ],
            "text/html": [
              "<br>    <style><br>        .wandb-row {<br>            display: flex;<br>            flex-direction: row;<br>            flex-wrap: wrap;<br>            justify-content: flex-start;<br>            width: 100%;<br>        }<br>        .wandb-col {<br>            display: flex;<br>            flex-direction: column;<br>            flex-basis: 100%;<br>            flex: 1;<br>            padding: 10px;<br>        }<br>    </style><br><div class=\"wandb-row\"><div class=\"wandb-col\"><h3>Run history:</h3><br/><table class=\"wandb\"><tr><td>epoch</td><td>▁▃▅▆█</td></tr><tr><td>train_loss</td><td>█▃▂▁▁</td></tr><tr><td>val_accuracy</td><td>▁▄▇██</td></tr><tr><td>val_loss</td><td>█▅▂▁▁</td></tr></table><br/></div><div class=\"wandb-col\"><h3>Run summary:</h3><br/><table class=\"wandb\"><tr><td>epoch</td><td>5</td></tr><tr><td>loss_type</td><td>cross_entropy</td></tr><tr><td>train_loss</td><td>0.33315</td></tr><tr><td>val_accuracy</td><td>0.87275</td></tr><tr><td>val_loss</td><td>0.35102</td></tr></table><br/></div></div>"
            ]
          },
          "metadata": {}
        },
        {
          "output_type": "display_data",
          "data": {
            "text/plain": [
              "<IPython.core.display.HTML object>"
            ],
            "text/html": [
              " View run <strong style=\"color:#cdcd00\">zany-sweep-39</strong> at: <a href='https://wandb.ai/ma23m021-iit-madras/MA23M021_A1_Q8_CROSS/runs/b7rbaest' target=\"_blank\">https://wandb.ai/ma23m021-iit-madras/MA23M021_A1_Q8_CROSS/runs/b7rbaest</a><br> View project at: <a href='https://wandb.ai/ma23m021-iit-madras/MA23M021_A1_Q8_CROSS' target=\"_blank\">https://wandb.ai/ma23m021-iit-madras/MA23M021_A1_Q8_CROSS</a><br>Synced 5 W&B file(s), 0 media file(s), 0 artifact file(s) and 0 other file(s)"
            ]
          },
          "metadata": {}
        },
        {
          "output_type": "display_data",
          "data": {
            "text/plain": [
              "<IPython.core.display.HTML object>"
            ],
            "text/html": [
              "Find logs at: <code>./wandb/run-20250309_140642-b7rbaest/logs</code>"
            ]
          },
          "metadata": {}
        },
        {
          "output_type": "stream",
          "name": "stderr",
          "text": [
            "\u001b[34m\u001b[1mwandb\u001b[0m: Agent Starting Run: 76u4hg69 with config:\n",
            "\u001b[34m\u001b[1mwandb\u001b[0m: \tactivation_function: tanh\n",
            "\u001b[34m\u001b[1mwandb\u001b[0m: \tbatch_size: 16\n",
            "\u001b[34m\u001b[1mwandb\u001b[0m: \tepochs: 5\n",
            "\u001b[34m\u001b[1mwandb\u001b[0m: \thidden_layer_size: 64\n",
            "\u001b[34m\u001b[1mwandb\u001b[0m: \tlearningg_rate_: 0.001\n",
            "\u001b[34m\u001b[1mwandb\u001b[0m: \tloss_type: cross_entropy\n",
            "\u001b[34m\u001b[1mwandb\u001b[0m: \tnum_hidden_layers: 3\n",
            "\u001b[34m\u001b[1mwandb\u001b[0m: \toptimizer: adam\n",
            "\u001b[34m\u001b[1mwandb\u001b[0m: \tweight_initialization: xavier\n"
          ]
        },
        {
          "output_type": "display_data",
          "data": {
            "text/plain": [
              "<IPython.core.display.HTML object>"
            ],
            "text/html": [
              "Ignoring project 'MA23M021_A1_Q8_CROSS' when running a sweep."
            ]
          },
          "metadata": {}
        },
        {
          "output_type": "display_data",
          "data": {
            "text/plain": [
              "<IPython.core.display.HTML object>"
            ],
            "text/html": [
              "Tracking run with wandb version 0.19.7"
            ]
          },
          "metadata": {}
        },
        {
          "output_type": "display_data",
          "data": {
            "text/plain": [
              "<IPython.core.display.HTML object>"
            ],
            "text/html": [
              "Run data is saved locally in <code>/content/wandb/run-20250309_140733-76u4hg69</code>"
            ]
          },
          "metadata": {}
        },
        {
          "output_type": "display_data",
          "data": {
            "text/plain": [
              "<IPython.core.display.HTML object>"
            ],
            "text/html": [
              "Syncing run <strong><a href='https://wandb.ai/ma23m021-iit-madras/MA23M021_A1_Q8_CROSS/runs/76u4hg69' target=\"_blank\">quiet-sweep-40</a></strong> to <a href='https://wandb.ai/ma23m021-iit-madras/MA23M021_A1_Q8_CROSS' target=\"_blank\">Weights & Biases</a> (<a href='https://wandb.me/developer-guide' target=\"_blank\">docs</a>)<br>Sweep page: <a href='https://wandb.ai/ma23m021-iit-madras/MA23M021_A1_Q8_CROSS/sweeps/64kuh29x' target=\"_blank\">https://wandb.ai/ma23m021-iit-madras/MA23M021_A1_Q8_CROSS/sweeps/64kuh29x</a>"
            ]
          },
          "metadata": {}
        },
        {
          "output_type": "display_data",
          "data": {
            "text/plain": [
              "<IPython.core.display.HTML object>"
            ],
            "text/html": [
              " View project at <a href='https://wandb.ai/ma23m021-iit-madras/MA23M021_A1_Q8_CROSS' target=\"_blank\">https://wandb.ai/ma23m021-iit-madras/MA23M021_A1_Q8_CROSS</a>"
            ]
          },
          "metadata": {}
        },
        {
          "output_type": "display_data",
          "data": {
            "text/plain": [
              "<IPython.core.display.HTML object>"
            ],
            "text/html": [
              " View sweep at <a href='https://wandb.ai/ma23m021-iit-madras/MA23M021_A1_Q8_CROSS/sweeps/64kuh29x' target=\"_blank\">https://wandb.ai/ma23m021-iit-madras/MA23M021_A1_Q8_CROSS/sweeps/64kuh29x</a>"
            ]
          },
          "metadata": {}
        },
        {
          "output_type": "display_data",
          "data": {
            "text/plain": [
              "<IPython.core.display.HTML object>"
            ],
            "text/html": [
              " View run at <a href='https://wandb.ai/ma23m021-iit-madras/MA23M021_A1_Q8_CROSS/runs/76u4hg69' target=\"_blank\">https://wandb.ai/ma23m021-iit-madras/MA23M021_A1_Q8_CROSS/runs/76u4hg69</a>"
            ]
          },
          "metadata": {}
        },
        {
          "output_type": "stream",
          "name": "stdout",
          "text": [
            "Epoch 1/5, cross_entropy - Train Loss: 0.7150, Val Loss: 0.4675, Val Accuracy: 0.8288\n",
            "Epoch 2/5, cross_entropy - Train Loss: 0.4139, Val Loss: 0.4176, Val Accuracy: 0.8482\n",
            "Epoch 3/5, cross_entropy - Train Loss: 0.3756, Val Loss: 0.3740, Val Accuracy: 0.8650\n",
            "Epoch 4/5, cross_entropy - Train Loss: 0.3514, Val Loss: 0.3507, Val Accuracy: 0.8724\n",
            "Epoch 5/5, cross_entropy - Train Loss: 0.3372, Val Loss: 0.3560, Val Accuracy: 0.8703\n"
          ]
        },
        {
          "output_type": "display_data",
          "data": {
            "text/plain": [
              "<IPython.core.display.HTML object>"
            ],
            "text/html": []
          },
          "metadata": {}
        },
        {
          "output_type": "display_data",
          "data": {
            "text/plain": [
              "<IPython.core.display.HTML object>"
            ],
            "text/html": [
              "<br>    <style><br>        .wandb-row {<br>            display: flex;<br>            flex-direction: row;<br>            flex-wrap: wrap;<br>            justify-content: flex-start;<br>            width: 100%;<br>        }<br>        .wandb-col {<br>            display: flex;<br>            flex-direction: column;<br>            flex-basis: 100%;<br>            flex: 1;<br>            padding: 10px;<br>        }<br>    </style><br><div class=\"wandb-row\"><div class=\"wandb-col\"><h3>Run history:</h3><br/><table class=\"wandb\"><tr><td>epoch</td><td>▁▃▅▆█</td></tr><tr><td>train_loss</td><td>█▂▂▁▁</td></tr><tr><td>val_accuracy</td><td>▁▄▇██</td></tr><tr><td>val_loss</td><td>█▅▂▁▁</td></tr></table><br/></div><div class=\"wandb-col\"><h3>Run summary:</h3><br/><table class=\"wandb\"><tr><td>epoch</td><td>5</td></tr><tr><td>loss_type</td><td>cross_entropy</td></tr><tr><td>train_loss</td><td>0.33725</td></tr><tr><td>val_accuracy</td><td>0.87033</td></tr><tr><td>val_loss</td><td>0.35595</td></tr></table><br/></div></div>"
            ]
          },
          "metadata": {}
        },
        {
          "output_type": "display_data",
          "data": {
            "text/plain": [
              "<IPython.core.display.HTML object>"
            ],
            "text/html": [
              " View run <strong style=\"color:#cdcd00\">quiet-sweep-40</strong> at: <a href='https://wandb.ai/ma23m021-iit-madras/MA23M021_A1_Q8_CROSS/runs/76u4hg69' target=\"_blank\">https://wandb.ai/ma23m021-iit-madras/MA23M021_A1_Q8_CROSS/runs/76u4hg69</a><br> View project at: <a href='https://wandb.ai/ma23m021-iit-madras/MA23M021_A1_Q8_CROSS' target=\"_blank\">https://wandb.ai/ma23m021-iit-madras/MA23M021_A1_Q8_CROSS</a><br>Synced 5 W&B file(s), 0 media file(s), 0 artifact file(s) and 0 other file(s)"
            ]
          },
          "metadata": {}
        },
        {
          "output_type": "display_data",
          "data": {
            "text/plain": [
              "<IPython.core.display.HTML object>"
            ],
            "text/html": [
              "Find logs at: <code>./wandb/run-20250309_140733-76u4hg69/logs</code>"
            ]
          },
          "metadata": {}
        },
        {
          "output_type": "stream",
          "name": "stderr",
          "text": [
            "\u001b[34m\u001b[1mwandb\u001b[0m: Agent Starting Run: ngokaqrl with config:\n",
            "\u001b[34m\u001b[1mwandb\u001b[0m: \tactivation_function: tanh\n",
            "\u001b[34m\u001b[1mwandb\u001b[0m: \tbatch_size: 16\n",
            "\u001b[34m\u001b[1mwandb\u001b[0m: \tepochs: 5\n",
            "\u001b[34m\u001b[1mwandb\u001b[0m: \thidden_layer_size: 32\n",
            "\u001b[34m\u001b[1mwandb\u001b[0m: \tlearningg_rate_: 0.001\n",
            "\u001b[34m\u001b[1mwandb\u001b[0m: \tloss_type: cross_entropy\n",
            "\u001b[34m\u001b[1mwandb\u001b[0m: \tnum_hidden_layers: 3\n",
            "\u001b[34m\u001b[1mwandb\u001b[0m: \toptimizer: rmsprop\n",
            "\u001b[34m\u001b[1mwandb\u001b[0m: \tweight_initialization: xavier\n"
          ]
        },
        {
          "output_type": "display_data",
          "data": {
            "text/plain": [
              "<IPython.core.display.HTML object>"
            ],
            "text/html": [
              "Ignoring project 'MA23M021_A1_Q8_CROSS' when running a sweep."
            ]
          },
          "metadata": {}
        },
        {
          "output_type": "display_data",
          "data": {
            "text/plain": [
              "<IPython.core.display.HTML object>"
            ],
            "text/html": [
              "Tracking run with wandb version 0.19.7"
            ]
          },
          "metadata": {}
        },
        {
          "output_type": "display_data",
          "data": {
            "text/plain": [
              "<IPython.core.display.HTML object>"
            ],
            "text/html": [
              "Run data is saved locally in <code>/content/wandb/run-20250309_140824-ngokaqrl</code>"
            ]
          },
          "metadata": {}
        },
        {
          "output_type": "display_data",
          "data": {
            "text/plain": [
              "<IPython.core.display.HTML object>"
            ],
            "text/html": [
              "Syncing run <strong><a href='https://wandb.ai/ma23m021-iit-madras/MA23M021_A1_Q8_CROSS/runs/ngokaqrl' target=\"_blank\">jumping-sweep-41</a></strong> to <a href='https://wandb.ai/ma23m021-iit-madras/MA23M021_A1_Q8_CROSS' target=\"_blank\">Weights & Biases</a> (<a href='https://wandb.me/developer-guide' target=\"_blank\">docs</a>)<br>Sweep page: <a href='https://wandb.ai/ma23m021-iit-madras/MA23M021_A1_Q8_CROSS/sweeps/64kuh29x' target=\"_blank\">https://wandb.ai/ma23m021-iit-madras/MA23M021_A1_Q8_CROSS/sweeps/64kuh29x</a>"
            ]
          },
          "metadata": {}
        },
        {
          "output_type": "display_data",
          "data": {
            "text/plain": [
              "<IPython.core.display.HTML object>"
            ],
            "text/html": [
              " View project at <a href='https://wandb.ai/ma23m021-iit-madras/MA23M021_A1_Q8_CROSS' target=\"_blank\">https://wandb.ai/ma23m021-iit-madras/MA23M021_A1_Q8_CROSS</a>"
            ]
          },
          "metadata": {}
        },
        {
          "output_type": "display_data",
          "data": {
            "text/plain": [
              "<IPython.core.display.HTML object>"
            ],
            "text/html": [
              " View sweep at <a href='https://wandb.ai/ma23m021-iit-madras/MA23M021_A1_Q8_CROSS/sweeps/64kuh29x' target=\"_blank\">https://wandb.ai/ma23m021-iit-madras/MA23M021_A1_Q8_CROSS/sweeps/64kuh29x</a>"
            ]
          },
          "metadata": {}
        },
        {
          "output_type": "display_data",
          "data": {
            "text/plain": [
              "<IPython.core.display.HTML object>"
            ],
            "text/html": [
              " View run at <a href='https://wandb.ai/ma23m021-iit-madras/MA23M021_A1_Q8_CROSS/runs/ngokaqrl' target=\"_blank\">https://wandb.ai/ma23m021-iit-madras/MA23M021_A1_Q8_CROSS/runs/ngokaqrl</a>"
            ]
          },
          "metadata": {}
        },
        {
          "output_type": "stream",
          "name": "stdout",
          "text": [
            "Epoch 1/5, cross_entropy - Train Loss: 0.9083, Val Loss: 0.5296, Val Accuracy: 0.8137\n",
            "Epoch 2/5, cross_entropy - Train Loss: 0.4688, Val Loss: 0.4423, Val Accuracy: 0.8434\n",
            "Epoch 3/5, cross_entropy - Train Loss: 0.4183, Val Loss: 0.4147, Val Accuracy: 0.8530\n",
            "Epoch 4/5, cross_entropy - Train Loss: 0.3936, Val Loss: 0.3952, Val Accuracy: 0.8617\n",
            "Epoch 5/5, cross_entropy - Train Loss: 0.3780, Val Loss: 0.4022, Val Accuracy: 0.8585\n"
          ]
        },
        {
          "output_type": "display_data",
          "data": {
            "text/plain": [
              "<IPython.core.display.HTML object>"
            ],
            "text/html": []
          },
          "metadata": {}
        },
        {
          "output_type": "display_data",
          "data": {
            "text/plain": [
              "<IPython.core.display.HTML object>"
            ],
            "text/html": [
              "<br>    <style><br>        .wandb-row {<br>            display: flex;<br>            flex-direction: row;<br>            flex-wrap: wrap;<br>            justify-content: flex-start;<br>            width: 100%;<br>        }<br>        .wandb-col {<br>            display: flex;<br>            flex-direction: column;<br>            flex-basis: 100%;<br>            flex: 1;<br>            padding: 10px;<br>        }<br>    </style><br><div class=\"wandb-row\"><div class=\"wandb-col\"><h3>Run history:</h3><br/><table class=\"wandb\"><tr><td>epoch</td><td>▁▃▅▆█</td></tr><tr><td>train_loss</td><td>█▂▂▁▁</td></tr><tr><td>val_accuracy</td><td>▁▅▇██</td></tr><tr><td>val_loss</td><td>█▃▂▁▁</td></tr></table><br/></div><div class=\"wandb-col\"><h3>Run summary:</h3><br/><table class=\"wandb\"><tr><td>epoch</td><td>5</td></tr><tr><td>loss_type</td><td>cross_entropy</td></tr><tr><td>train_loss</td><td>0.378</td></tr><tr><td>val_accuracy</td><td>0.8585</td></tr><tr><td>val_loss</td><td>0.40218</td></tr></table><br/></div></div>"
            ]
          },
          "metadata": {}
        },
        {
          "output_type": "display_data",
          "data": {
            "text/plain": [
              "<IPython.core.display.HTML object>"
            ],
            "text/html": [
              " View run <strong style=\"color:#cdcd00\">jumping-sweep-41</strong> at: <a href='https://wandb.ai/ma23m021-iit-madras/MA23M021_A1_Q8_CROSS/runs/ngokaqrl' target=\"_blank\">https://wandb.ai/ma23m021-iit-madras/MA23M021_A1_Q8_CROSS/runs/ngokaqrl</a><br> View project at: <a href='https://wandb.ai/ma23m021-iit-madras/MA23M021_A1_Q8_CROSS' target=\"_blank\">https://wandb.ai/ma23m021-iit-madras/MA23M021_A1_Q8_CROSS</a><br>Synced 5 W&B file(s), 0 media file(s), 0 artifact file(s) and 0 other file(s)"
            ]
          },
          "metadata": {}
        },
        {
          "output_type": "display_data",
          "data": {
            "text/plain": [
              "<IPython.core.display.HTML object>"
            ],
            "text/html": [
              "Find logs at: <code>./wandb/run-20250309_140824-ngokaqrl/logs</code>"
            ]
          },
          "metadata": {}
        },
        {
          "output_type": "stream",
          "name": "stderr",
          "text": [
            "\u001b[34m\u001b[1mwandb\u001b[0m: Agent Starting Run: qw96fon8 with config:\n",
            "\u001b[34m\u001b[1mwandb\u001b[0m: \tactivation_function: tanh\n",
            "\u001b[34m\u001b[1mwandb\u001b[0m: \tbatch_size: 32\n",
            "\u001b[34m\u001b[1mwandb\u001b[0m: \tepochs: 5\n",
            "\u001b[34m\u001b[1mwandb\u001b[0m: \thidden_layer_size: 128\n",
            "\u001b[34m\u001b[1mwandb\u001b[0m: \tlearningg_rate_: 0.001\n",
            "\u001b[34m\u001b[1mwandb\u001b[0m: \tloss_type: cross_entropy\n",
            "\u001b[34m\u001b[1mwandb\u001b[0m: \tnum_hidden_layers: 4\n",
            "\u001b[34m\u001b[1mwandb\u001b[0m: \toptimizer: nadam\n",
            "\u001b[34m\u001b[1mwandb\u001b[0m: \tweight_initialization: xavier\n"
          ]
        },
        {
          "output_type": "display_data",
          "data": {
            "text/plain": [
              "<IPython.core.display.HTML object>"
            ],
            "text/html": [
              "Ignoring project 'MA23M021_A1_Q8_CROSS' when running a sweep."
            ]
          },
          "metadata": {}
        },
        {
          "output_type": "display_data",
          "data": {
            "text/plain": [
              "<IPython.core.display.HTML object>"
            ],
            "text/html": [
              "Tracking run with wandb version 0.19.7"
            ]
          },
          "metadata": {}
        },
        {
          "output_type": "display_data",
          "data": {
            "text/plain": [
              "<IPython.core.display.HTML object>"
            ],
            "text/html": [
              "Run data is saved locally in <code>/content/wandb/run-20250309_140855-qw96fon8</code>"
            ]
          },
          "metadata": {}
        },
        {
          "output_type": "display_data",
          "data": {
            "text/plain": [
              "<IPython.core.display.HTML object>"
            ],
            "text/html": [
              "Syncing run <strong><a href='https://wandb.ai/ma23m021-iit-madras/MA23M021_A1_Q8_CROSS/runs/qw96fon8' target=\"_blank\">noble-sweep-42</a></strong> to <a href='https://wandb.ai/ma23m021-iit-madras/MA23M021_A1_Q8_CROSS' target=\"_blank\">Weights & Biases</a> (<a href='https://wandb.me/developer-guide' target=\"_blank\">docs</a>)<br>Sweep page: <a href='https://wandb.ai/ma23m021-iit-madras/MA23M021_A1_Q8_CROSS/sweeps/64kuh29x' target=\"_blank\">https://wandb.ai/ma23m021-iit-madras/MA23M021_A1_Q8_CROSS/sweeps/64kuh29x</a>"
            ]
          },
          "metadata": {}
        },
        {
          "output_type": "display_data",
          "data": {
            "text/plain": [
              "<IPython.core.display.HTML object>"
            ],
            "text/html": [
              " View project at <a href='https://wandb.ai/ma23m021-iit-madras/MA23M021_A1_Q8_CROSS' target=\"_blank\">https://wandb.ai/ma23m021-iit-madras/MA23M021_A1_Q8_CROSS</a>"
            ]
          },
          "metadata": {}
        },
        {
          "output_type": "display_data",
          "data": {
            "text/plain": [
              "<IPython.core.display.HTML object>"
            ],
            "text/html": [
              " View sweep at <a href='https://wandb.ai/ma23m021-iit-madras/MA23M021_A1_Q8_CROSS/sweeps/64kuh29x' target=\"_blank\">https://wandb.ai/ma23m021-iit-madras/MA23M021_A1_Q8_CROSS/sweeps/64kuh29x</a>"
            ]
          },
          "metadata": {}
        },
        {
          "output_type": "display_data",
          "data": {
            "text/plain": [
              "<IPython.core.display.HTML object>"
            ],
            "text/html": [
              " View run at <a href='https://wandb.ai/ma23m021-iit-madras/MA23M021_A1_Q8_CROSS/runs/qw96fon8' target=\"_blank\">https://wandb.ai/ma23m021-iit-madras/MA23M021_A1_Q8_CROSS/runs/qw96fon8</a>"
            ]
          },
          "metadata": {}
        },
        {
          "output_type": "stream",
          "name": "stdout",
          "text": [
            "Epoch 1/5, cross_entropy - Train Loss: 0.7334, Val Loss: 0.4558, Val Accuracy: 0.8381\n",
            "Epoch 2/5, cross_entropy - Train Loss: 0.4151, Val Loss: 0.4224, Val Accuracy: 0.8498\n",
            "Epoch 3/5, cross_entropy - Train Loss: 0.3732, Val Loss: 0.3890, Val Accuracy: 0.8589\n",
            "Epoch 4/5, cross_entropy - Train Loss: 0.3491, Val Loss: 0.3717, Val Accuracy: 0.8653\n",
            "Epoch 5/5, cross_entropy - Train Loss: 0.3317, Val Loss: 0.3503, Val Accuracy: 0.8742\n"
          ]
        },
        {
          "output_type": "display_data",
          "data": {
            "text/plain": [
              "<IPython.core.display.HTML object>"
            ],
            "text/html": []
          },
          "metadata": {}
        },
        {
          "output_type": "display_data",
          "data": {
            "text/plain": [
              "<IPython.core.display.HTML object>"
            ],
            "text/html": [
              "<br>    <style><br>        .wandb-row {<br>            display: flex;<br>            flex-direction: row;<br>            flex-wrap: wrap;<br>            justify-content: flex-start;<br>            width: 100%;<br>        }<br>        .wandb-col {<br>            display: flex;<br>            flex-direction: column;<br>            flex-basis: 100%;<br>            flex: 1;<br>            padding: 10px;<br>        }<br>    </style><br><div class=\"wandb-row\"><div class=\"wandb-col\"><h3>Run history:</h3><br/><table class=\"wandb\"><tr><td>epoch</td><td>▁▃▅▆█</td></tr><tr><td>train_loss</td><td>█▂▂▁▁</td></tr><tr><td>val_accuracy</td><td>▁▃▅▆█</td></tr><tr><td>val_loss</td><td>█▆▄▂▁</td></tr></table><br/></div><div class=\"wandb-col\"><h3>Run summary:</h3><br/><table class=\"wandb\"><tr><td>epoch</td><td>5</td></tr><tr><td>loss_type</td><td>cross_entropy</td></tr><tr><td>train_loss</td><td>0.3317</td></tr><tr><td>val_accuracy</td><td>0.87417</td></tr><tr><td>val_loss</td><td>0.35032</td></tr></table><br/></div></div>"
            ]
          },
          "metadata": {}
        },
        {
          "output_type": "display_data",
          "data": {
            "text/plain": [
              "<IPython.core.display.HTML object>"
            ],
            "text/html": [
              " View run <strong style=\"color:#cdcd00\">noble-sweep-42</strong> at: <a href='https://wandb.ai/ma23m021-iit-madras/MA23M021_A1_Q8_CROSS/runs/qw96fon8' target=\"_blank\">https://wandb.ai/ma23m021-iit-madras/MA23M021_A1_Q8_CROSS/runs/qw96fon8</a><br> View project at: <a href='https://wandb.ai/ma23m021-iit-madras/MA23M021_A1_Q8_CROSS' target=\"_blank\">https://wandb.ai/ma23m021-iit-madras/MA23M021_A1_Q8_CROSS</a><br>Synced 5 W&B file(s), 0 media file(s), 0 artifact file(s) and 0 other file(s)"
            ]
          },
          "metadata": {}
        },
        {
          "output_type": "display_data",
          "data": {
            "text/plain": [
              "<IPython.core.display.HTML object>"
            ],
            "text/html": [
              "Find logs at: <code>./wandb/run-20250309_140855-qw96fon8/logs</code>"
            ]
          },
          "metadata": {}
        },
        {
          "output_type": "stream",
          "name": "stderr",
          "text": [
            "\u001b[34m\u001b[1mwandb\u001b[0m: Agent Starting Run: opsnoiqw with config:\n",
            "\u001b[34m\u001b[1mwandb\u001b[0m: \tactivation_function: tanh\n",
            "\u001b[34m\u001b[1mwandb\u001b[0m: \tbatch_size: 16\n",
            "\u001b[34m\u001b[1mwandb\u001b[0m: \tepochs: 5\n",
            "\u001b[34m\u001b[1mwandb\u001b[0m: \thidden_layer_size: 32\n",
            "\u001b[34m\u001b[1mwandb\u001b[0m: \tlearningg_rate_: 0.001\n",
            "\u001b[34m\u001b[1mwandb\u001b[0m: \tloss_type: cross_entropy\n",
            "\u001b[34m\u001b[1mwandb\u001b[0m: \tnum_hidden_layers: 3\n",
            "\u001b[34m\u001b[1mwandb\u001b[0m: \toptimizer: adam\n",
            "\u001b[34m\u001b[1mwandb\u001b[0m: \tweight_initialization: xavier\n"
          ]
        },
        {
          "output_type": "display_data",
          "data": {
            "text/plain": [
              "<IPython.core.display.HTML object>"
            ],
            "text/html": [
              "Ignoring project 'MA23M021_A1_Q8_CROSS' when running a sweep."
            ]
          },
          "metadata": {}
        },
        {
          "output_type": "display_data",
          "data": {
            "text/plain": [
              "<IPython.core.display.HTML object>"
            ],
            "text/html": [
              "Tracking run with wandb version 0.19.7"
            ]
          },
          "metadata": {}
        },
        {
          "output_type": "display_data",
          "data": {
            "text/plain": [
              "<IPython.core.display.HTML object>"
            ],
            "text/html": [
              "Run data is saved locally in <code>/content/wandb/run-20250309_141011-opsnoiqw</code>"
            ]
          },
          "metadata": {}
        },
        {
          "output_type": "display_data",
          "data": {
            "text/plain": [
              "<IPython.core.display.HTML object>"
            ],
            "text/html": [
              "Syncing run <strong><a href='https://wandb.ai/ma23m021-iit-madras/MA23M021_A1_Q8_CROSS/runs/opsnoiqw' target=\"_blank\">stoic-sweep-43</a></strong> to <a href='https://wandb.ai/ma23m021-iit-madras/MA23M021_A1_Q8_CROSS' target=\"_blank\">Weights & Biases</a> (<a href='https://wandb.me/developer-guide' target=\"_blank\">docs</a>)<br>Sweep page: <a href='https://wandb.ai/ma23m021-iit-madras/MA23M021_A1_Q8_CROSS/sweeps/64kuh29x' target=\"_blank\">https://wandb.ai/ma23m021-iit-madras/MA23M021_A1_Q8_CROSS/sweeps/64kuh29x</a>"
            ]
          },
          "metadata": {}
        },
        {
          "output_type": "display_data",
          "data": {
            "text/plain": [
              "<IPython.core.display.HTML object>"
            ],
            "text/html": [
              " View project at <a href='https://wandb.ai/ma23m021-iit-madras/MA23M021_A1_Q8_CROSS' target=\"_blank\">https://wandb.ai/ma23m021-iit-madras/MA23M021_A1_Q8_CROSS</a>"
            ]
          },
          "metadata": {}
        },
        {
          "output_type": "display_data",
          "data": {
            "text/plain": [
              "<IPython.core.display.HTML object>"
            ],
            "text/html": [
              " View sweep at <a href='https://wandb.ai/ma23m021-iit-madras/MA23M021_A1_Q8_CROSS/sweeps/64kuh29x' target=\"_blank\">https://wandb.ai/ma23m021-iit-madras/MA23M021_A1_Q8_CROSS/sweeps/64kuh29x</a>"
            ]
          },
          "metadata": {}
        },
        {
          "output_type": "display_data",
          "data": {
            "text/plain": [
              "<IPython.core.display.HTML object>"
            ],
            "text/html": [
              " View run at <a href='https://wandb.ai/ma23m021-iit-madras/MA23M021_A1_Q8_CROSS/runs/opsnoiqw' target=\"_blank\">https://wandb.ai/ma23m021-iit-madras/MA23M021_A1_Q8_CROSS/runs/opsnoiqw</a>"
            ]
          },
          "metadata": {}
        },
        {
          "output_type": "stream",
          "name": "stdout",
          "text": [
            "Epoch 1/5, cross_entropy - Train Loss: 0.9181, Val Loss: 0.4950, Val Accuracy: 0.8220\n",
            "Epoch 2/5, cross_entropy - Train Loss: 0.4470, Val Loss: 0.4150, Val Accuracy: 0.8502\n",
            "Epoch 3/5, cross_entropy - Train Loss: 0.3923, Val Loss: 0.4005, Val Accuracy: 0.8566\n",
            "Epoch 4/5, cross_entropy - Train Loss: 0.3685, Val Loss: 0.3772, Val Accuracy: 0.8635\n",
            "Epoch 5/5, cross_entropy - Train Loss: 0.3523, Val Loss: 0.3730, Val Accuracy: 0.8644\n"
          ]
        },
        {
          "output_type": "display_data",
          "data": {
            "text/plain": [
              "<IPython.core.display.HTML object>"
            ],
            "text/html": []
          },
          "metadata": {}
        },
        {
          "output_type": "display_data",
          "data": {
            "text/plain": [
              "<IPython.core.display.HTML object>"
            ],
            "text/html": [
              "<br>    <style><br>        .wandb-row {<br>            display: flex;<br>            flex-direction: row;<br>            flex-wrap: wrap;<br>            justify-content: flex-start;<br>            width: 100%;<br>        }<br>        .wandb-col {<br>            display: flex;<br>            flex-direction: column;<br>            flex-basis: 100%;<br>            flex: 1;<br>            padding: 10px;<br>        }<br>    </style><br><div class=\"wandb-row\"><div class=\"wandb-col\"><h3>Run history:</h3><br/><table class=\"wandb\"><tr><td>epoch</td><td>▁▃▅▆█</td></tr><tr><td>train_loss</td><td>█▂▁▁▁</td></tr><tr><td>val_accuracy</td><td>▁▆▇██</td></tr><tr><td>val_loss</td><td>█▃▃▁▁</td></tr></table><br/></div><div class=\"wandb-col\"><h3>Run summary:</h3><br/><table class=\"wandb\"><tr><td>epoch</td><td>5</td></tr><tr><td>loss_type</td><td>cross_entropy</td></tr><tr><td>train_loss</td><td>0.35234</td></tr><tr><td>val_accuracy</td><td>0.86442</td></tr><tr><td>val_loss</td><td>0.37305</td></tr></table><br/></div></div>"
            ]
          },
          "metadata": {}
        },
        {
          "output_type": "display_data",
          "data": {
            "text/plain": [
              "<IPython.core.display.HTML object>"
            ],
            "text/html": [
              " View run <strong style=\"color:#cdcd00\">stoic-sweep-43</strong> at: <a href='https://wandb.ai/ma23m021-iit-madras/MA23M021_A1_Q8_CROSS/runs/opsnoiqw' target=\"_blank\">https://wandb.ai/ma23m021-iit-madras/MA23M021_A1_Q8_CROSS/runs/opsnoiqw</a><br> View project at: <a href='https://wandb.ai/ma23m021-iit-madras/MA23M021_A1_Q8_CROSS' target=\"_blank\">https://wandb.ai/ma23m021-iit-madras/MA23M021_A1_Q8_CROSS</a><br>Synced 5 W&B file(s), 0 media file(s), 0 artifact file(s) and 0 other file(s)"
            ]
          },
          "metadata": {}
        },
        {
          "output_type": "display_data",
          "data": {
            "text/plain": [
              "<IPython.core.display.HTML object>"
            ],
            "text/html": [
              "Find logs at: <code>./wandb/run-20250309_141011-opsnoiqw/logs</code>"
            ]
          },
          "metadata": {}
        },
        {
          "output_type": "stream",
          "name": "stderr",
          "text": [
            "\u001b[34m\u001b[1mwandb\u001b[0m: Agent Starting Run: t1st39qd with config:\n",
            "\u001b[34m\u001b[1mwandb\u001b[0m: \tactivation_function: tanh\n",
            "\u001b[34m\u001b[1mwandb\u001b[0m: \tbatch_size: 16\n",
            "\u001b[34m\u001b[1mwandb\u001b[0m: \tepochs: 5\n",
            "\u001b[34m\u001b[1mwandb\u001b[0m: \thidden_layer_size: 128\n",
            "\u001b[34m\u001b[1mwandb\u001b[0m: \tlearningg_rate_: 0.001\n",
            "\u001b[34m\u001b[1mwandb\u001b[0m: \tloss_type: cross_entropy\n",
            "\u001b[34m\u001b[1mwandb\u001b[0m: \tnum_hidden_layers: 3\n",
            "\u001b[34m\u001b[1mwandb\u001b[0m: \toptimizer: nadam\n",
            "\u001b[34m\u001b[1mwandb\u001b[0m: \tweight_initialization: xavier\n"
          ]
        },
        {
          "output_type": "display_data",
          "data": {
            "text/plain": [
              "<IPython.core.display.HTML object>"
            ],
            "text/html": [
              "Ignoring project 'MA23M021_A1_Q8_CROSS' when running a sweep."
            ]
          },
          "metadata": {}
        },
        {
          "output_type": "display_data",
          "data": {
            "text/plain": [
              "<IPython.core.display.HTML object>"
            ],
            "text/html": [
              "Tracking run with wandb version 0.19.7"
            ]
          },
          "metadata": {}
        },
        {
          "output_type": "display_data",
          "data": {
            "text/plain": [
              "<IPython.core.display.HTML object>"
            ],
            "text/html": [
              "Run data is saved locally in <code>/content/wandb/run-20250309_141048-t1st39qd</code>"
            ]
          },
          "metadata": {}
        },
        {
          "output_type": "display_data",
          "data": {
            "text/plain": [
              "<IPython.core.display.HTML object>"
            ],
            "text/html": [
              "Syncing run <strong><a href='https://wandb.ai/ma23m021-iit-madras/MA23M021_A1_Q8_CROSS/runs/t1st39qd' target=\"_blank\">rare-sweep-44</a></strong> to <a href='https://wandb.ai/ma23m021-iit-madras/MA23M021_A1_Q8_CROSS' target=\"_blank\">Weights & Biases</a> (<a href='https://wandb.me/developer-guide' target=\"_blank\">docs</a>)<br>Sweep page: <a href='https://wandb.ai/ma23m021-iit-madras/MA23M021_A1_Q8_CROSS/sweeps/64kuh29x' target=\"_blank\">https://wandb.ai/ma23m021-iit-madras/MA23M021_A1_Q8_CROSS/sweeps/64kuh29x</a>"
            ]
          },
          "metadata": {}
        },
        {
          "output_type": "display_data",
          "data": {
            "text/plain": [
              "<IPython.core.display.HTML object>"
            ],
            "text/html": [
              " View project at <a href='https://wandb.ai/ma23m021-iit-madras/MA23M021_A1_Q8_CROSS' target=\"_blank\">https://wandb.ai/ma23m021-iit-madras/MA23M021_A1_Q8_CROSS</a>"
            ]
          },
          "metadata": {}
        },
        {
          "output_type": "display_data",
          "data": {
            "text/plain": [
              "<IPython.core.display.HTML object>"
            ],
            "text/html": [
              " View sweep at <a href='https://wandb.ai/ma23m021-iit-madras/MA23M021_A1_Q8_CROSS/sweeps/64kuh29x' target=\"_blank\">https://wandb.ai/ma23m021-iit-madras/MA23M021_A1_Q8_CROSS/sweeps/64kuh29x</a>"
            ]
          },
          "metadata": {}
        },
        {
          "output_type": "display_data",
          "data": {
            "text/plain": [
              "<IPython.core.display.HTML object>"
            ],
            "text/html": [
              " View run at <a href='https://wandb.ai/ma23m021-iit-madras/MA23M021_A1_Q8_CROSS/runs/t1st39qd' target=\"_blank\">https://wandb.ai/ma23m021-iit-madras/MA23M021_A1_Q8_CROSS/runs/t1st39qd</a>"
            ]
          },
          "metadata": {}
        },
        {
          "output_type": "stream",
          "name": "stdout",
          "text": [
            "Epoch 1/5, cross_entropy - Train Loss: 0.6058, Val Loss: 0.4265, Val Accuracy: 0.8499\n",
            "Epoch 2/5, cross_entropy - Train Loss: 0.3956, Val Loss: 0.3721, Val Accuracy: 0.8628\n",
            "Epoch 3/5, cross_entropy - Train Loss: 0.3608, Val Loss: 0.3845, Val Accuracy: 0.8614\n",
            "Epoch 4/5, cross_entropy - Train Loss: 0.3408, Val Loss: 0.3586, Val Accuracy: 0.8686\n",
            "Epoch 5/5, cross_entropy - Train Loss: 0.3226, Val Loss: 0.3434, Val Accuracy: 0.8743\n"
          ]
        },
        {
          "output_type": "display_data",
          "data": {
            "text/plain": [
              "<IPython.core.display.HTML object>"
            ],
            "text/html": []
          },
          "metadata": {}
        },
        {
          "output_type": "display_data",
          "data": {
            "text/plain": [
              "<IPython.core.display.HTML object>"
            ],
            "text/html": [
              "<br>    <style><br>        .wandb-row {<br>            display: flex;<br>            flex-direction: row;<br>            flex-wrap: wrap;<br>            justify-content: flex-start;<br>            width: 100%;<br>        }<br>        .wandb-col {<br>            display: flex;<br>            flex-direction: column;<br>            flex-basis: 100%;<br>            flex: 1;<br>            padding: 10px;<br>        }<br>    </style><br><div class=\"wandb-row\"><div class=\"wandb-col\"><h3>Run history:</h3><br/><table class=\"wandb\"><tr><td>epoch</td><td>▁▃▅▆█</td></tr><tr><td>train_loss</td><td>█▃▂▁▁</td></tr><tr><td>val_accuracy</td><td>▁▅▄▆█</td></tr><tr><td>val_loss</td><td>█▃▄▂▁</td></tr></table><br/></div><div class=\"wandb-col\"><h3>Run summary:</h3><br/><table class=\"wandb\"><tr><td>epoch</td><td>5</td></tr><tr><td>loss_type</td><td>cross_entropy</td></tr><tr><td>train_loss</td><td>0.32263</td></tr><tr><td>val_accuracy</td><td>0.87433</td></tr><tr><td>val_loss</td><td>0.34341</td></tr></table><br/></div></div>"
            ]
          },
          "metadata": {}
        },
        {
          "output_type": "display_data",
          "data": {
            "text/plain": [
              "<IPython.core.display.HTML object>"
            ],
            "text/html": [
              " View run <strong style=\"color:#cdcd00\">rare-sweep-44</strong> at: <a href='https://wandb.ai/ma23m021-iit-madras/MA23M021_A1_Q8_CROSS/runs/t1st39qd' target=\"_blank\">https://wandb.ai/ma23m021-iit-madras/MA23M021_A1_Q8_CROSS/runs/t1st39qd</a><br> View project at: <a href='https://wandb.ai/ma23m021-iit-madras/MA23M021_A1_Q8_CROSS' target=\"_blank\">https://wandb.ai/ma23m021-iit-madras/MA23M021_A1_Q8_CROSS</a><br>Synced 5 W&B file(s), 0 media file(s), 0 artifact file(s) and 0 other file(s)"
            ]
          },
          "metadata": {}
        },
        {
          "output_type": "display_data",
          "data": {
            "text/plain": [
              "<IPython.core.display.HTML object>"
            ],
            "text/html": [
              "Find logs at: <code>./wandb/run-20250309_141048-t1st39qd/logs</code>"
            ]
          },
          "metadata": {}
        },
        {
          "output_type": "stream",
          "name": "stderr",
          "text": [
            "\u001b[34m\u001b[1mwandb\u001b[0m: Agent Starting Run: ry6fbutw with config:\n",
            "\u001b[34m\u001b[1mwandb\u001b[0m: \tactivation_function: tanh\n",
            "\u001b[34m\u001b[1mwandb\u001b[0m: \tbatch_size: 16\n",
            "\u001b[34m\u001b[1mwandb\u001b[0m: \tepochs: 10\n",
            "\u001b[34m\u001b[1mwandb\u001b[0m: \thidden_layer_size: 32\n",
            "\u001b[34m\u001b[1mwandb\u001b[0m: \tlearningg_rate_: 0.001\n",
            "\u001b[34m\u001b[1mwandb\u001b[0m: \tloss_type: cross_entropy\n",
            "\u001b[34m\u001b[1mwandb\u001b[0m: \tnum_hidden_layers: 3\n",
            "\u001b[34m\u001b[1mwandb\u001b[0m: \toptimizer: adam\n",
            "\u001b[34m\u001b[1mwandb\u001b[0m: \tweight_initialization: xavier\n"
          ]
        },
        {
          "output_type": "display_data",
          "data": {
            "text/plain": [
              "<IPython.core.display.HTML object>"
            ],
            "text/html": [
              "Ignoring project 'MA23M021_A1_Q8_CROSS' when running a sweep."
            ]
          },
          "metadata": {}
        },
        {
          "output_type": "display_data",
          "data": {
            "text/plain": [
              "<IPython.core.display.HTML object>"
            ],
            "text/html": [
              "Tracking run with wandb version 0.19.7"
            ]
          },
          "metadata": {}
        },
        {
          "output_type": "display_data",
          "data": {
            "text/plain": [
              "<IPython.core.display.HTML object>"
            ],
            "text/html": [
              "Run data is saved locally in <code>/content/wandb/run-20250309_141234-ry6fbutw</code>"
            ]
          },
          "metadata": {}
        },
        {
          "output_type": "display_data",
          "data": {
            "text/plain": [
              "<IPython.core.display.HTML object>"
            ],
            "text/html": [
              "Syncing run <strong><a href='https://wandb.ai/ma23m021-iit-madras/MA23M021_A1_Q8_CROSS/runs/ry6fbutw' target=\"_blank\">devoted-sweep-45</a></strong> to <a href='https://wandb.ai/ma23m021-iit-madras/MA23M021_A1_Q8_CROSS' target=\"_blank\">Weights & Biases</a> (<a href='https://wandb.me/developer-guide' target=\"_blank\">docs</a>)<br>Sweep page: <a href='https://wandb.ai/ma23m021-iit-madras/MA23M021_A1_Q8_CROSS/sweeps/64kuh29x' target=\"_blank\">https://wandb.ai/ma23m021-iit-madras/MA23M021_A1_Q8_CROSS/sweeps/64kuh29x</a>"
            ]
          },
          "metadata": {}
        },
        {
          "output_type": "display_data",
          "data": {
            "text/plain": [
              "<IPython.core.display.HTML object>"
            ],
            "text/html": [
              " View project at <a href='https://wandb.ai/ma23m021-iit-madras/MA23M021_A1_Q8_CROSS' target=\"_blank\">https://wandb.ai/ma23m021-iit-madras/MA23M021_A1_Q8_CROSS</a>"
            ]
          },
          "metadata": {}
        },
        {
          "output_type": "display_data",
          "data": {
            "text/plain": [
              "<IPython.core.display.HTML object>"
            ],
            "text/html": [
              " View sweep at <a href='https://wandb.ai/ma23m021-iit-madras/MA23M021_A1_Q8_CROSS/sweeps/64kuh29x' target=\"_blank\">https://wandb.ai/ma23m021-iit-madras/MA23M021_A1_Q8_CROSS/sweeps/64kuh29x</a>"
            ]
          },
          "metadata": {}
        },
        {
          "output_type": "display_data",
          "data": {
            "text/plain": [
              "<IPython.core.display.HTML object>"
            ],
            "text/html": [
              " View run at <a href='https://wandb.ai/ma23m021-iit-madras/MA23M021_A1_Q8_CROSS/runs/ry6fbutw' target=\"_blank\">https://wandb.ai/ma23m021-iit-madras/MA23M021_A1_Q8_CROSS/runs/ry6fbutw</a>"
            ]
          },
          "metadata": {}
        },
        {
          "output_type": "stream",
          "name": "stdout",
          "text": [
            "Epoch 1/10, cross_entropy - Train Loss: 0.8940, Val Loss: 0.5104, Val Accuracy: 0.8194\n",
            "Epoch 2/10, cross_entropy - Train Loss: 0.4497, Val Loss: 0.4385, Val Accuracy: 0.8422\n",
            "Epoch 3/10, cross_entropy - Train Loss: 0.3971, Val Loss: 0.3910, Val Accuracy: 0.8598\n",
            "Epoch 4/10, cross_entropy - Train Loss: 0.3677, Val Loss: 0.4078, Val Accuracy: 0.8522\n",
            "Epoch 5/10, cross_entropy - Train Loss: 0.3517, Val Loss: 0.3665, Val Accuracy: 0.8650\n",
            "Epoch 6/10, cross_entropy - Train Loss: 0.3387, Val Loss: 0.3485, Val Accuracy: 0.8772\n",
            "Epoch 7/10, cross_entropy - Train Loss: 0.3291, Val Loss: 0.3578, Val Accuracy: 0.8718\n",
            "Epoch 8/10, cross_entropy - Train Loss: 0.3174, Val Loss: 0.3475, Val Accuracy: 0.8742\n",
            "Epoch 9/10, cross_entropy - Train Loss: 0.3114, Val Loss: 0.3454, Val Accuracy: 0.8765\n",
            "Epoch 10/10, cross_entropy - Train Loss: 0.3015, Val Loss: 0.3540, Val Accuracy: 0.8766\n"
          ]
        },
        {
          "output_type": "display_data",
          "data": {
            "text/plain": [
              "<IPython.core.display.HTML object>"
            ],
            "text/html": []
          },
          "metadata": {}
        },
        {
          "output_type": "display_data",
          "data": {
            "text/plain": [
              "<IPython.core.display.HTML object>"
            ],
            "text/html": [
              "<br>    <style><br>        .wandb-row {<br>            display: flex;<br>            flex-direction: row;<br>            flex-wrap: wrap;<br>            justify-content: flex-start;<br>            width: 100%;<br>        }<br>        .wandb-col {<br>            display: flex;<br>            flex-direction: column;<br>            flex-basis: 100%;<br>            flex: 1;<br>            padding: 10px;<br>        }<br>    </style><br><div class=\"wandb-row\"><div class=\"wandb-col\"><h3>Run history:</h3><br/><table class=\"wandb\"><tr><td>epoch</td><td>▁▂▃▃▄▅▆▆▇█</td></tr><tr><td>train_loss</td><td>█▃▂▂▂▁▁▁▁▁</td></tr><tr><td>val_accuracy</td><td>▁▄▆▅▇█▇███</td></tr><tr><td>val_loss</td><td>█▅▃▄▂▁▂▁▁▁</td></tr></table><br/></div><div class=\"wandb-col\"><h3>Run summary:</h3><br/><table class=\"wandb\"><tr><td>epoch</td><td>10</td></tr><tr><td>loss_type</td><td>cross_entropy</td></tr><tr><td>train_loss</td><td>0.30154</td></tr><tr><td>val_accuracy</td><td>0.87658</td></tr><tr><td>val_loss</td><td>0.35401</td></tr></table><br/></div></div>"
            ]
          },
          "metadata": {}
        },
        {
          "output_type": "display_data",
          "data": {
            "text/plain": [
              "<IPython.core.display.HTML object>"
            ],
            "text/html": [
              " View run <strong style=\"color:#cdcd00\">devoted-sweep-45</strong> at: <a href='https://wandb.ai/ma23m021-iit-madras/MA23M021_A1_Q8_CROSS/runs/ry6fbutw' target=\"_blank\">https://wandb.ai/ma23m021-iit-madras/MA23M021_A1_Q8_CROSS/runs/ry6fbutw</a><br> View project at: <a href='https://wandb.ai/ma23m021-iit-madras/MA23M021_A1_Q8_CROSS' target=\"_blank\">https://wandb.ai/ma23m021-iit-madras/MA23M021_A1_Q8_CROSS</a><br>Synced 5 W&B file(s), 0 media file(s), 0 artifact file(s) and 0 other file(s)"
            ]
          },
          "metadata": {}
        },
        {
          "output_type": "display_data",
          "data": {
            "text/plain": [
              "<IPython.core.display.HTML object>"
            ],
            "text/html": [
              "Find logs at: <code>./wandb/run-20250309_141234-ry6fbutw/logs</code>"
            ]
          },
          "metadata": {}
        },
        {
          "output_type": "stream",
          "name": "stderr",
          "text": [
            "\u001b[34m\u001b[1mwandb\u001b[0m: Agent Starting Run: 38hb60m0 with config:\n",
            "\u001b[34m\u001b[1mwandb\u001b[0m: \tactivation_function: tanh\n",
            "\u001b[34m\u001b[1mwandb\u001b[0m: \tbatch_size: 16\n",
            "\u001b[34m\u001b[1mwandb\u001b[0m: \tepochs: 5\n",
            "\u001b[34m\u001b[1mwandb\u001b[0m: \thidden_layer_size: 128\n",
            "\u001b[34m\u001b[1mwandb\u001b[0m: \tlearningg_rate_: 0.001\n",
            "\u001b[34m\u001b[1mwandb\u001b[0m: \tloss_type: cross_entropy\n",
            "\u001b[34m\u001b[1mwandb\u001b[0m: \tnum_hidden_layers: 4\n",
            "\u001b[34m\u001b[1mwandb\u001b[0m: \toptimizer: adam\n",
            "\u001b[34m\u001b[1mwandb\u001b[0m: \tweight_initialization: xavier\n"
          ]
        },
        {
          "output_type": "display_data",
          "data": {
            "text/plain": [
              "<IPython.core.display.HTML object>"
            ],
            "text/html": [
              "Ignoring project 'MA23M021_A1_Q8_CROSS' when running a sweep."
            ]
          },
          "metadata": {}
        },
        {
          "output_type": "display_data",
          "data": {
            "text/plain": [
              "<IPython.core.display.HTML object>"
            ],
            "text/html": [
              "Tracking run with wandb version 0.19.7"
            ]
          },
          "metadata": {}
        },
        {
          "output_type": "display_data",
          "data": {
            "text/plain": [
              "<IPython.core.display.HTML object>"
            ],
            "text/html": [
              "Run data is saved locally in <code>/content/wandb/run-20250309_141340-38hb60m0</code>"
            ]
          },
          "metadata": {}
        },
        {
          "output_type": "display_data",
          "data": {
            "text/plain": [
              "<IPython.core.display.HTML object>"
            ],
            "text/html": [
              "Syncing run <strong><a href='https://wandb.ai/ma23m021-iit-madras/MA23M021_A1_Q8_CROSS/runs/38hb60m0' target=\"_blank\">morning-sweep-46</a></strong> to <a href='https://wandb.ai/ma23m021-iit-madras/MA23M021_A1_Q8_CROSS' target=\"_blank\">Weights & Biases</a> (<a href='https://wandb.me/developer-guide' target=\"_blank\">docs</a>)<br>Sweep page: <a href='https://wandb.ai/ma23m021-iit-madras/MA23M021_A1_Q8_CROSS/sweeps/64kuh29x' target=\"_blank\">https://wandb.ai/ma23m021-iit-madras/MA23M021_A1_Q8_CROSS/sweeps/64kuh29x</a>"
            ]
          },
          "metadata": {}
        },
        {
          "output_type": "display_data",
          "data": {
            "text/plain": [
              "<IPython.core.display.HTML object>"
            ],
            "text/html": [
              " View project at <a href='https://wandb.ai/ma23m021-iit-madras/MA23M021_A1_Q8_CROSS' target=\"_blank\">https://wandb.ai/ma23m021-iit-madras/MA23M021_A1_Q8_CROSS</a>"
            ]
          },
          "metadata": {}
        },
        {
          "output_type": "display_data",
          "data": {
            "text/plain": [
              "<IPython.core.display.HTML object>"
            ],
            "text/html": [
              " View sweep at <a href='https://wandb.ai/ma23m021-iit-madras/MA23M021_A1_Q8_CROSS/sweeps/64kuh29x' target=\"_blank\">https://wandb.ai/ma23m021-iit-madras/MA23M021_A1_Q8_CROSS/sweeps/64kuh29x</a>"
            ]
          },
          "metadata": {}
        },
        {
          "output_type": "display_data",
          "data": {
            "text/plain": [
              "<IPython.core.display.HTML object>"
            ],
            "text/html": [
              " View run at <a href='https://wandb.ai/ma23m021-iit-madras/MA23M021_A1_Q8_CROSS/runs/38hb60m0' target=\"_blank\">https://wandb.ai/ma23m021-iit-madras/MA23M021_A1_Q8_CROSS/runs/38hb60m0</a>"
            ]
          },
          "metadata": {}
        },
        {
          "output_type": "stream",
          "name": "stdout",
          "text": [
            "Epoch 1/5, cross_entropy - Train Loss: 0.6820, Val Loss: 0.4601, Val Accuracy: 0.8330\n",
            "Epoch 2/5, cross_entropy - Train Loss: 0.4361, Val Loss: 0.4118, Val Accuracy: 0.8470\n",
            "Epoch 3/5, cross_entropy - Train Loss: 0.3886, Val Loss: 0.3842, Val Accuracy: 0.8630\n",
            "Epoch 4/5, cross_entropy - Train Loss: 0.3628, Val Loss: 0.3878, Val Accuracy: 0.8645\n",
            "Epoch 5/5, cross_entropy - Train Loss: 0.3449, Val Loss: 0.3550, Val Accuracy: 0.8710\n"
          ]
        },
        {
          "output_type": "display_data",
          "data": {
            "text/plain": [
              "<IPython.core.display.HTML object>"
            ],
            "text/html": []
          },
          "metadata": {}
        },
        {
          "output_type": "display_data",
          "data": {
            "text/plain": [
              "<IPython.core.display.HTML object>"
            ],
            "text/html": [
              "<br>    <style><br>        .wandb-row {<br>            display: flex;<br>            flex-direction: row;<br>            flex-wrap: wrap;<br>            justify-content: flex-start;<br>            width: 100%;<br>        }<br>        .wandb-col {<br>            display: flex;<br>            flex-direction: column;<br>            flex-basis: 100%;<br>            flex: 1;<br>            padding: 10px;<br>        }<br>    </style><br><div class=\"wandb-row\"><div class=\"wandb-col\"><h3>Run history:</h3><br/><table class=\"wandb\"><tr><td>epoch</td><td>▁▃▅▆█</td></tr><tr><td>train_loss</td><td>█▃▂▁▁</td></tr><tr><td>val_accuracy</td><td>▁▄▇▇█</td></tr><tr><td>val_loss</td><td>█▅▃▃▁</td></tr></table><br/></div><div class=\"wandb-col\"><h3>Run summary:</h3><br/><table class=\"wandb\"><tr><td>epoch</td><td>5</td></tr><tr><td>loss_type</td><td>cross_entropy</td></tr><tr><td>train_loss</td><td>0.34488</td></tr><tr><td>val_accuracy</td><td>0.871</td></tr><tr><td>val_loss</td><td>0.35503</td></tr></table><br/></div></div>"
            ]
          },
          "metadata": {}
        },
        {
          "output_type": "display_data",
          "data": {
            "text/plain": [
              "<IPython.core.display.HTML object>"
            ],
            "text/html": [
              " View run <strong style=\"color:#cdcd00\">morning-sweep-46</strong> at: <a href='https://wandb.ai/ma23m021-iit-madras/MA23M021_A1_Q8_CROSS/runs/38hb60m0' target=\"_blank\">https://wandb.ai/ma23m021-iit-madras/MA23M021_A1_Q8_CROSS/runs/38hb60m0</a><br> View project at: <a href='https://wandb.ai/ma23m021-iit-madras/MA23M021_A1_Q8_CROSS' target=\"_blank\">https://wandb.ai/ma23m021-iit-madras/MA23M021_A1_Q8_CROSS</a><br>Synced 5 W&B file(s), 0 media file(s), 0 artifact file(s) and 0 other file(s)"
            ]
          },
          "metadata": {}
        },
        {
          "output_type": "display_data",
          "data": {
            "text/plain": [
              "<IPython.core.display.HTML object>"
            ],
            "text/html": [
              "Find logs at: <code>./wandb/run-20250309_141340-38hb60m0/logs</code>"
            ]
          },
          "metadata": {}
        },
        {
          "output_type": "stream",
          "name": "stderr",
          "text": [
            "\u001b[34m\u001b[1mwandb\u001b[0m: Agent Starting Run: n8cxuvj9 with config:\n",
            "\u001b[34m\u001b[1mwandb\u001b[0m: \tactivation_function: tanh\n",
            "\u001b[34m\u001b[1mwandb\u001b[0m: \tbatch_size: 16\n",
            "\u001b[34m\u001b[1mwandb\u001b[0m: \tepochs: 5\n",
            "\u001b[34m\u001b[1mwandb\u001b[0m: \thidden_layer_size: 64\n",
            "\u001b[34m\u001b[1mwandb\u001b[0m: \tlearningg_rate_: 0.001\n",
            "\u001b[34m\u001b[1mwandb\u001b[0m: \tloss_type: cross_entropy\n",
            "\u001b[34m\u001b[1mwandb\u001b[0m: \tnum_hidden_layers: 3\n",
            "\u001b[34m\u001b[1mwandb\u001b[0m: \toptimizer: nadam\n",
            "\u001b[34m\u001b[1mwandb\u001b[0m: \tweight_initialization: xavier\n"
          ]
        },
        {
          "output_type": "display_data",
          "data": {
            "text/plain": [
              "<IPython.core.display.HTML object>"
            ],
            "text/html": [
              "Ignoring project 'MA23M021_A1_Q8_CROSS' when running a sweep."
            ]
          },
          "metadata": {}
        },
        {
          "output_type": "display_data",
          "data": {
            "text/plain": [
              "<IPython.core.display.HTML object>"
            ],
            "text/html": [
              "Tracking run with wandb version 0.19.7"
            ]
          },
          "metadata": {}
        },
        {
          "output_type": "display_data",
          "data": {
            "text/plain": [
              "<IPython.core.display.HTML object>"
            ],
            "text/html": [
              "Run data is saved locally in <code>/content/wandb/run-20250309_141532-n8cxuvj9</code>"
            ]
          },
          "metadata": {}
        },
        {
          "output_type": "display_data",
          "data": {
            "text/plain": [
              "<IPython.core.display.HTML object>"
            ],
            "text/html": [
              "Syncing run <strong><a href='https://wandb.ai/ma23m021-iit-madras/MA23M021_A1_Q8_CROSS/runs/n8cxuvj9' target=\"_blank\">worthy-sweep-47</a></strong> to <a href='https://wandb.ai/ma23m021-iit-madras/MA23M021_A1_Q8_CROSS' target=\"_blank\">Weights & Biases</a> (<a href='https://wandb.me/developer-guide' target=\"_blank\">docs</a>)<br>Sweep page: <a href='https://wandb.ai/ma23m021-iit-madras/MA23M021_A1_Q8_CROSS/sweeps/64kuh29x' target=\"_blank\">https://wandb.ai/ma23m021-iit-madras/MA23M021_A1_Q8_CROSS/sweeps/64kuh29x</a>"
            ]
          },
          "metadata": {}
        },
        {
          "output_type": "display_data",
          "data": {
            "text/plain": [
              "<IPython.core.display.HTML object>"
            ],
            "text/html": [
              " View project at <a href='https://wandb.ai/ma23m021-iit-madras/MA23M021_A1_Q8_CROSS' target=\"_blank\">https://wandb.ai/ma23m021-iit-madras/MA23M021_A1_Q8_CROSS</a>"
            ]
          },
          "metadata": {}
        },
        {
          "output_type": "display_data",
          "data": {
            "text/plain": [
              "<IPython.core.display.HTML object>"
            ],
            "text/html": [
              " View sweep at <a href='https://wandb.ai/ma23m021-iit-madras/MA23M021_A1_Q8_CROSS/sweeps/64kuh29x' target=\"_blank\">https://wandb.ai/ma23m021-iit-madras/MA23M021_A1_Q8_CROSS/sweeps/64kuh29x</a>"
            ]
          },
          "metadata": {}
        },
        {
          "output_type": "display_data",
          "data": {
            "text/plain": [
              "<IPython.core.display.HTML object>"
            ],
            "text/html": [
              " View run at <a href='https://wandb.ai/ma23m021-iit-madras/MA23M021_A1_Q8_CROSS/runs/n8cxuvj9' target=\"_blank\">https://wandb.ai/ma23m021-iit-madras/MA23M021_A1_Q8_CROSS/runs/n8cxuvj9</a>"
            ]
          },
          "metadata": {}
        },
        {
          "output_type": "stream",
          "name": "stdout",
          "text": [
            "Epoch 1/5, cross_entropy - Train Loss: 0.7167, Val Loss: 0.4697, Val Accuracy: 0.8372\n",
            "Epoch 2/5, cross_entropy - Train Loss: 0.4101, Val Loss: 0.3796, Val Accuracy: 0.8631\n",
            "Epoch 3/5, cross_entropy - Train Loss: 0.3705, Val Loss: 0.3783, Val Accuracy: 0.8610\n",
            "Epoch 4/5, cross_entropy - Train Loss: 0.3484, Val Loss: 0.3661, Val Accuracy: 0.8698\n",
            "Epoch 5/5, cross_entropy - Train Loss: 0.3324, Val Loss: 0.3625, Val Accuracy: 0.8680\n"
          ]
        },
        {
          "output_type": "display_data",
          "data": {
            "text/plain": [
              "<IPython.core.display.HTML object>"
            ],
            "text/html": []
          },
          "metadata": {}
        },
        {
          "output_type": "display_data",
          "data": {
            "text/plain": [
              "<IPython.core.display.HTML object>"
            ],
            "text/html": [
              "<br>    <style><br>        .wandb-row {<br>            display: flex;<br>            flex-direction: row;<br>            flex-wrap: wrap;<br>            justify-content: flex-start;<br>            width: 100%;<br>        }<br>        .wandb-col {<br>            display: flex;<br>            flex-direction: column;<br>            flex-basis: 100%;<br>            flex: 1;<br>            padding: 10px;<br>        }<br>    </style><br><div class=\"wandb-row\"><div class=\"wandb-col\"><h3>Run history:</h3><br/><table class=\"wandb\"><tr><td>epoch</td><td>▁▃▅▆█</td></tr><tr><td>train_loss</td><td>█▂▂▁▁</td></tr><tr><td>val_accuracy</td><td>▁▇▆██</td></tr><tr><td>val_loss</td><td>█▂▂▁▁</td></tr></table><br/></div><div class=\"wandb-col\"><h3>Run summary:</h3><br/><table class=\"wandb\"><tr><td>epoch</td><td>5</td></tr><tr><td>loss_type</td><td>cross_entropy</td></tr><tr><td>train_loss</td><td>0.33242</td></tr><tr><td>val_accuracy</td><td>0.868</td></tr><tr><td>val_loss</td><td>0.36254</td></tr></table><br/></div></div>"
            ]
          },
          "metadata": {}
        },
        {
          "output_type": "display_data",
          "data": {
            "text/plain": [
              "<IPython.core.display.HTML object>"
            ],
            "text/html": [
              " View run <strong style=\"color:#cdcd00\">worthy-sweep-47</strong> at: <a href='https://wandb.ai/ma23m021-iit-madras/MA23M021_A1_Q8_CROSS/runs/n8cxuvj9' target=\"_blank\">https://wandb.ai/ma23m021-iit-madras/MA23M021_A1_Q8_CROSS/runs/n8cxuvj9</a><br> View project at: <a href='https://wandb.ai/ma23m021-iit-madras/MA23M021_A1_Q8_CROSS' target=\"_blank\">https://wandb.ai/ma23m021-iit-madras/MA23M021_A1_Q8_CROSS</a><br>Synced 5 W&B file(s), 0 media file(s), 0 artifact file(s) and 0 other file(s)"
            ]
          },
          "metadata": {}
        },
        {
          "output_type": "display_data",
          "data": {
            "text/plain": [
              "<IPython.core.display.HTML object>"
            ],
            "text/html": [
              "Find logs at: <code>./wandb/run-20250309_141532-n8cxuvj9/logs</code>"
            ]
          },
          "metadata": {}
        },
        {
          "output_type": "stream",
          "name": "stderr",
          "text": [
            "\u001b[34m\u001b[1mwandb\u001b[0m: Agent Starting Run: efuyx612 with config:\n",
            "\u001b[34m\u001b[1mwandb\u001b[0m: \tactivation_function: tanh\n",
            "\u001b[34m\u001b[1mwandb\u001b[0m: \tbatch_size: 16\n",
            "\u001b[34m\u001b[1mwandb\u001b[0m: \tepochs: 5\n",
            "\u001b[34m\u001b[1mwandb\u001b[0m: \thidden_layer_size: 32\n",
            "\u001b[34m\u001b[1mwandb\u001b[0m: \tlearningg_rate_: 0.001\n",
            "\u001b[34m\u001b[1mwandb\u001b[0m: \tloss_type: cross_entropy\n",
            "\u001b[34m\u001b[1mwandb\u001b[0m: \tnum_hidden_layers: 3\n",
            "\u001b[34m\u001b[1mwandb\u001b[0m: \toptimizer: nadam\n",
            "\u001b[34m\u001b[1mwandb\u001b[0m: \tweight_initialization: xavier\n"
          ]
        },
        {
          "output_type": "display_data",
          "data": {
            "text/plain": [
              "<IPython.core.display.HTML object>"
            ],
            "text/html": [
              "Ignoring project 'MA23M021_A1_Q8_CROSS' when running a sweep."
            ]
          },
          "metadata": {}
        },
        {
          "output_type": "display_data",
          "data": {
            "text/plain": [
              "<IPython.core.display.HTML object>"
            ],
            "text/html": [
              "Tracking run with wandb version 0.19.7"
            ]
          },
          "metadata": {}
        },
        {
          "output_type": "display_data",
          "data": {
            "text/plain": [
              "<IPython.core.display.HTML object>"
            ],
            "text/html": [
              "Run data is saved locally in <code>/content/wandb/run-20250309_141628-efuyx612</code>"
            ]
          },
          "metadata": {}
        },
        {
          "output_type": "display_data",
          "data": {
            "text/plain": [
              "<IPython.core.display.HTML object>"
            ],
            "text/html": [
              "Syncing run <strong><a href='https://wandb.ai/ma23m021-iit-madras/MA23M021_A1_Q8_CROSS/runs/efuyx612' target=\"_blank\">wandering-sweep-48</a></strong> to <a href='https://wandb.ai/ma23m021-iit-madras/MA23M021_A1_Q8_CROSS' target=\"_blank\">Weights & Biases</a> (<a href='https://wandb.me/developer-guide' target=\"_blank\">docs</a>)<br>Sweep page: <a href='https://wandb.ai/ma23m021-iit-madras/MA23M021_A1_Q8_CROSS/sweeps/64kuh29x' target=\"_blank\">https://wandb.ai/ma23m021-iit-madras/MA23M021_A1_Q8_CROSS/sweeps/64kuh29x</a>"
            ]
          },
          "metadata": {}
        },
        {
          "output_type": "display_data",
          "data": {
            "text/plain": [
              "<IPython.core.display.HTML object>"
            ],
            "text/html": [
              " View project at <a href='https://wandb.ai/ma23m021-iit-madras/MA23M021_A1_Q8_CROSS' target=\"_blank\">https://wandb.ai/ma23m021-iit-madras/MA23M021_A1_Q8_CROSS</a>"
            ]
          },
          "metadata": {}
        },
        {
          "output_type": "display_data",
          "data": {
            "text/plain": [
              "<IPython.core.display.HTML object>"
            ],
            "text/html": [
              " View sweep at <a href='https://wandb.ai/ma23m021-iit-madras/MA23M021_A1_Q8_CROSS/sweeps/64kuh29x' target=\"_blank\">https://wandb.ai/ma23m021-iit-madras/MA23M021_A1_Q8_CROSS/sweeps/64kuh29x</a>"
            ]
          },
          "metadata": {}
        },
        {
          "output_type": "display_data",
          "data": {
            "text/plain": [
              "<IPython.core.display.HTML object>"
            ],
            "text/html": [
              " View run at <a href='https://wandb.ai/ma23m021-iit-madras/MA23M021_A1_Q8_CROSS/runs/efuyx612' target=\"_blank\">https://wandb.ai/ma23m021-iit-madras/MA23M021_A1_Q8_CROSS/runs/efuyx612</a>"
            ]
          },
          "metadata": {}
        },
        {
          "output_type": "stream",
          "name": "stdout",
          "text": [
            "Epoch 1/5, cross_entropy - Train Loss: 0.9438, Val Loss: 0.5384, Val Accuracy: 0.8057\n",
            "Epoch 2/5, cross_entropy - Train Loss: 0.4742, Val Loss: 0.4506, Val Accuracy: 0.8420\n",
            "Epoch 3/5, cross_entropy - Train Loss: 0.4049, Val Loss: 0.3940, Val Accuracy: 0.8607\n",
            "Epoch 4/5, cross_entropy - Train Loss: 0.3753, Val Loss: 0.3854, Val Accuracy: 0.8637\n",
            "Epoch 5/5, cross_entropy - Train Loss: 0.3555, Val Loss: 0.3785, Val Accuracy: 0.8647\n"
          ]
        },
        {
          "output_type": "display_data",
          "data": {
            "text/plain": [
              "<IPython.core.display.HTML object>"
            ],
            "text/html": []
          },
          "metadata": {}
        },
        {
          "output_type": "display_data",
          "data": {
            "text/plain": [
              "<IPython.core.display.HTML object>"
            ],
            "text/html": [
              "<br>    <style><br>        .wandb-row {<br>            display: flex;<br>            flex-direction: row;<br>            flex-wrap: wrap;<br>            justify-content: flex-start;<br>            width: 100%;<br>        }<br>        .wandb-col {<br>            display: flex;<br>            flex-direction: column;<br>            flex-basis: 100%;<br>            flex: 1;<br>            padding: 10px;<br>        }<br>    </style><br><div class=\"wandb-row\"><div class=\"wandb-col\"><h3>Run history:</h3><br/><table class=\"wandb\"><tr><td>epoch</td><td>▁▃▅▆█</td></tr><tr><td>train_loss</td><td>█▂▂▁▁</td></tr><tr><td>val_accuracy</td><td>▁▅███</td></tr><tr><td>val_loss</td><td>█▄▂▁▁</td></tr></table><br/></div><div class=\"wandb-col\"><h3>Run summary:</h3><br/><table class=\"wandb\"><tr><td>epoch</td><td>5</td></tr><tr><td>loss_type</td><td>cross_entropy</td></tr><tr><td>train_loss</td><td>0.3555</td></tr><tr><td>val_accuracy</td><td>0.86467</td></tr><tr><td>val_loss</td><td>0.37852</td></tr></table><br/></div></div>"
            ]
          },
          "metadata": {}
        },
        {
          "output_type": "display_data",
          "data": {
            "text/plain": [
              "<IPython.core.display.HTML object>"
            ],
            "text/html": [
              " View run <strong style=\"color:#cdcd00\">wandering-sweep-48</strong> at: <a href='https://wandb.ai/ma23m021-iit-madras/MA23M021_A1_Q8_CROSS/runs/efuyx612' target=\"_blank\">https://wandb.ai/ma23m021-iit-madras/MA23M021_A1_Q8_CROSS/runs/efuyx612</a><br> View project at: <a href='https://wandb.ai/ma23m021-iit-madras/MA23M021_A1_Q8_CROSS' target=\"_blank\">https://wandb.ai/ma23m021-iit-madras/MA23M021_A1_Q8_CROSS</a><br>Synced 5 W&B file(s), 0 media file(s), 0 artifact file(s) and 0 other file(s)"
            ]
          },
          "metadata": {}
        },
        {
          "output_type": "display_data",
          "data": {
            "text/plain": [
              "<IPython.core.display.HTML object>"
            ],
            "text/html": [
              "Find logs at: <code>./wandb/run-20250309_141628-efuyx612/logs</code>"
            ]
          },
          "metadata": {}
        },
        {
          "output_type": "stream",
          "name": "stderr",
          "text": [
            "\u001b[34m\u001b[1mwandb\u001b[0m: Agent Starting Run: qrzygwzn with config:\n",
            "\u001b[34m\u001b[1mwandb\u001b[0m: \tactivation_function: tanh\n",
            "\u001b[34m\u001b[1mwandb\u001b[0m: \tbatch_size: 16\n",
            "\u001b[34m\u001b[1mwandb\u001b[0m: \tepochs: 5\n",
            "\u001b[34m\u001b[1mwandb\u001b[0m: \thidden_layer_size: 64\n",
            "\u001b[34m\u001b[1mwandb\u001b[0m: \tlearningg_rate_: 0.001\n",
            "\u001b[34m\u001b[1mwandb\u001b[0m: \tloss_type: cross_entropy\n",
            "\u001b[34m\u001b[1mwandb\u001b[0m: \tnum_hidden_layers: 3\n",
            "\u001b[34m\u001b[1mwandb\u001b[0m: \toptimizer: momentum\n",
            "\u001b[34m\u001b[1mwandb\u001b[0m: \tweight_initialization: xavier\n"
          ]
        },
        {
          "output_type": "display_data",
          "data": {
            "text/plain": [
              "<IPython.core.display.HTML object>"
            ],
            "text/html": [
              "Ignoring project 'MA23M021_A1_Q8_CROSS' when running a sweep."
            ]
          },
          "metadata": {}
        },
        {
          "output_type": "display_data",
          "data": {
            "text/plain": [
              "<IPython.core.display.HTML object>"
            ],
            "text/html": [
              "Tracking run with wandb version 0.19.7"
            ]
          },
          "metadata": {}
        },
        {
          "output_type": "display_data",
          "data": {
            "text/plain": [
              "<IPython.core.display.HTML object>"
            ],
            "text/html": [
              "Run data is saved locally in <code>/content/wandb/run-20250309_141704-qrzygwzn</code>"
            ]
          },
          "metadata": {}
        },
        {
          "output_type": "display_data",
          "data": {
            "text/plain": [
              "<IPython.core.display.HTML object>"
            ],
            "text/html": [
              "Syncing run <strong><a href='https://wandb.ai/ma23m021-iit-madras/MA23M021_A1_Q8_CROSS/runs/qrzygwzn' target=\"_blank\">soft-sweep-49</a></strong> to <a href='https://wandb.ai/ma23m021-iit-madras/MA23M021_A1_Q8_CROSS' target=\"_blank\">Weights & Biases</a> (<a href='https://wandb.me/developer-guide' target=\"_blank\">docs</a>)<br>Sweep page: <a href='https://wandb.ai/ma23m021-iit-madras/MA23M021_A1_Q8_CROSS/sweeps/64kuh29x' target=\"_blank\">https://wandb.ai/ma23m021-iit-madras/MA23M021_A1_Q8_CROSS/sweeps/64kuh29x</a>"
            ]
          },
          "metadata": {}
        },
        {
          "output_type": "display_data",
          "data": {
            "text/plain": [
              "<IPython.core.display.HTML object>"
            ],
            "text/html": [
              " View project at <a href='https://wandb.ai/ma23m021-iit-madras/MA23M021_A1_Q8_CROSS' target=\"_blank\">https://wandb.ai/ma23m021-iit-madras/MA23M021_A1_Q8_CROSS</a>"
            ]
          },
          "metadata": {}
        },
        {
          "output_type": "display_data",
          "data": {
            "text/plain": [
              "<IPython.core.display.HTML object>"
            ],
            "text/html": [
              " View sweep at <a href='https://wandb.ai/ma23m021-iit-madras/MA23M021_A1_Q8_CROSS/sweeps/64kuh29x' target=\"_blank\">https://wandb.ai/ma23m021-iit-madras/MA23M021_A1_Q8_CROSS/sweeps/64kuh29x</a>"
            ]
          },
          "metadata": {}
        },
        {
          "output_type": "display_data",
          "data": {
            "text/plain": [
              "<IPython.core.display.HTML object>"
            ],
            "text/html": [
              " View run at <a href='https://wandb.ai/ma23m021-iit-madras/MA23M021_A1_Q8_CROSS/runs/qrzygwzn' target=\"_blank\">https://wandb.ai/ma23m021-iit-madras/MA23M021_A1_Q8_CROSS/runs/qrzygwzn</a>"
            ]
          },
          "metadata": {}
        },
        {
          "output_type": "stream",
          "name": "stdout",
          "text": [
            "Epoch 1/5, cross_entropy - Train Loss: 2.2261, Val Loss: 2.1279, Val Accuracy: 0.5465\n",
            "Epoch 2/5, cross_entropy - Train Loss: 2.0060, Val Loss: 1.8757, Val Accuracy: 0.6278\n",
            "Epoch 3/5, cross_entropy - Train Loss: 1.7269, Val Loss: 1.5916, Val Accuracy: 0.6548\n",
            "Epoch 4/5, cross_entropy - Train Loss: 1.4605, Val Loss: 1.3531, Val Accuracy: 0.6806\n",
            "Epoch 5/5, cross_entropy - Train Loss: 1.2513, Val Loss: 1.1757, Val Accuracy: 0.7066\n"
          ]
        },
        {
          "output_type": "display_data",
          "data": {
            "text/plain": [
              "<IPython.core.display.HTML object>"
            ],
            "text/html": []
          },
          "metadata": {}
        },
        {
          "output_type": "display_data",
          "data": {
            "text/plain": [
              "<IPython.core.display.HTML object>"
            ],
            "text/html": [
              "<br>    <style><br>        .wandb-row {<br>            display: flex;<br>            flex-direction: row;<br>            flex-wrap: wrap;<br>            justify-content: flex-start;<br>            width: 100%;<br>        }<br>        .wandb-col {<br>            display: flex;<br>            flex-direction: column;<br>            flex-basis: 100%;<br>            flex: 1;<br>            padding: 10px;<br>        }<br>    </style><br><div class=\"wandb-row\"><div class=\"wandb-col\"><h3>Run history:</h3><br/><table class=\"wandb\"><tr><td>epoch</td><td>▁▃▅▆█</td></tr><tr><td>train_loss</td><td>█▆▄▃▁</td></tr><tr><td>val_accuracy</td><td>▁▅▆▇█</td></tr><tr><td>val_loss</td><td>█▆▄▂▁</td></tr></table><br/></div><div class=\"wandb-col\"><h3>Run summary:</h3><br/><table class=\"wandb\"><tr><td>epoch</td><td>5</td></tr><tr><td>loss_type</td><td>cross_entropy</td></tr><tr><td>train_loss</td><td>1.25129</td></tr><tr><td>val_accuracy</td><td>0.70658</td></tr><tr><td>val_loss</td><td>1.17565</td></tr></table><br/></div></div>"
            ]
          },
          "metadata": {}
        },
        {
          "output_type": "display_data",
          "data": {
            "text/plain": [
              "<IPython.core.display.HTML object>"
            ],
            "text/html": [
              " View run <strong style=\"color:#cdcd00\">soft-sweep-49</strong> at: <a href='https://wandb.ai/ma23m021-iit-madras/MA23M021_A1_Q8_CROSS/runs/qrzygwzn' target=\"_blank\">https://wandb.ai/ma23m021-iit-madras/MA23M021_A1_Q8_CROSS/runs/qrzygwzn</a><br> View project at: <a href='https://wandb.ai/ma23m021-iit-madras/MA23M021_A1_Q8_CROSS' target=\"_blank\">https://wandb.ai/ma23m021-iit-madras/MA23M021_A1_Q8_CROSS</a><br>Synced 5 W&B file(s), 0 media file(s), 0 artifact file(s) and 0 other file(s)"
            ]
          },
          "metadata": {}
        },
        {
          "output_type": "display_data",
          "data": {
            "text/plain": [
              "<IPython.core.display.HTML object>"
            ],
            "text/html": [
              "Find logs at: <code>./wandb/run-20250309_141704-qrzygwzn/logs</code>"
            ]
          },
          "metadata": {}
        },
        {
          "output_type": "stream",
          "name": "stderr",
          "text": [
            "\u001b[34m\u001b[1mwandb\u001b[0m: Agent Starting Run: gtx958xt with config:\n",
            "\u001b[34m\u001b[1mwandb\u001b[0m: \tactivation_function: tanh\n",
            "\u001b[34m\u001b[1mwandb\u001b[0m: \tbatch_size: 16\n",
            "\u001b[34m\u001b[1mwandb\u001b[0m: \tepochs: 5\n",
            "\u001b[34m\u001b[1mwandb\u001b[0m: \thidden_layer_size: 64\n",
            "\u001b[34m\u001b[1mwandb\u001b[0m: \tlearningg_rate_: 0.001\n",
            "\u001b[34m\u001b[1mwandb\u001b[0m: \tloss_type: cross_entropy\n",
            "\u001b[34m\u001b[1mwandb\u001b[0m: \tnum_hidden_layers: 3\n",
            "\u001b[34m\u001b[1mwandb\u001b[0m: \toptimizer: adam\n",
            "\u001b[34m\u001b[1mwandb\u001b[0m: \tweight_initialization: xavier\n"
          ]
        },
        {
          "output_type": "display_data",
          "data": {
            "text/plain": [
              "<IPython.core.display.HTML object>"
            ],
            "text/html": [
              "Ignoring project 'MA23M021_A1_Q8_CROSS' when running a sweep."
            ]
          },
          "metadata": {}
        },
        {
          "output_type": "display_data",
          "data": {
            "text/plain": [
              "<IPython.core.display.HTML object>"
            ],
            "text/html": [
              "Tracking run with wandb version 0.19.7"
            ]
          },
          "metadata": {}
        },
        {
          "output_type": "display_data",
          "data": {
            "text/plain": [
              "<IPython.core.display.HTML object>"
            ],
            "text/html": [
              "Run data is saved locally in <code>/content/wandb/run-20250309_141740-gtx958xt</code>"
            ]
          },
          "metadata": {}
        },
        {
          "output_type": "display_data",
          "data": {
            "text/plain": [
              "<IPython.core.display.HTML object>"
            ],
            "text/html": [
              "Syncing run <strong><a href='https://wandb.ai/ma23m021-iit-madras/MA23M021_A1_Q8_CROSS/runs/gtx958xt' target=\"_blank\">jumping-sweep-50</a></strong> to <a href='https://wandb.ai/ma23m021-iit-madras/MA23M021_A1_Q8_CROSS' target=\"_blank\">Weights & Biases</a> (<a href='https://wandb.me/developer-guide' target=\"_blank\">docs</a>)<br>Sweep page: <a href='https://wandb.ai/ma23m021-iit-madras/MA23M021_A1_Q8_CROSS/sweeps/64kuh29x' target=\"_blank\">https://wandb.ai/ma23m021-iit-madras/MA23M021_A1_Q8_CROSS/sweeps/64kuh29x</a>"
            ]
          },
          "metadata": {}
        },
        {
          "output_type": "display_data",
          "data": {
            "text/plain": [
              "<IPython.core.display.HTML object>"
            ],
            "text/html": [
              " View project at <a href='https://wandb.ai/ma23m021-iit-madras/MA23M021_A1_Q8_CROSS' target=\"_blank\">https://wandb.ai/ma23m021-iit-madras/MA23M021_A1_Q8_CROSS</a>"
            ]
          },
          "metadata": {}
        },
        {
          "output_type": "display_data",
          "data": {
            "text/plain": [
              "<IPython.core.display.HTML object>"
            ],
            "text/html": [
              " View sweep at <a href='https://wandb.ai/ma23m021-iit-madras/MA23M021_A1_Q8_CROSS/sweeps/64kuh29x' target=\"_blank\">https://wandb.ai/ma23m021-iit-madras/MA23M021_A1_Q8_CROSS/sweeps/64kuh29x</a>"
            ]
          },
          "metadata": {}
        },
        {
          "output_type": "display_data",
          "data": {
            "text/plain": [
              "<IPython.core.display.HTML object>"
            ],
            "text/html": [
              " View run at <a href='https://wandb.ai/ma23m021-iit-madras/MA23M021_A1_Q8_CROSS/runs/gtx958xt' target=\"_blank\">https://wandb.ai/ma23m021-iit-madras/MA23M021_A1_Q8_CROSS/runs/gtx958xt</a>"
            ]
          },
          "metadata": {}
        },
        {
          "output_type": "stream",
          "name": "stdout",
          "text": [
            "Epoch 1/5, cross_entropy - Train Loss: 0.7273, Val Loss: 0.4399, Val Accuracy: 0.8433\n",
            "Epoch 2/5, cross_entropy - Train Loss: 0.4137, Val Loss: 0.4007, Val Accuracy: 0.8562\n",
            "Epoch 3/5, cross_entropy - Train Loss: 0.3730, Val Loss: 0.3776, Val Accuracy: 0.8626\n",
            "Epoch 4/5, cross_entropy - Train Loss: 0.3488, Val Loss: 0.3550, Val Accuracy: 0.8724\n",
            "Epoch 5/5, cross_entropy - Train Loss: 0.3321, Val Loss: 0.3563, Val Accuracy: 0.8678\n"
          ]
        },
        {
          "output_type": "display_data",
          "data": {
            "text/plain": [
              "<IPython.core.display.HTML object>"
            ],
            "text/html": []
          },
          "metadata": {}
        },
        {
          "output_type": "display_data",
          "data": {
            "text/plain": [
              "<IPython.core.display.HTML object>"
            ],
            "text/html": [
              "<br>    <style><br>        .wandb-row {<br>            display: flex;<br>            flex-direction: row;<br>            flex-wrap: wrap;<br>            justify-content: flex-start;<br>            width: 100%;<br>        }<br>        .wandb-col {<br>            display: flex;<br>            flex-direction: column;<br>            flex-basis: 100%;<br>            flex: 1;<br>            padding: 10px;<br>        }<br>    </style><br><div class=\"wandb-row\"><div class=\"wandb-col\"><h3>Run history:</h3><br/><table class=\"wandb\"><tr><td>epoch</td><td>▁▃▅▆█</td></tr><tr><td>train_loss</td><td>█▂▂▁▁</td></tr><tr><td>val_accuracy</td><td>▁▄▆█▇</td></tr><tr><td>val_loss</td><td>█▅▃▁▁</td></tr></table><br/></div><div class=\"wandb-col\"><h3>Run summary:</h3><br/><table class=\"wandb\"><tr><td>epoch</td><td>5</td></tr><tr><td>loss_type</td><td>cross_entropy</td></tr><tr><td>train_loss</td><td>0.33211</td></tr><tr><td>val_accuracy</td><td>0.86783</td></tr><tr><td>val_loss</td><td>0.35633</td></tr></table><br/></div></div>"
            ]
          },
          "metadata": {}
        },
        {
          "output_type": "display_data",
          "data": {
            "text/plain": [
              "<IPython.core.display.HTML object>"
            ],
            "text/html": [
              " View run <strong style=\"color:#cdcd00\">jumping-sweep-50</strong> at: <a href='https://wandb.ai/ma23m021-iit-madras/MA23M021_A1_Q8_CROSS/runs/gtx958xt' target=\"_blank\">https://wandb.ai/ma23m021-iit-madras/MA23M021_A1_Q8_CROSS/runs/gtx958xt</a><br> View project at: <a href='https://wandb.ai/ma23m021-iit-madras/MA23M021_A1_Q8_CROSS' target=\"_blank\">https://wandb.ai/ma23m021-iit-madras/MA23M021_A1_Q8_CROSS</a><br>Synced 5 W&B file(s), 0 media file(s), 0 artifact file(s) and 0 other file(s)"
            ]
          },
          "metadata": {}
        },
        {
          "output_type": "display_data",
          "data": {
            "text/plain": [
              "<IPython.core.display.HTML object>"
            ],
            "text/html": [
              "Find logs at: <code>./wandb/run-20250309_141740-gtx958xt/logs</code>"
            ]
          },
          "metadata": {}
        }
      ]
    },
    {
      "cell_type": "code",
      "source": [
        "def _main_():\n",
        "    run = wandb.init(project='MA23M021_A1_Q8_MSE', reinit=True)  # Specify the project name\n",
        "    config = wandb.config\n",
        "\n",
        "    # Train the model\n",
        "    weights, biases = training_model(\n",
        "        X_train=X_train,\n",
        "        Y_train=y_train,\n",
        "        X_valid=X_valid,\n",
        "        Y_valid=y_valid,\n",
        "        num_hidden_layers=config.num_hidden_layers,\n",
        "        num_neurons=config.hidden_layer_size,\n",
        "        num_epochs=config.epochs,\n",
        "        batch_size=config.batch_size,\n",
        "        learningg_rate_=config.learningg_rate_,\n",
        "        optimizer=config.optimizer,\n",
        "        init_method=config.weight_initialization,\n",
        "        activation_func=config.activation_function,\n",
        "        loss_type=config.loss_type\n",
        "    )\n",
        "\n",
        "    wandb.finish()\n",
        "\n",
        "\n"
      ],
      "metadata": {
        "id": "MeBdEjY1EGcU"
      },
      "execution_count": null,
      "outputs": []
    },
    {
      "cell_type": "code",
      "source": [
        "# MSE Sweep\n",
        "sweep_config_mse = sweep_config.copy()\n",
        "sweep_config_mse['parameters']['loss_type'] = {\"value\": \"mse\"}\n",
        "print(\"Creating MSE Sweep...\")\n",
        "sweep_id_mse = wandb.sweep(sweep=sweep_config_mse, project='MA23M021_A1_Q8_MSE')\n",
        "print(\"MSE Sweep ID:\", sweep_id_mse)"
      ],
      "metadata": {
        "colab": {
          "base_uri": "https://localhost:8080/"
        },
        "id": "RlpOcZE4Emq4",
        "outputId": "bf3b956c-904d-4c49-dd55-a60ef5a66d97"
      },
      "execution_count": null,
      "outputs": [
        {
          "output_type": "stream",
          "name": "stdout",
          "text": [
            "Creating MSE Sweep...\n",
            "Create sweep with ID: 205o72nt\n",
            "Sweep URL: https://wandb.ai/ma23m021-iit-madras/MA23M021_A1_Q8_MSE/sweeps/205o72nt\n",
            "MSE Sweep ID: 205o72nt\n"
          ]
        }
      ]
    },
    {
      "cell_type": "code",
      "source": [
        "wandb.agent(sweep_id_mse, function=_main_, count=50)"
      ],
      "metadata": {
        "colab": {
          "base_uri": "https://localhost:8080/",
          "height": 1000
        },
        "id": "oW4u0kfhEGed",
        "outputId": "c8675173-60e4-4182-9c7a-428f608d06e2"
      },
      "execution_count": null,
      "outputs": [
        {
          "output_type": "stream",
          "name": "stderr",
          "text": [
            "\u001b[34m\u001b[1mwandb\u001b[0m: Agent Starting Run: qthzunpr with config:\n",
            "\u001b[34m\u001b[1mwandb\u001b[0m: \tactivation_function: tanh\n",
            "\u001b[34m\u001b[1mwandb\u001b[0m: \tbatch_size: 64\n",
            "\u001b[34m\u001b[1mwandb\u001b[0m: \tepochs: 10\n",
            "\u001b[34m\u001b[1mwandb\u001b[0m: \thidden_layer_size: 64\n",
            "\u001b[34m\u001b[1mwandb\u001b[0m: \tlearningg_rate_: 0.001\n",
            "\u001b[34m\u001b[1mwandb\u001b[0m: \tloss_type: mse\n",
            "\u001b[34m\u001b[1mwandb\u001b[0m: \tnum_hidden_layers: 5\n",
            "\u001b[34m\u001b[1mwandb\u001b[0m: \toptimizer: sgd\n",
            "\u001b[34m\u001b[1mwandb\u001b[0m: \tweight_initialization: xavier\n"
          ]
        },
        {
          "output_type": "display_data",
          "data": {
            "text/plain": [
              "<IPython.core.display.HTML object>"
            ],
            "text/html": [
              "Ignoring project 'MA23M021_A1_Q8_MSE' when running a sweep."
            ]
          },
          "metadata": {}
        },
        {
          "output_type": "display_data",
          "data": {
            "text/plain": [
              "<IPython.core.display.HTML object>"
            ],
            "text/html": [
              "Tracking run with wandb version 0.19.7"
            ]
          },
          "metadata": {}
        },
        {
          "output_type": "display_data",
          "data": {
            "text/plain": [
              "<IPython.core.display.HTML object>"
            ],
            "text/html": [
              "Run data is saved locally in <code>/content/wandb/run-20250309_143725-qthzunpr</code>"
            ]
          },
          "metadata": {}
        },
        {
          "output_type": "display_data",
          "data": {
            "text/plain": [
              "<IPython.core.display.HTML object>"
            ],
            "text/html": [
              "Syncing run <strong><a href='https://wandb.ai/ma23m021-iit-madras/MA23M021_A1_Q8_MSE/runs/qthzunpr' target=\"_blank\">resilient-sweep-1</a></strong> to <a href='https://wandb.ai/ma23m021-iit-madras/MA23M021_A1_Q8_MSE' target=\"_blank\">Weights & Biases</a> (<a href='https://wandb.me/developer-guide' target=\"_blank\">docs</a>)<br>Sweep page: <a href='https://wandb.ai/ma23m021-iit-madras/MA23M021_A1_Q8_MSE/sweeps/205o72nt' target=\"_blank\">https://wandb.ai/ma23m021-iit-madras/MA23M021_A1_Q8_MSE/sweeps/205o72nt</a>"
            ]
          },
          "metadata": {}
        },
        {
          "output_type": "display_data",
          "data": {
            "text/plain": [
              "<IPython.core.display.HTML object>"
            ],
            "text/html": [
              " View project at <a href='https://wandb.ai/ma23m021-iit-madras/MA23M021_A1_Q8_MSE' target=\"_blank\">https://wandb.ai/ma23m021-iit-madras/MA23M021_A1_Q8_MSE</a>"
            ]
          },
          "metadata": {}
        },
        {
          "output_type": "display_data",
          "data": {
            "text/plain": [
              "<IPython.core.display.HTML object>"
            ],
            "text/html": [
              " View sweep at <a href='https://wandb.ai/ma23m021-iit-madras/MA23M021_A1_Q8_MSE/sweeps/205o72nt' target=\"_blank\">https://wandb.ai/ma23m021-iit-madras/MA23M021_A1_Q8_MSE/sweeps/205o72nt</a>"
            ]
          },
          "metadata": {}
        },
        {
          "output_type": "display_data",
          "data": {
            "text/plain": [
              "<IPython.core.display.HTML object>"
            ],
            "text/html": [
              " View run at <a href='https://wandb.ai/ma23m021-iit-madras/MA23M021_A1_Q8_MSE/runs/qthzunpr' target=\"_blank\">https://wandb.ai/ma23m021-iit-madras/MA23M021_A1_Q8_MSE/runs/qthzunpr</a>"
            ]
          },
          "metadata": {}
        },
        {
          "output_type": "stream",
          "name": "stdout",
          "text": [
            "Epoch 1/10, mse - Train Loss: 0.9089, Val Loss: 0.9000, Val Accuracy: 0.1002\n",
            "Epoch 2/10, mse - Train Loss: 0.8972, Val Loss: 0.8947, Val Accuracy: 0.2579\n",
            "Epoch 3/10, mse - Train Loss: 0.8919, Val Loss: 0.8888, Val Accuracy: 0.3013\n",
            "Epoch 4/10, mse - Train Loss: 0.8842, Val Loss: 0.8793, Val Accuracy: 0.2509\n",
            "Epoch 5/10, mse - Train Loss: 0.8727, Val Loss: 0.8663, Val Accuracy: 0.2216\n",
            "Epoch 6/10, mse - Train Loss: 0.8588, Val Loss: 0.8521, Val Accuracy: 0.2563\n",
            "Epoch 7/10, mse - Train Loss: 0.8447, Val Loss: 0.8384, Val Accuracy: 0.2285\n",
            "Epoch 8/10, mse - Train Loss: 0.8317, Val Loss: 0.8264, Val Accuracy: 0.2550\n",
            "Epoch 9/10, mse - Train Loss: 0.8206, Val Loss: 0.8164, Val Accuracy: 0.3146\n",
            "Epoch 10/10, mse - Train Loss: 0.8112, Val Loss: 0.8076, Val Accuracy: 0.2859\n"
          ]
        },
        {
          "output_type": "display_data",
          "data": {
            "text/plain": [
              "<IPython.core.display.HTML object>"
            ],
            "text/html": []
          },
          "metadata": {}
        },
        {
          "output_type": "display_data",
          "data": {
            "text/plain": [
              "<IPython.core.display.HTML object>"
            ],
            "text/html": [
              "<br>    <style><br>        .wandb-row {<br>            display: flex;<br>            flex-direction: row;<br>            flex-wrap: wrap;<br>            justify-content: flex-start;<br>            width: 100%;<br>        }<br>        .wandb-col {<br>            display: flex;<br>            flex-direction: column;<br>            flex-basis: 100%;<br>            flex: 1;<br>            padding: 10px;<br>        }<br>    </style><br><div class=\"wandb-row\"><div class=\"wandb-col\"><h3>Run history:</h3><br/><table class=\"wandb\"><tr><td>epoch</td><td>▁▂▃▃▄▅▆▆▇█</td></tr><tr><td>train_loss</td><td>█▇▇▆▅▄▃▂▂▁</td></tr><tr><td>val_accuracy</td><td>▁▆█▆▅▆▅▆█▇</td></tr><tr><td>val_loss</td><td>██▇▆▅▄▃▂▂▁</td></tr></table><br/></div><div class=\"wandb-col\"><h3>Run summary:</h3><br/><table class=\"wandb\"><tr><td>epoch</td><td>10</td></tr><tr><td>loss_type</td><td>mse</td></tr><tr><td>train_loss</td><td>0.81122</td></tr><tr><td>val_accuracy</td><td>0.28592</td></tr><tr><td>val_loss</td><td>0.80758</td></tr></table><br/></div></div>"
            ]
          },
          "metadata": {}
        },
        {
          "output_type": "display_data",
          "data": {
            "text/plain": [
              "<IPython.core.display.HTML object>"
            ],
            "text/html": [
              " View run <strong style=\"color:#cdcd00\">resilient-sweep-1</strong> at: <a href='https://wandb.ai/ma23m021-iit-madras/MA23M021_A1_Q8_MSE/runs/qthzunpr' target=\"_blank\">https://wandb.ai/ma23m021-iit-madras/MA23M021_A1_Q8_MSE/runs/qthzunpr</a><br> View project at: <a href='https://wandb.ai/ma23m021-iit-madras/MA23M021_A1_Q8_MSE' target=\"_blank\">https://wandb.ai/ma23m021-iit-madras/MA23M021_A1_Q8_MSE</a><br>Synced 5 W&B file(s), 0 media file(s), 0 artifact file(s) and 0 other file(s)"
            ]
          },
          "metadata": {}
        },
        {
          "output_type": "display_data",
          "data": {
            "text/plain": [
              "<IPython.core.display.HTML object>"
            ],
            "text/html": [
              "Find logs at: <code>./wandb/run-20250309_143725-qthzunpr/logs</code>"
            ]
          },
          "metadata": {}
        },
        {
          "output_type": "stream",
          "name": "stderr",
          "text": [
            "\u001b[34m\u001b[1mwandb\u001b[0m: Agent Starting Run: d08q443h with config:\n",
            "\u001b[34m\u001b[1mwandb\u001b[0m: \tactivation_function: sigmoid\n",
            "\u001b[34m\u001b[1mwandb\u001b[0m: \tbatch_size: 64\n",
            "\u001b[34m\u001b[1mwandb\u001b[0m: \tepochs: 5\n",
            "\u001b[34m\u001b[1mwandb\u001b[0m: \thidden_layer_size: 32\n",
            "\u001b[34m\u001b[1mwandb\u001b[0m: \tlearningg_rate_: 0.001\n",
            "\u001b[34m\u001b[1mwandb\u001b[0m: \tloss_type: mse\n",
            "\u001b[34m\u001b[1mwandb\u001b[0m: \tnum_hidden_layers: 4\n",
            "\u001b[34m\u001b[1mwandb\u001b[0m: \toptimizer: sgd\n",
            "\u001b[34m\u001b[1mwandb\u001b[0m: \tweight_initialization: xavier\n"
          ]
        },
        {
          "output_type": "display_data",
          "data": {
            "text/plain": [
              "<IPython.core.display.HTML object>"
            ],
            "text/html": [
              "Ignoring project 'MA23M021_A1_Q8_MSE' when running a sweep."
            ]
          },
          "metadata": {}
        },
        {
          "output_type": "display_data",
          "data": {
            "text/plain": [
              "<IPython.core.display.HTML object>"
            ],
            "text/html": [
              "Tracking run with wandb version 0.19.7"
            ]
          },
          "metadata": {}
        },
        {
          "output_type": "display_data",
          "data": {
            "text/plain": [
              "<IPython.core.display.HTML object>"
            ],
            "text/html": [
              "Run data is saved locally in <code>/content/wandb/run-20250309_143810-d08q443h</code>"
            ]
          },
          "metadata": {}
        },
        {
          "output_type": "display_data",
          "data": {
            "text/plain": [
              "<IPython.core.display.HTML object>"
            ],
            "text/html": [
              "Syncing run <strong><a href='https://wandb.ai/ma23m021-iit-madras/MA23M021_A1_Q8_MSE/runs/d08q443h' target=\"_blank\">lyric-sweep-2</a></strong> to <a href='https://wandb.ai/ma23m021-iit-madras/MA23M021_A1_Q8_MSE' target=\"_blank\">Weights & Biases</a> (<a href='https://wandb.me/developer-guide' target=\"_blank\">docs</a>)<br>Sweep page: <a href='https://wandb.ai/ma23m021-iit-madras/MA23M021_A1_Q8_MSE/sweeps/205o72nt' target=\"_blank\">https://wandb.ai/ma23m021-iit-madras/MA23M021_A1_Q8_MSE/sweeps/205o72nt</a>"
            ]
          },
          "metadata": {}
        },
        {
          "output_type": "display_data",
          "data": {
            "text/plain": [
              "<IPython.core.display.HTML object>"
            ],
            "text/html": [
              " View project at <a href='https://wandb.ai/ma23m021-iit-madras/MA23M021_A1_Q8_MSE' target=\"_blank\">https://wandb.ai/ma23m021-iit-madras/MA23M021_A1_Q8_MSE</a>"
            ]
          },
          "metadata": {}
        },
        {
          "output_type": "display_data",
          "data": {
            "text/plain": [
              "<IPython.core.display.HTML object>"
            ],
            "text/html": [
              " View sweep at <a href='https://wandb.ai/ma23m021-iit-madras/MA23M021_A1_Q8_MSE/sweeps/205o72nt' target=\"_blank\">https://wandb.ai/ma23m021-iit-madras/MA23M021_A1_Q8_MSE/sweeps/205o72nt</a>"
            ]
          },
          "metadata": {}
        },
        {
          "output_type": "display_data",
          "data": {
            "text/plain": [
              "<IPython.core.display.HTML object>"
            ],
            "text/html": [
              " View run at <a href='https://wandb.ai/ma23m021-iit-madras/MA23M021_A1_Q8_MSE/runs/d08q443h' target=\"_blank\">https://wandb.ai/ma23m021-iit-madras/MA23M021_A1_Q8_MSE/runs/d08q443h</a>"
            ]
          },
          "metadata": {}
        },
        {
          "output_type": "stream",
          "name": "stdout",
          "text": [
            "Epoch 1/5, mse - Train Loss: 0.9134, Val Loss: 0.9055, Val Accuracy: 0.1002\n",
            "Epoch 2/5, mse - Train Loss: 0.9028, Val Loss: 0.9013, Val Accuracy: 0.1002\n",
            "Epoch 3/5, mse - Train Loss: 0.9005, Val Loss: 0.9001, Val Accuracy: 0.1654\n",
            "Epoch 4/5, mse - Train Loss: 0.8998, Val Loss: 0.8998, Val Accuracy: 0.1676\n",
            "Epoch 5/5, mse - Train Loss: 0.8997, Val Loss: 0.8996, Val Accuracy: 0.1742\n"
          ]
        },
        {
          "output_type": "display_data",
          "data": {
            "text/plain": [
              "<IPython.core.display.HTML object>"
            ],
            "text/html": []
          },
          "metadata": {}
        },
        {
          "output_type": "display_data",
          "data": {
            "text/plain": [
              "<IPython.core.display.HTML object>"
            ],
            "text/html": [
              "<br>    <style><br>        .wandb-row {<br>            display: flex;<br>            flex-direction: row;<br>            flex-wrap: wrap;<br>            justify-content: flex-start;<br>            width: 100%;<br>        }<br>        .wandb-col {<br>            display: flex;<br>            flex-direction: column;<br>            flex-basis: 100%;<br>            flex: 1;<br>            padding: 10px;<br>        }<br>    </style><br><div class=\"wandb-row\"><div class=\"wandb-col\"><h3>Run history:</h3><br/><table class=\"wandb\"><tr><td>epoch</td><td>▁▃▅▆█</td></tr><tr><td>train_loss</td><td>█▃▁▁▁</td></tr><tr><td>val_accuracy</td><td>▁▁▇▇█</td></tr><tr><td>val_loss</td><td>█▃▂▁▁</td></tr></table><br/></div><div class=\"wandb-col\"><h3>Run summary:</h3><br/><table class=\"wandb\"><tr><td>epoch</td><td>5</td></tr><tr><td>loss_type</td><td>mse</td></tr><tr><td>train_loss</td><td>0.89966</td></tr><tr><td>val_accuracy</td><td>0.17425</td></tr><tr><td>val_loss</td><td>0.89963</td></tr></table><br/></div></div>"
            ]
          },
          "metadata": {}
        },
        {
          "output_type": "display_data",
          "data": {
            "text/plain": [
              "<IPython.core.display.HTML object>"
            ],
            "text/html": [
              " View run <strong style=\"color:#cdcd00\">lyric-sweep-2</strong> at: <a href='https://wandb.ai/ma23m021-iit-madras/MA23M021_A1_Q8_MSE/runs/d08q443h' target=\"_blank\">https://wandb.ai/ma23m021-iit-madras/MA23M021_A1_Q8_MSE/runs/d08q443h</a><br> View project at: <a href='https://wandb.ai/ma23m021-iit-madras/MA23M021_A1_Q8_MSE' target=\"_blank\">https://wandb.ai/ma23m021-iit-madras/MA23M021_A1_Q8_MSE</a><br>Synced 5 W&B file(s), 0 media file(s), 0 artifact file(s) and 0 other file(s)"
            ]
          },
          "metadata": {}
        },
        {
          "output_type": "display_data",
          "data": {
            "text/plain": [
              "<IPython.core.display.HTML object>"
            ],
            "text/html": [
              "Find logs at: <code>./wandb/run-20250309_143810-d08q443h/logs</code>"
            ]
          },
          "metadata": {}
        },
        {
          "output_type": "stream",
          "name": "stderr",
          "text": [
            "\u001b[34m\u001b[1mwandb\u001b[0m: Agent Starting Run: pittkv6a with config:\n",
            "\u001b[34m\u001b[1mwandb\u001b[0m: \tactivation_function: tanh\n",
            "\u001b[34m\u001b[1mwandb\u001b[0m: \tbatch_size: 32\n",
            "\u001b[34m\u001b[1mwandb\u001b[0m: \tepochs: 10\n",
            "\u001b[34m\u001b[1mwandb\u001b[0m: \thidden_layer_size: 64\n",
            "\u001b[34m\u001b[1mwandb\u001b[0m: \tlearningg_rate_: 0.0001\n",
            "\u001b[34m\u001b[1mwandb\u001b[0m: \tloss_type: mse\n",
            "\u001b[34m\u001b[1mwandb\u001b[0m: \tnum_hidden_layers: 3\n",
            "\u001b[34m\u001b[1mwandb\u001b[0m: \toptimizer: nadam\n",
            "\u001b[34m\u001b[1mwandb\u001b[0m: \tweight_initialization: random\n"
          ]
        },
        {
          "output_type": "display_data",
          "data": {
            "text/plain": [
              "<IPython.core.display.HTML object>"
            ],
            "text/html": [
              "Ignoring project 'MA23M021_A1_Q8_MSE' when running a sweep."
            ]
          },
          "metadata": {}
        },
        {
          "output_type": "display_data",
          "data": {
            "text/plain": [
              "<IPython.core.display.HTML object>"
            ],
            "text/html": [
              "Tracking run with wandb version 0.19.7"
            ]
          },
          "metadata": {}
        },
        {
          "output_type": "display_data",
          "data": {
            "text/plain": [
              "<IPython.core.display.HTML object>"
            ],
            "text/html": [
              "Run data is saved locally in <code>/content/wandb/run-20250309_143826-pittkv6a</code>"
            ]
          },
          "metadata": {}
        },
        {
          "output_type": "display_data",
          "data": {
            "text/plain": [
              "<IPython.core.display.HTML object>"
            ],
            "text/html": [
              "Syncing run <strong><a href='https://wandb.ai/ma23m021-iit-madras/MA23M021_A1_Q8_MSE/runs/pittkv6a' target=\"_blank\">rare-sweep-3</a></strong> to <a href='https://wandb.ai/ma23m021-iit-madras/MA23M021_A1_Q8_MSE' target=\"_blank\">Weights & Biases</a> (<a href='https://wandb.me/developer-guide' target=\"_blank\">docs</a>)<br>Sweep page: <a href='https://wandb.ai/ma23m021-iit-madras/MA23M021_A1_Q8_MSE/sweeps/205o72nt' target=\"_blank\">https://wandb.ai/ma23m021-iit-madras/MA23M021_A1_Q8_MSE/sweeps/205o72nt</a>"
            ]
          },
          "metadata": {}
        },
        {
          "output_type": "display_data",
          "data": {
            "text/plain": [
              "<IPython.core.display.HTML object>"
            ],
            "text/html": [
              " View project at <a href='https://wandb.ai/ma23m021-iit-madras/MA23M021_A1_Q8_MSE' target=\"_blank\">https://wandb.ai/ma23m021-iit-madras/MA23M021_A1_Q8_MSE</a>"
            ]
          },
          "metadata": {}
        },
        {
          "output_type": "display_data",
          "data": {
            "text/plain": [
              "<IPython.core.display.HTML object>"
            ],
            "text/html": [
              " View sweep at <a href='https://wandb.ai/ma23m021-iit-madras/MA23M021_A1_Q8_MSE/sweeps/205o72nt' target=\"_blank\">https://wandb.ai/ma23m021-iit-madras/MA23M021_A1_Q8_MSE/sweeps/205o72nt</a>"
            ]
          },
          "metadata": {}
        },
        {
          "output_type": "display_data",
          "data": {
            "text/plain": [
              "<IPython.core.display.HTML object>"
            ],
            "text/html": [
              " View run at <a href='https://wandb.ai/ma23m021-iit-madras/MA23M021_A1_Q8_MSE/runs/pittkv6a' target=\"_blank\">https://wandb.ai/ma23m021-iit-madras/MA23M021_A1_Q8_MSE/runs/pittkv6a</a>"
            ]
          },
          "metadata": {}
        },
        {
          "output_type": "stream",
          "name": "stdout",
          "text": [
            "Epoch 1/10, mse - Train Loss: 0.8614, Val Loss: 0.8077, Val Accuracy: 0.2211\n",
            "Epoch 2/10, mse - Train Loss: 0.8028, Val Loss: 0.7998, Val Accuracy: 0.2422\n",
            "Epoch 3/10, mse - Train Loss: 0.7697, Val Loss: 0.7360, Val Accuracy: 0.3929\n",
            "Epoch 4/10, mse - Train Loss: 0.7192, Val Loss: 0.7083, Val Accuracy: 0.3807\n",
            "Epoch 5/10, mse - Train Loss: 0.6934, Val Loss: 0.6728, Val Accuracy: 0.4794\n",
            "Epoch 6/10, mse - Train Loss: 0.6410, Val Loss: 0.6130, Val Accuracy: 0.5292\n",
            "Epoch 7/10, mse - Train Loss: 0.5916, Val Loss: 0.5743, Val Accuracy: 0.5372\n",
            "Epoch 8/10, mse - Train Loss: 0.5553, Val Loss: 0.5408, Val Accuracy: 0.5859\n",
            "Epoch 9/10, mse - Train Loss: 0.5245, Val Loss: 0.5137, Val Accuracy: 0.6268\n",
            "Epoch 10/10, mse - Train Loss: 0.4999, Val Loss: 0.4921, Val Accuracy: 0.6434\n"
          ]
        },
        {
          "output_type": "display_data",
          "data": {
            "text/plain": [
              "<IPython.core.display.HTML object>"
            ],
            "text/html": []
          },
          "metadata": {}
        },
        {
          "output_type": "display_data",
          "data": {
            "text/plain": [
              "<IPython.core.display.HTML object>"
            ],
            "text/html": [
              "<br>    <style><br>        .wandb-row {<br>            display: flex;<br>            flex-direction: row;<br>            flex-wrap: wrap;<br>            justify-content: flex-start;<br>            width: 100%;<br>        }<br>        .wandb-col {<br>            display: flex;<br>            flex-direction: column;<br>            flex-basis: 100%;<br>            flex: 1;<br>            padding: 10px;<br>        }<br>    </style><br><div class=\"wandb-row\"><div class=\"wandb-col\"><h3>Run history:</h3><br/><table class=\"wandb\"><tr><td>epoch</td><td>▁▂▃▃▄▅▆▆▇█</td></tr><tr><td>train_loss</td><td>█▇▆▅▅▄▃▂▁▁</td></tr><tr><td>val_accuracy</td><td>▁▁▄▄▅▆▆▇██</td></tr><tr><td>val_loss</td><td>██▆▆▅▄▃▂▁▁</td></tr></table><br/></div><div class=\"wandb-col\"><h3>Run summary:</h3><br/><table class=\"wandb\"><tr><td>epoch</td><td>10</td></tr><tr><td>loss_type</td><td>mse</td></tr><tr><td>train_loss</td><td>0.49985</td></tr><tr><td>val_accuracy</td><td>0.64342</td></tr><tr><td>val_loss</td><td>0.49212</td></tr></table><br/></div></div>"
            ]
          },
          "metadata": {}
        },
        {
          "output_type": "display_data",
          "data": {
            "text/plain": [
              "<IPython.core.display.HTML object>"
            ],
            "text/html": [
              " View run <strong style=\"color:#cdcd00\">rare-sweep-3</strong> at: <a href='https://wandb.ai/ma23m021-iit-madras/MA23M021_A1_Q8_MSE/runs/pittkv6a' target=\"_blank\">https://wandb.ai/ma23m021-iit-madras/MA23M021_A1_Q8_MSE/runs/pittkv6a</a><br> View project at: <a href='https://wandb.ai/ma23m021-iit-madras/MA23M021_A1_Q8_MSE' target=\"_blank\">https://wandb.ai/ma23m021-iit-madras/MA23M021_A1_Q8_MSE</a><br>Synced 5 W&B file(s), 0 media file(s), 0 artifact file(s) and 0 other file(s)"
            ]
          },
          "metadata": {}
        },
        {
          "output_type": "display_data",
          "data": {
            "text/plain": [
              "<IPython.core.display.HTML object>"
            ],
            "text/html": [
              "Find logs at: <code>./wandb/run-20250309_143826-pittkv6a/logs</code>"
            ]
          },
          "metadata": {}
        },
        {
          "output_type": "stream",
          "name": "stderr",
          "text": [
            "\u001b[34m\u001b[1mwandb\u001b[0m: Agent Starting Run: dhid2mxl with config:\n",
            "\u001b[34m\u001b[1mwandb\u001b[0m: \tactivation_function: tanh\n",
            "\u001b[34m\u001b[1mwandb\u001b[0m: \tbatch_size: 32\n",
            "\u001b[34m\u001b[1mwandb\u001b[0m: \tepochs: 10\n",
            "\u001b[34m\u001b[1mwandb\u001b[0m: \thidden_layer_size: 128\n",
            "\u001b[34m\u001b[1mwandb\u001b[0m: \tlearningg_rate_: 0.0001\n",
            "\u001b[34m\u001b[1mwandb\u001b[0m: \tloss_type: mse\n",
            "\u001b[34m\u001b[1mwandb\u001b[0m: \tnum_hidden_layers: 4\n",
            "\u001b[34m\u001b[1mwandb\u001b[0m: \toptimizer: adam\n",
            "\u001b[34m\u001b[1mwandb\u001b[0m: \tweight_initialization: xavier\n"
          ]
        },
        {
          "output_type": "display_data",
          "data": {
            "text/plain": [
              "<IPython.core.display.HTML object>"
            ],
            "text/html": [
              "Ignoring project 'MA23M021_A1_Q8_MSE' when running a sweep."
            ]
          },
          "metadata": {}
        },
        {
          "output_type": "display_data",
          "data": {
            "text/plain": [
              "<IPython.core.display.HTML object>"
            ],
            "text/html": [
              "Tracking run with wandb version 0.19.7"
            ]
          },
          "metadata": {}
        },
        {
          "output_type": "display_data",
          "data": {
            "text/plain": [
              "<IPython.core.display.HTML object>"
            ],
            "text/html": [
              "Run data is saved locally in <code>/content/wandb/run-20250309_143932-dhid2mxl</code>"
            ]
          },
          "metadata": {}
        },
        {
          "output_type": "display_data",
          "data": {
            "text/plain": [
              "<IPython.core.display.HTML object>"
            ],
            "text/html": [
              "Syncing run <strong><a href='https://wandb.ai/ma23m021-iit-madras/MA23M021_A1_Q8_MSE/runs/dhid2mxl' target=\"_blank\">expert-sweep-4</a></strong> to <a href='https://wandb.ai/ma23m021-iit-madras/MA23M021_A1_Q8_MSE' target=\"_blank\">Weights & Biases</a> (<a href='https://wandb.me/developer-guide' target=\"_blank\">docs</a>)<br>Sweep page: <a href='https://wandb.ai/ma23m021-iit-madras/MA23M021_A1_Q8_MSE/sweeps/205o72nt' target=\"_blank\">https://wandb.ai/ma23m021-iit-madras/MA23M021_A1_Q8_MSE/sweeps/205o72nt</a>"
            ]
          },
          "metadata": {}
        },
        {
          "output_type": "display_data",
          "data": {
            "text/plain": [
              "<IPython.core.display.HTML object>"
            ],
            "text/html": [
              " View project at <a href='https://wandb.ai/ma23m021-iit-madras/MA23M021_A1_Q8_MSE' target=\"_blank\">https://wandb.ai/ma23m021-iit-madras/MA23M021_A1_Q8_MSE</a>"
            ]
          },
          "metadata": {}
        },
        {
          "output_type": "display_data",
          "data": {
            "text/plain": [
              "<IPython.core.display.HTML object>"
            ],
            "text/html": [
              " View sweep at <a href='https://wandb.ai/ma23m021-iit-madras/MA23M021_A1_Q8_MSE/sweeps/205o72nt' target=\"_blank\">https://wandb.ai/ma23m021-iit-madras/MA23M021_A1_Q8_MSE/sweeps/205o72nt</a>"
            ]
          },
          "metadata": {}
        },
        {
          "output_type": "display_data",
          "data": {
            "text/plain": [
              "<IPython.core.display.HTML object>"
            ],
            "text/html": [
              " View run at <a href='https://wandb.ai/ma23m021-iit-madras/MA23M021_A1_Q8_MSE/runs/dhid2mxl' target=\"_blank\">https://wandb.ai/ma23m021-iit-madras/MA23M021_A1_Q8_MSE/runs/dhid2mxl</a>"
            ]
          },
          "metadata": {}
        },
        {
          "output_type": "stream",
          "name": "stdout",
          "text": [
            "Epoch 1/10, mse - Train Loss: 0.7516, Val Loss: 0.5834, Val Accuracy: 0.6221\n",
            "Epoch 2/10, mse - Train Loss: 0.4683, Val Loss: 0.3815, Val Accuracy: 0.7662\n",
            "Epoch 3/10, mse - Train Loss: 0.3313, Val Loss: 0.3091, Val Accuracy: 0.7810\n",
            "Epoch 4/10, mse - Train Loss: 0.2901, Val Loss: 0.2932, Val Accuracy: 0.7800\n",
            "Epoch 5/10, mse - Train Loss: 0.2713, Val Loss: 0.2700, Val Accuracy: 0.7983\n",
            "Epoch 6/10, mse - Train Loss: 0.2583, Val Loss: 0.2592, Val Accuracy: 0.8129\n",
            "Epoch 7/10, mse - Train Loss: 0.2452, Val Loss: 0.2497, Val Accuracy: 0.8218\n",
            "Epoch 8/10, mse - Train Loss: 0.2333, Val Loss: 0.2352, Val Accuracy: 0.8375\n",
            "Epoch 9/10, mse - Train Loss: 0.2229, Val Loss: 0.2272, Val Accuracy: 0.8433\n",
            "Epoch 10/10, mse - Train Loss: 0.2146, Val Loss: 0.2260, Val Accuracy: 0.8435\n"
          ]
        },
        {
          "output_type": "display_data",
          "data": {
            "text/plain": [
              "<IPython.core.display.HTML object>"
            ],
            "text/html": []
          },
          "metadata": {}
        },
        {
          "output_type": "display_data",
          "data": {
            "text/plain": [
              "<IPython.core.display.HTML object>"
            ],
            "text/html": [
              "<br>    <style><br>        .wandb-row {<br>            display: flex;<br>            flex-direction: row;<br>            flex-wrap: wrap;<br>            justify-content: flex-start;<br>            width: 100%;<br>        }<br>        .wandb-col {<br>            display: flex;<br>            flex-direction: column;<br>            flex-basis: 100%;<br>            flex: 1;<br>            padding: 10px;<br>        }<br>    </style><br><div class=\"wandb-row\"><div class=\"wandb-col\"><h3>Run history:</h3><br/><table class=\"wandb\"><tr><td>epoch</td><td>▁▂▃▃▄▅▆▆▇█</td></tr><tr><td>train_loss</td><td>█▄▃▂▂▂▁▁▁▁</td></tr><tr><td>val_accuracy</td><td>▁▆▆▆▇▇▇███</td></tr><tr><td>val_loss</td><td>█▄▃▂▂▂▁▁▁▁</td></tr></table><br/></div><div class=\"wandb-col\"><h3>Run summary:</h3><br/><table class=\"wandb\"><tr><td>epoch</td><td>10</td></tr><tr><td>loss_type</td><td>mse</td></tr><tr><td>train_loss</td><td>0.21464</td></tr><tr><td>val_accuracy</td><td>0.8435</td></tr><tr><td>val_loss</td><td>0.22602</td></tr></table><br/></div></div>"
            ]
          },
          "metadata": {}
        },
        {
          "output_type": "display_data",
          "data": {
            "text/plain": [
              "<IPython.core.display.HTML object>"
            ],
            "text/html": [
              " View run <strong style=\"color:#cdcd00\">expert-sweep-4</strong> at: <a href='https://wandb.ai/ma23m021-iit-madras/MA23M021_A1_Q8_MSE/runs/dhid2mxl' target=\"_blank\">https://wandb.ai/ma23m021-iit-madras/MA23M021_A1_Q8_MSE/runs/dhid2mxl</a><br> View project at: <a href='https://wandb.ai/ma23m021-iit-madras/MA23M021_A1_Q8_MSE' target=\"_blank\">https://wandb.ai/ma23m021-iit-madras/MA23M021_A1_Q8_MSE</a><br>Synced 5 W&B file(s), 0 media file(s), 0 artifact file(s) and 0 other file(s)"
            ]
          },
          "metadata": {}
        },
        {
          "output_type": "display_data",
          "data": {
            "text/plain": [
              "<IPython.core.display.HTML object>"
            ],
            "text/html": [
              "Find logs at: <code>./wandb/run-20250309_143932-dhid2mxl/logs</code>"
            ]
          },
          "metadata": {}
        },
        {
          "output_type": "stream",
          "name": "stderr",
          "text": [
            "\u001b[34m\u001b[1mwandb\u001b[0m: Agent Starting Run: k572zw7y with config:\n",
            "\u001b[34m\u001b[1mwandb\u001b[0m: \tactivation_function: tanh\n",
            "\u001b[34m\u001b[1mwandb\u001b[0m: \tbatch_size: 16\n",
            "\u001b[34m\u001b[1mwandb\u001b[0m: \tepochs: 10\n",
            "\u001b[34m\u001b[1mwandb\u001b[0m: \thidden_layer_size: 128\n",
            "\u001b[34m\u001b[1mwandb\u001b[0m: \tlearningg_rate_: 0.0001\n",
            "\u001b[34m\u001b[1mwandb\u001b[0m: \tloss_type: mse\n",
            "\u001b[34m\u001b[1mwandb\u001b[0m: \tnum_hidden_layers: 4\n",
            "\u001b[34m\u001b[1mwandb\u001b[0m: \toptimizer: nadam\n",
            "\u001b[34m\u001b[1mwandb\u001b[0m: \tweight_initialization: xavier\n"
          ]
        },
        {
          "output_type": "display_data",
          "data": {
            "text/plain": [
              "<IPython.core.display.HTML object>"
            ],
            "text/html": [
              "Ignoring project 'MA23M021_A1_Q8_MSE' when running a sweep."
            ]
          },
          "metadata": {}
        },
        {
          "output_type": "display_data",
          "data": {
            "text/plain": [
              "<IPython.core.display.HTML object>"
            ],
            "text/html": [
              "Tracking run with wandb version 0.19.7"
            ]
          },
          "metadata": {}
        },
        {
          "output_type": "display_data",
          "data": {
            "text/plain": [
              "<IPython.core.display.HTML object>"
            ],
            "text/html": [
              "Run data is saved locally in <code>/content/wandb/run-20250309_144150-k572zw7y</code>"
            ]
          },
          "metadata": {}
        },
        {
          "output_type": "display_data",
          "data": {
            "text/plain": [
              "<IPython.core.display.HTML object>"
            ],
            "text/html": [
              "Syncing run <strong><a href='https://wandb.ai/ma23m021-iit-madras/MA23M021_A1_Q8_MSE/runs/k572zw7y' target=\"_blank\">sparkling-sweep-5</a></strong> to <a href='https://wandb.ai/ma23m021-iit-madras/MA23M021_A1_Q8_MSE' target=\"_blank\">Weights & Biases</a> (<a href='https://wandb.me/developer-guide' target=\"_blank\">docs</a>)<br>Sweep page: <a href='https://wandb.ai/ma23m021-iit-madras/MA23M021_A1_Q8_MSE/sweeps/205o72nt' target=\"_blank\">https://wandb.ai/ma23m021-iit-madras/MA23M021_A1_Q8_MSE/sweeps/205o72nt</a>"
            ]
          },
          "metadata": {}
        },
        {
          "output_type": "display_data",
          "data": {
            "text/plain": [
              "<IPython.core.display.HTML object>"
            ],
            "text/html": [
              " View project at <a href='https://wandb.ai/ma23m021-iit-madras/MA23M021_A1_Q8_MSE' target=\"_blank\">https://wandb.ai/ma23m021-iit-madras/MA23M021_A1_Q8_MSE</a>"
            ]
          },
          "metadata": {}
        },
        {
          "output_type": "display_data",
          "data": {
            "text/plain": [
              "<IPython.core.display.HTML object>"
            ],
            "text/html": [
              " View sweep at <a href='https://wandb.ai/ma23m021-iit-madras/MA23M021_A1_Q8_MSE/sweeps/205o72nt' target=\"_blank\">https://wandb.ai/ma23m021-iit-madras/MA23M021_A1_Q8_MSE/sweeps/205o72nt</a>"
            ]
          },
          "metadata": {}
        },
        {
          "output_type": "display_data",
          "data": {
            "text/plain": [
              "<IPython.core.display.HTML object>"
            ],
            "text/html": [
              " View run at <a href='https://wandb.ai/ma23m021-iit-madras/MA23M021_A1_Q8_MSE/runs/k572zw7y' target=\"_blank\">https://wandb.ai/ma23m021-iit-madras/MA23M021_A1_Q8_MSE/runs/k572zw7y</a>"
            ]
          },
          "metadata": {}
        },
        {
          "output_type": "stream",
          "name": "stdout",
          "text": [
            "Epoch 1/10, mse - Train Loss: 0.6752, Val Loss: 0.4713, Val Accuracy: 0.6551\n",
            "Epoch 2/10, mse - Train Loss: 0.3893, Val Loss: 0.3409, Val Accuracy: 0.7642\n",
            "Epoch 3/10, mse - Train Loss: 0.3063, Val Loss: 0.2925, Val Accuracy: 0.7877\n",
            "Epoch 4/10, mse - Train Loss: 0.2752, Val Loss: 0.2735, Val Accuracy: 0.8006\n",
            "Epoch 5/10, mse - Train Loss: 0.2577, Val Loss: 0.2548, Val Accuracy: 0.8165\n",
            "Epoch 6/10, mse - Train Loss: 0.2418, Val Loss: 0.2418, Val Accuracy: 0.8305\n",
            "Epoch 7/10, mse - Train Loss: 0.2267, Val Loss: 0.2268, Val Accuracy: 0.8417\n",
            "Epoch 8/10, mse - Train Loss: 0.2144, Val Loss: 0.2163, Val Accuracy: 0.8505\n",
            "Epoch 9/10, mse - Train Loss: 0.2058, Val Loss: 0.2085, Val Accuracy: 0.8536\n",
            "Epoch 10/10, mse - Train Loss: 0.1976, Val Loss: 0.2013, Val Accuracy: 0.8599\n"
          ]
        },
        {
          "output_type": "display_data",
          "data": {
            "text/plain": [
              "<IPython.core.display.HTML object>"
            ],
            "text/html": []
          },
          "metadata": {}
        },
        {
          "output_type": "display_data",
          "data": {
            "text/plain": [
              "<IPython.core.display.HTML object>"
            ],
            "text/html": [
              "<br>    <style><br>        .wandb-row {<br>            display: flex;<br>            flex-direction: row;<br>            flex-wrap: wrap;<br>            justify-content: flex-start;<br>            width: 100%;<br>        }<br>        .wandb-col {<br>            display: flex;<br>            flex-direction: column;<br>            flex-basis: 100%;<br>            flex: 1;<br>            padding: 10px;<br>        }<br>    </style><br><div class=\"wandb-row\"><div class=\"wandb-col\"><h3>Run history:</h3><br/><table class=\"wandb\"><tr><td>epoch</td><td>▁▂▃▃▄▅▆▆▇█</td></tr><tr><td>train_loss</td><td>█▄▃▂▂▂▁▁▁▁</td></tr><tr><td>val_accuracy</td><td>▁▅▆▆▇▇▇███</td></tr><tr><td>val_loss</td><td>█▅▃▃▂▂▂▁▁▁</td></tr></table><br/></div><div class=\"wandb-col\"><h3>Run summary:</h3><br/><table class=\"wandb\"><tr><td>epoch</td><td>10</td></tr><tr><td>loss_type</td><td>mse</td></tr><tr><td>train_loss</td><td>0.19757</td></tr><tr><td>val_accuracy</td><td>0.85992</td></tr><tr><td>val_loss</td><td>0.20134</td></tr></table><br/></div></div>"
            ]
          },
          "metadata": {}
        },
        {
          "output_type": "display_data",
          "data": {
            "text/plain": [
              "<IPython.core.display.HTML object>"
            ],
            "text/html": [
              " View run <strong style=\"color:#cdcd00\">sparkling-sweep-5</strong> at: <a href='https://wandb.ai/ma23m021-iit-madras/MA23M021_A1_Q8_MSE/runs/k572zw7y' target=\"_blank\">https://wandb.ai/ma23m021-iit-madras/MA23M021_A1_Q8_MSE/runs/k572zw7y</a><br> View project at: <a href='https://wandb.ai/ma23m021-iit-madras/MA23M021_A1_Q8_MSE' target=\"_blank\">https://wandb.ai/ma23m021-iit-madras/MA23M021_A1_Q8_MSE</a><br>Synced 5 W&B file(s), 0 media file(s), 0 artifact file(s) and 0 other file(s)"
            ]
          },
          "metadata": {}
        },
        {
          "output_type": "display_data",
          "data": {
            "text/plain": [
              "<IPython.core.display.HTML object>"
            ],
            "text/html": [
              "Find logs at: <code>./wandb/run-20250309_144150-k572zw7y/logs</code>"
            ]
          },
          "metadata": {}
        },
        {
          "output_type": "stream",
          "name": "stderr",
          "text": [
            "\u001b[34m\u001b[1mwandb\u001b[0m: Agent Starting Run: 9lnm7urz with config:\n",
            "\u001b[34m\u001b[1mwandb\u001b[0m: \tactivation_function: sigmoid\n",
            "\u001b[34m\u001b[1mwandb\u001b[0m: \tbatch_size: 16\n",
            "\u001b[34m\u001b[1mwandb\u001b[0m: \tepochs: 10\n",
            "\u001b[34m\u001b[1mwandb\u001b[0m: \thidden_layer_size: 128\n",
            "\u001b[34m\u001b[1mwandb\u001b[0m: \tlearningg_rate_: 0.0001\n",
            "\u001b[34m\u001b[1mwandb\u001b[0m: \tloss_type: mse\n",
            "\u001b[34m\u001b[1mwandb\u001b[0m: \tnum_hidden_layers: 5\n",
            "\u001b[34m\u001b[1mwandb\u001b[0m: \toptimizer: rmsprop\n",
            "\u001b[34m\u001b[1mwandb\u001b[0m: \tweight_initialization: xavier\n"
          ]
        },
        {
          "output_type": "display_data",
          "data": {
            "text/plain": [
              "<IPython.core.display.HTML object>"
            ],
            "text/html": [
              "Ignoring project 'MA23M021_A1_Q8_MSE' when running a sweep."
            ]
          },
          "metadata": {}
        },
        {
          "output_type": "display_data",
          "data": {
            "text/plain": [
              "<IPython.core.display.HTML object>"
            ],
            "text/html": [
              "Tracking run with wandb version 0.19.7"
            ]
          },
          "metadata": {}
        },
        {
          "output_type": "display_data",
          "data": {
            "text/plain": [
              "<IPython.core.display.HTML object>"
            ],
            "text/html": [
              "Run data is saved locally in <code>/content/wandb/run-20250309_144553-9lnm7urz</code>"
            ]
          },
          "metadata": {}
        },
        {
          "output_type": "display_data",
          "data": {
            "text/plain": [
              "<IPython.core.display.HTML object>"
            ],
            "text/html": [
              "Syncing run <strong><a href='https://wandb.ai/ma23m021-iit-madras/MA23M021_A1_Q8_MSE/runs/9lnm7urz' target=\"_blank\">eager-sweep-6</a></strong> to <a href='https://wandb.ai/ma23m021-iit-madras/MA23M021_A1_Q8_MSE' target=\"_blank\">Weights & Biases</a> (<a href='https://wandb.me/developer-guide' target=\"_blank\">docs</a>)<br>Sweep page: <a href='https://wandb.ai/ma23m021-iit-madras/MA23M021_A1_Q8_MSE/sweeps/205o72nt' target=\"_blank\">https://wandb.ai/ma23m021-iit-madras/MA23M021_A1_Q8_MSE/sweeps/205o72nt</a>"
            ]
          },
          "metadata": {}
        },
        {
          "output_type": "display_data",
          "data": {
            "text/plain": [
              "<IPython.core.display.HTML object>"
            ],
            "text/html": [
              " View project at <a href='https://wandb.ai/ma23m021-iit-madras/MA23M021_A1_Q8_MSE' target=\"_blank\">https://wandb.ai/ma23m021-iit-madras/MA23M021_A1_Q8_MSE</a>"
            ]
          },
          "metadata": {}
        },
        {
          "output_type": "display_data",
          "data": {
            "text/plain": [
              "<IPython.core.display.HTML object>"
            ],
            "text/html": [
              " View sweep at <a href='https://wandb.ai/ma23m021-iit-madras/MA23M021_A1_Q8_MSE/sweeps/205o72nt' target=\"_blank\">https://wandb.ai/ma23m021-iit-madras/MA23M021_A1_Q8_MSE/sweeps/205o72nt</a>"
            ]
          },
          "metadata": {}
        },
        {
          "output_type": "display_data",
          "data": {
            "text/plain": [
              "<IPython.core.display.HTML object>"
            ],
            "text/html": [
              " View run at <a href='https://wandb.ai/ma23m021-iit-madras/MA23M021_A1_Q8_MSE/runs/9lnm7urz' target=\"_blank\">https://wandb.ai/ma23m021-iit-madras/MA23M021_A1_Q8_MSE/runs/9lnm7urz</a>"
            ]
          },
          "metadata": {}
        },
        {
          "output_type": "stream",
          "name": "stdout",
          "text": [
            "Epoch 1/10, mse - Train Loss: 0.7213, Val Loss: 0.5705, Val Accuracy: 0.5543\n",
            "Epoch 2/10, mse - Train Loss: 0.4635, Val Loss: 0.3845, Val Accuracy: 0.7162\n",
            "Epoch 3/10, mse - Train Loss: 0.3484, Val Loss: 0.3316, Val Accuracy: 0.7576\n",
            "Epoch 4/10, mse - Train Loss: 0.3097, Val Loss: 0.3008, Val Accuracy: 0.7781\n",
            "Epoch 5/10, mse - Train Loss: 0.2891, Val Loss: 0.2913, Val Accuracy: 0.7877\n",
            "Epoch 6/10, mse - Train Loss: 0.2757, Val Loss: 0.2748, Val Accuracy: 0.7960\n",
            "Epoch 7/10, mse - Train Loss: 0.2652, Val Loss: 0.2682, Val Accuracy: 0.8052\n",
            "Epoch 8/10, mse - Train Loss: 0.2560, Val Loss: 0.2649, Val Accuracy: 0.8059\n",
            "Epoch 9/10, mse - Train Loss: 0.2470, Val Loss: 0.2525, Val Accuracy: 0.8227\n",
            "Epoch 10/10, mse - Train Loss: 0.2386, Val Loss: 0.2446, Val Accuracy: 0.8237\n"
          ]
        },
        {
          "output_type": "display_data",
          "data": {
            "text/plain": [
              "<IPython.core.display.HTML object>"
            ],
            "text/html": []
          },
          "metadata": {}
        },
        {
          "output_type": "display_data",
          "data": {
            "text/plain": [
              "<IPython.core.display.HTML object>"
            ],
            "text/html": [
              "<br>    <style><br>        .wandb-row {<br>            display: flex;<br>            flex-direction: row;<br>            flex-wrap: wrap;<br>            justify-content: flex-start;<br>            width: 100%;<br>        }<br>        .wandb-col {<br>            display: flex;<br>            flex-direction: column;<br>            flex-basis: 100%;<br>            flex: 1;<br>            padding: 10px;<br>        }<br>    </style><br><div class=\"wandb-row\"><div class=\"wandb-col\"><h3>Run history:</h3><br/><table class=\"wandb\"><tr><td>epoch</td><td>▁▂▃▃▄▅▆▆▇█</td></tr><tr><td>train_loss</td><td>█▄▃▂▂▂▁▁▁▁</td></tr><tr><td>val_accuracy</td><td>▁▅▆▇▇▇████</td></tr><tr><td>val_loss</td><td>█▄▃▂▂▂▂▁▁▁</td></tr></table><br/></div><div class=\"wandb-col\"><h3>Run summary:</h3><br/><table class=\"wandb\"><tr><td>epoch</td><td>10</td></tr><tr><td>loss_type</td><td>mse</td></tr><tr><td>train_loss</td><td>0.23862</td></tr><tr><td>val_accuracy</td><td>0.82375</td></tr><tr><td>val_loss</td><td>0.2446</td></tr></table><br/></div></div>"
            ]
          },
          "metadata": {}
        },
        {
          "output_type": "display_data",
          "data": {
            "text/plain": [
              "<IPython.core.display.HTML object>"
            ],
            "text/html": [
              " View run <strong style=\"color:#cdcd00\">eager-sweep-6</strong> at: <a href='https://wandb.ai/ma23m021-iit-madras/MA23M021_A1_Q8_MSE/runs/9lnm7urz' target=\"_blank\">https://wandb.ai/ma23m021-iit-madras/MA23M021_A1_Q8_MSE/runs/9lnm7urz</a><br> View project at: <a href='https://wandb.ai/ma23m021-iit-madras/MA23M021_A1_Q8_MSE' target=\"_blank\">https://wandb.ai/ma23m021-iit-madras/MA23M021_A1_Q8_MSE</a><br>Synced 5 W&B file(s), 0 media file(s), 0 artifact file(s) and 0 other file(s)"
            ]
          },
          "metadata": {}
        },
        {
          "output_type": "display_data",
          "data": {
            "text/plain": [
              "<IPython.core.display.HTML object>"
            ],
            "text/html": [
              "Find logs at: <code>./wandb/run-20250309_144553-9lnm7urz/logs</code>"
            ]
          },
          "metadata": {}
        },
        {
          "output_type": "stream",
          "name": "stderr",
          "text": [
            "\u001b[34m\u001b[1mwandb\u001b[0m: Agent Starting Run: g31y0nu8 with config:\n",
            "\u001b[34m\u001b[1mwandb\u001b[0m: \tactivation_function: relu\n",
            "\u001b[34m\u001b[1mwandb\u001b[0m: \tbatch_size: 16\n",
            "\u001b[34m\u001b[1mwandb\u001b[0m: \tepochs: 10\n",
            "\u001b[34m\u001b[1mwandb\u001b[0m: \thidden_layer_size: 128\n",
            "\u001b[34m\u001b[1mwandb\u001b[0m: \tlearningg_rate_: 0.0001\n",
            "\u001b[34m\u001b[1mwandb\u001b[0m: \tloss_type: mse\n",
            "\u001b[34m\u001b[1mwandb\u001b[0m: \tnum_hidden_layers: 5\n",
            "\u001b[34m\u001b[1mwandb\u001b[0m: \toptimizer: adam\n",
            "\u001b[34m\u001b[1mwandb\u001b[0m: \tweight_initialization: random\n"
          ]
        },
        {
          "output_type": "display_data",
          "data": {
            "text/plain": [
              "<IPython.core.display.HTML object>"
            ],
            "text/html": [
              "Ignoring project 'MA23M021_A1_Q8_MSE' when running a sweep."
            ]
          },
          "metadata": {}
        },
        {
          "output_type": "display_data",
          "data": {
            "text/plain": [
              "<IPython.core.display.HTML object>"
            ],
            "text/html": [
              "Tracking run with wandb version 0.19.7"
            ]
          },
          "metadata": {}
        },
        {
          "output_type": "display_data",
          "data": {
            "text/plain": [
              "<IPython.core.display.HTML object>"
            ],
            "text/html": [
              "Run data is saved locally in <code>/content/wandb/run-20250309_144856-g31y0nu8</code>"
            ]
          },
          "metadata": {}
        },
        {
          "output_type": "display_data",
          "data": {
            "text/plain": [
              "<IPython.core.display.HTML object>"
            ],
            "text/html": [
              "Syncing run <strong><a href='https://wandb.ai/ma23m021-iit-madras/MA23M021_A1_Q8_MSE/runs/g31y0nu8' target=\"_blank\">vocal-sweep-7</a></strong> to <a href='https://wandb.ai/ma23m021-iit-madras/MA23M021_A1_Q8_MSE' target=\"_blank\">Weights & Biases</a> (<a href='https://wandb.me/developer-guide' target=\"_blank\">docs</a>)<br>Sweep page: <a href='https://wandb.ai/ma23m021-iit-madras/MA23M021_A1_Q8_MSE/sweeps/205o72nt' target=\"_blank\">https://wandb.ai/ma23m021-iit-madras/MA23M021_A1_Q8_MSE/sweeps/205o72nt</a>"
            ]
          },
          "metadata": {}
        },
        {
          "output_type": "display_data",
          "data": {
            "text/plain": [
              "<IPython.core.display.HTML object>"
            ],
            "text/html": [
              " View project at <a href='https://wandb.ai/ma23m021-iit-madras/MA23M021_A1_Q8_MSE' target=\"_blank\">https://wandb.ai/ma23m021-iit-madras/MA23M021_A1_Q8_MSE</a>"
            ]
          },
          "metadata": {}
        },
        {
          "output_type": "display_data",
          "data": {
            "text/plain": [
              "<IPython.core.display.HTML object>"
            ],
            "text/html": [
              " View sweep at <a href='https://wandb.ai/ma23m021-iit-madras/MA23M021_A1_Q8_MSE/sweeps/205o72nt' target=\"_blank\">https://wandb.ai/ma23m021-iit-madras/MA23M021_A1_Q8_MSE/sweeps/205o72nt</a>"
            ]
          },
          "metadata": {}
        },
        {
          "output_type": "display_data",
          "data": {
            "text/plain": [
              "<IPython.core.display.HTML object>"
            ],
            "text/html": [
              " View run at <a href='https://wandb.ai/ma23m021-iit-madras/MA23M021_A1_Q8_MSE/runs/g31y0nu8' target=\"_blank\">https://wandb.ai/ma23m021-iit-madras/MA23M021_A1_Q8_MSE/runs/g31y0nu8</a>"
            ]
          },
          "metadata": {}
        },
        {
          "output_type": "stream",
          "name": "stdout",
          "text": [
            "Epoch 1/10, mse - Train Loss: 0.9003, Val Loss: 0.9001, Val Accuracy: 0.0998\n",
            "Epoch 2/10, mse - Train Loss: 0.9003, Val Loss: 0.9003, Val Accuracy: 0.1002\n",
            "Epoch 3/10, mse - Train Loss: 0.9003, Val Loss: 0.9002, Val Accuracy: 0.0998\n",
            "Epoch 4/10, mse - Train Loss: 0.9002, Val Loss: 0.9002, Val Accuracy: 0.1004\n",
            "Epoch 5/10, mse - Train Loss: 0.9003, Val Loss: 0.9002, Val Accuracy: 0.1002\n",
            "Epoch 6/10, mse - Train Loss: 0.9002, Val Loss: 0.9003, Val Accuracy: 0.1016\n",
            "Epoch 7/10, mse - Train Loss: 0.9003, Val Loss: 0.9002, Val Accuracy: 0.1016\n",
            "Epoch 8/10, mse - Train Loss: 0.9003, Val Loss: 0.9004, Val Accuracy: 0.0987\n",
            "Epoch 9/10, mse - Train Loss: 0.9003, Val Loss: 0.9002, Val Accuracy: 0.1016\n",
            "Epoch 10/10, mse - Train Loss: 0.9002, Val Loss: 0.9005, Val Accuracy: 0.0998\n"
          ]
        },
        {
          "output_type": "display_data",
          "data": {
            "text/plain": [
              "<IPython.core.display.HTML object>"
            ],
            "text/html": []
          },
          "metadata": {}
        },
        {
          "output_type": "display_data",
          "data": {
            "text/plain": [
              "<IPython.core.display.HTML object>"
            ],
            "text/html": [
              "<br>    <style><br>        .wandb-row {<br>            display: flex;<br>            flex-direction: row;<br>            flex-wrap: wrap;<br>            justify-content: flex-start;<br>            width: 100%;<br>        }<br>        .wandb-col {<br>            display: flex;<br>            flex-direction: column;<br>            flex-basis: 100%;<br>            flex: 1;<br>            padding: 10px;<br>        }<br>    </style><br><div class=\"wandb-row\"><div class=\"wandb-col\"><h3>Run history:</h3><br/><table class=\"wandb\"><tr><td>epoch</td><td>▁▂▃▃▄▅▆▆▇█</td></tr><tr><td>train_loss</td><td>█▅▅▁▅▄▇▅▆▁</td></tr><tr><td>val_accuracy</td><td>▄▅▄▅▅██▁█▄</td></tr><tr><td>val_loss</td><td>▁▅▃▄▂▅▄▇▃█</td></tr></table><br/></div><div class=\"wandb-col\"><h3>Run summary:</h3><br/><table class=\"wandb\"><tr><td>epoch</td><td>10</td></tr><tr><td>loss_type</td><td>mse</td></tr><tr><td>train_loss</td><td>0.90021</td></tr><tr><td>val_accuracy</td><td>0.09975</td></tr><tr><td>val_loss</td><td>0.90046</td></tr></table><br/></div></div>"
            ]
          },
          "metadata": {}
        },
        {
          "output_type": "display_data",
          "data": {
            "text/plain": [
              "<IPython.core.display.HTML object>"
            ],
            "text/html": [
              " View run <strong style=\"color:#cdcd00\">vocal-sweep-7</strong> at: <a href='https://wandb.ai/ma23m021-iit-madras/MA23M021_A1_Q8_MSE/runs/g31y0nu8' target=\"_blank\">https://wandb.ai/ma23m021-iit-madras/MA23M021_A1_Q8_MSE/runs/g31y0nu8</a><br> View project at: <a href='https://wandb.ai/ma23m021-iit-madras/MA23M021_A1_Q8_MSE' target=\"_blank\">https://wandb.ai/ma23m021-iit-madras/MA23M021_A1_Q8_MSE</a><br>Synced 5 W&B file(s), 0 media file(s), 0 artifact file(s) and 0 other file(s)"
            ]
          },
          "metadata": {}
        },
        {
          "output_type": "display_data",
          "data": {
            "text/plain": [
              "<IPython.core.display.HTML object>"
            ],
            "text/html": [
              "Find logs at: <code>./wandb/run-20250309_144856-g31y0nu8/logs</code>"
            ]
          },
          "metadata": {}
        },
        {
          "output_type": "stream",
          "name": "stderr",
          "text": [
            "\u001b[34m\u001b[1mwandb\u001b[0m: Agent Starting Run: czi95d98 with config:\n",
            "\u001b[34m\u001b[1mwandb\u001b[0m: \tactivation_function: tanh\n",
            "\u001b[34m\u001b[1mwandb\u001b[0m: \tbatch_size: 16\n",
            "\u001b[34m\u001b[1mwandb\u001b[0m: \tepochs: 10\n",
            "\u001b[34m\u001b[1mwandb\u001b[0m: \thidden_layer_size: 128\n",
            "\u001b[34m\u001b[1mwandb\u001b[0m: \tlearningg_rate_: 0.0001\n",
            "\u001b[34m\u001b[1mwandb\u001b[0m: \tloss_type: mse\n",
            "\u001b[34m\u001b[1mwandb\u001b[0m: \tnum_hidden_layers: 4\n",
            "\u001b[34m\u001b[1mwandb\u001b[0m: \toptimizer: nadam\n",
            "\u001b[34m\u001b[1mwandb\u001b[0m: \tweight_initialization: xavier\n"
          ]
        },
        {
          "output_type": "display_data",
          "data": {
            "text/plain": [
              "<IPython.core.display.HTML object>"
            ],
            "text/html": [
              "Ignoring project 'MA23M021_A1_Q8_MSE' when running a sweep."
            ]
          },
          "metadata": {}
        },
        {
          "output_type": "display_data",
          "data": {
            "text/plain": [
              "<IPython.core.display.HTML object>"
            ],
            "text/html": [
              "Tracking run with wandb version 0.19.7"
            ]
          },
          "metadata": {}
        },
        {
          "output_type": "display_data",
          "data": {
            "text/plain": [
              "<IPython.core.display.HTML object>"
            ],
            "text/html": [
              "Run data is saved locally in <code>/content/wandb/run-20250309_145622-czi95d98</code>"
            ]
          },
          "metadata": {}
        },
        {
          "output_type": "display_data",
          "data": {
            "text/plain": [
              "<IPython.core.display.HTML object>"
            ],
            "text/html": [
              "Syncing run <strong><a href='https://wandb.ai/ma23m021-iit-madras/MA23M021_A1_Q8_MSE/runs/czi95d98' target=\"_blank\">pleasant-sweep-8</a></strong> to <a href='https://wandb.ai/ma23m021-iit-madras/MA23M021_A1_Q8_MSE' target=\"_blank\">Weights & Biases</a> (<a href='https://wandb.me/developer-guide' target=\"_blank\">docs</a>)<br>Sweep page: <a href='https://wandb.ai/ma23m021-iit-madras/MA23M021_A1_Q8_MSE/sweeps/205o72nt' target=\"_blank\">https://wandb.ai/ma23m021-iit-madras/MA23M021_A1_Q8_MSE/sweeps/205o72nt</a>"
            ]
          },
          "metadata": {}
        },
        {
          "output_type": "display_data",
          "data": {
            "text/plain": [
              "<IPython.core.display.HTML object>"
            ],
            "text/html": [
              " View project at <a href='https://wandb.ai/ma23m021-iit-madras/MA23M021_A1_Q8_MSE' target=\"_blank\">https://wandb.ai/ma23m021-iit-madras/MA23M021_A1_Q8_MSE</a>"
            ]
          },
          "metadata": {}
        },
        {
          "output_type": "display_data",
          "data": {
            "text/plain": [
              "<IPython.core.display.HTML object>"
            ],
            "text/html": [
              " View sweep at <a href='https://wandb.ai/ma23m021-iit-madras/MA23M021_A1_Q8_MSE/sweeps/205o72nt' target=\"_blank\">https://wandb.ai/ma23m021-iit-madras/MA23M021_A1_Q8_MSE/sweeps/205o72nt</a>"
            ]
          },
          "metadata": {}
        },
        {
          "output_type": "display_data",
          "data": {
            "text/plain": [
              "<IPython.core.display.HTML object>"
            ],
            "text/html": [
              " View run at <a href='https://wandb.ai/ma23m021-iit-madras/MA23M021_A1_Q8_MSE/runs/czi95d98' target=\"_blank\">https://wandb.ai/ma23m021-iit-madras/MA23M021_A1_Q8_MSE/runs/czi95d98</a>"
            ]
          },
          "metadata": {}
        },
        {
          "output_type": "stream",
          "name": "stdout",
          "text": [
            "Epoch 1/10, mse - Train Loss: 0.6874, Val Loss: 0.4915, Val Accuracy: 0.7014\n",
            "Epoch 2/10, mse - Train Loss: 0.3857, Val Loss: 0.3329, Val Accuracy: 0.7545\n",
            "Epoch 3/10, mse - Train Loss: 0.3056, Val Loss: 0.2921, Val Accuracy: 0.7837\n",
            "Epoch 4/10, mse - Train Loss: 0.2732, Val Loss: 0.2631, Val Accuracy: 0.8142\n",
            "Epoch 5/10, mse - Train Loss: 0.2476, Val Loss: 0.2399, Val Accuracy: 0.8361\n",
            "Epoch 6/10, mse - Train Loss: 0.2290, Val Loss: 0.2267, Val Accuracy: 0.8443\n",
            "Epoch 7/10, mse - Train Loss: 0.2170, Val Loss: 0.2196, Val Accuracy: 0.8465\n",
            "Epoch 8/10, mse - Train Loss: 0.2081, Val Loss: 0.2098, Val Accuracy: 0.8531\n",
            "Epoch 9/10, mse - Train Loss: 0.2005, Val Loss: 0.2080, Val Accuracy: 0.8528\n",
            "Epoch 10/10, mse - Train Loss: 0.1943, Val Loss: 0.2025, Val Accuracy: 0.8573\n"
          ]
        },
        {
          "output_type": "display_data",
          "data": {
            "text/plain": [
              "<IPython.core.display.HTML object>"
            ],
            "text/html": []
          },
          "metadata": {}
        },
        {
          "output_type": "display_data",
          "data": {
            "text/plain": [
              "<IPython.core.display.HTML object>"
            ],
            "text/html": [
              "<br>    <style><br>        .wandb-row {<br>            display: flex;<br>            flex-direction: row;<br>            flex-wrap: wrap;<br>            justify-content: flex-start;<br>            width: 100%;<br>        }<br>        .wandb-col {<br>            display: flex;<br>            flex-direction: column;<br>            flex-basis: 100%;<br>            flex: 1;<br>            padding: 10px;<br>        }<br>    </style><br><div class=\"wandb-row\"><div class=\"wandb-col\"><h3>Run history:</h3><br/><table class=\"wandb\"><tr><td>epoch</td><td>▁▂▃▃▄▅▆▆▇█</td></tr><tr><td>train_loss</td><td>█▄▃▂▂▁▁▁▁▁</td></tr><tr><td>val_accuracy</td><td>▁▃▅▆▇▇████</td></tr><tr><td>val_loss</td><td>█▄▃▂▂▂▁▁▁▁</td></tr></table><br/></div><div class=\"wandb-col\"><h3>Run summary:</h3><br/><table class=\"wandb\"><tr><td>epoch</td><td>10</td></tr><tr><td>loss_type</td><td>mse</td></tr><tr><td>train_loss</td><td>0.19434</td></tr><tr><td>val_accuracy</td><td>0.85733</td></tr><tr><td>val_loss</td><td>0.20251</td></tr></table><br/></div></div>"
            ]
          },
          "metadata": {}
        },
        {
          "output_type": "display_data",
          "data": {
            "text/plain": [
              "<IPython.core.display.HTML object>"
            ],
            "text/html": [
              " View run <strong style=\"color:#cdcd00\">pleasant-sweep-8</strong> at: <a href='https://wandb.ai/ma23m021-iit-madras/MA23M021_A1_Q8_MSE/runs/czi95d98' target=\"_blank\">https://wandb.ai/ma23m021-iit-madras/MA23M021_A1_Q8_MSE/runs/czi95d98</a><br> View project at: <a href='https://wandb.ai/ma23m021-iit-madras/MA23M021_A1_Q8_MSE' target=\"_blank\">https://wandb.ai/ma23m021-iit-madras/MA23M021_A1_Q8_MSE</a><br>Synced 5 W&B file(s), 0 media file(s), 0 artifact file(s) and 0 other file(s)"
            ]
          },
          "metadata": {}
        },
        {
          "output_type": "display_data",
          "data": {
            "text/plain": [
              "<IPython.core.display.HTML object>"
            ],
            "text/html": [
              "Find logs at: <code>./wandb/run-20250309_145622-czi95d98/logs</code>"
            ]
          },
          "metadata": {}
        },
        {
          "output_type": "stream",
          "name": "stderr",
          "text": [
            "\u001b[34m\u001b[1mwandb\u001b[0m: Agent Starting Run: apds05s5 with config:\n",
            "\u001b[34m\u001b[1mwandb\u001b[0m: \tactivation_function: tanh\n",
            "\u001b[34m\u001b[1mwandb\u001b[0m: \tbatch_size: 16\n",
            "\u001b[34m\u001b[1mwandb\u001b[0m: \tepochs: 10\n",
            "\u001b[34m\u001b[1mwandb\u001b[0m: \thidden_layer_size: 128\n",
            "\u001b[34m\u001b[1mwandb\u001b[0m: \tlearningg_rate_: 0.0001\n",
            "\u001b[34m\u001b[1mwandb\u001b[0m: \tloss_type: mse\n",
            "\u001b[34m\u001b[1mwandb\u001b[0m: \tnum_hidden_layers: 3\n",
            "\u001b[34m\u001b[1mwandb\u001b[0m: \toptimizer: adam\n",
            "\u001b[34m\u001b[1mwandb\u001b[0m: \tweight_initialization: xavier\n"
          ]
        },
        {
          "output_type": "display_data",
          "data": {
            "text/plain": [
              "<IPython.core.display.HTML object>"
            ],
            "text/html": [
              "Ignoring project 'MA23M021_A1_Q8_MSE' when running a sweep."
            ]
          },
          "metadata": {}
        },
        {
          "output_type": "display_data",
          "data": {
            "text/plain": [
              "<IPython.core.display.HTML object>"
            ],
            "text/html": [
              "Tracking run with wandb version 0.19.7"
            ]
          },
          "metadata": {}
        },
        {
          "output_type": "display_data",
          "data": {
            "text/plain": [
              "<IPython.core.display.HTML object>"
            ],
            "text/html": [
              "Run data is saved locally in <code>/content/wandb/run-20250309_150016-apds05s5</code>"
            ]
          },
          "metadata": {}
        },
        {
          "output_type": "display_data",
          "data": {
            "text/plain": [
              "<IPython.core.display.HTML object>"
            ],
            "text/html": [
              "Syncing run <strong><a href='https://wandb.ai/ma23m021-iit-madras/MA23M021_A1_Q8_MSE/runs/apds05s5' target=\"_blank\">worldly-sweep-9</a></strong> to <a href='https://wandb.ai/ma23m021-iit-madras/MA23M021_A1_Q8_MSE' target=\"_blank\">Weights & Biases</a> (<a href='https://wandb.me/developer-guide' target=\"_blank\">docs</a>)<br>Sweep page: <a href='https://wandb.ai/ma23m021-iit-madras/MA23M021_A1_Q8_MSE/sweeps/205o72nt' target=\"_blank\">https://wandb.ai/ma23m021-iit-madras/MA23M021_A1_Q8_MSE/sweeps/205o72nt</a>"
            ]
          },
          "metadata": {}
        },
        {
          "output_type": "display_data",
          "data": {
            "text/plain": [
              "<IPython.core.display.HTML object>"
            ],
            "text/html": [
              " View project at <a href='https://wandb.ai/ma23m021-iit-madras/MA23M021_A1_Q8_MSE' target=\"_blank\">https://wandb.ai/ma23m021-iit-madras/MA23M021_A1_Q8_MSE</a>"
            ]
          },
          "metadata": {}
        },
        {
          "output_type": "display_data",
          "data": {
            "text/plain": [
              "<IPython.core.display.HTML object>"
            ],
            "text/html": [
              " View sweep at <a href='https://wandb.ai/ma23m021-iit-madras/MA23M021_A1_Q8_MSE/sweeps/205o72nt' target=\"_blank\">https://wandb.ai/ma23m021-iit-madras/MA23M021_A1_Q8_MSE/sweeps/205o72nt</a>"
            ]
          },
          "metadata": {}
        },
        {
          "output_type": "display_data",
          "data": {
            "text/plain": [
              "<IPython.core.display.HTML object>"
            ],
            "text/html": [
              " View run at <a href='https://wandb.ai/ma23m021-iit-madras/MA23M021_A1_Q8_MSE/runs/apds05s5' target=\"_blank\">https://wandb.ai/ma23m021-iit-madras/MA23M021_A1_Q8_MSE/runs/apds05s5</a>"
            ]
          },
          "metadata": {}
        },
        {
          "output_type": "stream",
          "name": "stdout",
          "text": [
            "Epoch 1/10, mse - Train Loss: 0.5897, Val Loss: 0.3891, Val Accuracy: 0.7595\n",
            "Epoch 2/10, mse - Train Loss: 0.3224, Val Loss: 0.2873, Val Accuracy: 0.8017\n",
            "Epoch 3/10, mse - Train Loss: 0.2626, Val Loss: 0.2521, Val Accuracy: 0.8277\n",
            "Epoch 4/10, mse - Train Loss: 0.2361, Val Loss: 0.2325, Val Accuracy: 0.8376\n",
            "Epoch 5/10, mse - Train Loss: 0.2202, Val Loss: 0.2204, Val Accuracy: 0.8451\n",
            "Epoch 6/10, mse - Train Loss: 0.2092, Val Loss: 0.2101, Val Accuracy: 0.8504\n",
            "Epoch 7/10, mse - Train Loss: 0.2004, Val Loss: 0.2080, Val Accuracy: 0.8523\n",
            "Epoch 8/10, mse - Train Loss: 0.1936, Val Loss: 0.1985, Val Accuracy: 0.8613\n",
            "Epoch 9/10, mse - Train Loss: 0.1879, Val Loss: 0.1937, Val Accuracy: 0.8627\n",
            "Epoch 10/10, mse - Train Loss: 0.1833, Val Loss: 0.1901, Val Accuracy: 0.8653\n"
          ]
        },
        {
          "output_type": "display_data",
          "data": {
            "text/plain": [
              "<IPython.core.display.HTML object>"
            ],
            "text/html": []
          },
          "metadata": {}
        },
        {
          "output_type": "display_data",
          "data": {
            "text/plain": [
              "<IPython.core.display.HTML object>"
            ],
            "text/html": [
              "<br>    <style><br>        .wandb-row {<br>            display: flex;<br>            flex-direction: row;<br>            flex-wrap: wrap;<br>            justify-content: flex-start;<br>            width: 100%;<br>        }<br>        .wandb-col {<br>            display: flex;<br>            flex-direction: column;<br>            flex-basis: 100%;<br>            flex: 1;<br>            padding: 10px;<br>        }<br>    </style><br><div class=\"wandb-row\"><div class=\"wandb-col\"><h3>Run history:</h3><br/><table class=\"wandb\"><tr><td>epoch</td><td>▁▂▃▃▄▅▆▆▇█</td></tr><tr><td>train_loss</td><td>█▃▂▂▂▁▁▁▁▁</td></tr><tr><td>val_accuracy</td><td>▁▄▆▆▇▇▇███</td></tr><tr><td>val_loss</td><td>█▄▃▂▂▂▂▁▁▁</td></tr></table><br/></div><div class=\"wandb-col\"><h3>Run summary:</h3><br/><table class=\"wandb\"><tr><td>epoch</td><td>10</td></tr><tr><td>loss_type</td><td>mse</td></tr><tr><td>train_loss</td><td>0.18326</td></tr><tr><td>val_accuracy</td><td>0.86533</td></tr><tr><td>val_loss</td><td>0.19013</td></tr></table><br/></div></div>"
            ]
          },
          "metadata": {}
        },
        {
          "output_type": "display_data",
          "data": {
            "text/plain": [
              "<IPython.core.display.HTML object>"
            ],
            "text/html": [
              " View run <strong style=\"color:#cdcd00\">worldly-sweep-9</strong> at: <a href='https://wandb.ai/ma23m021-iit-madras/MA23M021_A1_Q8_MSE/runs/apds05s5' target=\"_blank\">https://wandb.ai/ma23m021-iit-madras/MA23M021_A1_Q8_MSE/runs/apds05s5</a><br> View project at: <a href='https://wandb.ai/ma23m021-iit-madras/MA23M021_A1_Q8_MSE' target=\"_blank\">https://wandb.ai/ma23m021-iit-madras/MA23M021_A1_Q8_MSE</a><br>Synced 5 W&B file(s), 0 media file(s), 0 artifact file(s) and 0 other file(s)"
            ]
          },
          "metadata": {}
        },
        {
          "output_type": "display_data",
          "data": {
            "text/plain": [
              "<IPython.core.display.HTML object>"
            ],
            "text/html": [
              "Find logs at: <code>./wandb/run-20250309_150016-apds05s5/logs</code>"
            ]
          },
          "metadata": {}
        },
        {
          "output_type": "stream",
          "name": "stderr",
          "text": [
            "\u001b[34m\u001b[1mwandb\u001b[0m: Agent Starting Run: zablvx6v with config:\n",
            "\u001b[34m\u001b[1mwandb\u001b[0m: \tactivation_function: tanh\n",
            "\u001b[34m\u001b[1mwandb\u001b[0m: \tbatch_size: 16\n",
            "\u001b[34m\u001b[1mwandb\u001b[0m: \tepochs: 10\n",
            "\u001b[34m\u001b[1mwandb\u001b[0m: \thidden_layer_size: 128\n",
            "\u001b[34m\u001b[1mwandb\u001b[0m: \tlearningg_rate_: 0.0001\n",
            "\u001b[34m\u001b[1mwandb\u001b[0m: \tloss_type: mse\n",
            "\u001b[34m\u001b[1mwandb\u001b[0m: \tnum_hidden_layers: 3\n",
            "\u001b[34m\u001b[1mwandb\u001b[0m: \toptimizer: adam\n",
            "\u001b[34m\u001b[1mwandb\u001b[0m: \tweight_initialization: xavier\n"
          ]
        },
        {
          "output_type": "display_data",
          "data": {
            "text/plain": [
              "<IPython.core.display.HTML object>"
            ],
            "text/html": [
              "Ignoring project 'MA23M021_A1_Q8_MSE' when running a sweep."
            ]
          },
          "metadata": {}
        },
        {
          "output_type": "display_data",
          "data": {
            "text/plain": [
              "<IPython.core.display.HTML object>"
            ],
            "text/html": [
              "Tracking run with wandb version 0.19.7"
            ]
          },
          "metadata": {}
        },
        {
          "output_type": "display_data",
          "data": {
            "text/plain": [
              "<IPython.core.display.HTML object>"
            ],
            "text/html": [
              "Run data is saved locally in <code>/content/wandb/run-20250309_150324-zablvx6v</code>"
            ]
          },
          "metadata": {}
        },
        {
          "output_type": "display_data",
          "data": {
            "text/plain": [
              "<IPython.core.display.HTML object>"
            ],
            "text/html": [
              "Syncing run <strong><a href='https://wandb.ai/ma23m021-iit-madras/MA23M021_A1_Q8_MSE/runs/zablvx6v' target=\"_blank\">ruby-sweep-10</a></strong> to <a href='https://wandb.ai/ma23m021-iit-madras/MA23M021_A1_Q8_MSE' target=\"_blank\">Weights & Biases</a> (<a href='https://wandb.me/developer-guide' target=\"_blank\">docs</a>)<br>Sweep page: <a href='https://wandb.ai/ma23m021-iit-madras/MA23M021_A1_Q8_MSE/sweeps/205o72nt' target=\"_blank\">https://wandb.ai/ma23m021-iit-madras/MA23M021_A1_Q8_MSE/sweeps/205o72nt</a>"
            ]
          },
          "metadata": {}
        },
        {
          "output_type": "display_data",
          "data": {
            "text/plain": [
              "<IPython.core.display.HTML object>"
            ],
            "text/html": [
              " View project at <a href='https://wandb.ai/ma23m021-iit-madras/MA23M021_A1_Q8_MSE' target=\"_blank\">https://wandb.ai/ma23m021-iit-madras/MA23M021_A1_Q8_MSE</a>"
            ]
          },
          "metadata": {}
        },
        {
          "output_type": "display_data",
          "data": {
            "text/plain": [
              "<IPython.core.display.HTML object>"
            ],
            "text/html": [
              " View sweep at <a href='https://wandb.ai/ma23m021-iit-madras/MA23M021_A1_Q8_MSE/sweeps/205o72nt' target=\"_blank\">https://wandb.ai/ma23m021-iit-madras/MA23M021_A1_Q8_MSE/sweeps/205o72nt</a>"
            ]
          },
          "metadata": {}
        },
        {
          "output_type": "display_data",
          "data": {
            "text/plain": [
              "<IPython.core.display.HTML object>"
            ],
            "text/html": [
              " View run at <a href='https://wandb.ai/ma23m021-iit-madras/MA23M021_A1_Q8_MSE/runs/zablvx6v' target=\"_blank\">https://wandb.ai/ma23m021-iit-madras/MA23M021_A1_Q8_MSE/runs/zablvx6v</a>"
            ]
          },
          "metadata": {}
        },
        {
          "output_type": "stream",
          "name": "stdout",
          "text": [
            "Epoch 1/10, mse - Train Loss: 0.5997, Val Loss: 0.4012, Val Accuracy: 0.7535\n",
            "Epoch 2/10, mse - Train Loss: 0.3282, Val Loss: 0.2920, Val Accuracy: 0.8021\n",
            "Epoch 3/10, mse - Train Loss: 0.2643, Val Loss: 0.2530, Val Accuracy: 0.8255\n",
            "Epoch 4/10, mse - Train Loss: 0.2386, Val Loss: 0.2332, Val Accuracy: 0.8387\n",
            "Epoch 5/10, mse - Train Loss: 0.2230, Val Loss: 0.2236, Val Accuracy: 0.8423\n",
            "Epoch 6/10, mse - Train Loss: 0.2120, Val Loss: 0.2130, Val Accuracy: 0.8503\n",
            "Epoch 7/10, mse - Train Loss: 0.2030, Val Loss: 0.2066, Val Accuracy: 0.8550\n",
            "Epoch 8/10, mse - Train Loss: 0.1962, Val Loss: 0.2005, Val Accuracy: 0.8593\n",
            "Epoch 9/10, mse - Train Loss: 0.1905, Val Loss: 0.1973, Val Accuracy: 0.8599\n",
            "Epoch 10/10, mse - Train Loss: 0.1861, Val Loss: 0.1924, Val Accuracy: 0.8649\n"
          ]
        },
        {
          "output_type": "display_data",
          "data": {
            "text/plain": [
              "<IPython.core.display.HTML object>"
            ],
            "text/html": []
          },
          "metadata": {}
        },
        {
          "output_type": "display_data",
          "data": {
            "text/plain": [
              "<IPython.core.display.HTML object>"
            ],
            "text/html": [
              "<br>    <style><br>        .wandb-row {<br>            display: flex;<br>            flex-direction: row;<br>            flex-wrap: wrap;<br>            justify-content: flex-start;<br>            width: 100%;<br>        }<br>        .wandb-col {<br>            display: flex;<br>            flex-direction: column;<br>            flex-basis: 100%;<br>            flex: 1;<br>            padding: 10px;<br>        }<br>    </style><br><div class=\"wandb-row\"><div class=\"wandb-col\"><h3>Run history:</h3><br/><table class=\"wandb\"><tr><td>epoch</td><td>▁▂▃▃▄▅▆▆▇█</td></tr><tr><td>train_loss</td><td>█▃▂▂▂▁▁▁▁▁</td></tr><tr><td>val_accuracy</td><td>▁▄▆▆▇▇▇███</td></tr><tr><td>val_loss</td><td>█▄▃▂▂▂▁▁▁▁</td></tr></table><br/></div><div class=\"wandb-col\"><h3>Run summary:</h3><br/><table class=\"wandb\"><tr><td>epoch</td><td>10</td></tr><tr><td>loss_type</td><td>mse</td></tr><tr><td>train_loss</td><td>0.18611</td></tr><tr><td>val_accuracy</td><td>0.86492</td></tr><tr><td>val_loss</td><td>0.19242</td></tr></table><br/></div></div>"
            ]
          },
          "metadata": {}
        },
        {
          "output_type": "display_data",
          "data": {
            "text/plain": [
              "<IPython.core.display.HTML object>"
            ],
            "text/html": [
              " View run <strong style=\"color:#cdcd00\">ruby-sweep-10</strong> at: <a href='https://wandb.ai/ma23m021-iit-madras/MA23M021_A1_Q8_MSE/runs/zablvx6v' target=\"_blank\">https://wandb.ai/ma23m021-iit-madras/MA23M021_A1_Q8_MSE/runs/zablvx6v</a><br> View project at: <a href='https://wandb.ai/ma23m021-iit-madras/MA23M021_A1_Q8_MSE' target=\"_blank\">https://wandb.ai/ma23m021-iit-madras/MA23M021_A1_Q8_MSE</a><br>Synced 5 W&B file(s), 0 media file(s), 0 artifact file(s) and 0 other file(s)"
            ]
          },
          "metadata": {}
        },
        {
          "output_type": "display_data",
          "data": {
            "text/plain": [
              "<IPython.core.display.HTML object>"
            ],
            "text/html": [
              "Find logs at: <code>./wandb/run-20250309_150324-zablvx6v/logs</code>"
            ]
          },
          "metadata": {}
        },
        {
          "output_type": "stream",
          "name": "stderr",
          "text": [
            "\u001b[34m\u001b[1mwandb\u001b[0m: Agent Starting Run: ok6l2shp with config:\n",
            "\u001b[34m\u001b[1mwandb\u001b[0m: \tactivation_function: tanh\n",
            "\u001b[34m\u001b[1mwandb\u001b[0m: \tbatch_size: 16\n",
            "\u001b[34m\u001b[1mwandb\u001b[0m: \tepochs: 10\n",
            "\u001b[34m\u001b[1mwandb\u001b[0m: \thidden_layer_size: 128\n",
            "\u001b[34m\u001b[1mwandb\u001b[0m: \tlearningg_rate_: 0.0001\n",
            "\u001b[34m\u001b[1mwandb\u001b[0m: \tloss_type: mse\n",
            "\u001b[34m\u001b[1mwandb\u001b[0m: \tnum_hidden_layers: 3\n",
            "\u001b[34m\u001b[1mwandb\u001b[0m: \toptimizer: adam\n",
            "\u001b[34m\u001b[1mwandb\u001b[0m: \tweight_initialization: xavier\n"
          ]
        },
        {
          "output_type": "display_data",
          "data": {
            "text/plain": [
              "<IPython.core.display.HTML object>"
            ],
            "text/html": [
              "Ignoring project 'MA23M021_A1_Q8_MSE' when running a sweep."
            ]
          },
          "metadata": {}
        },
        {
          "output_type": "display_data",
          "data": {
            "text/plain": [
              "<IPython.core.display.HTML object>"
            ],
            "text/html": [
              "Tracking run with wandb version 0.19.7"
            ]
          },
          "metadata": {}
        },
        {
          "output_type": "display_data",
          "data": {
            "text/plain": [
              "<IPython.core.display.HTML object>"
            ],
            "text/html": [
              "Run data is saved locally in <code>/content/wandb/run-20250309_150631-ok6l2shp</code>"
            ]
          },
          "metadata": {}
        },
        {
          "output_type": "display_data",
          "data": {
            "text/plain": [
              "<IPython.core.display.HTML object>"
            ],
            "text/html": [
              "Syncing run <strong><a href='https://wandb.ai/ma23m021-iit-madras/MA23M021_A1_Q8_MSE/runs/ok6l2shp' target=\"_blank\">smooth-sweep-11</a></strong> to <a href='https://wandb.ai/ma23m021-iit-madras/MA23M021_A1_Q8_MSE' target=\"_blank\">Weights & Biases</a> (<a href='https://wandb.me/developer-guide' target=\"_blank\">docs</a>)<br>Sweep page: <a href='https://wandb.ai/ma23m021-iit-madras/MA23M021_A1_Q8_MSE/sweeps/205o72nt' target=\"_blank\">https://wandb.ai/ma23m021-iit-madras/MA23M021_A1_Q8_MSE/sweeps/205o72nt</a>"
            ]
          },
          "metadata": {}
        },
        {
          "output_type": "display_data",
          "data": {
            "text/plain": [
              "<IPython.core.display.HTML object>"
            ],
            "text/html": [
              " View project at <a href='https://wandb.ai/ma23m021-iit-madras/MA23M021_A1_Q8_MSE' target=\"_blank\">https://wandb.ai/ma23m021-iit-madras/MA23M021_A1_Q8_MSE</a>"
            ]
          },
          "metadata": {}
        },
        {
          "output_type": "display_data",
          "data": {
            "text/plain": [
              "<IPython.core.display.HTML object>"
            ],
            "text/html": [
              " View sweep at <a href='https://wandb.ai/ma23m021-iit-madras/MA23M021_A1_Q8_MSE/sweeps/205o72nt' target=\"_blank\">https://wandb.ai/ma23m021-iit-madras/MA23M021_A1_Q8_MSE/sweeps/205o72nt</a>"
            ]
          },
          "metadata": {}
        },
        {
          "output_type": "display_data",
          "data": {
            "text/plain": [
              "<IPython.core.display.HTML object>"
            ],
            "text/html": [
              " View run at <a href='https://wandb.ai/ma23m021-iit-madras/MA23M021_A1_Q8_MSE/runs/ok6l2shp' target=\"_blank\">https://wandb.ai/ma23m021-iit-madras/MA23M021_A1_Q8_MSE/runs/ok6l2shp</a>"
            ]
          },
          "metadata": {}
        },
        {
          "output_type": "stream",
          "name": "stdout",
          "text": [
            "Epoch 1/10, mse - Train Loss: 0.6203, Val Loss: 0.3964, Val Accuracy: 0.7572\n",
            "Epoch 2/10, mse - Train Loss: 0.3202, Val Loss: 0.2841, Val Accuracy: 0.8060\n",
            "Epoch 3/10, mse - Train Loss: 0.2611, Val Loss: 0.2508, Val Accuracy: 0.8239\n",
            "Epoch 4/10, mse - Train Loss: 0.2361, Val Loss: 0.2330, Val Accuracy: 0.8367\n",
            "Epoch 5/10, mse - Train Loss: 0.2211, Val Loss: 0.2222, Val Accuracy: 0.8450\n",
            "Epoch 6/10, mse - Train Loss: 0.2109, Val Loss: 0.2121, Val Accuracy: 0.8506\n",
            "Epoch 7/10, mse - Train Loss: 0.2022, Val Loss: 0.2088, Val Accuracy: 0.8493\n",
            "Epoch 8/10, mse - Train Loss: 0.1958, Val Loss: 0.2024, Val Accuracy: 0.8568\n",
            "Epoch 9/10, mse - Train Loss: 0.1904, Val Loss: 0.1952, Val Accuracy: 0.8621\n",
            "Epoch 10/10, mse - Train Loss: 0.1854, Val Loss: 0.1924, Val Accuracy: 0.8649\n"
          ]
        },
        {
          "output_type": "display_data",
          "data": {
            "text/plain": [
              "<IPython.core.display.HTML object>"
            ],
            "text/html": []
          },
          "metadata": {}
        },
        {
          "output_type": "display_data",
          "data": {
            "text/plain": [
              "<IPython.core.display.HTML object>"
            ],
            "text/html": [
              "<br>    <style><br>        .wandb-row {<br>            display: flex;<br>            flex-direction: row;<br>            flex-wrap: wrap;<br>            justify-content: flex-start;<br>            width: 100%;<br>        }<br>        .wandb-col {<br>            display: flex;<br>            flex-direction: column;<br>            flex-basis: 100%;<br>            flex: 1;<br>            padding: 10px;<br>        }<br>    </style><br><div class=\"wandb-row\"><div class=\"wandb-col\"><h3>Run history:</h3><br/><table class=\"wandb\"><tr><td>epoch</td><td>▁▂▃▃▄▅▆▆▇█</td></tr><tr><td>train_loss</td><td>█▃▂▂▂▁▁▁▁▁</td></tr><tr><td>val_accuracy</td><td>▁▄▅▆▇▇▇▇██</td></tr><tr><td>val_loss</td><td>█▄▃▂▂▂▂▁▁▁</td></tr></table><br/></div><div class=\"wandb-col\"><h3>Run summary:</h3><br/><table class=\"wandb\"><tr><td>epoch</td><td>10</td></tr><tr><td>loss_type</td><td>mse</td></tr><tr><td>train_loss</td><td>0.18539</td></tr><tr><td>val_accuracy</td><td>0.86492</td></tr><tr><td>val_loss</td><td>0.1924</td></tr></table><br/></div></div>"
            ]
          },
          "metadata": {}
        },
        {
          "output_type": "display_data",
          "data": {
            "text/plain": [
              "<IPython.core.display.HTML object>"
            ],
            "text/html": [
              " View run <strong style=\"color:#cdcd00\">smooth-sweep-11</strong> at: <a href='https://wandb.ai/ma23m021-iit-madras/MA23M021_A1_Q8_MSE/runs/ok6l2shp' target=\"_blank\">https://wandb.ai/ma23m021-iit-madras/MA23M021_A1_Q8_MSE/runs/ok6l2shp</a><br> View project at: <a href='https://wandb.ai/ma23m021-iit-madras/MA23M021_A1_Q8_MSE' target=\"_blank\">https://wandb.ai/ma23m021-iit-madras/MA23M021_A1_Q8_MSE</a><br>Synced 5 W&B file(s), 0 media file(s), 0 artifact file(s) and 0 other file(s)"
            ]
          },
          "metadata": {}
        },
        {
          "output_type": "display_data",
          "data": {
            "text/plain": [
              "<IPython.core.display.HTML object>"
            ],
            "text/html": [
              "Find logs at: <code>./wandb/run-20250309_150631-ok6l2shp/logs</code>"
            ]
          },
          "metadata": {}
        },
        {
          "output_type": "stream",
          "name": "stderr",
          "text": [
            "\u001b[34m\u001b[1mwandb\u001b[0m: Sweep Agent: Waiting for job.\n",
            "\u001b[34m\u001b[1mwandb\u001b[0m: Job received.\n",
            "\u001b[34m\u001b[1mwandb\u001b[0m: Agent Starting Run: 2x7c6tpp with config:\n",
            "\u001b[34m\u001b[1mwandb\u001b[0m: \tactivation_function: tanh\n",
            "\u001b[34m\u001b[1mwandb\u001b[0m: \tbatch_size: 16\n",
            "\u001b[34m\u001b[1mwandb\u001b[0m: \tepochs: 10\n",
            "\u001b[34m\u001b[1mwandb\u001b[0m: \thidden_layer_size: 128\n",
            "\u001b[34m\u001b[1mwandb\u001b[0m: \tlearningg_rate_: 0.0001\n",
            "\u001b[34m\u001b[1mwandb\u001b[0m: \tloss_type: mse\n",
            "\u001b[34m\u001b[1mwandb\u001b[0m: \tnum_hidden_layers: 3\n",
            "\u001b[34m\u001b[1mwandb\u001b[0m: \toptimizer: momentum\n",
            "\u001b[34m\u001b[1mwandb\u001b[0m: \tweight_initialization: xavier\n"
          ]
        },
        {
          "output_type": "display_data",
          "data": {
            "text/plain": [
              "<IPython.core.display.HTML object>"
            ],
            "text/html": [
              "Ignoring project 'MA23M021_A1_Q8_MSE' when running a sweep."
            ]
          },
          "metadata": {}
        },
        {
          "output_type": "display_data",
          "data": {
            "text/plain": [
              "<IPython.core.display.HTML object>"
            ],
            "text/html": [
              "Tracking run with wandb version 0.19.7"
            ]
          },
          "metadata": {}
        },
        {
          "output_type": "display_data",
          "data": {
            "text/plain": [
              "<IPython.core.display.HTML object>"
            ],
            "text/html": [
              "Run data is saved locally in <code>/content/wandb/run-20250309_150949-2x7c6tpp</code>"
            ]
          },
          "metadata": {}
        },
        {
          "output_type": "display_data",
          "data": {
            "text/plain": [
              "<IPython.core.display.HTML object>"
            ],
            "text/html": [
              "Syncing run <strong><a href='https://wandb.ai/ma23m021-iit-madras/MA23M021_A1_Q8_MSE/runs/2x7c6tpp' target=\"_blank\">dandy-sweep-12</a></strong> to <a href='https://wandb.ai/ma23m021-iit-madras/MA23M021_A1_Q8_MSE' target=\"_blank\">Weights & Biases</a> (<a href='https://wandb.me/developer-guide' target=\"_blank\">docs</a>)<br>Sweep page: <a href='https://wandb.ai/ma23m021-iit-madras/MA23M021_A1_Q8_MSE/sweeps/205o72nt' target=\"_blank\">https://wandb.ai/ma23m021-iit-madras/MA23M021_A1_Q8_MSE/sweeps/205o72nt</a>"
            ]
          },
          "metadata": {}
        },
        {
          "output_type": "display_data",
          "data": {
            "text/plain": [
              "<IPython.core.display.HTML object>"
            ],
            "text/html": [
              " View project at <a href='https://wandb.ai/ma23m021-iit-madras/MA23M021_A1_Q8_MSE' target=\"_blank\">https://wandb.ai/ma23m021-iit-madras/MA23M021_A1_Q8_MSE</a>"
            ]
          },
          "metadata": {}
        },
        {
          "output_type": "display_data",
          "data": {
            "text/plain": [
              "<IPython.core.display.HTML object>"
            ],
            "text/html": [
              " View sweep at <a href='https://wandb.ai/ma23m021-iit-madras/MA23M021_A1_Q8_MSE/sweeps/205o72nt' target=\"_blank\">https://wandb.ai/ma23m021-iit-madras/MA23M021_A1_Q8_MSE/sweeps/205o72nt</a>"
            ]
          },
          "metadata": {}
        },
        {
          "output_type": "display_data",
          "data": {
            "text/plain": [
              "<IPython.core.display.HTML object>"
            ],
            "text/html": [
              " View run at <a href='https://wandb.ai/ma23m021-iit-madras/MA23M021_A1_Q8_MSE/runs/2x7c6tpp' target=\"_blank\">https://wandb.ai/ma23m021-iit-madras/MA23M021_A1_Q8_MSE/runs/2x7c6tpp</a>"
            ]
          },
          "metadata": {}
        },
        {
          "output_type": "stream",
          "name": "stdout",
          "text": [
            "Epoch 1/10, mse - Train Loss: 0.9032, Val Loss: 0.8950, Val Accuracy: 0.2052\n",
            "Epoch 2/10, mse - Train Loss: 0.8915, Val Loss: 0.8880, Val Accuracy: 0.3891\n",
            "Epoch 3/10, mse - Train Loss: 0.8846, Val Loss: 0.8813, Val Accuracy: 0.5180\n",
            "Epoch 4/10, mse - Train Loss: 0.8777, Val Loss: 0.8742, Val Accuracy: 0.5491\n",
            "Epoch 5/10, mse - Train Loss: 0.8703, Val Loss: 0.8666, Val Accuracy: 0.5552\n",
            "Epoch 6/10, mse - Train Loss: 0.8621, Val Loss: 0.8582, Val Accuracy: 0.5663\n",
            "Epoch 7/10, mse - Train Loss: 0.8533, Val Loss: 0.8489, Val Accuracy: 0.5644\n",
            "Epoch 8/10, mse - Train Loss: 0.8435, Val Loss: 0.8389, Val Accuracy: 0.5768\n",
            "Epoch 9/10, mse - Train Loss: 0.8331, Val Loss: 0.8282, Val Accuracy: 0.5802\n",
            "Epoch 10/10, mse - Train Loss: 0.8220, Val Loss: 0.8169, Val Accuracy: 0.5820\n"
          ]
        },
        {
          "output_type": "display_data",
          "data": {
            "text/plain": [
              "<IPython.core.display.HTML object>"
            ],
            "text/html": []
          },
          "metadata": {}
        },
        {
          "output_type": "display_data",
          "data": {
            "text/plain": [
              "<IPython.core.display.HTML object>"
            ],
            "text/html": [
              "<br>    <style><br>        .wandb-row {<br>            display: flex;<br>            flex-direction: row;<br>            flex-wrap: wrap;<br>            justify-content: flex-start;<br>            width: 100%;<br>        }<br>        .wandb-col {<br>            display: flex;<br>            flex-direction: column;<br>            flex-basis: 100%;<br>            flex: 1;<br>            padding: 10px;<br>        }<br>    </style><br><div class=\"wandb-row\"><div class=\"wandb-col\"><h3>Run history:</h3><br/><table class=\"wandb\"><tr><td>epoch</td><td>▁▂▃▃▄▅▆▆▇█</td></tr><tr><td>train_loss</td><td>█▇▆▆▅▄▄▃▂▁</td></tr><tr><td>val_accuracy</td><td>▁▄▇▇██████</td></tr><tr><td>val_loss</td><td>█▇▇▆▅▅▄▃▂▁</td></tr></table><br/></div><div class=\"wandb-col\"><h3>Run summary:</h3><br/><table class=\"wandb\"><tr><td>epoch</td><td>10</td></tr><tr><td>loss_type</td><td>mse</td></tr><tr><td>train_loss</td><td>0.822</td></tr><tr><td>val_accuracy</td><td>0.582</td></tr><tr><td>val_loss</td><td>0.81694</td></tr></table><br/></div></div>"
            ]
          },
          "metadata": {}
        },
        {
          "output_type": "display_data",
          "data": {
            "text/plain": [
              "<IPython.core.display.HTML object>"
            ],
            "text/html": [
              " View run <strong style=\"color:#cdcd00\">dandy-sweep-12</strong> at: <a href='https://wandb.ai/ma23m021-iit-madras/MA23M021_A1_Q8_MSE/runs/2x7c6tpp' target=\"_blank\">https://wandb.ai/ma23m021-iit-madras/MA23M021_A1_Q8_MSE/runs/2x7c6tpp</a><br> View project at: <a href='https://wandb.ai/ma23m021-iit-madras/MA23M021_A1_Q8_MSE' target=\"_blank\">https://wandb.ai/ma23m021-iit-madras/MA23M021_A1_Q8_MSE</a><br>Synced 5 W&B file(s), 0 media file(s), 0 artifact file(s) and 0 other file(s)"
            ]
          },
          "metadata": {}
        },
        {
          "output_type": "display_data",
          "data": {
            "text/plain": [
              "<IPython.core.display.HTML object>"
            ],
            "text/html": [
              "Find logs at: <code>./wandb/run-20250309_150949-2x7c6tpp/logs</code>"
            ]
          },
          "metadata": {}
        },
        {
          "output_type": "stream",
          "name": "stderr",
          "text": [
            "\u001b[34m\u001b[1mwandb\u001b[0m: Agent Starting Run: 5xfm664d with config:\n",
            "\u001b[34m\u001b[1mwandb\u001b[0m: \tactivation_function: tanh\n",
            "\u001b[34m\u001b[1mwandb\u001b[0m: \tbatch_size: 32\n",
            "\u001b[34m\u001b[1mwandb\u001b[0m: \tepochs: 10\n",
            "\u001b[34m\u001b[1mwandb\u001b[0m: \thidden_layer_size: 128\n",
            "\u001b[34m\u001b[1mwandb\u001b[0m: \tlearningg_rate_: 0.0001\n",
            "\u001b[34m\u001b[1mwandb\u001b[0m: \tloss_type: mse\n",
            "\u001b[34m\u001b[1mwandb\u001b[0m: \tnum_hidden_layers: 3\n",
            "\u001b[34m\u001b[1mwandb\u001b[0m: \toptimizer: nadam\n",
            "\u001b[34m\u001b[1mwandb\u001b[0m: \tweight_initialization: xavier\n"
          ]
        },
        {
          "output_type": "display_data",
          "data": {
            "text/plain": [
              "<IPython.core.display.HTML object>"
            ],
            "text/html": [
              "Ignoring project 'MA23M021_A1_Q8_MSE' when running a sweep."
            ]
          },
          "metadata": {}
        },
        {
          "output_type": "display_data",
          "data": {
            "text/plain": [
              "<IPython.core.display.HTML object>"
            ],
            "text/html": [
              "Tracking run with wandb version 0.19.7"
            ]
          },
          "metadata": {}
        },
        {
          "output_type": "display_data",
          "data": {
            "text/plain": [
              "<IPython.core.display.HTML object>"
            ],
            "text/html": [
              "Run data is saved locally in <code>/content/wandb/run-20250309_151146-5xfm664d</code>"
            ]
          },
          "metadata": {}
        },
        {
          "output_type": "display_data",
          "data": {
            "text/plain": [
              "<IPython.core.display.HTML object>"
            ],
            "text/html": [
              "Syncing run <strong><a href='https://wandb.ai/ma23m021-iit-madras/MA23M021_A1_Q8_MSE/runs/5xfm664d' target=\"_blank\">golden-sweep-13</a></strong> to <a href='https://wandb.ai/ma23m021-iit-madras/MA23M021_A1_Q8_MSE' target=\"_blank\">Weights & Biases</a> (<a href='https://wandb.me/developer-guide' target=\"_blank\">docs</a>)<br>Sweep page: <a href='https://wandb.ai/ma23m021-iit-madras/MA23M021_A1_Q8_MSE/sweeps/205o72nt' target=\"_blank\">https://wandb.ai/ma23m021-iit-madras/MA23M021_A1_Q8_MSE/sweeps/205o72nt</a>"
            ]
          },
          "metadata": {}
        },
        {
          "output_type": "display_data",
          "data": {
            "text/plain": [
              "<IPython.core.display.HTML object>"
            ],
            "text/html": [
              " View project at <a href='https://wandb.ai/ma23m021-iit-madras/MA23M021_A1_Q8_MSE' target=\"_blank\">https://wandb.ai/ma23m021-iit-madras/MA23M021_A1_Q8_MSE</a>"
            ]
          },
          "metadata": {}
        },
        {
          "output_type": "display_data",
          "data": {
            "text/plain": [
              "<IPython.core.display.HTML object>"
            ],
            "text/html": [
              " View sweep at <a href='https://wandb.ai/ma23m021-iit-madras/MA23M021_A1_Q8_MSE/sweeps/205o72nt' target=\"_blank\">https://wandb.ai/ma23m021-iit-madras/MA23M021_A1_Q8_MSE/sweeps/205o72nt</a>"
            ]
          },
          "metadata": {}
        },
        {
          "output_type": "display_data",
          "data": {
            "text/plain": [
              "<IPython.core.display.HTML object>"
            ],
            "text/html": [
              " View run at <a href='https://wandb.ai/ma23m021-iit-madras/MA23M021_A1_Q8_MSE/runs/5xfm664d' target=\"_blank\">https://wandb.ai/ma23m021-iit-madras/MA23M021_A1_Q8_MSE/runs/5xfm664d</a>"
            ]
          },
          "metadata": {}
        },
        {
          "output_type": "stream",
          "name": "stdout",
          "text": [
            "Epoch 1/10, mse - Train Loss: 0.6891, Val Loss: 0.4930, Val Accuracy: 0.7371\n",
            "Epoch 2/10, mse - Train Loss: 0.3939, Val Loss: 0.3373, Val Accuracy: 0.7778\n",
            "Epoch 3/10, mse - Train Loss: 0.3021, Val Loss: 0.2865, Val Accuracy: 0.8133\n",
            "Epoch 4/10, mse - Train Loss: 0.2646, Val Loss: 0.2554, Val Accuracy: 0.8289\n",
            "Epoch 5/10, mse - Train Loss: 0.2407, Val Loss: 0.2390, Val Accuracy: 0.8369\n",
            "Epoch 6/10, mse - Train Loss: 0.2253, Val Loss: 0.2282, Val Accuracy: 0.8433\n",
            "Epoch 7/10, mse - Train Loss: 0.2159, Val Loss: 0.2205, Val Accuracy: 0.8471\n",
            "Epoch 8/10, mse - Train Loss: 0.2082, Val Loss: 0.2142, Val Accuracy: 0.8508\n",
            "Epoch 9/10, mse - Train Loss: 0.2020, Val Loss: 0.2094, Val Accuracy: 0.8555\n",
            "Epoch 10/10, mse - Train Loss: 0.1972, Val Loss: 0.2036, Val Accuracy: 0.8561\n"
          ]
        },
        {
          "output_type": "display_data",
          "data": {
            "text/plain": [
              "<IPython.core.display.HTML object>"
            ],
            "text/html": []
          },
          "metadata": {}
        },
        {
          "output_type": "display_data",
          "data": {
            "text/plain": [
              "<IPython.core.display.HTML object>"
            ],
            "text/html": [
              "<br>    <style><br>        .wandb-row {<br>            display: flex;<br>            flex-direction: row;<br>            flex-wrap: wrap;<br>            justify-content: flex-start;<br>            width: 100%;<br>        }<br>        .wandb-col {<br>            display: flex;<br>            flex-direction: column;<br>            flex-basis: 100%;<br>            flex: 1;<br>            padding: 10px;<br>        }<br>    </style><br><div class=\"wandb-row\"><div class=\"wandb-col\"><h3>Run history:</h3><br/><table class=\"wandb\"><tr><td>epoch</td><td>▁▂▃▃▄▅▆▆▇█</td></tr><tr><td>train_loss</td><td>█▄▂▂▂▁▁▁▁▁</td></tr><tr><td>val_accuracy</td><td>▁▃▅▆▇▇▇███</td></tr><tr><td>val_loss</td><td>█▄▃▂▂▂▁▁▁▁</td></tr></table><br/></div><div class=\"wandb-col\"><h3>Run summary:</h3><br/><table class=\"wandb\"><tr><td>epoch</td><td>10</td></tr><tr><td>loss_type</td><td>mse</td></tr><tr><td>train_loss</td><td>0.19725</td></tr><tr><td>val_accuracy</td><td>0.85608</td></tr><tr><td>val_loss</td><td>0.20364</td></tr></table><br/></div></div>"
            ]
          },
          "metadata": {}
        },
        {
          "output_type": "display_data",
          "data": {
            "text/plain": [
              "<IPython.core.display.HTML object>"
            ],
            "text/html": [
              " View run <strong style=\"color:#cdcd00\">golden-sweep-13</strong> at: <a href='https://wandb.ai/ma23m021-iit-madras/MA23M021_A1_Q8_MSE/runs/5xfm664d' target=\"_blank\">https://wandb.ai/ma23m021-iit-madras/MA23M021_A1_Q8_MSE/runs/5xfm664d</a><br> View project at: <a href='https://wandb.ai/ma23m021-iit-madras/MA23M021_A1_Q8_MSE' target=\"_blank\">https://wandb.ai/ma23m021-iit-madras/MA23M021_A1_Q8_MSE</a><br>Synced 5 W&B file(s), 0 media file(s), 0 artifact file(s) and 0 other file(s)"
            ]
          },
          "metadata": {}
        },
        {
          "output_type": "display_data",
          "data": {
            "text/plain": [
              "<IPython.core.display.HTML object>"
            ],
            "text/html": [
              "Find logs at: <code>./wandb/run-20250309_151146-5xfm664d/logs</code>"
            ]
          },
          "metadata": {}
        },
        {
          "output_type": "stream",
          "name": "stderr",
          "text": [
            "\u001b[34m\u001b[1mwandb\u001b[0m: Agent Starting Run: txxovz7u with config:\n",
            "\u001b[34m\u001b[1mwandb\u001b[0m: \tactivation_function: tanh\n",
            "\u001b[34m\u001b[1mwandb\u001b[0m: \tbatch_size: 16\n",
            "\u001b[34m\u001b[1mwandb\u001b[0m: \tepochs: 5\n",
            "\u001b[34m\u001b[1mwandb\u001b[0m: \thidden_layer_size: 128\n",
            "\u001b[34m\u001b[1mwandb\u001b[0m: \tlearningg_rate_: 0.0001\n",
            "\u001b[34m\u001b[1mwandb\u001b[0m: \tloss_type: mse\n",
            "\u001b[34m\u001b[1mwandb\u001b[0m: \tnum_hidden_layers: 3\n",
            "\u001b[34m\u001b[1mwandb\u001b[0m: \toptimizer: nadam\n",
            "\u001b[34m\u001b[1mwandb\u001b[0m: \tweight_initialization: xavier\n"
          ]
        },
        {
          "output_type": "display_data",
          "data": {
            "text/plain": [
              "<IPython.core.display.HTML object>"
            ],
            "text/html": [
              "Ignoring project 'MA23M021_A1_Q8_MSE' when running a sweep."
            ]
          },
          "metadata": {}
        },
        {
          "output_type": "display_data",
          "data": {
            "text/plain": [
              "<IPython.core.display.HTML object>"
            ],
            "text/html": [
              "Tracking run with wandb version 0.19.7"
            ]
          },
          "metadata": {}
        },
        {
          "output_type": "display_data",
          "data": {
            "text/plain": [
              "<IPython.core.display.HTML object>"
            ],
            "text/html": [
              "Run data is saved locally in <code>/content/wandb/run-20250309_151353-txxovz7u</code>"
            ]
          },
          "metadata": {}
        },
        {
          "output_type": "display_data",
          "data": {
            "text/plain": [
              "<IPython.core.display.HTML object>"
            ],
            "text/html": [
              "Syncing run <strong><a href='https://wandb.ai/ma23m021-iit-madras/MA23M021_A1_Q8_MSE/runs/txxovz7u' target=\"_blank\">easy-sweep-14</a></strong> to <a href='https://wandb.ai/ma23m021-iit-madras/MA23M021_A1_Q8_MSE' target=\"_blank\">Weights & Biases</a> (<a href='https://wandb.me/developer-guide' target=\"_blank\">docs</a>)<br>Sweep page: <a href='https://wandb.ai/ma23m021-iit-madras/MA23M021_A1_Q8_MSE/sweeps/205o72nt' target=\"_blank\">https://wandb.ai/ma23m021-iit-madras/MA23M021_A1_Q8_MSE/sweeps/205o72nt</a>"
            ]
          },
          "metadata": {}
        },
        {
          "output_type": "display_data",
          "data": {
            "text/plain": [
              "<IPython.core.display.HTML object>"
            ],
            "text/html": [
              " View project at <a href='https://wandb.ai/ma23m021-iit-madras/MA23M021_A1_Q8_MSE' target=\"_blank\">https://wandb.ai/ma23m021-iit-madras/MA23M021_A1_Q8_MSE</a>"
            ]
          },
          "metadata": {}
        },
        {
          "output_type": "display_data",
          "data": {
            "text/plain": [
              "<IPython.core.display.HTML object>"
            ],
            "text/html": [
              " View sweep at <a href='https://wandb.ai/ma23m021-iit-madras/MA23M021_A1_Q8_MSE/sweeps/205o72nt' target=\"_blank\">https://wandb.ai/ma23m021-iit-madras/MA23M021_A1_Q8_MSE/sweeps/205o72nt</a>"
            ]
          },
          "metadata": {}
        },
        {
          "output_type": "display_data",
          "data": {
            "text/plain": [
              "<IPython.core.display.HTML object>"
            ],
            "text/html": [
              " View run at <a href='https://wandb.ai/ma23m021-iit-madras/MA23M021_A1_Q8_MSE/runs/txxovz7u' target=\"_blank\">https://wandb.ai/ma23m021-iit-madras/MA23M021_A1_Q8_MSE/runs/txxovz7u</a>"
            ]
          },
          "metadata": {}
        },
        {
          "output_type": "stream",
          "name": "stdout",
          "text": [
            "Epoch 1/5, mse - Train Loss: 0.6093, Val Loss: 0.4128, Val Accuracy: 0.7427\n",
            "Epoch 2/5, mse - Train Loss: 0.3360, Val Loss: 0.2955, Val Accuracy: 0.7976\n",
            "Epoch 3/5, mse - Train Loss: 0.2658, Val Loss: 0.2564, Val Accuracy: 0.8170\n",
            "Epoch 4/5, mse - Train Loss: 0.2369, Val Loss: 0.2361, Val Accuracy: 0.8325\n",
            "Epoch 5/5, mse - Train Loss: 0.2200, Val Loss: 0.2189, Val Accuracy: 0.8466\n"
          ]
        },
        {
          "output_type": "display_data",
          "data": {
            "text/plain": [
              "<IPython.core.display.HTML object>"
            ],
            "text/html": []
          },
          "metadata": {}
        },
        {
          "output_type": "display_data",
          "data": {
            "text/plain": [
              "<IPython.core.display.HTML object>"
            ],
            "text/html": [
              "<br>    <style><br>        .wandb-row {<br>            display: flex;<br>            flex-direction: row;<br>            flex-wrap: wrap;<br>            justify-content: flex-start;<br>            width: 100%;<br>        }<br>        .wandb-col {<br>            display: flex;<br>            flex-direction: column;<br>            flex-basis: 100%;<br>            flex: 1;<br>            padding: 10px;<br>        }<br>    </style><br><div class=\"wandb-row\"><div class=\"wandb-col\"><h3>Run history:</h3><br/><table class=\"wandb\"><tr><td>epoch</td><td>▁▃▅▆█</td></tr><tr><td>train_loss</td><td>█▃▂▁▁</td></tr><tr><td>val_accuracy</td><td>▁▅▆▇█</td></tr><tr><td>val_loss</td><td>█▄▂▂▁</td></tr></table><br/></div><div class=\"wandb-col\"><h3>Run summary:</h3><br/><table class=\"wandb\"><tr><td>epoch</td><td>5</td></tr><tr><td>loss_type</td><td>mse</td></tr><tr><td>train_loss</td><td>0.21997</td></tr><tr><td>val_accuracy</td><td>0.84658</td></tr><tr><td>val_loss</td><td>0.21886</td></tr></table><br/></div></div>"
            ]
          },
          "metadata": {}
        },
        {
          "output_type": "display_data",
          "data": {
            "text/plain": [
              "<IPython.core.display.HTML object>"
            ],
            "text/html": [
              " View run <strong style=\"color:#cdcd00\">easy-sweep-14</strong> at: <a href='https://wandb.ai/ma23m021-iit-madras/MA23M021_A1_Q8_MSE/runs/txxovz7u' target=\"_blank\">https://wandb.ai/ma23m021-iit-madras/MA23M021_A1_Q8_MSE/runs/txxovz7u</a><br> View project at: <a href='https://wandb.ai/ma23m021-iit-madras/MA23M021_A1_Q8_MSE' target=\"_blank\">https://wandb.ai/ma23m021-iit-madras/MA23M021_A1_Q8_MSE</a><br>Synced 5 W&B file(s), 0 media file(s), 0 artifact file(s) and 0 other file(s)"
            ]
          },
          "metadata": {}
        },
        {
          "output_type": "display_data",
          "data": {
            "text/plain": [
              "<IPython.core.display.HTML object>"
            ],
            "text/html": [
              "Find logs at: <code>./wandb/run-20250309_151353-txxovz7u/logs</code>"
            ]
          },
          "metadata": {}
        },
        {
          "output_type": "stream",
          "name": "stderr",
          "text": [
            "\u001b[34m\u001b[1mwandb\u001b[0m: Agent Starting Run: iwji35m7 with config:\n",
            "\u001b[34m\u001b[1mwandb\u001b[0m: \tactivation_function: sigmoid\n",
            "\u001b[34m\u001b[1mwandb\u001b[0m: \tbatch_size: 16\n",
            "\u001b[34m\u001b[1mwandb\u001b[0m: \tepochs: 5\n",
            "\u001b[34m\u001b[1mwandb\u001b[0m: \thidden_layer_size: 128\n",
            "\u001b[34m\u001b[1mwandb\u001b[0m: \tlearningg_rate_: 0.001\n",
            "\u001b[34m\u001b[1mwandb\u001b[0m: \tloss_type: mse\n",
            "\u001b[34m\u001b[1mwandb\u001b[0m: \tnum_hidden_layers: 3\n",
            "\u001b[34m\u001b[1mwandb\u001b[0m: \toptimizer: nadam\n",
            "\u001b[34m\u001b[1mwandb\u001b[0m: \tweight_initialization: xavier\n"
          ]
        },
        {
          "output_type": "display_data",
          "data": {
            "text/plain": [
              "<IPython.core.display.HTML object>"
            ],
            "text/html": [
              "Ignoring project 'MA23M021_A1_Q8_MSE' when running a sweep."
            ]
          },
          "metadata": {}
        },
        {
          "output_type": "display_data",
          "data": {
            "text/plain": [
              "<IPython.core.display.HTML object>"
            ],
            "text/html": [
              "Tracking run with wandb version 0.19.7"
            ]
          },
          "metadata": {}
        },
        {
          "output_type": "display_data",
          "data": {
            "text/plain": [
              "<IPython.core.display.HTML object>"
            ],
            "text/html": [
              "Run data is saved locally in <code>/content/wandb/run-20250309_151540-iwji35m7</code>"
            ]
          },
          "metadata": {}
        },
        {
          "output_type": "display_data",
          "data": {
            "text/plain": [
              "<IPython.core.display.HTML object>"
            ],
            "text/html": [
              "Syncing run <strong><a href='https://wandb.ai/ma23m021-iit-madras/MA23M021_A1_Q8_MSE/runs/iwji35m7' target=\"_blank\">clear-sweep-15</a></strong> to <a href='https://wandb.ai/ma23m021-iit-madras/MA23M021_A1_Q8_MSE' target=\"_blank\">Weights & Biases</a> (<a href='https://wandb.me/developer-guide' target=\"_blank\">docs</a>)<br>Sweep page: <a href='https://wandb.ai/ma23m021-iit-madras/MA23M021_A1_Q8_MSE/sweeps/205o72nt' target=\"_blank\">https://wandb.ai/ma23m021-iit-madras/MA23M021_A1_Q8_MSE/sweeps/205o72nt</a>"
            ]
          },
          "metadata": {}
        },
        {
          "output_type": "display_data",
          "data": {
            "text/plain": [
              "<IPython.core.display.HTML object>"
            ],
            "text/html": [
              " View project at <a href='https://wandb.ai/ma23m021-iit-madras/MA23M021_A1_Q8_MSE' target=\"_blank\">https://wandb.ai/ma23m021-iit-madras/MA23M021_A1_Q8_MSE</a>"
            ]
          },
          "metadata": {}
        },
        {
          "output_type": "display_data",
          "data": {
            "text/plain": [
              "<IPython.core.display.HTML object>"
            ],
            "text/html": [
              " View sweep at <a href='https://wandb.ai/ma23m021-iit-madras/MA23M021_A1_Q8_MSE/sweeps/205o72nt' target=\"_blank\">https://wandb.ai/ma23m021-iit-madras/MA23M021_A1_Q8_MSE/sweeps/205o72nt</a>"
            ]
          },
          "metadata": {}
        },
        {
          "output_type": "display_data",
          "data": {
            "text/plain": [
              "<IPython.core.display.HTML object>"
            ],
            "text/html": [
              " View run at <a href='https://wandb.ai/ma23m021-iit-madras/MA23M021_A1_Q8_MSE/runs/iwji35m7' target=\"_blank\">https://wandb.ai/ma23m021-iit-madras/MA23M021_A1_Q8_MSE/runs/iwji35m7</a>"
            ]
          },
          "metadata": {}
        },
        {
          "output_type": "stream",
          "name": "stdout",
          "text": [
            "Epoch 1/5, mse - Train Loss: 0.2915, Val Loss: 0.2144, Val Accuracy: 0.8490\n",
            "Epoch 2/5, mse - Train Loss: 0.1998, Val Loss: 0.2056, Val Accuracy: 0.8545\n",
            "Epoch 3/5, mse - Train Loss: 0.1823, Val Loss: 0.1896, Val Accuracy: 0.8665\n",
            "Epoch 4/5, mse - Train Loss: 0.1694, Val Loss: 0.1823, Val Accuracy: 0.8717\n",
            "Epoch 5/5, mse - Train Loss: 0.1603, Val Loss: 0.1758, Val Accuracy: 0.8758\n"
          ]
        },
        {
          "output_type": "display_data",
          "data": {
            "text/plain": [
              "<IPython.core.display.HTML object>"
            ],
            "text/html": []
          },
          "metadata": {}
        },
        {
          "output_type": "display_data",
          "data": {
            "text/plain": [
              "<IPython.core.display.HTML object>"
            ],
            "text/html": [
              "<br>    <style><br>        .wandb-row {<br>            display: flex;<br>            flex-direction: row;<br>            flex-wrap: wrap;<br>            justify-content: flex-start;<br>            width: 100%;<br>        }<br>        .wandb-col {<br>            display: flex;<br>            flex-direction: column;<br>            flex-basis: 100%;<br>            flex: 1;<br>            padding: 10px;<br>        }<br>    </style><br><div class=\"wandb-row\"><div class=\"wandb-col\"><h3>Run history:</h3><br/><table class=\"wandb\"><tr><td>epoch</td><td>▁▃▅▆█</td></tr><tr><td>train_loss</td><td>█▃▂▁▁</td></tr><tr><td>val_accuracy</td><td>▁▂▆▇█</td></tr><tr><td>val_loss</td><td>█▆▃▂▁</td></tr></table><br/></div><div class=\"wandb-col\"><h3>Run summary:</h3><br/><table class=\"wandb\"><tr><td>epoch</td><td>5</td></tr><tr><td>loss_type</td><td>mse</td></tr><tr><td>train_loss</td><td>0.16027</td></tr><tr><td>val_accuracy</td><td>0.87583</td></tr><tr><td>val_loss</td><td>0.1758</td></tr></table><br/></div></div>"
            ]
          },
          "metadata": {}
        },
        {
          "output_type": "display_data",
          "data": {
            "text/plain": [
              "<IPython.core.display.HTML object>"
            ],
            "text/html": [
              " View run <strong style=\"color:#cdcd00\">clear-sweep-15</strong> at: <a href='https://wandb.ai/ma23m021-iit-madras/MA23M021_A1_Q8_MSE/runs/iwji35m7' target=\"_blank\">https://wandb.ai/ma23m021-iit-madras/MA23M021_A1_Q8_MSE/runs/iwji35m7</a><br> View project at: <a href='https://wandb.ai/ma23m021-iit-madras/MA23M021_A1_Q8_MSE' target=\"_blank\">https://wandb.ai/ma23m021-iit-madras/MA23M021_A1_Q8_MSE</a><br>Synced 5 W&B file(s), 0 media file(s), 0 artifact file(s) and 0 other file(s)"
            ]
          },
          "metadata": {}
        },
        {
          "output_type": "display_data",
          "data": {
            "text/plain": [
              "<IPython.core.display.HTML object>"
            ],
            "text/html": [
              "Find logs at: <code>./wandb/run-20250309_151540-iwji35m7/logs</code>"
            ]
          },
          "metadata": {}
        },
        {
          "output_type": "stream",
          "name": "stderr",
          "text": [
            "\u001b[34m\u001b[1mwandb\u001b[0m: Agent Starting Run: g4dqbn9n with config:\n",
            "\u001b[34m\u001b[1mwandb\u001b[0m: \tactivation_function: sigmoid\n",
            "\u001b[34m\u001b[1mwandb\u001b[0m: \tbatch_size: 16\n",
            "\u001b[34m\u001b[1mwandb\u001b[0m: \tepochs: 10\n",
            "\u001b[34m\u001b[1mwandb\u001b[0m: \thidden_layer_size: 128\n",
            "\u001b[34m\u001b[1mwandb\u001b[0m: \tlearningg_rate_: 0.0001\n",
            "\u001b[34m\u001b[1mwandb\u001b[0m: \tloss_type: mse\n",
            "\u001b[34m\u001b[1mwandb\u001b[0m: \tnum_hidden_layers: 3\n",
            "\u001b[34m\u001b[1mwandb\u001b[0m: \toptimizer: nadam\n",
            "\u001b[34m\u001b[1mwandb\u001b[0m: \tweight_initialization: xavier\n"
          ]
        },
        {
          "output_type": "display_data",
          "data": {
            "text/plain": [
              "<IPython.core.display.HTML object>"
            ],
            "text/html": [
              "Ignoring project 'MA23M021_A1_Q8_MSE' when running a sweep."
            ]
          },
          "metadata": {}
        },
        {
          "output_type": "display_data",
          "data": {
            "text/plain": [
              "<IPython.core.display.HTML object>"
            ],
            "text/html": [
              "Tracking run with wandb version 0.19.7"
            ]
          },
          "metadata": {}
        },
        {
          "output_type": "display_data",
          "data": {
            "text/plain": [
              "<IPython.core.display.HTML object>"
            ],
            "text/html": [
              "Run data is saved locally in <code>/content/wandb/run-20250309_151727-g4dqbn9n</code>"
            ]
          },
          "metadata": {}
        },
        {
          "output_type": "display_data",
          "data": {
            "text/plain": [
              "<IPython.core.display.HTML object>"
            ],
            "text/html": [
              "Syncing run <strong><a href='https://wandb.ai/ma23m021-iit-madras/MA23M021_A1_Q8_MSE/runs/g4dqbn9n' target=\"_blank\">peachy-sweep-16</a></strong> to <a href='https://wandb.ai/ma23m021-iit-madras/MA23M021_A1_Q8_MSE' target=\"_blank\">Weights & Biases</a> (<a href='https://wandb.me/developer-guide' target=\"_blank\">docs</a>)<br>Sweep page: <a href='https://wandb.ai/ma23m021-iit-madras/MA23M021_A1_Q8_MSE/sweeps/205o72nt' target=\"_blank\">https://wandb.ai/ma23m021-iit-madras/MA23M021_A1_Q8_MSE/sweeps/205o72nt</a>"
            ]
          },
          "metadata": {}
        },
        {
          "output_type": "display_data",
          "data": {
            "text/plain": [
              "<IPython.core.display.HTML object>"
            ],
            "text/html": [
              " View project at <a href='https://wandb.ai/ma23m021-iit-madras/MA23M021_A1_Q8_MSE' target=\"_blank\">https://wandb.ai/ma23m021-iit-madras/MA23M021_A1_Q8_MSE</a>"
            ]
          },
          "metadata": {}
        },
        {
          "output_type": "display_data",
          "data": {
            "text/plain": [
              "<IPython.core.display.HTML object>"
            ],
            "text/html": [
              " View sweep at <a href='https://wandb.ai/ma23m021-iit-madras/MA23M021_A1_Q8_MSE/sweeps/205o72nt' target=\"_blank\">https://wandb.ai/ma23m021-iit-madras/MA23M021_A1_Q8_MSE/sweeps/205o72nt</a>"
            ]
          },
          "metadata": {}
        },
        {
          "output_type": "display_data",
          "data": {
            "text/plain": [
              "<IPython.core.display.HTML object>"
            ],
            "text/html": [
              " View run at <a href='https://wandb.ai/ma23m021-iit-madras/MA23M021_A1_Q8_MSE/runs/g4dqbn9n' target=\"_blank\">https://wandb.ai/ma23m021-iit-madras/MA23M021_A1_Q8_MSE/runs/g4dqbn9n</a>"
            ]
          },
          "metadata": {}
        },
        {
          "output_type": "stream",
          "name": "stdout",
          "text": [
            "Epoch 1/10, mse - Train Loss: 0.5800, Val Loss: 0.3888, Val Accuracy: 0.7431\n",
            "Epoch 2/10, mse - Train Loss: 0.3219, Val Loss: 0.2906, Val Accuracy: 0.7869\n",
            "Epoch 3/10, mse - Train Loss: 0.2663, Val Loss: 0.2611, Val Accuracy: 0.8160\n",
            "Epoch 4/10, mse - Train Loss: 0.2407, Val Loss: 0.2378, Val Accuracy: 0.8322\n",
            "Epoch 5/10, mse - Train Loss: 0.2246, Val Loss: 0.2281, Val Accuracy: 0.8373\n",
            "Epoch 6/10, mse - Train Loss: 0.2132, Val Loss: 0.2138, Val Accuracy: 0.8492\n",
            "Epoch 7/10, mse - Train Loss: 0.2044, Val Loss: 0.2068, Val Accuracy: 0.8532\n",
            "Epoch 8/10, mse - Train Loss: 0.1977, Val Loss: 0.2049, Val Accuracy: 0.8552\n",
            "Epoch 9/10, mse - Train Loss: 0.1920, Val Loss: 0.1971, Val Accuracy: 0.8616\n",
            "Epoch 10/10, mse - Train Loss: 0.1868, Val Loss: 0.1924, Val Accuracy: 0.8651\n"
          ]
        },
        {
          "output_type": "display_data",
          "data": {
            "text/plain": [
              "<IPython.core.display.HTML object>"
            ],
            "text/html": []
          },
          "metadata": {}
        },
        {
          "output_type": "display_data",
          "data": {
            "text/plain": [
              "<IPython.core.display.HTML object>"
            ],
            "text/html": [
              "<br>    <style><br>        .wandb-row {<br>            display: flex;<br>            flex-direction: row;<br>            flex-wrap: wrap;<br>            justify-content: flex-start;<br>            width: 100%;<br>        }<br>        .wandb-col {<br>            display: flex;<br>            flex-direction: column;<br>            flex-basis: 100%;<br>            flex: 1;<br>            padding: 10px;<br>        }<br>    </style><br><div class=\"wandb-row\"><div class=\"wandb-col\"><h3>Run history:</h3><br/><table class=\"wandb\"><tr><td>epoch</td><td>▁▂▃▃▄▅▆▆▇█</td></tr><tr><td>train_loss</td><td>█▃▂▂▂▁▁▁▁▁</td></tr><tr><td>val_accuracy</td><td>▁▄▅▆▆▇▇▇██</td></tr><tr><td>val_loss</td><td>█▅▃▃▂▂▂▁▁▁</td></tr></table><br/></div><div class=\"wandb-col\"><h3>Run summary:</h3><br/><table class=\"wandb\"><tr><td>epoch</td><td>10</td></tr><tr><td>loss_type</td><td>mse</td></tr><tr><td>train_loss</td><td>0.18676</td></tr><tr><td>val_accuracy</td><td>0.86508</td></tr><tr><td>val_loss</td><td>0.19244</td></tr></table><br/></div></div>"
            ]
          },
          "metadata": {}
        },
        {
          "output_type": "display_data",
          "data": {
            "text/plain": [
              "<IPython.core.display.HTML object>"
            ],
            "text/html": [
              " View run <strong style=\"color:#cdcd00\">peachy-sweep-16</strong> at: <a href='https://wandb.ai/ma23m021-iit-madras/MA23M021_A1_Q8_MSE/runs/g4dqbn9n' target=\"_blank\">https://wandb.ai/ma23m021-iit-madras/MA23M021_A1_Q8_MSE/runs/g4dqbn9n</a><br> View project at: <a href='https://wandb.ai/ma23m021-iit-madras/MA23M021_A1_Q8_MSE' target=\"_blank\">https://wandb.ai/ma23m021-iit-madras/MA23M021_A1_Q8_MSE</a><br>Synced 5 W&B file(s), 0 media file(s), 0 artifact file(s) and 0 other file(s)"
            ]
          },
          "metadata": {}
        },
        {
          "output_type": "display_data",
          "data": {
            "text/plain": [
              "<IPython.core.display.HTML object>"
            ],
            "text/html": [
              "Find logs at: <code>./wandb/run-20250309_151727-g4dqbn9n/logs</code>"
            ]
          },
          "metadata": {}
        },
        {
          "output_type": "stream",
          "name": "stderr",
          "text": [
            "\u001b[34m\u001b[1mwandb\u001b[0m: Agent Starting Run: panj7tvz with config:\n",
            "\u001b[34m\u001b[1mwandb\u001b[0m: \tactivation_function: sigmoid\n",
            "\u001b[34m\u001b[1mwandb\u001b[0m: \tbatch_size: 16\n",
            "\u001b[34m\u001b[1mwandb\u001b[0m: \tepochs: 5\n",
            "\u001b[34m\u001b[1mwandb\u001b[0m: \thidden_layer_size: 64\n",
            "\u001b[34m\u001b[1mwandb\u001b[0m: \tlearningg_rate_: 0.001\n",
            "\u001b[34m\u001b[1mwandb\u001b[0m: \tloss_type: mse\n",
            "\u001b[34m\u001b[1mwandb\u001b[0m: \tnum_hidden_layers: 4\n",
            "\u001b[34m\u001b[1mwandb\u001b[0m: \toptimizer: nadam\n",
            "\u001b[34m\u001b[1mwandb\u001b[0m: \tweight_initialization: xavier\n"
          ]
        },
        {
          "output_type": "display_data",
          "data": {
            "text/plain": [
              "<IPython.core.display.HTML object>"
            ],
            "text/html": [
              "Ignoring project 'MA23M021_A1_Q8_MSE' when running a sweep."
            ]
          },
          "metadata": {}
        },
        {
          "output_type": "display_data",
          "data": {
            "text/plain": [
              "<IPython.core.display.HTML object>"
            ],
            "text/html": [
              "Tracking run with wandb version 0.19.7"
            ]
          },
          "metadata": {}
        },
        {
          "output_type": "display_data",
          "data": {
            "text/plain": [
              "<IPython.core.display.HTML object>"
            ],
            "text/html": [
              "Run data is saved locally in <code>/content/wandb/run-20250309_152045-panj7tvz</code>"
            ]
          },
          "metadata": {}
        },
        {
          "output_type": "display_data",
          "data": {
            "text/plain": [
              "<IPython.core.display.HTML object>"
            ],
            "text/html": [
              "Syncing run <strong><a href='https://wandb.ai/ma23m021-iit-madras/MA23M021_A1_Q8_MSE/runs/panj7tvz' target=\"_blank\">radiant-sweep-17</a></strong> to <a href='https://wandb.ai/ma23m021-iit-madras/MA23M021_A1_Q8_MSE' target=\"_blank\">Weights & Biases</a> (<a href='https://wandb.me/developer-guide' target=\"_blank\">docs</a>)<br>Sweep page: <a href='https://wandb.ai/ma23m021-iit-madras/MA23M021_A1_Q8_MSE/sweeps/205o72nt' target=\"_blank\">https://wandb.ai/ma23m021-iit-madras/MA23M021_A1_Q8_MSE/sweeps/205o72nt</a>"
            ]
          },
          "metadata": {}
        },
        {
          "output_type": "display_data",
          "data": {
            "text/plain": [
              "<IPython.core.display.HTML object>"
            ],
            "text/html": [
              " View project at <a href='https://wandb.ai/ma23m021-iit-madras/MA23M021_A1_Q8_MSE' target=\"_blank\">https://wandb.ai/ma23m021-iit-madras/MA23M021_A1_Q8_MSE</a>"
            ]
          },
          "metadata": {}
        },
        {
          "output_type": "display_data",
          "data": {
            "text/plain": [
              "<IPython.core.display.HTML object>"
            ],
            "text/html": [
              " View sweep at <a href='https://wandb.ai/ma23m021-iit-madras/MA23M021_A1_Q8_MSE/sweeps/205o72nt' target=\"_blank\">https://wandb.ai/ma23m021-iit-madras/MA23M021_A1_Q8_MSE/sweeps/205o72nt</a>"
            ]
          },
          "metadata": {}
        },
        {
          "output_type": "display_data",
          "data": {
            "text/plain": [
              "<IPython.core.display.HTML object>"
            ],
            "text/html": [
              " View run at <a href='https://wandb.ai/ma23m021-iit-madras/MA23M021_A1_Q8_MSE/runs/panj7tvz' target=\"_blank\">https://wandb.ai/ma23m021-iit-madras/MA23M021_A1_Q8_MSE/runs/panj7tvz</a>"
            ]
          },
          "metadata": {}
        },
        {
          "output_type": "stream",
          "name": "stdout",
          "text": [
            "Epoch 1/5, mse - Train Loss: 0.3826, Val Loss: 0.2657, Val Accuracy: 0.8008\n",
            "Epoch 2/5, mse - Train Loss: 0.2378, Val Loss: 0.2405, Val Accuracy: 0.8303\n",
            "Epoch 3/5, mse - Train Loss: 0.2027, Val Loss: 0.2068, Val Accuracy: 0.8569\n",
            "Epoch 4/5, mse - Train Loss: 0.1857, Val Loss: 0.2100, Val Accuracy: 0.8510\n",
            "Epoch 5/5, mse - Train Loss: 0.1753, Val Loss: 0.2004, Val Accuracy: 0.8608\n"
          ]
        },
        {
          "output_type": "display_data",
          "data": {
            "text/plain": [
              "<IPython.core.display.HTML object>"
            ],
            "text/html": []
          },
          "metadata": {}
        },
        {
          "output_type": "display_data",
          "data": {
            "text/plain": [
              "<IPython.core.display.HTML object>"
            ],
            "text/html": [
              "<br>    <style><br>        .wandb-row {<br>            display: flex;<br>            flex-direction: row;<br>            flex-wrap: wrap;<br>            justify-content: flex-start;<br>            width: 100%;<br>        }<br>        .wandb-col {<br>            display: flex;<br>            flex-direction: column;<br>            flex-basis: 100%;<br>            flex: 1;<br>            padding: 10px;<br>        }<br>    </style><br><div class=\"wandb-row\"><div class=\"wandb-col\"><h3>Run history:</h3><br/><table class=\"wandb\"><tr><td>epoch</td><td>▁▃▅▆█</td></tr><tr><td>train_loss</td><td>█▃▂▁▁</td></tr><tr><td>val_accuracy</td><td>▁▄█▇█</td></tr><tr><td>val_loss</td><td>█▅▂▂▁</td></tr></table><br/></div><div class=\"wandb-col\"><h3>Run summary:</h3><br/><table class=\"wandb\"><tr><td>epoch</td><td>5</td></tr><tr><td>loss_type</td><td>mse</td></tr><tr><td>train_loss</td><td>0.1753</td></tr><tr><td>val_accuracy</td><td>0.86083</td></tr><tr><td>val_loss</td><td>0.20039</td></tr></table><br/></div></div>"
            ]
          },
          "metadata": {}
        },
        {
          "output_type": "display_data",
          "data": {
            "text/plain": [
              "<IPython.core.display.HTML object>"
            ],
            "text/html": [
              " View run <strong style=\"color:#cdcd00\">radiant-sweep-17</strong> at: <a href='https://wandb.ai/ma23m021-iit-madras/MA23M021_A1_Q8_MSE/runs/panj7tvz' target=\"_blank\">https://wandb.ai/ma23m021-iit-madras/MA23M021_A1_Q8_MSE/runs/panj7tvz</a><br> View project at: <a href='https://wandb.ai/ma23m021-iit-madras/MA23M021_A1_Q8_MSE' target=\"_blank\">https://wandb.ai/ma23m021-iit-madras/MA23M021_A1_Q8_MSE</a><br>Synced 5 W&B file(s), 0 media file(s), 0 artifact file(s) and 0 other file(s)"
            ]
          },
          "metadata": {}
        },
        {
          "output_type": "display_data",
          "data": {
            "text/plain": [
              "<IPython.core.display.HTML object>"
            ],
            "text/html": [
              "Find logs at: <code>./wandb/run-20250309_152045-panj7tvz/logs</code>"
            ]
          },
          "metadata": {}
        },
        {
          "output_type": "stream",
          "name": "stderr",
          "text": [
            "\u001b[34m\u001b[1mwandb\u001b[0m: Agent Starting Run: by61rmdl with config:\n",
            "\u001b[34m\u001b[1mwandb\u001b[0m: \tactivation_function: tanh\n",
            "\u001b[34m\u001b[1mwandb\u001b[0m: \tbatch_size: 32\n",
            "\u001b[34m\u001b[1mwandb\u001b[0m: \tepochs: 10\n",
            "\u001b[34m\u001b[1mwandb\u001b[0m: \thidden_layer_size: 128\n",
            "\u001b[34m\u001b[1mwandb\u001b[0m: \tlearningg_rate_: 0.001\n",
            "\u001b[34m\u001b[1mwandb\u001b[0m: \tloss_type: mse\n",
            "\u001b[34m\u001b[1mwandb\u001b[0m: \tnum_hidden_layers: 3\n",
            "\u001b[34m\u001b[1mwandb\u001b[0m: \toptimizer: nadam\n",
            "\u001b[34m\u001b[1mwandb\u001b[0m: \tweight_initialization: xavier\n"
          ]
        },
        {
          "output_type": "display_data",
          "data": {
            "text/plain": [
              "<IPython.core.display.HTML object>"
            ],
            "text/html": [
              "Ignoring project 'MA23M021_A1_Q8_MSE' when running a sweep."
            ]
          },
          "metadata": {}
        },
        {
          "output_type": "display_data",
          "data": {
            "text/plain": [
              "<IPython.core.display.HTML object>"
            ],
            "text/html": [
              "Tracking run with wandb version 0.19.7"
            ]
          },
          "metadata": {}
        },
        {
          "output_type": "display_data",
          "data": {
            "text/plain": [
              "<IPython.core.display.HTML object>"
            ],
            "text/html": [
              "Run data is saved locally in <code>/content/wandb/run-20250309_152146-by61rmdl</code>"
            ]
          },
          "metadata": {}
        },
        {
          "output_type": "display_data",
          "data": {
            "text/plain": [
              "<IPython.core.display.HTML object>"
            ],
            "text/html": [
              "Syncing run <strong><a href='https://wandb.ai/ma23m021-iit-madras/MA23M021_A1_Q8_MSE/runs/by61rmdl' target=\"_blank\">wild-sweep-18</a></strong> to <a href='https://wandb.ai/ma23m021-iit-madras/MA23M021_A1_Q8_MSE' target=\"_blank\">Weights & Biases</a> (<a href='https://wandb.me/developer-guide' target=\"_blank\">docs</a>)<br>Sweep page: <a href='https://wandb.ai/ma23m021-iit-madras/MA23M021_A1_Q8_MSE/sweeps/205o72nt' target=\"_blank\">https://wandb.ai/ma23m021-iit-madras/MA23M021_A1_Q8_MSE/sweeps/205o72nt</a>"
            ]
          },
          "metadata": {}
        },
        {
          "output_type": "display_data",
          "data": {
            "text/plain": [
              "<IPython.core.display.HTML object>"
            ],
            "text/html": [
              " View project at <a href='https://wandb.ai/ma23m021-iit-madras/MA23M021_A1_Q8_MSE' target=\"_blank\">https://wandb.ai/ma23m021-iit-madras/MA23M021_A1_Q8_MSE</a>"
            ]
          },
          "metadata": {}
        },
        {
          "output_type": "display_data",
          "data": {
            "text/plain": [
              "<IPython.core.display.HTML object>"
            ],
            "text/html": [
              " View sweep at <a href='https://wandb.ai/ma23m021-iit-madras/MA23M021_A1_Q8_MSE/sweeps/205o72nt' target=\"_blank\">https://wandb.ai/ma23m021-iit-madras/MA23M021_A1_Q8_MSE/sweeps/205o72nt</a>"
            ]
          },
          "metadata": {}
        },
        {
          "output_type": "display_data",
          "data": {
            "text/plain": [
              "<IPython.core.display.HTML object>"
            ],
            "text/html": [
              " View run at <a href='https://wandb.ai/ma23m021-iit-madras/MA23M021_A1_Q8_MSE/runs/by61rmdl' target=\"_blank\">https://wandb.ai/ma23m021-iit-madras/MA23M021_A1_Q8_MSE/runs/by61rmdl</a>"
            ]
          },
          "metadata": {}
        },
        {
          "output_type": "stream",
          "name": "stdout",
          "text": [
            "Epoch 1/10, mse - Train Loss: 0.3318, Val Loss: 0.2229, Val Accuracy: 0.8423\n",
            "Epoch 2/10, mse - Train Loss: 0.2060, Val Loss: 0.2003, Val Accuracy: 0.8604\n",
            "Epoch 3/10, mse - Train Loss: 0.1868, Val Loss: 0.1927, Val Accuracy: 0.8662\n",
            "Epoch 4/10, mse - Train Loss: 0.1744, Val Loss: 0.1768, Val Accuracy: 0.8746\n",
            "Epoch 5/10, mse - Train Loss: 0.1668, Val Loss: 0.1744, Val Accuracy: 0.8766\n",
            "Epoch 6/10, mse - Train Loss: 0.1589, Val Loss: 0.1700, Val Accuracy: 0.8826\n",
            "Epoch 7/10, mse - Train Loss: 0.1542, Val Loss: 0.1696, Val Accuracy: 0.8818\n",
            "Epoch 8/10, mse - Train Loss: 0.1486, Val Loss: 0.1705, Val Accuracy: 0.8825\n",
            "Epoch 9/10, mse - Train Loss: 0.1452, Val Loss: 0.1664, Val Accuracy: 0.8824\n",
            "Epoch 10/10, mse - Train Loss: 0.1404, Val Loss: 0.1709, Val Accuracy: 0.8792\n"
          ]
        },
        {
          "output_type": "display_data",
          "data": {
            "text/plain": [
              "<IPython.core.display.HTML object>"
            ],
            "text/html": []
          },
          "metadata": {}
        },
        {
          "output_type": "display_data",
          "data": {
            "text/plain": [
              "<IPython.core.display.HTML object>"
            ],
            "text/html": [
              "<br>    <style><br>        .wandb-row {<br>            display: flex;<br>            flex-direction: row;<br>            flex-wrap: wrap;<br>            justify-content: flex-start;<br>            width: 100%;<br>        }<br>        .wandb-col {<br>            display: flex;<br>            flex-direction: column;<br>            flex-basis: 100%;<br>            flex: 1;<br>            padding: 10px;<br>        }<br>    </style><br><div class=\"wandb-row\"><div class=\"wandb-col\"><h3>Run history:</h3><br/><table class=\"wandb\"><tr><td>epoch</td><td>▁▂▃▃▄▅▆▆▇█</td></tr><tr><td>train_loss</td><td>█▃▃▂▂▂▂▁▁▁</td></tr><tr><td>val_accuracy</td><td>▁▄▅▇▇████▇</td></tr><tr><td>val_loss</td><td>█▅▄▂▂▁▁▂▁▂</td></tr></table><br/></div><div class=\"wandb-col\"><h3>Run summary:</h3><br/><table class=\"wandb\"><tr><td>epoch</td><td>10</td></tr><tr><td>loss_type</td><td>mse</td></tr><tr><td>train_loss</td><td>0.14039</td></tr><tr><td>val_accuracy</td><td>0.87925</td></tr><tr><td>val_loss</td><td>0.17089</td></tr></table><br/></div></div>"
            ]
          },
          "metadata": {}
        },
        {
          "output_type": "display_data",
          "data": {
            "text/plain": [
              "<IPython.core.display.HTML object>"
            ],
            "text/html": [
              " View run <strong style=\"color:#cdcd00\">wild-sweep-18</strong> at: <a href='https://wandb.ai/ma23m021-iit-madras/MA23M021_A1_Q8_MSE/runs/by61rmdl' target=\"_blank\">https://wandb.ai/ma23m021-iit-madras/MA23M021_A1_Q8_MSE/runs/by61rmdl</a><br> View project at: <a href='https://wandb.ai/ma23m021-iit-madras/MA23M021_A1_Q8_MSE' target=\"_blank\">https://wandb.ai/ma23m021-iit-madras/MA23M021_A1_Q8_MSE</a><br>Synced 5 W&B file(s), 0 media file(s), 0 artifact file(s) and 0 other file(s)"
            ]
          },
          "metadata": {}
        },
        {
          "output_type": "display_data",
          "data": {
            "text/plain": [
              "<IPython.core.display.HTML object>"
            ],
            "text/html": [
              "Find logs at: <code>./wandb/run-20250309_152146-by61rmdl/logs</code>"
            ]
          },
          "metadata": {}
        },
        {
          "output_type": "stream",
          "name": "stderr",
          "text": [
            "\u001b[34m\u001b[1mwandb\u001b[0m: Sweep Agent: Waiting for job.\n",
            "\u001b[34m\u001b[1mwandb\u001b[0m: Job received.\n",
            "\u001b[34m\u001b[1mwandb\u001b[0m: Agent Starting Run: pv8lfmkk with config:\n",
            "\u001b[34m\u001b[1mwandb\u001b[0m: \tactivation_function: tanh\n",
            "\u001b[34m\u001b[1mwandb\u001b[0m: \tbatch_size: 16\n",
            "\u001b[34m\u001b[1mwandb\u001b[0m: \tepochs: 5\n",
            "\u001b[34m\u001b[1mwandb\u001b[0m: \thidden_layer_size: 128\n",
            "\u001b[34m\u001b[1mwandb\u001b[0m: \tlearningg_rate_: 0.001\n",
            "\u001b[34m\u001b[1mwandb\u001b[0m: \tloss_type: mse\n",
            "\u001b[34m\u001b[1mwandb\u001b[0m: \tnum_hidden_layers: 3\n",
            "\u001b[34m\u001b[1mwandb\u001b[0m: \toptimizer: nadam\n",
            "\u001b[34m\u001b[1mwandb\u001b[0m: \tweight_initialization: xavier\n"
          ]
        },
        {
          "output_type": "display_data",
          "data": {
            "text/plain": [
              "<IPython.core.display.HTML object>"
            ],
            "text/html": [
              "Ignoring project 'MA23M021_A1_Q8_MSE' when running a sweep."
            ]
          },
          "metadata": {}
        },
        {
          "output_type": "display_data",
          "data": {
            "text/plain": [
              "<IPython.core.display.HTML object>"
            ],
            "text/html": [
              "Tracking run with wandb version 0.19.7"
            ]
          },
          "metadata": {}
        },
        {
          "output_type": "display_data",
          "data": {
            "text/plain": [
              "<IPython.core.display.HTML object>"
            ],
            "text/html": [
              "Run data is saved locally in <code>/content/wandb/run-20250309_152403-pv8lfmkk</code>"
            ]
          },
          "metadata": {}
        },
        {
          "output_type": "display_data",
          "data": {
            "text/plain": [
              "<IPython.core.display.HTML object>"
            ],
            "text/html": [
              "Syncing run <strong><a href='https://wandb.ai/ma23m021-iit-madras/MA23M021_A1_Q8_MSE/runs/pv8lfmkk' target=\"_blank\">glorious-sweep-19</a></strong> to <a href='https://wandb.ai/ma23m021-iit-madras/MA23M021_A1_Q8_MSE' target=\"_blank\">Weights & Biases</a> (<a href='https://wandb.me/developer-guide' target=\"_blank\">docs</a>)<br>Sweep page: <a href='https://wandb.ai/ma23m021-iit-madras/MA23M021_A1_Q8_MSE/sweeps/205o72nt' target=\"_blank\">https://wandb.ai/ma23m021-iit-madras/MA23M021_A1_Q8_MSE/sweeps/205o72nt</a>"
            ]
          },
          "metadata": {}
        },
        {
          "output_type": "display_data",
          "data": {
            "text/plain": [
              "<IPython.core.display.HTML object>"
            ],
            "text/html": [
              " View project at <a href='https://wandb.ai/ma23m021-iit-madras/MA23M021_A1_Q8_MSE' target=\"_blank\">https://wandb.ai/ma23m021-iit-madras/MA23M021_A1_Q8_MSE</a>"
            ]
          },
          "metadata": {}
        },
        {
          "output_type": "display_data",
          "data": {
            "text/plain": [
              "<IPython.core.display.HTML object>"
            ],
            "text/html": [
              " View sweep at <a href='https://wandb.ai/ma23m021-iit-madras/MA23M021_A1_Q8_MSE/sweeps/205o72nt' target=\"_blank\">https://wandb.ai/ma23m021-iit-madras/MA23M021_A1_Q8_MSE/sweeps/205o72nt</a>"
            ]
          },
          "metadata": {}
        },
        {
          "output_type": "display_data",
          "data": {
            "text/plain": [
              "<IPython.core.display.HTML object>"
            ],
            "text/html": [
              " View run at <a href='https://wandb.ai/ma23m021-iit-madras/MA23M021_A1_Q8_MSE/runs/pv8lfmkk' target=\"_blank\">https://wandb.ai/ma23m021-iit-madras/MA23M021_A1_Q8_MSE/runs/pv8lfmkk</a>"
            ]
          },
          "metadata": {}
        },
        {
          "output_type": "stream",
          "name": "stdout",
          "text": [
            "Epoch 1/5, mse - Train Loss: 0.2975, Val Loss: 0.2289, Val Accuracy: 0.8372\n",
            "Epoch 2/5, mse - Train Loss: 0.2043, Val Loss: 0.2068, Val Accuracy: 0.8551\n",
            "Epoch 3/5, mse - Train Loss: 0.1873, Val Loss: 0.1950, Val Accuracy: 0.8624\n",
            "Epoch 4/5, mse - Train Loss: 0.1781, Val Loss: 0.1951, Val Accuracy: 0.8628\n",
            "Epoch 5/5, mse - Train Loss: 0.1691, Val Loss: 0.1844, Val Accuracy: 0.8705\n"
          ]
        },
        {
          "output_type": "display_data",
          "data": {
            "text/plain": [
              "<IPython.core.display.HTML object>"
            ],
            "text/html": []
          },
          "metadata": {}
        },
        {
          "output_type": "display_data",
          "data": {
            "text/plain": [
              "<IPython.core.display.HTML object>"
            ],
            "text/html": [
              "<br>    <style><br>        .wandb-row {<br>            display: flex;<br>            flex-direction: row;<br>            flex-wrap: wrap;<br>            justify-content: flex-start;<br>            width: 100%;<br>        }<br>        .wandb-col {<br>            display: flex;<br>            flex-direction: column;<br>            flex-basis: 100%;<br>            flex: 1;<br>            padding: 10px;<br>        }<br>    </style><br><div class=\"wandb-row\"><div class=\"wandb-col\"><h3>Run history:</h3><br/><table class=\"wandb\"><tr><td>epoch</td><td>▁▃▅▆█</td></tr><tr><td>train_loss</td><td>█▃▂▁▁</td></tr><tr><td>val_accuracy</td><td>▁▅▆▆█</td></tr><tr><td>val_loss</td><td>█▅▃▃▁</td></tr></table><br/></div><div class=\"wandb-col\"><h3>Run summary:</h3><br/><table class=\"wandb\"><tr><td>epoch</td><td>5</td></tr><tr><td>loss_type</td><td>mse</td></tr><tr><td>train_loss</td><td>0.1691</td></tr><tr><td>val_accuracy</td><td>0.8705</td></tr><tr><td>val_loss</td><td>0.18437</td></tr></table><br/></div></div>"
            ]
          },
          "metadata": {}
        },
        {
          "output_type": "display_data",
          "data": {
            "text/plain": [
              "<IPython.core.display.HTML object>"
            ],
            "text/html": [
              " View run <strong style=\"color:#cdcd00\">glorious-sweep-19</strong> at: <a href='https://wandb.ai/ma23m021-iit-madras/MA23M021_A1_Q8_MSE/runs/pv8lfmkk' target=\"_blank\">https://wandb.ai/ma23m021-iit-madras/MA23M021_A1_Q8_MSE/runs/pv8lfmkk</a><br> View project at: <a href='https://wandb.ai/ma23m021-iit-madras/MA23M021_A1_Q8_MSE' target=\"_blank\">https://wandb.ai/ma23m021-iit-madras/MA23M021_A1_Q8_MSE</a><br>Synced 5 W&B file(s), 0 media file(s), 0 artifact file(s) and 0 other file(s)"
            ]
          },
          "metadata": {}
        },
        {
          "output_type": "display_data",
          "data": {
            "text/plain": [
              "<IPython.core.display.HTML object>"
            ],
            "text/html": [
              "Find logs at: <code>./wandb/run-20250309_152403-pv8lfmkk/logs</code>"
            ]
          },
          "metadata": {}
        },
        {
          "output_type": "stream",
          "name": "stderr",
          "text": [
            "\u001b[34m\u001b[1mwandb\u001b[0m: Agent Starting Run: bm0lrgez with config:\n",
            "\u001b[34m\u001b[1mwandb\u001b[0m: \tactivation_function: tanh\n",
            "\u001b[34m\u001b[1mwandb\u001b[0m: \tbatch_size: 16\n",
            "\u001b[34m\u001b[1mwandb\u001b[0m: \tepochs: 10\n",
            "\u001b[34m\u001b[1mwandb\u001b[0m: \thidden_layer_size: 32\n",
            "\u001b[34m\u001b[1mwandb\u001b[0m: \tlearningg_rate_: 0.001\n",
            "\u001b[34m\u001b[1mwandb\u001b[0m: \tloss_type: mse\n",
            "\u001b[34m\u001b[1mwandb\u001b[0m: \tnum_hidden_layers: 3\n",
            "\u001b[34m\u001b[1mwandb\u001b[0m: \toptimizer: nadam\n",
            "\u001b[34m\u001b[1mwandb\u001b[0m: \tweight_initialization: xavier\n"
          ]
        },
        {
          "output_type": "display_data",
          "data": {
            "text/plain": [
              "<IPython.core.display.HTML object>"
            ],
            "text/html": [
              "Ignoring project 'MA23M021_A1_Q8_MSE' when running a sweep."
            ]
          },
          "metadata": {}
        },
        {
          "output_type": "display_data",
          "data": {
            "text/plain": [
              "<IPython.core.display.HTML object>"
            ],
            "text/html": [
              "Tracking run with wandb version 0.19.7"
            ]
          },
          "metadata": {}
        },
        {
          "output_type": "display_data",
          "data": {
            "text/plain": [
              "<IPython.core.display.HTML object>"
            ],
            "text/html": [
              "Run data is saved locally in <code>/content/wandb/run-20250309_152550-bm0lrgez</code>"
            ]
          },
          "metadata": {}
        },
        {
          "output_type": "display_data",
          "data": {
            "text/plain": [
              "<IPython.core.display.HTML object>"
            ],
            "text/html": [
              "Syncing run <strong><a href='https://wandb.ai/ma23m021-iit-madras/MA23M021_A1_Q8_MSE/runs/bm0lrgez' target=\"_blank\">honest-sweep-20</a></strong> to <a href='https://wandb.ai/ma23m021-iit-madras/MA23M021_A1_Q8_MSE' target=\"_blank\">Weights & Biases</a> (<a href='https://wandb.me/developer-guide' target=\"_blank\">docs</a>)<br>Sweep page: <a href='https://wandb.ai/ma23m021-iit-madras/MA23M021_A1_Q8_MSE/sweeps/205o72nt' target=\"_blank\">https://wandb.ai/ma23m021-iit-madras/MA23M021_A1_Q8_MSE/sweeps/205o72nt</a>"
            ]
          },
          "metadata": {}
        },
        {
          "output_type": "display_data",
          "data": {
            "text/plain": [
              "<IPython.core.display.HTML object>"
            ],
            "text/html": [
              " View project at <a href='https://wandb.ai/ma23m021-iit-madras/MA23M021_A1_Q8_MSE' target=\"_blank\">https://wandb.ai/ma23m021-iit-madras/MA23M021_A1_Q8_MSE</a>"
            ]
          },
          "metadata": {}
        },
        {
          "output_type": "display_data",
          "data": {
            "text/plain": [
              "<IPython.core.display.HTML object>"
            ],
            "text/html": [
              " View sweep at <a href='https://wandb.ai/ma23m021-iit-madras/MA23M021_A1_Q8_MSE/sweeps/205o72nt' target=\"_blank\">https://wandb.ai/ma23m021-iit-madras/MA23M021_A1_Q8_MSE/sweeps/205o72nt</a>"
            ]
          },
          "metadata": {}
        },
        {
          "output_type": "display_data",
          "data": {
            "text/plain": [
              "<IPython.core.display.HTML object>"
            ],
            "text/html": [
              " View run at <a href='https://wandb.ai/ma23m021-iit-madras/MA23M021_A1_Q8_MSE/runs/bm0lrgez' target=\"_blank\">https://wandb.ai/ma23m021-iit-madras/MA23M021_A1_Q8_MSE/runs/bm0lrgez</a>"
            ]
          },
          "metadata": {}
        },
        {
          "output_type": "stream",
          "name": "stdout",
          "text": [
            "Epoch 1/10, mse - Train Loss: 0.4286, Val Loss: 0.2592, Val Accuracy: 0.8250\n",
            "Epoch 2/10, mse - Train Loss: 0.2267, Val Loss: 0.2094, Val Accuracy: 0.8545\n",
            "Epoch 3/10, mse - Train Loss: 0.2008, Val Loss: 0.2043, Val Accuracy: 0.8550\n",
            "Epoch 4/10, mse - Train Loss: 0.1888, Val Loss: 0.1956, Val Accuracy: 0.8608\n",
            "Epoch 5/10, mse - Train Loss: 0.1798, Val Loss: 0.1923, Val Accuracy: 0.8638\n",
            "Epoch 6/10, mse - Train Loss: 0.1747, Val Loss: 0.1878, Val Accuracy: 0.8678\n",
            "Epoch 7/10, mse - Train Loss: 0.1697, Val Loss: 0.1889, Val Accuracy: 0.8662\n",
            "Epoch 8/10, mse - Train Loss: 0.1652, Val Loss: 0.1863, Val Accuracy: 0.8703\n",
            "Epoch 9/10, mse - Train Loss: 0.1626, Val Loss: 0.1889, Val Accuracy: 0.8686\n",
            "Epoch 10/10, mse - Train Loss: 0.1586, Val Loss: 0.1828, Val Accuracy: 0.8710\n"
          ]
        },
        {
          "output_type": "display_data",
          "data": {
            "text/plain": [
              "<IPython.core.display.HTML object>"
            ],
            "text/html": []
          },
          "metadata": {}
        },
        {
          "output_type": "display_data",
          "data": {
            "text/plain": [
              "<IPython.core.display.HTML object>"
            ],
            "text/html": [
              "<br>    <style><br>        .wandb-row {<br>            display: flex;<br>            flex-direction: row;<br>            flex-wrap: wrap;<br>            justify-content: flex-start;<br>            width: 100%;<br>        }<br>        .wandb-col {<br>            display: flex;<br>            flex-direction: column;<br>            flex-basis: 100%;<br>            flex: 1;<br>            padding: 10px;<br>        }<br>    </style><br><div class=\"wandb-row\"><div class=\"wandb-col\"><h3>Run history:</h3><br/><table class=\"wandb\"><tr><td>epoch</td><td>▁▂▃▃▄▅▆▆▇█</td></tr><tr><td>train_loss</td><td>█▃▂▂▂▁▁▁▁▁</td></tr><tr><td>val_accuracy</td><td>▁▅▆▆▇█▇███</td></tr><tr><td>val_loss</td><td>█▃▃▂▂▁▂▁▂▁</td></tr></table><br/></div><div class=\"wandb-col\"><h3>Run summary:</h3><br/><table class=\"wandb\"><tr><td>epoch</td><td>10</td></tr><tr><td>loss_type</td><td>mse</td></tr><tr><td>train_loss</td><td>0.15861</td></tr><tr><td>val_accuracy</td><td>0.871</td></tr><tr><td>val_loss</td><td>0.18277</td></tr></table><br/></div></div>"
            ]
          },
          "metadata": {}
        },
        {
          "output_type": "display_data",
          "data": {
            "text/plain": [
              "<IPython.core.display.HTML object>"
            ],
            "text/html": [
              " View run <strong style=\"color:#cdcd00\">honest-sweep-20</strong> at: <a href='https://wandb.ai/ma23m021-iit-madras/MA23M021_A1_Q8_MSE/runs/bm0lrgez' target=\"_blank\">https://wandb.ai/ma23m021-iit-madras/MA23M021_A1_Q8_MSE/runs/bm0lrgez</a><br> View project at: <a href='https://wandb.ai/ma23m021-iit-madras/MA23M021_A1_Q8_MSE' target=\"_blank\">https://wandb.ai/ma23m021-iit-madras/MA23M021_A1_Q8_MSE</a><br>Synced 5 W&B file(s), 0 media file(s), 0 artifact file(s) and 0 other file(s)"
            ]
          },
          "metadata": {}
        },
        {
          "output_type": "display_data",
          "data": {
            "text/plain": [
              "<IPython.core.display.HTML object>"
            ],
            "text/html": [
              "Find logs at: <code>./wandb/run-20250309_152550-bm0lrgez/logs</code>"
            ]
          },
          "metadata": {}
        },
        {
          "output_type": "stream",
          "name": "stderr",
          "text": [
            "\u001b[34m\u001b[1mwandb\u001b[0m: Agent Starting Run: 9gqj7h2t with config:\n",
            "\u001b[34m\u001b[1mwandb\u001b[0m: \tactivation_function: tanh\n",
            "\u001b[34m\u001b[1mwandb\u001b[0m: \tbatch_size: 16\n",
            "\u001b[34m\u001b[1mwandb\u001b[0m: \tepochs: 5\n",
            "\u001b[34m\u001b[1mwandb\u001b[0m: \thidden_layer_size: 64\n",
            "\u001b[34m\u001b[1mwandb\u001b[0m: \tlearningg_rate_: 0.001\n",
            "\u001b[34m\u001b[1mwandb\u001b[0m: \tloss_type: mse\n",
            "\u001b[34m\u001b[1mwandb\u001b[0m: \tnum_hidden_layers: 3\n",
            "\u001b[34m\u001b[1mwandb\u001b[0m: \toptimizer: nadam\n",
            "\u001b[34m\u001b[1mwandb\u001b[0m: \tweight_initialization: xavier\n"
          ]
        },
        {
          "output_type": "display_data",
          "data": {
            "text/plain": [
              "<IPython.core.display.HTML object>"
            ],
            "text/html": [
              "Ignoring project 'MA23M021_A1_Q8_MSE' when running a sweep."
            ]
          },
          "metadata": {}
        },
        {
          "output_type": "display_data",
          "data": {
            "text/plain": [
              "<IPython.core.display.HTML object>"
            ],
            "text/html": [
              "Tracking run with wandb version 0.19.7"
            ]
          },
          "metadata": {}
        },
        {
          "output_type": "display_data",
          "data": {
            "text/plain": [
              "<IPython.core.display.HTML object>"
            ],
            "text/html": [
              "Run data is saved locally in <code>/content/wandb/run-20250309_152701-9gqj7h2t</code>"
            ]
          },
          "metadata": {}
        },
        {
          "output_type": "display_data",
          "data": {
            "text/plain": [
              "<IPython.core.display.HTML object>"
            ],
            "text/html": [
              "Syncing run <strong><a href='https://wandb.ai/ma23m021-iit-madras/MA23M021_A1_Q8_MSE/runs/9gqj7h2t' target=\"_blank\">worldly-sweep-21</a></strong> to <a href='https://wandb.ai/ma23m021-iit-madras/MA23M021_A1_Q8_MSE' target=\"_blank\">Weights & Biases</a> (<a href='https://wandb.me/developer-guide' target=\"_blank\">docs</a>)<br>Sweep page: <a href='https://wandb.ai/ma23m021-iit-madras/MA23M021_A1_Q8_MSE/sweeps/205o72nt' target=\"_blank\">https://wandb.ai/ma23m021-iit-madras/MA23M021_A1_Q8_MSE/sweeps/205o72nt</a>"
            ]
          },
          "metadata": {}
        },
        {
          "output_type": "display_data",
          "data": {
            "text/plain": [
              "<IPython.core.display.HTML object>"
            ],
            "text/html": [
              " View project at <a href='https://wandb.ai/ma23m021-iit-madras/MA23M021_A1_Q8_MSE' target=\"_blank\">https://wandb.ai/ma23m021-iit-madras/MA23M021_A1_Q8_MSE</a>"
            ]
          },
          "metadata": {}
        },
        {
          "output_type": "display_data",
          "data": {
            "text/plain": [
              "<IPython.core.display.HTML object>"
            ],
            "text/html": [
              " View sweep at <a href='https://wandb.ai/ma23m021-iit-madras/MA23M021_A1_Q8_MSE/sweeps/205o72nt' target=\"_blank\">https://wandb.ai/ma23m021-iit-madras/MA23M021_A1_Q8_MSE/sweeps/205o72nt</a>"
            ]
          },
          "metadata": {}
        },
        {
          "output_type": "display_data",
          "data": {
            "text/plain": [
              "<IPython.core.display.HTML object>"
            ],
            "text/html": [
              " View run at <a href='https://wandb.ai/ma23m021-iit-madras/MA23M021_A1_Q8_MSE/runs/9gqj7h2t' target=\"_blank\">https://wandb.ai/ma23m021-iit-madras/MA23M021_A1_Q8_MSE/runs/9gqj7h2t</a>"
            ]
          },
          "metadata": {}
        },
        {
          "output_type": "stream",
          "name": "stdout",
          "text": [
            "Epoch 1/5, mse - Train Loss: 0.3385, Val Loss: 0.2183, Val Accuracy: 0.8463\n",
            "Epoch 2/5, mse - Train Loss: 0.2073, Val Loss: 0.2117, Val Accuracy: 0.8512\n",
            "Epoch 3/5, mse - Train Loss: 0.1905, Val Loss: 0.1925, Val Accuracy: 0.8649\n",
            "Epoch 4/5, mse - Train Loss: 0.1783, Val Loss: 0.1862, Val Accuracy: 0.8685\n",
            "Epoch 5/5, mse - Train Loss: 0.1722, Val Loss: 0.1833, Val Accuracy: 0.8692\n"
          ]
        },
        {
          "output_type": "display_data",
          "data": {
            "text/plain": [
              "<IPython.core.display.HTML object>"
            ],
            "text/html": []
          },
          "metadata": {}
        },
        {
          "output_type": "display_data",
          "data": {
            "text/plain": [
              "<IPython.core.display.HTML object>"
            ],
            "text/html": [
              "<br>    <style><br>        .wandb-row {<br>            display: flex;<br>            flex-direction: row;<br>            flex-wrap: wrap;<br>            justify-content: flex-start;<br>            width: 100%;<br>        }<br>        .wandb-col {<br>            display: flex;<br>            flex-direction: column;<br>            flex-basis: 100%;<br>            flex: 1;<br>            padding: 10px;<br>        }<br>    </style><br><div class=\"wandb-row\"><div class=\"wandb-col\"><h3>Run history:</h3><br/><table class=\"wandb\"><tr><td>epoch</td><td>▁▃▅▆█</td></tr><tr><td>train_loss</td><td>█▂▂▁▁</td></tr><tr><td>val_accuracy</td><td>▁▂▇██</td></tr><tr><td>val_loss</td><td>█▇▃▂▁</td></tr></table><br/></div><div class=\"wandb-col\"><h3>Run summary:</h3><br/><table class=\"wandb\"><tr><td>epoch</td><td>5</td></tr><tr><td>loss_type</td><td>mse</td></tr><tr><td>train_loss</td><td>0.17224</td></tr><tr><td>val_accuracy</td><td>0.86917</td></tr><tr><td>val_loss</td><td>0.18333</td></tr></table><br/></div></div>"
            ]
          },
          "metadata": {}
        },
        {
          "output_type": "display_data",
          "data": {
            "text/plain": [
              "<IPython.core.display.HTML object>"
            ],
            "text/html": [
              " View run <strong style=\"color:#cdcd00\">worldly-sweep-21</strong> at: <a href='https://wandb.ai/ma23m021-iit-madras/MA23M021_A1_Q8_MSE/runs/9gqj7h2t' target=\"_blank\">https://wandb.ai/ma23m021-iit-madras/MA23M021_A1_Q8_MSE/runs/9gqj7h2t</a><br> View project at: <a href='https://wandb.ai/ma23m021-iit-madras/MA23M021_A1_Q8_MSE' target=\"_blank\">https://wandb.ai/ma23m021-iit-madras/MA23M021_A1_Q8_MSE</a><br>Synced 5 W&B file(s), 0 media file(s), 0 artifact file(s) and 0 other file(s)"
            ]
          },
          "metadata": {}
        },
        {
          "output_type": "display_data",
          "data": {
            "text/plain": [
              "<IPython.core.display.HTML object>"
            ],
            "text/html": [
              "Find logs at: <code>./wandb/run-20250309_152701-9gqj7h2t/logs</code>"
            ]
          },
          "metadata": {}
        },
        {
          "output_type": "stream",
          "name": "stderr",
          "text": [
            "\u001b[34m\u001b[1mwandb\u001b[0m: Agent Starting Run: 7o9etv27 with config:\n",
            "\u001b[34m\u001b[1mwandb\u001b[0m: \tactivation_function: tanh\n",
            "\u001b[34m\u001b[1mwandb\u001b[0m: \tbatch_size: 16\n",
            "\u001b[34m\u001b[1mwandb\u001b[0m: \tepochs: 5\n",
            "\u001b[34m\u001b[1mwandb\u001b[0m: \thidden_layer_size: 128\n",
            "\u001b[34m\u001b[1mwandb\u001b[0m: \tlearningg_rate_: 0.001\n",
            "\u001b[34m\u001b[1mwandb\u001b[0m: \tloss_type: mse\n",
            "\u001b[34m\u001b[1mwandb\u001b[0m: \tnum_hidden_layers: 3\n",
            "\u001b[34m\u001b[1mwandb\u001b[0m: \toptimizer: nadam\n",
            "\u001b[34m\u001b[1mwandb\u001b[0m: \tweight_initialization: random\n"
          ]
        },
        {
          "output_type": "display_data",
          "data": {
            "text/plain": [
              "<IPython.core.display.HTML object>"
            ],
            "text/html": [
              "Ignoring project 'MA23M021_A1_Q8_MSE' when running a sweep."
            ]
          },
          "metadata": {}
        },
        {
          "output_type": "display_data",
          "data": {
            "text/plain": [
              "<IPython.core.display.HTML object>"
            ],
            "text/html": [
              "Tracking run with wandb version 0.19.7"
            ]
          },
          "metadata": {}
        },
        {
          "output_type": "display_data",
          "data": {
            "text/plain": [
              "<IPython.core.display.HTML object>"
            ],
            "text/html": [
              "Run data is saved locally in <code>/content/wandb/run-20250309_152757-7o9etv27</code>"
            ]
          },
          "metadata": {}
        },
        {
          "output_type": "display_data",
          "data": {
            "text/plain": [
              "<IPython.core.display.HTML object>"
            ],
            "text/html": [
              "Syncing run <strong><a href='https://wandb.ai/ma23m021-iit-madras/MA23M021_A1_Q8_MSE/runs/7o9etv27' target=\"_blank\">faithful-sweep-22</a></strong> to <a href='https://wandb.ai/ma23m021-iit-madras/MA23M021_A1_Q8_MSE' target=\"_blank\">Weights & Biases</a> (<a href='https://wandb.me/developer-guide' target=\"_blank\">docs</a>)<br>Sweep page: <a href='https://wandb.ai/ma23m021-iit-madras/MA23M021_A1_Q8_MSE/sweeps/205o72nt' target=\"_blank\">https://wandb.ai/ma23m021-iit-madras/MA23M021_A1_Q8_MSE/sweeps/205o72nt</a>"
            ]
          },
          "metadata": {}
        },
        {
          "output_type": "display_data",
          "data": {
            "text/plain": [
              "<IPython.core.display.HTML object>"
            ],
            "text/html": [
              " View project at <a href='https://wandb.ai/ma23m021-iit-madras/MA23M021_A1_Q8_MSE' target=\"_blank\">https://wandb.ai/ma23m021-iit-madras/MA23M021_A1_Q8_MSE</a>"
            ]
          },
          "metadata": {}
        },
        {
          "output_type": "display_data",
          "data": {
            "text/plain": [
              "<IPython.core.display.HTML object>"
            ],
            "text/html": [
              " View sweep at <a href='https://wandb.ai/ma23m021-iit-madras/MA23M021_A1_Q8_MSE/sweeps/205o72nt' target=\"_blank\">https://wandb.ai/ma23m021-iit-madras/MA23M021_A1_Q8_MSE/sweeps/205o72nt</a>"
            ]
          },
          "metadata": {}
        },
        {
          "output_type": "display_data",
          "data": {
            "text/plain": [
              "<IPython.core.display.HTML object>"
            ],
            "text/html": [
              " View run at <a href='https://wandb.ai/ma23m021-iit-madras/MA23M021_A1_Q8_MSE/runs/7o9etv27' target=\"_blank\">https://wandb.ai/ma23m021-iit-madras/MA23M021_A1_Q8_MSE/runs/7o9etv27</a>"
            ]
          },
          "metadata": {}
        },
        {
          "output_type": "stream",
          "name": "stdout",
          "text": [
            "Epoch 1/5, mse - Train Loss: 0.5376, Val Loss: 0.3521, Val Accuracy: 0.7170\n",
            "Epoch 2/5, mse - Train Loss: 0.2769, Val Loss: 0.2266, Val Accuracy: 0.8389\n",
            "Epoch 3/5, mse - Train Loss: 0.2142, Val Loss: 0.2222, Val Accuracy: 0.8473\n",
            "Epoch 4/5, mse - Train Loss: 0.1947, Val Loss: 0.1971, Val Accuracy: 0.8629\n",
            "Epoch 5/5, mse - Train Loss: 0.1838, Val Loss: 0.1943, Val Accuracy: 0.8639\n"
          ]
        },
        {
          "output_type": "display_data",
          "data": {
            "text/plain": [
              "<IPython.core.display.HTML object>"
            ],
            "text/html": []
          },
          "metadata": {}
        },
        {
          "output_type": "display_data",
          "data": {
            "text/plain": [
              "<IPython.core.display.HTML object>"
            ],
            "text/html": [
              "<br>    <style><br>        .wandb-row {<br>            display: flex;<br>            flex-direction: row;<br>            flex-wrap: wrap;<br>            justify-content: flex-start;<br>            width: 100%;<br>        }<br>        .wandb-col {<br>            display: flex;<br>            flex-direction: column;<br>            flex-basis: 100%;<br>            flex: 1;<br>            padding: 10px;<br>        }<br>    </style><br><div class=\"wandb-row\"><div class=\"wandb-col\"><h3>Run history:</h3><br/><table class=\"wandb\"><tr><td>epoch</td><td>▁▃▅▆█</td></tr><tr><td>train_loss</td><td>█▃▂▁▁</td></tr><tr><td>val_accuracy</td><td>▁▇▇██</td></tr><tr><td>val_loss</td><td>█▂▂▁▁</td></tr></table><br/></div><div class=\"wandb-col\"><h3>Run summary:</h3><br/><table class=\"wandb\"><tr><td>epoch</td><td>5</td></tr><tr><td>loss_type</td><td>mse</td></tr><tr><td>train_loss</td><td>0.18384</td></tr><tr><td>val_accuracy</td><td>0.86392</td></tr><tr><td>val_loss</td><td>0.19433</td></tr></table><br/></div></div>"
            ]
          },
          "metadata": {}
        },
        {
          "output_type": "display_data",
          "data": {
            "text/plain": [
              "<IPython.core.display.HTML object>"
            ],
            "text/html": [
              " View run <strong style=\"color:#cdcd00\">faithful-sweep-22</strong> at: <a href='https://wandb.ai/ma23m021-iit-madras/MA23M021_A1_Q8_MSE/runs/7o9etv27' target=\"_blank\">https://wandb.ai/ma23m021-iit-madras/MA23M021_A1_Q8_MSE/runs/7o9etv27</a><br> View project at: <a href='https://wandb.ai/ma23m021-iit-madras/MA23M021_A1_Q8_MSE' target=\"_blank\">https://wandb.ai/ma23m021-iit-madras/MA23M021_A1_Q8_MSE</a><br>Synced 5 W&B file(s), 0 media file(s), 0 artifact file(s) and 0 other file(s)"
            ]
          },
          "metadata": {}
        },
        {
          "output_type": "display_data",
          "data": {
            "text/plain": [
              "<IPython.core.display.HTML object>"
            ],
            "text/html": [
              "Find logs at: <code>./wandb/run-20250309_152757-7o9etv27/logs</code>"
            ]
          },
          "metadata": {}
        },
        {
          "output_type": "stream",
          "name": "stderr",
          "text": [
            "\u001b[34m\u001b[1mwandb\u001b[0m: Sweep Agent: Waiting for job.\n",
            "\u001b[34m\u001b[1mwandb\u001b[0m: Job received.\n",
            "\u001b[34m\u001b[1mwandb\u001b[0m: Agent Starting Run: 05h4oit7 with config:\n",
            "\u001b[34m\u001b[1mwandb\u001b[0m: \tactivation_function: sigmoid\n",
            "\u001b[34m\u001b[1mwandb\u001b[0m: \tbatch_size: 16\n",
            "\u001b[34m\u001b[1mwandb\u001b[0m: \tepochs: 10\n",
            "\u001b[34m\u001b[1mwandb\u001b[0m: \thidden_layer_size: 128\n",
            "\u001b[34m\u001b[1mwandb\u001b[0m: \tlearningg_rate_: 0.001\n",
            "\u001b[34m\u001b[1mwandb\u001b[0m: \tloss_type: mse\n",
            "\u001b[34m\u001b[1mwandb\u001b[0m: \tnum_hidden_layers: 3\n",
            "\u001b[34m\u001b[1mwandb\u001b[0m: \toptimizer: nadam\n",
            "\u001b[34m\u001b[1mwandb\u001b[0m: \tweight_initialization: xavier\n"
          ]
        },
        {
          "output_type": "display_data",
          "data": {
            "text/plain": [
              "<IPython.core.display.HTML object>"
            ],
            "text/html": [
              "Ignoring project 'MA23M021_A1_Q8_MSE' when running a sweep."
            ]
          },
          "metadata": {}
        },
        {
          "output_type": "display_data",
          "data": {
            "text/plain": [
              "<IPython.core.display.HTML object>"
            ],
            "text/html": [
              "Tracking run with wandb version 0.19.7"
            ]
          },
          "metadata": {}
        },
        {
          "output_type": "display_data",
          "data": {
            "text/plain": [
              "<IPython.core.display.HTML object>"
            ],
            "text/html": [
              "Run data is saved locally in <code>/content/wandb/run-20250309_152954-05h4oit7</code>"
            ]
          },
          "metadata": {}
        },
        {
          "output_type": "display_data",
          "data": {
            "text/plain": [
              "<IPython.core.display.HTML object>"
            ],
            "text/html": [
              "Syncing run <strong><a href='https://wandb.ai/ma23m021-iit-madras/MA23M021_A1_Q8_MSE/runs/05h4oit7' target=\"_blank\">solar-sweep-23</a></strong> to <a href='https://wandb.ai/ma23m021-iit-madras/MA23M021_A1_Q8_MSE' target=\"_blank\">Weights & Biases</a> (<a href='https://wandb.me/developer-guide' target=\"_blank\">docs</a>)<br>Sweep page: <a href='https://wandb.ai/ma23m021-iit-madras/MA23M021_A1_Q8_MSE/sweeps/205o72nt' target=\"_blank\">https://wandb.ai/ma23m021-iit-madras/MA23M021_A1_Q8_MSE/sweeps/205o72nt</a>"
            ]
          },
          "metadata": {}
        },
        {
          "output_type": "display_data",
          "data": {
            "text/plain": [
              "<IPython.core.display.HTML object>"
            ],
            "text/html": [
              " View project at <a href='https://wandb.ai/ma23m021-iit-madras/MA23M021_A1_Q8_MSE' target=\"_blank\">https://wandb.ai/ma23m021-iit-madras/MA23M021_A1_Q8_MSE</a>"
            ]
          },
          "metadata": {}
        },
        {
          "output_type": "display_data",
          "data": {
            "text/plain": [
              "<IPython.core.display.HTML object>"
            ],
            "text/html": [
              " View sweep at <a href='https://wandb.ai/ma23m021-iit-madras/MA23M021_A1_Q8_MSE/sweeps/205o72nt' target=\"_blank\">https://wandb.ai/ma23m021-iit-madras/MA23M021_A1_Q8_MSE/sweeps/205o72nt</a>"
            ]
          },
          "metadata": {}
        },
        {
          "output_type": "display_data",
          "data": {
            "text/plain": [
              "<IPython.core.display.HTML object>"
            ],
            "text/html": [
              " View run at <a href='https://wandb.ai/ma23m021-iit-madras/MA23M021_A1_Q8_MSE/runs/05h4oit7' target=\"_blank\">https://wandb.ai/ma23m021-iit-madras/MA23M021_A1_Q8_MSE/runs/05h4oit7</a>"
            ]
          },
          "metadata": {}
        },
        {
          "output_type": "stream",
          "name": "stdout",
          "text": [
            "Epoch 1/10, mse - Train Loss: 0.2921, Val Loss: 0.2074, Val Accuracy: 0.8524\n",
            "Epoch 2/10, mse - Train Loss: 0.1987, Val Loss: 0.1883, Val Accuracy: 0.8676\n",
            "Epoch 3/10, mse - Train Loss: 0.1803, Val Loss: 0.2005, Val Accuracy: 0.8571\n",
            "Epoch 4/10, mse - Train Loss: 0.1688, Val Loss: 0.1755, Val Accuracy: 0.8769\n",
            "Epoch 5/10, mse - Train Loss: 0.1608, Val Loss: 0.1668, Val Accuracy: 0.8827\n",
            "Epoch 6/10, mse - Train Loss: 0.1523, Val Loss: 0.1704, Val Accuracy: 0.8808\n",
            "Epoch 7/10, mse - Train Loss: 0.1460, Val Loss: 0.1682, Val Accuracy: 0.8824\n",
            "Epoch 8/10, mse - Train Loss: 0.1404, Val Loss: 0.1727, Val Accuracy: 0.8810\n",
            "Epoch 9/10, mse - Train Loss: 0.1364, Val Loss: 0.1665, Val Accuracy: 0.8861\n",
            "Epoch 10/10, mse - Train Loss: 0.1306, Val Loss: 0.1754, Val Accuracy: 0.8804\n"
          ]
        },
        {
          "output_type": "display_data",
          "data": {
            "text/plain": [
              "<IPython.core.display.HTML object>"
            ],
            "text/html": []
          },
          "metadata": {}
        },
        {
          "output_type": "display_data",
          "data": {
            "text/plain": [
              "<IPython.core.display.HTML object>"
            ],
            "text/html": [
              "<br>    <style><br>        .wandb-row {<br>            display: flex;<br>            flex-direction: row;<br>            flex-wrap: wrap;<br>            justify-content: flex-start;<br>            width: 100%;<br>        }<br>        .wandb-col {<br>            display: flex;<br>            flex-direction: column;<br>            flex-basis: 100%;<br>            flex: 1;<br>            padding: 10px;<br>        }<br>    </style><br><div class=\"wandb-row\"><div class=\"wandb-col\"><h3>Run history:</h3><br/><table class=\"wandb\"><tr><td>epoch</td><td>▁▂▃▃▄▅▆▆▇█</td></tr><tr><td>train_loss</td><td>█▄▃▃▂▂▂▁▁▁</td></tr><tr><td>val_accuracy</td><td>▁▄▂▆▇▇▇▇█▇</td></tr><tr><td>val_loss</td><td>█▅▇▃▁▂▁▂▁▃</td></tr></table><br/></div><div class=\"wandb-col\"><h3>Run summary:</h3><br/><table class=\"wandb\"><tr><td>epoch</td><td>10</td></tr><tr><td>loss_type</td><td>mse</td></tr><tr><td>train_loss</td><td>0.13063</td></tr><tr><td>val_accuracy</td><td>0.88042</td></tr><tr><td>val_loss</td><td>0.17537</td></tr></table><br/></div></div>"
            ]
          },
          "metadata": {}
        },
        {
          "output_type": "display_data",
          "data": {
            "text/plain": [
              "<IPython.core.display.HTML object>"
            ],
            "text/html": [
              " View run <strong style=\"color:#cdcd00\">solar-sweep-23</strong> at: <a href='https://wandb.ai/ma23m021-iit-madras/MA23M021_A1_Q8_MSE/runs/05h4oit7' target=\"_blank\">https://wandb.ai/ma23m021-iit-madras/MA23M021_A1_Q8_MSE/runs/05h4oit7</a><br> View project at: <a href='https://wandb.ai/ma23m021-iit-madras/MA23M021_A1_Q8_MSE' target=\"_blank\">https://wandb.ai/ma23m021-iit-madras/MA23M021_A1_Q8_MSE</a><br>Synced 5 W&B file(s), 0 media file(s), 0 artifact file(s) and 0 other file(s)"
            ]
          },
          "metadata": {}
        },
        {
          "output_type": "display_data",
          "data": {
            "text/plain": [
              "<IPython.core.display.HTML object>"
            ],
            "text/html": [
              "Find logs at: <code>./wandb/run-20250309_152954-05h4oit7/logs</code>"
            ]
          },
          "metadata": {}
        },
        {
          "output_type": "stream",
          "name": "stderr",
          "text": [
            "\u001b[34m\u001b[1mwandb\u001b[0m: Agent Starting Run: o4x5xwn4 with config:\n",
            "\u001b[34m\u001b[1mwandb\u001b[0m: \tactivation_function: sigmoid\n",
            "\u001b[34m\u001b[1mwandb\u001b[0m: \tbatch_size: 16\n",
            "\u001b[34m\u001b[1mwandb\u001b[0m: \tepochs: 10\n",
            "\u001b[34m\u001b[1mwandb\u001b[0m: \thidden_layer_size: 64\n",
            "\u001b[34m\u001b[1mwandb\u001b[0m: \tlearningg_rate_: 0.001\n",
            "\u001b[34m\u001b[1mwandb\u001b[0m: \tloss_type: mse\n",
            "\u001b[34m\u001b[1mwandb\u001b[0m: \tnum_hidden_layers: 3\n",
            "\u001b[34m\u001b[1mwandb\u001b[0m: \toptimizer: nadam\n",
            "\u001b[34m\u001b[1mwandb\u001b[0m: \tweight_initialization: xavier\n"
          ]
        },
        {
          "output_type": "display_data",
          "data": {
            "text/plain": [
              "<IPython.core.display.HTML object>"
            ],
            "text/html": [
              "Ignoring project 'MA23M021_A1_Q8_MSE' when running a sweep."
            ]
          },
          "metadata": {}
        },
        {
          "output_type": "display_data",
          "data": {
            "text/plain": [
              "<IPython.core.display.HTML object>"
            ],
            "text/html": [
              "Tracking run with wandb version 0.19.7"
            ]
          },
          "metadata": {}
        },
        {
          "output_type": "display_data",
          "data": {
            "text/plain": [
              "<IPython.core.display.HTML object>"
            ],
            "text/html": [
              "Run data is saved locally in <code>/content/wandb/run-20250309_153317-o4x5xwn4</code>"
            ]
          },
          "metadata": {}
        },
        {
          "output_type": "display_data",
          "data": {
            "text/plain": [
              "<IPython.core.display.HTML object>"
            ],
            "text/html": [
              "Syncing run <strong><a href='https://wandb.ai/ma23m021-iit-madras/MA23M021_A1_Q8_MSE/runs/o4x5xwn4' target=\"_blank\">fearless-sweep-24</a></strong> to <a href='https://wandb.ai/ma23m021-iit-madras/MA23M021_A1_Q8_MSE' target=\"_blank\">Weights & Biases</a> (<a href='https://wandb.me/developer-guide' target=\"_blank\">docs</a>)<br>Sweep page: <a href='https://wandb.ai/ma23m021-iit-madras/MA23M021_A1_Q8_MSE/sweeps/205o72nt' target=\"_blank\">https://wandb.ai/ma23m021-iit-madras/MA23M021_A1_Q8_MSE/sweeps/205o72nt</a>"
            ]
          },
          "metadata": {}
        },
        {
          "output_type": "display_data",
          "data": {
            "text/plain": [
              "<IPython.core.display.HTML object>"
            ],
            "text/html": [
              " View project at <a href='https://wandb.ai/ma23m021-iit-madras/MA23M021_A1_Q8_MSE' target=\"_blank\">https://wandb.ai/ma23m021-iit-madras/MA23M021_A1_Q8_MSE</a>"
            ]
          },
          "metadata": {}
        },
        {
          "output_type": "display_data",
          "data": {
            "text/plain": [
              "<IPython.core.display.HTML object>"
            ],
            "text/html": [
              " View sweep at <a href='https://wandb.ai/ma23m021-iit-madras/MA23M021_A1_Q8_MSE/sweeps/205o72nt' target=\"_blank\">https://wandb.ai/ma23m021-iit-madras/MA23M021_A1_Q8_MSE/sweeps/205o72nt</a>"
            ]
          },
          "metadata": {}
        },
        {
          "output_type": "display_data",
          "data": {
            "text/plain": [
              "<IPython.core.display.HTML object>"
            ],
            "text/html": [
              " View run at <a href='https://wandb.ai/ma23m021-iit-madras/MA23M021_A1_Q8_MSE/runs/o4x5xwn4' target=\"_blank\">https://wandb.ai/ma23m021-iit-madras/MA23M021_A1_Q8_MSE/runs/o4x5xwn4</a>"
            ]
          },
          "metadata": {}
        },
        {
          "output_type": "stream",
          "name": "stdout",
          "text": [
            "Epoch 1/10, mse - Train Loss: 0.3399, Val Loss: 0.2193, Val Accuracy: 0.8461\n",
            "Epoch 2/10, mse - Train Loss: 0.2050, Val Loss: 0.2060, Val Accuracy: 0.8562\n",
            "Epoch 3/10, mse - Train Loss: 0.1827, Val Loss: 0.1957, Val Accuracy: 0.8620\n",
            "Epoch 4/10, mse - Train Loss: 0.1728, Val Loss: 0.1889, Val Accuracy: 0.8664\n",
            "Epoch 5/10, mse - Train Loss: 0.1638, Val Loss: 0.1822, Val Accuracy: 0.8716\n",
            "Epoch 6/10, mse - Train Loss: 0.1573, Val Loss: 0.1758, Val Accuracy: 0.8765\n",
            "Epoch 7/10, mse - Train Loss: 0.1517, Val Loss: 0.1733, Val Accuracy: 0.8788\n",
            "Epoch 8/10, mse - Train Loss: 0.1459, Val Loss: 0.1938, Val Accuracy: 0.8634\n",
            "Epoch 9/10, mse - Train Loss: 0.1422, Val Loss: 0.1734, Val Accuracy: 0.8804\n",
            "Epoch 10/10, mse - Train Loss: 0.1391, Val Loss: 0.1627, Val Accuracy: 0.8859\n"
          ]
        },
        {
          "output_type": "display_data",
          "data": {
            "text/plain": [
              "<IPython.core.display.HTML object>"
            ],
            "text/html": []
          },
          "metadata": {}
        },
        {
          "output_type": "display_data",
          "data": {
            "text/plain": [
              "<IPython.core.display.HTML object>"
            ],
            "text/html": [
              "<br>    <style><br>        .wandb-row {<br>            display: flex;<br>            flex-direction: row;<br>            flex-wrap: wrap;<br>            justify-content: flex-start;<br>            width: 100%;<br>        }<br>        .wandb-col {<br>            display: flex;<br>            flex-direction: column;<br>            flex-basis: 100%;<br>            flex: 1;<br>            padding: 10px;<br>        }<br>    </style><br><div class=\"wandb-row\"><div class=\"wandb-col\"><h3>Run history:</h3><br/><table class=\"wandb\"><tr><td>epoch</td><td>▁▂▃▃▄▅▆▆▇█</td></tr><tr><td>train_loss</td><td>█▃▃▂▂▂▁▁▁▁</td></tr><tr><td>val_accuracy</td><td>▁▃▄▅▅▆▇▄▇█</td></tr><tr><td>val_loss</td><td>█▆▅▄▃▃▂▅▂▁</td></tr></table><br/></div><div class=\"wandb-col\"><h3>Run summary:</h3><br/><table class=\"wandb\"><tr><td>epoch</td><td>10</td></tr><tr><td>loss_type</td><td>mse</td></tr><tr><td>train_loss</td><td>0.13911</td></tr><tr><td>val_accuracy</td><td>0.88592</td></tr><tr><td>val_loss</td><td>0.16267</td></tr></table><br/></div></div>"
            ]
          },
          "metadata": {}
        },
        {
          "output_type": "display_data",
          "data": {
            "text/plain": [
              "<IPython.core.display.HTML object>"
            ],
            "text/html": [
              " View run <strong style=\"color:#cdcd00\">fearless-sweep-24</strong> at: <a href='https://wandb.ai/ma23m021-iit-madras/MA23M021_A1_Q8_MSE/runs/o4x5xwn4' target=\"_blank\">https://wandb.ai/ma23m021-iit-madras/MA23M021_A1_Q8_MSE/runs/o4x5xwn4</a><br> View project at: <a href='https://wandb.ai/ma23m021-iit-madras/MA23M021_A1_Q8_MSE' target=\"_blank\">https://wandb.ai/ma23m021-iit-madras/MA23M021_A1_Q8_MSE</a><br>Synced 5 W&B file(s), 0 media file(s), 0 artifact file(s) and 0 other file(s)"
            ]
          },
          "metadata": {}
        },
        {
          "output_type": "display_data",
          "data": {
            "text/plain": [
              "<IPython.core.display.HTML object>"
            ],
            "text/html": [
              "Find logs at: <code>./wandb/run-20250309_153317-o4x5xwn4/logs</code>"
            ]
          },
          "metadata": {}
        },
        {
          "output_type": "stream",
          "name": "stderr",
          "text": [
            "\u001b[34m\u001b[1mwandb\u001b[0m: Agent Starting Run: racj0jto with config:\n",
            "\u001b[34m\u001b[1mwandb\u001b[0m: \tactivation_function: tanh\n",
            "\u001b[34m\u001b[1mwandb\u001b[0m: \tbatch_size: 16\n",
            "\u001b[34m\u001b[1mwandb\u001b[0m: \tepochs: 5\n",
            "\u001b[34m\u001b[1mwandb\u001b[0m: \thidden_layer_size: 128\n",
            "\u001b[34m\u001b[1mwandb\u001b[0m: \tlearningg_rate_: 0.001\n",
            "\u001b[34m\u001b[1mwandb\u001b[0m: \tloss_type: mse\n",
            "\u001b[34m\u001b[1mwandb\u001b[0m: \tnum_hidden_layers: 3\n",
            "\u001b[34m\u001b[1mwandb\u001b[0m: \toptimizer: nadam\n",
            "\u001b[34m\u001b[1mwandb\u001b[0m: \tweight_initialization: xavier\n"
          ]
        },
        {
          "output_type": "display_data",
          "data": {
            "text/plain": [
              "<IPython.core.display.HTML object>"
            ],
            "text/html": [
              "Ignoring project 'MA23M021_A1_Q8_MSE' when running a sweep."
            ]
          },
          "metadata": {}
        },
        {
          "output_type": "display_data",
          "data": {
            "text/plain": [
              "<IPython.core.display.HTML object>"
            ],
            "text/html": [
              "Tracking run with wandb version 0.19.7"
            ]
          },
          "metadata": {}
        },
        {
          "output_type": "display_data",
          "data": {
            "text/plain": [
              "<IPython.core.display.HTML object>"
            ],
            "text/html": [
              "Run data is saved locally in <code>/content/wandb/run-20250309_153459-racj0jto</code>"
            ]
          },
          "metadata": {}
        },
        {
          "output_type": "display_data",
          "data": {
            "text/plain": [
              "<IPython.core.display.HTML object>"
            ],
            "text/html": [
              "Syncing run <strong><a href='https://wandb.ai/ma23m021-iit-madras/MA23M021_A1_Q8_MSE/runs/racj0jto' target=\"_blank\">royal-sweep-25</a></strong> to <a href='https://wandb.ai/ma23m021-iit-madras/MA23M021_A1_Q8_MSE' target=\"_blank\">Weights & Biases</a> (<a href='https://wandb.me/developer-guide' target=\"_blank\">docs</a>)<br>Sweep page: <a href='https://wandb.ai/ma23m021-iit-madras/MA23M021_A1_Q8_MSE/sweeps/205o72nt' target=\"_blank\">https://wandb.ai/ma23m021-iit-madras/MA23M021_A1_Q8_MSE/sweeps/205o72nt</a>"
            ]
          },
          "metadata": {}
        },
        {
          "output_type": "display_data",
          "data": {
            "text/plain": [
              "<IPython.core.display.HTML object>"
            ],
            "text/html": [
              " View project at <a href='https://wandb.ai/ma23m021-iit-madras/MA23M021_A1_Q8_MSE' target=\"_blank\">https://wandb.ai/ma23m021-iit-madras/MA23M021_A1_Q8_MSE</a>"
            ]
          },
          "metadata": {}
        },
        {
          "output_type": "display_data",
          "data": {
            "text/plain": [
              "<IPython.core.display.HTML object>"
            ],
            "text/html": [
              " View sweep at <a href='https://wandb.ai/ma23m021-iit-madras/MA23M021_A1_Q8_MSE/sweeps/205o72nt' target=\"_blank\">https://wandb.ai/ma23m021-iit-madras/MA23M021_A1_Q8_MSE/sweeps/205o72nt</a>"
            ]
          },
          "metadata": {}
        },
        {
          "output_type": "display_data",
          "data": {
            "text/plain": [
              "<IPython.core.display.HTML object>"
            ],
            "text/html": [
              " View run at <a href='https://wandb.ai/ma23m021-iit-madras/MA23M021_A1_Q8_MSE/runs/racj0jto' target=\"_blank\">https://wandb.ai/ma23m021-iit-madras/MA23M021_A1_Q8_MSE/runs/racj0jto</a>"
            ]
          },
          "metadata": {}
        },
        {
          "output_type": "stream",
          "name": "stdout",
          "text": [
            "Epoch 1/5, mse - Train Loss: 0.2998, Val Loss: 0.2367, Val Accuracy: 0.8322\n",
            "Epoch 2/5, mse - Train Loss: 0.2031, Val Loss: 0.1952, Val Accuracy: 0.8622\n",
            "Epoch 3/5, mse - Train Loss: 0.1865, Val Loss: 0.1918, Val Accuracy: 0.8672\n",
            "Epoch 4/5, mse - Train Loss: 0.1765, Val Loss: 0.1775, Val Accuracy: 0.8754\n",
            "Epoch 5/5, mse - Train Loss: 0.1687, Val Loss: 0.1764, Val Accuracy: 0.8767\n"
          ]
        },
        {
          "output_type": "display_data",
          "data": {
            "text/plain": [
              "<IPython.core.display.HTML object>"
            ],
            "text/html": []
          },
          "metadata": {}
        },
        {
          "output_type": "display_data",
          "data": {
            "text/plain": [
              "<IPython.core.display.HTML object>"
            ],
            "text/html": [
              "<br>    <style><br>        .wandb-row {<br>            display: flex;<br>            flex-direction: row;<br>            flex-wrap: wrap;<br>            justify-content: flex-start;<br>            width: 100%;<br>        }<br>        .wandb-col {<br>            display: flex;<br>            flex-direction: column;<br>            flex-basis: 100%;<br>            flex: 1;<br>            padding: 10px;<br>        }<br>    </style><br><div class=\"wandb-row\"><div class=\"wandb-col\"><h3>Run history:</h3><br/><table class=\"wandb\"><tr><td>epoch</td><td>▁▃▅▆█</td></tr><tr><td>train_loss</td><td>█▃▂▁▁</td></tr><tr><td>val_accuracy</td><td>▁▆▇██</td></tr><tr><td>val_loss</td><td>█▃▃▁▁</td></tr></table><br/></div><div class=\"wandb-col\"><h3>Run summary:</h3><br/><table class=\"wandb\"><tr><td>epoch</td><td>5</td></tr><tr><td>loss_type</td><td>mse</td></tr><tr><td>train_loss</td><td>0.16866</td></tr><tr><td>val_accuracy</td><td>0.87667</td></tr><tr><td>val_loss</td><td>0.17645</td></tr></table><br/></div></div>"
            ]
          },
          "metadata": {}
        },
        {
          "output_type": "display_data",
          "data": {
            "text/plain": [
              "<IPython.core.display.HTML object>"
            ],
            "text/html": [
              " View run <strong style=\"color:#cdcd00\">royal-sweep-25</strong> at: <a href='https://wandb.ai/ma23m021-iit-madras/MA23M021_A1_Q8_MSE/runs/racj0jto' target=\"_blank\">https://wandb.ai/ma23m021-iit-madras/MA23M021_A1_Q8_MSE/runs/racj0jto</a><br> View project at: <a href='https://wandb.ai/ma23m021-iit-madras/MA23M021_A1_Q8_MSE' target=\"_blank\">https://wandb.ai/ma23m021-iit-madras/MA23M021_A1_Q8_MSE</a><br>Synced 5 W&B file(s), 0 media file(s), 0 artifact file(s) and 0 other file(s)"
            ]
          },
          "metadata": {}
        },
        {
          "output_type": "display_data",
          "data": {
            "text/plain": [
              "<IPython.core.display.HTML object>"
            ],
            "text/html": [
              "Find logs at: <code>./wandb/run-20250309_153459-racj0jto/logs</code>"
            ]
          },
          "metadata": {}
        },
        {
          "output_type": "stream",
          "name": "stderr",
          "text": [
            "\u001b[34m\u001b[1mwandb\u001b[0m: Agent Starting Run: mgf8cb3b with config:\n",
            "\u001b[34m\u001b[1mwandb\u001b[0m: \tactivation_function: tanh\n",
            "\u001b[34m\u001b[1mwandb\u001b[0m: \tbatch_size: 16\n",
            "\u001b[34m\u001b[1mwandb\u001b[0m: \tepochs: 10\n",
            "\u001b[34m\u001b[1mwandb\u001b[0m: \thidden_layer_size: 128\n",
            "\u001b[34m\u001b[1mwandb\u001b[0m: \tlearningg_rate_: 0.001\n",
            "\u001b[34m\u001b[1mwandb\u001b[0m: \tloss_type: mse\n",
            "\u001b[34m\u001b[1mwandb\u001b[0m: \tnum_hidden_layers: 3\n",
            "\u001b[34m\u001b[1mwandb\u001b[0m: \toptimizer: nadam\n",
            "\u001b[34m\u001b[1mwandb\u001b[0m: \tweight_initialization: xavier\n"
          ]
        },
        {
          "output_type": "display_data",
          "data": {
            "text/plain": [
              "<IPython.core.display.HTML object>"
            ],
            "text/html": [
              "Ignoring project 'MA23M021_A1_Q8_MSE' when running a sweep."
            ]
          },
          "metadata": {}
        },
        {
          "output_type": "display_data",
          "data": {
            "text/plain": [
              "<IPython.core.display.HTML object>"
            ],
            "text/html": [
              "Tracking run with wandb version 0.19.7"
            ]
          },
          "metadata": {}
        },
        {
          "output_type": "display_data",
          "data": {
            "text/plain": [
              "<IPython.core.display.HTML object>"
            ],
            "text/html": [
              "Run data is saved locally in <code>/content/wandb/run-20250309_153651-mgf8cb3b</code>"
            ]
          },
          "metadata": {}
        },
        {
          "output_type": "display_data",
          "data": {
            "text/plain": [
              "<IPython.core.display.HTML object>"
            ],
            "text/html": [
              "Syncing run <strong><a href='https://wandb.ai/ma23m021-iit-madras/MA23M021_A1_Q8_MSE/runs/mgf8cb3b' target=\"_blank\">flowing-sweep-26</a></strong> to <a href='https://wandb.ai/ma23m021-iit-madras/MA23M021_A1_Q8_MSE' target=\"_blank\">Weights & Biases</a> (<a href='https://wandb.me/developer-guide' target=\"_blank\">docs</a>)<br>Sweep page: <a href='https://wandb.ai/ma23m021-iit-madras/MA23M021_A1_Q8_MSE/sweeps/205o72nt' target=\"_blank\">https://wandb.ai/ma23m021-iit-madras/MA23M021_A1_Q8_MSE/sweeps/205o72nt</a>"
            ]
          },
          "metadata": {}
        },
        {
          "output_type": "display_data",
          "data": {
            "text/plain": [
              "<IPython.core.display.HTML object>"
            ],
            "text/html": [
              " View project at <a href='https://wandb.ai/ma23m021-iit-madras/MA23M021_A1_Q8_MSE' target=\"_blank\">https://wandb.ai/ma23m021-iit-madras/MA23M021_A1_Q8_MSE</a>"
            ]
          },
          "metadata": {}
        },
        {
          "output_type": "display_data",
          "data": {
            "text/plain": [
              "<IPython.core.display.HTML object>"
            ],
            "text/html": [
              " View sweep at <a href='https://wandb.ai/ma23m021-iit-madras/MA23M021_A1_Q8_MSE/sweeps/205o72nt' target=\"_blank\">https://wandb.ai/ma23m021-iit-madras/MA23M021_A1_Q8_MSE/sweeps/205o72nt</a>"
            ]
          },
          "metadata": {}
        },
        {
          "output_type": "display_data",
          "data": {
            "text/plain": [
              "<IPython.core.display.HTML object>"
            ],
            "text/html": [
              " View run at <a href='https://wandb.ai/ma23m021-iit-madras/MA23M021_A1_Q8_MSE/runs/mgf8cb3b' target=\"_blank\">https://wandb.ai/ma23m021-iit-madras/MA23M021_A1_Q8_MSE/runs/mgf8cb3b</a>"
            ]
          },
          "metadata": {}
        },
        {
          "output_type": "stream",
          "name": "stdout",
          "text": [
            "Epoch 1/10, mse - Train Loss: 0.2992, Val Loss: 0.2272, Val Accuracy: 0.8406\n",
            "Epoch 2/10, mse - Train Loss: 0.2051, Val Loss: 0.1983, Val Accuracy: 0.8619\n",
            "Epoch 3/10, mse - Train Loss: 0.1866, Val Loss: 0.1974, Val Accuracy: 0.8618\n",
            "Epoch 4/10, mse - Train Loss: 0.1758, Val Loss: 0.1827, Val Accuracy: 0.8729\n",
            "Epoch 5/10, mse - Train Loss: 0.1681, Val Loss: 0.1808, Val Accuracy: 0.8716\n",
            "Epoch 6/10, mse - Train Loss: 0.1611, Val Loss: 0.1716, Val Accuracy: 0.8808\n",
            "Epoch 7/10, mse - Train Loss: 0.1560, Val Loss: 0.1763, Val Accuracy: 0.8771\n",
            "Epoch 8/10, mse - Train Loss: 0.1541, Val Loss: 0.1760, Val Accuracy: 0.8738\n",
            "Epoch 9/10, mse - Train Loss: 0.1503, Val Loss: 0.1624, Val Accuracy: 0.8875\n",
            "Epoch 10/10, mse - Train Loss: 0.1453, Val Loss: 0.1760, Val Accuracy: 0.8792\n"
          ]
        },
        {
          "output_type": "display_data",
          "data": {
            "text/plain": [
              "<IPython.core.display.HTML object>"
            ],
            "text/html": []
          },
          "metadata": {}
        },
        {
          "output_type": "display_data",
          "data": {
            "text/plain": [
              "<IPython.core.display.HTML object>"
            ],
            "text/html": [
              "<br>    <style><br>        .wandb-row {<br>            display: flex;<br>            flex-direction: row;<br>            flex-wrap: wrap;<br>            justify-content: flex-start;<br>            width: 100%;<br>        }<br>        .wandb-col {<br>            display: flex;<br>            flex-direction: column;<br>            flex-basis: 100%;<br>            flex: 1;<br>            padding: 10px;<br>        }<br>    </style><br><div class=\"wandb-row\"><div class=\"wandb-col\"><h3>Run history:</h3><br/><table class=\"wandb\"><tr><td>epoch</td><td>▁▂▃▃▄▅▆▆▇█</td></tr><tr><td>train_loss</td><td>█▄▃▂▂▂▁▁▁▁</td></tr><tr><td>val_accuracy</td><td>▁▄▄▆▆▇▆▆█▇</td></tr><tr><td>val_loss</td><td>█▅▅▃▃▂▂▂▁▂</td></tr></table><br/></div><div class=\"wandb-col\"><h3>Run summary:</h3><br/><table class=\"wandb\"><tr><td>epoch</td><td>10</td></tr><tr><td>loss_type</td><td>mse</td></tr><tr><td>train_loss</td><td>0.14532</td></tr><tr><td>val_accuracy</td><td>0.87917</td></tr><tr><td>val_loss</td><td>0.17599</td></tr></table><br/></div></div>"
            ]
          },
          "metadata": {}
        },
        {
          "output_type": "display_data",
          "data": {
            "text/plain": [
              "<IPython.core.display.HTML object>"
            ],
            "text/html": [
              " View run <strong style=\"color:#cdcd00\">flowing-sweep-26</strong> at: <a href='https://wandb.ai/ma23m021-iit-madras/MA23M021_A1_Q8_MSE/runs/mgf8cb3b' target=\"_blank\">https://wandb.ai/ma23m021-iit-madras/MA23M021_A1_Q8_MSE/runs/mgf8cb3b</a><br> View project at: <a href='https://wandb.ai/ma23m021-iit-madras/MA23M021_A1_Q8_MSE' target=\"_blank\">https://wandb.ai/ma23m021-iit-madras/MA23M021_A1_Q8_MSE</a><br>Synced 5 W&B file(s), 0 media file(s), 0 artifact file(s) and 0 other file(s)"
            ]
          },
          "metadata": {}
        },
        {
          "output_type": "display_data",
          "data": {
            "text/plain": [
              "<IPython.core.display.HTML object>"
            ],
            "text/html": [
              "Find logs at: <code>./wandb/run-20250309_153651-mgf8cb3b/logs</code>"
            ]
          },
          "metadata": {}
        },
        {
          "output_type": "stream",
          "name": "stderr",
          "text": [
            "\u001b[34m\u001b[1mwandb\u001b[0m: Agent Starting Run: uj4qj2e5 with config:\n",
            "\u001b[34m\u001b[1mwandb\u001b[0m: \tactivation_function: relu\n",
            "\u001b[34m\u001b[1mwandb\u001b[0m: \tbatch_size: 16\n",
            "\u001b[34m\u001b[1mwandb\u001b[0m: \tepochs: 5\n",
            "\u001b[34m\u001b[1mwandb\u001b[0m: \thidden_layer_size: 128\n",
            "\u001b[34m\u001b[1mwandb\u001b[0m: \tlearningg_rate_: 0.001\n",
            "\u001b[34m\u001b[1mwandb\u001b[0m: \tloss_type: mse\n",
            "\u001b[34m\u001b[1mwandb\u001b[0m: \tnum_hidden_layers: 3\n",
            "\u001b[34m\u001b[1mwandb\u001b[0m: \toptimizer: nadam\n",
            "\u001b[34m\u001b[1mwandb\u001b[0m: \tweight_initialization: xavier\n"
          ]
        },
        {
          "output_type": "display_data",
          "data": {
            "text/plain": [
              "<IPython.core.display.HTML object>"
            ],
            "text/html": [
              "Ignoring project 'MA23M021_A1_Q8_MSE' when running a sweep."
            ]
          },
          "metadata": {}
        },
        {
          "output_type": "display_data",
          "data": {
            "text/plain": [
              "<IPython.core.display.HTML object>"
            ],
            "text/html": [
              "Tracking run with wandb version 0.19.7"
            ]
          },
          "metadata": {}
        },
        {
          "output_type": "display_data",
          "data": {
            "text/plain": [
              "<IPython.core.display.HTML object>"
            ],
            "text/html": [
              "Run data is saved locally in <code>/content/wandb/run-20250309_154024-uj4qj2e5</code>"
            ]
          },
          "metadata": {}
        },
        {
          "output_type": "display_data",
          "data": {
            "text/plain": [
              "<IPython.core.display.HTML object>"
            ],
            "text/html": [
              "Syncing run <strong><a href='https://wandb.ai/ma23m021-iit-madras/MA23M021_A1_Q8_MSE/runs/uj4qj2e5' target=\"_blank\">electric-sweep-27</a></strong> to <a href='https://wandb.ai/ma23m021-iit-madras/MA23M021_A1_Q8_MSE' target=\"_blank\">Weights & Biases</a> (<a href='https://wandb.me/developer-guide' target=\"_blank\">docs</a>)<br>Sweep page: <a href='https://wandb.ai/ma23m021-iit-madras/MA23M021_A1_Q8_MSE/sweeps/205o72nt' target=\"_blank\">https://wandb.ai/ma23m021-iit-madras/MA23M021_A1_Q8_MSE/sweeps/205o72nt</a>"
            ]
          },
          "metadata": {}
        },
        {
          "output_type": "display_data",
          "data": {
            "text/plain": [
              "<IPython.core.display.HTML object>"
            ],
            "text/html": [
              " View project at <a href='https://wandb.ai/ma23m021-iit-madras/MA23M021_A1_Q8_MSE' target=\"_blank\">https://wandb.ai/ma23m021-iit-madras/MA23M021_A1_Q8_MSE</a>"
            ]
          },
          "metadata": {}
        },
        {
          "output_type": "display_data",
          "data": {
            "text/plain": [
              "<IPython.core.display.HTML object>"
            ],
            "text/html": [
              " View sweep at <a href='https://wandb.ai/ma23m021-iit-madras/MA23M021_A1_Q8_MSE/sweeps/205o72nt' target=\"_blank\">https://wandb.ai/ma23m021-iit-madras/MA23M021_A1_Q8_MSE/sweeps/205o72nt</a>"
            ]
          },
          "metadata": {}
        },
        {
          "output_type": "display_data",
          "data": {
            "text/plain": [
              "<IPython.core.display.HTML object>"
            ],
            "text/html": [
              " View run at <a href='https://wandb.ai/ma23m021-iit-madras/MA23M021_A1_Q8_MSE/runs/uj4qj2e5' target=\"_blank\">https://wandb.ai/ma23m021-iit-madras/MA23M021_A1_Q8_MSE/runs/uj4qj2e5</a>"
            ]
          },
          "metadata": {}
        },
        {
          "output_type": "stream",
          "name": "stdout",
          "text": [
            "Epoch 1/5, mse - Train Loss: 0.7791, Val Loss: 0.7664, Val Accuracy: 0.3126\n",
            "Epoch 2/5, mse - Train Loss: 0.7461, Val Loss: 0.7164, Val Accuracy: 0.3795\n",
            "Epoch 3/5, mse - Train Loss: 0.7051, Val Loss: 0.6982, Val Accuracy: 0.4280\n",
            "Epoch 4/5, mse - Train Loss: 0.6958, Val Loss: 0.6812, Val Accuracy: 0.4487\n"
          ]
        },
        {
          "output_type": "stream",
          "name": "stderr",
          "text": [
            "<ipython-input-3-84973e778c88>:54: RuntimeWarning: overflow encountered in exp\n",
            "  return 1 / (1 + np.exp(-x))\n"
          ]
        },
        {
          "output_type": "stream",
          "name": "stdout",
          "text": [
            "Epoch 5/5, mse - Train Loss: 0.6789, Val Loss: 0.6857, Val Accuracy: 0.4136\n"
          ]
        },
        {
          "output_type": "display_data",
          "data": {
            "text/plain": [
              "<IPython.core.display.HTML object>"
            ],
            "text/html": []
          },
          "metadata": {}
        },
        {
          "output_type": "display_data",
          "data": {
            "text/plain": [
              "<IPython.core.display.HTML object>"
            ],
            "text/html": [
              "<br>    <style><br>        .wandb-row {<br>            display: flex;<br>            flex-direction: row;<br>            flex-wrap: wrap;<br>            justify-content: flex-start;<br>            width: 100%;<br>        }<br>        .wandb-col {<br>            display: flex;<br>            flex-direction: column;<br>            flex-basis: 100%;<br>            flex: 1;<br>            padding: 10px;<br>        }<br>    </style><br><div class=\"wandb-row\"><div class=\"wandb-col\"><h3>Run history:</h3><br/><table class=\"wandb\"><tr><td>epoch</td><td>▁▃▅▆█</td></tr><tr><td>train_loss</td><td>█▆▃▂▁</td></tr><tr><td>val_accuracy</td><td>▁▄▇█▆</td></tr><tr><td>val_loss</td><td>█▄▂▁▁</td></tr></table><br/></div><div class=\"wandb-col\"><h3>Run summary:</h3><br/><table class=\"wandb\"><tr><td>epoch</td><td>5</td></tr><tr><td>loss_type</td><td>mse</td></tr><tr><td>train_loss</td><td>0.67886</td></tr><tr><td>val_accuracy</td><td>0.41358</td></tr><tr><td>val_loss</td><td>0.68565</td></tr></table><br/></div></div>"
            ]
          },
          "metadata": {}
        },
        {
          "output_type": "display_data",
          "data": {
            "text/plain": [
              "<IPython.core.display.HTML object>"
            ],
            "text/html": [
              " View run <strong style=\"color:#cdcd00\">electric-sweep-27</strong> at: <a href='https://wandb.ai/ma23m021-iit-madras/MA23M021_A1_Q8_MSE/runs/uj4qj2e5' target=\"_blank\">https://wandb.ai/ma23m021-iit-madras/MA23M021_A1_Q8_MSE/runs/uj4qj2e5</a><br> View project at: <a href='https://wandb.ai/ma23m021-iit-madras/MA23M021_A1_Q8_MSE' target=\"_blank\">https://wandb.ai/ma23m021-iit-madras/MA23M021_A1_Q8_MSE</a><br>Synced 5 W&B file(s), 0 media file(s), 0 artifact file(s) and 0 other file(s)"
            ]
          },
          "metadata": {}
        },
        {
          "output_type": "display_data",
          "data": {
            "text/plain": [
              "<IPython.core.display.HTML object>"
            ],
            "text/html": [
              "Find logs at: <code>./wandb/run-20250309_154024-uj4qj2e5/logs</code>"
            ]
          },
          "metadata": {}
        },
        {
          "output_type": "stream",
          "name": "stderr",
          "text": [
            "\u001b[34m\u001b[1mwandb\u001b[0m: Agent Starting Run: q88mm08h with config:\n",
            "\u001b[34m\u001b[1mwandb\u001b[0m: \tactivation_function: tanh\n",
            "\u001b[34m\u001b[1mwandb\u001b[0m: \tbatch_size: 32\n",
            "\u001b[34m\u001b[1mwandb\u001b[0m: \tepochs: 10\n",
            "\u001b[34m\u001b[1mwandb\u001b[0m: \thidden_layer_size: 128\n",
            "\u001b[34m\u001b[1mwandb\u001b[0m: \tlearningg_rate_: 0.001\n",
            "\u001b[34m\u001b[1mwandb\u001b[0m: \tloss_type: mse\n",
            "\u001b[34m\u001b[1mwandb\u001b[0m: \tnum_hidden_layers: 4\n",
            "\u001b[34m\u001b[1mwandb\u001b[0m: \toptimizer: nadam\n",
            "\u001b[34m\u001b[1mwandb\u001b[0m: \tweight_initialization: xavier\n"
          ]
        },
        {
          "output_type": "display_data",
          "data": {
            "text/plain": [
              "<IPython.core.display.HTML object>"
            ],
            "text/html": [
              "Ignoring project 'MA23M021_A1_Q8_MSE' when running a sweep."
            ]
          },
          "metadata": {}
        },
        {
          "output_type": "display_data",
          "data": {
            "text/plain": [
              "<IPython.core.display.HTML object>"
            ],
            "text/html": [
              "Tracking run with wandb version 0.19.7"
            ]
          },
          "metadata": {}
        },
        {
          "output_type": "display_data",
          "data": {
            "text/plain": [
              "<IPython.core.display.HTML object>"
            ],
            "text/html": [
              "Run data is saved locally in <code>/content/wandb/run-20250309_154221-q88mm08h</code>"
            ]
          },
          "metadata": {}
        },
        {
          "output_type": "display_data",
          "data": {
            "text/plain": [
              "<IPython.core.display.HTML object>"
            ],
            "text/html": [
              "Syncing run <strong><a href='https://wandb.ai/ma23m021-iit-madras/MA23M021_A1_Q8_MSE/runs/q88mm08h' target=\"_blank\">blooming-sweep-28</a></strong> to <a href='https://wandb.ai/ma23m021-iit-madras/MA23M021_A1_Q8_MSE' target=\"_blank\">Weights & Biases</a> (<a href='https://wandb.me/developer-guide' target=\"_blank\">docs</a>)<br>Sweep page: <a href='https://wandb.ai/ma23m021-iit-madras/MA23M021_A1_Q8_MSE/sweeps/205o72nt' target=\"_blank\">https://wandb.ai/ma23m021-iit-madras/MA23M021_A1_Q8_MSE/sweeps/205o72nt</a>"
            ]
          },
          "metadata": {}
        },
        {
          "output_type": "display_data",
          "data": {
            "text/plain": [
              "<IPython.core.display.HTML object>"
            ],
            "text/html": [
              " View project at <a href='https://wandb.ai/ma23m021-iit-madras/MA23M021_A1_Q8_MSE' target=\"_blank\">https://wandb.ai/ma23m021-iit-madras/MA23M021_A1_Q8_MSE</a>"
            ]
          },
          "metadata": {}
        },
        {
          "output_type": "display_data",
          "data": {
            "text/plain": [
              "<IPython.core.display.HTML object>"
            ],
            "text/html": [
              " View sweep at <a href='https://wandb.ai/ma23m021-iit-madras/MA23M021_A1_Q8_MSE/sweeps/205o72nt' target=\"_blank\">https://wandb.ai/ma23m021-iit-madras/MA23M021_A1_Q8_MSE/sweeps/205o72nt</a>"
            ]
          },
          "metadata": {}
        },
        {
          "output_type": "display_data",
          "data": {
            "text/plain": [
              "<IPython.core.display.HTML object>"
            ],
            "text/html": [
              " View run at <a href='https://wandb.ai/ma23m021-iit-madras/MA23M021_A1_Q8_MSE/runs/q88mm08h' target=\"_blank\">https://wandb.ai/ma23m021-iit-madras/MA23M021_A1_Q8_MSE/runs/q88mm08h</a>"
            ]
          },
          "metadata": {}
        },
        {
          "output_type": "stream",
          "name": "stdout",
          "text": [
            "Epoch 1/10, mse - Train Loss: 0.3713, Val Loss: 0.2362, Val Accuracy: 0.8376\n",
            "Epoch 2/10, mse - Train Loss: 0.2134, Val Loss: 0.2114, Val Accuracy: 0.8491\n",
            "Epoch 3/10, mse - Train Loss: 0.1915, Val Loss: 0.1993, Val Accuracy: 0.8608\n",
            "Epoch 4/10, mse - Train Loss: 0.1784, Val Loss: 0.1863, Val Accuracy: 0.8702\n",
            "Epoch 5/10, mse - Train Loss: 0.1704, Val Loss: 0.1799, Val Accuracy: 0.8746\n",
            "Epoch 6/10, mse - Train Loss: 0.1624, Val Loss: 0.1833, Val Accuracy: 0.8726\n",
            "Epoch 7/10, mse - Train Loss: 0.1569, Val Loss: 0.1848, Val Accuracy: 0.8707\n",
            "Epoch 8/10, mse - Train Loss: 0.1533, Val Loss: 0.1734, Val Accuracy: 0.8788\n",
            "Epoch 9/10, mse - Train Loss: 0.1478, Val Loss: 0.1690, Val Accuracy: 0.8819\n",
            "Epoch 10/10, mse - Train Loss: 0.1461, Val Loss: 0.1687, Val Accuracy: 0.8825\n"
          ]
        },
        {
          "output_type": "display_data",
          "data": {
            "text/plain": [
              "<IPython.core.display.HTML object>"
            ],
            "text/html": []
          },
          "metadata": {}
        },
        {
          "output_type": "display_data",
          "data": {
            "text/plain": [
              "<IPython.core.display.HTML object>"
            ],
            "text/html": [
              "<br>    <style><br>        .wandb-row {<br>            display: flex;<br>            flex-direction: row;<br>            flex-wrap: wrap;<br>            justify-content: flex-start;<br>            width: 100%;<br>        }<br>        .wandb-col {<br>            display: flex;<br>            flex-direction: column;<br>            flex-basis: 100%;<br>            flex: 1;<br>            padding: 10px;<br>        }<br>    </style><br><div class=\"wandb-row\"><div class=\"wandb-col\"><h3>Run history:</h3><br/><table class=\"wandb\"><tr><td>epoch</td><td>▁▂▃▃▄▅▆▆▇█</td></tr><tr><td>train_loss</td><td>█▃▂▂▂▂▁▁▁▁</td></tr><tr><td>val_accuracy</td><td>▁▃▅▆▇▆▆▇██</td></tr><tr><td>val_loss</td><td>█▅▄▃▂▃▃▁▁▁</td></tr></table><br/></div><div class=\"wandb-col\"><h3>Run summary:</h3><br/><table class=\"wandb\"><tr><td>epoch</td><td>10</td></tr><tr><td>loss_type</td><td>mse</td></tr><tr><td>train_loss</td><td>0.14606</td></tr><tr><td>val_accuracy</td><td>0.8825</td></tr><tr><td>val_loss</td><td>0.16874</td></tr></table><br/></div></div>"
            ]
          },
          "metadata": {}
        },
        {
          "output_type": "display_data",
          "data": {
            "text/plain": [
              "<IPython.core.display.HTML object>"
            ],
            "text/html": [
              " View run <strong style=\"color:#cdcd00\">blooming-sweep-28</strong> at: <a href='https://wandb.ai/ma23m021-iit-madras/MA23M021_A1_Q8_MSE/runs/q88mm08h' target=\"_blank\">https://wandb.ai/ma23m021-iit-madras/MA23M021_A1_Q8_MSE/runs/q88mm08h</a><br> View project at: <a href='https://wandb.ai/ma23m021-iit-madras/MA23M021_A1_Q8_MSE' target=\"_blank\">https://wandb.ai/ma23m021-iit-madras/MA23M021_A1_Q8_MSE</a><br>Synced 5 W&B file(s), 0 media file(s), 0 artifact file(s) and 0 other file(s)"
            ]
          },
          "metadata": {}
        },
        {
          "output_type": "display_data",
          "data": {
            "text/plain": [
              "<IPython.core.display.HTML object>"
            ],
            "text/html": [
              "Find logs at: <code>./wandb/run-20250309_154221-q88mm08h/logs</code>"
            ]
          },
          "metadata": {}
        },
        {
          "output_type": "stream",
          "name": "stderr",
          "text": [
            "\u001b[34m\u001b[1mwandb\u001b[0m: Agent Starting Run: 63cuh29e with config:\n",
            "\u001b[34m\u001b[1mwandb\u001b[0m: \tactivation_function: tanh\n",
            "\u001b[34m\u001b[1mwandb\u001b[0m: \tbatch_size: 16\n",
            "\u001b[34m\u001b[1mwandb\u001b[0m: \tepochs: 10\n",
            "\u001b[34m\u001b[1mwandb\u001b[0m: \thidden_layer_size: 128\n",
            "\u001b[34m\u001b[1mwandb\u001b[0m: \tlearningg_rate_: 0.001\n",
            "\u001b[34m\u001b[1mwandb\u001b[0m: \tloss_type: mse\n",
            "\u001b[34m\u001b[1mwandb\u001b[0m: \tnum_hidden_layers: 5\n",
            "\u001b[34m\u001b[1mwandb\u001b[0m: \toptimizer: nadam\n",
            "\u001b[34m\u001b[1mwandb\u001b[0m: \tweight_initialization: xavier\n"
          ]
        },
        {
          "output_type": "display_data",
          "data": {
            "text/plain": [
              "<IPython.core.display.HTML object>"
            ],
            "text/html": [
              "Ignoring project 'MA23M021_A1_Q8_MSE' when running a sweep."
            ]
          },
          "metadata": {}
        },
        {
          "output_type": "display_data",
          "data": {
            "text/plain": [
              "<IPython.core.display.HTML object>"
            ],
            "text/html": [
              "Tracking run with wandb version 0.19.7"
            ]
          },
          "metadata": {}
        },
        {
          "output_type": "display_data",
          "data": {
            "text/plain": [
              "<IPython.core.display.HTML object>"
            ],
            "text/html": [
              "Run data is saved locally in <code>/content/wandb/run-20250309_154453-63cuh29e</code>"
            ]
          },
          "metadata": {}
        },
        {
          "output_type": "display_data",
          "data": {
            "text/plain": [
              "<IPython.core.display.HTML object>"
            ],
            "text/html": [
              "Syncing run <strong><a href='https://wandb.ai/ma23m021-iit-madras/MA23M021_A1_Q8_MSE/runs/63cuh29e' target=\"_blank\">swift-sweep-29</a></strong> to <a href='https://wandb.ai/ma23m021-iit-madras/MA23M021_A1_Q8_MSE' target=\"_blank\">Weights & Biases</a> (<a href='https://wandb.me/developer-guide' target=\"_blank\">docs</a>)<br>Sweep page: <a href='https://wandb.ai/ma23m021-iit-madras/MA23M021_A1_Q8_MSE/sweeps/205o72nt' target=\"_blank\">https://wandb.ai/ma23m021-iit-madras/MA23M021_A1_Q8_MSE/sweeps/205o72nt</a>"
            ]
          },
          "metadata": {}
        },
        {
          "output_type": "display_data",
          "data": {
            "text/plain": [
              "<IPython.core.display.HTML object>"
            ],
            "text/html": [
              " View project at <a href='https://wandb.ai/ma23m021-iit-madras/MA23M021_A1_Q8_MSE' target=\"_blank\">https://wandb.ai/ma23m021-iit-madras/MA23M021_A1_Q8_MSE</a>"
            ]
          },
          "metadata": {}
        },
        {
          "output_type": "display_data",
          "data": {
            "text/plain": [
              "<IPython.core.display.HTML object>"
            ],
            "text/html": [
              " View sweep at <a href='https://wandb.ai/ma23m021-iit-madras/MA23M021_A1_Q8_MSE/sweeps/205o72nt' target=\"_blank\">https://wandb.ai/ma23m021-iit-madras/MA23M021_A1_Q8_MSE/sweeps/205o72nt</a>"
            ]
          },
          "metadata": {}
        },
        {
          "output_type": "display_data",
          "data": {
            "text/plain": [
              "<IPython.core.display.HTML object>"
            ],
            "text/html": [
              " View run at <a href='https://wandb.ai/ma23m021-iit-madras/MA23M021_A1_Q8_MSE/runs/63cuh29e' target=\"_blank\">https://wandb.ai/ma23m021-iit-madras/MA23M021_A1_Q8_MSE/runs/63cuh29e</a>"
            ]
          },
          "metadata": {}
        },
        {
          "output_type": "stream",
          "name": "stdout",
          "text": [
            "Epoch 1/10, mse - Train Loss: 0.3890, Val Loss: 0.2503, Val Accuracy: 0.8264\n",
            "Epoch 2/10, mse - Train Loss: 0.2347, Val Loss: 0.2595, Val Accuracy: 0.8201\n",
            "Epoch 3/10, mse - Train Loss: 0.2091, Val Loss: 0.2173, Val Accuracy: 0.8456\n",
            "Epoch 4/10, mse - Train Loss: 0.1965, Val Loss: 0.2022, Val Accuracy: 0.8566\n",
            "Epoch 5/10, mse - Train Loss: 0.1874, Val Loss: 0.2179, Val Accuracy: 0.8433\n",
            "Epoch 6/10, mse - Train Loss: 0.1815, Val Loss: 0.2065, Val Accuracy: 0.8550\n",
            "Epoch 7/10, mse - Train Loss: 0.1755, Val Loss: 0.1779, Val Accuracy: 0.8738\n",
            "Epoch 8/10, mse - Train Loss: 0.1713, Val Loss: 0.2040, Val Accuracy: 0.8580\n",
            "Epoch 9/10, mse - Train Loss: 0.1690, Val Loss: 0.1771, Val Accuracy: 0.8742\n",
            "Epoch 10/10, mse - Train Loss: 0.1654, Val Loss: 0.1836, Val Accuracy: 0.8693\n"
          ]
        },
        {
          "output_type": "display_data",
          "data": {
            "text/plain": [
              "<IPython.core.display.HTML object>"
            ],
            "text/html": []
          },
          "metadata": {}
        },
        {
          "output_type": "display_data",
          "data": {
            "text/plain": [
              "<IPython.core.display.HTML object>"
            ],
            "text/html": [
              "<br>    <style><br>        .wandb-row {<br>            display: flex;<br>            flex-direction: row;<br>            flex-wrap: wrap;<br>            justify-content: flex-start;<br>            width: 100%;<br>        }<br>        .wandb-col {<br>            display: flex;<br>            flex-direction: column;<br>            flex-basis: 100%;<br>            flex: 1;<br>            padding: 10px;<br>        }<br>    </style><br><div class=\"wandb-row\"><div class=\"wandb-col\"><h3>Run history:</h3><br/><table class=\"wandb\"><tr><td>epoch</td><td>▁▂▃▃▄▅▆▆▇█</td></tr><tr><td>train_loss</td><td>█▃▂▂▂▂▁▁▁▁</td></tr><tr><td>val_accuracy</td><td>▂▁▄▆▄▆█▆█▇</td></tr><tr><td>val_loss</td><td>▇█▄▃▄▃▁▃▁▂</td></tr></table><br/></div><div class=\"wandb-col\"><h3>Run summary:</h3><br/><table class=\"wandb\"><tr><td>epoch</td><td>10</td></tr><tr><td>loss_type</td><td>mse</td></tr><tr><td>train_loss</td><td>0.16538</td></tr><tr><td>val_accuracy</td><td>0.86933</td></tr><tr><td>val_loss</td><td>0.18361</td></tr></table><br/></div></div>"
            ]
          },
          "metadata": {}
        },
        {
          "output_type": "display_data",
          "data": {
            "text/plain": [
              "<IPython.core.display.HTML object>"
            ],
            "text/html": [
              " View run <strong style=\"color:#cdcd00\">swift-sweep-29</strong> at: <a href='https://wandb.ai/ma23m021-iit-madras/MA23M021_A1_Q8_MSE/runs/63cuh29e' target=\"_blank\">https://wandb.ai/ma23m021-iit-madras/MA23M021_A1_Q8_MSE/runs/63cuh29e</a><br> View project at: <a href='https://wandb.ai/ma23m021-iit-madras/MA23M021_A1_Q8_MSE' target=\"_blank\">https://wandb.ai/ma23m021-iit-madras/MA23M021_A1_Q8_MSE</a><br>Synced 5 W&B file(s), 0 media file(s), 0 artifact file(s) and 0 other file(s)"
            ]
          },
          "metadata": {}
        },
        {
          "output_type": "display_data",
          "data": {
            "text/plain": [
              "<IPython.core.display.HTML object>"
            ],
            "text/html": [
              "Find logs at: <code>./wandb/run-20250309_154453-63cuh29e/logs</code>"
            ]
          },
          "metadata": {}
        },
        {
          "output_type": "stream",
          "name": "stderr",
          "text": [
            "\u001b[34m\u001b[1mwandb\u001b[0m: Agent Starting Run: jrn7tr47 with config:\n",
            "\u001b[34m\u001b[1mwandb\u001b[0m: \tactivation_function: tanh\n",
            "\u001b[34m\u001b[1mwandb\u001b[0m: \tbatch_size: 16\n",
            "\u001b[34m\u001b[1mwandb\u001b[0m: \tepochs: 10\n",
            "\u001b[34m\u001b[1mwandb\u001b[0m: \thidden_layer_size: 32\n",
            "\u001b[34m\u001b[1mwandb\u001b[0m: \tlearningg_rate_: 0.001\n",
            "\u001b[34m\u001b[1mwandb\u001b[0m: \tloss_type: mse\n",
            "\u001b[34m\u001b[1mwandb\u001b[0m: \tnum_hidden_layers: 5\n",
            "\u001b[34m\u001b[1mwandb\u001b[0m: \toptimizer: nadam\n",
            "\u001b[34m\u001b[1mwandb\u001b[0m: \tweight_initialization: xavier\n"
          ]
        },
        {
          "output_type": "display_data",
          "data": {
            "text/plain": [
              "<IPython.core.display.HTML object>"
            ],
            "text/html": [
              "Ignoring project 'MA23M021_A1_Q8_MSE' when running a sweep."
            ]
          },
          "metadata": {}
        },
        {
          "output_type": "display_data",
          "data": {
            "text/plain": [
              "<IPython.core.display.HTML object>"
            ],
            "text/html": [
              "Tracking run with wandb version 0.19.7"
            ]
          },
          "metadata": {}
        },
        {
          "output_type": "display_data",
          "data": {
            "text/plain": [
              "<IPython.core.display.HTML object>"
            ],
            "text/html": [
              "Run data is saved locally in <code>/content/wandb/run-20250309_154932-jrn7tr47</code>"
            ]
          },
          "metadata": {}
        },
        {
          "output_type": "display_data",
          "data": {
            "text/plain": [
              "<IPython.core.display.HTML object>"
            ],
            "text/html": [
              "Syncing run <strong><a href='https://wandb.ai/ma23m021-iit-madras/MA23M021_A1_Q8_MSE/runs/jrn7tr47' target=\"_blank\">devoted-sweep-30</a></strong> to <a href='https://wandb.ai/ma23m021-iit-madras/MA23M021_A1_Q8_MSE' target=\"_blank\">Weights & Biases</a> (<a href='https://wandb.me/developer-guide' target=\"_blank\">docs</a>)<br>Sweep page: <a href='https://wandb.ai/ma23m021-iit-madras/MA23M021_A1_Q8_MSE/sweeps/205o72nt' target=\"_blank\">https://wandb.ai/ma23m021-iit-madras/MA23M021_A1_Q8_MSE/sweeps/205o72nt</a>"
            ]
          },
          "metadata": {}
        },
        {
          "output_type": "display_data",
          "data": {
            "text/plain": [
              "<IPython.core.display.HTML object>"
            ],
            "text/html": [
              " View project at <a href='https://wandb.ai/ma23m021-iit-madras/MA23M021_A1_Q8_MSE' target=\"_blank\">https://wandb.ai/ma23m021-iit-madras/MA23M021_A1_Q8_MSE</a>"
            ]
          },
          "metadata": {}
        },
        {
          "output_type": "display_data",
          "data": {
            "text/plain": [
              "<IPython.core.display.HTML object>"
            ],
            "text/html": [
              " View sweep at <a href='https://wandb.ai/ma23m021-iit-madras/MA23M021_A1_Q8_MSE/sweeps/205o72nt' target=\"_blank\">https://wandb.ai/ma23m021-iit-madras/MA23M021_A1_Q8_MSE/sweeps/205o72nt</a>"
            ]
          },
          "metadata": {}
        },
        {
          "output_type": "display_data",
          "data": {
            "text/plain": [
              "<IPython.core.display.HTML object>"
            ],
            "text/html": [
              " View run at <a href='https://wandb.ai/ma23m021-iit-madras/MA23M021_A1_Q8_MSE/runs/jrn7tr47' target=\"_blank\">https://wandb.ai/ma23m021-iit-madras/MA23M021_A1_Q8_MSE/runs/jrn7tr47</a>"
            ]
          },
          "metadata": {}
        },
        {
          "output_type": "stream",
          "name": "stdout",
          "text": [
            "Epoch 1/10, mse - Train Loss: 0.5522, Val Loss: 0.3662, Val Accuracy: 0.7066\n",
            "Epoch 2/10, mse - Train Loss: 0.3353, Val Loss: 0.2931, Val Accuracy: 0.8006\n",
            "Epoch 3/10, mse - Train Loss: 0.2362, Val Loss: 0.2219, Val Accuracy: 0.8427\n",
            "Epoch 4/10, mse - Train Loss: 0.2073, Val Loss: 0.2064, Val Accuracy: 0.8543\n",
            "Epoch 5/10, mse - Train Loss: 0.1960, Val Loss: 0.2017, Val Accuracy: 0.8596\n",
            "Epoch 6/10, mse - Train Loss: 0.1884, Val Loss: 0.1921, Val Accuracy: 0.8653\n",
            "Epoch 7/10, mse - Train Loss: 0.1807, Val Loss: 0.1989, Val Accuracy: 0.8625\n",
            "Epoch 8/10, mse - Train Loss: 0.1765, Val Loss: 0.2004, Val Accuracy: 0.8587\n",
            "Epoch 9/10, mse - Train Loss: 0.1740, Val Loss: 0.1883, Val Accuracy: 0.8676\n",
            "Epoch 10/10, mse - Train Loss: 0.1691, Val Loss: 0.1957, Val Accuracy: 0.8642\n"
          ]
        },
        {
          "output_type": "display_data",
          "data": {
            "text/plain": [
              "<IPython.core.display.HTML object>"
            ],
            "text/html": []
          },
          "metadata": {}
        },
        {
          "output_type": "display_data",
          "data": {
            "text/plain": [
              "<IPython.core.display.HTML object>"
            ],
            "text/html": [
              "<br>    <style><br>        .wandb-row {<br>            display: flex;<br>            flex-direction: row;<br>            flex-wrap: wrap;<br>            justify-content: flex-start;<br>            width: 100%;<br>        }<br>        .wandb-col {<br>            display: flex;<br>            flex-direction: column;<br>            flex-basis: 100%;<br>            flex: 1;<br>            padding: 10px;<br>        }<br>    </style><br><div class=\"wandb-row\"><div class=\"wandb-col\"><h3>Run history:</h3><br/><table class=\"wandb\"><tr><td>epoch</td><td>▁▂▃▃▄▅▆▆▇█</td></tr><tr><td>train_loss</td><td>█▄▂▂▁▁▁▁▁▁</td></tr><tr><td>val_accuracy</td><td>▁▅▇▇██████</td></tr><tr><td>val_loss</td><td>█▅▂▂▂▁▁▁▁▁</td></tr></table><br/></div><div class=\"wandb-col\"><h3>Run summary:</h3><br/><table class=\"wandb\"><tr><td>epoch</td><td>10</td></tr><tr><td>loss_type</td><td>mse</td></tr><tr><td>train_loss</td><td>0.16914</td></tr><tr><td>val_accuracy</td><td>0.86417</td></tr><tr><td>val_loss</td><td>0.1957</td></tr></table><br/></div></div>"
            ]
          },
          "metadata": {}
        },
        {
          "output_type": "display_data",
          "data": {
            "text/plain": [
              "<IPython.core.display.HTML object>"
            ],
            "text/html": [
              " View run <strong style=\"color:#cdcd00\">devoted-sweep-30</strong> at: <a href='https://wandb.ai/ma23m021-iit-madras/MA23M021_A1_Q8_MSE/runs/jrn7tr47' target=\"_blank\">https://wandb.ai/ma23m021-iit-madras/MA23M021_A1_Q8_MSE/runs/jrn7tr47</a><br> View project at: <a href='https://wandb.ai/ma23m021-iit-madras/MA23M021_A1_Q8_MSE' target=\"_blank\">https://wandb.ai/ma23m021-iit-madras/MA23M021_A1_Q8_MSE</a><br>Synced 5 W&B file(s), 0 media file(s), 0 artifact file(s) and 0 other file(s)"
            ]
          },
          "metadata": {}
        },
        {
          "output_type": "display_data",
          "data": {
            "text/plain": [
              "<IPython.core.display.HTML object>"
            ],
            "text/html": [
              "Find logs at: <code>./wandb/run-20250309_154932-jrn7tr47/logs</code>"
            ]
          },
          "metadata": {}
        },
        {
          "output_type": "stream",
          "name": "stderr",
          "text": [
            "\u001b[34m\u001b[1mwandb\u001b[0m: Agent Starting Run: vb20lu3u with config:\n",
            "\u001b[34m\u001b[1mwandb\u001b[0m: \tactivation_function: tanh\n",
            "\u001b[34m\u001b[1mwandb\u001b[0m: \tbatch_size: 16\n",
            "\u001b[34m\u001b[1mwandb\u001b[0m: \tepochs: 10\n",
            "\u001b[34m\u001b[1mwandb\u001b[0m: \thidden_layer_size: 128\n",
            "\u001b[34m\u001b[1mwandb\u001b[0m: \tlearningg_rate_: 0.001\n",
            "\u001b[34m\u001b[1mwandb\u001b[0m: \tloss_type: mse\n",
            "\u001b[34m\u001b[1mwandb\u001b[0m: \tnum_hidden_layers: 4\n",
            "\u001b[34m\u001b[1mwandb\u001b[0m: \toptimizer: nadam\n",
            "\u001b[34m\u001b[1mwandb\u001b[0m: \tweight_initialization: xavier\n"
          ]
        },
        {
          "output_type": "display_data",
          "data": {
            "text/plain": [
              "<IPython.core.display.HTML object>"
            ],
            "text/html": [
              "Ignoring project 'MA23M021_A1_Q8_MSE' when running a sweep."
            ]
          },
          "metadata": {}
        },
        {
          "output_type": "display_data",
          "data": {
            "text/plain": [
              "<IPython.core.display.HTML object>"
            ],
            "text/html": [
              "Tracking run with wandb version 0.19.7"
            ]
          },
          "metadata": {}
        },
        {
          "output_type": "display_data",
          "data": {
            "text/plain": [
              "<IPython.core.display.HTML object>"
            ],
            "text/html": [
              "Run data is saved locally in <code>/content/wandb/run-20250309_155109-vb20lu3u</code>"
            ]
          },
          "metadata": {}
        },
        {
          "output_type": "display_data",
          "data": {
            "text/plain": [
              "<IPython.core.display.HTML object>"
            ],
            "text/html": [
              "Syncing run <strong><a href='https://wandb.ai/ma23m021-iit-madras/MA23M021_A1_Q8_MSE/runs/vb20lu3u' target=\"_blank\">earnest-sweep-31</a></strong> to <a href='https://wandb.ai/ma23m021-iit-madras/MA23M021_A1_Q8_MSE' target=\"_blank\">Weights & Biases</a> (<a href='https://wandb.me/developer-guide' target=\"_blank\">docs</a>)<br>Sweep page: <a href='https://wandb.ai/ma23m021-iit-madras/MA23M021_A1_Q8_MSE/sweeps/205o72nt' target=\"_blank\">https://wandb.ai/ma23m021-iit-madras/MA23M021_A1_Q8_MSE/sweeps/205o72nt</a>"
            ]
          },
          "metadata": {}
        },
        {
          "output_type": "display_data",
          "data": {
            "text/plain": [
              "<IPython.core.display.HTML object>"
            ],
            "text/html": [
              " View project at <a href='https://wandb.ai/ma23m021-iit-madras/MA23M021_A1_Q8_MSE' target=\"_blank\">https://wandb.ai/ma23m021-iit-madras/MA23M021_A1_Q8_MSE</a>"
            ]
          },
          "metadata": {}
        },
        {
          "output_type": "display_data",
          "data": {
            "text/plain": [
              "<IPython.core.display.HTML object>"
            ],
            "text/html": [
              " View sweep at <a href='https://wandb.ai/ma23m021-iit-madras/MA23M021_A1_Q8_MSE/sweeps/205o72nt' target=\"_blank\">https://wandb.ai/ma23m021-iit-madras/MA23M021_A1_Q8_MSE/sweeps/205o72nt</a>"
            ]
          },
          "metadata": {}
        },
        {
          "output_type": "display_data",
          "data": {
            "text/plain": [
              "<IPython.core.display.HTML object>"
            ],
            "text/html": [
              " View run at <a href='https://wandb.ai/ma23m021-iit-madras/MA23M021_A1_Q8_MSE/runs/vb20lu3u' target=\"_blank\">https://wandb.ai/ma23m021-iit-madras/MA23M021_A1_Q8_MSE/runs/vb20lu3u</a>"
            ]
          },
          "metadata": {}
        },
        {
          "output_type": "stream",
          "name": "stdout",
          "text": [
            "Epoch 1/10, mse - Train Loss: 0.3212, Val Loss: 0.2314, Val Accuracy: 0.8369\n",
            "Epoch 2/10, mse - Train Loss: 0.2104, Val Loss: 0.2094, Val Accuracy: 0.8520\n",
            "Epoch 3/10, mse - Train Loss: 0.1928, Val Loss: 0.1983, Val Accuracy: 0.8599\n",
            "Epoch 4/10, mse - Train Loss: 0.1820, Val Loss: 0.2029, Val Accuracy: 0.8590\n",
            "Epoch 5/10, mse - Train Loss: 0.1735, Val Loss: 0.1915, Val Accuracy: 0.8674\n",
            "Epoch 6/10, mse - Train Loss: 0.1677, Val Loss: 0.1921, Val Accuracy: 0.8675\n",
            "Epoch 7/10, mse - Train Loss: 0.1645, Val Loss: 0.1737, Val Accuracy: 0.8755\n",
            "Epoch 8/10, mse - Train Loss: 0.1584, Val Loss: 0.1787, Val Accuracy: 0.8758\n",
            "Epoch 9/10, mse - Train Loss: 0.1563, Val Loss: 0.1922, Val Accuracy: 0.8661\n",
            "Epoch 10/10, mse - Train Loss: 0.1535, Val Loss: 0.1989, Val Accuracy: 0.8612\n"
          ]
        },
        {
          "output_type": "display_data",
          "data": {
            "text/plain": [
              "<IPython.core.display.HTML object>"
            ],
            "text/html": []
          },
          "metadata": {}
        },
        {
          "output_type": "display_data",
          "data": {
            "text/plain": [
              "<IPython.core.display.HTML object>"
            ],
            "text/html": [
              "<br>    <style><br>        .wandb-row {<br>            display: flex;<br>            flex-direction: row;<br>            flex-wrap: wrap;<br>            justify-content: flex-start;<br>            width: 100%;<br>        }<br>        .wandb-col {<br>            display: flex;<br>            flex-direction: column;<br>            flex-basis: 100%;<br>            flex: 1;<br>            padding: 10px;<br>        }<br>    </style><br><div class=\"wandb-row\"><div class=\"wandb-col\"><h3>Run history:</h3><br/><table class=\"wandb\"><tr><td>epoch</td><td>▁▂▃▃▄▅▆▆▇█</td></tr><tr><td>train_loss</td><td>█▃▃▂▂▂▁▁▁▁</td></tr><tr><td>val_accuracy</td><td>▁▄▅▅▆▇██▆▅</td></tr><tr><td>val_loss</td><td>█▅▄▅▃▃▁▂▃▄</td></tr></table><br/></div><div class=\"wandb-col\"><h3>Run summary:</h3><br/><table class=\"wandb\"><tr><td>epoch</td><td>10</td></tr><tr><td>loss_type</td><td>mse</td></tr><tr><td>train_loss</td><td>0.15351</td></tr><tr><td>val_accuracy</td><td>0.86125</td></tr><tr><td>val_loss</td><td>0.19891</td></tr></table><br/></div></div>"
            ]
          },
          "metadata": {}
        },
        {
          "output_type": "display_data",
          "data": {
            "text/plain": [
              "<IPython.core.display.HTML object>"
            ],
            "text/html": [
              " View run <strong style=\"color:#cdcd00\">earnest-sweep-31</strong> at: <a href='https://wandb.ai/ma23m021-iit-madras/MA23M021_A1_Q8_MSE/runs/vb20lu3u' target=\"_blank\">https://wandb.ai/ma23m021-iit-madras/MA23M021_A1_Q8_MSE/runs/vb20lu3u</a><br> View project at: <a href='https://wandb.ai/ma23m021-iit-madras/MA23M021_A1_Q8_MSE' target=\"_blank\">https://wandb.ai/ma23m021-iit-madras/MA23M021_A1_Q8_MSE</a><br>Synced 5 W&B file(s), 0 media file(s), 0 artifact file(s) and 0 other file(s)"
            ]
          },
          "metadata": {}
        },
        {
          "output_type": "display_data",
          "data": {
            "text/plain": [
              "<IPython.core.display.HTML object>"
            ],
            "text/html": [
              "Find logs at: <code>./wandb/run-20250309_155109-vb20lu3u/logs</code>"
            ]
          },
          "metadata": {}
        },
        {
          "output_type": "stream",
          "name": "stderr",
          "text": [
            "\u001b[34m\u001b[1mwandb\u001b[0m: Agent Starting Run: rwum2eja with config:\n",
            "\u001b[34m\u001b[1mwandb\u001b[0m: \tactivation_function: tanh\n",
            "\u001b[34m\u001b[1mwandb\u001b[0m: \tbatch_size: 16\n",
            "\u001b[34m\u001b[1mwandb\u001b[0m: \tepochs: 10\n",
            "\u001b[34m\u001b[1mwandb\u001b[0m: \thidden_layer_size: 32\n",
            "\u001b[34m\u001b[1mwandb\u001b[0m: \tlearningg_rate_: 0.001\n",
            "\u001b[34m\u001b[1mwandb\u001b[0m: \tloss_type: mse\n",
            "\u001b[34m\u001b[1mwandb\u001b[0m: \tnum_hidden_layers: 4\n",
            "\u001b[34m\u001b[1mwandb\u001b[0m: \toptimizer: nadam\n",
            "\u001b[34m\u001b[1mwandb\u001b[0m: \tweight_initialization: xavier\n"
          ]
        },
        {
          "output_type": "display_data",
          "data": {
            "text/plain": [
              "<IPython.core.display.HTML object>"
            ],
            "text/html": [
              "Ignoring project 'MA23M021_A1_Q8_MSE' when running a sweep."
            ]
          },
          "metadata": {}
        },
        {
          "output_type": "display_data",
          "data": {
            "text/plain": [
              "<IPython.core.display.HTML object>"
            ],
            "text/html": [
              "Tracking run with wandb version 0.19.7"
            ]
          },
          "metadata": {}
        },
        {
          "output_type": "display_data",
          "data": {
            "text/plain": [
              "<IPython.core.display.HTML object>"
            ],
            "text/html": [
              "Run data is saved locally in <code>/content/wandb/run-20250309_155513-rwum2eja</code>"
            ]
          },
          "metadata": {}
        },
        {
          "output_type": "display_data",
          "data": {
            "text/plain": [
              "<IPython.core.display.HTML object>"
            ],
            "text/html": [
              "Syncing run <strong><a href='https://wandb.ai/ma23m021-iit-madras/MA23M021_A1_Q8_MSE/runs/rwum2eja' target=\"_blank\">firm-sweep-32</a></strong> to <a href='https://wandb.ai/ma23m021-iit-madras/MA23M021_A1_Q8_MSE' target=\"_blank\">Weights & Biases</a> (<a href='https://wandb.me/developer-guide' target=\"_blank\">docs</a>)<br>Sweep page: <a href='https://wandb.ai/ma23m021-iit-madras/MA23M021_A1_Q8_MSE/sweeps/205o72nt' target=\"_blank\">https://wandb.ai/ma23m021-iit-madras/MA23M021_A1_Q8_MSE/sweeps/205o72nt</a>"
            ]
          },
          "metadata": {}
        },
        {
          "output_type": "display_data",
          "data": {
            "text/plain": [
              "<IPython.core.display.HTML object>"
            ],
            "text/html": [
              " View project at <a href='https://wandb.ai/ma23m021-iit-madras/MA23M021_A1_Q8_MSE' target=\"_blank\">https://wandb.ai/ma23m021-iit-madras/MA23M021_A1_Q8_MSE</a>"
            ]
          },
          "metadata": {}
        },
        {
          "output_type": "display_data",
          "data": {
            "text/plain": [
              "<IPython.core.display.HTML object>"
            ],
            "text/html": [
              " View sweep at <a href='https://wandb.ai/ma23m021-iit-madras/MA23M021_A1_Q8_MSE/sweeps/205o72nt' target=\"_blank\">https://wandb.ai/ma23m021-iit-madras/MA23M021_A1_Q8_MSE/sweeps/205o72nt</a>"
            ]
          },
          "metadata": {}
        },
        {
          "output_type": "display_data",
          "data": {
            "text/plain": [
              "<IPython.core.display.HTML object>"
            ],
            "text/html": [
              " View run at <a href='https://wandb.ai/ma23m021-iit-madras/MA23M021_A1_Q8_MSE/runs/rwum2eja' target=\"_blank\">https://wandb.ai/ma23m021-iit-madras/MA23M021_A1_Q8_MSE/runs/rwum2eja</a>"
            ]
          },
          "metadata": {}
        },
        {
          "output_type": "stream",
          "name": "stdout",
          "text": [
            "Epoch 1/10, mse - Train Loss: 0.5301, Val Loss: 0.3152, Val Accuracy: 0.7766\n",
            "Epoch 2/10, mse - Train Loss: 0.2692, Val Loss: 0.2417, Val Accuracy: 0.8348\n",
            "Epoch 3/10, mse - Train Loss: 0.2200, Val Loss: 0.2160, Val Accuracy: 0.8491\n",
            "Epoch 4/10, mse - Train Loss: 0.2013, Val Loss: 0.2124, Val Accuracy: 0.8548\n",
            "Epoch 5/10, mse - Train Loss: 0.1888, Val Loss: 0.2023, Val Accuracy: 0.8588\n",
            "Epoch 6/10, mse - Train Loss: 0.1816, Val Loss: 0.2051, Val Accuracy: 0.8574\n",
            "Epoch 7/10, mse - Train Loss: 0.1755, Val Loss: 0.1976, Val Accuracy: 0.8610\n",
            "Epoch 8/10, mse - Train Loss: 0.1720, Val Loss: 0.1999, Val Accuracy: 0.8604\n",
            "Epoch 9/10, mse - Train Loss: 0.1674, Val Loss: 0.1910, Val Accuracy: 0.8655\n",
            "Epoch 10/10, mse - Train Loss: 0.1625, Val Loss: 0.1927, Val Accuracy: 0.8646\n"
          ]
        },
        {
          "output_type": "display_data",
          "data": {
            "text/plain": [
              "<IPython.core.display.HTML object>"
            ],
            "text/html": []
          },
          "metadata": {}
        },
        {
          "output_type": "display_data",
          "data": {
            "text/plain": [
              "<IPython.core.display.HTML object>"
            ],
            "text/html": [
              "<br>    <style><br>        .wandb-row {<br>            display: flex;<br>            flex-direction: row;<br>            flex-wrap: wrap;<br>            justify-content: flex-start;<br>            width: 100%;<br>        }<br>        .wandb-col {<br>            display: flex;<br>            flex-direction: column;<br>            flex-basis: 100%;<br>            flex: 1;<br>            padding: 10px;<br>        }<br>    </style><br><div class=\"wandb-row\"><div class=\"wandb-col\"><h3>Run history:</h3><br/><table class=\"wandb\"><tr><td>epoch</td><td>▁▂▃▃▄▅▆▆▇█</td></tr><tr><td>train_loss</td><td>█▃▂▂▁▁▁▁▁▁</td></tr><tr><td>val_accuracy</td><td>▁▆▇▇▇▇████</td></tr><tr><td>val_loss</td><td>█▄▂▂▂▂▁▂▁▁</td></tr></table><br/></div><div class=\"wandb-col\"><h3>Run summary:</h3><br/><table class=\"wandb\"><tr><td>epoch</td><td>10</td></tr><tr><td>loss_type</td><td>mse</td></tr><tr><td>train_loss</td><td>0.16251</td></tr><tr><td>val_accuracy</td><td>0.86458</td></tr><tr><td>val_loss</td><td>0.19271</td></tr></table><br/></div></div>"
            ]
          },
          "metadata": {}
        },
        {
          "output_type": "display_data",
          "data": {
            "text/plain": [
              "<IPython.core.display.HTML object>"
            ],
            "text/html": [
              " View run <strong style=\"color:#cdcd00\">firm-sweep-32</strong> at: <a href='https://wandb.ai/ma23m021-iit-madras/MA23M021_A1_Q8_MSE/runs/rwum2eja' target=\"_blank\">https://wandb.ai/ma23m021-iit-madras/MA23M021_A1_Q8_MSE/runs/rwum2eja</a><br> View project at: <a href='https://wandb.ai/ma23m021-iit-madras/MA23M021_A1_Q8_MSE' target=\"_blank\">https://wandb.ai/ma23m021-iit-madras/MA23M021_A1_Q8_MSE</a><br>Synced 5 W&B file(s), 0 media file(s), 0 artifact file(s) and 0 other file(s)"
            ]
          },
          "metadata": {}
        },
        {
          "output_type": "display_data",
          "data": {
            "text/plain": [
              "<IPython.core.display.HTML object>"
            ],
            "text/html": [
              "Find logs at: <code>./wandb/run-20250309_155513-rwum2eja/logs</code>"
            ]
          },
          "metadata": {}
        },
        {
          "output_type": "stream",
          "name": "stderr",
          "text": [
            "\u001b[34m\u001b[1mwandb\u001b[0m: Agent Starting Run: j6c0ttie with config:\n",
            "\u001b[34m\u001b[1mwandb\u001b[0m: \tactivation_function: tanh\n",
            "\u001b[34m\u001b[1mwandb\u001b[0m: \tbatch_size: 16\n",
            "\u001b[34m\u001b[1mwandb\u001b[0m: \tepochs: 5\n",
            "\u001b[34m\u001b[1mwandb\u001b[0m: \thidden_layer_size: 128\n",
            "\u001b[34m\u001b[1mwandb\u001b[0m: \tlearningg_rate_: 0.001\n",
            "\u001b[34m\u001b[1mwandb\u001b[0m: \tloss_type: mse\n",
            "\u001b[34m\u001b[1mwandb\u001b[0m: \tnum_hidden_layers: 4\n",
            "\u001b[34m\u001b[1mwandb\u001b[0m: \toptimizer: nadam\n",
            "\u001b[34m\u001b[1mwandb\u001b[0m: \tweight_initialization: xavier\n"
          ]
        },
        {
          "output_type": "display_data",
          "data": {
            "text/plain": [
              "<IPython.core.display.HTML object>"
            ],
            "text/html": [
              "Ignoring project 'MA23M021_A1_Q8_MSE' when running a sweep."
            ]
          },
          "metadata": {}
        },
        {
          "output_type": "display_data",
          "data": {
            "text/plain": [
              "<IPython.core.display.HTML object>"
            ],
            "text/html": [
              "Tracking run with wandb version 0.19.7"
            ]
          },
          "metadata": {}
        },
        {
          "output_type": "display_data",
          "data": {
            "text/plain": [
              "<IPython.core.display.HTML object>"
            ],
            "text/html": [
              "Run data is saved locally in <code>/content/wandb/run-20250309_155635-j6c0ttie</code>"
            ]
          },
          "metadata": {}
        },
        {
          "output_type": "display_data",
          "data": {
            "text/plain": [
              "<IPython.core.display.HTML object>"
            ],
            "text/html": [
              "Syncing run <strong><a href='https://wandb.ai/ma23m021-iit-madras/MA23M021_A1_Q8_MSE/runs/j6c0ttie' target=\"_blank\">light-sweep-33</a></strong> to <a href='https://wandb.ai/ma23m021-iit-madras/MA23M021_A1_Q8_MSE' target=\"_blank\">Weights & Biases</a> (<a href='https://wandb.me/developer-guide' target=\"_blank\">docs</a>)<br>Sweep page: <a href='https://wandb.ai/ma23m021-iit-madras/MA23M021_A1_Q8_MSE/sweeps/205o72nt' target=\"_blank\">https://wandb.ai/ma23m021-iit-madras/MA23M021_A1_Q8_MSE/sweeps/205o72nt</a>"
            ]
          },
          "metadata": {}
        },
        {
          "output_type": "display_data",
          "data": {
            "text/plain": [
              "<IPython.core.display.HTML object>"
            ],
            "text/html": [
              " View project at <a href='https://wandb.ai/ma23m021-iit-madras/MA23M021_A1_Q8_MSE' target=\"_blank\">https://wandb.ai/ma23m021-iit-madras/MA23M021_A1_Q8_MSE</a>"
            ]
          },
          "metadata": {}
        },
        {
          "output_type": "display_data",
          "data": {
            "text/plain": [
              "<IPython.core.display.HTML object>"
            ],
            "text/html": [
              " View sweep at <a href='https://wandb.ai/ma23m021-iit-madras/MA23M021_A1_Q8_MSE/sweeps/205o72nt' target=\"_blank\">https://wandb.ai/ma23m021-iit-madras/MA23M021_A1_Q8_MSE/sweeps/205o72nt</a>"
            ]
          },
          "metadata": {}
        },
        {
          "output_type": "display_data",
          "data": {
            "text/plain": [
              "<IPython.core.display.HTML object>"
            ],
            "text/html": [
              " View run at <a href='https://wandb.ai/ma23m021-iit-madras/MA23M021_A1_Q8_MSE/runs/j6c0ttie' target=\"_blank\">https://wandb.ai/ma23m021-iit-madras/MA23M021_A1_Q8_MSE/runs/j6c0ttie</a>"
            ]
          },
          "metadata": {}
        },
        {
          "output_type": "stream",
          "name": "stdout",
          "text": [
            "Epoch 1/5, mse - Train Loss: 0.3308, Val Loss: 0.2334, Val Accuracy: 0.8401\n",
            "Epoch 2/5, mse - Train Loss: 0.2148, Val Loss: 0.1970, Val Accuracy: 0.8612\n",
            "Epoch 3/5, mse - Train Loss: 0.1945, Val Loss: 0.2076, Val Accuracy: 0.8522\n",
            "Epoch 4/5, mse - Train Loss: 0.1818, Val Loss: 0.2023, Val Accuracy: 0.8572\n",
            "Epoch 5/5, mse - Train Loss: 0.1726, Val Loss: 0.1825, Val Accuracy: 0.8720\n"
          ]
        },
        {
          "output_type": "display_data",
          "data": {
            "text/plain": [
              "<IPython.core.display.HTML object>"
            ],
            "text/html": []
          },
          "metadata": {}
        },
        {
          "output_type": "display_data",
          "data": {
            "text/plain": [
              "<IPython.core.display.HTML object>"
            ],
            "text/html": [
              "<br>    <style><br>        .wandb-row {<br>            display: flex;<br>            flex-direction: row;<br>            flex-wrap: wrap;<br>            justify-content: flex-start;<br>            width: 100%;<br>        }<br>        .wandb-col {<br>            display: flex;<br>            flex-direction: column;<br>            flex-basis: 100%;<br>            flex: 1;<br>            padding: 10px;<br>        }<br>    </style><br><div class=\"wandb-row\"><div class=\"wandb-col\"><h3>Run history:</h3><br/><table class=\"wandb\"><tr><td>epoch</td><td>▁▃▅▆█</td></tr><tr><td>train_loss</td><td>█▃▂▁▁</td></tr><tr><td>val_accuracy</td><td>▁▆▄▅█</td></tr><tr><td>val_loss</td><td>█▃▄▄▁</td></tr></table><br/></div><div class=\"wandb-col\"><h3>Run summary:</h3><br/><table class=\"wandb\"><tr><td>epoch</td><td>5</td></tr><tr><td>loss_type</td><td>mse</td></tr><tr><td>train_loss</td><td>0.17255</td></tr><tr><td>val_accuracy</td><td>0.872</td></tr><tr><td>val_loss</td><td>0.18247</td></tr></table><br/></div></div>"
            ]
          },
          "metadata": {}
        },
        {
          "output_type": "display_data",
          "data": {
            "text/plain": [
              "<IPython.core.display.HTML object>"
            ],
            "text/html": [
              " View run <strong style=\"color:#cdcd00\">light-sweep-33</strong> at: <a href='https://wandb.ai/ma23m021-iit-madras/MA23M021_A1_Q8_MSE/runs/j6c0ttie' target=\"_blank\">https://wandb.ai/ma23m021-iit-madras/MA23M021_A1_Q8_MSE/runs/j6c0ttie</a><br> View project at: <a href='https://wandb.ai/ma23m021-iit-madras/MA23M021_A1_Q8_MSE' target=\"_blank\">https://wandb.ai/ma23m021-iit-madras/MA23M021_A1_Q8_MSE</a><br>Synced 5 W&B file(s), 0 media file(s), 0 artifact file(s) and 0 other file(s)"
            ]
          },
          "metadata": {}
        },
        {
          "output_type": "display_data",
          "data": {
            "text/plain": [
              "<IPython.core.display.HTML object>"
            ],
            "text/html": [
              "Find logs at: <code>./wandb/run-20250309_155635-j6c0ttie/logs</code>"
            ]
          },
          "metadata": {}
        },
        {
          "output_type": "stream",
          "name": "stderr",
          "text": [
            "\u001b[34m\u001b[1mwandb\u001b[0m: Agent Starting Run: p46k58ok with config:\n",
            "\u001b[34m\u001b[1mwandb\u001b[0m: \tactivation_function: tanh\n",
            "\u001b[34m\u001b[1mwandb\u001b[0m: \tbatch_size: 16\n",
            "\u001b[34m\u001b[1mwandb\u001b[0m: \tepochs: 10\n",
            "\u001b[34m\u001b[1mwandb\u001b[0m: \thidden_layer_size: 64\n",
            "\u001b[34m\u001b[1mwandb\u001b[0m: \tlearningg_rate_: 0.001\n",
            "\u001b[34m\u001b[1mwandb\u001b[0m: \tloss_type: mse\n",
            "\u001b[34m\u001b[1mwandb\u001b[0m: \tnum_hidden_layers: 5\n",
            "\u001b[34m\u001b[1mwandb\u001b[0m: \toptimizer: nadam\n",
            "\u001b[34m\u001b[1mwandb\u001b[0m: \tweight_initialization: xavier\n"
          ]
        },
        {
          "output_type": "display_data",
          "data": {
            "text/plain": [
              "<IPython.core.display.HTML object>"
            ],
            "text/html": [
              "Ignoring project 'MA23M021_A1_Q8_MSE' when running a sweep."
            ]
          },
          "metadata": {}
        },
        {
          "output_type": "display_data",
          "data": {
            "text/plain": [
              "<IPython.core.display.HTML object>"
            ],
            "text/html": [
              "Tracking run with wandb version 0.19.7"
            ]
          },
          "metadata": {}
        },
        {
          "output_type": "display_data",
          "data": {
            "text/plain": [
              "<IPython.core.display.HTML object>"
            ],
            "text/html": [
              "Run data is saved locally in <code>/content/wandb/run-20250309_155843-p46k58ok</code>"
            ]
          },
          "metadata": {}
        },
        {
          "output_type": "display_data",
          "data": {
            "text/plain": [
              "<IPython.core.display.HTML object>"
            ],
            "text/html": [
              "Syncing run <strong><a href='https://wandb.ai/ma23m021-iit-madras/MA23M021_A1_Q8_MSE/runs/p46k58ok' target=\"_blank\">rural-sweep-34</a></strong> to <a href='https://wandb.ai/ma23m021-iit-madras/MA23M021_A1_Q8_MSE' target=\"_blank\">Weights & Biases</a> (<a href='https://wandb.me/developer-guide' target=\"_blank\">docs</a>)<br>Sweep page: <a href='https://wandb.ai/ma23m021-iit-madras/MA23M021_A1_Q8_MSE/sweeps/205o72nt' target=\"_blank\">https://wandb.ai/ma23m021-iit-madras/MA23M021_A1_Q8_MSE/sweeps/205o72nt</a>"
            ]
          },
          "metadata": {}
        },
        {
          "output_type": "display_data",
          "data": {
            "text/plain": [
              "<IPython.core.display.HTML object>"
            ],
            "text/html": [
              " View project at <a href='https://wandb.ai/ma23m021-iit-madras/MA23M021_A1_Q8_MSE' target=\"_blank\">https://wandb.ai/ma23m021-iit-madras/MA23M021_A1_Q8_MSE</a>"
            ]
          },
          "metadata": {}
        },
        {
          "output_type": "display_data",
          "data": {
            "text/plain": [
              "<IPython.core.display.HTML object>"
            ],
            "text/html": [
              " View sweep at <a href='https://wandb.ai/ma23m021-iit-madras/MA23M021_A1_Q8_MSE/sweeps/205o72nt' target=\"_blank\">https://wandb.ai/ma23m021-iit-madras/MA23M021_A1_Q8_MSE/sweeps/205o72nt</a>"
            ]
          },
          "metadata": {}
        },
        {
          "output_type": "display_data",
          "data": {
            "text/plain": [
              "<IPython.core.display.HTML object>"
            ],
            "text/html": [
              " View run at <a href='https://wandb.ai/ma23m021-iit-madras/MA23M021_A1_Q8_MSE/runs/p46k58ok' target=\"_blank\">https://wandb.ai/ma23m021-iit-madras/MA23M021_A1_Q8_MSE/runs/p46k58ok</a>"
            ]
          },
          "metadata": {}
        },
        {
          "output_type": "stream",
          "name": "stdout",
          "text": [
            "Epoch 1/10, mse - Train Loss: 0.3990, Val Loss: 0.2812, Val Accuracy: 0.8036\n",
            "Epoch 2/10, mse - Train Loss: 0.2505, Val Loss: 0.2303, Val Accuracy: 0.8419\n",
            "Epoch 3/10, mse - Train Loss: 0.2130, Val Loss: 0.2097, Val Accuracy: 0.8533\n",
            "Epoch 4/10, mse - Train Loss: 0.1938, Val Loss: 0.2162, Val Accuracy: 0.8468\n",
            "Epoch 5/10, mse - Train Loss: 0.1827, Val Loss: 0.1961, Val Accuracy: 0.8622\n",
            "Epoch 6/10, mse - Train Loss: 0.1766, Val Loss: 0.1870, Val Accuracy: 0.8682\n",
            "Epoch 7/10, mse - Train Loss: 0.1716, Val Loss: 0.1865, Val Accuracy: 0.8702\n",
            "Epoch 8/10, mse - Train Loss: 0.1670, Val Loss: 0.1887, Val Accuracy: 0.8676\n",
            "Epoch 9/10, mse - Train Loss: 0.1635, Val Loss: 0.1807, Val Accuracy: 0.8742\n",
            "Epoch 10/10, mse - Train Loss: 0.1616, Val Loss: 0.1793, Val Accuracy: 0.8718\n"
          ]
        },
        {
          "output_type": "display_data",
          "data": {
            "text/plain": [
              "<IPython.core.display.HTML object>"
            ],
            "text/html": []
          },
          "metadata": {}
        },
        {
          "output_type": "display_data",
          "data": {
            "text/plain": [
              "<IPython.core.display.HTML object>"
            ],
            "text/html": [
              "<br>    <style><br>        .wandb-row {<br>            display: flex;<br>            flex-direction: row;<br>            flex-wrap: wrap;<br>            justify-content: flex-start;<br>            width: 100%;<br>        }<br>        .wandb-col {<br>            display: flex;<br>            flex-direction: column;<br>            flex-basis: 100%;<br>            flex: 1;<br>            padding: 10px;<br>        }<br>    </style><br><div class=\"wandb-row\"><div class=\"wandb-col\"><h3>Run history:</h3><br/><table class=\"wandb\"><tr><td>epoch</td><td>▁▂▃▃▄▅▆▆▇█</td></tr><tr><td>train_loss</td><td>█▄▃▂▂▁▁▁▁▁</td></tr><tr><td>val_accuracy</td><td>▁▅▆▅▇▇█▇██</td></tr><tr><td>val_loss</td><td>█▅▃▄▂▂▁▂▁▁</td></tr></table><br/></div><div class=\"wandb-col\"><h3>Run summary:</h3><br/><table class=\"wandb\"><tr><td>epoch</td><td>10</td></tr><tr><td>loss_type</td><td>mse</td></tr><tr><td>train_loss</td><td>0.16159</td></tr><tr><td>val_accuracy</td><td>0.87183</td></tr><tr><td>val_loss</td><td>0.17933</td></tr></table><br/></div></div>"
            ]
          },
          "metadata": {}
        },
        {
          "output_type": "display_data",
          "data": {
            "text/plain": [
              "<IPython.core.display.HTML object>"
            ],
            "text/html": [
              " View run <strong style=\"color:#cdcd00\">rural-sweep-34</strong> at: <a href='https://wandb.ai/ma23m021-iit-madras/MA23M021_A1_Q8_MSE/runs/p46k58ok' target=\"_blank\">https://wandb.ai/ma23m021-iit-madras/MA23M021_A1_Q8_MSE/runs/p46k58ok</a><br> View project at: <a href='https://wandb.ai/ma23m021-iit-madras/MA23M021_A1_Q8_MSE' target=\"_blank\">https://wandb.ai/ma23m021-iit-madras/MA23M021_A1_Q8_MSE</a><br>Synced 5 W&B file(s), 0 media file(s), 0 artifact file(s) and 0 other file(s)"
            ]
          },
          "metadata": {}
        },
        {
          "output_type": "display_data",
          "data": {
            "text/plain": [
              "<IPython.core.display.HTML object>"
            ],
            "text/html": [
              "Find logs at: <code>./wandb/run-20250309_155843-p46k58ok/logs</code>"
            ]
          },
          "metadata": {}
        },
        {
          "output_type": "stream",
          "name": "stderr",
          "text": [
            "\u001b[34m\u001b[1mwandb\u001b[0m: Agent Starting Run: vyd02zn3 with config:\n",
            "\u001b[34m\u001b[1mwandb\u001b[0m: \tactivation_function: tanh\n",
            "\u001b[34m\u001b[1mwandb\u001b[0m: \tbatch_size: 16\n",
            "\u001b[34m\u001b[1mwandb\u001b[0m: \tepochs: 10\n",
            "\u001b[34m\u001b[1mwandb\u001b[0m: \thidden_layer_size: 32\n",
            "\u001b[34m\u001b[1mwandb\u001b[0m: \tlearningg_rate_: 0.001\n",
            "\u001b[34m\u001b[1mwandb\u001b[0m: \tloss_type: mse\n",
            "\u001b[34m\u001b[1mwandb\u001b[0m: \tnum_hidden_layers: 4\n",
            "\u001b[34m\u001b[1mwandb\u001b[0m: \toptimizer: nadam\n",
            "\u001b[34m\u001b[1mwandb\u001b[0m: \tweight_initialization: xavier\n"
          ]
        },
        {
          "output_type": "display_data",
          "data": {
            "text/plain": [
              "<IPython.core.display.HTML object>"
            ],
            "text/html": [
              "Ignoring project 'MA23M021_A1_Q8_MSE' when running a sweep."
            ]
          },
          "metadata": {}
        },
        {
          "output_type": "display_data",
          "data": {
            "text/plain": [
              "<IPython.core.display.HTML object>"
            ],
            "text/html": [
              "Tracking run with wandb version 0.19.7"
            ]
          },
          "metadata": {}
        },
        {
          "output_type": "display_data",
          "data": {
            "text/plain": [
              "<IPython.core.display.HTML object>"
            ],
            "text/html": [
              "Run data is saved locally in <code>/content/wandb/run-20250309_160101-vyd02zn3</code>"
            ]
          },
          "metadata": {}
        },
        {
          "output_type": "display_data",
          "data": {
            "text/plain": [
              "<IPython.core.display.HTML object>"
            ],
            "text/html": [
              "Syncing run <strong><a href='https://wandb.ai/ma23m021-iit-madras/MA23M021_A1_Q8_MSE/runs/vyd02zn3' target=\"_blank\">royal-sweep-35</a></strong> to <a href='https://wandb.ai/ma23m021-iit-madras/MA23M021_A1_Q8_MSE' target=\"_blank\">Weights & Biases</a> (<a href='https://wandb.me/developer-guide' target=\"_blank\">docs</a>)<br>Sweep page: <a href='https://wandb.ai/ma23m021-iit-madras/MA23M021_A1_Q8_MSE/sweeps/205o72nt' target=\"_blank\">https://wandb.ai/ma23m021-iit-madras/MA23M021_A1_Q8_MSE/sweeps/205o72nt</a>"
            ]
          },
          "metadata": {}
        },
        {
          "output_type": "display_data",
          "data": {
            "text/plain": [
              "<IPython.core.display.HTML object>"
            ],
            "text/html": [
              " View project at <a href='https://wandb.ai/ma23m021-iit-madras/MA23M021_A1_Q8_MSE' target=\"_blank\">https://wandb.ai/ma23m021-iit-madras/MA23M021_A1_Q8_MSE</a>"
            ]
          },
          "metadata": {}
        },
        {
          "output_type": "display_data",
          "data": {
            "text/plain": [
              "<IPython.core.display.HTML object>"
            ],
            "text/html": [
              " View sweep at <a href='https://wandb.ai/ma23m021-iit-madras/MA23M021_A1_Q8_MSE/sweeps/205o72nt' target=\"_blank\">https://wandb.ai/ma23m021-iit-madras/MA23M021_A1_Q8_MSE/sweeps/205o72nt</a>"
            ]
          },
          "metadata": {}
        },
        {
          "output_type": "display_data",
          "data": {
            "text/plain": [
              "<IPython.core.display.HTML object>"
            ],
            "text/html": [
              " View run at <a href='https://wandb.ai/ma23m021-iit-madras/MA23M021_A1_Q8_MSE/runs/vyd02zn3' target=\"_blank\">https://wandb.ai/ma23m021-iit-madras/MA23M021_A1_Q8_MSE/runs/vyd02zn3</a>"
            ]
          },
          "metadata": {}
        },
        {
          "output_type": "stream",
          "name": "stdout",
          "text": [
            "Epoch 1/10, mse - Train Loss: 0.4900, Val Loss: 0.3145, Val Accuracy: 0.7543\n",
            "Epoch 2/10, mse - Train Loss: 0.2653, Val Loss: 0.2348, Val Accuracy: 0.8363\n",
            "Epoch 3/10, mse - Train Loss: 0.2123, Val Loss: 0.2068, Val Accuracy: 0.8543\n",
            "Epoch 4/10, mse - Train Loss: 0.1939, Val Loss: 0.1997, Val Accuracy: 0.8598\n",
            "Epoch 5/10, mse - Train Loss: 0.1855, Val Loss: 0.1968, Val Accuracy: 0.8594\n",
            "Epoch 6/10, mse - Train Loss: 0.1783, Val Loss: 0.1888, Val Accuracy: 0.8666\n",
            "Epoch 7/10, mse - Train Loss: 0.1725, Val Loss: 0.1918, Val Accuracy: 0.8638\n",
            "Epoch 8/10, mse - Train Loss: 0.1686, Val Loss: 0.1826, Val Accuracy: 0.8726\n",
            "Epoch 9/10, mse - Train Loss: 0.1634, Val Loss: 0.1839, Val Accuracy: 0.8729\n",
            "Epoch 10/10, mse - Train Loss: 0.1607, Val Loss: 0.1746, Val Accuracy: 0.8782\n"
          ]
        },
        {
          "output_type": "display_data",
          "data": {
            "text/plain": [
              "<IPython.core.display.HTML object>"
            ],
            "text/html": []
          },
          "metadata": {}
        },
        {
          "output_type": "display_data",
          "data": {
            "text/plain": [
              "<IPython.core.display.HTML object>"
            ],
            "text/html": [
              "<br>    <style><br>        .wandb-row {<br>            display: flex;<br>            flex-direction: row;<br>            flex-wrap: wrap;<br>            justify-content: flex-start;<br>            width: 100%;<br>        }<br>        .wandb-col {<br>            display: flex;<br>            flex-direction: column;<br>            flex-basis: 100%;<br>            flex: 1;<br>            padding: 10px;<br>        }<br>    </style><br><div class=\"wandb-row\"><div class=\"wandb-col\"><h3>Run history:</h3><br/><table class=\"wandb\"><tr><td>epoch</td><td>▁▂▃▃▄▅▆▆▇█</td></tr><tr><td>train_loss</td><td>█▃▂▂▂▁▁▁▁▁</td></tr><tr><td>val_accuracy</td><td>▁▆▇▇▇▇▇███</td></tr><tr><td>val_loss</td><td>█▄▃▂▂▂▂▁▁▁</td></tr></table><br/></div><div class=\"wandb-col\"><h3>Run summary:</h3><br/><table class=\"wandb\"><tr><td>epoch</td><td>10</td></tr><tr><td>loss_type</td><td>mse</td></tr><tr><td>train_loss</td><td>0.16067</td></tr><tr><td>val_accuracy</td><td>0.87817</td></tr><tr><td>val_loss</td><td>0.17461</td></tr></table><br/></div></div>"
            ]
          },
          "metadata": {}
        },
        {
          "output_type": "display_data",
          "data": {
            "text/plain": [
              "<IPython.core.display.HTML object>"
            ],
            "text/html": [
              " View run <strong style=\"color:#cdcd00\">royal-sweep-35</strong> at: <a href='https://wandb.ai/ma23m021-iit-madras/MA23M021_A1_Q8_MSE/runs/vyd02zn3' target=\"_blank\">https://wandb.ai/ma23m021-iit-madras/MA23M021_A1_Q8_MSE/runs/vyd02zn3</a><br> View project at: <a href='https://wandb.ai/ma23m021-iit-madras/MA23M021_A1_Q8_MSE' target=\"_blank\">https://wandb.ai/ma23m021-iit-madras/MA23M021_A1_Q8_MSE</a><br>Synced 5 W&B file(s), 0 media file(s), 0 artifact file(s) and 0 other file(s)"
            ]
          },
          "metadata": {}
        },
        {
          "output_type": "display_data",
          "data": {
            "text/plain": [
              "<IPython.core.display.HTML object>"
            ],
            "text/html": [
              "Find logs at: <code>./wandb/run-20250309_160101-vyd02zn3/logs</code>"
            ]
          },
          "metadata": {}
        },
        {
          "output_type": "stream",
          "name": "stderr",
          "text": [
            "\u001b[34m\u001b[1mwandb\u001b[0m: Agent Starting Run: i0h939cj with config:\n",
            "\u001b[34m\u001b[1mwandb\u001b[0m: \tactivation_function: tanh\n",
            "\u001b[34m\u001b[1mwandb\u001b[0m: \tbatch_size: 16\n",
            "\u001b[34m\u001b[1mwandb\u001b[0m: \tepochs: 5\n",
            "\u001b[34m\u001b[1mwandb\u001b[0m: \thidden_layer_size: 64\n",
            "\u001b[34m\u001b[1mwandb\u001b[0m: \tlearningg_rate_: 0.001\n",
            "\u001b[34m\u001b[1mwandb\u001b[0m: \tloss_type: mse\n",
            "\u001b[34m\u001b[1mwandb\u001b[0m: \tnum_hidden_layers: 3\n",
            "\u001b[34m\u001b[1mwandb\u001b[0m: \toptimizer: adam\n",
            "\u001b[34m\u001b[1mwandb\u001b[0m: \tweight_initialization: xavier\n"
          ]
        },
        {
          "output_type": "display_data",
          "data": {
            "text/plain": [
              "<IPython.core.display.HTML object>"
            ],
            "text/html": [
              "Ignoring project 'MA23M021_A1_Q8_MSE' when running a sweep."
            ]
          },
          "metadata": {}
        },
        {
          "output_type": "display_data",
          "data": {
            "text/plain": [
              "<IPython.core.display.HTML object>"
            ],
            "text/html": [
              "Tracking run with wandb version 0.19.7"
            ]
          },
          "metadata": {}
        },
        {
          "output_type": "display_data",
          "data": {
            "text/plain": [
              "<IPython.core.display.HTML object>"
            ],
            "text/html": [
              "Run data is saved locally in <code>/content/wandb/run-20250309_160227-i0h939cj</code>"
            ]
          },
          "metadata": {}
        },
        {
          "output_type": "display_data",
          "data": {
            "text/plain": [
              "<IPython.core.display.HTML object>"
            ],
            "text/html": [
              "Syncing run <strong><a href='https://wandb.ai/ma23m021-iit-madras/MA23M021_A1_Q8_MSE/runs/i0h939cj' target=\"_blank\">noble-sweep-36</a></strong> to <a href='https://wandb.ai/ma23m021-iit-madras/MA23M021_A1_Q8_MSE' target=\"_blank\">Weights & Biases</a> (<a href='https://wandb.me/developer-guide' target=\"_blank\">docs</a>)<br>Sweep page: <a href='https://wandb.ai/ma23m021-iit-madras/MA23M021_A1_Q8_MSE/sweeps/205o72nt' target=\"_blank\">https://wandb.ai/ma23m021-iit-madras/MA23M021_A1_Q8_MSE/sweeps/205o72nt</a>"
            ]
          },
          "metadata": {}
        },
        {
          "output_type": "display_data",
          "data": {
            "text/plain": [
              "<IPython.core.display.HTML object>"
            ],
            "text/html": [
              " View project at <a href='https://wandb.ai/ma23m021-iit-madras/MA23M021_A1_Q8_MSE' target=\"_blank\">https://wandb.ai/ma23m021-iit-madras/MA23M021_A1_Q8_MSE</a>"
            ]
          },
          "metadata": {}
        },
        {
          "output_type": "display_data",
          "data": {
            "text/plain": [
              "<IPython.core.display.HTML object>"
            ],
            "text/html": [
              " View sweep at <a href='https://wandb.ai/ma23m021-iit-madras/MA23M021_A1_Q8_MSE/sweeps/205o72nt' target=\"_blank\">https://wandb.ai/ma23m021-iit-madras/MA23M021_A1_Q8_MSE/sweeps/205o72nt</a>"
            ]
          },
          "metadata": {}
        },
        {
          "output_type": "display_data",
          "data": {
            "text/plain": [
              "<IPython.core.display.HTML object>"
            ],
            "text/html": [
              " View run at <a href='https://wandb.ai/ma23m021-iit-madras/MA23M021_A1_Q8_MSE/runs/i0h939cj' target=\"_blank\">https://wandb.ai/ma23m021-iit-madras/MA23M021_A1_Q8_MSE/runs/i0h939cj</a>"
            ]
          },
          "metadata": {}
        },
        {
          "output_type": "stream",
          "name": "stdout",
          "text": [
            "Epoch 1/5, mse - Train Loss: 0.3470, Val Loss: 0.2284, Val Accuracy: 0.8407\n",
            "Epoch 2/5, mse - Train Loss: 0.2093, Val Loss: 0.2026, Val Accuracy: 0.8540\n",
            "Epoch 3/5, mse - Train Loss: 0.1915, Val Loss: 0.2081, Val Accuracy: 0.8511\n",
            "Epoch 4/5, mse - Train Loss: 0.1808, Val Loss: 0.1936, Val Accuracy: 0.8632\n",
            "Epoch 5/5, mse - Train Loss: 0.1731, Val Loss: 0.1999, Val Accuracy: 0.8575\n"
          ]
        },
        {
          "output_type": "display_data",
          "data": {
            "text/plain": [
              "<IPython.core.display.HTML object>"
            ],
            "text/html": []
          },
          "metadata": {}
        },
        {
          "output_type": "display_data",
          "data": {
            "text/plain": [
              "<IPython.core.display.HTML object>"
            ],
            "text/html": [
              "<br>    <style><br>        .wandb-row {<br>            display: flex;<br>            flex-direction: row;<br>            flex-wrap: wrap;<br>            justify-content: flex-start;<br>            width: 100%;<br>        }<br>        .wandb-col {<br>            display: flex;<br>            flex-direction: column;<br>            flex-basis: 100%;<br>            flex: 1;<br>            padding: 10px;<br>        }<br>    </style><br><div class=\"wandb-row\"><div class=\"wandb-col\"><h3>Run history:</h3><br/><table class=\"wandb\"><tr><td>epoch</td><td>▁▃▅▆█</td></tr><tr><td>train_loss</td><td>█▂▂▁▁</td></tr><tr><td>val_accuracy</td><td>▁▅▄█▆</td></tr><tr><td>val_loss</td><td>█▃▄▁▂</td></tr></table><br/></div><div class=\"wandb-col\"><h3>Run summary:</h3><br/><table class=\"wandb\"><tr><td>epoch</td><td>5</td></tr><tr><td>loss_type</td><td>mse</td></tr><tr><td>train_loss</td><td>0.17308</td></tr><tr><td>val_accuracy</td><td>0.8575</td></tr><tr><td>val_loss</td><td>0.19995</td></tr></table><br/></div></div>"
            ]
          },
          "metadata": {}
        },
        {
          "output_type": "display_data",
          "data": {
            "text/plain": [
              "<IPython.core.display.HTML object>"
            ],
            "text/html": [
              " View run <strong style=\"color:#cdcd00\">noble-sweep-36</strong> at: <a href='https://wandb.ai/ma23m021-iit-madras/MA23M021_A1_Q8_MSE/runs/i0h939cj' target=\"_blank\">https://wandb.ai/ma23m021-iit-madras/MA23M021_A1_Q8_MSE/runs/i0h939cj</a><br> View project at: <a href='https://wandb.ai/ma23m021-iit-madras/MA23M021_A1_Q8_MSE' target=\"_blank\">https://wandb.ai/ma23m021-iit-madras/MA23M021_A1_Q8_MSE</a><br>Synced 5 W&B file(s), 0 media file(s), 0 artifact file(s) and 0 other file(s)"
            ]
          },
          "metadata": {}
        },
        {
          "output_type": "display_data",
          "data": {
            "text/plain": [
              "<IPython.core.display.HTML object>"
            ],
            "text/html": [
              "Find logs at: <code>./wandb/run-20250309_160227-i0h939cj/logs</code>"
            ]
          },
          "metadata": {}
        },
        {
          "output_type": "stream",
          "name": "stderr",
          "text": [
            "\u001b[34m\u001b[1mwandb\u001b[0m: Agent Starting Run: 0j7socaz with config:\n",
            "\u001b[34m\u001b[1mwandb\u001b[0m: \tactivation_function: tanh\n",
            "\u001b[34m\u001b[1mwandb\u001b[0m: \tbatch_size: 16\n",
            "\u001b[34m\u001b[1mwandb\u001b[0m: \tepochs: 5\n",
            "\u001b[34m\u001b[1mwandb\u001b[0m: \thidden_layer_size: 32\n",
            "\u001b[34m\u001b[1mwandb\u001b[0m: \tlearningg_rate_: 0.001\n",
            "\u001b[34m\u001b[1mwandb\u001b[0m: \tloss_type: mse\n",
            "\u001b[34m\u001b[1mwandb\u001b[0m: \tnum_hidden_layers: 3\n",
            "\u001b[34m\u001b[1mwandb\u001b[0m: \toptimizer: nadam\n",
            "\u001b[34m\u001b[1mwandb\u001b[0m: \tweight_initialization: xavier\n"
          ]
        },
        {
          "output_type": "display_data",
          "data": {
            "text/plain": [
              "<IPython.core.display.HTML object>"
            ],
            "text/html": [
              "Ignoring project 'MA23M021_A1_Q8_MSE' when running a sweep."
            ]
          },
          "metadata": {}
        },
        {
          "output_type": "display_data",
          "data": {
            "text/plain": [
              "<IPython.core.display.HTML object>"
            ],
            "text/html": [
              "Tracking run with wandb version 0.19.7"
            ]
          },
          "metadata": {}
        },
        {
          "output_type": "display_data",
          "data": {
            "text/plain": [
              "<IPython.core.display.HTML object>"
            ],
            "text/html": [
              "Run data is saved locally in <code>/content/wandb/run-20250309_160317-0j7socaz</code>"
            ]
          },
          "metadata": {}
        },
        {
          "output_type": "display_data",
          "data": {
            "text/plain": [
              "<IPython.core.display.HTML object>"
            ],
            "text/html": [
              "Syncing run <strong><a href='https://wandb.ai/ma23m021-iit-madras/MA23M021_A1_Q8_MSE/runs/0j7socaz' target=\"_blank\">gentle-sweep-37</a></strong> to <a href='https://wandb.ai/ma23m021-iit-madras/MA23M021_A1_Q8_MSE' target=\"_blank\">Weights & Biases</a> (<a href='https://wandb.me/developer-guide' target=\"_blank\">docs</a>)<br>Sweep page: <a href='https://wandb.ai/ma23m021-iit-madras/MA23M021_A1_Q8_MSE/sweeps/205o72nt' target=\"_blank\">https://wandb.ai/ma23m021-iit-madras/MA23M021_A1_Q8_MSE/sweeps/205o72nt</a>"
            ]
          },
          "metadata": {}
        },
        {
          "output_type": "display_data",
          "data": {
            "text/plain": [
              "<IPython.core.display.HTML object>"
            ],
            "text/html": [
              " View project at <a href='https://wandb.ai/ma23m021-iit-madras/MA23M021_A1_Q8_MSE' target=\"_blank\">https://wandb.ai/ma23m021-iit-madras/MA23M021_A1_Q8_MSE</a>"
            ]
          },
          "metadata": {}
        },
        {
          "output_type": "display_data",
          "data": {
            "text/plain": [
              "<IPython.core.display.HTML object>"
            ],
            "text/html": [
              " View sweep at <a href='https://wandb.ai/ma23m021-iit-madras/MA23M021_A1_Q8_MSE/sweeps/205o72nt' target=\"_blank\">https://wandb.ai/ma23m021-iit-madras/MA23M021_A1_Q8_MSE/sweeps/205o72nt</a>"
            ]
          },
          "metadata": {}
        },
        {
          "output_type": "display_data",
          "data": {
            "text/plain": [
              "<IPython.core.display.HTML object>"
            ],
            "text/html": [
              " View run at <a href='https://wandb.ai/ma23m021-iit-madras/MA23M021_A1_Q8_MSE/runs/0j7socaz' target=\"_blank\">https://wandb.ai/ma23m021-iit-madras/MA23M021_A1_Q8_MSE/runs/0j7socaz</a>"
            ]
          },
          "metadata": {}
        },
        {
          "output_type": "stream",
          "name": "stdout",
          "text": [
            "Epoch 1/5, mse - Train Loss: 0.4245, Val Loss: 0.2616, Val Accuracy: 0.8120\n",
            "Epoch 2/5, mse - Train Loss: 0.2286, Val Loss: 0.2148, Val Accuracy: 0.8502\n",
            "Epoch 3/5, mse - Train Loss: 0.2036, Val Loss: 0.2109, Val Accuracy: 0.8520\n",
            "Epoch 4/5, mse - Train Loss: 0.1904, Val Loss: 0.1914, Val Accuracy: 0.8656\n",
            "Epoch 5/5, mse - Train Loss: 0.1817, Val Loss: 0.1887, Val Accuracy: 0.8669\n"
          ]
        },
        {
          "output_type": "display_data",
          "data": {
            "text/plain": [
              "<IPython.core.display.HTML object>"
            ],
            "text/html": []
          },
          "metadata": {}
        },
        {
          "output_type": "display_data",
          "data": {
            "text/plain": [
              "<IPython.core.display.HTML object>"
            ],
            "text/html": [
              "<br>    <style><br>        .wandb-row {<br>            display: flex;<br>            flex-direction: row;<br>            flex-wrap: wrap;<br>            justify-content: flex-start;<br>            width: 100%;<br>        }<br>        .wandb-col {<br>            display: flex;<br>            flex-direction: column;<br>            flex-basis: 100%;<br>            flex: 1;<br>            padding: 10px;<br>        }<br>    </style><br><div class=\"wandb-row\"><div class=\"wandb-col\"><h3>Run history:</h3><br/><table class=\"wandb\"><tr><td>epoch</td><td>▁▃▅▆█</td></tr><tr><td>train_loss</td><td>█▂▂▁▁</td></tr><tr><td>val_accuracy</td><td>▁▆▆██</td></tr><tr><td>val_loss</td><td>█▄▃▁▁</td></tr></table><br/></div><div class=\"wandb-col\"><h3>Run summary:</h3><br/><table class=\"wandb\"><tr><td>epoch</td><td>5</td></tr><tr><td>loss_type</td><td>mse</td></tr><tr><td>train_loss</td><td>0.1817</td></tr><tr><td>val_accuracy</td><td>0.86692</td></tr><tr><td>val_loss</td><td>0.18869</td></tr></table><br/></div></div>"
            ]
          },
          "metadata": {}
        },
        {
          "output_type": "display_data",
          "data": {
            "text/plain": [
              "<IPython.core.display.HTML object>"
            ],
            "text/html": [
              " View run <strong style=\"color:#cdcd00\">gentle-sweep-37</strong> at: <a href='https://wandb.ai/ma23m021-iit-madras/MA23M021_A1_Q8_MSE/runs/0j7socaz' target=\"_blank\">https://wandb.ai/ma23m021-iit-madras/MA23M021_A1_Q8_MSE/runs/0j7socaz</a><br> View project at: <a href='https://wandb.ai/ma23m021-iit-madras/MA23M021_A1_Q8_MSE' target=\"_blank\">https://wandb.ai/ma23m021-iit-madras/MA23M021_A1_Q8_MSE</a><br>Synced 5 W&B file(s), 0 media file(s), 0 artifact file(s) and 0 other file(s)"
            ]
          },
          "metadata": {}
        },
        {
          "output_type": "display_data",
          "data": {
            "text/plain": [
              "<IPython.core.display.HTML object>"
            ],
            "text/html": [
              "Find logs at: <code>./wandb/run-20250309_160317-0j7socaz/logs</code>"
            ]
          },
          "metadata": {}
        },
        {
          "output_type": "stream",
          "name": "stderr",
          "text": [
            "\u001b[34m\u001b[1mwandb\u001b[0m: Agent Starting Run: 7cjte3qf with config:\n",
            "\u001b[34m\u001b[1mwandb\u001b[0m: \tactivation_function: tanh\n",
            "\u001b[34m\u001b[1mwandb\u001b[0m: \tbatch_size: 16\n",
            "\u001b[34m\u001b[1mwandb\u001b[0m: \tepochs: 5\n",
            "\u001b[34m\u001b[1mwandb\u001b[0m: \thidden_layer_size: 64\n",
            "\u001b[34m\u001b[1mwandb\u001b[0m: \tlearningg_rate_: 0.001\n",
            "\u001b[34m\u001b[1mwandb\u001b[0m: \tloss_type: mse\n",
            "\u001b[34m\u001b[1mwandb\u001b[0m: \tnum_hidden_layers: 4\n",
            "\u001b[34m\u001b[1mwandb\u001b[0m: \toptimizer: nadam\n",
            "\u001b[34m\u001b[1mwandb\u001b[0m: \tweight_initialization: xavier\n"
          ]
        },
        {
          "output_type": "display_data",
          "data": {
            "text/plain": [
              "<IPython.core.display.HTML object>"
            ],
            "text/html": [
              "Ignoring project 'MA23M021_A1_Q8_MSE' when running a sweep."
            ]
          },
          "metadata": {}
        },
        {
          "output_type": "display_data",
          "data": {
            "text/plain": [
              "<IPython.core.display.HTML object>"
            ],
            "text/html": [
              "Tracking run with wandb version 0.19.7"
            ]
          },
          "metadata": {}
        },
        {
          "output_type": "display_data",
          "data": {
            "text/plain": [
              "<IPython.core.display.HTML object>"
            ],
            "text/html": [
              "Run data is saved locally in <code>/content/wandb/run-20250309_160358-7cjte3qf</code>"
            ]
          },
          "metadata": {}
        },
        {
          "output_type": "display_data",
          "data": {
            "text/plain": [
              "<IPython.core.display.HTML object>"
            ],
            "text/html": [
              "Syncing run <strong><a href='https://wandb.ai/ma23m021-iit-madras/MA23M021_A1_Q8_MSE/runs/7cjte3qf' target=\"_blank\">exalted-sweep-38</a></strong> to <a href='https://wandb.ai/ma23m021-iit-madras/MA23M021_A1_Q8_MSE' target=\"_blank\">Weights & Biases</a> (<a href='https://wandb.me/developer-guide' target=\"_blank\">docs</a>)<br>Sweep page: <a href='https://wandb.ai/ma23m021-iit-madras/MA23M021_A1_Q8_MSE/sweeps/205o72nt' target=\"_blank\">https://wandb.ai/ma23m021-iit-madras/MA23M021_A1_Q8_MSE/sweeps/205o72nt</a>"
            ]
          },
          "metadata": {}
        },
        {
          "output_type": "display_data",
          "data": {
            "text/plain": [
              "<IPython.core.display.HTML object>"
            ],
            "text/html": [
              " View project at <a href='https://wandb.ai/ma23m021-iit-madras/MA23M021_A1_Q8_MSE' target=\"_blank\">https://wandb.ai/ma23m021-iit-madras/MA23M021_A1_Q8_MSE</a>"
            ]
          },
          "metadata": {}
        },
        {
          "output_type": "display_data",
          "data": {
            "text/plain": [
              "<IPython.core.display.HTML object>"
            ],
            "text/html": [
              " View sweep at <a href='https://wandb.ai/ma23m021-iit-madras/MA23M021_A1_Q8_MSE/sweeps/205o72nt' target=\"_blank\">https://wandb.ai/ma23m021-iit-madras/MA23M021_A1_Q8_MSE/sweeps/205o72nt</a>"
            ]
          },
          "metadata": {}
        },
        {
          "output_type": "display_data",
          "data": {
            "text/plain": [
              "<IPython.core.display.HTML object>"
            ],
            "text/html": [
              " View run at <a href='https://wandb.ai/ma23m021-iit-madras/MA23M021_A1_Q8_MSE/runs/7cjte3qf' target=\"_blank\">https://wandb.ai/ma23m021-iit-madras/MA23M021_A1_Q8_MSE/runs/7cjte3qf</a>"
            ]
          },
          "metadata": {}
        },
        {
          "output_type": "stream",
          "name": "stdout",
          "text": [
            "Epoch 1/5, mse - Train Loss: 0.3916, Val Loss: 0.2632, Val Accuracy: 0.8114\n",
            "Epoch 2/5, mse - Train Loss: 0.2192, Val Loss: 0.2143, Val Accuracy: 0.8484\n",
            "Epoch 3/5, mse - Train Loss: 0.1948, Val Loss: 0.1987, Val Accuracy: 0.8610\n",
            "Epoch 4/5, mse - Train Loss: 0.1843, Val Loss: 0.1874, Val Accuracy: 0.8672\n",
            "Epoch 5/5, mse - Train Loss: 0.1762, Val Loss: 0.1871, Val Accuracy: 0.8671\n"
          ]
        },
        {
          "output_type": "display_data",
          "data": {
            "text/plain": [
              "<IPython.core.display.HTML object>"
            ],
            "text/html": []
          },
          "metadata": {}
        },
        {
          "output_type": "display_data",
          "data": {
            "text/plain": [
              "<IPython.core.display.HTML object>"
            ],
            "text/html": [
              "<br>    <style><br>        .wandb-row {<br>            display: flex;<br>            flex-direction: row;<br>            flex-wrap: wrap;<br>            justify-content: flex-start;<br>            width: 100%;<br>        }<br>        .wandb-col {<br>            display: flex;<br>            flex-direction: column;<br>            flex-basis: 100%;<br>            flex: 1;<br>            padding: 10px;<br>        }<br>    </style><br><div class=\"wandb-row\"><div class=\"wandb-col\"><h3>Run history:</h3><br/><table class=\"wandb\"><tr><td>epoch</td><td>▁▃▅▆█</td></tr><tr><td>train_loss</td><td>█▂▂▁▁</td></tr><tr><td>val_accuracy</td><td>▁▆▇██</td></tr><tr><td>val_loss</td><td>█▄▂▁▁</td></tr></table><br/></div><div class=\"wandb-col\"><h3>Run summary:</h3><br/><table class=\"wandb\"><tr><td>epoch</td><td>5</td></tr><tr><td>loss_type</td><td>mse</td></tr><tr><td>train_loss</td><td>0.17616</td></tr><tr><td>val_accuracy</td><td>0.86708</td></tr><tr><td>val_loss</td><td>0.18711</td></tr></table><br/></div></div>"
            ]
          },
          "metadata": {}
        },
        {
          "output_type": "display_data",
          "data": {
            "text/plain": [
              "<IPython.core.display.HTML object>"
            ],
            "text/html": [
              " View run <strong style=\"color:#cdcd00\">exalted-sweep-38</strong> at: <a href='https://wandb.ai/ma23m021-iit-madras/MA23M021_A1_Q8_MSE/runs/7cjte3qf' target=\"_blank\">https://wandb.ai/ma23m021-iit-madras/MA23M021_A1_Q8_MSE/runs/7cjte3qf</a><br> View project at: <a href='https://wandb.ai/ma23m021-iit-madras/MA23M021_A1_Q8_MSE' target=\"_blank\">https://wandb.ai/ma23m021-iit-madras/MA23M021_A1_Q8_MSE</a><br>Synced 5 W&B file(s), 0 media file(s), 0 artifact file(s) and 0 other file(s)"
            ]
          },
          "metadata": {}
        },
        {
          "output_type": "display_data",
          "data": {
            "text/plain": [
              "<IPython.core.display.HTML object>"
            ],
            "text/html": [
              "Find logs at: <code>./wandb/run-20250309_160358-7cjte3qf/logs</code>"
            ]
          },
          "metadata": {}
        },
        {
          "output_type": "stream",
          "name": "stderr",
          "text": [
            "\u001b[34m\u001b[1mwandb\u001b[0m: Agent Starting Run: 38xw9xlc with config:\n",
            "\u001b[34m\u001b[1mwandb\u001b[0m: \tactivation_function: tanh\n",
            "\u001b[34m\u001b[1mwandb\u001b[0m: \tbatch_size: 16\n",
            "\u001b[34m\u001b[1mwandb\u001b[0m: \tepochs: 10\n",
            "\u001b[34m\u001b[1mwandb\u001b[0m: \thidden_layer_size: 64\n",
            "\u001b[34m\u001b[1mwandb\u001b[0m: \tlearningg_rate_: 0.001\n",
            "\u001b[34m\u001b[1mwandb\u001b[0m: \tloss_type: mse\n",
            "\u001b[34m\u001b[1mwandb\u001b[0m: \tnum_hidden_layers: 3\n",
            "\u001b[34m\u001b[1mwandb\u001b[0m: \toptimizer: nadam\n",
            "\u001b[34m\u001b[1mwandb\u001b[0m: \tweight_initialization: xavier\n"
          ]
        },
        {
          "output_type": "display_data",
          "data": {
            "text/plain": [
              "<IPython.core.display.HTML object>"
            ],
            "text/html": [
              "Ignoring project 'MA23M021_A1_Q8_MSE' when running a sweep."
            ]
          },
          "metadata": {}
        },
        {
          "output_type": "display_data",
          "data": {
            "text/plain": [
              "<IPython.core.display.HTML object>"
            ],
            "text/html": [
              "Tracking run with wandb version 0.19.7"
            ]
          },
          "metadata": {}
        },
        {
          "output_type": "display_data",
          "data": {
            "text/plain": [
              "<IPython.core.display.HTML object>"
            ],
            "text/html": [
              "Run data is saved locally in <code>/content/wandb/run-20250309_160504-38xw9xlc</code>"
            ]
          },
          "metadata": {}
        },
        {
          "output_type": "display_data",
          "data": {
            "text/plain": [
              "<IPython.core.display.HTML object>"
            ],
            "text/html": [
              "Syncing run <strong><a href='https://wandb.ai/ma23m021-iit-madras/MA23M021_A1_Q8_MSE/runs/38xw9xlc' target=\"_blank\">grateful-sweep-39</a></strong> to <a href='https://wandb.ai/ma23m021-iit-madras/MA23M021_A1_Q8_MSE' target=\"_blank\">Weights & Biases</a> (<a href='https://wandb.me/developer-guide' target=\"_blank\">docs</a>)<br>Sweep page: <a href='https://wandb.ai/ma23m021-iit-madras/MA23M021_A1_Q8_MSE/sweeps/205o72nt' target=\"_blank\">https://wandb.ai/ma23m021-iit-madras/MA23M021_A1_Q8_MSE/sweeps/205o72nt</a>"
            ]
          },
          "metadata": {}
        },
        {
          "output_type": "display_data",
          "data": {
            "text/plain": [
              "<IPython.core.display.HTML object>"
            ],
            "text/html": [
              " View project at <a href='https://wandb.ai/ma23m021-iit-madras/MA23M021_A1_Q8_MSE' target=\"_blank\">https://wandb.ai/ma23m021-iit-madras/MA23M021_A1_Q8_MSE</a>"
            ]
          },
          "metadata": {}
        },
        {
          "output_type": "display_data",
          "data": {
            "text/plain": [
              "<IPython.core.display.HTML object>"
            ],
            "text/html": [
              " View sweep at <a href='https://wandb.ai/ma23m021-iit-madras/MA23M021_A1_Q8_MSE/sweeps/205o72nt' target=\"_blank\">https://wandb.ai/ma23m021-iit-madras/MA23M021_A1_Q8_MSE/sweeps/205o72nt</a>"
            ]
          },
          "metadata": {}
        },
        {
          "output_type": "display_data",
          "data": {
            "text/plain": [
              "<IPython.core.display.HTML object>"
            ],
            "text/html": [
              " View run at <a href='https://wandb.ai/ma23m021-iit-madras/MA23M021_A1_Q8_MSE/runs/38xw9xlc' target=\"_blank\">https://wandb.ai/ma23m021-iit-madras/MA23M021_A1_Q8_MSE/runs/38xw9xlc</a>"
            ]
          },
          "metadata": {}
        },
        {
          "output_type": "stream",
          "name": "stdout",
          "text": [
            "Epoch 1/10, mse - Train Loss: 0.3342, Val Loss: 0.2177, Val Accuracy: 0.8464\n",
            "Epoch 2/10, mse - Train Loss: 0.2060, Val Loss: 0.1996, Val Accuracy: 0.8598\n",
            "Epoch 3/10, mse - Train Loss: 0.1895, Val Loss: 0.2107, Val Accuracy: 0.8514\n",
            "Epoch 4/10, mse - Train Loss: 0.1793, Val Loss: 0.1796, Val Accuracy: 0.8744\n",
            "Epoch 5/10, mse - Train Loss: 0.1720, Val Loss: 0.1791, Val Accuracy: 0.8746\n",
            "Epoch 6/10, mse - Train Loss: 0.1663, Val Loss: 0.1800, Val Accuracy: 0.8740\n",
            "Epoch 7/10, mse - Train Loss: 0.1595, Val Loss: 0.1745, Val Accuracy: 0.8758\n",
            "Epoch 8/10, mse - Train Loss: 0.1553, Val Loss: 0.1772, Val Accuracy: 0.8758\n",
            "Epoch 9/10, mse - Train Loss: 0.1526, Val Loss: 0.1786, Val Accuracy: 0.8751\n",
            "Epoch 10/10, mse - Train Loss: 0.1479, Val Loss: 0.1703, Val Accuracy: 0.8831\n"
          ]
        },
        {
          "output_type": "display_data",
          "data": {
            "text/plain": [
              "<IPython.core.display.HTML object>"
            ],
            "text/html": []
          },
          "metadata": {}
        },
        {
          "output_type": "display_data",
          "data": {
            "text/plain": [
              "<IPython.core.display.HTML object>"
            ],
            "text/html": [
              "<br>    <style><br>        .wandb-row {<br>            display: flex;<br>            flex-direction: row;<br>            flex-wrap: wrap;<br>            justify-content: flex-start;<br>            width: 100%;<br>        }<br>        .wandb-col {<br>            display: flex;<br>            flex-direction: column;<br>            flex-basis: 100%;<br>            flex: 1;<br>            padding: 10px;<br>        }<br>    </style><br><div class=\"wandb-row\"><div class=\"wandb-col\"><h3>Run history:</h3><br/><table class=\"wandb\"><tr><td>epoch</td><td>▁▂▃▃▄▅▆▆▇█</td></tr><tr><td>train_loss</td><td>█▃▃▂▂▂▁▁▁▁</td></tr><tr><td>val_accuracy</td><td>▁▄▂▆▆▆▇▇▆█</td></tr><tr><td>val_loss</td><td>█▅▇▂▂▂▂▂▂▁</td></tr></table><br/></div><div class=\"wandb-col\"><h3>Run summary:</h3><br/><table class=\"wandb\"><tr><td>epoch</td><td>10</td></tr><tr><td>loss_type</td><td>mse</td></tr><tr><td>train_loss</td><td>0.14786</td></tr><tr><td>val_accuracy</td><td>0.88308</td></tr><tr><td>val_loss</td><td>0.17032</td></tr></table><br/></div></div>"
            ]
          },
          "metadata": {}
        },
        {
          "output_type": "display_data",
          "data": {
            "text/plain": [
              "<IPython.core.display.HTML object>"
            ],
            "text/html": [
              " View run <strong style=\"color:#cdcd00\">grateful-sweep-39</strong> at: <a href='https://wandb.ai/ma23m021-iit-madras/MA23M021_A1_Q8_MSE/runs/38xw9xlc' target=\"_blank\">https://wandb.ai/ma23m021-iit-madras/MA23M021_A1_Q8_MSE/runs/38xw9xlc</a><br> View project at: <a href='https://wandb.ai/ma23m021-iit-madras/MA23M021_A1_Q8_MSE' target=\"_blank\">https://wandb.ai/ma23m021-iit-madras/MA23M021_A1_Q8_MSE</a><br>Synced 5 W&B file(s), 0 media file(s), 0 artifact file(s) and 0 other file(s)"
            ]
          },
          "metadata": {}
        },
        {
          "output_type": "display_data",
          "data": {
            "text/plain": [
              "<IPython.core.display.HTML object>"
            ],
            "text/html": [
              "Find logs at: <code>./wandb/run-20250309_160504-38xw9xlc/logs</code>"
            ]
          },
          "metadata": {}
        },
        {
          "output_type": "stream",
          "name": "stderr",
          "text": [
            "\u001b[34m\u001b[1mwandb\u001b[0m: Agent Starting Run: 8gko6ba6 with config:\n",
            "\u001b[34m\u001b[1mwandb\u001b[0m: \tactivation_function: tanh\n",
            "\u001b[34m\u001b[1mwandb\u001b[0m: \tbatch_size: 16\n",
            "\u001b[34m\u001b[1mwandb\u001b[0m: \tepochs: 5\n",
            "\u001b[34m\u001b[1mwandb\u001b[0m: \thidden_layer_size: 32\n",
            "\u001b[34m\u001b[1mwandb\u001b[0m: \tlearningg_rate_: 0.001\n",
            "\u001b[34m\u001b[1mwandb\u001b[0m: \tloss_type: mse\n",
            "\u001b[34m\u001b[1mwandb\u001b[0m: \tnum_hidden_layers: 5\n",
            "\u001b[34m\u001b[1mwandb\u001b[0m: \toptimizer: nadam\n",
            "\u001b[34m\u001b[1mwandb\u001b[0m: \tweight_initialization: random\n"
          ]
        },
        {
          "output_type": "display_data",
          "data": {
            "text/plain": [
              "<IPython.core.display.HTML object>"
            ],
            "text/html": [
              "Ignoring project 'MA23M021_A1_Q8_MSE' when running a sweep."
            ]
          },
          "metadata": {}
        },
        {
          "output_type": "display_data",
          "data": {
            "text/plain": [
              "<IPython.core.display.HTML object>"
            ],
            "text/html": [
              "Tracking run with wandb version 0.19.7"
            ]
          },
          "metadata": {}
        },
        {
          "output_type": "display_data",
          "data": {
            "text/plain": [
              "<IPython.core.display.HTML object>"
            ],
            "text/html": [
              "Run data is saved locally in <code>/content/wandb/run-20250309_160652-8gko6ba6</code>"
            ]
          },
          "metadata": {}
        },
        {
          "output_type": "display_data",
          "data": {
            "text/plain": [
              "<IPython.core.display.HTML object>"
            ],
            "text/html": [
              "Syncing run <strong><a href='https://wandb.ai/ma23m021-iit-madras/MA23M021_A1_Q8_MSE/runs/8gko6ba6' target=\"_blank\">desert-sweep-40</a></strong> to <a href='https://wandb.ai/ma23m021-iit-madras/MA23M021_A1_Q8_MSE' target=\"_blank\">Weights & Biases</a> (<a href='https://wandb.me/developer-guide' target=\"_blank\">docs</a>)<br>Sweep page: <a href='https://wandb.ai/ma23m021-iit-madras/MA23M021_A1_Q8_MSE/sweeps/205o72nt' target=\"_blank\">https://wandb.ai/ma23m021-iit-madras/MA23M021_A1_Q8_MSE/sweeps/205o72nt</a>"
            ]
          },
          "metadata": {}
        },
        {
          "output_type": "display_data",
          "data": {
            "text/plain": [
              "<IPython.core.display.HTML object>"
            ],
            "text/html": [
              " View project at <a href='https://wandb.ai/ma23m021-iit-madras/MA23M021_A1_Q8_MSE' target=\"_blank\">https://wandb.ai/ma23m021-iit-madras/MA23M021_A1_Q8_MSE</a>"
            ]
          },
          "metadata": {}
        },
        {
          "output_type": "display_data",
          "data": {
            "text/plain": [
              "<IPython.core.display.HTML object>"
            ],
            "text/html": [
              " View sweep at <a href='https://wandb.ai/ma23m021-iit-madras/MA23M021_A1_Q8_MSE/sweeps/205o72nt' target=\"_blank\">https://wandb.ai/ma23m021-iit-madras/MA23M021_A1_Q8_MSE/sweeps/205o72nt</a>"
            ]
          },
          "metadata": {}
        },
        {
          "output_type": "display_data",
          "data": {
            "text/plain": [
              "<IPython.core.display.HTML object>"
            ],
            "text/html": [
              " View run at <a href='https://wandb.ai/ma23m021-iit-madras/MA23M021_A1_Q8_MSE/runs/8gko6ba6' target=\"_blank\">https://wandb.ai/ma23m021-iit-madras/MA23M021_A1_Q8_MSE/runs/8gko6ba6</a>"
            ]
          },
          "metadata": {}
        },
        {
          "output_type": "stream",
          "name": "stdout",
          "text": [
            "Epoch 1/5, mse - Train Loss: 0.8579, Val Loss: 0.8167, Val Accuracy: 0.2028\n",
            "Epoch 2/5, mse - Train Loss: 0.7465, Val Loss: 0.6777, Val Accuracy: 0.4776\n",
            "Epoch 3/5, mse - Train Loss: 0.6054, Val Loss: 0.5618, Val Accuracy: 0.5550\n",
            "Epoch 4/5, mse - Train Loss: 0.5205, Val Loss: 0.5075, Val Accuracy: 0.5787\n",
            "Epoch 5/5, mse - Train Loss: 0.4984, Val Loss: 0.5062, Val Accuracy: 0.5655\n"
          ]
        },
        {
          "output_type": "display_data",
          "data": {
            "text/plain": [
              "<IPython.core.display.HTML object>"
            ],
            "text/html": []
          },
          "metadata": {}
        },
        {
          "output_type": "display_data",
          "data": {
            "text/plain": [
              "<IPython.core.display.HTML object>"
            ],
            "text/html": [
              "<br>    <style><br>        .wandb-row {<br>            display: flex;<br>            flex-direction: row;<br>            flex-wrap: wrap;<br>            justify-content: flex-start;<br>            width: 100%;<br>        }<br>        .wandb-col {<br>            display: flex;<br>            flex-direction: column;<br>            flex-basis: 100%;<br>            flex: 1;<br>            padding: 10px;<br>        }<br>    </style><br><div class=\"wandb-row\"><div class=\"wandb-col\"><h3>Run history:</h3><br/><table class=\"wandb\"><tr><td>epoch</td><td>▁▃▅▆█</td></tr><tr><td>train_loss</td><td>█▆▃▁▁</td></tr><tr><td>val_accuracy</td><td>▁▆███</td></tr><tr><td>val_loss</td><td>█▅▂▁▁</td></tr></table><br/></div><div class=\"wandb-col\"><h3>Run summary:</h3><br/><table class=\"wandb\"><tr><td>epoch</td><td>5</td></tr><tr><td>loss_type</td><td>mse</td></tr><tr><td>train_loss</td><td>0.4984</td></tr><tr><td>val_accuracy</td><td>0.5655</td></tr><tr><td>val_loss</td><td>0.5062</td></tr></table><br/></div></div>"
            ]
          },
          "metadata": {}
        },
        {
          "output_type": "display_data",
          "data": {
            "text/plain": [
              "<IPython.core.display.HTML object>"
            ],
            "text/html": [
              " View run <strong style=\"color:#cdcd00\">desert-sweep-40</strong> at: <a href='https://wandb.ai/ma23m021-iit-madras/MA23M021_A1_Q8_MSE/runs/8gko6ba6' target=\"_blank\">https://wandb.ai/ma23m021-iit-madras/MA23M021_A1_Q8_MSE/runs/8gko6ba6</a><br> View project at: <a href='https://wandb.ai/ma23m021-iit-madras/MA23M021_A1_Q8_MSE' target=\"_blank\">https://wandb.ai/ma23m021-iit-madras/MA23M021_A1_Q8_MSE</a><br>Synced 5 W&B file(s), 0 media file(s), 0 artifact file(s) and 0 other file(s)"
            ]
          },
          "metadata": {}
        },
        {
          "output_type": "display_data",
          "data": {
            "text/plain": [
              "<IPython.core.display.HTML object>"
            ],
            "text/html": [
              "Find logs at: <code>./wandb/run-20250309_160652-8gko6ba6/logs</code>"
            ]
          },
          "metadata": {}
        },
        {
          "output_type": "stream",
          "name": "stderr",
          "text": [
            "\u001b[34m\u001b[1mwandb\u001b[0m: Sweep Agent: Waiting for job.\n",
            "\u001b[34m\u001b[1mwandb\u001b[0m: Job received.\n",
            "\u001b[34m\u001b[1mwandb\u001b[0m: Agent Starting Run: bfb1h35y with config:\n",
            "\u001b[34m\u001b[1mwandb\u001b[0m: \tactivation_function: tanh\n",
            "\u001b[34m\u001b[1mwandb\u001b[0m: \tbatch_size: 16\n",
            "\u001b[34m\u001b[1mwandb\u001b[0m: \tepochs: 5\n",
            "\u001b[34m\u001b[1mwandb\u001b[0m: \thidden_layer_size: 32\n",
            "\u001b[34m\u001b[1mwandb\u001b[0m: \tlearningg_rate_: 0.001\n",
            "\u001b[34m\u001b[1mwandb\u001b[0m: \tloss_type: mse\n",
            "\u001b[34m\u001b[1mwandb\u001b[0m: \tnum_hidden_layers: 4\n",
            "\u001b[34m\u001b[1mwandb\u001b[0m: \toptimizer: nadam\n",
            "\u001b[34m\u001b[1mwandb\u001b[0m: \tweight_initialization: xavier\n"
          ]
        },
        {
          "output_type": "display_data",
          "data": {
            "text/plain": [
              "<IPython.core.display.HTML object>"
            ],
            "text/html": [
              "Ignoring project 'MA23M021_A1_Q8_MSE' when running a sweep."
            ]
          },
          "metadata": {}
        },
        {
          "output_type": "display_data",
          "data": {
            "text/plain": [
              "<IPython.core.display.HTML object>"
            ],
            "text/html": [
              "Tracking run with wandb version 0.19.7"
            ]
          },
          "metadata": {}
        },
        {
          "output_type": "display_data",
          "data": {
            "text/plain": [
              "<IPython.core.display.HTML object>"
            ],
            "text/html": [
              "Run data is saved locally in <code>/content/wandb/run-20250309_160753-bfb1h35y</code>"
            ]
          },
          "metadata": {}
        },
        {
          "output_type": "display_data",
          "data": {
            "text/plain": [
              "<IPython.core.display.HTML object>"
            ],
            "text/html": [
              "Syncing run <strong><a href='https://wandb.ai/ma23m021-iit-madras/MA23M021_A1_Q8_MSE/runs/bfb1h35y' target=\"_blank\">silver-sweep-41</a></strong> to <a href='https://wandb.ai/ma23m021-iit-madras/MA23M021_A1_Q8_MSE' target=\"_blank\">Weights & Biases</a> (<a href='https://wandb.me/developer-guide' target=\"_blank\">docs</a>)<br>Sweep page: <a href='https://wandb.ai/ma23m021-iit-madras/MA23M021_A1_Q8_MSE/sweeps/205o72nt' target=\"_blank\">https://wandb.ai/ma23m021-iit-madras/MA23M021_A1_Q8_MSE/sweeps/205o72nt</a>"
            ]
          },
          "metadata": {}
        },
        {
          "output_type": "display_data",
          "data": {
            "text/plain": [
              "<IPython.core.display.HTML object>"
            ],
            "text/html": [
              " View project at <a href='https://wandb.ai/ma23m021-iit-madras/MA23M021_A1_Q8_MSE' target=\"_blank\">https://wandb.ai/ma23m021-iit-madras/MA23M021_A1_Q8_MSE</a>"
            ]
          },
          "metadata": {}
        },
        {
          "output_type": "display_data",
          "data": {
            "text/plain": [
              "<IPython.core.display.HTML object>"
            ],
            "text/html": [
              " View sweep at <a href='https://wandb.ai/ma23m021-iit-madras/MA23M021_A1_Q8_MSE/sweeps/205o72nt' target=\"_blank\">https://wandb.ai/ma23m021-iit-madras/MA23M021_A1_Q8_MSE/sweeps/205o72nt</a>"
            ]
          },
          "metadata": {}
        },
        {
          "output_type": "display_data",
          "data": {
            "text/plain": [
              "<IPython.core.display.HTML object>"
            ],
            "text/html": [
              " View run at <a href='https://wandb.ai/ma23m021-iit-madras/MA23M021_A1_Q8_MSE/runs/bfb1h35y' target=\"_blank\">https://wandb.ai/ma23m021-iit-madras/MA23M021_A1_Q8_MSE/runs/bfb1h35y</a>"
            ]
          },
          "metadata": {}
        },
        {
          "output_type": "stream",
          "name": "stdout",
          "text": [
            "Epoch 1/5, mse - Train Loss: 0.4993, Val Loss: 0.2806, Val Accuracy: 0.8099\n",
            "Epoch 2/5, mse - Train Loss: 0.2330, Val Loss: 0.2155, Val Accuracy: 0.8512\n",
            "Epoch 3/5, mse - Train Loss: 0.2088, Val Loss: 0.2073, Val Accuracy: 0.8546\n",
            "Epoch 4/5, mse - Train Loss: 0.1959, Val Loss: 0.1994, Val Accuracy: 0.8591\n",
            "Epoch 5/5, mse - Train Loss: 0.1868, Val Loss: 0.1970, Val Accuracy: 0.8620\n"
          ]
        },
        {
          "output_type": "display_data",
          "data": {
            "text/plain": [
              "<IPython.core.display.HTML object>"
            ],
            "text/html": []
          },
          "metadata": {}
        },
        {
          "output_type": "display_data",
          "data": {
            "text/plain": [
              "<IPython.core.display.HTML object>"
            ],
            "text/html": [
              "<br>    <style><br>        .wandb-row {<br>            display: flex;<br>            flex-direction: row;<br>            flex-wrap: wrap;<br>            justify-content: flex-start;<br>            width: 100%;<br>        }<br>        .wandb-col {<br>            display: flex;<br>            flex-direction: column;<br>            flex-basis: 100%;<br>            flex: 1;<br>            padding: 10px;<br>        }<br>    </style><br><div class=\"wandb-row\"><div class=\"wandb-col\"><h3>Run history:</h3><br/><table class=\"wandb\"><tr><td>epoch</td><td>▁▃▅▆█</td></tr><tr><td>train_loss</td><td>█▂▁▁▁</td></tr><tr><td>val_accuracy</td><td>▁▇▇██</td></tr><tr><td>val_loss</td><td>█▃▂▁▁</td></tr></table><br/></div><div class=\"wandb-col\"><h3>Run summary:</h3><br/><table class=\"wandb\"><tr><td>epoch</td><td>5</td></tr><tr><td>loss_type</td><td>mse</td></tr><tr><td>train_loss</td><td>0.18675</td></tr><tr><td>val_accuracy</td><td>0.862</td></tr><tr><td>val_loss</td><td>0.19699</td></tr></table><br/></div></div>"
            ]
          },
          "metadata": {}
        },
        {
          "output_type": "display_data",
          "data": {
            "text/plain": [
              "<IPython.core.display.HTML object>"
            ],
            "text/html": [
              " View run <strong style=\"color:#cdcd00\">silver-sweep-41</strong> at: <a href='https://wandb.ai/ma23m021-iit-madras/MA23M021_A1_Q8_MSE/runs/bfb1h35y' target=\"_blank\">https://wandb.ai/ma23m021-iit-madras/MA23M021_A1_Q8_MSE/runs/bfb1h35y</a><br> View project at: <a href='https://wandb.ai/ma23m021-iit-madras/MA23M021_A1_Q8_MSE' target=\"_blank\">https://wandb.ai/ma23m021-iit-madras/MA23M021_A1_Q8_MSE</a><br>Synced 5 W&B file(s), 0 media file(s), 0 artifact file(s) and 0 other file(s)"
            ]
          },
          "metadata": {}
        },
        {
          "output_type": "display_data",
          "data": {
            "text/plain": [
              "<IPython.core.display.HTML object>"
            ],
            "text/html": [
              "Find logs at: <code>./wandb/run-20250309_160753-bfb1h35y/logs</code>"
            ]
          },
          "metadata": {}
        },
        {
          "output_type": "stream",
          "name": "stderr",
          "text": [
            "\u001b[34m\u001b[1mwandb\u001b[0m: Agent Starting Run: 8lhe6si8 with config:\n",
            "\u001b[34m\u001b[1mwandb\u001b[0m: \tactivation_function: tanh\n",
            "\u001b[34m\u001b[1mwandb\u001b[0m: \tbatch_size: 16\n",
            "\u001b[34m\u001b[1mwandb\u001b[0m: \tepochs: 10\n",
            "\u001b[34m\u001b[1mwandb\u001b[0m: \thidden_layer_size: 64\n",
            "\u001b[34m\u001b[1mwandb\u001b[0m: \tlearningg_rate_: 0.001\n",
            "\u001b[34m\u001b[1mwandb\u001b[0m: \tloss_type: mse\n",
            "\u001b[34m\u001b[1mwandb\u001b[0m: \tnum_hidden_layers: 3\n",
            "\u001b[34m\u001b[1mwandb\u001b[0m: \toptimizer: nadam\n",
            "\u001b[34m\u001b[1mwandb\u001b[0m: \tweight_initialization: xavier\n"
          ]
        },
        {
          "output_type": "display_data",
          "data": {
            "text/plain": [
              "<IPython.core.display.HTML object>"
            ],
            "text/html": [
              "Ignoring project 'MA23M021_A1_Q8_MSE' when running a sweep."
            ]
          },
          "metadata": {}
        },
        {
          "output_type": "display_data",
          "data": {
            "text/plain": [
              "<IPython.core.display.HTML object>"
            ],
            "text/html": [
              "Tracking run with wandb version 0.19.7"
            ]
          },
          "metadata": {}
        },
        {
          "output_type": "display_data",
          "data": {
            "text/plain": [
              "<IPython.core.display.HTML object>"
            ],
            "text/html": [
              "Run data is saved locally in <code>/content/wandb/run-20250309_160838-8lhe6si8</code>"
            ]
          },
          "metadata": {}
        },
        {
          "output_type": "display_data",
          "data": {
            "text/plain": [
              "<IPython.core.display.HTML object>"
            ],
            "text/html": [
              "Syncing run <strong><a href='https://wandb.ai/ma23m021-iit-madras/MA23M021_A1_Q8_MSE/runs/8lhe6si8' target=\"_blank\">radiant-sweep-42</a></strong> to <a href='https://wandb.ai/ma23m021-iit-madras/MA23M021_A1_Q8_MSE' target=\"_blank\">Weights & Biases</a> (<a href='https://wandb.me/developer-guide' target=\"_blank\">docs</a>)<br>Sweep page: <a href='https://wandb.ai/ma23m021-iit-madras/MA23M021_A1_Q8_MSE/sweeps/205o72nt' target=\"_blank\">https://wandb.ai/ma23m021-iit-madras/MA23M021_A1_Q8_MSE/sweeps/205o72nt</a>"
            ]
          },
          "metadata": {}
        },
        {
          "output_type": "display_data",
          "data": {
            "text/plain": [
              "<IPython.core.display.HTML object>"
            ],
            "text/html": [
              " View project at <a href='https://wandb.ai/ma23m021-iit-madras/MA23M021_A1_Q8_MSE' target=\"_blank\">https://wandb.ai/ma23m021-iit-madras/MA23M021_A1_Q8_MSE</a>"
            ]
          },
          "metadata": {}
        },
        {
          "output_type": "display_data",
          "data": {
            "text/plain": [
              "<IPython.core.display.HTML object>"
            ],
            "text/html": [
              " View sweep at <a href='https://wandb.ai/ma23m021-iit-madras/MA23M021_A1_Q8_MSE/sweeps/205o72nt' target=\"_blank\">https://wandb.ai/ma23m021-iit-madras/MA23M021_A1_Q8_MSE/sweeps/205o72nt</a>"
            ]
          },
          "metadata": {}
        },
        {
          "output_type": "display_data",
          "data": {
            "text/plain": [
              "<IPython.core.display.HTML object>"
            ],
            "text/html": [
              " View run at <a href='https://wandb.ai/ma23m021-iit-madras/MA23M021_A1_Q8_MSE/runs/8lhe6si8' target=\"_blank\">https://wandb.ai/ma23m021-iit-madras/MA23M021_A1_Q8_MSE/runs/8lhe6si8</a>"
            ]
          },
          "metadata": {}
        },
        {
          "output_type": "stream",
          "name": "stdout",
          "text": [
            "Epoch 1/10, mse - Train Loss: 0.3341, Val Loss: 0.2285, Val Accuracy: 0.8401\n",
            "Epoch 2/10, mse - Train Loss: 0.2069, Val Loss: 0.2177, Val Accuracy: 0.8441\n",
            "Epoch 3/10, mse - Train Loss: 0.1890, Val Loss: 0.1962, Val Accuracy: 0.8603\n",
            "Epoch 4/10, mse - Train Loss: 0.1788, Val Loss: 0.1961, Val Accuracy: 0.8631\n",
            "Epoch 5/10, mse - Train Loss: 0.1709, Val Loss: 0.1842, Val Accuracy: 0.8690\n",
            "Epoch 6/10, mse - Train Loss: 0.1649, Val Loss: 0.1779, Val Accuracy: 0.8749\n",
            "Epoch 7/10, mse - Train Loss: 0.1600, Val Loss: 0.1789, Val Accuracy: 0.8742\n",
            "Epoch 8/10, mse - Train Loss: 0.1563, Val Loss: 0.1762, Val Accuracy: 0.8775\n",
            "Epoch 9/10, mse - Train Loss: 0.1507, Val Loss: 0.1723, Val Accuracy: 0.8812\n",
            "Epoch 10/10, mse - Train Loss: 0.1475, Val Loss: 0.1706, Val Accuracy: 0.8823\n"
          ]
        },
        {
          "output_type": "display_data",
          "data": {
            "text/plain": [
              "<IPython.core.display.HTML object>"
            ],
            "text/html": []
          },
          "metadata": {}
        },
        {
          "output_type": "display_data",
          "data": {
            "text/plain": [
              "<IPython.core.display.HTML object>"
            ],
            "text/html": [
              "<br>    <style><br>        .wandb-row {<br>            display: flex;<br>            flex-direction: row;<br>            flex-wrap: wrap;<br>            justify-content: flex-start;<br>            width: 100%;<br>        }<br>        .wandb-col {<br>            display: flex;<br>            flex-direction: column;<br>            flex-basis: 100%;<br>            flex: 1;<br>            padding: 10px;<br>        }<br>    </style><br><div class=\"wandb-row\"><div class=\"wandb-col\"><h3>Run history:</h3><br/><table class=\"wandb\"><tr><td>epoch</td><td>▁▂▃▃▄▅▆▆▇█</td></tr><tr><td>train_loss</td><td>█▃▃▂▂▂▁▁▁▁</td></tr><tr><td>val_accuracy</td><td>▁▂▄▅▆▇▇▇██</td></tr><tr><td>val_loss</td><td>█▇▄▄▃▂▂▂▁▁</td></tr></table><br/></div><div class=\"wandb-col\"><h3>Run summary:</h3><br/><table class=\"wandb\"><tr><td>epoch</td><td>10</td></tr><tr><td>loss_type</td><td>mse</td></tr><tr><td>train_loss</td><td>0.14749</td></tr><tr><td>val_accuracy</td><td>0.88233</td></tr><tr><td>val_loss</td><td>0.17055</td></tr></table><br/></div></div>"
            ]
          },
          "metadata": {}
        },
        {
          "output_type": "display_data",
          "data": {
            "text/plain": [
              "<IPython.core.display.HTML object>"
            ],
            "text/html": [
              " View run <strong style=\"color:#cdcd00\">radiant-sweep-42</strong> at: <a href='https://wandb.ai/ma23m021-iit-madras/MA23M021_A1_Q8_MSE/runs/8lhe6si8' target=\"_blank\">https://wandb.ai/ma23m021-iit-madras/MA23M021_A1_Q8_MSE/runs/8lhe6si8</a><br> View project at: <a href='https://wandb.ai/ma23m021-iit-madras/MA23M021_A1_Q8_MSE' target=\"_blank\">https://wandb.ai/ma23m021-iit-madras/MA23M021_A1_Q8_MSE</a><br>Synced 5 W&B file(s), 0 media file(s), 0 artifact file(s) and 0 other file(s)"
            ]
          },
          "metadata": {}
        },
        {
          "output_type": "display_data",
          "data": {
            "text/plain": [
              "<IPython.core.display.HTML object>"
            ],
            "text/html": [
              "Find logs at: <code>./wandb/run-20250309_160838-8lhe6si8/logs</code>"
            ]
          },
          "metadata": {}
        },
        {
          "output_type": "stream",
          "name": "stderr",
          "text": [
            "\u001b[34m\u001b[1mwandb\u001b[0m: Agent Starting Run: bcn87dq9 with config:\n",
            "\u001b[34m\u001b[1mwandb\u001b[0m: \tactivation_function: tanh\n",
            "\u001b[34m\u001b[1mwandb\u001b[0m: \tbatch_size: 16\n",
            "\u001b[34m\u001b[1mwandb\u001b[0m: \tepochs: 5\n",
            "\u001b[34m\u001b[1mwandb\u001b[0m: \thidden_layer_size: 128\n",
            "\u001b[34m\u001b[1mwandb\u001b[0m: \tlearningg_rate_: 0.001\n",
            "\u001b[34m\u001b[1mwandb\u001b[0m: \tloss_type: mse\n",
            "\u001b[34m\u001b[1mwandb\u001b[0m: \tnum_hidden_layers: 3\n",
            "\u001b[34m\u001b[1mwandb\u001b[0m: \toptimizer: nadam\n",
            "\u001b[34m\u001b[1mwandb\u001b[0m: \tweight_initialization: random\n"
          ]
        },
        {
          "output_type": "display_data",
          "data": {
            "text/plain": [
              "<IPython.core.display.HTML object>"
            ],
            "text/html": [
              "Ignoring project 'MA23M021_A1_Q8_MSE' when running a sweep."
            ]
          },
          "metadata": {}
        },
        {
          "output_type": "display_data",
          "data": {
            "text/plain": [
              "<IPython.core.display.HTML object>"
            ],
            "text/html": [
              "Tracking run with wandb version 0.19.7"
            ]
          },
          "metadata": {}
        },
        {
          "output_type": "display_data",
          "data": {
            "text/plain": [
              "<IPython.core.display.HTML object>"
            ],
            "text/html": [
              "Run data is saved locally in <code>/content/wandb/run-20250309_161025-bcn87dq9</code>"
            ]
          },
          "metadata": {}
        },
        {
          "output_type": "display_data",
          "data": {
            "text/plain": [
              "<IPython.core.display.HTML object>"
            ],
            "text/html": [
              "Syncing run <strong><a href='https://wandb.ai/ma23m021-iit-madras/MA23M021_A1_Q8_MSE/runs/bcn87dq9' target=\"_blank\">pious-sweep-43</a></strong> to <a href='https://wandb.ai/ma23m021-iit-madras/MA23M021_A1_Q8_MSE' target=\"_blank\">Weights & Biases</a> (<a href='https://wandb.me/developer-guide' target=\"_blank\">docs</a>)<br>Sweep page: <a href='https://wandb.ai/ma23m021-iit-madras/MA23M021_A1_Q8_MSE/sweeps/205o72nt' target=\"_blank\">https://wandb.ai/ma23m021-iit-madras/MA23M021_A1_Q8_MSE/sweeps/205o72nt</a>"
            ]
          },
          "metadata": {}
        },
        {
          "output_type": "display_data",
          "data": {
            "text/plain": [
              "<IPython.core.display.HTML object>"
            ],
            "text/html": [
              " View project at <a href='https://wandb.ai/ma23m021-iit-madras/MA23M021_A1_Q8_MSE' target=\"_blank\">https://wandb.ai/ma23m021-iit-madras/MA23M021_A1_Q8_MSE</a>"
            ]
          },
          "metadata": {}
        },
        {
          "output_type": "display_data",
          "data": {
            "text/plain": [
              "<IPython.core.display.HTML object>"
            ],
            "text/html": [
              " View sweep at <a href='https://wandb.ai/ma23m021-iit-madras/MA23M021_A1_Q8_MSE/sweeps/205o72nt' target=\"_blank\">https://wandb.ai/ma23m021-iit-madras/MA23M021_A1_Q8_MSE/sweeps/205o72nt</a>"
            ]
          },
          "metadata": {}
        },
        {
          "output_type": "display_data",
          "data": {
            "text/plain": [
              "<IPython.core.display.HTML object>"
            ],
            "text/html": [
              " View run at <a href='https://wandb.ai/ma23m021-iit-madras/MA23M021_A1_Q8_MSE/runs/bcn87dq9' target=\"_blank\">https://wandb.ai/ma23m021-iit-madras/MA23M021_A1_Q8_MSE/runs/bcn87dq9</a>"
            ]
          },
          "metadata": {}
        },
        {
          "output_type": "stream",
          "name": "stdout",
          "text": [
            "Epoch 1/5, mse - Train Loss: 0.4739, Val Loss: 0.2751, Val Accuracy: 0.8077\n",
            "Epoch 2/5, mse - Train Loss: 0.2396, Val Loss: 0.2259, Val Accuracy: 0.8414\n",
            "Epoch 3/5, mse - Train Loss: 0.2095, Val Loss: 0.2065, Val Accuracy: 0.8548\n",
            "Epoch 4/5, mse - Train Loss: 0.1938, Val Loss: 0.1879, Val Accuracy: 0.8697\n",
            "Epoch 5/5, mse - Train Loss: 0.1829, Val Loss: 0.1821, Val Accuracy: 0.8733\n"
          ]
        },
        {
          "output_type": "display_data",
          "data": {
            "text/plain": [
              "<IPython.core.display.HTML object>"
            ],
            "text/html": []
          },
          "metadata": {}
        },
        {
          "output_type": "display_data",
          "data": {
            "text/plain": [
              "<IPython.core.display.HTML object>"
            ],
            "text/html": [
              "<br>    <style><br>        .wandb-row {<br>            display: flex;<br>            flex-direction: row;<br>            flex-wrap: wrap;<br>            justify-content: flex-start;<br>            width: 100%;<br>        }<br>        .wandb-col {<br>            display: flex;<br>            flex-direction: column;<br>            flex-basis: 100%;<br>            flex: 1;<br>            padding: 10px;<br>        }<br>    </style><br><div class=\"wandb-row\"><div class=\"wandb-col\"><h3>Run history:</h3><br/><table class=\"wandb\"><tr><td>epoch</td><td>▁▃▅▆█</td></tr><tr><td>train_loss</td><td>█▂▂▁▁</td></tr><tr><td>val_accuracy</td><td>▁▅▆██</td></tr><tr><td>val_loss</td><td>█▄▃▁▁</td></tr></table><br/></div><div class=\"wandb-col\"><h3>Run summary:</h3><br/><table class=\"wandb\"><tr><td>epoch</td><td>5</td></tr><tr><td>loss_type</td><td>mse</td></tr><tr><td>train_loss</td><td>0.18288</td></tr><tr><td>val_accuracy</td><td>0.87333</td></tr><tr><td>val_loss</td><td>0.18208</td></tr></table><br/></div></div>"
            ]
          },
          "metadata": {}
        },
        {
          "output_type": "display_data",
          "data": {
            "text/plain": [
              "<IPython.core.display.HTML object>"
            ],
            "text/html": [
              " View run <strong style=\"color:#cdcd00\">pious-sweep-43</strong> at: <a href='https://wandb.ai/ma23m021-iit-madras/MA23M021_A1_Q8_MSE/runs/bcn87dq9' target=\"_blank\">https://wandb.ai/ma23m021-iit-madras/MA23M021_A1_Q8_MSE/runs/bcn87dq9</a><br> View project at: <a href='https://wandb.ai/ma23m021-iit-madras/MA23M021_A1_Q8_MSE' target=\"_blank\">https://wandb.ai/ma23m021-iit-madras/MA23M021_A1_Q8_MSE</a><br>Synced 5 W&B file(s), 0 media file(s), 0 artifact file(s) and 0 other file(s)"
            ]
          },
          "metadata": {}
        },
        {
          "output_type": "display_data",
          "data": {
            "text/plain": [
              "<IPython.core.display.HTML object>"
            ],
            "text/html": [
              "Find logs at: <code>./wandb/run-20250309_161025-bcn87dq9/logs</code>"
            ]
          },
          "metadata": {}
        },
        {
          "output_type": "stream",
          "name": "stderr",
          "text": [
            "\u001b[34m\u001b[1mwandb\u001b[0m: Agent Starting Run: 8q7vyoya with config:\n",
            "\u001b[34m\u001b[1mwandb\u001b[0m: \tactivation_function: tanh\n",
            "\u001b[34m\u001b[1mwandb\u001b[0m: \tbatch_size: 32\n",
            "\u001b[34m\u001b[1mwandb\u001b[0m: \tepochs: 5\n",
            "\u001b[34m\u001b[1mwandb\u001b[0m: \thidden_layer_size: 64\n",
            "\u001b[34m\u001b[1mwandb\u001b[0m: \tlearningg_rate_: 0.001\n",
            "\u001b[34m\u001b[1mwandb\u001b[0m: \tloss_type: mse\n",
            "\u001b[34m\u001b[1mwandb\u001b[0m: \tnum_hidden_layers: 3\n",
            "\u001b[34m\u001b[1mwandb\u001b[0m: \toptimizer: adam\n",
            "\u001b[34m\u001b[1mwandb\u001b[0m: \tweight_initialization: xavier\n"
          ]
        },
        {
          "output_type": "display_data",
          "data": {
            "text/plain": [
              "<IPython.core.display.HTML object>"
            ],
            "text/html": [
              "Ignoring project 'MA23M021_A1_Q8_MSE' when running a sweep."
            ]
          },
          "metadata": {}
        },
        {
          "output_type": "display_data",
          "data": {
            "text/plain": [
              "<IPython.core.display.HTML object>"
            ],
            "text/html": [
              "Tracking run with wandb version 0.19.7"
            ]
          },
          "metadata": {}
        },
        {
          "output_type": "display_data",
          "data": {
            "text/plain": [
              "<IPython.core.display.HTML object>"
            ],
            "text/html": [
              "Run data is saved locally in <code>/content/wandb/run-20250309_161207-8q7vyoya</code>"
            ]
          },
          "metadata": {}
        },
        {
          "output_type": "display_data",
          "data": {
            "text/plain": [
              "<IPython.core.display.HTML object>"
            ],
            "text/html": [
              "Syncing run <strong><a href='https://wandb.ai/ma23m021-iit-madras/MA23M021_A1_Q8_MSE/runs/8q7vyoya' target=\"_blank\">glamorous-sweep-44</a></strong> to <a href='https://wandb.ai/ma23m021-iit-madras/MA23M021_A1_Q8_MSE' target=\"_blank\">Weights & Biases</a> (<a href='https://wandb.me/developer-guide' target=\"_blank\">docs</a>)<br>Sweep page: <a href='https://wandb.ai/ma23m021-iit-madras/MA23M021_A1_Q8_MSE/sweeps/205o72nt' target=\"_blank\">https://wandb.ai/ma23m021-iit-madras/MA23M021_A1_Q8_MSE/sweeps/205o72nt</a>"
            ]
          },
          "metadata": {}
        },
        {
          "output_type": "display_data",
          "data": {
            "text/plain": [
              "<IPython.core.display.HTML object>"
            ],
            "text/html": [
              " View project at <a href='https://wandb.ai/ma23m021-iit-madras/MA23M021_A1_Q8_MSE' target=\"_blank\">https://wandb.ai/ma23m021-iit-madras/MA23M021_A1_Q8_MSE</a>"
            ]
          },
          "metadata": {}
        },
        {
          "output_type": "display_data",
          "data": {
            "text/plain": [
              "<IPython.core.display.HTML object>"
            ],
            "text/html": [
              " View sweep at <a href='https://wandb.ai/ma23m021-iit-madras/MA23M021_A1_Q8_MSE/sweeps/205o72nt' target=\"_blank\">https://wandb.ai/ma23m021-iit-madras/MA23M021_A1_Q8_MSE/sweeps/205o72nt</a>"
            ]
          },
          "metadata": {}
        },
        {
          "output_type": "display_data",
          "data": {
            "text/plain": [
              "<IPython.core.display.HTML object>"
            ],
            "text/html": [
              " View run at <a href='https://wandb.ai/ma23m021-iit-madras/MA23M021_A1_Q8_MSE/runs/8q7vyoya' target=\"_blank\">https://wandb.ai/ma23m021-iit-madras/MA23M021_A1_Q8_MSE/runs/8q7vyoya</a>"
            ]
          },
          "metadata": {}
        },
        {
          "output_type": "stream",
          "name": "stdout",
          "text": [
            "Epoch 1/5, mse - Train Loss: 0.4024, Val Loss: 0.2411, Val Accuracy: 0.8306\n",
            "Epoch 2/5, mse - Train Loss: 0.2158, Val Loss: 0.2249, Val Accuracy: 0.8393\n",
            "Epoch 3/5, mse - Train Loss: 0.1947, Val Loss: 0.2041, Val Accuracy: 0.8577\n",
            "Epoch 4/5, mse - Train Loss: 0.1818, Val Loss: 0.1976, Val Accuracy: 0.8607\n",
            "Epoch 5/5, mse - Train Loss: 0.1720, Val Loss: 0.1881, Val Accuracy: 0.8687\n"
          ]
        },
        {
          "output_type": "display_data",
          "data": {
            "text/plain": [
              "<IPython.core.display.HTML object>"
            ],
            "text/html": []
          },
          "metadata": {}
        },
        {
          "output_type": "display_data",
          "data": {
            "text/plain": [
              "<IPython.core.display.HTML object>"
            ],
            "text/html": [
              "<br>    <style><br>        .wandb-row {<br>            display: flex;<br>            flex-direction: row;<br>            flex-wrap: wrap;<br>            justify-content: flex-start;<br>            width: 100%;<br>        }<br>        .wandb-col {<br>            display: flex;<br>            flex-direction: column;<br>            flex-basis: 100%;<br>            flex: 1;<br>            padding: 10px;<br>        }<br>    </style><br><div class=\"wandb-row\"><div class=\"wandb-col\"><h3>Run history:</h3><br/><table class=\"wandb\"><tr><td>epoch</td><td>▁▃▅▆█</td></tr><tr><td>train_loss</td><td>█▂▂▁▁</td></tr><tr><td>val_accuracy</td><td>▁▃▆▇█</td></tr><tr><td>val_loss</td><td>█▆▃▂▁</td></tr></table><br/></div><div class=\"wandb-col\"><h3>Run summary:</h3><br/><table class=\"wandb\"><tr><td>epoch</td><td>5</td></tr><tr><td>loss_type</td><td>mse</td></tr><tr><td>train_loss</td><td>0.17199</td></tr><tr><td>val_accuracy</td><td>0.86867</td></tr><tr><td>val_loss</td><td>0.18807</td></tr></table><br/></div></div>"
            ]
          },
          "metadata": {}
        },
        {
          "output_type": "display_data",
          "data": {
            "text/plain": [
              "<IPython.core.display.HTML object>"
            ],
            "text/html": [
              " View run <strong style=\"color:#cdcd00\">glamorous-sweep-44</strong> at: <a href='https://wandb.ai/ma23m021-iit-madras/MA23M021_A1_Q8_MSE/runs/8q7vyoya' target=\"_blank\">https://wandb.ai/ma23m021-iit-madras/MA23M021_A1_Q8_MSE/runs/8q7vyoya</a><br> View project at: <a href='https://wandb.ai/ma23m021-iit-madras/MA23M021_A1_Q8_MSE' target=\"_blank\">https://wandb.ai/ma23m021-iit-madras/MA23M021_A1_Q8_MSE</a><br>Synced 5 W&B file(s), 0 media file(s), 0 artifact file(s) and 0 other file(s)"
            ]
          },
          "metadata": {}
        },
        {
          "output_type": "display_data",
          "data": {
            "text/plain": [
              "<IPython.core.display.HTML object>"
            ],
            "text/html": [
              "Find logs at: <code>./wandb/run-20250309_161207-8q7vyoya/logs</code>"
            ]
          },
          "metadata": {}
        },
        {
          "output_type": "stream",
          "name": "stderr",
          "text": [
            "\u001b[34m\u001b[1mwandb\u001b[0m: Agent Starting Run: 41tl12l7 with config:\n",
            "\u001b[34m\u001b[1mwandb\u001b[0m: \tactivation_function: tanh\n",
            "\u001b[34m\u001b[1mwandb\u001b[0m: \tbatch_size: 64\n",
            "\u001b[34m\u001b[1mwandb\u001b[0m: \tepochs: 10\n",
            "\u001b[34m\u001b[1mwandb\u001b[0m: \thidden_layer_size: 128\n",
            "\u001b[34m\u001b[1mwandb\u001b[0m: \tlearningg_rate_: 0.001\n",
            "\u001b[34m\u001b[1mwandb\u001b[0m: \tloss_type: mse\n",
            "\u001b[34m\u001b[1mwandb\u001b[0m: \tnum_hidden_layers: 3\n",
            "\u001b[34m\u001b[1mwandb\u001b[0m: \toptimizer: nadam\n",
            "\u001b[34m\u001b[1mwandb\u001b[0m: \tweight_initialization: xavier\n"
          ]
        },
        {
          "output_type": "display_data",
          "data": {
            "text/plain": [
              "<IPython.core.display.HTML object>"
            ],
            "text/html": [
              "Ignoring project 'MA23M021_A1_Q8_MSE' when running a sweep."
            ]
          },
          "metadata": {}
        },
        {
          "output_type": "display_data",
          "data": {
            "text/plain": [
              "<IPython.core.display.HTML object>"
            ],
            "text/html": [
              "Tracking run with wandb version 0.19.7"
            ]
          },
          "metadata": {}
        },
        {
          "output_type": "display_data",
          "data": {
            "text/plain": [
              "<IPython.core.display.HTML object>"
            ],
            "text/html": [
              "Run data is saved locally in <code>/content/wandb/run-20250309_161243-41tl12l7</code>"
            ]
          },
          "metadata": {}
        },
        {
          "output_type": "display_data",
          "data": {
            "text/plain": [
              "<IPython.core.display.HTML object>"
            ],
            "text/html": [
              "Syncing run <strong><a href='https://wandb.ai/ma23m021-iit-madras/MA23M021_A1_Q8_MSE/runs/41tl12l7' target=\"_blank\">fresh-sweep-45</a></strong> to <a href='https://wandb.ai/ma23m021-iit-madras/MA23M021_A1_Q8_MSE' target=\"_blank\">Weights & Biases</a> (<a href='https://wandb.me/developer-guide' target=\"_blank\">docs</a>)<br>Sweep page: <a href='https://wandb.ai/ma23m021-iit-madras/MA23M021_A1_Q8_MSE/sweeps/205o72nt' target=\"_blank\">https://wandb.ai/ma23m021-iit-madras/MA23M021_A1_Q8_MSE/sweeps/205o72nt</a>"
            ]
          },
          "metadata": {}
        },
        {
          "output_type": "display_data",
          "data": {
            "text/plain": [
              "<IPython.core.display.HTML object>"
            ],
            "text/html": [
              " View project at <a href='https://wandb.ai/ma23m021-iit-madras/MA23M021_A1_Q8_MSE' target=\"_blank\">https://wandb.ai/ma23m021-iit-madras/MA23M021_A1_Q8_MSE</a>"
            ]
          },
          "metadata": {}
        },
        {
          "output_type": "display_data",
          "data": {
            "text/plain": [
              "<IPython.core.display.HTML object>"
            ],
            "text/html": [
              " View sweep at <a href='https://wandb.ai/ma23m021-iit-madras/MA23M021_A1_Q8_MSE/sweeps/205o72nt' target=\"_blank\">https://wandb.ai/ma23m021-iit-madras/MA23M021_A1_Q8_MSE/sweeps/205o72nt</a>"
            ]
          },
          "metadata": {}
        },
        {
          "output_type": "display_data",
          "data": {
            "text/plain": [
              "<IPython.core.display.HTML object>"
            ],
            "text/html": [
              " View run at <a href='https://wandb.ai/ma23m021-iit-madras/MA23M021_A1_Q8_MSE/runs/41tl12l7' target=\"_blank\">https://wandb.ai/ma23m021-iit-madras/MA23M021_A1_Q8_MSE/runs/41tl12l7</a>"
            ]
          },
          "metadata": {}
        },
        {
          "output_type": "stream",
          "name": "stdout",
          "text": [
            "Epoch 1/10, mse - Train Loss: 0.3759, Val Loss: 0.2363, Val Accuracy: 0.8330\n",
            "Epoch 2/10, mse - Train Loss: 0.2149, Val Loss: 0.2115, Val Accuracy: 0.8510\n",
            "Epoch 3/10, mse - Train Loss: 0.1916, Val Loss: 0.1909, Val Accuracy: 0.8662\n",
            "Epoch 4/10, mse - Train Loss: 0.1795, Val Loss: 0.1868, Val Accuracy: 0.8675\n",
            "Epoch 5/10, mse - Train Loss: 0.1705, Val Loss: 0.1759, Val Accuracy: 0.8744\n",
            "Epoch 6/10, mse - Train Loss: 0.1620, Val Loss: 0.1682, Val Accuracy: 0.8832\n",
            "Epoch 7/10, mse - Train Loss: 0.1560, Val Loss: 0.1697, Val Accuracy: 0.8825\n",
            "Epoch 8/10, mse - Train Loss: 0.1508, Val Loss: 0.1810, Val Accuracy: 0.8724\n",
            "Epoch 9/10, mse - Train Loss: 0.1461, Val Loss: 0.1804, Val Accuracy: 0.8736\n",
            "Epoch 10/10, mse - Train Loss: 0.1423, Val Loss: 0.1660, Val Accuracy: 0.8852\n"
          ]
        },
        {
          "output_type": "display_data",
          "data": {
            "text/plain": [
              "<IPython.core.display.HTML object>"
            ],
            "text/html": []
          },
          "metadata": {}
        },
        {
          "output_type": "display_data",
          "data": {
            "text/plain": [
              "<IPython.core.display.HTML object>"
            ],
            "text/html": [
              "<br>    <style><br>        .wandb-row {<br>            display: flex;<br>            flex-direction: row;<br>            flex-wrap: wrap;<br>            justify-content: flex-start;<br>            width: 100%;<br>        }<br>        .wandb-col {<br>            display: flex;<br>            flex-direction: column;<br>            flex-basis: 100%;<br>            flex: 1;<br>            padding: 10px;<br>        }<br>    </style><br><div class=\"wandb-row\"><div class=\"wandb-col\"><h3>Run history:</h3><br/><table class=\"wandb\"><tr><td>epoch</td><td>▁▂▃▃▄▅▆▆▇█</td></tr><tr><td>train_loss</td><td>█▃▂▂▂▂▁▁▁▁</td></tr><tr><td>val_accuracy</td><td>▁▃▅▆▇██▆▆█</td></tr><tr><td>val_loss</td><td>█▆▃▃▂▁▁▂▂▁</td></tr></table><br/></div><div class=\"wandb-col\"><h3>Run summary:</h3><br/><table class=\"wandb\"><tr><td>epoch</td><td>10</td></tr><tr><td>loss_type</td><td>mse</td></tr><tr><td>train_loss</td><td>0.14227</td></tr><tr><td>val_accuracy</td><td>0.88517</td></tr><tr><td>val_loss</td><td>0.16603</td></tr></table><br/></div></div>"
            ]
          },
          "metadata": {}
        },
        {
          "output_type": "display_data",
          "data": {
            "text/plain": [
              "<IPython.core.display.HTML object>"
            ],
            "text/html": [
              " View run <strong style=\"color:#cdcd00\">fresh-sweep-45</strong> at: <a href='https://wandb.ai/ma23m021-iit-madras/MA23M021_A1_Q8_MSE/runs/41tl12l7' target=\"_blank\">https://wandb.ai/ma23m021-iit-madras/MA23M021_A1_Q8_MSE/runs/41tl12l7</a><br> View project at: <a href='https://wandb.ai/ma23m021-iit-madras/MA23M021_A1_Q8_MSE' target=\"_blank\">https://wandb.ai/ma23m021-iit-madras/MA23M021_A1_Q8_MSE</a><br>Synced 5 W&B file(s), 0 media file(s), 0 artifact file(s) and 0 other file(s)"
            ]
          },
          "metadata": {}
        },
        {
          "output_type": "display_data",
          "data": {
            "text/plain": [
              "<IPython.core.display.HTML object>"
            ],
            "text/html": [
              "Find logs at: <code>./wandb/run-20250309_161243-41tl12l7/logs</code>"
            ]
          },
          "metadata": {}
        },
        {
          "output_type": "stream",
          "name": "stderr",
          "text": [
            "\u001b[34m\u001b[1mwandb\u001b[0m: Agent Starting Run: ws8d2sfv with config:\n",
            "\u001b[34m\u001b[1mwandb\u001b[0m: \tactivation_function: tanh\n",
            "\u001b[34m\u001b[1mwandb\u001b[0m: \tbatch_size: 16\n",
            "\u001b[34m\u001b[1mwandb\u001b[0m: \tepochs: 10\n",
            "\u001b[34m\u001b[1mwandb\u001b[0m: \thidden_layer_size: 32\n",
            "\u001b[34m\u001b[1mwandb\u001b[0m: \tlearningg_rate_: 0.001\n",
            "\u001b[34m\u001b[1mwandb\u001b[0m: \tloss_type: mse\n",
            "\u001b[34m\u001b[1mwandb\u001b[0m: \tnum_hidden_layers: 4\n",
            "\u001b[34m\u001b[1mwandb\u001b[0m: \toptimizer: nadam\n",
            "\u001b[34m\u001b[1mwandb\u001b[0m: \tweight_initialization: xavier\n"
          ]
        },
        {
          "output_type": "display_data",
          "data": {
            "text/plain": [
              "<IPython.core.display.HTML object>"
            ],
            "text/html": [
              "Ignoring project 'MA23M021_A1_Q8_MSE' when running a sweep."
            ]
          },
          "metadata": {}
        },
        {
          "output_type": "display_data",
          "data": {
            "text/plain": [
              "<IPython.core.display.HTML object>"
            ],
            "text/html": [
              "Tracking run with wandb version 0.19.7"
            ]
          },
          "metadata": {}
        },
        {
          "output_type": "display_data",
          "data": {
            "text/plain": [
              "<IPython.core.display.HTML object>"
            ],
            "text/html": [
              "Run data is saved locally in <code>/content/wandb/run-20250309_161404-ws8d2sfv</code>"
            ]
          },
          "metadata": {}
        },
        {
          "output_type": "display_data",
          "data": {
            "text/plain": [
              "<IPython.core.display.HTML object>"
            ],
            "text/html": [
              "Syncing run <strong><a href='https://wandb.ai/ma23m021-iit-madras/MA23M021_A1_Q8_MSE/runs/ws8d2sfv' target=\"_blank\">revived-sweep-46</a></strong> to <a href='https://wandb.ai/ma23m021-iit-madras/MA23M021_A1_Q8_MSE' target=\"_blank\">Weights & Biases</a> (<a href='https://wandb.me/developer-guide' target=\"_blank\">docs</a>)<br>Sweep page: <a href='https://wandb.ai/ma23m021-iit-madras/MA23M021_A1_Q8_MSE/sweeps/205o72nt' target=\"_blank\">https://wandb.ai/ma23m021-iit-madras/MA23M021_A1_Q8_MSE/sweeps/205o72nt</a>"
            ]
          },
          "metadata": {}
        },
        {
          "output_type": "display_data",
          "data": {
            "text/plain": [
              "<IPython.core.display.HTML object>"
            ],
            "text/html": [
              " View project at <a href='https://wandb.ai/ma23m021-iit-madras/MA23M021_A1_Q8_MSE' target=\"_blank\">https://wandb.ai/ma23m021-iit-madras/MA23M021_A1_Q8_MSE</a>"
            ]
          },
          "metadata": {}
        },
        {
          "output_type": "display_data",
          "data": {
            "text/plain": [
              "<IPython.core.display.HTML object>"
            ],
            "text/html": [
              " View sweep at <a href='https://wandb.ai/ma23m021-iit-madras/MA23M021_A1_Q8_MSE/sweeps/205o72nt' target=\"_blank\">https://wandb.ai/ma23m021-iit-madras/MA23M021_A1_Q8_MSE/sweeps/205o72nt</a>"
            ]
          },
          "metadata": {}
        },
        {
          "output_type": "display_data",
          "data": {
            "text/plain": [
              "<IPython.core.display.HTML object>"
            ],
            "text/html": [
              " View run at <a href='https://wandb.ai/ma23m021-iit-madras/MA23M021_A1_Q8_MSE/runs/ws8d2sfv' target=\"_blank\">https://wandb.ai/ma23m021-iit-madras/MA23M021_A1_Q8_MSE/runs/ws8d2sfv</a>"
            ]
          },
          "metadata": {}
        },
        {
          "output_type": "stream",
          "name": "stdout",
          "text": [
            "Epoch 1/10, mse - Train Loss: 0.4764, Val Loss: 0.2843, Val Accuracy: 0.8023\n",
            "Epoch 2/10, mse - Train Loss: 0.2424, Val Loss: 0.2283, Val Accuracy: 0.8407\n",
            "Epoch 3/10, mse - Train Loss: 0.2113, Val Loss: 0.2097, Val Accuracy: 0.8530\n",
            "Epoch 4/10, mse - Train Loss: 0.1945, Val Loss: 0.2068, Val Accuracy: 0.8530\n",
            "Epoch 5/10, mse - Train Loss: 0.1859, Val Loss: 0.1931, Val Accuracy: 0.8653\n",
            "Epoch 6/10, mse - Train Loss: 0.1791, Val Loss: 0.1974, Val Accuracy: 0.8610\n",
            "Epoch 7/10, mse - Train Loss: 0.1722, Val Loss: 0.1901, Val Accuracy: 0.8668\n",
            "Epoch 8/10, mse - Train Loss: 0.1690, Val Loss: 0.1899, Val Accuracy: 0.8630\n",
            "Epoch 9/10, mse - Train Loss: 0.1652, Val Loss: 0.1875, Val Accuracy: 0.8666\n",
            "Epoch 10/10, mse - Train Loss: 0.1603, Val Loss: 0.1819, Val Accuracy: 0.8727\n"
          ]
        },
        {
          "output_type": "display_data",
          "data": {
            "text/plain": [
              "<IPython.core.display.HTML object>"
            ],
            "text/html": []
          },
          "metadata": {}
        },
        {
          "output_type": "display_data",
          "data": {
            "text/plain": [
              "<IPython.core.display.HTML object>"
            ],
            "text/html": [
              "<br>    <style><br>        .wandb-row {<br>            display: flex;<br>            flex-direction: row;<br>            flex-wrap: wrap;<br>            justify-content: flex-start;<br>            width: 100%;<br>        }<br>        .wandb-col {<br>            display: flex;<br>            flex-direction: column;<br>            flex-basis: 100%;<br>            flex: 1;<br>            padding: 10px;<br>        }<br>    </style><br><div class=\"wandb-row\"><div class=\"wandb-col\"><h3>Run history:</h3><br/><table class=\"wandb\"><tr><td>epoch</td><td>▁▂▃▃▄▅▆▆▇█</td></tr><tr><td>train_loss</td><td>█▃▂▂▂▁▁▁▁▁</td></tr><tr><td>val_accuracy</td><td>▁▅▆▆▇▇▇▇▇█</td></tr><tr><td>val_loss</td><td>█▄▃▃▂▂▂▂▁▁</td></tr></table><br/></div><div class=\"wandb-col\"><h3>Run summary:</h3><br/><table class=\"wandb\"><tr><td>epoch</td><td>10</td></tr><tr><td>loss_type</td><td>mse</td></tr><tr><td>train_loss</td><td>0.1603</td></tr><tr><td>val_accuracy</td><td>0.87267</td></tr><tr><td>val_loss</td><td>0.18189</td></tr></table><br/></div></div>"
            ]
          },
          "metadata": {}
        },
        {
          "output_type": "display_data",
          "data": {
            "text/plain": [
              "<IPython.core.display.HTML object>"
            ],
            "text/html": [
              " View run <strong style=\"color:#cdcd00\">revived-sweep-46</strong> at: <a href='https://wandb.ai/ma23m021-iit-madras/MA23M021_A1_Q8_MSE/runs/ws8d2sfv' target=\"_blank\">https://wandb.ai/ma23m021-iit-madras/MA23M021_A1_Q8_MSE/runs/ws8d2sfv</a><br> View project at: <a href='https://wandb.ai/ma23m021-iit-madras/MA23M021_A1_Q8_MSE' target=\"_blank\">https://wandb.ai/ma23m021-iit-madras/MA23M021_A1_Q8_MSE</a><br>Synced 5 W&B file(s), 0 media file(s), 0 artifact file(s) and 0 other file(s)"
            ]
          },
          "metadata": {}
        },
        {
          "output_type": "display_data",
          "data": {
            "text/plain": [
              "<IPython.core.display.HTML object>"
            ],
            "text/html": [
              "Find logs at: <code>./wandb/run-20250309_161404-ws8d2sfv/logs</code>"
            ]
          },
          "metadata": {}
        },
        {
          "output_type": "stream",
          "name": "stderr",
          "text": [
            "\u001b[34m\u001b[1mwandb\u001b[0m: Agent Starting Run: qibjlnzg with config:\n",
            "\u001b[34m\u001b[1mwandb\u001b[0m: \tactivation_function: tanh\n",
            "\u001b[34m\u001b[1mwandb\u001b[0m: \tbatch_size: 32\n",
            "\u001b[34m\u001b[1mwandb\u001b[0m: \tepochs: 10\n",
            "\u001b[34m\u001b[1mwandb\u001b[0m: \thidden_layer_size: 128\n",
            "\u001b[34m\u001b[1mwandb\u001b[0m: \tlearningg_rate_: 0.001\n",
            "\u001b[34m\u001b[1mwandb\u001b[0m: \tloss_type: mse\n",
            "\u001b[34m\u001b[1mwandb\u001b[0m: \tnum_hidden_layers: 4\n",
            "\u001b[34m\u001b[1mwandb\u001b[0m: \toptimizer: nadam\n",
            "\u001b[34m\u001b[1mwandb\u001b[0m: \tweight_initialization: xavier\n"
          ]
        },
        {
          "output_type": "display_data",
          "data": {
            "text/plain": [
              "<IPython.core.display.HTML object>"
            ],
            "text/html": [
              "Ignoring project 'MA23M021_A1_Q8_MSE' when running a sweep."
            ]
          },
          "metadata": {}
        },
        {
          "output_type": "display_data",
          "data": {
            "text/plain": [
              "<IPython.core.display.HTML object>"
            ],
            "text/html": [
              "Tracking run with wandb version 0.19.7"
            ]
          },
          "metadata": {}
        },
        {
          "output_type": "display_data",
          "data": {
            "text/plain": [
              "<IPython.core.display.HTML object>"
            ],
            "text/html": [
              "Run data is saved locally in <code>/content/wandb/run-20250309_161526-qibjlnzg</code>"
            ]
          },
          "metadata": {}
        },
        {
          "output_type": "display_data",
          "data": {
            "text/plain": [
              "<IPython.core.display.HTML object>"
            ],
            "text/html": [
              "Syncing run <strong><a href='https://wandb.ai/ma23m021-iit-madras/MA23M021_A1_Q8_MSE/runs/qibjlnzg' target=\"_blank\">playful-sweep-47</a></strong> to <a href='https://wandb.ai/ma23m021-iit-madras/MA23M021_A1_Q8_MSE' target=\"_blank\">Weights & Biases</a> (<a href='https://wandb.me/developer-guide' target=\"_blank\">docs</a>)<br>Sweep page: <a href='https://wandb.ai/ma23m021-iit-madras/MA23M021_A1_Q8_MSE/sweeps/205o72nt' target=\"_blank\">https://wandb.ai/ma23m021-iit-madras/MA23M021_A1_Q8_MSE/sweeps/205o72nt</a>"
            ]
          },
          "metadata": {}
        },
        {
          "output_type": "display_data",
          "data": {
            "text/plain": [
              "<IPython.core.display.HTML object>"
            ],
            "text/html": [
              " View project at <a href='https://wandb.ai/ma23m021-iit-madras/MA23M021_A1_Q8_MSE' target=\"_blank\">https://wandb.ai/ma23m021-iit-madras/MA23M021_A1_Q8_MSE</a>"
            ]
          },
          "metadata": {}
        },
        {
          "output_type": "display_data",
          "data": {
            "text/plain": [
              "<IPython.core.display.HTML object>"
            ],
            "text/html": [
              " View sweep at <a href='https://wandb.ai/ma23m021-iit-madras/MA23M021_A1_Q8_MSE/sweeps/205o72nt' target=\"_blank\">https://wandb.ai/ma23m021-iit-madras/MA23M021_A1_Q8_MSE/sweeps/205o72nt</a>"
            ]
          },
          "metadata": {}
        },
        {
          "output_type": "display_data",
          "data": {
            "text/plain": [
              "<IPython.core.display.HTML object>"
            ],
            "text/html": [
              " View run at <a href='https://wandb.ai/ma23m021-iit-madras/MA23M021_A1_Q8_MSE/runs/qibjlnzg' target=\"_blank\">https://wandb.ai/ma23m021-iit-madras/MA23M021_A1_Q8_MSE/runs/qibjlnzg</a>"
            ]
          },
          "metadata": {}
        },
        {
          "output_type": "stream",
          "name": "stdout",
          "text": [
            "Epoch 1/10, mse - Train Loss: 0.3632, Val Loss: 0.2414, Val Accuracy: 0.8347\n",
            "Epoch 2/10, mse - Train Loss: 0.2200, Val Loss: 0.2030, Val Accuracy: 0.8543\n",
            "Epoch 3/10, mse - Train Loss: 0.1952, Val Loss: 0.1933, Val Accuracy: 0.8626\n",
            "Epoch 4/10, mse - Train Loss: 0.1817, Val Loss: 0.1880, Val Accuracy: 0.8670\n",
            "Epoch 5/10, mse - Train Loss: 0.1726, Val Loss: 0.1773, Val Accuracy: 0.8772\n",
            "Epoch 6/10, mse - Train Loss: 0.1648, Val Loss: 0.1880, Val Accuracy: 0.8672\n",
            "Epoch 7/10, mse - Train Loss: 0.1609, Val Loss: 0.1738, Val Accuracy: 0.8785\n",
            "Epoch 8/10, mse - Train Loss: 0.1553, Val Loss: 0.1759, Val Accuracy: 0.8774\n",
            "Epoch 9/10, mse - Train Loss: 0.1504, Val Loss: 0.1842, Val Accuracy: 0.8731\n",
            "Epoch 10/10, mse - Train Loss: 0.1465, Val Loss: 0.1666, Val Accuracy: 0.8823\n"
          ]
        },
        {
          "output_type": "display_data",
          "data": {
            "text/plain": [
              "<IPython.core.display.HTML object>"
            ],
            "text/html": []
          },
          "metadata": {}
        },
        {
          "output_type": "display_data",
          "data": {
            "text/plain": [
              "<IPython.core.display.HTML object>"
            ],
            "text/html": [
              "<br>    <style><br>        .wandb-row {<br>            display: flex;<br>            flex-direction: row;<br>            flex-wrap: wrap;<br>            justify-content: flex-start;<br>            width: 100%;<br>        }<br>        .wandb-col {<br>            display: flex;<br>            flex-direction: column;<br>            flex-basis: 100%;<br>            flex: 1;<br>            padding: 10px;<br>        }<br>    </style><br><div class=\"wandb-row\"><div class=\"wandb-col\"><h3>Run history:</h3><br/><table class=\"wandb\"><tr><td>epoch</td><td>▁▂▃▃▄▅▆▆▇█</td></tr><tr><td>train_loss</td><td>█▃▃▂▂▂▁▁▁▁</td></tr><tr><td>val_accuracy</td><td>▁▄▅▆▇▆▇▇▇█</td></tr><tr><td>val_loss</td><td>█▄▃▃▂▃▂▂▃▁</td></tr></table><br/></div><div class=\"wandb-col\"><h3>Run summary:</h3><br/><table class=\"wandb\"><tr><td>epoch</td><td>10</td></tr><tr><td>loss_type</td><td>mse</td></tr><tr><td>train_loss</td><td>0.14646</td></tr><tr><td>val_accuracy</td><td>0.88233</td></tr><tr><td>val_loss</td><td>0.1666</td></tr></table><br/></div></div>"
            ]
          },
          "metadata": {}
        },
        {
          "output_type": "display_data",
          "data": {
            "text/plain": [
              "<IPython.core.display.HTML object>"
            ],
            "text/html": [
              " View run <strong style=\"color:#cdcd00\">playful-sweep-47</strong> at: <a href='https://wandb.ai/ma23m021-iit-madras/MA23M021_A1_Q8_MSE/runs/qibjlnzg' target=\"_blank\">https://wandb.ai/ma23m021-iit-madras/MA23M021_A1_Q8_MSE/runs/qibjlnzg</a><br> View project at: <a href='https://wandb.ai/ma23m021-iit-madras/MA23M021_A1_Q8_MSE' target=\"_blank\">https://wandb.ai/ma23m021-iit-madras/MA23M021_A1_Q8_MSE</a><br>Synced 5 W&B file(s), 0 media file(s), 0 artifact file(s) and 0 other file(s)"
            ]
          },
          "metadata": {}
        },
        {
          "output_type": "display_data",
          "data": {
            "text/plain": [
              "<IPython.core.display.HTML object>"
            ],
            "text/html": [
              "Find logs at: <code>./wandb/run-20250309_161526-qibjlnzg/logs</code>"
            ]
          },
          "metadata": {}
        },
        {
          "output_type": "stream",
          "name": "stderr",
          "text": [
            "\u001b[34m\u001b[1mwandb\u001b[0m: Agent Starting Run: jcs7t8f6 with config:\n",
            "\u001b[34m\u001b[1mwandb\u001b[0m: \tactivation_function: tanh\n",
            "\u001b[34m\u001b[1mwandb\u001b[0m: \tbatch_size: 32\n",
            "\u001b[34m\u001b[1mwandb\u001b[0m: \tepochs: 5\n",
            "\u001b[34m\u001b[1mwandb\u001b[0m: \thidden_layer_size: 128\n",
            "\u001b[34m\u001b[1mwandb\u001b[0m: \tlearningg_rate_: 0.001\n",
            "\u001b[34m\u001b[1mwandb\u001b[0m: \tloss_type: mse\n",
            "\u001b[34m\u001b[1mwandb\u001b[0m: \tnum_hidden_layers: 3\n",
            "\u001b[34m\u001b[1mwandb\u001b[0m: \toptimizer: nadam\n",
            "\u001b[34m\u001b[1mwandb\u001b[0m: \tweight_initialization: xavier\n"
          ]
        },
        {
          "output_type": "display_data",
          "data": {
            "text/plain": [
              "<IPython.core.display.HTML object>"
            ],
            "text/html": [
              "Ignoring project 'MA23M021_A1_Q8_MSE' when running a sweep."
            ]
          },
          "metadata": {}
        },
        {
          "output_type": "display_data",
          "data": {
            "text/plain": [
              "<IPython.core.display.HTML object>"
            ],
            "text/html": [
              "Tracking run with wandb version 0.19.7"
            ]
          },
          "metadata": {}
        },
        {
          "output_type": "display_data",
          "data": {
            "text/plain": [
              "<IPython.core.display.HTML object>"
            ],
            "text/html": [
              "Run data is saved locally in <code>/content/wandb/run-20250309_161748-jcs7t8f6</code>"
            ]
          },
          "metadata": {}
        },
        {
          "output_type": "display_data",
          "data": {
            "text/plain": [
              "<IPython.core.display.HTML object>"
            ],
            "text/html": [
              "Syncing run <strong><a href='https://wandb.ai/ma23m021-iit-madras/MA23M021_A1_Q8_MSE/runs/jcs7t8f6' target=\"_blank\">drawn-sweep-48</a></strong> to <a href='https://wandb.ai/ma23m021-iit-madras/MA23M021_A1_Q8_MSE' target=\"_blank\">Weights & Biases</a> (<a href='https://wandb.me/developer-guide' target=\"_blank\">docs</a>)<br>Sweep page: <a href='https://wandb.ai/ma23m021-iit-madras/MA23M021_A1_Q8_MSE/sweeps/205o72nt' target=\"_blank\">https://wandb.ai/ma23m021-iit-madras/MA23M021_A1_Q8_MSE/sweeps/205o72nt</a>"
            ]
          },
          "metadata": {}
        },
        {
          "output_type": "display_data",
          "data": {
            "text/plain": [
              "<IPython.core.display.HTML object>"
            ],
            "text/html": [
              " View project at <a href='https://wandb.ai/ma23m021-iit-madras/MA23M021_A1_Q8_MSE' target=\"_blank\">https://wandb.ai/ma23m021-iit-madras/MA23M021_A1_Q8_MSE</a>"
            ]
          },
          "metadata": {}
        },
        {
          "output_type": "display_data",
          "data": {
            "text/plain": [
              "<IPython.core.display.HTML object>"
            ],
            "text/html": [
              " View sweep at <a href='https://wandb.ai/ma23m021-iit-madras/MA23M021_A1_Q8_MSE/sweeps/205o72nt' target=\"_blank\">https://wandb.ai/ma23m021-iit-madras/MA23M021_A1_Q8_MSE/sweeps/205o72nt</a>"
            ]
          },
          "metadata": {}
        },
        {
          "output_type": "display_data",
          "data": {
            "text/plain": [
              "<IPython.core.display.HTML object>"
            ],
            "text/html": [
              " View run at <a href='https://wandb.ai/ma23m021-iit-madras/MA23M021_A1_Q8_MSE/runs/jcs7t8f6' target=\"_blank\">https://wandb.ai/ma23m021-iit-madras/MA23M021_A1_Q8_MSE/runs/jcs7t8f6</a>"
            ]
          },
          "metadata": {}
        },
        {
          "output_type": "stream",
          "name": "stdout",
          "text": [
            "Epoch 1/5, mse - Train Loss: 0.3257, Val Loss: 0.2195, Val Accuracy: 0.8452\n",
            "Epoch 2/5, mse - Train Loss: 0.2051, Val Loss: 0.1947, Val Accuracy: 0.8631\n",
            "Epoch 3/5, mse - Train Loss: 0.1860, Val Loss: 0.1840, Val Accuracy: 0.8688\n",
            "Epoch 4/5, mse - Train Loss: 0.1738, Val Loss: 0.1718, Val Accuracy: 0.8780\n",
            "Epoch 5/5, mse - Train Loss: 0.1668, Val Loss: 0.1849, Val Accuracy: 0.8708\n"
          ]
        },
        {
          "output_type": "display_data",
          "data": {
            "text/plain": [
              "<IPython.core.display.HTML object>"
            ],
            "text/html": []
          },
          "metadata": {}
        },
        {
          "output_type": "display_data",
          "data": {
            "text/plain": [
              "<IPython.core.display.HTML object>"
            ],
            "text/html": [
              "<br>    <style><br>        .wandb-row {<br>            display: flex;<br>            flex-direction: row;<br>            flex-wrap: wrap;<br>            justify-content: flex-start;<br>            width: 100%;<br>        }<br>        .wandb-col {<br>            display: flex;<br>            flex-direction: column;<br>            flex-basis: 100%;<br>            flex: 1;<br>            padding: 10px;<br>        }<br>    </style><br><div class=\"wandb-row\"><div class=\"wandb-col\"><h3>Run history:</h3><br/><table class=\"wandb\"><tr><td>epoch</td><td>▁▃▅▆█</td></tr><tr><td>train_loss</td><td>█▃▂▁▁</td></tr><tr><td>val_accuracy</td><td>▁▅▆█▆</td></tr><tr><td>val_loss</td><td>█▄▃▁▃</td></tr></table><br/></div><div class=\"wandb-col\"><h3>Run summary:</h3><br/><table class=\"wandb\"><tr><td>epoch</td><td>5</td></tr><tr><td>loss_type</td><td>mse</td></tr><tr><td>train_loss</td><td>0.16683</td></tr><tr><td>val_accuracy</td><td>0.87083</td></tr><tr><td>val_loss</td><td>0.18493</td></tr></table><br/></div></div>"
            ]
          },
          "metadata": {}
        },
        {
          "output_type": "display_data",
          "data": {
            "text/plain": [
              "<IPython.core.display.HTML object>"
            ],
            "text/html": [
              " View run <strong style=\"color:#cdcd00\">drawn-sweep-48</strong> at: <a href='https://wandb.ai/ma23m021-iit-madras/MA23M021_A1_Q8_MSE/runs/jcs7t8f6' target=\"_blank\">https://wandb.ai/ma23m021-iit-madras/MA23M021_A1_Q8_MSE/runs/jcs7t8f6</a><br> View project at: <a href='https://wandb.ai/ma23m021-iit-madras/MA23M021_A1_Q8_MSE' target=\"_blank\">https://wandb.ai/ma23m021-iit-madras/MA23M021_A1_Q8_MSE</a><br>Synced 5 W&B file(s), 0 media file(s), 0 artifact file(s) and 0 other file(s)"
            ]
          },
          "metadata": {}
        },
        {
          "output_type": "display_data",
          "data": {
            "text/plain": [
              "<IPython.core.display.HTML object>"
            ],
            "text/html": [
              "Find logs at: <code>./wandb/run-20250309_161748-jcs7t8f6/logs</code>"
            ]
          },
          "metadata": {}
        },
        {
          "output_type": "stream",
          "name": "stderr",
          "text": [
            "\u001b[34m\u001b[1mwandb\u001b[0m: Agent Starting Run: 2uj4la78 with config:\n",
            "\u001b[34m\u001b[1mwandb\u001b[0m: \tactivation_function: tanh\n",
            "\u001b[34m\u001b[1mwandb\u001b[0m: \tbatch_size: 16\n",
            "\u001b[34m\u001b[1mwandb\u001b[0m: \tepochs: 5\n",
            "\u001b[34m\u001b[1mwandb\u001b[0m: \thidden_layer_size: 128\n",
            "\u001b[34m\u001b[1mwandb\u001b[0m: \tlearningg_rate_: 0.001\n",
            "\u001b[34m\u001b[1mwandb\u001b[0m: \tloss_type: mse\n",
            "\u001b[34m\u001b[1mwandb\u001b[0m: \tnum_hidden_layers: 3\n",
            "\u001b[34m\u001b[1mwandb\u001b[0m: \toptimizer: nadam\n",
            "\u001b[34m\u001b[1mwandb\u001b[0m: \tweight_initialization: random\n"
          ]
        },
        {
          "output_type": "display_data",
          "data": {
            "text/plain": [
              "<IPython.core.display.HTML object>"
            ],
            "text/html": [
              "Ignoring project 'MA23M021_A1_Q8_MSE' when running a sweep."
            ]
          },
          "metadata": {}
        },
        {
          "output_type": "display_data",
          "data": {
            "text/plain": [
              "<IPython.core.display.HTML object>"
            ],
            "text/html": [
              "Tracking run with wandb version 0.19.7"
            ]
          },
          "metadata": {}
        },
        {
          "output_type": "display_data",
          "data": {
            "text/plain": [
              "<IPython.core.display.HTML object>"
            ],
            "text/html": [
              "Run data is saved locally in <code>/content/wandb/run-20250309_161854-2uj4la78</code>"
            ]
          },
          "metadata": {}
        },
        {
          "output_type": "display_data",
          "data": {
            "text/plain": [
              "<IPython.core.display.HTML object>"
            ],
            "text/html": [
              "Syncing run <strong><a href='https://wandb.ai/ma23m021-iit-madras/MA23M021_A1_Q8_MSE/runs/2uj4la78' target=\"_blank\">grateful-sweep-49</a></strong> to <a href='https://wandb.ai/ma23m021-iit-madras/MA23M021_A1_Q8_MSE' target=\"_blank\">Weights & Biases</a> (<a href='https://wandb.me/developer-guide' target=\"_blank\">docs</a>)<br>Sweep page: <a href='https://wandb.ai/ma23m021-iit-madras/MA23M021_A1_Q8_MSE/sweeps/205o72nt' target=\"_blank\">https://wandb.ai/ma23m021-iit-madras/MA23M021_A1_Q8_MSE/sweeps/205o72nt</a>"
            ]
          },
          "metadata": {}
        },
        {
          "output_type": "display_data",
          "data": {
            "text/plain": [
              "<IPython.core.display.HTML object>"
            ],
            "text/html": [
              " View project at <a href='https://wandb.ai/ma23m021-iit-madras/MA23M021_A1_Q8_MSE' target=\"_blank\">https://wandb.ai/ma23m021-iit-madras/MA23M021_A1_Q8_MSE</a>"
            ]
          },
          "metadata": {}
        },
        {
          "output_type": "display_data",
          "data": {
            "text/plain": [
              "<IPython.core.display.HTML object>"
            ],
            "text/html": [
              " View sweep at <a href='https://wandb.ai/ma23m021-iit-madras/MA23M021_A1_Q8_MSE/sweeps/205o72nt' target=\"_blank\">https://wandb.ai/ma23m021-iit-madras/MA23M021_A1_Q8_MSE/sweeps/205o72nt</a>"
            ]
          },
          "metadata": {}
        },
        {
          "output_type": "display_data",
          "data": {
            "text/plain": [
              "<IPython.core.display.HTML object>"
            ],
            "text/html": [
              " View run at <a href='https://wandb.ai/ma23m021-iit-madras/MA23M021_A1_Q8_MSE/runs/2uj4la78' target=\"_blank\">https://wandb.ai/ma23m021-iit-madras/MA23M021_A1_Q8_MSE/runs/2uj4la78</a>"
            ]
          },
          "metadata": {}
        },
        {
          "output_type": "stream",
          "name": "stdout",
          "text": [
            "Epoch 1/5, mse - Train Loss: 0.4511, Val Loss: 0.2703, Val Accuracy: 0.7997\n",
            "Epoch 2/5, mse - Train Loss: 0.2394, Val Loss: 0.2186, Val Accuracy: 0.8482\n",
            "Epoch 3/5, mse - Train Loss: 0.2050, Val Loss: 0.2059, Val Accuracy: 0.8545\n",
            "Epoch 4/5, mse - Train Loss: 0.1884, Val Loss: 0.2014, Val Accuracy: 0.8607\n",
            "Epoch 5/5, mse - Train Loss: 0.1792, Val Loss: 0.1839, Val Accuracy: 0.8723\n"
          ]
        },
        {
          "output_type": "display_data",
          "data": {
            "text/plain": [
              "<IPython.core.display.HTML object>"
            ],
            "text/html": []
          },
          "metadata": {}
        },
        {
          "output_type": "display_data",
          "data": {
            "text/plain": [
              "<IPython.core.display.HTML object>"
            ],
            "text/html": [
              "<br>    <style><br>        .wandb-row {<br>            display: flex;<br>            flex-direction: row;<br>            flex-wrap: wrap;<br>            justify-content: flex-start;<br>            width: 100%;<br>        }<br>        .wandb-col {<br>            display: flex;<br>            flex-direction: column;<br>            flex-basis: 100%;<br>            flex: 1;<br>            padding: 10px;<br>        }<br>    </style><br><div class=\"wandb-row\"><div class=\"wandb-col\"><h3>Run history:</h3><br/><table class=\"wandb\"><tr><td>epoch</td><td>▁▃▅▆█</td></tr><tr><td>train_loss</td><td>█▃▂▁▁</td></tr><tr><td>val_accuracy</td><td>▁▆▆▇█</td></tr><tr><td>val_loss</td><td>█▄▃▂▁</td></tr></table><br/></div><div class=\"wandb-col\"><h3>Run summary:</h3><br/><table class=\"wandb\"><tr><td>epoch</td><td>5</td></tr><tr><td>loss_type</td><td>mse</td></tr><tr><td>train_loss</td><td>0.17924</td></tr><tr><td>val_accuracy</td><td>0.87233</td></tr><tr><td>val_loss</td><td>0.18387</td></tr></table><br/></div></div>"
            ]
          },
          "metadata": {}
        },
        {
          "output_type": "display_data",
          "data": {
            "text/plain": [
              "<IPython.core.display.HTML object>"
            ],
            "text/html": [
              " View run <strong style=\"color:#cdcd00\">grateful-sweep-49</strong> at: <a href='https://wandb.ai/ma23m021-iit-madras/MA23M021_A1_Q8_MSE/runs/2uj4la78' target=\"_blank\">https://wandb.ai/ma23m021-iit-madras/MA23M021_A1_Q8_MSE/runs/2uj4la78</a><br> View project at: <a href='https://wandb.ai/ma23m021-iit-madras/MA23M021_A1_Q8_MSE' target=\"_blank\">https://wandb.ai/ma23m021-iit-madras/MA23M021_A1_Q8_MSE</a><br>Synced 5 W&B file(s), 0 media file(s), 0 artifact file(s) and 0 other file(s)"
            ]
          },
          "metadata": {}
        },
        {
          "output_type": "display_data",
          "data": {
            "text/plain": [
              "<IPython.core.display.HTML object>"
            ],
            "text/html": [
              "Find logs at: <code>./wandb/run-20250309_161854-2uj4la78/logs</code>"
            ]
          },
          "metadata": {}
        },
        {
          "output_type": "stream",
          "name": "stderr",
          "text": [
            "\u001b[34m\u001b[1mwandb\u001b[0m: Agent Starting Run: cfnvlf8m with config:\n",
            "\u001b[34m\u001b[1mwandb\u001b[0m: \tactivation_function: tanh\n",
            "\u001b[34m\u001b[1mwandb\u001b[0m: \tbatch_size: 16\n",
            "\u001b[34m\u001b[1mwandb\u001b[0m: \tepochs: 5\n",
            "\u001b[34m\u001b[1mwandb\u001b[0m: \thidden_layer_size: 64\n",
            "\u001b[34m\u001b[1mwandb\u001b[0m: \tlearningg_rate_: 0.001\n",
            "\u001b[34m\u001b[1mwandb\u001b[0m: \tloss_type: mse\n",
            "\u001b[34m\u001b[1mwandb\u001b[0m: \tnum_hidden_layers: 3\n",
            "\u001b[34m\u001b[1mwandb\u001b[0m: \toptimizer: adam\n",
            "\u001b[34m\u001b[1mwandb\u001b[0m: \tweight_initialization: xavier\n"
          ]
        },
        {
          "output_type": "display_data",
          "data": {
            "text/plain": [
              "<IPython.core.display.HTML object>"
            ],
            "text/html": [
              "Ignoring project 'MA23M021_A1_Q8_MSE' when running a sweep."
            ]
          },
          "metadata": {}
        },
        {
          "output_type": "display_data",
          "data": {
            "text/plain": [
              "<IPython.core.display.HTML object>"
            ],
            "text/html": [
              "Tracking run with wandb version 0.19.7"
            ]
          },
          "metadata": {}
        },
        {
          "output_type": "display_data",
          "data": {
            "text/plain": [
              "<IPython.core.display.HTML object>"
            ],
            "text/html": [
              "Run data is saved locally in <code>/content/wandb/run-20250309_162036-cfnvlf8m</code>"
            ]
          },
          "metadata": {}
        },
        {
          "output_type": "display_data",
          "data": {
            "text/plain": [
              "<IPython.core.display.HTML object>"
            ],
            "text/html": [
              "Syncing run <strong><a href='https://wandb.ai/ma23m021-iit-madras/MA23M021_A1_Q8_MSE/runs/cfnvlf8m' target=\"_blank\">lyric-sweep-50</a></strong> to <a href='https://wandb.ai/ma23m021-iit-madras/MA23M021_A1_Q8_MSE' target=\"_blank\">Weights & Biases</a> (<a href='https://wandb.me/developer-guide' target=\"_blank\">docs</a>)<br>Sweep page: <a href='https://wandb.ai/ma23m021-iit-madras/MA23M021_A1_Q8_MSE/sweeps/205o72nt' target=\"_blank\">https://wandb.ai/ma23m021-iit-madras/MA23M021_A1_Q8_MSE/sweeps/205o72nt</a>"
            ]
          },
          "metadata": {}
        },
        {
          "output_type": "display_data",
          "data": {
            "text/plain": [
              "<IPython.core.display.HTML object>"
            ],
            "text/html": [
              " View project at <a href='https://wandb.ai/ma23m021-iit-madras/MA23M021_A1_Q8_MSE' target=\"_blank\">https://wandb.ai/ma23m021-iit-madras/MA23M021_A1_Q8_MSE</a>"
            ]
          },
          "metadata": {}
        },
        {
          "output_type": "display_data",
          "data": {
            "text/plain": [
              "<IPython.core.display.HTML object>"
            ],
            "text/html": [
              " View sweep at <a href='https://wandb.ai/ma23m021-iit-madras/MA23M021_A1_Q8_MSE/sweeps/205o72nt' target=\"_blank\">https://wandb.ai/ma23m021-iit-madras/MA23M021_A1_Q8_MSE/sweeps/205o72nt</a>"
            ]
          },
          "metadata": {}
        },
        {
          "output_type": "display_data",
          "data": {
            "text/plain": [
              "<IPython.core.display.HTML object>"
            ],
            "text/html": [
              " View run at <a href='https://wandb.ai/ma23m021-iit-madras/MA23M021_A1_Q8_MSE/runs/cfnvlf8m' target=\"_blank\">https://wandb.ai/ma23m021-iit-madras/MA23M021_A1_Q8_MSE/runs/cfnvlf8m</a>"
            ]
          },
          "metadata": {}
        },
        {
          "output_type": "stream",
          "name": "stdout",
          "text": [
            "Epoch 1/5, mse - Train Loss: 0.3369, Val Loss: 0.2424, Val Accuracy: 0.8253\n",
            "Epoch 2/5, mse - Train Loss: 0.2108, Val Loss: 0.1957, Val Accuracy: 0.8623\n",
            "Epoch 3/5, mse - Train Loss: 0.1900, Val Loss: 0.1910, Val Accuracy: 0.8635\n",
            "Epoch 4/5, mse - Train Loss: 0.1782, Val Loss: 0.1910, Val Accuracy: 0.8646\n",
            "Epoch 5/5, mse - Train Loss: 0.1720, Val Loss: 0.1937, Val Accuracy: 0.8655\n"
          ]
        },
        {
          "output_type": "display_data",
          "data": {
            "text/plain": [
              "<IPython.core.display.HTML object>"
            ],
            "text/html": []
          },
          "metadata": {}
        },
        {
          "output_type": "display_data",
          "data": {
            "text/plain": [
              "<IPython.core.display.HTML object>"
            ],
            "text/html": [
              "<br>    <style><br>        .wandb-row {<br>            display: flex;<br>            flex-direction: row;<br>            flex-wrap: wrap;<br>            justify-content: flex-start;<br>            width: 100%;<br>        }<br>        .wandb-col {<br>            display: flex;<br>            flex-direction: column;<br>            flex-basis: 100%;<br>            flex: 1;<br>            padding: 10px;<br>        }<br>    </style><br><div class=\"wandb-row\"><div class=\"wandb-col\"><h3>Run history:</h3><br/><table class=\"wandb\"><tr><td>epoch</td><td>▁▃▅▆█</td></tr><tr><td>train_loss</td><td>█▃▂▁▁</td></tr><tr><td>val_accuracy</td><td>▁▇███</td></tr><tr><td>val_loss</td><td>█▂▁▁▁</td></tr></table><br/></div><div class=\"wandb-col\"><h3>Run summary:</h3><br/><table class=\"wandb\"><tr><td>epoch</td><td>5</td></tr><tr><td>loss_type</td><td>mse</td></tr><tr><td>train_loss</td><td>0.17196</td></tr><tr><td>val_accuracy</td><td>0.8655</td></tr><tr><td>val_loss</td><td>0.19374</td></tr></table><br/></div></div>"
            ]
          },
          "metadata": {}
        },
        {
          "output_type": "display_data",
          "data": {
            "text/plain": [
              "<IPython.core.display.HTML object>"
            ],
            "text/html": [
              " View run <strong style=\"color:#cdcd00\">lyric-sweep-50</strong> at: <a href='https://wandb.ai/ma23m021-iit-madras/MA23M021_A1_Q8_MSE/runs/cfnvlf8m' target=\"_blank\">https://wandb.ai/ma23m021-iit-madras/MA23M021_A1_Q8_MSE/runs/cfnvlf8m</a><br> View project at: <a href='https://wandb.ai/ma23m021-iit-madras/MA23M021_A1_Q8_MSE' target=\"_blank\">https://wandb.ai/ma23m021-iit-madras/MA23M021_A1_Q8_MSE</a><br>Synced 5 W&B file(s), 0 media file(s), 0 artifact file(s) and 0 other file(s)"
            ]
          },
          "metadata": {}
        },
        {
          "output_type": "display_data",
          "data": {
            "text/plain": [
              "<IPython.core.display.HTML object>"
            ],
            "text/html": [
              "Find logs at: <code>./wandb/run-20250309_162036-cfnvlf8m/logs</code>"
            ]
          },
          "metadata": {}
        }
      ]
    },
    {
      "cell_type": "code",
      "source": [],
      "metadata": {
        "id": "C7vD_9zTEGg0"
      },
      "execution_count": null,
      "outputs": []
    }
  ]
}